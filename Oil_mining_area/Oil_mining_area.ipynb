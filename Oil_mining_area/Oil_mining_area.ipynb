{
 "cells": [
  {
   "cell_type": "markdown",
   "metadata": {
    "toc": true
   },
   "source": [
    "<h1>Table of Contents<span class=\"tocSkip\"></span></h1>\n",
    "<div class=\"toc\"><ul class=\"toc-item\"><li><span><a href=\"#Загрузка-и-подготовка-данных\" data-toc-modified-id=\"Загрузка-и-подготовка-данных-1\"><span class=\"toc-item-num\">1&nbsp;&nbsp;</span>Загрузка и подготовка данных</a></span><ul class=\"toc-item\"><li><span><a href=\"#df1\" data-toc-modified-id=\"df1-1.1\"><span class=\"toc-item-num\">1.1&nbsp;&nbsp;</span>df1</a></span></li><li><span><a href=\"#df2\" data-toc-modified-id=\"df2-1.2\"><span class=\"toc-item-num\">1.2&nbsp;&nbsp;</span>df2</a></span></li><li><span><a href=\"#df3\" data-toc-modified-id=\"df3-1.3\"><span class=\"toc-item-num\">1.3&nbsp;&nbsp;</span>df3</a></span></li><li><span><a href=\"#Вывод\" data-toc-modified-id=\"Вывод-1.4\"><span class=\"toc-item-num\">1.4&nbsp;&nbsp;</span>Вывод</a></span></li></ul></li><li><span><a href=\"#Обучение-и-проверка-модели\" data-toc-modified-id=\"Обучение-и-проверка-модели-2\"><span class=\"toc-item-num\">2&nbsp;&nbsp;</span>Обучение и проверка модели</a></span><ul class=\"toc-item\"><li><span><a href=\"#Подготовка\" data-toc-modified-id=\"Подготовка-2.1\"><span class=\"toc-item-num\">2.1&nbsp;&nbsp;</span>Подготовка</a></span><ul class=\"toc-item\"><li><span><a href=\"#Корреляции\" data-toc-modified-id=\"Корреляции-2.1.1\"><span class=\"toc-item-num\">2.1.1&nbsp;&nbsp;</span>Корреляции</a></span></li><li><span><a href=\"#Разделение-выборок\" data-toc-modified-id=\"Разделение-выборок-2.1.2\"><span class=\"toc-item-num\">2.1.2&nbsp;&nbsp;</span>Разделение выборок</a></span></li><li><span><a href=\"#Функция-для-обучения-и-проверки-моделей\" data-toc-modified-id=\"Функция-для-обучения-и-проверки-моделей-2.1.3\"><span class=\"toc-item-num\">2.1.3&nbsp;&nbsp;</span>Функция для обучения и проверки моделей</a></span></li></ul></li><li><span><a href=\"#Регион-1\" data-toc-modified-id=\"Регион-1-2.2\"><span class=\"toc-item-num\">2.2&nbsp;&nbsp;</span>Регион 1</a></span></li><li><span><a href=\"#Регион-2\" data-toc-modified-id=\"Регион-2-2.3\"><span class=\"toc-item-num\">2.3&nbsp;&nbsp;</span>Регион 2</a></span></li><li><span><a href=\"#Регион-3\" data-toc-modified-id=\"Регион-3-2.4\"><span class=\"toc-item-num\">2.4&nbsp;&nbsp;</span>Регион 3</a></span></li><li><span><a href=\"#Вывод\" data-toc-modified-id=\"Вывод-2.5\"><span class=\"toc-item-num\">2.5&nbsp;&nbsp;</span>Вывод</a></span></li></ul></li><li><span><a href=\"#Подготовка-к-расчёту-прибыли\" data-toc-modified-id=\"Подготовка-к-расчёту-прибыли-3\"><span class=\"toc-item-num\">3&nbsp;&nbsp;</span>Подготовка к расчёту прибыли</a></span></li><li><span><a href=\"#Расчёт-прибыли-и-рисков\" data-toc-modified-id=\"Расчёт-прибыли-и-рисков-4\"><span class=\"toc-item-num\">4&nbsp;&nbsp;</span>Расчёт прибыли и рисков</a></span><ul class=\"toc-item\"><li><span><a href=\"#Вывод\" data-toc-modified-id=\"Вывод-4.1\"><span class=\"toc-item-num\">4.1&nbsp;&nbsp;</span>Вывод</a></span></li></ul></li><li><span><a href=\"#Вывод\" data-toc-modified-id=\"Вывод-5\"><span class=\"toc-item-num\">5&nbsp;&nbsp;</span>Вывод</a></span></li></ul></div>"
   ]
  },
  {
   "cell_type": "markdown",
   "metadata": {},
   "source": [
    "# Выбор локации для скважины"
   ]
  },
  {
   "cell_type": "markdown",
   "metadata": {},
   "source": [
    "Допустим, мы работаем в добывающей компании «ГлавРосГосНефть». Нужно решить, где бурить новую скважину.\n",
    "\n",
    "Нам предоставлены пробы нефти в трёх регионах: в каждом 10 000 месторождений, где измерили качество нефти и объём её запасов. Нужно построить модель машинного обучения, которая поможет определить регион, где добыча принесёт наибольшую прибыль. Проанализируем возможную прибыль и риски техникой *Bootstrap*\n",
    "\n",
    "Шаги для выбора локации:\n",
    "\n",
    "- В избранном регионе ищем месторождения, для каждого определяем значения признаков\n",
    "- Строим модель и оцениваем объём запасов\n",
    "- Выбираем месторождения с самым высокими оценками значений. Количество месторождений зависит от бюджета компании и стоимости разработки одной скважины\n",
    "- Прибыль равна суммарной прибыли отобранных месторождений"
   ]
  },
  {
   "cell_type": "markdown",
   "metadata": {},
   "source": [
    "Условия задачи:\n",
    "\n",
    "- Для обучения модели подходит только **линейная регрессия** (остальные — недостаточно предсказуемые).\n",
    "- При разведке региона исследуют *500* точек, из которых с помощью машинного обучения выбирают **200 лучших для разработки**.\n",
    "- Бюджет на разработку скважин в регионе — **10 млрд рублей**.\n",
    "- При нынешних ценах один баррель сырья приносит 450 рублей дохода. Доход с каждой единицы продукта составляет **450 тыс. рублей**, поскольку объём указан в тысячах баррелей.\n",
    "- После оценки рисков нужно оставить лишь те регионы, в которых вероятность убытков меньше **2.5%**. Среди них выбирают регион с наибольшей средней прибылью.\n",
    "- **Данные синтетические**: детали контрактов и характеристики месторождений не разглашаются."
   ]
  },
  {
   "cell_type": "markdown",
   "metadata": {},
   "source": [
    "## Загрузка и подготовка данных"
   ]
  },
  {
   "cell_type": "markdown",
   "metadata": {},
   "source": [
    "Загрузка библиотек"
   ]
  },
  {
   "cell_type": "code",
   "execution_count": 17,
   "metadata": {},
   "outputs": [],
   "source": [
    "import pandas as pd\n",
    "import numpy as np\n",
    "\n",
    "import matplotlib.pyplot as plt\n",
    "import seaborn as sns\n",
    "\n",
    "from scipy import stats as st\n",
    "\n",
    "from sklearn.linear_model import LinearRegression\n",
    "from sklearn.model_selection import train_test_split, KFold, cross_val_score\n",
    "from sklearn.metrics import mean_squared_error as mse\n",
    "\n",
    "! pip install phik --quiet\n",
    "import phik"
   ]
  },
  {
   "cell_type": "markdown",
   "metadata": {},
   "source": [
    "Загрузка данных"
   ]
  },
  {
   "cell_type": "code",
   "execution_count": 19,
   "metadata": {},
   "outputs": [
    {
     "data": {
      "text/html": [
       "<div>\n",
       "<style scoped>\n",
       "    .dataframe tbody tr th:only-of-type {\n",
       "        vertical-align: middle;\n",
       "    }\n",
       "\n",
       "    .dataframe tbody tr th {\n",
       "        vertical-align: top;\n",
       "    }\n",
       "\n",
       "    .dataframe thead th {\n",
       "        text-align: right;\n",
       "    }\n",
       "</style>\n",
       "<table border=\"1\" class=\"dataframe\">\n",
       "  <thead>\n",
       "    <tr style=\"text-align: right;\">\n",
       "      <th></th>\n",
       "      <th>id</th>\n",
       "      <th>f0</th>\n",
       "      <th>f1</th>\n",
       "      <th>f2</th>\n",
       "      <th>product</th>\n",
       "    </tr>\n",
       "  </thead>\n",
       "  <tbody>\n",
       "    <tr>\n",
       "      <th>31573</th>\n",
       "      <td>6kFTb</td>\n",
       "      <td>2.144387</td>\n",
       "      <td>0.374434</td>\n",
       "      <td>6.525605</td>\n",
       "      <td>121.408379</td>\n",
       "    </tr>\n",
       "    <tr>\n",
       "      <th>99897</th>\n",
       "      <td>Y98t4</td>\n",
       "      <td>1.865897</td>\n",
       "      <td>-0.044328</td>\n",
       "      <td>3.642282</td>\n",
       "      <td>122.061021</td>\n",
       "    </tr>\n",
       "    <tr>\n",
       "      <th>91046</th>\n",
       "      <td>jbKpP</td>\n",
       "      <td>-0.183473</td>\n",
       "      <td>0.939895</td>\n",
       "      <td>2.548615</td>\n",
       "      <td>131.362796</td>\n",
       "    </tr>\n",
       "    <tr>\n",
       "      <th>76819</th>\n",
       "      <td>80s8K</td>\n",
       "      <td>0.039083</td>\n",
       "      <td>0.172330</td>\n",
       "      <td>4.122565</td>\n",
       "      <td>133.975836</td>\n",
       "    </tr>\n",
       "    <tr>\n",
       "      <th>96704</th>\n",
       "      <td>n2X7c</td>\n",
       "      <td>-0.687932</td>\n",
       "      <td>0.296539</td>\n",
       "      <td>1.858542</td>\n",
       "      <td>54.971689</td>\n",
       "    </tr>\n",
       "  </tbody>\n",
       "</table>\n",
       "</div>"
      ],
      "text/plain": [
       "          id        f0        f1        f2     product\n",
       "31573  6kFTb  2.144387  0.374434  6.525605  121.408379\n",
       "99897  Y98t4  1.865897 -0.044328  3.642282  122.061021\n",
       "91046  jbKpP -0.183473  0.939895  2.548615  131.362796\n",
       "76819  80s8K  0.039083  0.172330  4.122565  133.975836\n",
       "96704  n2X7c -0.687932  0.296539  1.858542   54.971689"
      ]
     },
     "metadata": {},
     "output_type": "display_data"
    },
    {
     "data": {
      "text/html": [
       "<div>\n",
       "<style scoped>\n",
       "    .dataframe tbody tr th:only-of-type {\n",
       "        vertical-align: middle;\n",
       "    }\n",
       "\n",
       "    .dataframe tbody tr th {\n",
       "        vertical-align: top;\n",
       "    }\n",
       "\n",
       "    .dataframe thead th {\n",
       "        text-align: right;\n",
       "    }\n",
       "</style>\n",
       "<table border=\"1\" class=\"dataframe\">\n",
       "  <thead>\n",
       "    <tr style=\"text-align: right;\">\n",
       "      <th></th>\n",
       "      <th>id</th>\n",
       "      <th>f0</th>\n",
       "      <th>f1</th>\n",
       "      <th>f2</th>\n",
       "      <th>product</th>\n",
       "    </tr>\n",
       "  </thead>\n",
       "  <tbody>\n",
       "    <tr>\n",
       "      <th>46743</th>\n",
       "      <td>K9f94</td>\n",
       "      <td>-9.726940</td>\n",
       "      <td>-2.514932</td>\n",
       "      <td>-0.000098</td>\n",
       "      <td>3.179103</td>\n",
       "    </tr>\n",
       "    <tr>\n",
       "      <th>98463</th>\n",
       "      <td>pnIQj</td>\n",
       "      <td>8.352351</td>\n",
       "      <td>-7.382591</td>\n",
       "      <td>4.989282</td>\n",
       "      <td>134.766305</td>\n",
       "    </tr>\n",
       "    <tr>\n",
       "      <th>63761</th>\n",
       "      <td>6ldQV</td>\n",
       "      <td>-8.194551</td>\n",
       "      <td>-10.382706</td>\n",
       "      <td>2.001182</td>\n",
       "      <td>57.085625</td>\n",
       "    </tr>\n",
       "    <tr>\n",
       "      <th>81361</th>\n",
       "      <td>5ygy8</td>\n",
       "      <td>-2.949023</td>\n",
       "      <td>-5.104208</td>\n",
       "      <td>0.998279</td>\n",
       "      <td>30.132364</td>\n",
       "    </tr>\n",
       "    <tr>\n",
       "      <th>30281</th>\n",
       "      <td>Cw4by</td>\n",
       "      <td>6.031755</td>\n",
       "      <td>-2.689831</td>\n",
       "      <td>0.994601</td>\n",
       "      <td>26.953261</td>\n",
       "    </tr>\n",
       "  </tbody>\n",
       "</table>\n",
       "</div>"
      ],
      "text/plain": [
       "          id        f0         f1        f2     product\n",
       "46743  K9f94 -9.726940  -2.514932 -0.000098    3.179103\n",
       "98463  pnIQj  8.352351  -7.382591  4.989282  134.766305\n",
       "63761  6ldQV -8.194551 -10.382706  2.001182   57.085625\n",
       "81361  5ygy8 -2.949023  -5.104208  0.998279   30.132364\n",
       "30281  Cw4by  6.031755  -2.689831  0.994601   26.953261"
      ]
     },
     "metadata": {},
     "output_type": "display_data"
    },
    {
     "data": {
      "text/html": [
       "<div>\n",
       "<style scoped>\n",
       "    .dataframe tbody tr th:only-of-type {\n",
       "        vertical-align: middle;\n",
       "    }\n",
       "\n",
       "    .dataframe tbody tr th {\n",
       "        vertical-align: top;\n",
       "    }\n",
       "\n",
       "    .dataframe thead th {\n",
       "        text-align: right;\n",
       "    }\n",
       "</style>\n",
       "<table border=\"1\" class=\"dataframe\">\n",
       "  <thead>\n",
       "    <tr style=\"text-align: right;\">\n",
       "      <th></th>\n",
       "      <th>id</th>\n",
       "      <th>f0</th>\n",
       "      <th>f1</th>\n",
       "      <th>f2</th>\n",
       "      <th>product</th>\n",
       "    </tr>\n",
       "  </thead>\n",
       "  <tbody>\n",
       "    <tr>\n",
       "      <th>85258</th>\n",
       "      <td>iQpZL</td>\n",
       "      <td>0.365876</td>\n",
       "      <td>-1.111774</td>\n",
       "      <td>-0.170552</td>\n",
       "      <td>53.762247</td>\n",
       "    </tr>\n",
       "    <tr>\n",
       "      <th>69694</th>\n",
       "      <td>PlaGG</td>\n",
       "      <td>-0.678590</td>\n",
       "      <td>0.977324</td>\n",
       "      <td>2.854703</td>\n",
       "      <td>61.625026</td>\n",
       "    </tr>\n",
       "    <tr>\n",
       "      <th>44291</th>\n",
       "      <td>Q0vHX</td>\n",
       "      <td>2.673119</td>\n",
       "      <td>0.360733</td>\n",
       "      <td>7.657677</td>\n",
       "      <td>170.780437</td>\n",
       "    </tr>\n",
       "    <tr>\n",
       "      <th>44632</th>\n",
       "      <td>YEct3</td>\n",
       "      <td>0.166914</td>\n",
       "      <td>0.664194</td>\n",
       "      <td>9.158286</td>\n",
       "      <td>98.067092</td>\n",
       "    </tr>\n",
       "    <tr>\n",
       "      <th>4793</th>\n",
       "      <td>qc3IS</td>\n",
       "      <td>-1.954025</td>\n",
       "      <td>-1.020737</td>\n",
       "      <td>4.623144</td>\n",
       "      <td>68.587147</td>\n",
       "    </tr>\n",
       "  </tbody>\n",
       "</table>\n",
       "</div>"
      ],
      "text/plain": [
       "          id        f0        f1        f2     product\n",
       "85258  iQpZL  0.365876 -1.111774 -0.170552   53.762247\n",
       "69694  PlaGG -0.678590  0.977324  2.854703   61.625026\n",
       "44291  Q0vHX  2.673119  0.360733  7.657677  170.780437\n",
       "44632  YEct3  0.166914  0.664194  9.158286   98.067092\n",
       "4793   qc3IS -1.954025 -1.020737  4.623144   68.587147"
      ]
     },
     "metadata": {},
     "output_type": "display_data"
    }
   ],
   "source": [
    "display(df1.sample(5))\n",
    "display(df2.sample(5))\n",
    "display(df3.sample(5))"
   ]
  },
  {
   "cell_type": "markdown",
   "metadata": {},
   "source": [
    "- `id` — уникальный идентификатор скважины;\n",
    "- `f0, f1, f2` — три признака точек (неважно, что они означают, но сами признаки значимы);\n",
    "- `product` — объём запасов в скважине (тыс. баррелей).\n",
    "\n",
    "Сразу можно сделать вывод, что столбец `id` не дас эффекта при обучении модели, его нужно будет удалить"
   ]
  },
  {
   "cell_type": "markdown",
   "metadata": {},
   "source": [
    "Тк в рамках проекта одинаковым образом будем исследовать 3 отдельных набора данных имеет смысл использовать функции, объединяющие повторяющиеся действия. Тут и начнем\n",
    "\n",
    "И начнем с классов для более удобного отображения текстовых данных"
   ]
  },
  {
   "cell_type": "code",
   "execution_count": 20,
   "metadata": {},
   "outputs": [],
   "source": [
    "class colors:\n",
    "    HEADER = '\\033[95m'\n",
    "    BLUE = '\\033[94m'\n",
    "    CYAN = '\\033[96m'\n",
    "    GREEN = '\\033[92m'\n",
    "    WARNING = '\\033[93m'\n",
    "    FAIL = '\\033[91m'\n",
    "    ENDC = '\\033[0m'\n",
    "    BOLD = '\\033[1m'\n",
    "    UNDERLINE = '\\033[4m'"
   ]
  },
  {
   "cell_type": "markdown",
   "metadata": {},
   "source": [
    "И переходим к функции для обзора данных"
   ]
  },
  {
   "cell_type": "code",
   "execution_count": 21,
   "metadata": {},
   "outputs": [],
   "source": [
    "def data_overview (df):\n",
    "    print(colors.BOLD + 'Dataset info' + colors.ENDC)\n",
    "    print(df.info())\n",
    "    print()\n",
    "    \n",
    "    print(colors.BOLD + 'Duplicates:' + colors.ENDC)\n",
    "    print('Count:', df.duplicated().sum())\n",
    "    print('Percent:', df.duplicated().sum()/len(df))\n",
    "    print()\n",
    "    \n",
    "    print(colors.BOLD + \"NaN's\" + colors.ENDC)\n",
    "    display(pd.concat([df.isna().sum().rename('nan_count'), \n",
    "                   df.isna().mean().rename('nan_percent'),\n",
    "                   df.nunique().rename('unique_values')], \n",
    "                  axis=1))\n",
    "    print()\n",
    "    \n",
    "    print(colors.BOLD + 'Numeric cols description' + colors.ENDC)\n",
    "    print(df.describe())\n",
    "    df.hist(bins=50, figsize=(19,10))\n",
    "    #plt.show()"
   ]
  },
  {
   "cell_type": "markdown",
   "metadata": {},
   "source": [
    "### df1"
   ]
  },
  {
   "cell_type": "code",
   "execution_count": 22,
   "metadata": {
    "scrolled": false
   },
   "outputs": [
    {
     "name": "stdout",
     "output_type": "stream",
     "text": [
      "\u001b[1mDataset info\u001b[0m\n",
      "<class 'pandas.core.frame.DataFrame'>\n",
      "RangeIndex: 100000 entries, 0 to 99999\n",
      "Data columns (total 5 columns):\n",
      " #   Column   Non-Null Count   Dtype  \n",
      "---  ------   --------------   -----  \n",
      " 0   id       100000 non-null  object \n",
      " 1   f0       100000 non-null  float64\n",
      " 2   f1       100000 non-null  float64\n",
      " 3   f2       100000 non-null  float64\n",
      " 4   product  100000 non-null  float64\n",
      "dtypes: float64(4), object(1)\n",
      "memory usage: 3.8+ MB\n",
      "None\n",
      "\n",
      "\u001b[1mDuplicates:\u001b[0m\n",
      "Count: 0\n",
      "Percent: 0.0\n",
      "\n",
      "\u001b[1mNaN's\u001b[0m\n"
     ]
    },
    {
     "data": {
      "text/html": [
       "<div>\n",
       "<style scoped>\n",
       "    .dataframe tbody tr th:only-of-type {\n",
       "        vertical-align: middle;\n",
       "    }\n",
       "\n",
       "    .dataframe tbody tr th {\n",
       "        vertical-align: top;\n",
       "    }\n",
       "\n",
       "    .dataframe thead th {\n",
       "        text-align: right;\n",
       "    }\n",
       "</style>\n",
       "<table border=\"1\" class=\"dataframe\">\n",
       "  <thead>\n",
       "    <tr style=\"text-align: right;\">\n",
       "      <th></th>\n",
       "      <th>nan_count</th>\n",
       "      <th>nan_percent</th>\n",
       "      <th>unique_values</th>\n",
       "    </tr>\n",
       "  </thead>\n",
       "  <tbody>\n",
       "    <tr>\n",
       "      <th>id</th>\n",
       "      <td>0</td>\n",
       "      <td>0.0</td>\n",
       "      <td>99990</td>\n",
       "    </tr>\n",
       "    <tr>\n",
       "      <th>f0</th>\n",
       "      <td>0</td>\n",
       "      <td>0.0</td>\n",
       "      <td>100000</td>\n",
       "    </tr>\n",
       "    <tr>\n",
       "      <th>f1</th>\n",
       "      <td>0</td>\n",
       "      <td>0.0</td>\n",
       "      <td>100000</td>\n",
       "    </tr>\n",
       "    <tr>\n",
       "      <th>f2</th>\n",
       "      <td>0</td>\n",
       "      <td>0.0</td>\n",
       "      <td>100000</td>\n",
       "    </tr>\n",
       "    <tr>\n",
       "      <th>product</th>\n",
       "      <td>0</td>\n",
       "      <td>0.0</td>\n",
       "      <td>100000</td>\n",
       "    </tr>\n",
       "  </tbody>\n",
       "</table>\n",
       "</div>"
      ],
      "text/plain": [
       "         nan_count  nan_percent  unique_values\n",
       "id               0          0.0          99990\n",
       "f0               0          0.0         100000\n",
       "f1               0          0.0         100000\n",
       "f2               0          0.0         100000\n",
       "product          0          0.0         100000"
      ]
     },
     "metadata": {},
     "output_type": "display_data"
    },
    {
     "name": "stdout",
     "output_type": "stream",
     "text": [
      "\n",
      "\u001b[1mNumeric cols description\u001b[0m\n",
      "                  f0             f1             f2        product\n",
      "count  100000.000000  100000.000000  100000.000000  100000.000000\n",
      "mean        0.500419       0.250143       2.502647      92.500000\n",
      "std         0.871832       0.504433       3.248248      44.288691\n",
      "min        -1.408605      -0.848218     -12.088328       0.000000\n",
      "25%        -0.072580      -0.200881       0.287748      56.497507\n",
      "50%         0.502360       0.250252       2.515969      91.849972\n",
      "75%         1.073581       0.700646       4.715088     128.564089\n",
      "max         2.362331       1.343769      16.003790     185.364347\n"
     ]
    },
    {
     "data": {
      "image/png": "[encoded data removed]",
      "text/plain": [
       "<Figure size 1368x720 with 4 Axes>"
      ]
     },
     "metadata": {
      "needs_background": "light"
     },
     "output_type": "display_data"
    }
   ],
   "source": [
    "data_overview(df1)"
   ]
  },
  {
   "cell_type": "markdown",
   "metadata": {},
   "source": [
    "- Явные проблемы в данных отсутствуют\n",
    "- Есть неуникальные значения в `id`, нужно проверить\n",
    "- Пропуски отсутствуют, как и выбросы\n",
    "- Возможно данные были предобработаны до нас"
   ]
  },
  {
   "cell_type": "markdown",
   "metadata": {},
   "source": [
    "Посмотрим на строки с неуникальными `id`"
   ]
  },
  {
   "cell_type": "code",
   "execution_count": 23,
   "metadata": {},
   "outputs": [
    {
     "data": {
      "text/html": [
       "<div>\n",
       "<style scoped>\n",
       "    .dataframe tbody tr th:only-of-type {\n",
       "        vertical-align: middle;\n",
       "    }\n",
       "\n",
       "    .dataframe tbody tr th {\n",
       "        vertical-align: top;\n",
       "    }\n",
       "\n",
       "    .dataframe thead th {\n",
       "        text-align: right;\n",
       "    }\n",
       "</style>\n",
       "<table border=\"1\" class=\"dataframe\">\n",
       "  <thead>\n",
       "    <tr style=\"text-align: right;\">\n",
       "      <th></th>\n",
       "      <th>id</th>\n",
       "      <th>f0</th>\n",
       "      <th>f1</th>\n",
       "      <th>f2</th>\n",
       "      <th>product</th>\n",
       "    </tr>\n",
       "  </thead>\n",
       "  <tbody>\n",
       "    <tr>\n",
       "      <th>66136</th>\n",
       "      <td>74z30</td>\n",
       "      <td>1.084962</td>\n",
       "      <td>-0.312358</td>\n",
       "      <td>6.990771</td>\n",
       "      <td>127.643327</td>\n",
       "    </tr>\n",
       "    <tr>\n",
       "      <th>64022</th>\n",
       "      <td>74z30</td>\n",
       "      <td>0.741456</td>\n",
       "      <td>0.459229</td>\n",
       "      <td>5.153109</td>\n",
       "      <td>140.771492</td>\n",
       "    </tr>\n",
       "    <tr>\n",
       "      <th>51970</th>\n",
       "      <td>A5aEY</td>\n",
       "      <td>-0.180335</td>\n",
       "      <td>0.935548</td>\n",
       "      <td>-2.094773</td>\n",
       "      <td>33.020205</td>\n",
       "    </tr>\n",
       "    <tr>\n",
       "      <th>3389</th>\n",
       "      <td>A5aEY</td>\n",
       "      <td>-0.039949</td>\n",
       "      <td>0.156872</td>\n",
       "      <td>0.209861</td>\n",
       "      <td>89.249364</td>\n",
       "    </tr>\n",
       "    <tr>\n",
       "      <th>69163</th>\n",
       "      <td>AGS9W</td>\n",
       "      <td>-0.933795</td>\n",
       "      <td>0.116194</td>\n",
       "      <td>-3.655896</td>\n",
       "      <td>19.230453</td>\n",
       "    </tr>\n",
       "    <tr>\n",
       "      <th>42529</th>\n",
       "      <td>AGS9W</td>\n",
       "      <td>1.454747</td>\n",
       "      <td>-0.479651</td>\n",
       "      <td>0.683380</td>\n",
       "      <td>126.370504</td>\n",
       "    </tr>\n",
       "    <tr>\n",
       "      <th>931</th>\n",
       "      <td>HZww2</td>\n",
       "      <td>0.755284</td>\n",
       "      <td>0.368511</td>\n",
       "      <td>1.863211</td>\n",
       "      <td>30.681774</td>\n",
       "    </tr>\n",
       "    <tr>\n",
       "      <th>7530</th>\n",
       "      <td>HZww2</td>\n",
       "      <td>1.061194</td>\n",
       "      <td>-0.373969</td>\n",
       "      <td>10.430210</td>\n",
       "      <td>158.828695</td>\n",
       "    </tr>\n",
       "    <tr>\n",
       "      <th>63593</th>\n",
       "      <td>QcMuo</td>\n",
       "      <td>0.635635</td>\n",
       "      <td>-0.473422</td>\n",
       "      <td>0.862670</td>\n",
       "      <td>64.578675</td>\n",
       "    </tr>\n",
       "    <tr>\n",
       "      <th>1949</th>\n",
       "      <td>QcMuo</td>\n",
       "      <td>0.506563</td>\n",
       "      <td>-0.323775</td>\n",
       "      <td>-2.215583</td>\n",
       "      <td>75.496502</td>\n",
       "    </tr>\n",
       "    <tr>\n",
       "      <th>75715</th>\n",
       "      <td>Tdehs</td>\n",
       "      <td>0.112079</td>\n",
       "      <td>0.430296</td>\n",
       "      <td>3.218993</td>\n",
       "      <td>60.964018</td>\n",
       "    </tr>\n",
       "    <tr>\n",
       "      <th>21426</th>\n",
       "      <td>Tdehs</td>\n",
       "      <td>0.829407</td>\n",
       "      <td>0.298807</td>\n",
       "      <td>-0.049563</td>\n",
       "      <td>96.035308</td>\n",
       "    </tr>\n",
       "    <tr>\n",
       "      <th>92341</th>\n",
       "      <td>TtcGQ</td>\n",
       "      <td>0.110711</td>\n",
       "      <td>1.022689</td>\n",
       "      <td>0.911381</td>\n",
       "      <td>101.318008</td>\n",
       "    </tr>\n",
       "    <tr>\n",
       "      <th>60140</th>\n",
       "      <td>TtcGQ</td>\n",
       "      <td>0.569276</td>\n",
       "      <td>-0.104876</td>\n",
       "      <td>6.440215</td>\n",
       "      <td>85.350186</td>\n",
       "    </tr>\n",
       "    <tr>\n",
       "      <th>89582</th>\n",
       "      <td>bsk9y</td>\n",
       "      <td>0.398908</td>\n",
       "      <td>-0.400253</td>\n",
       "      <td>10.122376</td>\n",
       "      <td>163.433078</td>\n",
       "    </tr>\n",
       "    <tr>\n",
       "      <th>97785</th>\n",
       "      <td>bsk9y</td>\n",
       "      <td>0.378429</td>\n",
       "      <td>0.005837</td>\n",
       "      <td>0.160827</td>\n",
       "      <td>160.637302</td>\n",
       "    </tr>\n",
       "    <tr>\n",
       "      <th>41724</th>\n",
       "      <td>bxg6G</td>\n",
       "      <td>-0.823752</td>\n",
       "      <td>0.546319</td>\n",
       "      <td>3.630479</td>\n",
       "      <td>93.007798</td>\n",
       "    </tr>\n",
       "    <tr>\n",
       "      <th>1364</th>\n",
       "      <td>bxg6G</td>\n",
       "      <td>0.411645</td>\n",
       "      <td>0.856830</td>\n",
       "      <td>-3.653440</td>\n",
       "      <td>73.604260</td>\n",
       "    </tr>\n",
       "    <tr>\n",
       "      <th>16633</th>\n",
       "      <td>fiKDv</td>\n",
       "      <td>0.157341</td>\n",
       "      <td>1.028359</td>\n",
       "      <td>5.585586</td>\n",
       "      <td>95.817889</td>\n",
       "    </tr>\n",
       "    <tr>\n",
       "      <th>90815</th>\n",
       "      <td>fiKDv</td>\n",
       "      <td>0.049883</td>\n",
       "      <td>0.841313</td>\n",
       "      <td>6.394613</td>\n",
       "      <td>137.346586</td>\n",
       "    </tr>\n",
       "  </tbody>\n",
       "</table>\n",
       "</div>"
      ],
      "text/plain": [
       "          id        f0        f1         f2     product\n",
       "66136  74z30  1.084962 -0.312358   6.990771  127.643327\n",
       "64022  74z30  0.741456  0.459229   5.153109  140.771492\n",
       "51970  A5aEY -0.180335  0.935548  -2.094773   33.020205\n",
       "3389   A5aEY -0.039949  0.156872   0.209861   89.249364\n",
       "69163  AGS9W -0.933795  0.116194  -3.655896   19.230453\n",
       "42529  AGS9W  1.454747 -0.479651   0.683380  126.370504\n",
       "931    HZww2  0.755284  0.368511   1.863211   30.681774\n",
       "7530   HZww2  1.061194 -0.373969  10.430210  158.828695\n",
       "63593  QcMuo  0.635635 -0.473422   0.862670   64.578675\n",
       "1949   QcMuo  0.506563 -0.323775  -2.215583   75.496502\n",
       "75715  Tdehs  0.112079  0.430296   3.218993   60.964018\n",
       "21426  Tdehs  0.829407  0.298807  -0.049563   96.035308\n",
       "92341  TtcGQ  0.110711  1.022689   0.911381  101.318008\n",
       "60140  TtcGQ  0.569276 -0.104876   6.440215   85.350186\n",
       "89582  bsk9y  0.398908 -0.400253  10.122376  163.433078\n",
       "97785  bsk9y  0.378429  0.005837   0.160827  160.637302\n",
       "41724  bxg6G -0.823752  0.546319   3.630479   93.007798\n",
       "1364   bxg6G  0.411645  0.856830  -3.653440   73.604260\n",
       "16633  fiKDv  0.157341  1.028359   5.585586   95.817889\n",
       "90815  fiKDv  0.049883  0.841313   6.394613  137.346586"
      ]
     },
     "metadata": {},
     "output_type": "display_data"
    },
    {
     "name": "stdout",
     "output_type": "stream",
     "text": [
      "\u001b[1mUnunique id rows:\u001b[0m 20\n"
     ]
    }
   ],
   "source": [
    "mult_ids = df1[df1.duplicated('id')]['id'].unique()\n",
    "t = df1.query('id in @mult_ids').sort_values('id')\n",
    "display(t)\n",
    "print(colors.BOLD + 'Ununique id rows:' + colors.ENDC, len(t))"
   ]
  },
  {
   "cell_type": "markdown",
   "metadata": {},
   "source": [
    "Нектороные `id` встречаются в датасете дважды и значения в строках с повторами отличаются. Причины появления повторов нам неизвестны, возможно это просто уточненные данные или ошибки при загрузках/выгрузках данных. Тк их ничтожно мало по сравнению  со всем датасетом просто избавимся от них"
   ]
  },
  {
   "cell_type": "code",
   "execution_count": 24,
   "metadata": {},
   "outputs": [
    {
     "name": "stdout",
     "output_type": "stream",
     "text": [
      "<class 'pandas.core.frame.DataFrame'>\n",
      "Int64Index: 99980 entries, 0 to 99999\n",
      "Data columns (total 5 columns):\n",
      " #   Column   Non-Null Count  Dtype  \n",
      "---  ------   --------------  -----  \n",
      " 0   id       99980 non-null  object \n",
      " 1   f0       99980 non-null  float64\n",
      " 2   f1       99980 non-null  float64\n",
      " 3   f2       99980 non-null  float64\n",
      " 4   product  99980 non-null  float64\n",
      "dtypes: float64(4), object(1)\n",
      "memory usage: 4.6+ MB\n"
     ]
    }
   ],
   "source": [
    "df1 = df1.loc[~df1['id'].isin(mult_ids)]\n",
    "df1.info()"
   ]
  },
  {
   "cell_type": "markdown",
   "metadata": {},
   "source": [
    "### df2"
   ]
  },
  {
   "cell_type": "code",
   "execution_count": 25,
   "metadata": {},
   "outputs": [
    {
     "name": "stdout",
     "output_type": "stream",
     "text": [
      "\u001b[1mDataset info\u001b[0m\n",
      "<class 'pandas.core.frame.DataFrame'>\n",
      "RangeIndex: 100000 entries, 0 to 99999\n",
      "Data columns (total 5 columns):\n",
      " #   Column   Non-Null Count   Dtype  \n",
      "---  ------   --------------   -----  \n",
      " 0   id       100000 non-null  object \n",
      " 1   f0       100000 non-null  float64\n",
      " 2   f1       100000 non-null  float64\n",
      " 3   f2       100000 non-null  float64\n",
      " 4   product  100000 non-null  float64\n",
      "dtypes: float64(4), object(1)\n",
      "memory usage: 3.8+ MB\n",
      "None\n",
      "\n",
      "\u001b[1mDuplicates:\u001b[0m\n",
      "Count: 0\n",
      "Percent: 0.0\n",
      "\n",
      "\u001b[1mNaN's\u001b[0m\n"
     ]
    },
    {
     "data": {
      "text/html": [
       "<div>\n",
       "<style scoped>\n",
       "    .dataframe tbody tr th:only-of-type {\n",
       "        vertical-align: middle;\n",
       "    }\n",
       "\n",
       "    .dataframe tbody tr th {\n",
       "        vertical-align: top;\n",
       "    }\n",
       "\n",
       "    .dataframe thead th {\n",
       "        text-align: right;\n",
       "    }\n",
       "</style>\n",
       "<table border=\"1\" class=\"dataframe\">\n",
       "  <thead>\n",
       "    <tr style=\"text-align: right;\">\n",
       "      <th></th>\n",
       "      <th>nan_count</th>\n",
       "      <th>nan_percent</th>\n",
       "      <th>unique_values</th>\n",
       "    </tr>\n",
       "  </thead>\n",
       "  <tbody>\n",
       "    <tr>\n",
       "      <th>id</th>\n",
       "      <td>0</td>\n",
       "      <td>0.0</td>\n",
       "      <td>99996</td>\n",
       "    </tr>\n",
       "    <tr>\n",
       "      <th>f0</th>\n",
       "      <td>0</td>\n",
       "      <td>0.0</td>\n",
       "      <td>100000</td>\n",
       "    </tr>\n",
       "    <tr>\n",
       "      <th>f1</th>\n",
       "      <td>0</td>\n",
       "      <td>0.0</td>\n",
       "      <td>100000</td>\n",
       "    </tr>\n",
       "    <tr>\n",
       "      <th>f2</th>\n",
       "      <td>0</td>\n",
       "      <td>0.0</td>\n",
       "      <td>100000</td>\n",
       "    </tr>\n",
       "    <tr>\n",
       "      <th>product</th>\n",
       "      <td>0</td>\n",
       "      <td>0.0</td>\n",
       "      <td>12</td>\n",
       "    </tr>\n",
       "  </tbody>\n",
       "</table>\n",
       "</div>"
      ],
      "text/plain": [
       "         nan_count  nan_percent  unique_values\n",
       "id               0          0.0          99996\n",
       "f0               0          0.0         100000\n",
       "f1               0          0.0         100000\n",
       "f2               0          0.0         100000\n",
       "product          0          0.0             12"
      ]
     },
     "metadata": {},
     "output_type": "display_data"
    },
    {
     "name": "stdout",
     "output_type": "stream",
     "text": [
      "\n",
      "\u001b[1mNumeric cols description\u001b[0m\n",
      "                  f0             f1             f2        product\n",
      "count  100000.000000  100000.000000  100000.000000  100000.000000\n",
      "mean        1.141296      -4.796579       2.494541      68.825000\n",
      "std         8.965932       5.119872       1.703572      45.944423\n",
      "min       -31.609576     -26.358598      -0.018144       0.000000\n",
      "25%        -6.298551      -8.267985       1.000021      26.953261\n",
      "50%         1.153055      -4.813172       2.011479      57.085625\n",
      "75%         8.621015      -1.332816       3.999904     107.813044\n",
      "max        29.421755      18.734063       5.019721     137.945408\n"
     ]
    },
    {
     "data": {
      "image/png": "[encoded data removed]",
      "text/plain": [
       "<Figure size 1368x720 with 4 Axes>"
      ]
     },
     "metadata": {
      "needs_background": "light"
     },
     "output_type": "display_data"
    }
   ],
   "source": [
    "data_overview(df2)"
   ]
  },
  {
   "cell_type": "markdown",
   "metadata": {},
   "source": [
    "- Явные проблемы в данных отсутствуют\n",
    "- Есть неуникальные значения в `id`, нужно проверить\n",
    "- Пропуски отсутствуют, как и выбросы\n",
    "- Признаки `f0,f1` распределены компактно, возможно были предварительно масштабированы\n",
    "- Признак `f2` - дискретный, как и значения в `product`"
   ]
  },
  {
   "cell_type": "markdown",
   "metadata": {},
   "source": [
    "Посмотрим на строки с неуникальными `id`"
   ]
  },
  {
   "cell_type": "code",
   "execution_count": 26,
   "metadata": {},
   "outputs": [
    {
     "data": {
      "text/html": [
       "<div>\n",
       "<style scoped>\n",
       "    .dataframe tbody tr th:only-of-type {\n",
       "        vertical-align: middle;\n",
       "    }\n",
       "\n",
       "    .dataframe tbody tr th {\n",
       "        vertical-align: top;\n",
       "    }\n",
       "\n",
       "    .dataframe thead th {\n",
       "        text-align: right;\n",
       "    }\n",
       "</style>\n",
       "<table border=\"1\" class=\"dataframe\">\n",
       "  <thead>\n",
       "    <tr style=\"text-align: right;\">\n",
       "      <th></th>\n",
       "      <th>id</th>\n",
       "      <th>f0</th>\n",
       "      <th>f1</th>\n",
       "      <th>f2</th>\n",
       "      <th>product</th>\n",
       "    </tr>\n",
       "  </thead>\n",
       "  <tbody>\n",
       "    <tr>\n",
       "      <th>5849</th>\n",
       "      <td>5ltQ6</td>\n",
       "      <td>-3.435401</td>\n",
       "      <td>-12.296043</td>\n",
       "      <td>1.999796</td>\n",
       "      <td>57.085625</td>\n",
       "    </tr>\n",
       "    <tr>\n",
       "      <th>84461</th>\n",
       "      <td>5ltQ6</td>\n",
       "      <td>18.213839</td>\n",
       "      <td>2.191999</td>\n",
       "      <td>3.993869</td>\n",
       "      <td>107.813044</td>\n",
       "    </tr>\n",
       "    <tr>\n",
       "      <th>1305</th>\n",
       "      <td>LHZR0</td>\n",
       "      <td>11.170835</td>\n",
       "      <td>-1.945066</td>\n",
       "      <td>3.002872</td>\n",
       "      <td>80.859783</td>\n",
       "    </tr>\n",
       "    <tr>\n",
       "      <th>41906</th>\n",
       "      <td>LHZR0</td>\n",
       "      <td>-8.989672</td>\n",
       "      <td>-4.286607</td>\n",
       "      <td>2.009139</td>\n",
       "      <td>57.085625</td>\n",
       "    </tr>\n",
       "    <tr>\n",
       "      <th>2721</th>\n",
       "      <td>bfPNe</td>\n",
       "      <td>-9.494442</td>\n",
       "      <td>-5.463692</td>\n",
       "      <td>4.006042</td>\n",
       "      <td>110.992147</td>\n",
       "    </tr>\n",
       "    <tr>\n",
       "      <th>82178</th>\n",
       "      <td>bfPNe</td>\n",
       "      <td>-6.202799</td>\n",
       "      <td>-4.820045</td>\n",
       "      <td>2.995107</td>\n",
       "      <td>84.038886</td>\n",
       "    </tr>\n",
       "    <tr>\n",
       "      <th>47591</th>\n",
       "      <td>wt4Uk</td>\n",
       "      <td>-9.091098</td>\n",
       "      <td>-8.109279</td>\n",
       "      <td>-0.002314</td>\n",
       "      <td>3.179103</td>\n",
       "    </tr>\n",
       "    <tr>\n",
       "      <th>82873</th>\n",
       "      <td>wt4Uk</td>\n",
       "      <td>10.259972</td>\n",
       "      <td>-9.376355</td>\n",
       "      <td>4.994297</td>\n",
       "      <td>134.766305</td>\n",
       "    </tr>\n",
       "  </tbody>\n",
       "</table>\n",
       "</div>"
      ],
      "text/plain": [
       "          id         f0         f1        f2     product\n",
       "5849   5ltQ6  -3.435401 -12.296043  1.999796   57.085625\n",
       "84461  5ltQ6  18.213839   2.191999  3.993869  107.813044\n",
       "1305   LHZR0  11.170835  -1.945066  3.002872   80.859783\n",
       "41906  LHZR0  -8.989672  -4.286607  2.009139   57.085625\n",
       "2721   bfPNe  -9.494442  -5.463692  4.006042  110.992147\n",
       "82178  bfPNe  -6.202799  -4.820045  2.995107   84.038886\n",
       "47591  wt4Uk  -9.091098  -8.109279 -0.002314    3.179103\n",
       "82873  wt4Uk  10.259972  -9.376355  4.994297  134.766305"
      ]
     },
     "metadata": {},
     "output_type": "display_data"
    },
    {
     "name": "stdout",
     "output_type": "stream",
     "text": [
      "\u001b[1mUnunique id rows:\u001b[0m 8\n"
     ]
    }
   ],
   "source": [
    "mult_ids = df2[df2.duplicated('id')]['id'].unique()\n",
    "t = df2.query('id in @mult_ids').sort_values('id')\n",
    "display(t)\n",
    "\n",
    "print(colors.BOLD + 'Ununique id rows:' + colors.ENDC, len(t))"
   ]
  },
  {
   "cell_type": "markdown",
   "metadata": {},
   "source": [
    "Поступим с ними так же как и для df1"
   ]
  },
  {
   "cell_type": "code",
   "execution_count": 27,
   "metadata": {
    "scrolled": true
   },
   "outputs": [
    {
     "name": "stdout",
     "output_type": "stream",
     "text": [
      "<class 'pandas.core.frame.DataFrame'>\n",
      "Int64Index: 99992 entries, 0 to 99999\n",
      "Data columns (total 5 columns):\n",
      " #   Column   Non-Null Count  Dtype  \n",
      "---  ------   --------------  -----  \n",
      " 0   id       99992 non-null  object \n",
      " 1   f0       99992 non-null  float64\n",
      " 2   f1       99992 non-null  float64\n",
      " 3   f2       99992 non-null  float64\n",
      " 4   product  99992 non-null  float64\n",
      "dtypes: float64(4), object(1)\n",
      "memory usage: 4.6+ MB\n"
     ]
    }
   ],
   "source": [
    "df2 = df2.loc[~df2['id'].isin(mult_ids)]\n",
    "df2.info()"
   ]
  },
  {
   "cell_type": "markdown",
   "metadata": {},
   "source": [
    "И вернемся к распределению значений в `product` и `f2`. Для рассмотрения возьмем `product`"
   ]
  },
  {
   "cell_type": "code",
   "execution_count": 28,
   "metadata": {},
   "outputs": [
    {
     "data": {
      "text/plain": [
       "53.906522     8472\n",
       "26.953261     8468\n",
       "84.038886     8430\n",
       "57.085625     8388\n",
       "3.179103      8336\n",
       "80.859783     8319\n",
       "30.132364     8306\n",
       "134.766305    8303\n",
       "110.992147    8302\n",
       "0.000000      8235\n",
       "137.945408    8233\n",
       "107.813044    8200\n",
       "Name: product, dtype: int64"
      ]
     },
     "execution_count": 28,
     "metadata": {},
     "output_type": "execute_result"
    }
   ],
   "source": [
    "df2['product'].value_counts()"
   ]
  },
  {
   "cell_type": "markdown",
   "metadata": {},
   "source": [
    "Значений получилось всего 12 и количество строк по каждому значению отличаются не более чем на 0,3% от общего размера выборки или 300 строк если считать \"value-to-value\"\n",
    "\n",
    "Это необычно, но учитывая, что предоставленные данные синтетические, возможно так и задумано. В учебных целях"
   ]
  },
  {
   "cell_type": "markdown",
   "metadata": {},
   "source": [
    "### df3"
   ]
  },
  {
   "cell_type": "code",
   "execution_count": 29,
   "metadata": {},
   "outputs": [
    {
     "name": "stdout",
     "output_type": "stream",
     "text": [
      "\u001b[1mDataset info\u001b[0m\n",
      "<class 'pandas.core.frame.DataFrame'>\n",
      "RangeIndex: 100000 entries, 0 to 99999\n",
      "Data columns (total 5 columns):\n",
      " #   Column   Non-Null Count   Dtype  \n",
      "---  ------   --------------   -----  \n",
      " 0   id       100000 non-null  object \n",
      " 1   f0       100000 non-null  float64\n",
      " 2   f1       100000 non-null  float64\n",
      " 3   f2       100000 non-null  float64\n",
      " 4   product  100000 non-null  float64\n",
      "dtypes: float64(4), object(1)\n",
      "memory usage: 3.8+ MB\n",
      "None\n",
      "\n",
      "\u001b[1mDuplicates:\u001b[0m\n",
      "Count: 0\n",
      "Percent: 0.0\n",
      "\n",
      "\u001b[1mNaN's\u001b[0m\n"
     ]
    },
    {
     "data": {
      "text/html": [
       "<div>\n",
       "<style scoped>\n",
       "    .dataframe tbody tr th:only-of-type {\n",
       "        vertical-align: middle;\n",
       "    }\n",
       "\n",
       "    .dataframe tbody tr th {\n",
       "        vertical-align: top;\n",
       "    }\n",
       "\n",
       "    .dataframe thead th {\n",
       "        text-align: right;\n",
       "    }\n",
       "</style>\n",
       "<table border=\"1\" class=\"dataframe\">\n",
       "  <thead>\n",
       "    <tr style=\"text-align: right;\">\n",
       "      <th></th>\n",
       "      <th>nan_count</th>\n",
       "      <th>nan_percent</th>\n",
       "      <th>unique_values</th>\n",
       "    </tr>\n",
       "  </thead>\n",
       "  <tbody>\n",
       "    <tr>\n",
       "      <th>id</th>\n",
       "      <td>0</td>\n",
       "      <td>0.0</td>\n",
       "      <td>99996</td>\n",
       "    </tr>\n",
       "    <tr>\n",
       "      <th>f0</th>\n",
       "      <td>0</td>\n",
       "      <td>0.0</td>\n",
       "      <td>100000</td>\n",
       "    </tr>\n",
       "    <tr>\n",
       "      <th>f1</th>\n",
       "      <td>0</td>\n",
       "      <td>0.0</td>\n",
       "      <td>100000</td>\n",
       "    </tr>\n",
       "    <tr>\n",
       "      <th>f2</th>\n",
       "      <td>0</td>\n",
       "      <td>0.0</td>\n",
       "      <td>100000</td>\n",
       "    </tr>\n",
       "    <tr>\n",
       "      <th>product</th>\n",
       "      <td>0</td>\n",
       "      <td>0.0</td>\n",
       "      <td>100000</td>\n",
       "    </tr>\n",
       "  </tbody>\n",
       "</table>\n",
       "</div>"
      ],
      "text/plain": [
       "         nan_count  nan_percent  unique_values\n",
       "id               0          0.0          99996\n",
       "f0               0          0.0         100000\n",
       "f1               0          0.0         100000\n",
       "f2               0          0.0         100000\n",
       "product          0          0.0         100000"
      ]
     },
     "metadata": {},
     "output_type": "display_data"
    },
    {
     "name": "stdout",
     "output_type": "stream",
     "text": [
      "\n",
      "\u001b[1mNumeric cols description\u001b[0m\n",
      "                  f0             f1             f2        product\n",
      "count  100000.000000  100000.000000  100000.000000  100000.000000\n",
      "mean        0.002023      -0.002081       2.495128      95.000000\n",
      "std         1.732045       1.730417       3.473445      44.749921\n",
      "min        -8.760004      -7.084020     -11.970335       0.000000\n",
      "25%        -1.162288      -1.174820       0.130359      59.450441\n",
      "50%         0.009424      -0.009482       2.484236      94.925613\n",
      "75%         1.158535       1.163678       4.858794     130.595027\n",
      "max         7.238262       7.844801      16.739402     190.029838\n"
     ]
    },
    {
     "data": {
      "image/png": "[encoded data removed]",
      "text/plain": [
       "<Figure size 1368x720 with 4 Axes>"
      ]
     },
     "metadata": {
      "needs_background": "light"
     },
     "output_type": "display_data"
    }
   ],
   "source": [
    "data_overview(df3)"
   ]
  },
  {
   "cell_type": "markdown",
   "metadata": {},
   "source": [
    "- Явные проблемы в данных отсутствуют\n",
    "- Есть неуникальные значения в `id`, нужно проверить\n",
    "- Пропуски отсутствуют, как и выбросы\n",
    "- Распределения признаков очень близки к нормальным"
   ]
  },
  {
   "cell_type": "markdown",
   "metadata": {},
   "source": [
    "Посмотрим на строки с неуникальными `id`"
   ]
  },
  {
   "cell_type": "code",
   "execution_count": 30,
   "metadata": {},
   "outputs": [
    {
     "data": {
      "text/html": [
       "<div>\n",
       "<style scoped>\n",
       "    .dataframe tbody tr th:only-of-type {\n",
       "        vertical-align: middle;\n",
       "    }\n",
       "\n",
       "    .dataframe tbody tr th {\n",
       "        vertical-align: top;\n",
       "    }\n",
       "\n",
       "    .dataframe thead th {\n",
       "        text-align: right;\n",
       "    }\n",
       "</style>\n",
       "<table border=\"1\" class=\"dataframe\">\n",
       "  <thead>\n",
       "    <tr style=\"text-align: right;\">\n",
       "      <th></th>\n",
       "      <th>id</th>\n",
       "      <th>f0</th>\n",
       "      <th>f1</th>\n",
       "      <th>f2</th>\n",
       "      <th>product</th>\n",
       "    </tr>\n",
       "  </thead>\n",
       "  <tbody>\n",
       "    <tr>\n",
       "      <th>45404</th>\n",
       "      <td>KUPhW</td>\n",
       "      <td>0.231846</td>\n",
       "      <td>-1.698941</td>\n",
       "      <td>4.990775</td>\n",
       "      <td>11.716299</td>\n",
       "    </tr>\n",
       "    <tr>\n",
       "      <th>55967</th>\n",
       "      <td>KUPhW</td>\n",
       "      <td>1.211150</td>\n",
       "      <td>3.176408</td>\n",
       "      <td>5.543540</td>\n",
       "      <td>132.831802</td>\n",
       "    </tr>\n",
       "    <tr>\n",
       "      <th>11449</th>\n",
       "      <td>VF7Jo</td>\n",
       "      <td>2.122656</td>\n",
       "      <td>-0.858275</td>\n",
       "      <td>5.746001</td>\n",
       "      <td>181.716817</td>\n",
       "    </tr>\n",
       "    <tr>\n",
       "      <th>49564</th>\n",
       "      <td>VF7Jo</td>\n",
       "      <td>-0.883115</td>\n",
       "      <td>0.560537</td>\n",
       "      <td>0.723601</td>\n",
       "      <td>136.233420</td>\n",
       "    </tr>\n",
       "    <tr>\n",
       "      <th>44378</th>\n",
       "      <td>Vcm5J</td>\n",
       "      <td>-1.229484</td>\n",
       "      <td>-2.439204</td>\n",
       "      <td>1.222909</td>\n",
       "      <td>137.968290</td>\n",
       "    </tr>\n",
       "    <tr>\n",
       "      <th>95090</th>\n",
       "      <td>Vcm5J</td>\n",
       "      <td>2.587702</td>\n",
       "      <td>1.986875</td>\n",
       "      <td>2.482245</td>\n",
       "      <td>92.327572</td>\n",
       "    </tr>\n",
       "    <tr>\n",
       "      <th>28039</th>\n",
       "      <td>xCHr8</td>\n",
       "      <td>1.633027</td>\n",
       "      <td>0.368135</td>\n",
       "      <td>-2.378367</td>\n",
       "      <td>6.120525</td>\n",
       "    </tr>\n",
       "    <tr>\n",
       "      <th>43233</th>\n",
       "      <td>xCHr8</td>\n",
       "      <td>-0.847066</td>\n",
       "      <td>2.101796</td>\n",
       "      <td>5.597130</td>\n",
       "      <td>184.388641</td>\n",
       "    </tr>\n",
       "  </tbody>\n",
       "</table>\n",
       "</div>"
      ],
      "text/plain": [
       "          id        f0        f1        f2     product\n",
       "45404  KUPhW  0.231846 -1.698941  4.990775   11.716299\n",
       "55967  KUPhW  1.211150  3.176408  5.543540  132.831802\n",
       "11449  VF7Jo  2.122656 -0.858275  5.746001  181.716817\n",
       "49564  VF7Jo -0.883115  0.560537  0.723601  136.233420\n",
       "44378  Vcm5J -1.229484 -2.439204  1.222909  137.968290\n",
       "95090  Vcm5J  2.587702  1.986875  2.482245   92.327572\n",
       "28039  xCHr8  1.633027  0.368135 -2.378367    6.120525\n",
       "43233  xCHr8 -0.847066  2.101796  5.597130  184.388641"
      ]
     },
     "metadata": {},
     "output_type": "display_data"
    },
    {
     "name": "stdout",
     "output_type": "stream",
     "text": [
      "\u001b[1mUnunique id rows:\u001b[0m 8\n"
     ]
    }
   ],
   "source": [
    "mult_ids = df3[df3.duplicated('id')]['id'].unique()\n",
    "t = df3.query('id in @mult_ids').sort_values('id')\n",
    "display(t)\n",
    "print(colors.BOLD + 'Ununique id rows:' + colors.ENDC, len(t))"
   ]
  },
  {
   "cell_type": "markdown",
   "metadata": {},
   "source": [
    "Себе изменять не будем. Спорные данные удалим"
   ]
  },
  {
   "cell_type": "code",
   "execution_count": 31,
   "metadata": {
    "scrolled": false
   },
   "outputs": [
    {
     "name": "stdout",
     "output_type": "stream",
     "text": [
      "<class 'pandas.core.frame.DataFrame'>\n",
      "Int64Index: 99992 entries, 0 to 99999\n",
      "Data columns (total 5 columns):\n",
      " #   Column   Non-Null Count  Dtype  \n",
      "---  ------   --------------  -----  \n",
      " 0   id       99992 non-null  object \n",
      " 1   f0       99992 non-null  float64\n",
      " 2   f1       99992 non-null  float64\n",
      " 3   f2       99992 non-null  float64\n",
      " 4   product  99992 non-null  float64\n",
      "dtypes: float64(4), object(1)\n",
      "memory usage: 4.6+ MB\n"
     ]
    }
   ],
   "source": [
    "df3 = df3.loc[~df3['id'].isin(mult_ids)]\n",
    "df3.info()"
   ]
  },
  {
   "cell_type": "markdown",
   "metadata": {},
   "source": [
    "### Вывод\n",
    "1. Данные загружены и изучены\n",
    "2. Из выборок удалены строки с повторяющимися id (потери не более 0,02% выборки)\n",
    "3. Признаки, скорее всего, заранее масштабированы\n",
    "4. За исключением этого серьезной подготовки данных не потребовалось\n",
    "\n",
    "Видно, что данные синтетические, посмотрим как себя поведут модели "
   ]
  },
  {
   "cell_type": "markdown",
   "metadata": {},
   "source": [
    "## Обучение и проверка модели"
   ]
  },
  {
   "cell_type": "markdown",
   "metadata": {},
   "source": [
    "### Подготовка"
   ]
  },
  {
   "cell_type": "markdown",
   "metadata": {},
   "source": [
    "#### Корреляции"
   ]
  },
  {
   "cell_type": "markdown",
   "metadata": {},
   "source": [
    "Для начала посмотрим на линейную (Пирсона) и нелинейную (Phik) корреляции признаков с нашим целевым показателем"
   ]
  },
  {
   "cell_type": "code",
   "execution_count": 32,
   "metadata": {},
   "outputs": [
    {
     "data": {
      "image/png": "[encoded data removed]",
      "text/plain": [
       "<Figure size 576x360 with 2 Axes>"
      ]
     },
     "metadata": {
      "needs_background": "light"
     },
     "output_type": "display_data"
    },
    {
     "data": {
      "image/png": "[encoded data removed]",
      "text/plain": [
       "<Figure size 576x360 with 2 Axes>"
      ]
     },
     "metadata": {
      "needs_background": "light"
     },
     "output_type": "display_data"
    },
    {
     "data": {
      "image/png": "[encoded data removed]",
      "text/plain": [
       "<Figure size 576x360 with 2 Axes>"
      ]
     },
     "metadata": {
      "needs_background": "light"
     },
     "output_type": "display_data"
    }
   ],
   "source": [
    "corr_pi=[]\n",
    "corr_pi.append(df1.corr())\n",
    "corr_pi.append(df2.corr())\n",
    "corr_pi.append(df3.corr())\n",
    "\n",
    "for i in range(len(corr_pi)):\n",
    "    plt.figure(figsize=(8,5))\n",
    "    sns.heatmap(corr_pi[i],\n",
    "                annot=True,\n",
    "                vmax=1,\n",
    "                vmin=-1,\n",
    "                linewidth=0.01,\n",
    "               cmap=\"YlGnBu\")\n",
    "    plt.title(f'Корреляция Пирсона. Регион №{i+1}')\n",
    "    plt.show()"
   ]
  },
  {
   "cell_type": "markdown",
   "metadata": {},
   "source": [
    "По графикам видно:\n",
    "- В первом регионе есть заметные корреляции признаков `f0` и `f2` с  `product`\n",
    "- Во втором регионе практически прямая линейная зависимость `f2` И `product`\n",
    "- В третьем регионе есть схожая корреляция `f2` и `product` как в регионе №1\n",
    "- Остальные корреляции очень слабые. По сути отсутствуют"
   ]
  },
  {
   "cell_type": "markdown",
   "metadata": {},
   "source": [
    "Теперь посмотри на нелинейные корреляции используя Phik\n",
    "\n",
    "Тут потребуется выделить названия числовых столбцов т.к. Phik будет искать корреляцию и по столбцам с типами `object`, такой у нас один и состоит только из уникальных значений. Связей с целевым признаком там точно нет"
   ]
  },
  {
   "cell_type": "code",
   "execution_count": 33,
   "metadata": {},
   "outputs": [
    {
     "name": "stdout",
     "output_type": "stream",
     "text": [
      "interval columns not set, guessing: ['f0', 'f1', 'f2', 'product']\n",
      "interval columns not set, guessing: ['f0', 'f1', 'f2', 'product']\n",
      "interval columns not set, guessing: ['f0', 'f1', 'f2', 'product']\n"
     ]
    },
    {
     "data": {
      "image/png": "[encoded data removed]",
      "text/plain": [
       "<Figure size 576x360 with 2 Axes>"
      ]
     },
     "metadata": {
      "needs_background": "light"
     },
     "output_type": "display_data"
    },
    {
     "data": {
      "image/png": "[encoded data removed]",
      "text/plain": [
       "<Figure size 576x360 with 2 Axes>"
      ]
     },
     "metadata": {
      "needs_background": "light"
     },
     "output_type": "display_data"
    },
    {
     "data": {
      "image/png": "[encoded data removed]",
      "text/plain": [
       "<Figure size 576x360 with 2 Axes>"
      ]
     },
     "metadata": {
      "needs_background": "light"
     },
     "output_type": "display_data"
    }
   ],
   "source": [
    "num_cols = ['f0','f1','f2','product']\n",
    "\n",
    "corr_ph=[]\n",
    "corr_ph.append(df1[num_cols].phik_matrix())\n",
    "corr_ph.append(df2[num_cols].phik_matrix())\n",
    "corr_ph.append(df3[num_cols].phik_matrix())\n",
    "\n",
    "for i in range(len(corr_ph)):\n",
    "    plt.figure(figsize=(8,5))\n",
    "    sns.heatmap(corr_ph[i],\n",
    "                annot=True,\n",
    "                vmax=1,\n",
    "                vmin=-1,\n",
    "                linewidth=.01,\n",
    "               cmap=\"YlGnBu\")\n",
    "    plt.title(f'Корреляция Phik. Регион №{i+1}')\n",
    "    plt.show()"
   ]
  },
  {
   "cell_type": "markdown",
   "metadata": {},
   "source": [
    "Из нового:\n",
    "- Заметная корреляция `product` и `f0` во втором регионе"
   ]
  },
  {
   "cell_type": "markdown",
   "metadata": {},
   "source": [
    "#### Разделение выборок"
   ]
  },
  {
   "cell_type": "markdown",
   "metadata": {},
   "source": [
    "Выборки разделяем в соотношении 3:1 в соответствии с условиями задачи"
   ]
  },
  {
   "cell_type": "code",
   "execution_count": 34,
   "metadata": {},
   "outputs": [],
   "source": [
    "features1 = df1.drop(['id','product'], axis=1)\n",
    "target1 = df1['product']\n",
    "\n",
    "features_train1, features_valid1, target_train1, target_valid1 = train_test_split(features1, target1, \n",
    "                                                                                  test_size=.25, \n",
    "                                                                                  random_state=42)"
   ]
  },
  {
   "cell_type": "code",
   "execution_count": 35,
   "metadata": {},
   "outputs": [],
   "source": [
    "features2 = df2.drop(['id','product'], axis=1)\n",
    "target2 = df2['product']\n",
    "\n",
    "features_train2, features_valid2, target_train2, target_valid2 = train_test_split(features2, target2, \n",
    "                                                                                  test_size=.25, \n",
    "                                                                                  random_state=42)"
   ]
  },
  {
   "cell_type": "code",
   "execution_count": 36,
   "metadata": {},
   "outputs": [],
   "source": [
    "features3 = df3.drop(['id','product'], axis=1)\n",
    "target3 = df3['product']\n",
    "\n",
    "features_train3, features_valid3, target_train3, target_valid3 = train_test_split(features3, target3, \n",
    "                                                                                  test_size=.25, \n",
    "                                                                                  random_state=42)"
   ]
  },
  {
   "cell_type": "markdown",
   "metadata": {},
   "source": [
    "Функция проверки потерь после разделения"
   ]
  },
  {
   "cell_type": "code",
   "execution_count": 37,
   "metadata": {},
   "outputs": [],
   "source": [
    "def split_check(data, train, valid):\n",
    "    print(f'Размер валидационной выборки: {len(valid)/len(data):.0%}')\n",
    "    print()\n",
    "    if len(data) == (len(train)+len(valid)):\n",
    "        print(colors.GREEN + colors.BOLD + 'Потерь нет' + colors.ENDC)\n",
    "    else:\n",
    "        print(colors.WARNING + colors.BOLD + 'Количество строк не совпадает, нужно перепроверить' + colors.ENDC)"
   ]
  },
  {
   "cell_type": "markdown",
   "metadata": {},
   "source": [
    "Применяем функцию"
   ]
  },
  {
   "cell_type": "code",
   "execution_count": 38,
   "metadata": {},
   "outputs": [
    {
     "name": "stdout",
     "output_type": "stream",
     "text": [
      "Размер валидационной выборки: 25%\n",
      "\n",
      "\u001b[92m\u001b[1mПотерь нет\u001b[0m\n"
     ]
    }
   ],
   "source": [
    "split_check(df1, target_train1, target_valid1)"
   ]
  },
  {
   "cell_type": "code",
   "execution_count": 39,
   "metadata": {},
   "outputs": [
    {
     "name": "stdout",
     "output_type": "stream",
     "text": [
      "Размер валидационной выборки: 25%\n",
      "\n",
      "\u001b[92m\u001b[1mПотерь нет\u001b[0m\n"
     ]
    }
   ],
   "source": [
    "split_check(df2, target_train2, target_valid2)"
   ]
  },
  {
   "cell_type": "code",
   "execution_count": 40,
   "metadata": {},
   "outputs": [
    {
     "name": "stdout",
     "output_type": "stream",
     "text": [
      "Размер валидационной выборки: 25%\n",
      "\n",
      "\u001b[92m\u001b[1mПотерь нет\u001b[0m\n"
     ]
    }
   ],
   "source": [
    "split_check(df3, target_train3, target_valid3)"
   ]
  },
  {
   "cell_type": "markdown",
   "metadata": {},
   "source": [
    "#### Функция для обучения и проверки моделей"
   ]
  },
  {
   "cell_type": "markdown",
   "metadata": {},
   "source": [
    "На вход функция прнимает обучающие и валидационные выборки.\n",
    "\n",
    "На выходе молучаем обученную модель и датафрейм с реальными и предсказанными значениями"
   ]
  },
  {
   "cell_type": "code",
   "execution_count": 41,
   "metadata": {},
   "outputs": [],
   "source": [
    "def create_model(features_train, target_train, features_valid, target_valid):\n",
    "    model = LinearRegression()\n",
    "    model.fit(features_train, target_train)\n",
    "    predicted_valid = model.predict(features_valid)\n",
    "    \n",
    "    result = mse(predicted_valid, target_valid) ** .5\n",
    "    \n",
    "    \n",
    "    model_result = target_valid.reset_index()\n",
    "    model_result['product_predicted'] = predicted_valid\n",
    "    model_result = model_result.drop('index',axis=1)\n",
    "    \n",
    "    print(colors.BOLD + 'Реальные данные и предсказания модели (sample)' + colors.ENDC)\n",
    "    display(model_result.sample(10))\n",
    "    print('Значение RMSE модели =', result)\n",
    "    print('Среднее предсказанное значение запасов', predicted_valid.mean())\n",
    "    print()\n",
    "    display(model_result.describe())\n",
    "    model_result.hist(bins=40)\n",
    "    return model, model_result"
   ]
  },
  {
   "cell_type": "markdown",
   "metadata": {},
   "source": [
    "### Регион 1"
   ]
  },
  {
   "cell_type": "code",
   "execution_count": 42,
   "metadata": {
    "scrolled": false
   },
   "outputs": [
    {
     "name": "stdout",
     "output_type": "stream",
     "text": [
      "\u001b[1mРеальные данные и предсказания модели (sample)\u001b[0m\n"
     ]
    },
    {
     "data": {
      "text/html": [
       "<div>\n",
       "<style scoped>\n",
       "    .dataframe tbody tr th:only-of-type {\n",
       "        vertical-align: middle;\n",
       "    }\n",
       "\n",
       "    .dataframe tbody tr th {\n",
       "        vertical-align: top;\n",
       "    }\n",
       "\n",
       "    .dataframe thead th {\n",
       "        text-align: right;\n",
       "    }\n",
       "</style>\n",
       "<table border=\"1\" class=\"dataframe\">\n",
       "  <thead>\n",
       "    <tr style=\"text-align: right;\">\n",
       "      <th></th>\n",
       "      <th>product</th>\n",
       "      <th>product_predicted</th>\n",
       "    </tr>\n",
       "  </thead>\n",
       "  <tbody>\n",
       "    <tr>\n",
       "      <th>15747</th>\n",
       "      <td>179.834297</td>\n",
       "      <td>89.713050</td>\n",
       "    </tr>\n",
       "    <tr>\n",
       "      <th>20821</th>\n",
       "      <td>114.214502</td>\n",
       "      <td>110.827877</td>\n",
       "    </tr>\n",
       "    <tr>\n",
       "      <th>20403</th>\n",
       "      <td>31.017061</td>\n",
       "      <td>82.109422</td>\n",
       "    </tr>\n",
       "    <tr>\n",
       "      <th>1648</th>\n",
       "      <td>47.701293</td>\n",
       "      <td>107.530188</td>\n",
       "    </tr>\n",
       "    <tr>\n",
       "      <th>5648</th>\n",
       "      <td>43.289598</td>\n",
       "      <td>66.314829</td>\n",
       "    </tr>\n",
       "    <tr>\n",
       "      <th>8557</th>\n",
       "      <td>84.394047</td>\n",
       "      <td>93.986944</td>\n",
       "    </tr>\n",
       "    <tr>\n",
       "      <th>24899</th>\n",
       "      <td>145.762058</td>\n",
       "      <td>150.090014</td>\n",
       "    </tr>\n",
       "    <tr>\n",
       "      <th>24804</th>\n",
       "      <td>150.695186</td>\n",
       "      <td>96.704685</td>\n",
       "    </tr>\n",
       "    <tr>\n",
       "      <th>13223</th>\n",
       "      <td>30.933029</td>\n",
       "      <td>62.060986</td>\n",
       "    </tr>\n",
       "    <tr>\n",
       "      <th>3374</th>\n",
       "      <td>86.619768</td>\n",
       "      <td>78.476774</td>\n",
       "    </tr>\n",
       "  </tbody>\n",
       "</table>\n",
       "</div>"
      ],
      "text/plain": [
       "          product  product_predicted\n",
       "15747  179.834297          89.713050\n",
       "20821  114.214502         110.827877\n",
       "20403   31.017061          82.109422\n",
       "1648    47.701293         107.530188\n",
       "5648    43.289598          66.314829\n",
       "8557    84.394047          93.986944\n",
       "24899  145.762058         150.090014\n",
       "24804  150.695186          96.704685\n",
       "13223   30.933029          62.060986\n",
       "3374    86.619768          78.476774"
      ]
     },
     "metadata": {},
     "output_type": "display_data"
    },
    {
     "name": "stdout",
     "output_type": "stream",
     "text": [
      "Значение RMSE модели = 37.76114714593895\n",
      "Среднее предсказанное значение запасов 92.2865385223536\n",
      "\n"
     ]
    },
    {
     "data": {
      "text/html": [
       "<div>\n",
       "<style scoped>\n",
       "    .dataframe tbody tr th:only-of-type {\n",
       "        vertical-align: middle;\n",
       "    }\n",
       "\n",
       "    .dataframe tbody tr th {\n",
       "        vertical-align: top;\n",
       "    }\n",
       "\n",
       "    .dataframe thead th {\n",
       "        text-align: right;\n",
       "    }\n",
       "</style>\n",
       "<table border=\"1\" class=\"dataframe\">\n",
       "  <thead>\n",
       "    <tr style=\"text-align: right;\">\n",
       "      <th></th>\n",
       "      <th>product</th>\n",
       "      <th>product_predicted</th>\n",
       "    </tr>\n",
       "  </thead>\n",
       "  <tbody>\n",
       "    <tr>\n",
       "      <th>count</th>\n",
       "      <td>24995.000000</td>\n",
       "      <td>24995.000000</td>\n",
       "    </tr>\n",
       "    <tr>\n",
       "      <th>mean</th>\n",
       "      <td>92.374915</td>\n",
       "      <td>92.286539</td>\n",
       "    </tr>\n",
       "    <tr>\n",
       "      <th>std</th>\n",
       "      <td>44.259284</td>\n",
       "      <td>23.121141</td>\n",
       "    </tr>\n",
       "    <tr>\n",
       "      <th>min</th>\n",
       "      <td>0.004022</td>\n",
       "      <td>-10.134677</td>\n",
       "    </tr>\n",
       "    <tr>\n",
       "      <th>25%</th>\n",
       "      <td>56.547073</td>\n",
       "      <td>76.530444</td>\n",
       "    </tr>\n",
       "    <tr>\n",
       "      <th>50%</th>\n",
       "      <td>90.789924</td>\n",
       "      <td>92.277163</td>\n",
       "    </tr>\n",
       "    <tr>\n",
       "      <th>75%</th>\n",
       "      <td>128.460257</td>\n",
       "      <td>108.010228</td>\n",
       "    </tr>\n",
       "    <tr>\n",
       "      <th>max</th>\n",
       "      <td>185.364347</td>\n",
       "      <td>185.816353</td>\n",
       "    </tr>\n",
       "  </tbody>\n",
       "</table>\n",
       "</div>"
      ],
      "text/plain": [
       "            product  product_predicted\n",
       "count  24995.000000       24995.000000\n",
       "mean      92.374915          92.286539\n",
       "std       44.259284          23.121141\n",
       "min        0.004022         -10.134677\n",
       "25%       56.547073          76.530444\n",
       "50%       90.789924          92.277163\n",
       "75%      128.460257         108.010228\n",
       "max      185.364347         185.816353"
      ]
     },
     "metadata": {},
     "output_type": "display_data"
    },
    {
     "data": {
      "image/png": "[encoded data removed]",
      "text/plain": [
       "<Figure size 432x288 with 2 Axes>"
      ]
     },
     "metadata": {
      "needs_background": "light"
     },
     "output_type": "display_data"
    }
   ],
   "source": [
    "model1, model1_result = create_model(features_train1, target_train1, features_valid1, target_valid1)"
   ]
  },
  {
   "cell_type": "markdown",
   "metadata": {},
   "source": [
    "Значение метрики RMSE получилось достаточно большое (37), учитывая среднее значение запасов (92).\n",
    "\n",
    "При этом в среднее и максимум попали практически точно"
   ]
  },
  {
   "cell_type": "markdown",
   "metadata": {},
   "source": [
    "### Регион 2"
   ]
  },
  {
   "cell_type": "code",
   "execution_count": 43,
   "metadata": {
    "scrolled": false
   },
   "outputs": [
    {
     "name": "stdout",
     "output_type": "stream",
     "text": [
      "\u001b[1mРеальные данные и предсказания модели (sample)\u001b[0m\n"
     ]
    },
    {
     "data": {
      "text/html": [
       "<div>\n",
       "<style scoped>\n",
       "    .dataframe tbody tr th:only-of-type {\n",
       "        vertical-align: middle;\n",
       "    }\n",
       "\n",
       "    .dataframe tbody tr th {\n",
       "        vertical-align: top;\n",
       "    }\n",
       "\n",
       "    .dataframe thead th {\n",
       "        text-align: right;\n",
       "    }\n",
       "</style>\n",
       "<table border=\"1\" class=\"dataframe\">\n",
       "  <thead>\n",
       "    <tr style=\"text-align: right;\">\n",
       "      <th></th>\n",
       "      <th>product</th>\n",
       "      <th>product_predicted</th>\n",
       "    </tr>\n",
       "  </thead>\n",
       "  <tbody>\n",
       "    <tr>\n",
       "      <th>370</th>\n",
       "      <td>84.038886</td>\n",
       "      <td>83.508733</td>\n",
       "    </tr>\n",
       "    <tr>\n",
       "      <th>23033</th>\n",
       "      <td>26.953261</td>\n",
       "      <td>28.416017</td>\n",
       "    </tr>\n",
       "    <tr>\n",
       "      <th>615</th>\n",
       "      <td>107.813044</td>\n",
       "      <td>108.255160</td>\n",
       "    </tr>\n",
       "    <tr>\n",
       "      <th>19802</th>\n",
       "      <td>84.038886</td>\n",
       "      <td>83.979508</td>\n",
       "    </tr>\n",
       "    <tr>\n",
       "      <th>20926</th>\n",
       "      <td>53.906522</td>\n",
       "      <td>55.238636</td>\n",
       "    </tr>\n",
       "    <tr>\n",
       "      <th>13533</th>\n",
       "      <td>134.766305</td>\n",
       "      <td>137.825286</td>\n",
       "    </tr>\n",
       "    <tr>\n",
       "      <th>18967</th>\n",
       "      <td>57.085625</td>\n",
       "      <td>56.577961</td>\n",
       "    </tr>\n",
       "    <tr>\n",
       "      <th>2555</th>\n",
       "      <td>30.132364</td>\n",
       "      <td>29.941657</td>\n",
       "    </tr>\n",
       "    <tr>\n",
       "      <th>5688</th>\n",
       "      <td>84.038886</td>\n",
       "      <td>83.323555</td>\n",
       "    </tr>\n",
       "    <tr>\n",
       "      <th>12610</th>\n",
       "      <td>3.179103</td>\n",
       "      <td>2.911361</td>\n",
       "    </tr>\n",
       "  </tbody>\n",
       "</table>\n",
       "</div>"
      ],
      "text/plain": [
       "          product  product_predicted\n",
       "370     84.038886          83.508733\n",
       "23033   26.953261          28.416017\n",
       "615    107.813044         108.255160\n",
       "19802   84.038886          83.979508\n",
       "20926   53.906522          55.238636\n",
       "13533  134.766305         137.825286\n",
       "18967   57.085625          56.577961\n",
       "2555    30.132364          29.941657\n",
       "5688    84.038886          83.323555\n",
       "12610    3.179103           2.911361"
      ]
     },
     "metadata": {},
     "output_type": "display_data"
    },
    {
     "name": "stdout",
     "output_type": "stream",
     "text": [
      "Значение RMSE модели = 0.8928635898777318\n",
      "Среднее предсказанное значение запасов 69.16894101447983\n",
      "\n"
     ]
    },
    {
     "data": {
      "text/html": [
       "<div>\n",
       "<style scoped>\n",
       "    .dataframe tbody tr th:only-of-type {\n",
       "        vertical-align: middle;\n",
       "    }\n",
       "\n",
       "    .dataframe tbody tr th {\n",
       "        vertical-align: top;\n",
       "    }\n",
       "\n",
       "    .dataframe thead th {\n",
       "        text-align: right;\n",
       "    }\n",
       "</style>\n",
       "<table border=\"1\" class=\"dataframe\">\n",
       "  <thead>\n",
       "    <tr style=\"text-align: right;\">\n",
       "      <th></th>\n",
       "      <th>product</th>\n",
       "      <th>product_predicted</th>\n",
       "    </tr>\n",
       "  </thead>\n",
       "  <tbody>\n",
       "    <tr>\n",
       "      <th>count</th>\n",
       "      <td>24998.000000</td>\n",
       "      <td>24998.000000</td>\n",
       "    </tr>\n",
       "    <tr>\n",
       "      <th>mean</th>\n",
       "      <td>69.164936</td>\n",
       "      <td>69.168941</td>\n",
       "    </tr>\n",
       "    <tr>\n",
       "      <th>std</th>\n",
       "      <td>45.970127</td>\n",
       "      <td>45.963733</td>\n",
       "    </tr>\n",
       "    <tr>\n",
       "      <th>min</th>\n",
       "      <td>0.000000</td>\n",
       "      <td>-1.916912</td>\n",
       "    </tr>\n",
       "    <tr>\n",
       "      <th>25%</th>\n",
       "      <td>30.132364</td>\n",
       "      <td>28.681200</td>\n",
       "    </tr>\n",
       "    <tr>\n",
       "      <th>50%</th>\n",
       "      <td>57.085625</td>\n",
       "      <td>58.127387</td>\n",
       "    </tr>\n",
       "    <tr>\n",
       "      <th>75%</th>\n",
       "      <td>110.992147</td>\n",
       "      <td>109.465838</td>\n",
       "    </tr>\n",
       "    <tr>\n",
       "      <th>max</th>\n",
       "      <td>137.945408</td>\n",
       "      <td>139.984992</td>\n",
       "    </tr>\n",
       "  </tbody>\n",
       "</table>\n",
       "</div>"
      ],
      "text/plain": [
       "            product  product_predicted\n",
       "count  24998.000000       24998.000000\n",
       "mean      69.164936          69.168941\n",
       "std       45.970127          45.963733\n",
       "min        0.000000          -1.916912\n",
       "25%       30.132364          28.681200\n",
       "50%       57.085625          58.127387\n",
       "75%      110.992147         109.465838\n",
       "max      137.945408         139.984992"
      ]
     },
     "metadata": {},
     "output_type": "display_data"
    },
    {
     "data": {
      "image/png": "[encoded data removed]",
      "text/plain": [
       "<Figure size 432x288 with 2 Axes>"
      ]
     },
     "metadata": {
      "needs_background": "light"
     },
     "output_type": "display_data"
    }
   ],
   "source": [
    "model2, model2_result = create_model(features_train2, target_train2, features_valid2, target_valid2)"
   ]
  },
  {
   "cell_type": "markdown",
   "metadata": {},
   "source": [
    "Отличное значение RMSE! Говорит об очень точном предсказании модели. \n",
    "\n",
    "(Несмотря на непоказательные распределения значений)"
   ]
  },
  {
   "cell_type": "markdown",
   "metadata": {},
   "source": [
    "### Регион 3"
   ]
  },
  {
   "cell_type": "code",
   "execution_count": 44,
   "metadata": {
    "scrolled": false
   },
   "outputs": [
    {
     "name": "stdout",
     "output_type": "stream",
     "text": [
      "\u001b[1mРеальные данные и предсказания модели (sample)\u001b[0m\n"
     ]
    },
    {
     "data": {
      "text/html": [
       "<div>\n",
       "<style scoped>\n",
       "    .dataframe tbody tr th:only-of-type {\n",
       "        vertical-align: middle;\n",
       "    }\n",
       "\n",
       "    .dataframe tbody tr th {\n",
       "        vertical-align: top;\n",
       "    }\n",
       "\n",
       "    .dataframe thead th {\n",
       "        text-align: right;\n",
       "    }\n",
       "</style>\n",
       "<table border=\"1\" class=\"dataframe\">\n",
       "  <thead>\n",
       "    <tr style=\"text-align: right;\">\n",
       "      <th></th>\n",
       "      <th>product</th>\n",
       "      <th>product_predicted</th>\n",
       "    </tr>\n",
       "  </thead>\n",
       "  <tbody>\n",
       "    <tr>\n",
       "      <th>8798</th>\n",
       "      <td>61.432165</td>\n",
       "      <td>104.905099</td>\n",
       "    </tr>\n",
       "    <tr>\n",
       "      <th>19618</th>\n",
       "      <td>82.333087</td>\n",
       "      <td>83.383835</td>\n",
       "    </tr>\n",
       "    <tr>\n",
       "      <th>17140</th>\n",
       "      <td>31.462812</td>\n",
       "      <td>77.192309</td>\n",
       "    </tr>\n",
       "    <tr>\n",
       "      <th>14901</th>\n",
       "      <td>154.476682</td>\n",
       "      <td>128.680974</td>\n",
       "    </tr>\n",
       "    <tr>\n",
       "      <th>11695</th>\n",
       "      <td>29.470821</td>\n",
       "      <td>78.938617</td>\n",
       "    </tr>\n",
       "    <tr>\n",
       "      <th>1845</th>\n",
       "      <td>62.137601</td>\n",
       "      <td>95.973270</td>\n",
       "    </tr>\n",
       "    <tr>\n",
       "      <th>21970</th>\n",
       "      <td>123.979392</td>\n",
       "      <td>120.208955</td>\n",
       "    </tr>\n",
       "    <tr>\n",
       "      <th>9508</th>\n",
       "      <td>102.381336</td>\n",
       "      <td>89.753938</td>\n",
       "    </tr>\n",
       "    <tr>\n",
       "      <th>18692</th>\n",
       "      <td>81.310477</td>\n",
       "      <td>101.983490</td>\n",
       "    </tr>\n",
       "    <tr>\n",
       "      <th>17429</th>\n",
       "      <td>84.158162</td>\n",
       "      <td>102.343150</td>\n",
       "    </tr>\n",
       "  </tbody>\n",
       "</table>\n",
       "</div>"
      ],
      "text/plain": [
       "          product  product_predicted\n",
       "8798    61.432165         104.905099\n",
       "19618   82.333087          83.383835\n",
       "17140   31.462812          77.192309\n",
       "14901  154.476682         128.680974\n",
       "11695   29.470821          78.938617\n",
       "1845    62.137601          95.973270\n",
       "21970  123.979392         120.208955\n",
       "9508   102.381336          89.753938\n",
       "18692   81.310477         101.983490\n",
       "17429   84.158162         102.343150"
      ]
     },
     "metadata": {},
     "output_type": "display_data"
    },
    {
     "name": "stdout",
     "output_type": "stream",
     "text": [
      "Значение RMSE модели = 40.13115560413051\n",
      "Среднее предсказанное значение запасов 94.82069136328788\n",
      "\n"
     ]
    },
    {
     "data": {
      "text/html": [
       "<div>\n",
       "<style scoped>\n",
       "    .dataframe tbody tr th:only-of-type {\n",
       "        vertical-align: middle;\n",
       "    }\n",
       "\n",
       "    .dataframe tbody tr th {\n",
       "        vertical-align: top;\n",
       "    }\n",
       "\n",
       "    .dataframe thead th {\n",
       "        text-align: right;\n",
       "    }\n",
       "</style>\n",
       "<table border=\"1\" class=\"dataframe\">\n",
       "  <thead>\n",
       "    <tr style=\"text-align: right;\">\n",
       "      <th></th>\n",
       "      <th>product</th>\n",
       "      <th>product_predicted</th>\n",
       "    </tr>\n",
       "  </thead>\n",
       "  <tbody>\n",
       "    <tr>\n",
       "      <th>count</th>\n",
       "      <td>24998.000000</td>\n",
       "      <td>24998.000000</td>\n",
       "    </tr>\n",
       "    <tr>\n",
       "      <th>mean</th>\n",
       "      <td>95.058583</td>\n",
       "      <td>94.820691</td>\n",
       "    </tr>\n",
       "    <tr>\n",
       "      <th>std</th>\n",
       "      <td>44.726272</td>\n",
       "      <td>19.949784</td>\n",
       "    </tr>\n",
       "    <tr>\n",
       "      <th>min</th>\n",
       "      <td>0.000000</td>\n",
       "      <td>11.760195</td>\n",
       "    </tr>\n",
       "    <tr>\n",
       "      <th>25%</th>\n",
       "      <td>59.478680</td>\n",
       "      <td>81.288187</td>\n",
       "    </tr>\n",
       "    <tr>\n",
       "      <th>50%</th>\n",
       "      <td>95.014426</td>\n",
       "      <td>94.756119</td>\n",
       "    </tr>\n",
       "    <tr>\n",
       "      <th>75%</th>\n",
       "      <td>130.682651</td>\n",
       "      <td>108.291327</td>\n",
       "    </tr>\n",
       "    <tr>\n",
       "      <th>max</th>\n",
       "      <td>190.010029</td>\n",
       "      <td>174.652763</td>\n",
       "    </tr>\n",
       "  </tbody>\n",
       "</table>\n",
       "</div>"
      ],
      "text/plain": [
       "            product  product_predicted\n",
       "count  24998.000000       24998.000000\n",
       "mean      95.058583          94.820691\n",
       "std       44.726272          19.949784\n",
       "min        0.000000          11.760195\n",
       "25%       59.478680          81.288187\n",
       "50%       95.014426          94.756119\n",
       "75%      130.682651         108.291327\n",
       "max      190.010029         174.652763"
      ]
     },
     "metadata": {},
     "output_type": "display_data"
    },
    {
     "data": {
      "image/png": "[encoded data removed]",
      "text/plain": [
       "<Figure size 432x288 with 2 Axes>"
      ]
     },
     "metadata": {
      "needs_background": "light"
     },
     "output_type": "display_data"
    }
   ],
   "source": [
    "model3, model3_result = create_model(features_train3, target_train3, features_valid3, target_valid3)"
   ]
  },
  {
   "cell_type": "markdown",
   "metadata": {},
   "source": [
    "Очень большое значение RMSE при достаточно точном предсказании среднего. "
   ]
  },
  {
   "cell_type": "markdown",
   "metadata": {},
   "source": [
    "### Вывод\n",
    "\n",
    "Модели построены и оценены\n",
    "\n",
    "- Значения RMSE для 1 и 3 моделей схожи и отклонения довольно существенные.\n",
    "- Модель для 2 региона предсказывает довольно точно\n",
    "\n",
    "Линейная регрессия существенно \"сглаживает\" распределение значений"
   ]
  },
  {
   "cell_type": "markdown",
   "metadata": {},
   "source": [
    "## Подготовка к расчёту прибыли"
   ]
  },
  {
   "cell_type": "markdown",
   "metadata": {},
   "source": [
    "Из условия задачи:\n",
    "- Для расчета берется 500 случайных скважин\n",
    "- 200 лучших принимаются к разработе\n",
    "- Общий бюджет разработки этих скважин 10 млрд руб\n",
    "- Выручка с единицы сырья 450 тыс руб (тк значения `product` в датаасетах приведен в тыс баррелей)"
   ]
  },
  {
   "cell_type": "markdown",
   "metadata": {},
   "source": [
    "Для начала посчитаем минимальный суммарный запас сырья, необходимый для нулевой окупаемости разработки"
   ]
  },
  {
   "cell_type": "code",
   "execution_count": 45,
   "metadata": {},
   "outputs": [
    {
     "data": {
      "text/plain": [
       "22222.222222222223"
      ]
     },
     "execution_count": 45,
     "metadata": {},
     "output_type": "execute_result"
    }
   ],
   "source": [
    "PRODUCT_REG = 10e9 / 45e4\n",
    "PRODUCT_REG"
   ]
  },
  {
   "cell_type": "markdown",
   "metadata": {},
   "source": [
    "Чтобы разработка окупилась суммарный запас должен быть не менее 22 222,22 тыс баррелей"
   ]
  },
  {
   "cell_type": "code",
   "execution_count": 46,
   "metadata": {},
   "outputs": [
    {
     "data": {
      "text/plain": [
       "111.11111111111111"
      ]
     },
     "execution_count": 46,
     "metadata": {},
     "output_type": "execute_result"
    }
   ],
   "source": [
    "PRODUCT_HOLE = PRODUCT_REG / 200\n",
    "PRODUCT_HOLE"
   ]
  },
  {
   "cell_type": "markdown",
   "metadata": {},
   "source": [
    "С учетом количества скважин с каждой в среднем нужно получить не менее 111,11 тыс баррелей ..."
   ]
  },
  {
   "cell_type": "code",
   "execution_count": 47,
   "metadata": {},
   "outputs": [
    {
     "data": {
      "text/plain": [
       "50.0"
      ]
     },
     "execution_count": 47,
     "metadata": {},
     "output_type": "execute_result"
    }
   ],
   "source": [
    "REVENUE_HOLE = PRODUCT_HOLE * .45\n",
    "REVENUE_HOLE"
   ]
  },
  {
   "cell_type": "markdown",
   "metadata": {},
   "source": [
    "... или 50 млн руб прибыли"
   ]
  },
  {
   "cell_type": "markdown",
   "metadata": {},
   "source": [
    "Полученное среднее превышает средние по регионам, полученные на предыдущих этапах. \n",
    "\n",
    "Максимальные значения же превышают порог. Это дает надежду, что подходящий под критерий регион будет найден"
   ]
  },
  {
   "cell_type": "markdown",
   "metadata": {},
   "source": [
    "## Расчёт прибыли и рисков "
   ]
  },
  {
   "cell_type": "markdown",
   "metadata": {},
   "source": [
    "Для оценки прибыльности региона воспользуемся процедурой Bootstrap.\n",
    "\n",
    "Дополнительно:\n",
    "- Построим 95% доверительные интервалы средней прибыли\n",
    "- Ограничение: 2,5% порог риска убыточности"
   ]
  },
  {
   "cell_type": "markdown",
   "metadata": {},
   "source": [
    "Функция для процедуры и вывода информации\n",
    "\n",
    "На вход идут:\n",
    "\n",
    "- `data` - Датафрейм, содержащий предсказанные и реальные значения\n",
    "\n",
    "- `predict`,`real` - Названия столбцов соответствующих значений"
   ]
  },
  {
   "cell_type": "code",
   "execution_count": 48,
   "metadata": {},
   "outputs": [],
   "source": [
    "state = np.random.RandomState(42)\n",
    "\n",
    "\n",
    "def profit_calc (data, predict, real):\n",
    "    values = []\n",
    "    for i in range(1000):\n",
    "        selected = (data.sample(random_state=state, \n",
    "                                n=500)\n",
    "                    .sort_values(predict, \n",
    "                                 ascending=False)\n",
    "                    .head(200)\n",
    "                   )\n",
    "        values.append(45e4*selected[real].sum()-10e9)\n",
    "\n",
    "    values = pd.Series(values)/10e6 # Переводим прибыль в млн. руб.\n",
    "    lower = values.quantile(.025)\n",
    "    upper = values.quantile(.975)\n",
    "    mean = values.mean()\n",
    "    \n",
    "    print('Средняя выручка (млн руб):', mean)\n",
    "    print('95% доверительный интервал:', lower, upper)\n",
    "    print(f'Вероятность убытков: {(values<0).mean():.2%}')   "
   ]
  },
  {
   "cell_type": "markdown",
   "metadata": {},
   "source": [
    "Регион 1"
   ]
  },
  {
   "cell_type": "code",
   "execution_count": 49,
   "metadata": {
    "scrolled": true
   },
   "outputs": [
    {
     "name": "stdout",
     "output_type": "stream",
     "text": [
      "Средняя выручка (млн руб): 40.25486031500706\n",
      "95% доверительный интервал: -10.69780129440875 93.49972265603897\n",
      "Вероятность убытков: 5.70%\n"
     ]
    }
   ],
   "source": [
    "profit_calc (model1_result,'product_predicted','product')"
   ]
  },
  {
   "cell_type": "markdown",
   "metadata": {},
   "source": [
    "Регион 2"
   ]
  },
  {
   "cell_type": "code",
   "execution_count": 50,
   "metadata": {
    "scrolled": true
   },
   "outputs": [
    {
     "name": "stdout",
     "output_type": "stream",
     "text": [
      "Средняя выручка (млн руб): 48.708045893470505\n",
      "95% доверительный интервал: 9.450733160732561 89.79612363520374\n",
      "Вероятность убытков: 0.90%\n"
     ]
    }
   ],
   "source": [
    "profit_calc (model2_result,'product_predicted','product')"
   ]
  },
  {
   "cell_type": "markdown",
   "metadata": {},
   "source": [
    "Регион 3"
   ]
  },
  {
   "cell_type": "code",
   "execution_count": 51,
   "metadata": {
    "scrolled": true
   },
   "outputs": [
    {
     "name": "stdout",
     "output_type": "stream",
     "text": [
      "Средняя выручка (млн руб): 35.95346618230114\n",
      "95% доверительный интервал: -17.158925319127263 84.14618113044118\n",
      "Вероятность убытков: 8.30%\n"
     ]
    }
   ],
   "source": [
    "profit_calc (model3_result,'product_predicted','product')"
   ]
  },
  {
   "cell_type": "markdown",
   "metadata": {},
   "source": [
    "### Вывод\n",
    "\n",
    "Единственный регион в котором выполняются условия задачи это **Регион №2**\n",
    "\n",
    "- Самая высокая средняя выручка среди регонов (43,9 млн руб)\n",
    "- Риск убытков всего 1,8%\n",
    "\n",
    "Следующий по привлекательности **Регион №1**\n",
    "- Средняя выручка 39,0 млн руб\n",
    "- Сильное превышение риска убытков = 5,8% (порог задачи 2,5%)"
   ]
  },
  {
   "cell_type": "markdown",
   "metadata": {},
   "source": [
    "## Вывод\n",
    "\n",
    "***Исходные данные:***\n",
    "\n",
    "Нам были предоставлены данные высого качества. Используемые при обучении модели признаки, похоже, были заранее масштабированы.\n",
    "Учитывая что данные синтетические распределение каждого признака в каждом регионе могут работать как примеры распределений (нормальные, дискретные, непрерывные, равномерные итд)"
   ]
  },
  {
   "cell_type": "markdown",
   "metadata": {},
   "source": [
    "***Корреляции:***\n",
    "\n",
    "- Признаки по-разному коррелируют в разных регионах\n",
    "- В 1 и 3 схожие матрицы корреляций \n",
    "- В 1 есть слабая линейная коррелация с признаками `f0` и `f1`, а в регионе 3 ее практически нет\n",
    "- Для регионов 1 и 3 наблюдается сильная линейная корреляция `product` и `f2`\n",
    "- В регионе 2 по сути прямая линейная зависимость от `f2`"
   ]
  },
  {
   "cell_type": "markdown",
   "metadata": {},
   "source": [
    "***Модели***\n",
    "\n",
    "- Значения RMSE для 1 и 3 моделей схожи и отклонения довольно существенные.\n",
    "- Модель для 2 региона предсказывает очень точно, RMSE почти равна 0"
   ]
  },
  {
   "cell_type": "markdown",
   "metadata": {},
   "source": [
    "***Параметры расчета прибыльности:***\n",
    "\n",
    "Минимальный суммарный запас сырья в регионе - 22222,22 тыс баррелей\n",
    "Минимальный средний запас сырья скважины (расчет на 200 скважин) - 111,11 тыс баррелей"
   ]
  },
  {
   "cell_type": "markdown",
   "metadata": {},
   "source": [
    "***Результат***\n",
    "\n",
    "Единственным регионом, удовлетворяющим условиям задачи является **Регион 2**:\n",
    "- Средняя прибыльность по Bootstrap равна 43,93 млн руб\n",
    "- Риск убытков всего 1,8%"
   ]
  }
 ],
 "metadata": {
  "ExecuteTimeLog": [
   {
    "duration": 1712,
    "start_time": "2022-07-14T10:04:34.673Z"
   },
   {
    "duration": 913,
    "start_time": "2022-07-14T10:04:42.670Z"
   },
   {
    "duration": 3434,
    "start_time": "2022-07-14T10:05:05.878Z"
   },
   {
    "duration": 1816,
    "start_time": "2022-07-14T10:05:14.901Z"
   },
   {
    "duration": 1690,
    "start_time": "2022-07-14T10:06:37.359Z"
   },
   {
    "duration": 33,
    "start_time": "2022-07-14T10:07:10.494Z"
   },
   {
    "duration": 25,
    "start_time": "2022-07-14T10:07:17.118Z"
   },
   {
    "duration": 5,
    "start_time": "2022-07-14T10:23:46.622Z"
   },
   {
    "duration": 97,
    "start_time": "2022-07-14T10:24:05.583Z"
   },
   {
    "duration": 4,
    "start_time": "2022-07-14T10:24:25.257Z"
   },
   {
    "duration": 767,
    "start_time": "2022-07-14T10:24:28.589Z"
   },
   {
    "duration": 3,
    "start_time": "2022-07-14T10:33:03.112Z"
   },
   {
    "duration": 3,
    "start_time": "2022-07-14T10:33:36.559Z"
   },
   {
    "duration": 3,
    "start_time": "2022-07-14T10:33:57.080Z"
   },
   {
    "duration": 454,
    "start_time": "2022-07-14T10:35:30.893Z"
   },
   {
    "duration": 81,
    "start_time": "2022-07-14T10:36:03.506Z"
   },
   {
    "duration": 6,
    "start_time": "2022-07-14T10:36:35.473Z"
   },
   {
    "duration": 985,
    "start_time": "2022-07-14T10:36:37.056Z"
   },
   {
    "duration": 5,
    "start_time": "2022-07-14T10:37:21.603Z"
   },
   {
    "duration": 772,
    "start_time": "2022-07-14T10:37:23.263Z"
   },
   {
    "duration": 5,
    "start_time": "2022-07-14T10:37:45.587Z"
   },
   {
    "duration": 826,
    "start_time": "2022-07-14T10:37:47.721Z"
   },
   {
    "duration": 778,
    "start_time": "2022-07-14T10:52:41.255Z"
   },
   {
    "duration": 770,
    "start_time": "2022-07-14T10:55:11.992Z"
   },
   {
    "duration": 11,
    "start_time": "2022-07-14T10:58:25.129Z"
   },
   {
    "duration": 45,
    "start_time": "2022-07-14T10:58:29.489Z"
   },
   {
    "duration": 1866,
    "start_time": "2022-07-14T10:59:21.092Z"
   },
   {
    "duration": 33,
    "start_time": "2022-07-14T10:59:55.307Z"
   },
   {
    "duration": 22,
    "start_time": "2022-07-14T11:00:17.923Z"
   },
   {
    "duration": 36,
    "start_time": "2022-07-14T11:02:29.805Z"
   },
   {
    "duration": 636,
    "start_time": "2022-07-14T11:02:44.148Z"
   },
   {
    "duration": 37,
    "start_time": "2022-07-14T11:03:10.356Z"
   },
   {
    "duration": 31,
    "start_time": "2022-07-14T11:03:27.572Z"
   },
   {
    "duration": 45,
    "start_time": "2022-07-14T11:05:02.893Z"
   },
   {
    "duration": 76,
    "start_time": "2022-07-14T11:05:44.877Z"
   },
   {
    "duration": 31,
    "start_time": "2022-07-14T11:05:49.045Z"
   },
   {
    "duration": 9,
    "start_time": "2022-07-14T11:09:08.750Z"
   },
   {
    "duration": 16,
    "start_time": "2022-07-14T11:09:14.198Z"
   },
   {
    "duration": 12,
    "start_time": "2022-07-14T11:09:40.983Z"
   },
   {
    "duration": 11,
    "start_time": "2022-07-14T11:10:13.663Z"
   },
   {
    "duration": 22,
    "start_time": "2022-07-14T11:10:26.375Z"
   },
   {
    "duration": 34,
    "start_time": "2022-07-14T11:11:10.049Z"
   },
   {
    "duration": 23,
    "start_time": "2022-07-14T11:12:00.168Z"
   },
   {
    "duration": 1815,
    "start_time": "2022-07-14T11:12:34.479Z"
   },
   {
    "duration": 1643,
    "start_time": "2022-07-14T11:12:36.296Z"
   },
   {
    "duration": 29,
    "start_time": "2022-07-14T11:12:37.941Z"
   },
   {
    "duration": 2,
    "start_time": "2022-07-14T11:12:37.972Z"
   },
   {
    "duration": 31,
    "start_time": "2022-07-14T11:12:37.976Z"
   },
   {
    "duration": 897,
    "start_time": "2022-07-14T11:12:38.009Z"
   },
   {
    "duration": 36,
    "start_time": "2022-07-14T11:12:38.908Z"
   },
   {
    "duration": 21,
    "start_time": "2022-07-14T11:12:38.946Z"
   },
   {
    "duration": 802,
    "start_time": "2022-07-14T11:12:38.969Z"
   },
   {
    "duration": 40,
    "start_time": "2022-07-14T11:12:39.773Z"
   },
   {
    "duration": 32,
    "start_time": "2022-07-14T11:13:04.505Z"
   },
   {
    "duration": 20,
    "start_time": "2022-07-14T11:13:18.609Z"
   },
   {
    "duration": 6,
    "start_time": "2022-07-14T11:19:03.564Z"
   },
   {
    "duration": 10,
    "start_time": "2022-07-14T11:27:31.526Z"
   },
   {
    "duration": 12575,
    "start_time": "2022-07-14T11:27:53.622Z"
   },
   {
    "duration": 619,
    "start_time": "2022-07-14T11:28:21.382Z"
   },
   {
    "duration": 8469,
    "start_time": "2022-07-14T11:28:51.582Z"
   },
   {
    "duration": 105,
    "start_time": "2022-07-14T11:35:04.946Z"
   },
   {
    "duration": 47,
    "start_time": "2022-07-14T11:35:57.193Z"
   },
   {
    "duration": 253,
    "start_time": "2022-07-14T11:36:22.049Z"
   },
   {
    "duration": 306,
    "start_time": "2022-07-14T11:37:42.298Z"
   },
   {
    "duration": 17,
    "start_time": "2022-07-14T11:39:41.259Z"
   },
   {
    "duration": 18,
    "start_time": "2022-07-14T11:39:59.673Z"
   },
   {
    "duration": 320,
    "start_time": "2022-07-14T11:40:18.819Z"
   },
   {
    "duration": 291,
    "start_time": "2022-07-14T11:40:29.259Z"
   },
   {
    "duration": 431,
    "start_time": "2022-07-14T11:40:35.410Z"
   },
   {
    "duration": 660,
    "start_time": "2022-07-14T11:40:48.142Z"
   },
   {
    "duration": 931,
    "start_time": "2022-07-14T11:41:04.073Z"
   },
   {
    "duration": 1408,
    "start_time": "2022-07-14T11:42:16.343Z"
   },
   {
    "duration": 353,
    "start_time": "2022-07-14T11:42:31.188Z"
   },
   {
    "duration": 926,
    "start_time": "2022-07-14T11:42:38.100Z"
   },
   {
    "duration": 95,
    "start_time": "2022-07-14T11:42:44.291Z"
   },
   {
    "duration": 326,
    "start_time": "2022-07-14T11:42:50.357Z"
   },
   {
    "duration": 905,
    "start_time": "2022-07-14T11:42:59.500Z"
   },
   {
    "duration": 875,
    "start_time": "2022-07-14T11:43:32.839Z"
   },
   {
    "duration": 31,
    "start_time": "2022-07-14T11:45:06.180Z"
   },
   {
    "duration": 29,
    "start_time": "2022-07-14T11:45:22.789Z"
   },
   {
    "duration": 925,
    "start_time": "2022-07-14T11:45:31.781Z"
   },
   {
    "duration": 1117,
    "start_time": "2022-07-14T11:45:41.673Z"
   },
   {
    "duration": 922,
    "start_time": "2022-07-14T11:45:54.274Z"
   },
   {
    "duration": 898,
    "start_time": "2022-07-14T11:46:14.749Z"
   },
   {
    "duration": 556,
    "start_time": "2022-07-14T11:46:30.528Z"
   },
   {
    "duration": 916,
    "start_time": "2022-07-14T11:46:38.694Z"
   },
   {
    "duration": 1130,
    "start_time": "2022-07-14T11:47:03.485Z"
   },
   {
    "duration": 887,
    "start_time": "2022-07-14T11:47:13.317Z"
   },
   {
    "duration": 877,
    "start_time": "2022-07-14T11:47:19.317Z"
   },
   {
    "duration": 865,
    "start_time": "2022-07-14T11:47:56.318Z"
   },
   {
    "duration": 896,
    "start_time": "2022-07-14T11:48:44.694Z"
   },
   {
    "duration": 1072,
    "start_time": "2022-07-14T11:48:59.273Z"
   },
   {
    "duration": 27,
    "start_time": "2022-07-14T11:57:48.438Z"
   },
   {
    "duration": 1550,
    "start_time": "2022-07-14T11:58:01.355Z"
   },
   {
    "duration": 1620,
    "start_time": "2022-07-14T11:58:14.185Z"
   },
   {
    "duration": 1576,
    "start_time": "2022-07-14T11:58:22.183Z"
   },
   {
    "duration": 941,
    "start_time": "2022-07-14T11:59:32.082Z"
   },
   {
    "duration": 1732,
    "start_time": "2022-07-14T11:59:33.872Z"
   },
   {
    "duration": 1496,
    "start_time": "2022-07-14T11:59:54.298Z"
   },
   {
    "duration": 890,
    "start_time": "2022-07-14T12:00:29.931Z"
   },
   {
    "duration": 938,
    "start_time": "2022-07-14T12:00:40.851Z"
   },
   {
    "duration": 873,
    "start_time": "2022-07-14T12:00:47.434Z"
   },
   {
    "duration": 1150,
    "start_time": "2022-07-14T12:00:54.106Z"
   },
   {
    "duration": 954,
    "start_time": "2022-07-14T12:01:03.050Z"
   },
   {
    "duration": 109,
    "start_time": "2022-07-14T12:01:29.211Z"
   },
   {
    "duration": 920,
    "start_time": "2022-07-14T12:01:34.074Z"
   },
   {
    "duration": 84,
    "start_time": "2022-07-14T12:02:07.284Z"
   },
   {
    "duration": 1594,
    "start_time": "2022-07-14T12:02:11.291Z"
   },
   {
    "duration": 4,
    "start_time": "2022-07-14T12:06:54.740Z"
   },
   {
    "duration": 4,
    "start_time": "2022-07-14T12:07:01.941Z"
   },
   {
    "duration": 17,
    "start_time": "2022-07-14T12:32:45.302Z"
   },
   {
    "duration": 16,
    "start_time": "2022-07-14T12:33:18.663Z"
   },
   {
    "duration": 18,
    "start_time": "2022-07-14T12:33:48.904Z"
   },
   {
    "duration": 4,
    "start_time": "2022-07-14T12:39:28.421Z"
   },
   {
    "duration": 12,
    "start_time": "2022-07-14T12:40:05.917Z"
   },
   {
    "duration": 4,
    "start_time": "2022-07-14T12:40:12.095Z"
   },
   {
    "duration": 4,
    "start_time": "2022-07-14T12:40:35.881Z"
   },
   {
    "duration": 6,
    "start_time": "2022-07-14T12:40:37.575Z"
   },
   {
    "duration": 4,
    "start_time": "2022-07-14T12:40:58.441Z"
   },
   {
    "duration": 4,
    "start_time": "2022-07-14T12:40:59.880Z"
   },
   {
    "duration": 4,
    "start_time": "2022-07-14T12:41:25.449Z"
   },
   {
    "duration": 3,
    "start_time": "2022-07-14T12:41:46.968Z"
   },
   {
    "duration": 5,
    "start_time": "2022-07-14T12:49:26.042Z"
   },
   {
    "duration": 7,
    "start_time": "2022-07-14T12:52:31.110Z"
   },
   {
    "duration": 228,
    "start_time": "2022-07-14T12:53:15.277Z"
   },
   {
    "duration": 2453,
    "start_time": "2022-07-14T12:53:27.876Z"
   },
   {
    "duration": 187,
    "start_time": "2022-07-14T12:53:35.541Z"
   },
   {
    "duration": 7,
    "start_time": "2022-07-14T12:53:51.653Z"
   },
   {
    "duration": 217,
    "start_time": "2022-07-14T12:53:53.101Z"
   },
   {
    "duration": 4,
    "start_time": "2022-07-14T12:54:08.324Z"
   },
   {
    "duration": 212,
    "start_time": "2022-07-14T12:54:09.804Z"
   },
   {
    "duration": 4,
    "start_time": "2022-07-14T12:54:21.309Z"
   },
   {
    "duration": 200,
    "start_time": "2022-07-14T12:54:22.213Z"
   },
   {
    "duration": 207,
    "start_time": "2022-07-14T12:55:06.997Z"
   },
   {
    "duration": 5,
    "start_time": "2022-07-14T12:55:32.900Z"
   },
   {
    "duration": 31,
    "start_time": "2022-07-14T12:55:33.776Z"
   },
   {
    "duration": 6,
    "start_time": "2022-07-14T12:56:17.734Z"
   },
   {
    "duration": 206,
    "start_time": "2022-07-14T12:56:18.397Z"
   },
   {
    "duration": 17,
    "start_time": "2022-07-14T12:57:04.198Z"
   },
   {
    "duration": 84,
    "start_time": "2022-07-14T12:57:05.974Z"
   },
   {
    "duration": 8,
    "start_time": "2022-07-14T12:57:29.291Z"
   },
   {
    "duration": 209,
    "start_time": "2022-07-14T12:57:31.302Z"
   },
   {
    "duration": 6,
    "start_time": "2022-07-14T17:38:13.184Z"
   },
   {
    "duration": 53,
    "start_time": "2022-07-14T17:38:15.358Z"
   },
   {
    "duration": 5,
    "start_time": "2022-07-14T17:38:22.110Z"
   },
   {
    "duration": 38,
    "start_time": "2022-07-14T17:38:23.766Z"
   },
   {
    "duration": 4,
    "start_time": "2022-07-14T17:39:29.144Z"
   },
   {
    "duration": 190,
    "start_time": "2022-07-14T17:39:33.222Z"
   },
   {
    "duration": 5,
    "start_time": "2022-07-14T17:39:43.782Z"
   },
   {
    "duration": 93,
    "start_time": "2022-07-14T17:39:45.319Z"
   },
   {
    "duration": 4,
    "start_time": "2022-07-14T17:39:58.078Z"
   },
   {
    "duration": 151,
    "start_time": "2022-07-14T17:39:59.990Z"
   },
   {
    "duration": 260,
    "start_time": "2022-07-14T17:40:15.648Z"
   },
   {
    "duration": 4,
    "start_time": "2022-07-14T17:40:27.199Z"
   },
   {
    "duration": 130,
    "start_time": "2022-07-14T17:40:29.176Z"
   },
   {
    "duration": 119,
    "start_time": "2022-07-14T17:45:11.986Z"
   },
   {
    "duration": 198,
    "start_time": "2022-07-14T17:47:58.226Z"
   },
   {
    "duration": 164,
    "start_time": "2022-07-14T17:51:41.156Z"
   },
   {
    "duration": 157,
    "start_time": "2022-07-14T17:51:42.452Z"
   },
   {
    "duration": 117,
    "start_time": "2022-07-14T17:51:44.387Z"
   },
   {
    "duration": 251,
    "start_time": "2022-07-14T17:52:14.156Z"
   },
   {
    "duration": 5,
    "start_time": "2022-07-14T17:53:05.386Z"
   },
   {
    "duration": 485,
    "start_time": "2022-07-14T17:53:06.813Z"
   },
   {
    "duration": 627,
    "start_time": "2022-07-14T17:53:12.557Z"
   },
   {
    "duration": 440,
    "start_time": "2022-07-14T17:53:36.740Z"
   },
   {
    "duration": 4,
    "start_time": "2022-07-14T18:02:54.377Z"
   },
   {
    "duration": 3,
    "start_time": "2022-07-14T18:02:56.512Z"
   },
   {
    "duration": 76,
    "start_time": "2022-07-14T18:03:09.872Z"
   },
   {
    "duration": 3,
    "start_time": "2022-07-14T18:03:15.017Z"
   },
   {
    "duration": 4,
    "start_time": "2022-07-14T18:03:16.752Z"
   },
   {
    "duration": 4,
    "start_time": "2022-07-14T18:03:32.769Z"
   },
   {
    "duration": 4,
    "start_time": "2022-07-14T18:03:34.751Z"
   },
   {
    "duration": 3,
    "start_time": "2022-07-14T18:03:36.272Z"
   },
   {
    "duration": 3,
    "start_time": "2022-07-14T18:14:34.580Z"
   },
   {
    "duration": 4,
    "start_time": "2022-07-14T18:14:43.006Z"
   },
   {
    "duration": 3,
    "start_time": "2022-07-14T18:15:04.725Z"
   },
   {
    "duration": 4,
    "start_time": "2022-07-14T18:15:10.117Z"
   },
   {
    "duration": 6,
    "start_time": "2022-07-14T18:45:28.131Z"
   },
   {
    "duration": 7,
    "start_time": "2022-07-14T18:46:24.380Z"
   },
   {
    "duration": 1012,
    "start_time": "2022-07-14T18:48:29.108Z"
   },
   {
    "duration": 4,
    "start_time": "2022-07-14T18:48:44.901Z"
   },
   {
    "duration": 1015,
    "start_time": "2022-07-14T18:48:45.499Z"
   },
   {
    "duration": 5,
    "start_time": "2022-07-14T18:53:14.856Z"
   },
   {
    "duration": 10,
    "start_time": "2022-07-14T18:53:15.835Z"
   },
   {
    "duration": 1011,
    "start_time": "2022-07-14T18:53:25.991Z"
   },
   {
    "duration": 1062,
    "start_time": "2022-07-14T18:54:53.900Z"
   },
   {
    "duration": 1124,
    "start_time": "2022-07-14T18:54:55.290Z"
   },
   {
    "duration": 1087,
    "start_time": "2022-07-14T18:54:56.518Z"
   },
   {
    "duration": 4,
    "start_time": "2022-07-14T18:56:16.691Z"
   },
   {
    "duration": 1037,
    "start_time": "2022-07-14T18:56:18.981Z"
   },
   {
    "duration": 1011,
    "start_time": "2022-07-14T18:56:21.948Z"
   },
   {
    "duration": 1045,
    "start_time": "2022-07-14T18:56:24.478Z"
   },
   {
    "duration": 7,
    "start_time": "2022-07-14T18:57:01.341Z"
   },
   {
    "duration": 1051,
    "start_time": "2022-07-14T18:57:02.715Z"
   },
   {
    "duration": 1127,
    "start_time": "2022-07-14T18:57:05.131Z"
   },
   {
    "duration": 1112,
    "start_time": "2022-07-14T18:57:06.787Z"
   },
   {
    "duration": 1021,
    "start_time": "2022-07-14T18:58:30.587Z"
   },
   {
    "duration": 1097,
    "start_time": "2022-07-14T18:58:32.955Z"
   },
   {
    "duration": 1014,
    "start_time": "2022-07-14T18:58:35.291Z"
   },
   {
    "duration": 1025,
    "start_time": "2022-07-14T18:58:37.481Z"
   },
   {
    "duration": 1014,
    "start_time": "2022-07-14T18:58:39.115Z"
   },
   {
    "duration": 1010,
    "start_time": "2022-07-14T18:58:40.699Z"
   },
   {
    "duration": 1046,
    "start_time": "2022-07-14T18:58:42.282Z"
   },
   {
    "duration": 1035,
    "start_time": "2022-07-14T18:58:44.298Z"
   },
   {
    "duration": 1030,
    "start_time": "2022-07-14T18:58:49.155Z"
   },
   {
    "duration": 3,
    "start_time": "2022-07-14T19:21:01.173Z"
   },
   {
    "duration": 3,
    "start_time": "2022-07-14T19:21:27.948Z"
   },
   {
    "duration": 4,
    "start_time": "2022-07-14T19:21:46.455Z"
   },
   {
    "duration": 4,
    "start_time": "2022-07-14T19:22:59.519Z"
   },
   {
    "duration": 101,
    "start_time": "2022-07-14T19:23:10.608Z"
   },
   {
    "duration": 4090,
    "start_time": "2022-07-14T19:26:28.425Z"
   },
   {
    "duration": 1027,
    "start_time": "2022-07-14T19:26:32.517Z"
   },
   {
    "duration": 32,
    "start_time": "2022-07-14T19:26:33.546Z"
   },
   {
    "duration": 3,
    "start_time": "2022-07-14T19:26:33.579Z"
   },
   {
    "duration": 19,
    "start_time": "2022-07-14T19:26:33.583Z"
   },
   {
    "duration": 790,
    "start_time": "2022-07-14T19:26:33.603Z"
   },
   {
    "duration": 37,
    "start_time": "2022-07-14T19:26:34.394Z"
   },
   {
    "duration": 20,
    "start_time": "2022-07-14T19:26:34.432Z"
   },
   {
    "duration": 829,
    "start_time": "2022-07-14T19:26:34.454Z"
   },
   {
    "duration": 39,
    "start_time": "2022-07-14T19:26:35.286Z"
   },
   {
    "duration": 18,
    "start_time": "2022-07-14T19:26:35.327Z"
   },
   {
    "duration": 6,
    "start_time": "2022-07-14T19:26:35.347Z"
   },
   {
    "duration": 781,
    "start_time": "2022-07-14T19:26:35.355Z"
   },
   {
    "duration": 30,
    "start_time": "2022-07-14T19:26:36.137Z"
   },
   {
    "duration": 126,
    "start_time": "2022-07-14T19:26:36.168Z"
   },
   {
    "duration": 0,
    "start_time": "2022-07-14T19:26:36.296Z"
   },
   {
    "duration": 0,
    "start_time": "2022-07-14T19:26:36.297Z"
   },
   {
    "duration": 0,
    "start_time": "2022-07-14T19:26:36.301Z"
   },
   {
    "duration": 0,
    "start_time": "2022-07-14T19:26:36.302Z"
   },
   {
    "duration": 0,
    "start_time": "2022-07-14T19:26:36.303Z"
   },
   {
    "duration": 0,
    "start_time": "2022-07-14T19:26:36.304Z"
   },
   {
    "duration": 0,
    "start_time": "2022-07-14T19:26:36.305Z"
   },
   {
    "duration": 0,
    "start_time": "2022-07-14T19:26:36.306Z"
   },
   {
    "duration": 0,
    "start_time": "2022-07-14T19:26:36.307Z"
   },
   {
    "duration": 1,
    "start_time": "2022-07-14T19:26:36.307Z"
   },
   {
    "duration": 0,
    "start_time": "2022-07-14T19:26:36.309Z"
   },
   {
    "duration": 0,
    "start_time": "2022-07-14T19:26:36.310Z"
   },
   {
    "duration": 0,
    "start_time": "2022-07-14T19:26:36.311Z"
   },
   {
    "duration": 0,
    "start_time": "2022-07-14T19:26:36.311Z"
   },
   {
    "duration": 0,
    "start_time": "2022-07-14T19:26:36.312Z"
   },
   {
    "duration": 0,
    "start_time": "2022-07-14T19:26:36.313Z"
   },
   {
    "duration": 0,
    "start_time": "2022-07-14T19:26:36.314Z"
   },
   {
    "duration": 0,
    "start_time": "2022-07-14T19:26:36.315Z"
   },
   {
    "duration": 0,
    "start_time": "2022-07-14T19:26:36.316Z"
   },
   {
    "duration": 0,
    "start_time": "2022-07-14T19:26:36.316Z"
   },
   {
    "duration": 19,
    "start_time": "2022-07-14T19:27:44.925Z"
   },
   {
    "duration": 3302,
    "start_time": "2022-07-14T19:27:56.537Z"
   },
   {
    "duration": 1117,
    "start_time": "2022-07-14T19:27:59.841Z"
   },
   {
    "duration": 32,
    "start_time": "2022-07-14T19:28:00.960Z"
   },
   {
    "duration": 2,
    "start_time": "2022-07-14T19:28:01.003Z"
   },
   {
    "duration": 8,
    "start_time": "2022-07-14T19:28:01.007Z"
   },
   {
    "duration": 861,
    "start_time": "2022-07-14T19:28:01.016Z"
   },
   {
    "duration": 47,
    "start_time": "2022-07-14T19:28:01.878Z"
   },
   {
    "duration": 20,
    "start_time": "2022-07-14T19:28:01.927Z"
   },
   {
    "duration": 893,
    "start_time": "2022-07-14T19:28:01.948Z"
   },
   {
    "duration": 31,
    "start_time": "2022-07-14T19:28:02.843Z"
   },
   {
    "duration": 29,
    "start_time": "2022-07-14T19:28:02.875Z"
   },
   {
    "duration": 7,
    "start_time": "2022-07-14T19:28:02.909Z"
   },
   {
    "duration": 838,
    "start_time": "2022-07-14T19:28:02.917Z"
   },
   {
    "duration": 35,
    "start_time": "2022-07-14T19:28:03.757Z"
   },
   {
    "duration": 23,
    "start_time": "2022-07-14T19:28:03.802Z"
   },
   {
    "duration": 146,
    "start_time": "2022-07-14T19:28:03.826Z"
   },
   {
    "duration": 0,
    "start_time": "2022-07-14T19:28:03.974Z"
   },
   {
    "duration": 0,
    "start_time": "2022-07-14T19:28:03.975Z"
   },
   {
    "duration": 0,
    "start_time": "2022-07-14T19:28:03.976Z"
   },
   {
    "duration": 1,
    "start_time": "2022-07-14T19:28:03.977Z"
   },
   {
    "duration": 0,
    "start_time": "2022-07-14T19:28:03.979Z"
   },
   {
    "duration": 0,
    "start_time": "2022-07-14T19:28:03.980Z"
   },
   {
    "duration": 0,
    "start_time": "2022-07-14T19:28:03.981Z"
   },
   {
    "duration": 0,
    "start_time": "2022-07-14T19:28:03.981Z"
   },
   {
    "duration": 0,
    "start_time": "2022-07-14T19:28:03.982Z"
   },
   {
    "duration": 0,
    "start_time": "2022-07-14T19:28:03.983Z"
   },
   {
    "duration": 0,
    "start_time": "2022-07-14T19:28:03.984Z"
   },
   {
    "duration": 0,
    "start_time": "2022-07-14T19:28:03.985Z"
   },
   {
    "duration": 0,
    "start_time": "2022-07-14T19:28:04.002Z"
   },
   {
    "duration": 0,
    "start_time": "2022-07-14T19:28:04.003Z"
   },
   {
    "duration": 0,
    "start_time": "2022-07-14T19:28:04.004Z"
   },
   {
    "duration": 0,
    "start_time": "2022-07-14T19:28:04.005Z"
   },
   {
    "duration": 0,
    "start_time": "2022-07-14T19:28:04.005Z"
   },
   {
    "duration": 0,
    "start_time": "2022-07-14T19:28:04.006Z"
   },
   {
    "duration": 0,
    "start_time": "2022-07-14T19:28:04.007Z"
   },
   {
    "duration": 6039,
    "start_time": "2022-07-14T21:09:57.337Z"
   },
   {
    "duration": 920,
    "start_time": "2022-07-14T21:10:03.379Z"
   },
   {
    "duration": 36,
    "start_time": "2022-07-14T21:10:04.301Z"
   },
   {
    "duration": 4,
    "start_time": "2022-07-14T21:10:04.339Z"
   },
   {
    "duration": 9,
    "start_time": "2022-07-14T21:10:04.345Z"
   },
   {
    "duration": 940,
    "start_time": "2022-07-14T21:10:04.356Z"
   },
   {
    "duration": 50,
    "start_time": "2022-07-14T21:10:05.298Z"
   },
   {
    "duration": 57,
    "start_time": "2022-07-14T21:10:05.349Z"
   },
   {
    "duration": 1020,
    "start_time": "2022-07-14T21:10:05.408Z"
   },
   {
    "duration": 36,
    "start_time": "2022-07-14T21:10:06.430Z"
   },
   {
    "duration": 56,
    "start_time": "2022-07-14T21:10:06.468Z"
   },
   {
    "duration": 6,
    "start_time": "2022-07-14T21:10:06.525Z"
   },
   {
    "duration": 846,
    "start_time": "2022-07-14T21:10:06.533Z"
   },
   {
    "duration": 42,
    "start_time": "2022-07-14T21:10:07.381Z"
   },
   {
    "duration": 19,
    "start_time": "2022-07-14T21:10:07.424Z"
   },
   {
    "duration": 146,
    "start_time": "2022-07-14T21:10:07.444Z"
   },
   {
    "duration": 0,
    "start_time": "2022-07-14T21:10:07.591Z"
   },
   {
    "duration": 0,
    "start_time": "2022-07-14T21:10:07.600Z"
   },
   {
    "duration": 0,
    "start_time": "2022-07-14T21:10:07.601Z"
   },
   {
    "duration": 0,
    "start_time": "2022-07-14T21:10:07.601Z"
   },
   {
    "duration": 0,
    "start_time": "2022-07-14T21:10:07.603Z"
   },
   {
    "duration": 0,
    "start_time": "2022-07-14T21:10:07.604Z"
   },
   {
    "duration": 0,
    "start_time": "2022-07-14T21:10:07.605Z"
   },
   {
    "duration": 0,
    "start_time": "2022-07-14T21:10:07.605Z"
   },
   {
    "duration": 0,
    "start_time": "2022-07-14T21:10:07.606Z"
   },
   {
    "duration": 0,
    "start_time": "2022-07-14T21:10:07.611Z"
   },
   {
    "duration": 0,
    "start_time": "2022-07-14T21:10:07.612Z"
   },
   {
    "duration": 0,
    "start_time": "2022-07-14T21:10:07.613Z"
   },
   {
    "duration": 1,
    "start_time": "2022-07-14T21:10:07.613Z"
   },
   {
    "duration": 0,
    "start_time": "2022-07-14T21:10:07.614Z"
   },
   {
    "duration": 0,
    "start_time": "2022-07-14T21:10:07.615Z"
   },
   {
    "duration": 0,
    "start_time": "2022-07-14T21:10:07.616Z"
   },
   {
    "duration": 0,
    "start_time": "2022-07-14T21:10:07.616Z"
   },
   {
    "duration": 0,
    "start_time": "2022-07-14T21:10:07.617Z"
   },
   {
    "duration": 0,
    "start_time": "2022-07-14T21:10:07.618Z"
   },
   {
    "duration": 1866,
    "start_time": "2022-07-14T21:10:31.826Z"
   },
   {
    "duration": 855,
    "start_time": "2022-07-14T21:10:33.695Z"
   },
   {
    "duration": 32,
    "start_time": "2022-07-14T21:10:34.551Z"
   },
   {
    "duration": 18,
    "start_time": "2022-07-14T21:10:34.584Z"
   },
   {
    "duration": 10,
    "start_time": "2022-07-14T21:10:34.604Z"
   },
   {
    "duration": 1007,
    "start_time": "2022-07-14T21:10:34.616Z"
   },
   {
    "duration": 35,
    "start_time": "2022-07-14T21:10:35.625Z"
   },
   {
    "duration": 49,
    "start_time": "2022-07-14T21:10:35.662Z"
   },
   {
    "duration": 864,
    "start_time": "2022-07-14T21:10:35.712Z"
   },
   {
    "duration": 50,
    "start_time": "2022-07-14T21:10:36.580Z"
   },
   {
    "duration": 19,
    "start_time": "2022-07-14T21:10:36.632Z"
   },
   {
    "duration": 6,
    "start_time": "2022-07-14T21:10:36.652Z"
   },
   {
    "duration": 901,
    "start_time": "2022-07-14T21:10:36.659Z"
   },
   {
    "duration": 56,
    "start_time": "2022-07-14T21:10:37.561Z"
   },
   {
    "duration": 20,
    "start_time": "2022-07-14T21:10:37.619Z"
   },
   {
    "duration": 1094,
    "start_time": "2022-07-14T21:10:37.641Z"
   },
   {
    "duration": 1690,
    "start_time": "2022-07-14T21:10:38.737Z"
   },
   {
    "duration": 12,
    "start_time": "2022-07-14T21:10:40.428Z"
   },
   {
    "duration": 17,
    "start_time": "2022-07-14T21:10:40.441Z"
   },
   {
    "duration": 11,
    "start_time": "2022-07-14T21:10:40.460Z"
   },
   {
    "duration": 4,
    "start_time": "2022-07-14T21:10:40.472Z"
   },
   {
    "duration": 36,
    "start_time": "2022-07-14T21:10:40.477Z"
   },
   {
    "duration": 7,
    "start_time": "2022-07-14T21:10:40.515Z"
   },
   {
    "duration": 6,
    "start_time": "2022-07-14T21:10:40.523Z"
   },
   {
    "duration": 6,
    "start_time": "2022-07-14T21:10:40.530Z"
   },
   {
    "duration": 557,
    "start_time": "2022-07-14T21:10:40.537Z"
   },
   {
    "duration": 514,
    "start_time": "2022-07-14T21:10:41.095Z"
   },
   {
    "duration": 476,
    "start_time": "2022-07-14T21:10:41.612Z"
   },
   {
    "duration": 4,
    "start_time": "2022-07-14T21:10:42.090Z"
   },
   {
    "duration": 23,
    "start_time": "2022-07-14T21:10:42.096Z"
   },
   {
    "duration": 13,
    "start_time": "2022-07-14T21:10:42.120Z"
   },
   {
    "duration": 5,
    "start_time": "2022-07-14T21:10:42.135Z"
   },
   {
    "duration": 1234,
    "start_time": "2022-07-14T21:10:42.141Z"
   },
   {
    "duration": 1119,
    "start_time": "2022-07-14T21:10:43.377Z"
   },
   {
    "duration": 1148,
    "start_time": "2022-07-14T21:10:44.497Z"
   }
  ],
  "kernelspec": {
   "display_name": "Python 3 (ipykernel)",
   "language": "python",
   "name": "python3"
  },
  "language_info": {
   "codemirror_mode": {
    "name": "ipython",
    "version": 3
   },
   "file_extension": ".py",
   "mimetype": "text/x-python",
   "name": "python",
   "nbconvert_exporter": "python",
   "pygments_lexer": "ipython3",
   "version": "3.9.13"
  },
  "toc": {
   "base_numbering": 1,
   "nav_menu": {},
   "number_sections": true,
   "sideBar": true,
   "skip_h1_title": true,
   "title_cell": "Table of Contents",
   "title_sidebar": "Contents",
   "toc_cell": true,
   "toc_position": {
    "height": "calc(100% - 180px)",
    "left": "10px",
    "top": "150px",
    "width": "303.837px"
   },
   "toc_section_display": true,
   "toc_window_display": false
  }
 },
 "nbformat": 4,
 "nbformat_minor": 2
}
