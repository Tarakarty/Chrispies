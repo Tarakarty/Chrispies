{
 "cells": [
  {
   "cell_type": "markdown",
   "metadata": {},
   "source": [
    "# Определение стоимости автомобилей"
   ]
  },
  {
   "cell_type": "markdown",
   "metadata": {},
   "source": [
    "Сервис по продаже автомобилей с пробегом «Не бит, не крашен» разрабатывает приложение для привлечения новых клиентов. В нём можно быстро узнать рыночную стоимость своего автомобиля. В нашем распоряжении исторические данные: технические характеристики, комплектации и цены автомобилей. Нам нужно построить модель для определения стоимости. \n",
    "\n",
    "Заказчику важны:\n",
    "\n",
    "- качество предсказания\n",
    "- скорость предсказания\n",
    "- время обучения"
   ]
  },
  {
   "cell_type": "markdown",
   "metadata": {},
   "source": [
    "## Подготовка данных"
   ]
  },
  {
   "cell_type": "markdown",
   "metadata": {},
   "source": [
    "Загркзка библиотек"
   ]
  },
  {
   "cell_type": "code",
   "execution_count": 1,
   "metadata": {},
   "outputs": [],
   "source": [
    "import time as t\n",
    "tglobal = t.time()\n",
    "\n",
    "import pandas as pd\n",
    "import numpy as np\n",
    "import matplotlib.pyplot as plt\n",
    "import seaborn as sns\n",
    "\n",
    "from sklearn.model_selection import train_test_split, KFold, cross_val_score\n",
    "from sklearn.metrics import mean_squared_error\n",
    "\n",
    "from sklearn.dummy import DummyRegressor\n",
    "from sklearn.linear_model import Lasso, Ridge, ElasticNet\n",
    "from sklearn.ensemble import RandomForestRegressor\n",
    "\n",
    "!pip install catboost -q\n",
    "from catboost import CatBoostRegressor\n",
    "from catboost.metrics import RMSE\n",
    "\n",
    "!pip install lightgbm -q\n",
    "!pip install xgboost -q\n",
    "from xgboost import XGBRegressor\n",
    "from lightgbm import LGBMRegressor\n",
    "\n",
    "!pip install optuna -q\n",
    "import optuna\n",
    "\n",
    "!pip install skimpy --q\n",
    "from skimpy import clean_columns\n",
    "\n",
    "sns.set(rc={'figure.figsize':(10,6)})"
   ]
  },
  {
   "cell_type": "markdown",
   "metadata": {},
   "source": [
    "Вспомогашки для обзора данных"
   ]
  },
  {
   "cell_type": "code",
   "execution_count": 2,
   "metadata": {},
   "outputs": [],
   "source": [
    "class colors:\n",
    "    HEADER = '\\033[95m'\n",
    "    BLUE = '\\033[94m'\n",
    "    CYAN = '\\033[96m'\n",
    "    GREEN = '\\033[92m'\n",
    "    WARNING = '\\033[93m'\n",
    "    FAIL = '\\033[91m'\n",
    "    ENDC = '\\033[0m'\n",
    "    BOLD = '\\033[1m'\n",
    "    UNDERLINE = '\\033[4m'"
   ]
  },
  {
   "cell_type": "code",
   "execution_count": 3,
   "metadata": {},
   "outputs": [],
   "source": [
    "def loses (df):\n",
    "    len_loses = np.sum(df.isna(), axis=1)!=0\n",
    "    len_loses = len_loses.sum()\n",
    "    \n",
    "    len_data = df.shape[0]\n",
    "    \n",
    "    loses_frac = len_loses / len_data\n",
    "    \n",
    "    print(f'В выборке {len_loses} строк с пропусками')\n",
    "    print(f'Это составляет {loses_frac:.2%} от всей выборки')"
   ]
  },
  {
   "cell_type": "code",
   "execution_count": 4,
   "metadata": {},
   "outputs": [],
   "source": [
    "def data_overview (df):\n",
    "    print(colors.BOLD + 'Dataset info' + colors.ENDC)\n",
    "    print(df.info())\n",
    "    print()\n",
    "    \n",
    "    print(colors.BOLD + 'Duplicates:' + colors.ENDC)\n",
    "    print('Count:', df.duplicated().sum())\n",
    "    print('Percent:', df.duplicated().sum()/len(df))\n",
    "    print()\n",
    "    \n",
    "    print(colors.BOLD + \"NaN's\" + colors.ENDC)\n",
    "    display(pd.concat([df.isna().sum().rename('nan_count'), \n",
    "                   df.isna().mean().rename('nan_percent'),\n",
    "                   df.nunique().rename('unique_values')], \n",
    "                  axis=1))\n",
    "    \n",
    "    len_loses = np.sum(df.isna(), axis=1)!=0\n",
    "    len_loses = len_loses.sum()\n",
    "    len_data = df.shape[0]\n",
    "    loses_frac = len_loses / len_data\n",
    "    print(colors.BOLD + f'В выборке {len_loses} строк с пропусками' + colors.ENDC)\n",
    "    print(colors.BOLD + f'Это составляет {loses_frac:.2%} от всей выборки' + colors.ENDC)\n",
    "\n",
    "\n",
    "    print()\n",
    "    \n",
    "    print(colors.BOLD + 'Numeric cols description' + colors.ENDC)\n",
    "    print(df.describe())\n",
    "    df.hist(bins=50, figsize=(19,10))\n",
    "    #plt.show()"
   ]
  },
  {
   "cell_type": "markdown",
   "metadata": {},
   "source": [
    "Загрузка и обзор данных"
   ]
  },
  {
   "cell_type": "code",
   "execution_count": 6,
   "metadata": {
    "scrolled": true
   },
   "outputs": [
    {
     "data": {
      "text/html": [
       "<div>\n",
       "<style scoped>\n",
       "    .dataframe tbody tr th:only-of-type {\n",
       "        vertical-align: middle;\n",
       "    }\n",
       "\n",
       "    .dataframe tbody tr th {\n",
       "        vertical-align: top;\n",
       "    }\n",
       "\n",
       "    .dataframe thead th {\n",
       "        text-align: right;\n",
       "    }\n",
       "</style>\n",
       "<table border=\"1\" class=\"dataframe\">\n",
       "  <thead>\n",
       "    <tr style=\"text-align: right;\">\n",
       "      <th></th>\n",
       "      <th>DateCrawled</th>\n",
       "      <th>Price</th>\n",
       "      <th>VehicleType</th>\n",
       "      <th>RegistrationYear</th>\n",
       "      <th>Gearbox</th>\n",
       "      <th>Power</th>\n",
       "      <th>Model</th>\n",
       "      <th>Kilometer</th>\n",
       "      <th>RegistrationMonth</th>\n",
       "      <th>FuelType</th>\n",
       "      <th>Brand</th>\n",
       "      <th>NotRepaired</th>\n",
       "      <th>DateCreated</th>\n",
       "      <th>NumberOfPictures</th>\n",
       "      <th>PostalCode</th>\n",
       "      <th>LastSeen</th>\n",
       "    </tr>\n",
       "  </thead>\n",
       "  <tbody>\n",
       "    <tr>\n",
       "      <th>4709</th>\n",
       "      <td>2016-03-10 21:55:47</td>\n",
       "      <td>1800</td>\n",
       "      <td>coupe</td>\n",
       "      <td>2000</td>\n",
       "      <td>manual</td>\n",
       "      <td>0</td>\n",
       "      <td>clk</td>\n",
       "      <td>150000</td>\n",
       "      <td>10</td>\n",
       "      <td>petrol</td>\n",
       "      <td>mercedes_benz</td>\n",
       "      <td>no</td>\n",
       "      <td>2016-03-10 00:00:00</td>\n",
       "      <td>0</td>\n",
       "      <td>45661</td>\n",
       "      <td>2016-03-12 14:16:33</td>\n",
       "    </tr>\n",
       "    <tr>\n",
       "      <th>110723</th>\n",
       "      <td>2016-03-17 21:53:40</td>\n",
       "      <td>14990</td>\n",
       "      <td>wagon</td>\n",
       "      <td>2009</td>\n",
       "      <td>manual</td>\n",
       "      <td>170</td>\n",
       "      <td>a6</td>\n",
       "      <td>70000</td>\n",
       "      <td>3</td>\n",
       "      <td>petrol</td>\n",
       "      <td>audi</td>\n",
       "      <td>no</td>\n",
       "      <td>2016-03-17 00:00:00</td>\n",
       "      <td>0</td>\n",
       "      <td>88499</td>\n",
       "      <td>2016-03-29 05:15:31</td>\n",
       "    </tr>\n",
       "    <tr>\n",
       "      <th>76332</th>\n",
       "      <td>2016-03-17 11:25:25</td>\n",
       "      <td>500</td>\n",
       "      <td>sedan</td>\n",
       "      <td>1999</td>\n",
       "      <td>manual</td>\n",
       "      <td>136</td>\n",
       "      <td>galant</td>\n",
       "      <td>150000</td>\n",
       "      <td>12</td>\n",
       "      <td>petrol</td>\n",
       "      <td>mitsubishi</td>\n",
       "      <td>no</td>\n",
       "      <td>2016-03-17 00:00:00</td>\n",
       "      <td>0</td>\n",
       "      <td>60433</td>\n",
       "      <td>2016-03-31 06:15:37</td>\n",
       "    </tr>\n",
       "    <tr>\n",
       "      <th>83622</th>\n",
       "      <td>2016-03-29 13:58:36</td>\n",
       "      <td>2000</td>\n",
       "      <td>wagon</td>\n",
       "      <td>2002</td>\n",
       "      <td>manual</td>\n",
       "      <td>145</td>\n",
       "      <td>mondeo</td>\n",
       "      <td>150000</td>\n",
       "      <td>2</td>\n",
       "      <td>petrol</td>\n",
       "      <td>ford</td>\n",
       "      <td>no</td>\n",
       "      <td>2016-03-29 00:00:00</td>\n",
       "      <td>0</td>\n",
       "      <td>74831</td>\n",
       "      <td>2016-04-06 00:15:26</td>\n",
       "    </tr>\n",
       "    <tr>\n",
       "      <th>220943</th>\n",
       "      <td>2016-03-11 13:46:24</td>\n",
       "      <td>2899</td>\n",
       "      <td>wagon</td>\n",
       "      <td>2002</td>\n",
       "      <td>manual</td>\n",
       "      <td>170</td>\n",
       "      <td>3er</td>\n",
       "      <td>150000</td>\n",
       "      <td>3</td>\n",
       "      <td>petrol</td>\n",
       "      <td>bmw</td>\n",
       "      <td>no</td>\n",
       "      <td>2016-03-11 00:00:00</td>\n",
       "      <td>0</td>\n",
       "      <td>12349</td>\n",
       "      <td>2016-03-12 03:15:53</td>\n",
       "    </tr>\n",
       "  </tbody>\n",
       "</table>\n",
       "</div>"
      ],
      "text/plain": [
       "                DateCrawled  Price VehicleType  RegistrationYear Gearbox  \\\n",
       "4709    2016-03-10 21:55:47   1800       coupe              2000  manual   \n",
       "110723  2016-03-17 21:53:40  14990       wagon              2009  manual   \n",
       "76332   2016-03-17 11:25:25    500       sedan              1999  manual   \n",
       "83622   2016-03-29 13:58:36   2000       wagon              2002  manual   \n",
       "220943  2016-03-11 13:46:24   2899       wagon              2002  manual   \n",
       "\n",
       "        Power   Model  Kilometer  RegistrationMonth FuelType          Brand  \\\n",
       "4709        0     clk     150000                 10   petrol  mercedes_benz   \n",
       "110723    170      a6      70000                  3   petrol           audi   \n",
       "76332     136  galant     150000                 12   petrol     mitsubishi   \n",
       "83622     145  mondeo     150000                  2   petrol           ford   \n",
       "220943    170     3er     150000                  3   petrol            bmw   \n",
       "\n",
       "       NotRepaired          DateCreated  NumberOfPictures  PostalCode  \\\n",
       "4709            no  2016-03-10 00:00:00                 0       45661   \n",
       "110723          no  2016-03-17 00:00:00                 0       88499   \n",
       "76332           no  2016-03-17 00:00:00                 0       60433   \n",
       "83622           no  2016-03-29 00:00:00                 0       74831   \n",
       "220943          no  2016-03-11 00:00:00                 0       12349   \n",
       "\n",
       "                   LastSeen  \n",
       "4709    2016-03-12 14:16:33  \n",
       "110723  2016-03-29 05:15:31  \n",
       "76332   2016-03-31 06:15:37  \n",
       "83622   2016-04-06 00:15:26  \n",
       "220943  2016-03-12 03:15:53  "
      ]
     },
     "execution_count": 6,
     "metadata": {},
     "output_type": "execute_result"
    }
   ],
   "source": [
    "df.sample(5)"
   ]
  },
  {
   "cell_type": "code",
   "execution_count": 7,
   "metadata": {
    "scrolled": false
   },
   "outputs": [
    {
     "name": "stdout",
     "output_type": "stream",
     "text": [
      "\u001b[1mDataset info\u001b[0m\n",
      "<class 'pandas.core.frame.DataFrame'>\n",
      "RangeIndex: 354369 entries, 0 to 354368\n",
      "Data columns (total 16 columns):\n",
      " #   Column             Non-Null Count   Dtype \n",
      "---  ------             --------------   ----- \n",
      " 0   DateCrawled        354369 non-null  object\n",
      " 1   Price              354369 non-null  int64 \n",
      " 2   VehicleType        316879 non-null  object\n",
      " 3   RegistrationYear   354369 non-null  int64 \n",
      " 4   Gearbox            334536 non-null  object\n",
      " 5   Power              354369 non-null  int64 \n",
      " 6   Model              334664 non-null  object\n",
      " 7   Kilometer          354369 non-null  int64 \n",
      " 8   RegistrationMonth  354369 non-null  int64 \n",
      " 9   FuelType           321474 non-null  object\n",
      " 10  Brand              354369 non-null  object\n",
      " 11  NotRepaired        283215 non-null  object\n",
      " 12  DateCreated        354369 non-null  object\n",
      " 13  NumberOfPictures   354369 non-null  int64 \n",
      " 14  PostalCode         354369 non-null  int64 \n",
      " 15  LastSeen           354369 non-null  object\n",
      "dtypes: int64(7), object(9)\n",
      "memory usage: 43.3+ MB\n",
      "None\n",
      "\n",
      "\u001b[1mDuplicates:\u001b[0m\n",
      "Count: 4\n",
      "Percent: 1.1287669068118261e-05\n",
      "\n",
      "\u001b[1mNaN's\u001b[0m\n"
     ]
    },
    {
     "data": {
      "text/html": [
       "<div>\n",
       "<style scoped>\n",
       "    .dataframe tbody tr th:only-of-type {\n",
       "        vertical-align: middle;\n",
       "    }\n",
       "\n",
       "    .dataframe tbody tr th {\n",
       "        vertical-align: top;\n",
       "    }\n",
       "\n",
       "    .dataframe thead th {\n",
       "        text-align: right;\n",
       "    }\n",
       "</style>\n",
       "<table border=\"1\" class=\"dataframe\">\n",
       "  <thead>\n",
       "    <tr style=\"text-align: right;\">\n",
       "      <th></th>\n",
       "      <th>nan_count</th>\n",
       "      <th>nan_percent</th>\n",
       "      <th>unique_values</th>\n",
       "    </tr>\n",
       "  </thead>\n",
       "  <tbody>\n",
       "    <tr>\n",
       "      <th>DateCrawled</th>\n",
       "      <td>0</td>\n",
       "      <td>0.000000</td>\n",
       "      <td>271174</td>\n",
       "    </tr>\n",
       "    <tr>\n",
       "      <th>Price</th>\n",
       "      <td>0</td>\n",
       "      <td>0.000000</td>\n",
       "      <td>3731</td>\n",
       "    </tr>\n",
       "    <tr>\n",
       "      <th>VehicleType</th>\n",
       "      <td>37490</td>\n",
       "      <td>0.105794</td>\n",
       "      <td>8</td>\n",
       "    </tr>\n",
       "    <tr>\n",
       "      <th>RegistrationYear</th>\n",
       "      <td>0</td>\n",
       "      <td>0.000000</td>\n",
       "      <td>151</td>\n",
       "    </tr>\n",
       "    <tr>\n",
       "      <th>Gearbox</th>\n",
       "      <td>19833</td>\n",
       "      <td>0.055967</td>\n",
       "      <td>2</td>\n",
       "    </tr>\n",
       "    <tr>\n",
       "      <th>Power</th>\n",
       "      <td>0</td>\n",
       "      <td>0.000000</td>\n",
       "      <td>712</td>\n",
       "    </tr>\n",
       "    <tr>\n",
       "      <th>Model</th>\n",
       "      <td>19705</td>\n",
       "      <td>0.055606</td>\n",
       "      <td>250</td>\n",
       "    </tr>\n",
       "    <tr>\n",
       "      <th>Kilometer</th>\n",
       "      <td>0</td>\n",
       "      <td>0.000000</td>\n",
       "      <td>13</td>\n",
       "    </tr>\n",
       "    <tr>\n",
       "      <th>RegistrationMonth</th>\n",
       "      <td>0</td>\n",
       "      <td>0.000000</td>\n",
       "      <td>13</td>\n",
       "    </tr>\n",
       "    <tr>\n",
       "      <th>FuelType</th>\n",
       "      <td>32895</td>\n",
       "      <td>0.092827</td>\n",
       "      <td>7</td>\n",
       "    </tr>\n",
       "    <tr>\n",
       "      <th>Brand</th>\n",
       "      <td>0</td>\n",
       "      <td>0.000000</td>\n",
       "      <td>40</td>\n",
       "    </tr>\n",
       "    <tr>\n",
       "      <th>NotRepaired</th>\n",
       "      <td>71154</td>\n",
       "      <td>0.200791</td>\n",
       "      <td>2</td>\n",
       "    </tr>\n",
       "    <tr>\n",
       "      <th>DateCreated</th>\n",
       "      <td>0</td>\n",
       "      <td>0.000000</td>\n",
       "      <td>109</td>\n",
       "    </tr>\n",
       "    <tr>\n",
       "      <th>NumberOfPictures</th>\n",
       "      <td>0</td>\n",
       "      <td>0.000000</td>\n",
       "      <td>1</td>\n",
       "    </tr>\n",
       "    <tr>\n",
       "      <th>PostalCode</th>\n",
       "      <td>0</td>\n",
       "      <td>0.000000</td>\n",
       "      <td>8143</td>\n",
       "    </tr>\n",
       "    <tr>\n",
       "      <th>LastSeen</th>\n",
       "      <td>0</td>\n",
       "      <td>0.000000</td>\n",
       "      <td>179150</td>\n",
       "    </tr>\n",
       "  </tbody>\n",
       "</table>\n",
       "</div>"
      ],
      "text/plain": [
       "                   nan_count  nan_percent  unique_values\n",
       "DateCrawled                0     0.000000         271174\n",
       "Price                      0     0.000000           3731\n",
       "VehicleType            37490     0.105794              8\n",
       "RegistrationYear           0     0.000000            151\n",
       "Gearbox                19833     0.055967              2\n",
       "Power                      0     0.000000            712\n",
       "Model                  19705     0.055606            250\n",
       "Kilometer                  0     0.000000             13\n",
       "RegistrationMonth          0     0.000000             13\n",
       "FuelType               32895     0.092827              7\n",
       "Brand                      0     0.000000             40\n",
       "NotRepaired            71154     0.200791              2\n",
       "DateCreated                0     0.000000            109\n",
       "NumberOfPictures           0     0.000000              1\n",
       "PostalCode                 0     0.000000           8143\n",
       "LastSeen                   0     0.000000         179150"
      ]
     },
     "metadata": {},
     "output_type": "display_data"
    },
    {
     "name": "stdout",
     "output_type": "stream",
     "text": [
      "\u001b[1mВ выборке 108555 строк с пропусками\u001b[0m\n",
      "\u001b[1mЭто составляет 30.63% от всей выборки\u001b[0m\n",
      "\n",
      "\u001b[1mNumeric cols description\u001b[0m\n",
      "               Price  RegistrationYear          Power      Kilometer  \\\n",
      "count  354369.000000     354369.000000  354369.000000  354369.000000   \n",
      "mean     4416.656776       2004.234448     110.094337  128211.172535   \n",
      "std      4514.158514         90.227958     189.850405   37905.341530   \n",
      "min         0.000000       1000.000000       0.000000    5000.000000   \n",
      "25%      1050.000000       1999.000000      69.000000  125000.000000   \n",
      "50%      2700.000000       2003.000000     105.000000  150000.000000   \n",
      "75%      6400.000000       2008.000000     143.000000  150000.000000   \n",
      "max     20000.000000       9999.000000   20000.000000  150000.000000   \n",
      "\n",
      "       RegistrationMonth  NumberOfPictures     PostalCode  \n",
      "count      354369.000000          354369.0  354369.000000  \n",
      "mean            5.714645               0.0   50508.689087  \n",
      "std             3.726421               0.0   25783.096248  \n",
      "min             0.000000               0.0    1067.000000  \n",
      "25%             3.000000               0.0   30165.000000  \n",
      "50%             6.000000               0.0   49413.000000  \n",
      "75%             9.000000               0.0   71083.000000  \n",
      "max            12.000000               0.0   99998.000000  \n"
     ]
    },
    {
     "data": {
      "image/png": "[encoded data removed]",
      "text/plain": [
       "<Figure size 1368x720 with 9 Axes>"
      ]
     },
     "metadata": {},
     "output_type": "display_data"
    }
   ],
   "source": [
    "data_overview(df)"
   ]
  },
  {
   "cell_type": "markdown",
   "metadata": {},
   "source": [
    "- Представлена информация о более чем 354 тыс. объявлений\n",
    "- Объявления описаны через 7 числовых признаков, 3 признака с датами и 6 категориальных\n",
    "- Содержит 4 явных дубликата (учитывая наличие 3 столбцов с датами их может быть гораздо больше)\n",
    "- Почти 1/3 данных содержит пропуски\n",
    "- Столбцы с ценой, годом регистрации и мощностью двигателя явно содержат выбросы (цена 0 евро, год регистрации 9999, и мощность от 0 до 20000 лошадиных сил, при том что танкеры или круизные лайнеры скорее всего в списке отсутствуют)\n",
    "- Столбец с количеством фотографий по сути не содержит ценной для предсказания цены информации (все значения равны 0)"
   ]
  },
  {
   "cell_type": "markdown",
   "metadata": {},
   "source": [
    "## Предобработка данных"
   ]
  },
  {
   "cell_type": "markdown",
   "metadata": {},
   "source": [
    "Переименуем столбцы для удобства"
   ]
  },
  {
   "cell_type": "code",
   "execution_count": 8,
   "metadata": {},
   "outputs": [
    {
     "data": {
      "text/plain": [
       "Index(['date_crawled', 'price', 'vehicle_type', 'reg_year', 'gearbox', 'power',\n",
       "       'model', 'kilometer', 'reg_month', 'fuel_type', 'brand', 'not_rep',\n",
       "       'date_created', 'num_of_pict', 'postalcode', 'lastseen'],\n",
       "      dtype='object')"
      ]
     },
     "execution_count": 8,
     "metadata": {},
     "output_type": "execute_result"
    }
   ],
   "source": [
    "df = clean_columns(df)\n",
    "df.columns"
   ]
  },
  {
   "cell_type": "markdown",
   "metadata": {},
   "source": [
    "Сразу удалим столбец с количеством фото"
   ]
  },
  {
   "cell_type": "code",
   "execution_count": 9,
   "metadata": {},
   "outputs": [],
   "source": [
    "df = df.drop('num_of_pict',axis=1)"
   ]
  },
  {
   "cell_type": "markdown",
   "metadata": {},
   "source": [
    "Из признаков-дат можно получить возраст автомобиля"
   ]
  },
  {
   "cell_type": "code",
   "execution_count": 10,
   "metadata": {},
   "outputs": [],
   "source": [
    "df['age'] = pd.to_datetime(df['date_crawled']).dt.year - df['reg_year']"
   ]
  },
  {
   "cell_type": "markdown",
   "metadata": {},
   "source": [
    "### Дубликаты"
   ]
  },
  {
   "cell_type": "markdown",
   "metadata": {},
   "source": [
    "Проверим дубликаты без учета дат"
   ]
  },
  {
   "cell_type": "code",
   "execution_count": 11,
   "metadata": {},
   "outputs": [],
   "source": [
    "date_col = ['date_crawled','date_created','lastseen']\n",
    "without_date_col = set(df.columns) - set(date_col)"
   ]
  },
  {
   "cell_type": "code",
   "execution_count": 12,
   "metadata": {},
   "outputs": [
    {
     "name": "stdout",
     "output_type": "stream",
     "text": [
      "\u001b[1mDataset info\u001b[0m\n",
      "<class 'pandas.core.frame.DataFrame'>\n",
      "RangeIndex: 354369 entries, 0 to 354368\n",
      "Data columns (total 13 columns):\n",
      " #   Column        Non-Null Count   Dtype \n",
      "---  ------        --------------   ----- \n",
      " 0   not_rep       283215 non-null  object\n",
      " 1   power         354369 non-null  int64 \n",
      " 2   vehicle_type  316879 non-null  object\n",
      " 3   reg_year      354369 non-null  int64 \n",
      " 4   age           354369 non-null  int64 \n",
      " 5   price         354369 non-null  int64 \n",
      " 6   postalcode    354369 non-null  int64 \n",
      " 7   gearbox       334536 non-null  object\n",
      " 8   fuel_type     321474 non-null  object\n",
      " 9   brand         354369 non-null  object\n",
      " 10  kilometer     354369 non-null  int64 \n",
      " 11  model         334664 non-null  object\n",
      " 12  reg_month     354369 non-null  int64 \n",
      "dtypes: int64(7), object(6)\n",
      "memory usage: 35.1+ MB\n",
      "None\n",
      "\n",
      "\u001b[1mDuplicates:\u001b[0m\n",
      "Count: 21333\n",
      "Percent: 0.06019996105754172\n",
      "\n",
      "\u001b[1mNaN's\u001b[0m\n"
     ]
    },
    {
     "data": {
      "text/html": [
       "<div>\n",
       "<style scoped>\n",
       "    .dataframe tbody tr th:only-of-type {\n",
       "        vertical-align: middle;\n",
       "    }\n",
       "\n",
       "    .dataframe tbody tr th {\n",
       "        vertical-align: top;\n",
       "    }\n",
       "\n",
       "    .dataframe thead th {\n",
       "        text-align: right;\n",
       "    }\n",
       "</style>\n",
       "<table border=\"1\" class=\"dataframe\">\n",
       "  <thead>\n",
       "    <tr style=\"text-align: right;\">\n",
       "      <th></th>\n",
       "      <th>nan_count</th>\n",
       "      <th>nan_percent</th>\n",
       "      <th>unique_values</th>\n",
       "    </tr>\n",
       "  </thead>\n",
       "  <tbody>\n",
       "    <tr>\n",
       "      <th>not_rep</th>\n",
       "      <td>71154</td>\n",
       "      <td>0.200791</td>\n",
       "      <td>2</td>\n",
       "    </tr>\n",
       "    <tr>\n",
       "      <th>power</th>\n",
       "      <td>0</td>\n",
       "      <td>0.000000</td>\n",
       "      <td>712</td>\n",
       "    </tr>\n",
       "    <tr>\n",
       "      <th>vehicle_type</th>\n",
       "      <td>37490</td>\n",
       "      <td>0.105794</td>\n",
       "      <td>8</td>\n",
       "    </tr>\n",
       "    <tr>\n",
       "      <th>reg_year</th>\n",
       "      <td>0</td>\n",
       "      <td>0.000000</td>\n",
       "      <td>151</td>\n",
       "    </tr>\n",
       "    <tr>\n",
       "      <th>age</th>\n",
       "      <td>0</td>\n",
       "      <td>0.000000</td>\n",
       "      <td>151</td>\n",
       "    </tr>\n",
       "    <tr>\n",
       "      <th>price</th>\n",
       "      <td>0</td>\n",
       "      <td>0.000000</td>\n",
       "      <td>3731</td>\n",
       "    </tr>\n",
       "    <tr>\n",
       "      <th>postalcode</th>\n",
       "      <td>0</td>\n",
       "      <td>0.000000</td>\n",
       "      <td>8143</td>\n",
       "    </tr>\n",
       "    <tr>\n",
       "      <th>gearbox</th>\n",
       "      <td>19833</td>\n",
       "      <td>0.055967</td>\n",
       "      <td>2</td>\n",
       "    </tr>\n",
       "    <tr>\n",
       "      <th>fuel_type</th>\n",
       "      <td>32895</td>\n",
       "      <td>0.092827</td>\n",
       "      <td>7</td>\n",
       "    </tr>\n",
       "    <tr>\n",
       "      <th>brand</th>\n",
       "      <td>0</td>\n",
       "      <td>0.000000</td>\n",
       "      <td>40</td>\n",
       "    </tr>\n",
       "    <tr>\n",
       "      <th>kilometer</th>\n",
       "      <td>0</td>\n",
       "      <td>0.000000</td>\n",
       "      <td>13</td>\n",
       "    </tr>\n",
       "    <tr>\n",
       "      <th>model</th>\n",
       "      <td>19705</td>\n",
       "      <td>0.055606</td>\n",
       "      <td>250</td>\n",
       "    </tr>\n",
       "    <tr>\n",
       "      <th>reg_month</th>\n",
       "      <td>0</td>\n",
       "      <td>0.000000</td>\n",
       "      <td>13</td>\n",
       "    </tr>\n",
       "  </tbody>\n",
       "</table>\n",
       "</div>"
      ],
      "text/plain": [
       "              nan_count  nan_percent  unique_values\n",
       "not_rep           71154     0.200791              2\n",
       "power                 0     0.000000            712\n",
       "vehicle_type      37490     0.105794              8\n",
       "reg_year              0     0.000000            151\n",
       "age                   0     0.000000            151\n",
       "price                 0     0.000000           3731\n",
       "postalcode            0     0.000000           8143\n",
       "gearbox           19833     0.055967              2\n",
       "fuel_type         32895     0.092827              7\n",
       "brand                 0     0.000000             40\n",
       "kilometer             0     0.000000             13\n",
       "model             19705     0.055606            250\n",
       "reg_month             0     0.000000             13"
      ]
     },
     "metadata": {},
     "output_type": "display_data"
    },
    {
     "name": "stdout",
     "output_type": "stream",
     "text": [
      "\u001b[1mВ выборке 108555 строк с пропусками\u001b[0m\n",
      "\u001b[1mЭто составляет 30.63% от всей выборки\u001b[0m\n",
      "\n",
      "\u001b[1mNumeric cols description\u001b[0m\n",
      "               power       reg_year            age          price  \\\n",
      "count  354369.000000  354369.000000  354369.000000  354369.000000   \n",
      "mean      110.094337    2004.234448      11.765552    4416.656776   \n",
      "std       189.850405      90.227958      90.227958    4514.158514   \n",
      "min         0.000000    1000.000000   -7983.000000       0.000000   \n",
      "25%        69.000000    1999.000000       8.000000    1050.000000   \n",
      "50%       105.000000    2003.000000      13.000000    2700.000000   \n",
      "75%       143.000000    2008.000000      17.000000    6400.000000   \n",
      "max     20000.000000    9999.000000    1016.000000   20000.000000   \n",
      "\n",
      "          postalcode      kilometer      reg_month  \n",
      "count  354369.000000  354369.000000  354369.000000  \n",
      "mean    50508.689087  128211.172535       5.714645  \n",
      "std     25783.096248   37905.341530       3.726421  \n",
      "min      1067.000000    5000.000000       0.000000  \n",
      "25%     30165.000000  125000.000000       3.000000  \n",
      "50%     49413.000000  150000.000000       6.000000  \n",
      "75%     71083.000000  150000.000000       9.000000  \n",
      "max     99998.000000  150000.000000      12.000000  \n"
     ]
    },
    {
     "data": {
      "image/png": "[encoded data removed]",
      "text/plain": [
       "<Figure size 1368x720 with 9 Axes>"
      ]
     },
     "metadata": {},
     "output_type": "display_data"
    }
   ],
   "source": [
    "data_overview(df[without_date_col])"
   ]
  },
  {
   "cell_type": "markdown",
   "metadata": {},
   "source": [
    "Без учета дат количество дубликатов возрастает до 21333 (около 6%)"
   ]
  },
  {
   "cell_type": "markdown",
   "metadata": {},
   "source": [
    "Для дальнейшей работы с данными от всех столбцов с датами (в том числе представленными в виде одиночных чисел) можно избавиться"
   ]
  },
  {
   "cell_type": "code",
   "execution_count": 13,
   "metadata": {
    "scrolled": true
   },
   "outputs": [
    {
     "data": {
      "text/html": [
       "<div>\n",
       "<style scoped>\n",
       "    .dataframe tbody tr th:only-of-type {\n",
       "        vertical-align: middle;\n",
       "    }\n",
       "\n",
       "    .dataframe tbody tr th {\n",
       "        vertical-align: top;\n",
       "    }\n",
       "\n",
       "    .dataframe thead th {\n",
       "        text-align: right;\n",
       "    }\n",
       "</style>\n",
       "<table border=\"1\" class=\"dataframe\">\n",
       "  <thead>\n",
       "    <tr style=\"text-align: right;\">\n",
       "      <th></th>\n",
       "      <th>price</th>\n",
       "      <th>vehicle_type</th>\n",
       "      <th>gearbox</th>\n",
       "      <th>power</th>\n",
       "      <th>model</th>\n",
       "      <th>kilometer</th>\n",
       "      <th>fuel_type</th>\n",
       "      <th>brand</th>\n",
       "      <th>not_rep</th>\n",
       "      <th>postalcode</th>\n",
       "      <th>age</th>\n",
       "    </tr>\n",
       "  </thead>\n",
       "  <tbody>\n",
       "    <tr>\n",
       "      <th>348668</th>\n",
       "      <td>1000</td>\n",
       "      <td>wagon</td>\n",
       "      <td>manual</td>\n",
       "      <td>2598</td>\n",
       "      <td>a6</td>\n",
       "      <td>150000</td>\n",
       "      <td>NaN</td>\n",
       "      <td>audi</td>\n",
       "      <td>NaN</td>\n",
       "      <td>7646</td>\n",
       "      <td>20</td>\n",
       "    </tr>\n",
       "    <tr>\n",
       "      <th>333592</th>\n",
       "      <td>3000</td>\n",
       "      <td>wagon</td>\n",
       "      <td>auto</td>\n",
       "      <td>218</td>\n",
       "      <td>omega</td>\n",
       "      <td>150000</td>\n",
       "      <td>petrol</td>\n",
       "      <td>opel</td>\n",
       "      <td>no</td>\n",
       "      <td>36326</td>\n",
       "      <td>14</td>\n",
       "    </tr>\n",
       "    <tr>\n",
       "      <th>282826</th>\n",
       "      <td>1250</td>\n",
       "      <td>sedan</td>\n",
       "      <td>manual</td>\n",
       "      <td>131</td>\n",
       "      <td>a4</td>\n",
       "      <td>150000</td>\n",
       "      <td>petrol</td>\n",
       "      <td>audi</td>\n",
       "      <td>no</td>\n",
       "      <td>16515</td>\n",
       "      <td>15</td>\n",
       "    </tr>\n",
       "    <tr>\n",
       "      <th>251621</th>\n",
       "      <td>11900</td>\n",
       "      <td>convertible</td>\n",
       "      <td>manual</td>\n",
       "      <td>220</td>\n",
       "      <td>boxster</td>\n",
       "      <td>150000</td>\n",
       "      <td>petrol</td>\n",
       "      <td>porsche</td>\n",
       "      <td>NaN</td>\n",
       "      <td>73614</td>\n",
       "      <td>14</td>\n",
       "    </tr>\n",
       "    <tr>\n",
       "      <th>323712</th>\n",
       "      <td>4200</td>\n",
       "      <td>small</td>\n",
       "      <td>manual</td>\n",
       "      <td>68</td>\n",
       "      <td>fiesta</td>\n",
       "      <td>150000</td>\n",
       "      <td>gasoline</td>\n",
       "      <td>ford</td>\n",
       "      <td>no</td>\n",
       "      <td>97337</td>\n",
       "      <td>8</td>\n",
       "    </tr>\n",
       "  </tbody>\n",
       "</table>\n",
       "</div>"
      ],
      "text/plain": [
       "        price vehicle_type gearbox  power    model  kilometer fuel_type  \\\n",
       "348668   1000        wagon  manual   2598       a6     150000       NaN   \n",
       "333592   3000        wagon    auto    218    omega     150000    petrol   \n",
       "282826   1250        sedan  manual    131       a4     150000    petrol   \n",
       "251621  11900  convertible  manual    220  boxster     150000    petrol   \n",
       "323712   4200        small  manual     68   fiesta     150000  gasoline   \n",
       "\n",
       "          brand not_rep  postalcode  age  \n",
       "348668     audi     NaN        7646   20  \n",
       "333592     opel      no       36326   14  \n",
       "282826     audi      no       16515   15  \n",
       "251621  porsche     NaN       73614   14  \n",
       "323712     ford      no       97337    8  "
      ]
     },
     "execution_count": 13,
     "metadata": {},
     "output_type": "execute_result"
    }
   ],
   "source": [
    "df = df.drop(['date_crawled','reg_year','reg_month','date_created','lastseen'],axis=1)\n",
    "df.sample(5)"
   ]
  },
  {
   "cell_type": "markdown",
   "metadata": {},
   "source": [
    "И подчистим дубликаты в последний раз"
   ]
  },
  {
   "cell_type": "code",
   "execution_count": 14,
   "metadata": {
    "scrolled": true
   },
   "outputs": [
    {
     "data": {
      "text/plain": [
       "(330858, 11)"
      ]
     },
     "execution_count": 14,
     "metadata": {},
     "output_type": "execute_result"
    }
   ],
   "source": [
    "df = df.drop_duplicates()\n",
    "df.shape"
   ]
  },
  {
   "cell_type": "code",
   "execution_count": 15,
   "metadata": {},
   "outputs": [
    {
     "name": "stdout",
     "output_type": "stream",
     "text": [
      "\u001b[1mDataset info\u001b[0m\n",
      "<class 'pandas.core.frame.DataFrame'>\n",
      "Int64Index: 330858 entries, 0 to 354368\n",
      "Data columns (total 11 columns):\n",
      " #   Column        Non-Null Count   Dtype \n",
      "---  ------        --------------   ----- \n",
      " 0   price         330858 non-null  int64 \n",
      " 1   vehicle_type  294839 non-null  object\n",
      " 2   gearbox       311998 non-null  object\n",
      " 3   power         330858 non-null  int64 \n",
      " 4   model         311894 non-null  object\n",
      " 5   kilometer     330858 non-null  int64 \n",
      " 6   fuel_type     299029 non-null  object\n",
      " 7   brand         330858 non-null  object\n",
      " 8   not_rep       263235 non-null  object\n",
      " 9   postalcode    330858 non-null  int64 \n",
      " 10  age           330858 non-null  int64 \n",
      "dtypes: int64(5), object(6)\n",
      "memory usage: 30.3+ MB\n",
      "None\n",
      "\n",
      "\u001b[1mDuplicates:\u001b[0m\n",
      "Count: 0\n",
      "Percent: 0.0\n",
      "\n",
      "\u001b[1mNaN's\u001b[0m\n"
     ]
    },
    {
     "data": {
      "text/html": [
       "<div>\n",
       "<style scoped>\n",
       "    .dataframe tbody tr th:only-of-type {\n",
       "        vertical-align: middle;\n",
       "    }\n",
       "\n",
       "    .dataframe tbody tr th {\n",
       "        vertical-align: top;\n",
       "    }\n",
       "\n",
       "    .dataframe thead th {\n",
       "        text-align: right;\n",
       "    }\n",
       "</style>\n",
       "<table border=\"1\" class=\"dataframe\">\n",
       "  <thead>\n",
       "    <tr style=\"text-align: right;\">\n",
       "      <th></th>\n",
       "      <th>nan_count</th>\n",
       "      <th>nan_percent</th>\n",
       "      <th>unique_values</th>\n",
       "    </tr>\n",
       "  </thead>\n",
       "  <tbody>\n",
       "    <tr>\n",
       "      <th>price</th>\n",
       "      <td>0</td>\n",
       "      <td>0.000000</td>\n",
       "      <td>3731</td>\n",
       "    </tr>\n",
       "    <tr>\n",
       "      <th>vehicle_type</th>\n",
       "      <td>36019</td>\n",
       "      <td>0.108865</td>\n",
       "      <td>8</td>\n",
       "    </tr>\n",
       "    <tr>\n",
       "      <th>gearbox</th>\n",
       "      <td>18860</td>\n",
       "      <td>0.057003</td>\n",
       "      <td>2</td>\n",
       "    </tr>\n",
       "    <tr>\n",
       "      <th>power</th>\n",
       "      <td>0</td>\n",
       "      <td>0.000000</td>\n",
       "      <td>712</td>\n",
       "    </tr>\n",
       "    <tr>\n",
       "      <th>model</th>\n",
       "      <td>18964</td>\n",
       "      <td>0.057318</td>\n",
       "      <td>250</td>\n",
       "    </tr>\n",
       "    <tr>\n",
       "      <th>kilometer</th>\n",
       "      <td>0</td>\n",
       "      <td>0.000000</td>\n",
       "      <td>13</td>\n",
       "    </tr>\n",
       "    <tr>\n",
       "      <th>fuel_type</th>\n",
       "      <td>31829</td>\n",
       "      <td>0.096201</td>\n",
       "      <td>7</td>\n",
       "    </tr>\n",
       "    <tr>\n",
       "      <th>brand</th>\n",
       "      <td>0</td>\n",
       "      <td>0.000000</td>\n",
       "      <td>40</td>\n",
       "    </tr>\n",
       "    <tr>\n",
       "      <th>not_rep</th>\n",
       "      <td>67623</td>\n",
       "      <td>0.204387</td>\n",
       "      <td>2</td>\n",
       "    </tr>\n",
       "    <tr>\n",
       "      <th>postalcode</th>\n",
       "      <td>0</td>\n",
       "      <td>0.000000</td>\n",
       "      <td>8143</td>\n",
       "    </tr>\n",
       "    <tr>\n",
       "      <th>age</th>\n",
       "      <td>0</td>\n",
       "      <td>0.000000</td>\n",
       "      <td>151</td>\n",
       "    </tr>\n",
       "  </tbody>\n",
       "</table>\n",
       "</div>"
      ],
      "text/plain": [
       "              nan_count  nan_percent  unique_values\n",
       "price                 0     0.000000           3731\n",
       "vehicle_type      36019     0.108865              8\n",
       "gearbox           18860     0.057003              2\n",
       "power                 0     0.000000            712\n",
       "model             18964     0.057318            250\n",
       "kilometer             0     0.000000             13\n",
       "fuel_type         31829     0.096201              7\n",
       "brand                 0     0.000000             40\n",
       "not_rep           67623     0.204387              2\n",
       "postalcode            0     0.000000           8143\n",
       "age                   0     0.000000            151"
      ]
     },
     "metadata": {},
     "output_type": "display_data"
    },
    {
     "name": "stdout",
     "output_type": "stream",
     "text": [
      "\u001b[1mВ выборке 103794 строк с пропусками\u001b[0m\n",
      "\u001b[1mЭто составляет 31.37% от всей выборки\u001b[0m\n",
      "\n",
      "\u001b[1mNumeric cols description\u001b[0m\n",
      "               price          power      kilometer     postalcode  \\\n",
      "count  330858.000000  330858.000000  330858.000000  330858.000000   \n",
      "mean     4381.797517     109.799536  128253.072315   50711.282886   \n",
      "std      4506.414298     194.855656   37943.148027   25812.489833   \n",
      "min         0.000000       0.000000    5000.000000    1067.000000   \n",
      "25%      1000.000000      68.000000  125000.000000   30179.000000   \n",
      "50%      2699.000000     103.000000  150000.000000   49492.000000   \n",
      "75%      6300.000000     140.000000  150000.000000   71364.000000   \n",
      "max     20000.000000   20000.000000  150000.000000   99998.000000   \n",
      "\n",
      "                 age  \n",
      "count  330858.000000  \n",
      "mean       11.820452  \n",
      "std        89.511121  \n",
      "min     -7983.000000  \n",
      "25%         8.000000  \n",
      "50%        13.000000  \n",
      "75%        17.000000  \n",
      "max      1016.000000  \n"
     ]
    },
    {
     "data": {
      "image/png": "[encoded data removed]",
      "text/plain": [
       "<Figure size 1368x720 with 6 Axes>"
      ]
     },
     "metadata": {},
     "output_type": "display_data"
    }
   ],
   "source": [
    "data_overview(df)"
   ]
  },
  {
   "cell_type": "markdown",
   "metadata": {},
   "source": [
    "### Выбросы"
   ]
  },
  {
   "cell_type": "code",
   "execution_count": 16,
   "metadata": {
    "scrolled": false
   },
   "outputs": [
    {
     "data": {
      "image/png": "[encoded data removed]",
      "text/plain": [
       "<Figure size 720x432 with 1 Axes>"
      ]
     },
     "metadata": {},
     "output_type": "display_data"
    },
    {
     "data": {
      "image/png": "[encoded data removed]",
      "text/plain": [
       "<Figure size 720x432 with 1 Axes>"
      ]
     },
     "metadata": {},
     "output_type": "display_data"
    },
    {
     "data": {
      "image/png": "[encoded data removed]",
      "text/plain": [
       "<Figure size 720x432 with 1 Axes>"
      ]
     },
     "metadata": {},
     "output_type": "display_data"
    }
   ],
   "source": [
    "for x in ['price','power','age']:\n",
    "    plt.boxplot(df[x],vert=False)\n",
    "    plt.ylabel(x)\n",
    "    plt.show()"
   ]
  },
  {
   "cell_type": "markdown",
   "metadata": {},
   "source": [
    "- **Цена** \n",
    "\n",
    " - Цены начитаются с 0. Это явно нерелевантные для предсказания значения. Возможно некорректно оформленные объявления или его автор предлагает установить цену возможному покупателю и торговаться, возможны и другие причины. Следует установить минимальное значение цены хотя бы в 50 EUR чтобы избавиться от таких записей\n",
    "    \n",
    "- **Мощность**\n",
    "\n",
    " - Самый мощный \"гражданский\" автомобильный двигатель на текущий момент (08.2022) выдает 2150 л.с.* Чтобы перестраховаться за верхнюю границу возьмем 2300 л.с. Такое высокое значение тоже может отразиться на итоговом качестве модели, но попробуем\n",
    "  - Как запасной вариант оставим 500 л.с.\n",
    " - В то же время самый маломощный автомобиль оснащен двигателем 4 л.с.** \n",
    "    \n",
    "- **Возраст**\n",
    "\n",
    " - Отрицательным возраст быть не может\n",
    "   \n",
    "---   \n",
    "`*` по данным https://soulcar.ru/top-35-samyx-moshhnyx-avtomobilej-v-mire-2022-goda/obzory/ \n",
    "\n",
    "`**` по данным https://fastmb.ru/autonews/autonews_mir/1367-samye-malomoschnye-avtomobili-top-10.html\n"
   ]
  },
  {
   "cell_type": "code",
   "execution_count": 17,
   "metadata": {
    "scrolled": true
   },
   "outputs": [],
   "source": [
    "df.loc[df['price'] < 50,'price'] = np.nan\n",
    "df.loc[(df['power'] > 2300) | (df['power'] < 4),'power'] = np.nan\n",
    "df.loc[df['age']<0,'age'] = np.nan\n",
    "\n",
    "df = df.dropna(subset=['price','power','age'])"
   ]
  },
  {
   "cell_type": "code",
   "execution_count": 18,
   "metadata": {
    "scrolled": false
   },
   "outputs": [
    {
     "data": {
      "image/png": "[encoded data removed]",
      "text/plain": [
       "<Figure size 720x432 with 1 Axes>"
      ]
     },
     "metadata": {},
     "output_type": "display_data"
    },
    {
     "data": {
      "image/png": "[encoded data removed]",
      "text/plain": [
       "<Figure size 720x432 with 1 Axes>"
      ]
     },
     "metadata": {},
     "output_type": "display_data"
    },
    {
     "data": {
      "image/png": "[encoded data removed]",
      "text/plain": [
       "<Figure size 720x432 with 1 Axes>"
      ]
     },
     "metadata": {},
     "output_type": "display_data"
    }
   ],
   "source": [
    "for x in ['price','power','age']:\n",
    "    plt.boxplot(df[x],vert=False)\n",
    "    plt.ylabel(x)\n",
    "    plt.show()"
   ]
  },
  {
   "cell_type": "markdown",
   "metadata": {},
   "source": [
    "Избавимся также от 100-летних автомобилей"
   ]
  },
  {
   "cell_type": "code",
   "execution_count": 19,
   "metadata": {},
   "outputs": [],
   "source": [
    "df.loc[df['age']>100,'age'] = np.nan\n",
    "\n",
    "df = df.dropna(subset=['age'])"
   ]
  },
  {
   "cell_type": "code",
   "execution_count": 20,
   "metadata": {},
   "outputs": [
    {
     "data": {
      "image/png": "[encoded data removed]",
      "text/plain": [
       "<Figure size 720x432 with 1 Axes>"
      ]
     },
     "metadata": {},
     "output_type": "display_data"
    }
   ],
   "source": [
    "plt.boxplot(df['age'],vert=False)\n",
    "plt.ylabel('age');"
   ]
  },
  {
   "cell_type": "code",
   "execution_count": 21,
   "metadata": {},
   "outputs": [
    {
     "name": "stdout",
     "output_type": "stream",
     "text": [
      "\u001b[1mDataset info\u001b[0m\n",
      "<class 'pandas.core.frame.DataFrame'>\n",
      "Int64Index: 275582 entries, 1 to 354368\n",
      "Data columns (total 11 columns):\n",
      " #   Column        Non-Null Count   Dtype  \n",
      "---  ------        --------------   -----  \n",
      " 0   price         275582 non-null  float64\n",
      " 1   vehicle_type  264966 non-null  object \n",
      " 2   gearbox       270381 non-null  object \n",
      " 3   power         275582 non-null  float64\n",
      " 4   model         264879 non-null  object \n",
      " 5   kilometer     275582 non-null  int64  \n",
      " 6   fuel_type     260507 non-null  object \n",
      " 7   brand         275582 non-null  object \n",
      " 8   not_rep       234680 non-null  object \n",
      " 9   postalcode    275582 non-null  int64  \n",
      " 10  age           275582 non-null  float64\n",
      "dtypes: float64(3), int64(2), object(6)\n",
      "memory usage: 25.2+ MB\n",
      "None\n",
      "\n",
      "\u001b[1mDuplicates:\u001b[0m\n",
      "Count: 0\n",
      "Percent: 0.0\n",
      "\n",
      "\u001b[1mNaN's\u001b[0m\n"
     ]
    },
    {
     "data": {
      "text/html": [
       "<div>\n",
       "<style scoped>\n",
       "    .dataframe tbody tr th:only-of-type {\n",
       "        vertical-align: middle;\n",
       "    }\n",
       "\n",
       "    .dataframe tbody tr th {\n",
       "        vertical-align: top;\n",
       "    }\n",
       "\n",
       "    .dataframe thead th {\n",
       "        text-align: right;\n",
       "    }\n",
       "</style>\n",
       "<table border=\"1\" class=\"dataframe\">\n",
       "  <thead>\n",
       "    <tr style=\"text-align: right;\">\n",
       "      <th></th>\n",
       "      <th>nan_count</th>\n",
       "      <th>nan_percent</th>\n",
       "      <th>unique_values</th>\n",
       "    </tr>\n",
       "  </thead>\n",
       "  <tbody>\n",
       "    <tr>\n",
       "      <th>price</th>\n",
       "      <td>0</td>\n",
       "      <td>0.000000</td>\n",
       "      <td>3565</td>\n",
       "    </tr>\n",
       "    <tr>\n",
       "      <th>vehicle_type</th>\n",
       "      <td>10616</td>\n",
       "      <td>0.038522</td>\n",
       "      <td>8</td>\n",
       "    </tr>\n",
       "    <tr>\n",
       "      <th>gearbox</th>\n",
       "      <td>5201</td>\n",
       "      <td>0.018873</td>\n",
       "      <td>2</td>\n",
       "    </tr>\n",
       "    <tr>\n",
       "      <th>power</th>\n",
       "      <td>0</td>\n",
       "      <td>0.000000</td>\n",
       "      <td>595</td>\n",
       "    </tr>\n",
       "    <tr>\n",
       "      <th>model</th>\n",
       "      <td>10703</td>\n",
       "      <td>0.038838</td>\n",
       "      <td>249</td>\n",
       "    </tr>\n",
       "    <tr>\n",
       "      <th>kilometer</th>\n",
       "      <td>0</td>\n",
       "      <td>0.000000</td>\n",
       "      <td>13</td>\n",
       "    </tr>\n",
       "    <tr>\n",
       "      <th>fuel_type</th>\n",
       "      <td>15075</td>\n",
       "      <td>0.054702</td>\n",
       "      <td>7</td>\n",
       "    </tr>\n",
       "    <tr>\n",
       "      <th>brand</th>\n",
       "      <td>0</td>\n",
       "      <td>0.000000</td>\n",
       "      <td>40</td>\n",
       "    </tr>\n",
       "    <tr>\n",
       "      <th>not_rep</th>\n",
       "      <td>40902</td>\n",
       "      <td>0.148420</td>\n",
       "      <td>2</td>\n",
       "    </tr>\n",
       "    <tr>\n",
       "      <th>postalcode</th>\n",
       "      <td>0</td>\n",
       "      <td>0.000000</td>\n",
       "      <td>8116</td>\n",
       "    </tr>\n",
       "    <tr>\n",
       "      <th>age</th>\n",
       "      <td>0</td>\n",
       "      <td>0.000000</td>\n",
       "      <td>88</td>\n",
       "    </tr>\n",
       "  </tbody>\n",
       "</table>\n",
       "</div>"
      ],
      "text/plain": [
       "              nan_count  nan_percent  unique_values\n",
       "price                 0     0.000000           3565\n",
       "vehicle_type      10616     0.038522              8\n",
       "gearbox            5201     0.018873              2\n",
       "power                 0     0.000000            595\n",
       "model             10703     0.038838            249\n",
       "kilometer             0     0.000000             13\n",
       "fuel_type         15075     0.054702              7\n",
       "brand                 0     0.000000             40\n",
       "not_rep           40902     0.148420              2\n",
       "postalcode            0     0.000000           8116\n",
       "age                   0     0.000000             88"
      ]
     },
     "metadata": {},
     "output_type": "display_data"
    },
    {
     "name": "stdout",
     "output_type": "stream",
     "text": [
      "\u001b[1mВ выборке 60642 строк с пропусками\u001b[0m\n",
      "\u001b[1mЭто составляет 22.01% от всей выборки\u001b[0m\n",
      "\n",
      "\u001b[1mNumeric cols description\u001b[0m\n",
      "               price          power      kilometer     postalcode  \\\n",
      "count  275582.000000  275582.000000  275582.000000  275582.000000   \n",
      "mean     4830.289939     121.318399  128378.232250   51453.758700   \n",
      "std      4606.340949      64.798826   36745.537618   25796.447535   \n",
      "min        50.000000       4.000000    5000.000000    1067.000000   \n",
      "25%      1300.000000      75.000000  125000.000000   31061.000000   \n",
      "50%      3150.000000     110.000000  150000.000000   50389.000000   \n",
      "75%      6970.000000     150.000000  150000.000000   72336.000000   \n",
      "max     20000.000000    2172.000000  150000.000000   99998.000000   \n",
      "\n",
      "                 age  \n",
      "count  275582.000000  \n",
      "mean       13.218360  \n",
      "std         6.574396  \n",
      "min         0.000000  \n",
      "25%         9.000000  \n",
      "50%        13.000000  \n",
      "75%        17.000000  \n",
      "max        93.000000  \n"
     ]
    },
    {
     "data": {
      "image/png": "[encoded data removed]",
      "text/plain": [
       "<Figure size 1368x720 with 6 Axes>"
      ]
     },
     "metadata": {},
     "output_type": "display_data"
    }
   ],
   "source": [
    "data_overview(df)"
   ]
  },
  {
   "cell_type": "markdown",
   "metadata": {},
   "source": [
    "### Пропуски"
   ]
  },
  {
   "cell_type": "markdown",
   "metadata": {},
   "source": [
    "Наибольшее количество пропусков осталось в столбце указывающем на то была машина в ремонте или нет.\n",
    "\n",
    "В целом, это можно понять. Кто-то просто забыл заполнить, кто-то решил что ремонт был не значительным, но постеснялся откровенно врать, а кто-то надеется что покупатель ничего не найдет.\n",
    "\n",
    "Так или иначе без, например, хранения исторических данных о объявлениях с однозначным определением конкретного автомобиля по VIN или доступа к базам ГИБДД достоверно заполнить эти пропуски невозможно.\n",
    "\n",
    "Оставшиеся пропуски в данных заменим на значение `unknown` в надежде, что подели смогут что то из этого вытащить"
   ]
  },
  {
   "cell_type": "code",
   "execution_count": 22,
   "metadata": {},
   "outputs": [
    {
     "name": "stdout",
     "output_type": "stream",
     "text": [
      "В выборке 0 строк с пропусками\n",
      "Это составляет 0.00% от всей выборки\n"
     ]
    }
   ],
   "source": [
    "df = df.fillna('unknown')\n",
    "loses(df)"
   ]
  },
  {
   "cell_type": "markdown",
   "metadata": {},
   "source": [
    "---"
   ]
  },
  {
   "cell_type": "markdown",
   "metadata": {},
   "source": [
    "Для предотвращения появления таких \"грязных\" во многих смыслах объявлений создание словарей или связанных таблиц вида **бренд->модель->типкузова(_опционально_)->топливо->мощность->кпп** и перевести заполнение анкет на выпадающие списки или их более симпатичные аналоги.\n",
    "    \n",
    "В случае нестандартной конфигурации автомобиля (трековые, дрифтовые или внедорожные модификации) добавить необязательный чек-бокс и оставлять неполную анкету (например **бренд-модель-типкузова**) с обязательным заполнением текстового описания машины от продавца"
   ]
  },
  {
   "cell_type": "markdown",
   "metadata": {},
   "source": [
    "Обучим следующие модели: 3 линейных (Lasso, Ridge, ElasticNet) и 2 бустинга (LightGBM, CatBoost)\n",
    "\n",
    "***Выбранные бустинги не требуют преобразований категориальных признаков и могут работать с ними напрямую***\n",
    "\n",
    "***Для линейных моделей воспользуемся OHE***"
   ]
  },
  {
   "cell_type": "code",
   "execution_count": 23,
   "metadata": {},
   "outputs": [],
   "source": [
    "cat_features = ['vehicle_type', 'gearbox', 'model', \n",
    "                'fuel_type', 'brand', 'not_rep', 'postalcode']\n",
    "\n",
    "df[cat_features] = df[cat_features].astype('category')"
   ]
  },
  {
   "cell_type": "code",
   "execution_count": 24,
   "metadata": {},
   "outputs": [],
   "source": [
    "df_vanila = df.copy()\n",
    "df_ohe = df.copy()"
   ]
  },
  {
   "cell_type": "markdown",
   "metadata": {},
   "source": [
    "Для линейных моделей уберем признак `postalcode`. \n",
    "\n",
    "Формально он имеет числовые значения, но эти значения па сути категориальные и указывают на гороод, локацию в которой продается автомобиль. Если его не кодировать линейной модели это навредит, если кодировать - создадим огромное количество фичей (количество которых еще больше увеличится при расширении набора данных)"
   ]
  },
  {
   "cell_type": "code",
   "execution_count": 25,
   "metadata": {},
   "outputs": [],
   "source": [
    "df_ohe = df_ohe.drop('postalcode',axis=1)\n",
    "df_ohe = pd.get_dummies(df_ohe,drop_first=True)"
   ]
  },
  {
   "cell_type": "code",
   "execution_count": 26,
   "metadata": {},
   "outputs": [],
   "source": [
    "target = df.price\n",
    "features = df.drop(['price'],axis=1)\n",
    "\n",
    "target_lr = df_ohe.price\n",
    "features_lr = df_ohe.drop(['price'],axis=1)"
   ]
  },
  {
   "cell_type": "code",
   "execution_count": 27,
   "metadata": {},
   "outputs": [],
   "source": [
    "features_train_full, features_test, target_train_full, target_test = train_test_split(\n",
    "    features,\n",
    "    target,\n",
    "    test_size=.2,\n",
    "    random_state=42\n",
    ")\n",
    "\n",
    "features_lr_train_full, features_lr_test, target_lr_train_full, target_lr_test = train_test_split(\n",
    "    features_lr,\n",
    "    target_lr, \n",
    "    test_size=.2, \n",
    "    random_state=42\n",
    ")"
   ]
  },
  {
   "cell_type": "code",
   "execution_count": 28,
   "metadata": {},
   "outputs": [],
   "source": [
    "features_train, features_valid, target_train, target_valid = train_test_split(\n",
    "    features_train_full,\n",
    "    target_train_full,\n",
    "    test_size=.2,\n",
    "    random_state=42\n",
    ")\n",
    "\n",
    "features_lr_train, features_lr_valid, target_lr_train, target_lr_valid = train_test_split(\n",
    "    features_lr_train_full,\n",
    "    target_lr_train_full, \n",
    "    test_size=.2, \n",
    "    random_state=42\n",
    ")"
   ]
  },
  {
   "cell_type": "code",
   "execution_count": 29,
   "metadata": {},
   "outputs": [],
   "source": [
    "results = pd.DataFrame({'model':[],\n",
    "                   'fit_time':[],\n",
    "                   'pred_time':[],\n",
    "                   'rmse':[]})\n"
   ]
  },
  {
   "cell_type": "markdown",
   "metadata": {},
   "source": [
    "### Baseline"
   ]
  },
  {
   "cell_type": "code",
   "execution_count": 30,
   "metadata": {},
   "outputs": [],
   "source": [
    "model_name='baseline'\n",
    "start = t.time()\n",
    "dumdum = pd.Series(target_train.mean(),index=target_valid.index)\n",
    "end_fit = t.time() - start\n",
    "end_pred = 0"
   ]
  },
  {
   "cell_type": "code",
   "execution_count": 31,
   "metadata": {},
   "outputs": [],
   "source": [
    "rmse = (np.sqrt(mean_squared_error(target_valid, dumdum)))"
   ]
  },
  {
   "cell_type": "code",
   "execution_count": 32,
   "metadata": {},
   "outputs": [],
   "source": [
    "res={'model':model_name,\n",
    "                  'fit_time':end_fit,\n",
    "                  'pred_time':end_pred, \n",
    "                  'rmse':rmse}\n",
    "results = results.append(res, ignore_index=True)"
   ]
  },
  {
   "cell_type": "markdown",
   "metadata": {},
   "source": [
    "### Lasso"
   ]
  },
  {
   "cell_type": "code",
   "execution_count": 33,
   "metadata": {},
   "outputs": [],
   "source": [
    "model_name = 'Lasso'\n",
    "lasso = Lasso(normalize=True,\n",
    "             random_state=42)"
   ]
  },
  {
   "cell_type": "code",
   "execution_count": 34,
   "metadata": {},
   "outputs": [
    {
     "name": "stdout",
     "output_type": "stream",
     "text": [
      "Время обучения:1.81\n"
     ]
    }
   ],
   "source": [
    "start = t.time()\n",
    "lasso.fit(features_lr_train,target_lr_train)\n",
    "end_fit = t.time() - start\n",
    "print(f'Время обучения:{end_fit:.2f}')"
   ]
  },
  {
   "cell_type": "code",
   "execution_count": 35,
   "metadata": {},
   "outputs": [
    {
     "name": "stdout",
     "output_type": "stream",
     "text": [
      "Время обучения:0.23\n"
     ]
    }
   ],
   "source": [
    "start = t.time()\n",
    "pred = lasso.predict(features_lr_valid)\n",
    "end_pred = t.time() - start\n",
    "print(f'Время обучения:{end_pred:.2f}')"
   ]
  },
  {
   "cell_type": "code",
   "execution_count": 36,
   "metadata": {
    "scrolled": true
   },
   "outputs": [
    {
     "data": {
      "text/plain": [
       "3249.1884161333437"
      ]
     },
     "execution_count": 36,
     "metadata": {},
     "output_type": "execute_result"
    }
   ],
   "source": [
    "rmse = (np.sqrt(mean_squared_error(target_lr_valid, pred)))\n",
    "rmse"
   ]
  },
  {
   "cell_type": "code",
   "execution_count": 37,
   "metadata": {},
   "outputs": [],
   "source": [
    "res={'model':model_name,\n",
    "                  'fit_time':end_fit,\n",
    "                  'pred_time':end_pred, ж эх \n",
    "                  'rmse':rmse}\n",
    "results = results.append(res, ignore_index=True)"
   ]
  },
  {
   "cell_type": "markdown",
   "metadata": {},
   "source": [
    "### Ridge"
   ]
  },
  {
   "cell_type": "code",
   "execution_count": 38,
   "metadata": {},
   "outputs": [],
   "source": [
    "model_name='Ridge'\n",
    "ridge = Ridge(normalize=True,\n",
    "             random_state=42)"
   ]
  },
  {
   "cell_type": "code",
   "execution_count": 39,
   "metadata": {},
   "outputs": [
    {
     "name": "stdout",
     "output_type": "stream",
     "text": [
      "Время обучения: 1.68\n"
     ]
    }
   ],
   "source": [
    "start = t.time()\n",
    "ridge.fit(features_lr_train,target_lr_train)\n",
    "end_fit = t.time() - start\n",
    "print(f'Время обучения: {end_fit:.2f}')"
   ]
  },
  {
   "cell_type": "code",
   "execution_count": 40,
   "metadata": {},
   "outputs": [
    {
     "name": "stdout",
     "output_type": "stream",
     "text": [
      "Время обучения: 1.68\n"
     ]
    }
   ],
   "source": [
    "start = t.time()\n",
    "pred = ridge.predict(features_lr_valid)\n",
    "end_pred = t.time() - start\n",
    "print(f'Время обучения: {end_fit:.2f}')"
   ]
  },
  {
   "cell_type": "code",
   "execution_count": 41,
   "metadata": {},
   "outputs": [
    {
     "data": {
      "text/plain": [
       "3038.0626626348762"
      ]
     },
     "execution_count": 41,
     "metadata": {},
     "output_type": "execute_result"
    }
   ],
   "source": [
    "rmse = (np.sqrt(mean_squared_error(target_lr_valid, pred)))\n",
    "rmse"
   ]
  },
  {
   "cell_type": "code",
   "execution_count": 42,
   "metadata": {},
   "outputs": [],
   "source": [
    "res={'model':model_name,\n",
    "                  'fit_time':end_fit,\n",
    "                  'pred_time':end_pred, \n",
    "                  'rmse':rmse}\n",
    "results = results.append(res, ignore_index=True)"
   ]
  },
  {
   "cell_type": "markdown",
   "metadata": {},
   "source": [
    "### ElNet"
   ]
  },
  {
   "cell_type": "code",
   "execution_count": 43,
   "metadata": {},
   "outputs": [],
   "source": [
    "model_name = 'ElasticNet'\n",
    "elnet=ElasticNet(normalize=True,\n",
    "                random_state=42)"
   ]
  },
  {
   "cell_type": "code",
   "execution_count": 44,
   "metadata": {},
   "outputs": [
    {
     "name": "stdout",
     "output_type": "stream",
     "text": [
      "Время обучения: 1.18\n"
     ]
    }
   ],
   "source": [
    "start = t.time()\n",
    "elnet.fit(features_lr_train,target_lr_train)\n",
    "end_fit = t.time() - start\n",
    "print(f'Время обучения: {end_fit:.2f}')"
   ]
  },
  {
   "cell_type": "code",
   "execution_count": 45,
   "metadata": {},
   "outputs": [
    {
     "name": "stdout",
     "output_type": "stream",
     "text": [
      "Время предсказания: 0.14\n"
     ]
    }
   ],
   "source": [
    "start = t.time()\n",
    "pred = elnet.predict(features_lr_valid)\n",
    "end_pred = t.time() - start\n",
    "print(f'Время предсказания: {end_pred:.2f}')"
   ]
  },
  {
   "cell_type": "code",
   "execution_count": 46,
   "metadata": {},
   "outputs": [
    {
     "data": {
      "text/plain": [
       "4573.569069406143"
      ]
     },
     "execution_count": 46,
     "metadata": {},
     "output_type": "execute_result"
    }
   ],
   "source": [
    "rmse = (np.sqrt(mean_squared_error(target_lr_valid, pred)))\n",
    "rmse"
   ]
  },
  {
   "cell_type": "code",
   "execution_count": 47,
   "metadata": {},
   "outputs": [],
   "source": [
    "res={'model':model_name,\n",
    "                  'fit_time':end_fit,\n",
    "                  'pred_time':end_pred, \n",
    "                  'rmse':rmse}\n",
    "results = results.append(res, ignore_index=True)"
   ]
  },
  {
   "cell_type": "markdown",
   "metadata": {},
   "source": [
    "### СВ"
   ]
  },
  {
   "cell_type": "code",
   "execution_count": 48,
   "metadata": {},
   "outputs": [],
   "source": [
    "model_name='CB_simple'\n",
    "cb_simple = CatBoostRegressor(\n",
    "    n_estimators=50,\n",
    "    learning_rate=.5,\n",
    "    random_seed=42,\n",
    "    silent=True)"
   ]
  },
  {
   "cell_type": "code",
   "execution_count": 49,
   "metadata": {},
   "outputs": [
    {
     "name": "stdout",
     "output_type": "stream",
     "text": [
      "Время обучения: 4.48\n"
     ]
    }
   ],
   "source": [
    "start = t.time()\n",
    "cb_simple.fit(features_train,target_train,cat_features)\n",
    "end_fit = t.time() - start\n",
    "print(f'Время обучения: {end_fit:.2f}')"
   ]
  },
  {
   "cell_type": "code",
   "execution_count": 50,
   "metadata": {},
   "outputs": [
    {
     "name": "stdout",
     "output_type": "stream",
     "text": [
      "Время предсказания: 0.04\n"
     ]
    }
   ],
   "source": [
    "start = t.time()\n",
    "cb_simple_pred = cb_simple.predict(features_valid)\n",
    "end_pred = t.time() - start\n",
    "print(f'Время предсказания: {end_pred:.2f}')"
   ]
  },
  {
   "cell_type": "code",
   "execution_count": 51,
   "metadata": {},
   "outputs": [
    {
     "data": {
      "text/plain": [
       "1676.7630065162311"
      ]
     },
     "execution_count": 51,
     "metadata": {},
     "output_type": "execute_result"
    }
   ],
   "source": [
    "rmse = (np.sqrt(mean_squared_error(target_valid, cb_simple_pred)))\n",
    "rmse"
   ]
  },
  {
   "cell_type": "code",
   "execution_count": 52,
   "metadata": {},
   "outputs": [],
   "source": [
    "res={'model':model_name,\n",
    "                  'fit_time':end_fit,\n",
    "                  'pred_time':end_pred, \n",
    "                  'rmse':rmse}\n",
    "results = results.append(res, ignore_index=True)"
   ]
  },
  {
   "cell_type": "markdown",
   "metadata": {},
   "source": [
    "---"
   ]
  },
  {
   "cell_type": "code",
   "execution_count": 53,
   "metadata": {},
   "outputs": [],
   "source": [
    "model_name = 'CB_Optuna'\n",
    "start = t.time()\n",
    "def objective(trial):\n",
    "    params = {\n",
    "            'n_estimators': trial.suggest_int('n_estimators', 80, 200),\n",
    "            'max_depth': trial.suggest_int('max_depth', 4, 20),\n",
    "#             'iterations': trial.suggest_int('iterations', 50, 150),\n",
    "            'learning_rate': trial.suggest_categorical('learning_rate', [0.02, 0.05, 0.08, 0.1]),\n",
    "            'random_state': 42,\n",
    "            'silent': True,\n",
    "            'cat_features': cat_features,\n",
    "            'loss_function': 'RMSE',\n",
    "    }\n",
    "    \n",
    "    model = CatBoostRegressor(**params)\n",
    "    score = cross_val_score(model, features_train, target_train, scoring='neg_mean_squared_error', cv=3).mean()\n",
    "    return score"
   ]
  },
  {
   "cell_type": "code",
   "execution_count": 54,
   "metadata": {
    "scrolled": true
   },
   "outputs": [
    {
     "name": "stderr",
     "output_type": "stream",
     "text": [
      "\u001b[32m[I 2022-09-09 22:36:47,021]\u001b[0m A new study created in memory with name: no-name-b950a6db-c19e-4305-ad04-6c725c9e6488\u001b[0m\n",
      "/opt/conda/lib/python3.9/site-packages/sklearn/model_selection/_validation.py:610: FitFailedWarning: Estimator fit failed. The score on this train-test partition for these parameters will be set to nan. Details: \n",
      "Traceback (most recent call last):\n",
      "  File \"/opt/conda/lib/python3.9/site-packages/sklearn/model_selection/_validation.py\", line 593, in _fit_and_score\n",
      "    estimator.fit(X_train, y_train, **fit_params)\n",
      "  File \"/opt/conda/lib/python3.9/site-packages/catboost/core.py\", line 5299, in fit\n",
      "    return self._fit(X, y, cat_features, None, None, None, sample_weight, None, None, None, None, baseline,\n",
      "  File \"/opt/conda/lib/python3.9/site-packages/catboost/core.py\", line 2021, in _fit\n",
      "    train_params = self._prepare_train_params(\n",
      "  File \"/opt/conda/lib/python3.9/site-packages/catboost/core.py\", line 1953, in _prepare_train_params\n",
      "    _check_train_params(params)\n",
      "  File \"_catboost.pyx\", line 5839, in _catboost._check_train_params\n",
      "  File \"_catboost.pyx\", line 5858, in _catboost._check_train_params\n",
      "_catboost.CatBoostError: catboost/private/libs/options/oblivious_tree_options.cpp:122: Maximum tree depth is 16\n",
      "\n",
      "  warnings.warn(\"Estimator fit failed. The score on this train-test\"\n",
      "/opt/conda/lib/python3.9/site-packages/sklearn/model_selection/_validation.py:610: FitFailedWarning: Estimator fit failed. The score on this train-test partition for these parameters will be set to nan. Details: \n",
      "Traceback (most recent call last):\n",
      "  File \"/opt/conda/lib/python3.9/site-packages/sklearn/model_selection/_validation.py\", line 593, in _fit_and_score\n",
      "    estimator.fit(X_train, y_train, **fit_params)\n",
      "  File \"/opt/conda/lib/python3.9/site-packages/catboost/core.py\", line 5299, in fit\n",
      "    return self._fit(X, y, cat_features, None, None, None, sample_weight, None, None, None, None, baseline,\n",
      "  File \"/opt/conda/lib/python3.9/site-packages/catboost/core.py\", line 2021, in _fit\n",
      "    train_params = self._prepare_train_params(\n",
      "  File \"/opt/conda/lib/python3.9/site-packages/catboost/core.py\", line 1953, in _prepare_train_params\n",
      "    _check_train_params(params)\n",
      "  File \"_catboost.pyx\", line 5839, in _catboost._check_train_params\n",
      "  File \"_catboost.pyx\", line 5858, in _catboost._check_train_params\n",
      "_catboost.CatBoostError: catboost/private/libs/options/oblivious_tree_options.cpp:122: Maximum tree depth is 16\n",
      "\n",
      "  warnings.warn(\"Estimator fit failed. The score on this train-test\"\n",
      "/opt/conda/lib/python3.9/site-packages/sklearn/model_selection/_validation.py:610: FitFailedWarning: Estimator fit failed. The score on this train-test partition for these parameters will be set to nan. Details: \n",
      "Traceback (most recent call last):\n",
      "  File \"/opt/conda/lib/python3.9/site-packages/sklearn/model_selection/_validation.py\", line 593, in _fit_and_score\n",
      "    estimator.fit(X_train, y_train, **fit_params)\n",
      "  File \"/opt/conda/lib/python3.9/site-packages/catboost/core.py\", line 5299, in fit\n",
      "    return self._fit(X, y, cat_features, None, None, None, sample_weight, None, None, None, None, baseline,\n",
      "  File \"/opt/conda/lib/python3.9/site-packages/catboost/core.py\", line 2021, in _fit\n",
      "    train_params = self._prepare_train_params(\n",
      "  File \"/opt/conda/lib/python3.9/site-packages/catboost/core.py\", line 1953, in _prepare_train_params\n",
      "    _check_train_params(params)\n",
      "  File \"_catboost.pyx\", line 5839, in _catboost._check_train_params\n",
      "  File \"_catboost.pyx\", line 5858, in _catboost._check_train_params\n",
      "_catboost.CatBoostError: catboost/private/libs/options/oblivious_tree_options.cpp:122: Maximum tree depth is 16\n",
      "\n",
      "  warnings.warn(\"Estimator fit failed. The score on this train-test\"\n",
      "\u001b[33m[W 2022-09-09 22:36:47,372]\u001b[0m Trial 0 failed because of the following error: The value nan is not acceptable.\u001b[0m\n",
      "\u001b[32m[I 2022-09-09 22:38:42,050]\u001b[0m Trial 1 finished with value: -2590250.2912698914 and parameters: {'n_estimators': 197, 'max_depth': 13, 'learning_rate': 0.08}. Best is trial 1 with value: -2590250.2912698914.\u001b[0m\n",
      "\u001b[32m[I 2022-09-09 22:38:57,498]\u001b[0m Trial 2 finished with value: -3102758.733245623 and parameters: {'n_estimators': 94, 'max_depth': 6, 'learning_rate': 0.1}. Best is trial 1 with value: -2590250.2912698914.\u001b[0m\n",
      "\u001b[32m[I 2022-09-09 22:40:41,798]\u001b[0m Trial 3 finished with value: -2640164.570160569 and parameters: {'n_estimators': 102, 'max_depth': 14, 'learning_rate': 0.1}. Best is trial 1 with value: -2590250.2912698914.\u001b[0m\n",
      "/opt/conda/lib/python3.9/site-packages/sklearn/model_selection/_validation.py:610: FitFailedWarning: Estimator fit failed. The score on this train-test partition for these parameters will be set to nan. Details: \n",
      "Traceback (most recent call last):\n",
      "  File \"/opt/conda/lib/python3.9/site-packages/sklearn/model_selection/_validation.py\", line 593, in _fit_and_score\n",
      "    estimator.fit(X_train, y_train, **fit_params)\n",
      "  File \"/opt/conda/lib/python3.9/site-packages/catboost/core.py\", line 5299, in fit\n",
      "    return self._fit(X, y, cat_features, None, None, None, sample_weight, None, None, None, None, baseline,\n",
      "  File \"/opt/conda/lib/python3.9/site-packages/catboost/core.py\", line 2021, in _fit\n",
      "    train_params = self._prepare_train_params(\n",
      "  File \"/opt/conda/lib/python3.9/site-packages/catboost/core.py\", line 1953, in _prepare_train_params\n",
      "    _check_train_params(params)\n",
      "  File \"_catboost.pyx\", line 5839, in _catboost._check_train_params\n",
      "  File \"_catboost.pyx\", line 5858, in _catboost._check_train_params\n",
      "_catboost.CatBoostError: catboost/private/libs/options/oblivious_tree_options.cpp:122: Maximum tree depth is 16\n",
      "\n",
      "  warnings.warn(\"Estimator fit failed. The score on this train-test\"\n",
      "/opt/conda/lib/python3.9/site-packages/sklearn/model_selection/_validation.py:610: FitFailedWarning: Estimator fit failed. The score on this train-test partition for these parameters will be set to nan. Details: \n",
      "Traceback (most recent call last):\n",
      "  File \"/opt/conda/lib/python3.9/site-packages/sklearn/model_selection/_validation.py\", line 593, in _fit_and_score\n",
      "    estimator.fit(X_train, y_train, **fit_params)\n",
      "  File \"/opt/conda/lib/python3.9/site-packages/catboost/core.py\", line 5299, in fit\n",
      "    return self._fit(X, y, cat_features, None, None, None, sample_weight, None, None, None, None, baseline,\n",
      "  File \"/opt/conda/lib/python3.9/site-packages/catboost/core.py\", line 2021, in _fit\n",
      "    train_params = self._prepare_train_params(\n",
      "  File \"/opt/conda/lib/python3.9/site-packages/catboost/core.py\", line 1953, in _prepare_train_params\n",
      "    _check_train_params(params)\n",
      "  File \"_catboost.pyx\", line 5839, in _catboost._check_train_params\n",
      "  File \"_catboost.pyx\", line 5858, in _catboost._check_train_params\n",
      "_catboost.CatBoostError: catboost/private/libs/options/oblivious_tree_options.cpp:122: Maximum tree depth is 16\n",
      "\n",
      "  warnings.warn(\"Estimator fit failed. The score on this train-test\"\n",
      "/opt/conda/lib/python3.9/site-packages/sklearn/model_selection/_validation.py:610: FitFailedWarning: Estimator fit failed. The score on this train-test partition for these parameters will be set to nan. Details: \n",
      "Traceback (most recent call last):\n",
      "  File \"/opt/conda/lib/python3.9/site-packages/sklearn/model_selection/_validation.py\", line 593, in _fit_and_score\n",
      "    estimator.fit(X_train, y_train, **fit_params)\n",
      "  File \"/opt/conda/lib/python3.9/site-packages/catboost/core.py\", line 5299, in fit\n",
      "    return self._fit(X, y, cat_features, None, None, None, sample_weight, None, None, None, None, baseline,\n",
      "  File \"/opt/conda/lib/python3.9/site-packages/catboost/core.py\", line 2021, in _fit\n",
      "    train_params = self._prepare_train_params(\n",
      "  File \"/opt/conda/lib/python3.9/site-packages/catboost/core.py\", line 1953, in _prepare_train_params\n",
      "    _check_train_params(params)\n",
      "  File \"_catboost.pyx\", line 5839, in _catboost._check_train_params\n",
      "  File \"_catboost.pyx\", line 5858, in _catboost._check_train_params\n",
      "_catboost.CatBoostError: catboost/private/libs/options/oblivious_tree_options.cpp:122: Maximum tree depth is 16\n",
      "\n",
      "  warnings.warn(\"Estimator fit failed. The score on this train-test\"\n",
      "\u001b[33m[W 2022-09-09 22:40:42,147]\u001b[0m Trial 4 failed because of the following error: The value nan is not acceptable.\u001b[0m\n",
      "\u001b[32m[I 2022-09-09 22:40:57,843]\u001b[0m Trial 5 finished with value: -3156393.3422147646 and parameters: {'n_estimators': 110, 'max_depth': 5, 'learning_rate': 0.1}. Best is trial 1 with value: -2590250.2912698914.\u001b[0m\n",
      "\u001b[32m[I 2022-09-09 22:41:25,629]\u001b[0m Trial 6 finished with value: -2745990.82557411 and parameters: {'n_estimators': 103, 'max_depth': 10, 'learning_rate': 0.1}. Best is trial 1 with value: -2590250.2912698914.\u001b[0m\n",
      "\u001b[32m[I 2022-09-09 22:42:16,518]\u001b[0m Trial 7 finished with value: -4148440.007179919 and parameters: {'n_estimators': 85, 'max_depth': 13, 'learning_rate': 0.02}. Best is trial 1 with value: -2590250.2912698914.\u001b[0m\n",
      "\u001b[32m[I 2022-09-09 22:42:40,181]\u001b[0m Trial 8 finished with value: -2903677.1882569822 and parameters: {'n_estimators': 115, 'max_depth': 8, 'learning_rate': 0.08}. Best is trial 1 with value: -2590250.2912698914.\u001b[0m\n",
      "\u001b[32m[I 2022-09-09 22:43:07,650]\u001b[0m Trial 9 finished with value: -2797750.9881115393 and parameters: {'n_estimators': 103, 'max_depth': 10, 'learning_rate': 0.08}. Best is trial 1 with value: -2590250.2912698914.\u001b[0m\n"
     ]
    }
   ],
   "source": [
    "study = optuna.create_study(direction = \"maximize\")\n",
    "study.optimize(objective, n_trials = 10)\n",
    "trial = study.best_trial"
   ]
  },
  {
   "cell_type": "code",
   "execution_count": 55,
   "metadata": {},
   "outputs": [
    {
     "data": {
      "text/plain": [
       "<catboost.core.CatBoostRegressor at 0x7fda6d9fa520>"
      ]
     },
     "execution_count": 55,
     "metadata": {},
     "output_type": "execute_result"
    }
   ],
   "source": [
    "params = trial.params\n",
    "CB_opt = CatBoostRegressor(random_state=42, **params)\n",
    "CB_opt.fit(features_train,target_train,cat_features=cat_features,silent=True)"
   ]
  },
  {
   "cell_type": "code",
   "execution_count": 56,
   "metadata": {},
   "outputs": [
    {
     "name": "stdout",
     "output_type": "stream",
     "text": [
      "Время обучения с Optuna: 429.06\n"
     ]
    }
   ],
   "source": [
    "end_fit = t.time() - start\n",
    "print(f'Время обучения с Optuna: {end_fit:.2f}')"
   ]
  },
  {
   "cell_type": "code",
   "execution_count": 57,
   "metadata": {},
   "outputs": [
    {
     "name": "stdout",
     "output_type": "stream",
     "text": [
      "Время предсказания: 0.11\n"
     ]
    }
   ],
   "source": [
    "start = t.time()\n",
    "cb_opt_pred = CB_opt.predict(features_valid)\n",
    "end_pred = t.time() - start\n",
    "print(f'Время предсказания: {end_pred:.2f}')"
   ]
  },
  {
   "cell_type": "code",
   "execution_count": 58,
   "metadata": {},
   "outputs": [
    {
     "data": {
      "text/plain": [
       "1609.4254537784257"
      ]
     },
     "execution_count": 58,
     "metadata": {},
     "output_type": "execute_result"
    }
   ],
   "source": [
    "rmse = (np.sqrt(-1*trial.value))\n",
    "rmse"
   ]
  },
  {
   "cell_type": "code",
   "execution_count": 59,
   "metadata": {},
   "outputs": [],
   "source": [
    "res={'model':model_name,\n",
    "                  'fit_time':end_fit,\n",
    "                  'pred_time':end_pred, \n",
    "                  'rmse':rmse}\n",
    "results = results.append(res, ignore_index=True)"
   ]
  },
  {
   "cell_type": "markdown",
   "metadata": {},
   "source": [
    "### LGB"
   ]
  },
  {
   "cell_type": "code",
   "execution_count": 60,
   "metadata": {},
   "outputs": [],
   "source": [
    "model_name = 'LGB_simple'\n",
    "lgb_simple = LGBMRegressor(random_state=42)"
   ]
  },
  {
   "cell_type": "code",
   "execution_count": 61,
   "metadata": {},
   "outputs": [
    {
     "name": "stdout",
     "output_type": "stream",
     "text": [
      "Время обучения: 16.01\n"
     ]
    }
   ],
   "source": [
    "start = t.time()\n",
    "lgb_simple.fit(features_train,target_train)\n",
    "end_fit = t.time() - start\n",
    "print(f'Время обучения: {end_fit:.2f}')"
   ]
  },
  {
   "cell_type": "code",
   "execution_count": 62,
   "metadata": {},
   "outputs": [
    {
     "name": "stdout",
     "output_type": "stream",
     "text": [
      "Время предсказания: 0.69\n"
     ]
    }
   ],
   "source": [
    "start = t.time()\n",
    "pred = lgb_simple.predict(features_valid)\n",
    "end_pred = t.time() - start\n",
    "print(f'Время предсказания: {end_pred:.2f}')"
   ]
  },
  {
   "cell_type": "code",
   "execution_count": 63,
   "metadata": {},
   "outputs": [
    {
     "data": {
      "text/plain": [
       "1618.8740391747476"
      ]
     },
     "execution_count": 63,
     "metadata": {},
     "output_type": "execute_result"
    }
   ],
   "source": [
    "rmse = (np.sqrt(mean_squared_error(target_valid, pred)))\n",
    "rmse"
   ]
  },
  {
   "cell_type": "code",
   "execution_count": 64,
   "metadata": {},
   "outputs": [],
   "source": [
    "res={'model':model_name,\n",
    "                  'fit_time':end_fit,\n",
    "                  'pred_time':end_pred, \n",
    "                  'rmse':rmse}\n",
    "results = results.append(res, ignore_index=True)"
   ]
  },
  {
   "cell_type": "markdown",
   "metadata": {},
   "source": [
    "---"
   ]
  },
  {
   "cell_type": "code",
   "execution_count": 65,
   "metadata": {},
   "outputs": [],
   "source": [
    "model_name = 'LGB_Optuna'\n",
    "start = t.time()\n",
    "def objective(trial):\n",
    "    params = {\n",
    "            'n_estimators': trial.suggest_int('n_estimators', 80, 200),\n",
    "            'max_depth': trial.suggest_int('max_depth', 15, 31),\n",
    "#             'iterations': trial.suggest_int('iterations', 50, 150),\n",
    "            'learning_rate': trial.suggest_categorical('learning_rate', [0.02, 0.05, 0.08, 0.1]),\n",
    "            'random_state': 42,\n",
    "            'verbose': 0,\n",
    "    }\n",
    "    \n",
    "    model = LGBMRegressor(**params)\n",
    "    score = cross_val_score(model, features_train, target_train, scoring='neg_mean_squared_error', cv=3).mean()\n",
    "    return score"
   ]
  },
  {
   "cell_type": "code",
   "execution_count": 66,
   "metadata": {
    "scrolled": true
   },
   "outputs": [
    {
     "name": "stderr",
     "output_type": "stream",
     "text": [
      "\u001b[32m[I 2022-09-09 22:44:12,965]\u001b[0m A new study created in memory with name: no-name-a306c94d-4a66-47d6-80fd-e2f2d7c56d3b\u001b[0m\n"
     ]
    },
    {
     "name": "stdout",
     "output_type": "stream",
     "text": [
      "[LightGBM] [Warning] Accuracy may be bad since you didn't explicitly set num_leaves OR 2^max_depth > num_leaves. (num_leaves=31).\n",
      "[LightGBM] [Warning] Accuracy may be bad since you didn't explicitly set num_leaves OR 2^max_depth > num_leaves. (num_leaves=31).\n",
      "[LightGBM] [Warning] Auto-choosing row-wise multi-threading, the overhead of testing was 0.011704 seconds.\n",
      "You can set `force_row_wise=true` to remove the overhead.\n",
      "And if memory is not enough, you can set `force_col_wise=true`.\n",
      "[LightGBM] [Warning] Accuracy may be bad since you didn't explicitly set num_leaves OR 2^max_depth > num_leaves. (num_leaves=31).\n",
      "[LightGBM] [Warning] Accuracy may be bad since you didn't explicitly set num_leaves OR 2^max_depth > num_leaves. (num_leaves=31).\n",
      "[LightGBM] [Warning] Auto-choosing row-wise multi-threading, the overhead of testing was 0.003489 seconds.\n",
      "You can set `force_row_wise=true` to remove the overhead.\n",
      "And if memory is not enough, you can set `force_col_wise=true`.\n",
      "[LightGBM] [Warning] Accuracy may be bad since you didn't explicitly set num_leaves OR 2^max_depth > num_leaves. (num_leaves=31).\n",
      "[LightGBM] [Warning] Accuracy may be bad since you didn't explicitly set num_leaves OR 2^max_depth > num_leaves. (num_leaves=31).\n",
      "[LightGBM] [Warning] Auto-choosing row-wise multi-threading, the overhead of testing was 0.004015 seconds.\n",
      "You can set `force_row_wise=true` to remove the overhead.\n",
      "And if memory is not enough, you can set `force_col_wise=true`.\n"
     ]
    },
    {
     "name": "stderr",
     "output_type": "stream",
     "text": [
      "\u001b[32m[I 2022-09-09 22:45:16,052]\u001b[0m Trial 0 finished with value: -2679702.135602709 and parameters: {'n_estimators': 164, 'max_depth': 25, 'learning_rate': 0.1}. Best is trial 0 with value: -2679702.135602709.\u001b[0m\n"
     ]
    },
    {
     "name": "stdout",
     "output_type": "stream",
     "text": [
      "[LightGBM] [Warning] Accuracy may be bad since you didn't explicitly set num_leaves OR 2^max_depth > num_leaves. (num_leaves=31).\n",
      "[LightGBM] [Warning] Accuracy may be bad since you didn't explicitly set num_leaves OR 2^max_depth > num_leaves. (num_leaves=31).\n",
      "[LightGBM] [Warning] Auto-choosing row-wise multi-threading, the overhead of testing was 0.093629 seconds.\n",
      "You can set `force_row_wise=true` to remove the overhead.\n",
      "And if memory is not enough, you can set `force_col_wise=true`.\n",
      "[LightGBM] [Warning] Accuracy may be bad since you didn't explicitly set num_leaves OR 2^max_depth > num_leaves. (num_leaves=31).\n",
      "[LightGBM] [Warning] Accuracy may be bad since you didn't explicitly set num_leaves OR 2^max_depth > num_leaves. (num_leaves=31).\n",
      "[LightGBM] [Warning] Auto-choosing row-wise multi-threading, the overhead of testing was 0.003783 seconds.\n",
      "You can set `force_row_wise=true` to remove the overhead.\n",
      "And if memory is not enough, you can set `force_col_wise=true`.\n",
      "[LightGBM] [Warning] Accuracy may be bad since you didn't explicitly set num_leaves OR 2^max_depth > num_leaves. (num_leaves=31).\n",
      "[LightGBM] [Warning] Accuracy may be bad since you didn't explicitly set num_leaves OR 2^max_depth > num_leaves. (num_leaves=31).\n",
      "[LightGBM] [Warning] Auto-choosing row-wise multi-threading, the overhead of testing was 0.091318 seconds.\n",
      "You can set `force_row_wise=true` to remove the overhead.\n",
      "And if memory is not enough, you can set `force_col_wise=true`.\n"
     ]
    },
    {
     "name": "stderr",
     "output_type": "stream",
     "text": [
      "\u001b[32m[I 2022-09-09 22:46:02,638]\u001b[0m Trial 1 finished with value: -2736992.8127626865 and parameters: {'n_estimators': 127, 'max_depth': 24, 'learning_rate': 0.05}. Best is trial 0 with value: -2679702.135602709.\u001b[0m\n"
     ]
    },
    {
     "name": "stdout",
     "output_type": "stream",
     "text": [
      "[LightGBM] [Warning] Accuracy may be bad since you didn't explicitly set num_leaves OR 2^max_depth > num_leaves. (num_leaves=31).\n",
      "[LightGBM] [Warning] Accuracy may be bad since you didn't explicitly set num_leaves OR 2^max_depth > num_leaves. (num_leaves=31).\n",
      "[LightGBM] [Warning] Auto-choosing row-wise multi-threading, the overhead of testing was 0.003927 seconds.\n",
      "You can set `force_row_wise=true` to remove the overhead.\n",
      "And if memory is not enough, you can set `force_col_wise=true`.\n",
      "[LightGBM] [Warning] Accuracy may be bad since you didn't explicitly set num_leaves OR 2^max_depth > num_leaves. (num_leaves=31).\n",
      "[LightGBM] [Warning] Accuracy may be bad since you didn't explicitly set num_leaves OR 2^max_depth > num_leaves. (num_leaves=31).\n",
      "[LightGBM] [Warning] Auto-choosing row-wise multi-threading, the overhead of testing was 0.003481 seconds.\n",
      "You can set `force_row_wise=true` to remove the overhead.\n",
      "And if memory is not enough, you can set `force_col_wise=true`.\n",
      "[LightGBM] [Warning] Accuracy may be bad since you didn't explicitly set num_leaves OR 2^max_depth > num_leaves. (num_leaves=31).\n",
      "[LightGBM] [Warning] Accuracy may be bad since you didn't explicitly set num_leaves OR 2^max_depth > num_leaves. (num_leaves=31).\n",
      "[LightGBM] [Warning] Auto-choosing row-wise multi-threading, the overhead of testing was 0.086974 seconds.\n",
      "You can set `force_row_wise=true` to remove the overhead.\n",
      "And if memory is not enough, you can set `force_col_wise=true`.\n"
     ]
    },
    {
     "name": "stderr",
     "output_type": "stream",
     "text": [
      "\u001b[32m[I 2022-09-09 22:46:33,840]\u001b[0m Trial 2 finished with value: -3857757.692189111 and parameters: {'n_estimators': 98, 'max_depth': 16, 'learning_rate': 0.02}. Best is trial 0 with value: -2679702.135602709.\u001b[0m\n"
     ]
    },
    {
     "name": "stdout",
     "output_type": "stream",
     "text": [
      "[LightGBM] [Warning] Accuracy may be bad since you didn't explicitly set num_leaves OR 2^max_depth > num_leaves. (num_leaves=31).\n",
      "[LightGBM] [Warning] Accuracy may be bad since you didn't explicitly set num_leaves OR 2^max_depth > num_leaves. (num_leaves=31).\n",
      "[LightGBM] [Warning] Auto-choosing row-wise multi-threading, the overhead of testing was 0.003923 seconds.\n",
      "You can set `force_row_wise=true` to remove the overhead.\n",
      "And if memory is not enough, you can set `force_col_wise=true`.\n",
      "[LightGBM] [Warning] Accuracy may be bad since you didn't explicitly set num_leaves OR 2^max_depth > num_leaves. (num_leaves=31).\n",
      "[LightGBM] [Warning] Accuracy may be bad since you didn't explicitly set num_leaves OR 2^max_depth > num_leaves. (num_leaves=31).\n",
      "[LightGBM] [Warning] Auto-choosing row-wise multi-threading, the overhead of testing was 0.004181 seconds.\n",
      "You can set `force_row_wise=true` to remove the overhead.\n",
      "And if memory is not enough, you can set `force_col_wise=true`.\n",
      "[LightGBM] [Warning] Accuracy may be bad since you didn't explicitly set num_leaves OR 2^max_depth > num_leaves. (num_leaves=31).\n",
      "[LightGBM] [Warning] Accuracy may be bad since you didn't explicitly set num_leaves OR 2^max_depth > num_leaves. (num_leaves=31).\n",
      "[LightGBM] [Warning] Auto-choosing col-wise multi-threading, the overhead of testing was 0.097464 seconds.\n",
      "You can set `force_col_wise=true` to remove the overhead.\n"
     ]
    },
    {
     "name": "stderr",
     "output_type": "stream",
     "text": [
      "\u001b[32m[I 2022-09-09 22:47:38,932]\u001b[0m Trial 3 finished with value: -2691240.3162831473 and parameters: {'n_estimators': 168, 'max_depth': 15, 'learning_rate': 0.08}. Best is trial 0 with value: -2679702.135602709.\u001b[0m\n"
     ]
    },
    {
     "name": "stdout",
     "output_type": "stream",
     "text": [
      "[LightGBM] [Warning] Accuracy may be bad since you didn't explicitly set num_leaves OR 2^max_depth > num_leaves. (num_leaves=31).\n",
      "[LightGBM] [Warning] Accuracy may be bad since you didn't explicitly set num_leaves OR 2^max_depth > num_leaves. (num_leaves=31).\n",
      "[LightGBM] [Warning] Auto-choosing row-wise multi-threading, the overhead of testing was 0.199797 seconds.\n",
      "You can set `force_row_wise=true` to remove the overhead.\n",
      "And if memory is not enough, you can set `force_col_wise=true`.\n",
      "[LightGBM] [Warning] Accuracy may be bad since you didn't explicitly set num_leaves OR 2^max_depth > num_leaves. (num_leaves=31).\n",
      "[LightGBM] [Warning] Accuracy may be bad since you didn't explicitly set num_leaves OR 2^max_depth > num_leaves. (num_leaves=31).\n",
      "[LightGBM] [Warning] Auto-choosing row-wise multi-threading, the overhead of testing was 0.093666 seconds.\n",
      "You can set `force_row_wise=true` to remove the overhead.\n",
      "And if memory is not enough, you can set `force_col_wise=true`.\n",
      "[LightGBM] [Warning] Accuracy may be bad since you didn't explicitly set num_leaves OR 2^max_depth > num_leaves. (num_leaves=31).\n",
      "[LightGBM] [Warning] Accuracy may be bad since you didn't explicitly set num_leaves OR 2^max_depth > num_leaves. (num_leaves=31).\n",
      "[LightGBM] [Warning] Auto-choosing row-wise multi-threading, the overhead of testing was 0.091534 seconds.\n",
      "You can set `force_row_wise=true` to remove the overhead.\n",
      "And if memory is not enough, you can set `force_col_wise=true`.\n"
     ]
    },
    {
     "name": "stderr",
     "output_type": "stream",
     "text": [
      "\u001b[32m[I 2022-09-09 22:49:36,459]\u001b[0m Trial 4 finished with value: -2702133.5180314877 and parameters: {'n_estimators': 193, 'max_depth': 16, 'learning_rate': 0.05}. Best is trial 0 with value: -2679702.135602709.\u001b[0m\n"
     ]
    },
    {
     "name": "stdout",
     "output_type": "stream",
     "text": [
      "[LightGBM] [Warning] Accuracy may be bad since you didn't explicitly set num_leaves OR 2^max_depth > num_leaves. (num_leaves=31).\n",
      "[LightGBM] [Warning] Accuracy may be bad since you didn't explicitly set num_leaves OR 2^max_depth > num_leaves. (num_leaves=31).\n",
      "[LightGBM] [Warning] Auto-choosing row-wise multi-threading, the overhead of testing was 0.003528 seconds.\n",
      "You can set `force_row_wise=true` to remove the overhead.\n",
      "And if memory is not enough, you can set `force_col_wise=true`.\n",
      "[LightGBM] [Warning] Accuracy may be bad since you didn't explicitly set num_leaves OR 2^max_depth > num_leaves. (num_leaves=31).\n",
      "[LightGBM] [Warning] Accuracy may be bad since you didn't explicitly set num_leaves OR 2^max_depth > num_leaves. (num_leaves=31).\n",
      "[LightGBM] [Warning] Auto-choosing row-wise multi-threading, the overhead of testing was 0.004108 seconds.\n",
      "You can set `force_row_wise=true` to remove the overhead.\n",
      "And if memory is not enough, you can set `force_col_wise=true`.\n",
      "[LightGBM] [Warning] Accuracy may be bad since you didn't explicitly set num_leaves OR 2^max_depth > num_leaves. (num_leaves=31).\n",
      "[LightGBM] [Warning] Accuracy may be bad since you didn't explicitly set num_leaves OR 2^max_depth > num_leaves. (num_leaves=31).\n",
      "[LightGBM] [Warning] Auto-choosing row-wise multi-threading, the overhead of testing was 0.093728 seconds.\n",
      "You can set `force_row_wise=true` to remove the overhead.\n",
      "And if memory is not enough, you can set `force_col_wise=true`.\n"
     ]
    },
    {
     "name": "stderr",
     "output_type": "stream",
     "text": [
      "\u001b[32m[I 2022-09-09 22:50:51,839]\u001b[0m Trial 5 finished with value: -2701263.0414638906 and parameters: {'n_estimators': 193, 'max_depth': 31, 'learning_rate': 0.05}. Best is trial 0 with value: -2679702.135602709.\u001b[0m\n"
     ]
    },
    {
     "name": "stdout",
     "output_type": "stream",
     "text": [
      "[LightGBM] [Warning] Accuracy may be bad since you didn't explicitly set num_leaves OR 2^max_depth > num_leaves. (num_leaves=31).\n",
      "[LightGBM] [Warning] Accuracy may be bad since you didn't explicitly set num_leaves OR 2^max_depth > num_leaves. (num_leaves=31).\n",
      "[LightGBM] [Warning] Auto-choosing row-wise multi-threading, the overhead of testing was 0.003828 seconds.\n",
      "You can set `force_row_wise=true` to remove the overhead.\n",
      "And if memory is not enough, you can set `force_col_wise=true`.\n",
      "[LightGBM] [Warning] Accuracy may be bad since you didn't explicitly set num_leaves OR 2^max_depth > num_leaves. (num_leaves=31).\n",
      "[LightGBM] [Warning] Accuracy may be bad since you didn't explicitly set num_leaves OR 2^max_depth > num_leaves. (num_leaves=31).\n",
      "[LightGBM] [Warning] Auto-choosing row-wise multi-threading, the overhead of testing was 0.003209 seconds.\n",
      "You can set `force_row_wise=true` to remove the overhead.\n",
      "And if memory is not enough, you can set `force_col_wise=true`.\n",
      "[LightGBM] [Warning] Accuracy may be bad since you didn't explicitly set num_leaves OR 2^max_depth > num_leaves. (num_leaves=31).\n",
      "[LightGBM] [Warning] Accuracy may be bad since you didn't explicitly set num_leaves OR 2^max_depth > num_leaves. (num_leaves=31).\n",
      "[LightGBM] [Warning] Auto-choosing row-wise multi-threading, the overhead of testing was 0.003937 seconds.\n",
      "You can set `force_row_wise=true` to remove the overhead.\n",
      "And if memory is not enough, you can set `force_col_wise=true`.\n"
     ]
    },
    {
     "name": "stderr",
     "output_type": "stream",
     "text": [
      "\u001b[32m[I 2022-09-09 22:51:57,641]\u001b[0m Trial 6 finished with value: -2690660.0337863574 and parameters: {'n_estimators': 166, 'max_depth': 27, 'learning_rate': 0.08}. Best is trial 0 with value: -2679702.135602709.\u001b[0m\n"
     ]
    },
    {
     "name": "stdout",
     "output_type": "stream",
     "text": [
      "[LightGBM] [Warning] Accuracy may be bad since you didn't explicitly set num_leaves OR 2^max_depth > num_leaves. (num_leaves=31).\n",
      "[LightGBM] [Warning] Accuracy may be bad since you didn't explicitly set num_leaves OR 2^max_depth > num_leaves. (num_leaves=31).\n",
      "[LightGBM] [Warning] Auto-choosing row-wise multi-threading, the overhead of testing was 0.003676 seconds.\n",
      "You can set `force_row_wise=true` to remove the overhead.\n",
      "And if memory is not enough, you can set `force_col_wise=true`.\n",
      "[LightGBM] [Warning] Accuracy may be bad since you didn't explicitly set num_leaves OR 2^max_depth > num_leaves. (num_leaves=31).\n",
      "[LightGBM] [Warning] Accuracy may be bad since you didn't explicitly set num_leaves OR 2^max_depth > num_leaves. (num_leaves=31).\n",
      "[LightGBM] [Warning] Auto-choosing col-wise multi-threading, the overhead of testing was 0.096499 seconds.\n",
      "You can set `force_col_wise=true` to remove the overhead.\n",
      "[LightGBM] [Warning] Accuracy may be bad since you didn't explicitly set num_leaves OR 2^max_depth > num_leaves. (num_leaves=31).\n",
      "[LightGBM] [Warning] Accuracy may be bad since you didn't explicitly set num_leaves OR 2^max_depth > num_leaves. (num_leaves=31).\n",
      "[LightGBM] [Warning] Auto-choosing row-wise multi-threading, the overhead of testing was 0.004028 seconds.\n",
      "You can set `force_row_wise=true` to remove the overhead.\n",
      "And if memory is not enough, you can set `force_col_wise=true`.\n"
     ]
    },
    {
     "name": "stderr",
     "output_type": "stream",
     "text": [
      "\u001b[32m[I 2022-09-09 22:53:09,127]\u001b[0m Trial 7 finished with value: -2687786.8547274577 and parameters: {'n_estimators': 172, 'max_depth': 25, 'learning_rate': 0.08}. Best is trial 0 with value: -2679702.135602709.\u001b[0m\n"
     ]
    },
    {
     "name": "stdout",
     "output_type": "stream",
     "text": [
      "[LightGBM] [Warning] Accuracy may be bad since you didn't explicitly set num_leaves OR 2^max_depth > num_leaves. (num_leaves=31).\n",
      "[LightGBM] [Warning] Accuracy may be bad since you didn't explicitly set num_leaves OR 2^max_depth > num_leaves. (num_leaves=31).\n",
      "[LightGBM] [Warning] Auto-choosing row-wise multi-threading, the overhead of testing was 0.094338 seconds.\n",
      "You can set `force_row_wise=true` to remove the overhead.\n",
      "And if memory is not enough, you can set `force_col_wise=true`.\n",
      "[LightGBM] [Warning] Accuracy may be bad since you didn't explicitly set num_leaves OR 2^max_depth > num_leaves. (num_leaves=31).\n",
      "[LightGBM] [Warning] Accuracy may be bad since you didn't explicitly set num_leaves OR 2^max_depth > num_leaves. (num_leaves=31).\n",
      "[LightGBM] [Warning] Auto-choosing row-wise multi-threading, the overhead of testing was 0.003491 seconds.\n",
      "You can set `force_row_wise=true` to remove the overhead.\n",
      "And if memory is not enough, you can set `force_col_wise=true`.\n",
      "[LightGBM] [Warning] Accuracy may be bad since you didn't explicitly set num_leaves OR 2^max_depth > num_leaves. (num_leaves=31).\n",
      "[LightGBM] [Warning] Accuracy may be bad since you didn't explicitly set num_leaves OR 2^max_depth > num_leaves. (num_leaves=31).\n",
      "[LightGBM] [Warning] Auto-choosing row-wise multi-threading, the overhead of testing was 0.004225 seconds.\n",
      "You can set `force_row_wise=true` to remove the overhead.\n",
      "And if memory is not enough, you can set `force_col_wise=true`.\n"
     ]
    },
    {
     "name": "stderr",
     "output_type": "stream",
     "text": [
      "\u001b[32m[I 2022-09-09 22:53:36,135]\u001b[0m Trial 8 finished with value: -4062055.0638246317 and parameters: {'n_estimators': 91, 'max_depth': 29, 'learning_rate': 0.02}. Best is trial 0 with value: -2679702.135602709.\u001b[0m\n"
     ]
    },
    {
     "name": "stdout",
     "output_type": "stream",
     "text": [
      "[LightGBM] [Warning] Accuracy may be bad since you didn't explicitly set num_leaves OR 2^max_depth > num_leaves. (num_leaves=31).\n",
      "[LightGBM] [Warning] Accuracy may be bad since you didn't explicitly set num_leaves OR 2^max_depth > num_leaves. (num_leaves=31).\n",
      "[LightGBM] [Warning] Auto-choosing row-wise multi-threading, the overhead of testing was 0.092537 seconds.\n",
      "You can set `force_row_wise=true` to remove the overhead.\n",
      "And if memory is not enough, you can set `force_col_wise=true`.\n",
      "[LightGBM] [Warning] Accuracy may be bad since you didn't explicitly set num_leaves OR 2^max_depth > num_leaves. (num_leaves=31).\n",
      "[LightGBM] [Warning] Accuracy may be bad since you didn't explicitly set num_leaves OR 2^max_depth > num_leaves. (num_leaves=31).\n",
      "[LightGBM] [Warning] Auto-choosing row-wise multi-threading, the overhead of testing was 0.003722 seconds.\n",
      "You can set `force_row_wise=true` to remove the overhead.\n",
      "And if memory is not enough, you can set `force_col_wise=true`.\n",
      "[LightGBM] [Warning] Accuracy may be bad since you didn't explicitly set num_leaves OR 2^max_depth > num_leaves. (num_leaves=31).\n",
      "[LightGBM] [Warning] Accuracy may be bad since you didn't explicitly set num_leaves OR 2^max_depth > num_leaves. (num_leaves=31).\n",
      "[LightGBM] [Warning] Auto-choosing row-wise multi-threading, the overhead of testing was 0.094419 seconds.\n",
      "You can set `force_row_wise=true` to remove the overhead.\n",
      "And if memory is not enough, you can set `force_col_wise=true`.\n"
     ]
    },
    {
     "name": "stderr",
     "output_type": "stream",
     "text": [
      "\u001b[32m[I 2022-09-09 22:54:08,826]\u001b[0m Trial 9 finished with value: -3605762.983895061 and parameters: {'n_estimators': 109, 'max_depth': 29, 'learning_rate': 0.02}. Best is trial 0 with value: -2679702.135602709.\u001b[0m\n"
     ]
    }
   ],
   "source": [
    "study = optuna.create_study(direction = \"maximize\")\n",
    "study.optimize(objective, n_trials = 10)\n",
    "trial = study.best_trial"
   ]
  },
  {
   "cell_type": "code",
   "execution_count": 67,
   "metadata": {},
   "outputs": [
    {
     "name": "stderr",
     "output_type": "stream",
     "text": [
      "/opt/conda/lib/python3.9/site-packages/lightgbm/sklearn.py:736: UserWarning: 'verbose' argument is deprecated and will be removed in a future release of LightGBM. Pass 'log_evaluation()' callback via 'callbacks' argument instead.\n",
      "  _log_warning(\"'verbose' argument is deprecated and will be removed in a future release of LightGBM. \"\n"
     ]
    },
    {
     "data": {
      "text/plain": [
       "LGBMRegressor(max_depth=25, n_estimators=164, random_state=42)"
      ]
     },
     "execution_count": 67,
     "metadata": {},
     "output_type": "execute_result"
    }
   ],
   "source": [
    "params = trial.params\n",
    "LGB_opt = LGBMRegressor(random_state=42, **params)\n",
    "LGB_opt.fit(features_train,target_train,verbose=False)"
   ]
  },
  {
   "cell_type": "code",
   "execution_count": 68,
   "metadata": {},
   "outputs": [
    {
     "name": "stdout",
     "output_type": "stream",
     "text": [
      "Время обучения с Optuna: 620.47\n"
     ]
    }
   ],
   "source": [
    "end_fit = t.time() - start\n",
    "print(f'Время обучения с Optuna: {end_fit:.2f}')"
   ]
  },
  {
   "cell_type": "code",
   "execution_count": 69,
   "metadata": {},
   "outputs": [
    {
     "name": "stdout",
     "output_type": "stream",
     "text": [
      "Время предсказания: 1.10\n"
     ]
    }
   ],
   "source": [
    "start = t.time()\n",
    "pred = LGB_opt.predict(features_valid)\n",
    "end_pred = t.time() - start\n",
    "print(f'Время предсказания: {end_pred:.2f}')"
   ]
  },
  {
   "cell_type": "code",
   "execution_count": 70,
   "metadata": {},
   "outputs": [
    {
     "data": {
      "text/plain": [
       "1636.9795770267597"
      ]
     },
     "execution_count": 70,
     "metadata": {},
     "output_type": "execute_result"
    }
   ],
   "source": [
    "rmse = (np.sqrt(-1*trial.value))\n",
    "rmse"
   ]
  },
  {
   "cell_type": "code",
   "execution_count": 71,
   "metadata": {},
   "outputs": [],
   "source": [
    "res={'model':model_name,\n",
    "                  'fit_time':end_fit,\n",
    "                  'pred_time':end_pred, \n",
    "                  'rmse':rmse}\n",
    "results = results.append(res, ignore_index=True)"
   ]
  },
  {
   "cell_type": "code",
   "execution_count": 72,
   "metadata": {},
   "outputs": [],
   "source": [
    "tglobal= t.time()-tglobal"
   ]
  },
  {
   "cell_type": "code",
   "execution_count": 73,
   "metadata": {},
   "outputs": [
    {
     "data": {
      "text/html": [
       "<div>\n",
       "<style scoped>\n",
       "    .dataframe tbody tr th:only-of-type {\n",
       "        vertical-align: middle;\n",
       "    }\n",
       "\n",
       "    .dataframe tbody tr th {\n",
       "        vertical-align: top;\n",
       "    }\n",
       "\n",
       "    .dataframe thead th {\n",
       "        text-align: right;\n",
       "    }\n",
       "</style>\n",
       "<table border=\"1\" class=\"dataframe\">\n",
       "  <thead>\n",
       "    <tr style=\"text-align: right;\">\n",
       "      <th></th>\n",
       "      <th>model</th>\n",
       "      <th>fit_time</th>\n",
       "      <th>pred_time</th>\n",
       "      <th>rmse</th>\n",
       "    </tr>\n",
       "  </thead>\n",
       "  <tbody>\n",
       "    <tr>\n",
       "      <th>5</th>\n",
       "      <td>CB_Optuna</td>\n",
       "      <td>429.057775</td>\n",
       "      <td>0.105626</td>\n",
       "      <td>1609.425454</td>\n",
       "    </tr>\n",
       "    <tr>\n",
       "      <th>6</th>\n",
       "      <td>LGB_simple</td>\n",
       "      <td>16.010945</td>\n",
       "      <td>0.691925</td>\n",
       "      <td>1618.874039</td>\n",
       "    </tr>\n",
       "    <tr>\n",
       "      <th>7</th>\n",
       "      <td>LGB_Optuna</td>\n",
       "      <td>620.470438</td>\n",
       "      <td>1.102656</td>\n",
       "      <td>1636.979577</td>\n",
       "    </tr>\n",
       "    <tr>\n",
       "      <th>4</th>\n",
       "      <td>CB_simple</td>\n",
       "      <td>4.479726</td>\n",
       "      <td>0.041440</td>\n",
       "      <td>1676.763007</td>\n",
       "    </tr>\n",
       "    <tr>\n",
       "      <th>2</th>\n",
       "      <td>Ridge</td>\n",
       "      <td>1.684156</td>\n",
       "      <td>0.228441</td>\n",
       "      <td>3038.062663</td>\n",
       "    </tr>\n",
       "    <tr>\n",
       "      <th>1</th>\n",
       "      <td>Lasso</td>\n",
       "      <td>1.805336</td>\n",
       "      <td>0.226181</td>\n",
       "      <td>3249.188416</td>\n",
       "    </tr>\n",
       "    <tr>\n",
       "      <th>3</th>\n",
       "      <td>ElasticNet</td>\n",
       "      <td>1.178824</td>\n",
       "      <td>0.141824</td>\n",
       "      <td>4573.569069</td>\n",
       "    </tr>\n",
       "    <tr>\n",
       "      <th>0</th>\n",
       "      <td>baseline</td>\n",
       "      <td>0.001581</td>\n",
       "      <td>0.000000</td>\n",
       "      <td>4573.616112</td>\n",
       "    </tr>\n",
       "  </tbody>\n",
       "</table>\n",
       "</div>"
      ],
      "text/plain": [
       "        model    fit_time  pred_time         rmse\n",
       "5   CB_Optuna  429.057775   0.105626  1609.425454\n",
       "6  LGB_simple   16.010945   0.691925  1618.874039\n",
       "7  LGB_Optuna  620.470438   1.102656  1636.979577\n",
       "4   CB_simple    4.479726   0.041440  1676.763007\n",
       "2       Ridge    1.684156   0.228441  3038.062663\n",
       "1       Lasso    1.805336   0.226181  3249.188416\n",
       "3  ElasticNet    1.178824   0.141824  4573.569069\n",
       "0    baseline    0.001581   0.000000  4573.616112"
      ]
     },
     "execution_count": 73,
     "metadata": {},
     "output_type": "execute_result"
    }
   ],
   "source": [
    "results.sort_values(['rmse','pred_time'])"
   ]
  },
  {
   "cell_type": "code",
   "execution_count": 74,
   "metadata": {},
   "outputs": [
    {
     "data": {
      "text/plain": [
       "18.346569879849753"
      ]
     },
     "execution_count": 74,
     "metadata": {},
     "output_type": "execute_result"
    }
   ],
   "source": [
    "tglobal/60"
   ]
  },
  {
   "cell_type": "markdown",
   "metadata": {},
   "source": [
    "## Анализ моделей"
   ]
  },
  {
   "cell_type": "markdown",
   "metadata": {},
   "source": [
    "Лучшими моделями по критериям заказчика ожидаемо стали бустинги и лучшие показатели у \"прокачанного\"с помощью Optuna CatBoost'а"
   ]
  },
  {
   "cell_type": "code",
   "execution_count": 75,
   "metadata": {},
   "outputs": [
    {
     "data": {
      "text/plain": [
       "1577.9561587483072"
      ]
     },
     "execution_count": 75,
     "metadata": {},
     "output_type": "execute_result"
    }
   ],
   "source": [
    "CB_opt.fit(features_train_full,target_train_full,cat_features=cat_features, silent=True)\n",
    "pred = CB_opt.predict(features_test)\n",
    "rmse = (np.sqrt(mean_squared_error(target_test, pred)))\n",
    "rmse"
   ]
  },
  {
   "cell_type": "markdown",
   "metadata": {},
   "source": [
    "На отложенной выборке значение RMSE удовлетворяет требованию заказчика (не более 2500).\n",
    "\n",
    "Модель подходит по условиям заказчика"
   ]
  },
  {
   "cell_type": "markdown",
   "metadata": {},
   "source": [
    "## Вывод"
   ]
  },
  {
   "cell_type": "markdown",
   "metadata": {},
   "source": [
    "В рамках проекта были обработаны исторические данные по продажам подержанных автомобилей сервиса «Не бит, не крашен».\n",
    "\n",
    "Данные были обработаны для последующего построения модели машинного обучения для определения стоимости автомобиля.\n",
    "\n",
    "Было построено 6 (учитывая Baseline) моделей. С учетом условий заказчика рекомендована модель, основанная на **CatBoost**. Она показала лучшую комбинацию точности предсказания, времени обучения и предсказания"
   ]
  }
 ],
 "metadata": {
  "ExecuteTimeLog": [
   {
    "duration": 877,
    "start_time": "2022-08-09T07:44:12.410Z"
   },
   {
    "duration": 1912,
    "start_time": "2022-08-09T07:44:37.711Z"
   },
   {
    "duration": 15,
    "start_time": "2022-08-09T07:44:45.015Z"
   },
   {
    "duration": 1113,
    "start_time": "2022-08-13T08:36:46.038Z"
   },
   {
    "duration": 1749,
    "start_time": "2022-08-13T08:36:47.153Z"
   },
   {
    "duration": 15,
    "start_time": "2022-08-13T08:36:48.903Z"
   },
   {
    "duration": 3,
    "start_time": "2022-08-13T08:36:48.919Z"
   },
   {
    "duration": 5,
    "start_time": "2022-08-13T08:36:48.923Z"
   },
   {
    "duration": 2372,
    "start_time": "2022-08-13T08:37:15.683Z"
   },
   {
    "duration": 3,
    "start_time": "2022-08-13T08:50:03.062Z"
   },
   {
    "duration": 3,
    "start_time": "2022-08-13T08:51:02.263Z"
   },
   {
    "duration": 6,
    "start_time": "2022-08-13T08:53:47.321Z"
   },
   {
    "duration": 12,
    "start_time": "2022-08-13T08:53:54.591Z"
   },
   {
    "duration": 3,
    "start_time": "2022-08-13T08:54:15.645Z"
   },
   {
    "duration": 33,
    "start_time": "2022-08-13T08:55:40.299Z"
   },
   {
    "duration": 2,
    "start_time": "2022-08-13T08:56:17.261Z"
   },
   {
    "duration": 181,
    "start_time": "2022-08-13T09:00:25.978Z"
   },
   {
    "duration": 129,
    "start_time": "2022-08-13T09:01:21.146Z"
   },
   {
    "duration": 4,
    "start_time": "2022-08-13T09:05:11.189Z"
   },
   {
    "duration": 2,
    "start_time": "2022-08-13T09:08:32.494Z"
   },
   {
    "duration": 3,
    "start_time": "2022-08-13T09:08:37.230Z"
   },
   {
    "duration": 2764,
    "start_time": "2022-08-13T09:08:39.653Z"
   },
   {
    "duration": 9,
    "start_time": "2022-08-13T09:10:28.447Z"
   },
   {
    "duration": 81,
    "start_time": "2022-08-13T09:10:39.062Z"
   },
   {
    "duration": 2082,
    "start_time": "2022-08-13T09:10:46.782Z"
   },
   {
    "duration": 69,
    "start_time": "2022-08-13T09:11:18.702Z"
   },
   {
    "duration": 90,
    "start_time": "2022-08-13T09:12:40.829Z"
   },
   {
    "duration": 16,
    "start_time": "2022-08-13T09:13:31.902Z"
   },
   {
    "duration": 86,
    "start_time": "2022-08-13T09:14:00.636Z"
   },
   {
    "duration": 151,
    "start_time": "2022-08-13T09:17:42.318Z"
   },
   {
    "duration": 4272,
    "start_time": "2022-08-13T09:17:45.198Z"
   },
   {
    "duration": 69,
    "start_time": "2022-08-13T09:18:23.598Z"
   },
   {
    "duration": 77,
    "start_time": "2022-08-13T09:18:47.918Z"
   },
   {
    "duration": 2,
    "start_time": "2022-08-13T09:19:14.726Z"
   },
   {
    "duration": 86,
    "start_time": "2022-08-13T09:19:16.366Z"
   },
   {
    "duration": 148,
    "start_time": "2022-08-13T09:19:17.478Z"
   },
   {
    "duration": 67,
    "start_time": "2022-08-13T09:19:18.061Z"
   },
   {
    "duration": 4,
    "start_time": "2022-08-13T09:19:21.925Z"
   },
   {
    "duration": 1505,
    "start_time": "2022-08-13T09:19:23.455Z"
   },
   {
    "duration": 12,
    "start_time": "2022-08-13T09:20:04.934Z"
   },
   {
    "duration": 74,
    "start_time": "2022-08-13T09:20:42.950Z"
   },
   {
    "duration": 65,
    "start_time": "2022-08-13T09:20:56.629Z"
   },
   {
    "duration": 3,
    "start_time": "2022-08-13T09:20:58.710Z"
   },
   {
    "duration": 2463,
    "start_time": "2022-08-13T09:21:02.022Z"
   },
   {
    "duration": 19,
    "start_time": "2022-08-13T09:21:07.629Z"
   },
   {
    "duration": 10,
    "start_time": "2022-08-13T09:21:20.134Z"
   },
   {
    "duration": 111,
    "start_time": "2022-08-13T09:21:23.549Z"
   },
   {
    "duration": 8,
    "start_time": "2022-08-13T09:21:26.125Z"
   },
   {
    "duration": 4,
    "start_time": "2022-08-13T09:22:57.301Z"
   },
   {
    "duration": 3,
    "start_time": "2022-08-13T09:23:02.846Z"
   },
   {
    "duration": 4,
    "start_time": "2022-08-13T09:24:02.542Z"
   },
   {
    "duration": 6,
    "start_time": "2022-08-13T09:24:21.980Z"
   },
   {
    "duration": 4,
    "start_time": "2022-08-13T09:24:32.799Z"
   },
   {
    "duration": 839,
    "start_time": "2022-08-13T09:38:03.074Z"
   },
   {
    "duration": 10,
    "start_time": "2022-08-13T09:38:17.413Z"
   },
   {
    "duration": 15,
    "start_time": "2022-08-13T09:38:28.226Z"
   },
   {
    "duration": 8,
    "start_time": "2022-08-13T09:38:58.538Z"
   },
   {
    "duration": 10,
    "start_time": "2022-08-13T09:39:13.282Z"
   },
   {
    "duration": 10,
    "start_time": "2022-08-13T09:39:23.390Z"
   },
   {
    "duration": 12,
    "start_time": "2022-08-13T09:40:01.522Z"
   },
   {
    "duration": 8,
    "start_time": "2022-08-13T09:40:42.427Z"
   },
   {
    "duration": 9,
    "start_time": "2022-08-13T09:41:04.850Z"
   },
   {
    "duration": 48,
    "start_time": "2022-08-13T09:42:12.131Z"
   },
   {
    "duration": 17,
    "start_time": "2022-08-13T09:43:23.067Z"
   },
   {
    "duration": 16,
    "start_time": "2022-08-13T09:43:35.243Z"
   },
   {
    "duration": 16,
    "start_time": "2022-08-13T09:44:08.932Z"
   },
   {
    "duration": 27,
    "start_time": "2022-08-13T09:45:27.861Z"
   },
   {
    "duration": 23,
    "start_time": "2022-08-13T09:45:33.637Z"
   },
   {
    "duration": 6,
    "start_time": "2022-08-13T09:45:41.158Z"
   },
   {
    "duration": 31,
    "start_time": "2022-08-13T09:45:59.700Z"
   },
   {
    "duration": 22,
    "start_time": "2022-08-13T09:46:11.341Z"
   },
   {
    "duration": 114,
    "start_time": "2022-08-13T09:46:22.156Z"
   },
   {
    "duration": 65,
    "start_time": "2022-08-13T09:46:24.204Z"
   },
   {
    "duration": 86,
    "start_time": "2022-08-13T09:46:27.893Z"
   },
   {
    "duration": 1865,
    "start_time": "2022-08-13T09:46:35.870Z"
   },
   {
    "duration": 120,
    "start_time": "2022-08-13T09:46:42.789Z"
   },
   {
    "duration": 3,
    "start_time": "2022-08-13T09:46:52.189Z"
   },
   {
    "duration": 3,
    "start_time": "2022-08-13T09:46:52.990Z"
   },
   {
    "duration": 2,
    "start_time": "2022-08-13T09:47:07.224Z"
   },
   {
    "duration": 5727,
    "start_time": "2022-08-13T09:47:08.477Z"
   },
   {
    "duration": 121,
    "start_time": "2022-08-13T09:47:21.925Z"
   },
   {
    "duration": 4,
    "start_time": "2022-08-13T09:47:29.277Z"
   },
   {
    "duration": 4,
    "start_time": "2022-08-13T09:47:30.623Z"
   },
   {
    "duration": 2,
    "start_time": "2022-08-13T09:47:38.438Z"
   },
   {
    "duration": 10485,
    "start_time": "2022-08-13T09:47:40.054Z"
   },
   {
    "duration": 121,
    "start_time": "2022-08-13T09:47:57.422Z"
   },
   {
    "duration": 4,
    "start_time": "2022-08-13T09:48:00.894Z"
   },
   {
    "duration": 4,
    "start_time": "2022-08-13T09:48:02.685Z"
   },
   {
    "duration": 3,
    "start_time": "2022-08-13T09:48:10.446Z"
   },
   {
    "duration": 12,
    "start_time": "2022-08-13T09:48:13.847Z"
   },
   {
    "duration": 3,
    "start_time": "2022-08-13T09:48:18.895Z"
   },
   {
    "duration": 67143,
    "start_time": "2022-08-13T09:48:19.566Z"
   },
   {
    "duration": 370,
    "start_time": "2022-08-13T09:49:26.711Z"
   },
   {
    "duration": 4,
    "start_time": "2022-08-13T09:49:27.082Z"
   },
   {
    "duration": 12,
    "start_time": "2022-08-13T09:49:27.087Z"
   },
   {
    "duration": 41,
    "start_time": "2022-08-13T09:49:43.184Z"
   },
   {
    "duration": 17,
    "start_time": "2022-08-13T09:49:49.977Z"
   },
   {
    "duration": 86,
    "start_time": "2022-08-13T09:49:50.520Z"
   },
   {
    "duration": 59,
    "start_time": "2022-08-13T09:49:54.288Z"
   },
   {
    "duration": 61,
    "start_time": "2022-08-13T09:49:54.561Z"
   },
   {
    "duration": 3,
    "start_time": "2022-08-13T09:49:55.312Z"
   },
   {
    "duration": 60215,
    "start_time": "2022-08-13T09:49:57.784Z"
   },
   {
    "duration": 311,
    "start_time": "2022-08-13T09:50:58.001Z"
   },
   {
    "duration": 4,
    "start_time": "2022-08-13T09:50:58.313Z"
   },
   {
    "duration": 6,
    "start_time": "2022-08-13T09:50:58.318Z"
   },
   {
    "duration": 1774,
    "start_time": "2022-08-18T17:07:56.751Z"
   },
   {
    "duration": 2070,
    "start_time": "2022-08-18T17:07:58.528Z"
   },
   {
    "duration": 23,
    "start_time": "2022-08-18T17:08:00.601Z"
   },
   {
    "duration": 23,
    "start_time": "2022-08-18T17:08:00.626Z"
   },
   {
    "duration": 59,
    "start_time": "2022-08-18T17:08:00.651Z"
   },
   {
    "duration": 3733,
    "start_time": "2022-08-18T17:08:00.712Z"
   },
   {
    "duration": 12,
    "start_time": "2022-08-18T17:08:07.669Z"
   },
   {
    "duration": 42,
    "start_time": "2022-08-18T17:08:15.715Z"
   },
   {
    "duration": 4,
    "start_time": "2022-08-18T17:08:39.733Z"
   },
   {
    "duration": 4,
    "start_time": "2022-08-18T17:09:02.150Z"
   },
   {
    "duration": 1675,
    "start_time": "2022-08-18T17:09:02.508Z"
   },
   {
    "duration": 17,
    "start_time": "2022-08-18T17:09:04.185Z"
   },
   {
    "duration": 17,
    "start_time": "2022-08-18T17:09:04.207Z"
   },
   {
    "duration": 7,
    "start_time": "2022-08-18T17:09:04.226Z"
   },
   {
    "duration": 3487,
    "start_time": "2022-08-18T17:09:04.235Z"
   },
   {
    "duration": 115498,
    "start_time": "2022-08-18T17:09:20.157Z"
   },
   {
    "duration": 176,
    "start_time": "2022-08-18T17:12:57.951Z"
   },
   {
    "duration": 89,
    "start_time": "2022-08-18T17:15:37.966Z"
   },
   {
    "duration": 0,
    "start_time": "2022-08-18T17:15:38.057Z"
   },
   {
    "duration": 17,
    "start_time": "2022-08-18T17:15:43.784Z"
   },
   {
    "duration": 84,
    "start_time": "2022-08-18T17:16:04.145Z"
   },
   {
    "duration": 723,
    "start_time": "2022-08-18T17:16:37.249Z"
   },
   {
    "duration": 865,
    "start_time": "2022-08-18T17:16:47.689Z"
   },
   {
    "duration": 365,
    "start_time": "2022-08-18T17:17:15.464Z"
   },
   {
    "duration": 404,
    "start_time": "2022-08-18T17:18:33.721Z"
   },
   {
    "duration": 381,
    "start_time": "2022-08-18T17:18:40.553Z"
   },
   {
    "duration": 292,
    "start_time": "2022-08-18T17:18:59.927Z"
   },
   {
    "duration": 226,
    "start_time": "2022-08-18T17:19:23.169Z"
   },
   {
    "duration": 244,
    "start_time": "2022-08-18T17:20:42.354Z"
   },
   {
    "duration": 359,
    "start_time": "2022-08-18T17:21:16.979Z"
   },
   {
    "duration": 361,
    "start_time": "2022-08-18T17:21:32.532Z"
   },
   {
    "duration": 280,
    "start_time": "2022-08-18T17:21:47.155Z"
   },
   {
    "duration": 6,
    "start_time": "2022-08-18T17:26:11.491Z"
   },
   {
    "duration": 3,
    "start_time": "2022-08-18T17:27:02.625Z"
   },
   {
    "duration": 75,
    "start_time": "2022-08-18T17:27:09.628Z"
   },
   {
    "duration": 129,
    "start_time": "2022-08-18T17:27:13.284Z"
   },
   {
    "duration": 30,
    "start_time": "2022-08-18T17:27:41.652Z"
   },
   {
    "duration": 131,
    "start_time": "2022-08-18T17:27:48.284Z"
   },
   {
    "duration": 131,
    "start_time": "2022-08-18T17:28:21.349Z"
   },
   {
    "duration": 188,
    "start_time": "2022-08-18T17:28:40.789Z"
   },
   {
    "duration": 197,
    "start_time": "2022-08-18T17:28:56.852Z"
   },
   {
    "duration": 858,
    "start_time": "2022-08-18T17:30:44.742Z"
   },
   {
    "duration": 958,
    "start_time": "2022-08-18T17:31:39.599Z"
   },
   {
    "duration": 951,
    "start_time": "2022-08-18T17:31:44.302Z"
   },
   {
    "duration": 905,
    "start_time": "2022-08-18T17:31:50.198Z"
   },
   {
    "duration": 862,
    "start_time": "2022-08-18T17:31:54.271Z"
   },
   {
    "duration": 894,
    "start_time": "2022-08-18T17:31:59.542Z"
   },
   {
    "duration": 4,
    "start_time": "2022-08-18T17:32:42.342Z"
   },
   {
    "duration": 12,
    "start_time": "2022-08-18T17:33:48.727Z"
   },
   {
    "duration": 1265,
    "start_time": "2022-08-18T17:34:01.903Z"
   },
   {
    "duration": 10,
    "start_time": "2022-08-18T17:34:23.863Z"
   },
   {
    "duration": 300,
    "start_time": "2022-08-18T17:34:54.464Z"
   },
   {
    "duration": 9,
    "start_time": "2022-08-18T17:35:08.830Z"
   },
   {
    "duration": 4,
    "start_time": "2022-08-18T17:36:08.791Z"
   },
   {
    "duration": 6,
    "start_time": "2022-08-18T17:36:23.191Z"
   },
   {
    "duration": 4,
    "start_time": "2022-08-18T17:37:25.592Z"
   },
   {
    "duration": 513,
    "start_time": "2022-08-18T17:37:28.368Z"
   },
   {
    "duration": 4,
    "start_time": "2022-08-18T17:38:12.637Z"
   },
   {
    "duration": 573,
    "start_time": "2022-08-18T17:38:18.332Z"
   },
   {
    "duration": 571,
    "start_time": "2022-08-18T17:38:44.331Z"
   },
   {
    "duration": 12,
    "start_time": "2022-08-18T17:39:25.630Z"
   },
   {
    "duration": 451,
    "start_time": "2022-08-18T17:39:29.752Z"
   },
   {
    "duration": 433,
    "start_time": "2022-08-18T17:39:48.330Z"
   },
   {
    "duration": 575,
    "start_time": "2022-08-18T17:41:14.134Z"
   },
   {
    "duration": 287,
    "start_time": "2022-08-18T17:41:41.978Z"
   },
   {
    "duration": 546,
    "start_time": "2022-08-18T17:41:54.282Z"
   },
   {
    "duration": 256,
    "start_time": "2022-08-18T17:42:19.146Z"
   },
   {
    "duration": 1,
    "start_time": "2022-08-18T17:43:33.197Z"
   },
   {
    "duration": 59857,
    "start_time": "2022-08-18T17:43:46.435Z"
   },
   {
    "duration": 429,
    "start_time": "2022-08-18T17:45:14.779Z"
   },
   {
    "duration": 552,
    "start_time": "2022-08-18T17:45:30.934Z"
   },
   {
    "duration": 11270,
    "start_time": "2022-08-18T17:46:18.943Z"
   },
   {
    "duration": 23227,
    "start_time": "2022-08-18T17:46:36.692Z"
   },
   {
    "duration": 522,
    "start_time": "2022-08-18T17:47:18.747Z"
   },
   {
    "duration": 632,
    "start_time": "2022-08-18T17:48:02.947Z"
   },
   {
    "duration": 1602,
    "start_time": "2022-08-18T17:48:16.635Z"
   },
   {
    "duration": 695,
    "start_time": "2022-08-18T17:48:31.772Z"
   },
   {
    "duration": 12,
    "start_time": "2022-08-18T17:55:41.783Z"
   },
   {
    "duration": 6,
    "start_time": "2022-08-18T17:55:44.086Z"
   },
   {
    "duration": 20,
    "start_time": "2022-08-18T17:57:22.847Z"
   },
   {
    "duration": 11,
    "start_time": "2022-08-18T17:57:39.970Z"
   },
   {
    "duration": 10,
    "start_time": "2022-08-18T17:59:02.747Z"
   },
   {
    "duration": 58,
    "start_time": "2022-08-18T17:59:09.543Z"
   },
   {
    "duration": 27,
    "start_time": "2022-08-18T17:59:23.551Z"
   },
   {
    "duration": 89,
    "start_time": "2022-08-18T18:00:11.865Z"
   },
   {
    "duration": 15,
    "start_time": "2022-08-18T18:00:28.339Z"
   },
   {
    "duration": 31,
    "start_time": "2022-08-18T18:00:36.043Z"
   },
   {
    "duration": 255,
    "start_time": "2022-08-18T18:02:48.681Z"
   },
   {
    "duration": 14,
    "start_time": "2022-08-18T18:03:03.851Z"
   },
   {
    "duration": 111,
    "start_time": "2022-08-18T18:04:30.943Z"
   },
   {
    "duration": 4,
    "start_time": "2022-08-18T18:04:48.290Z"
   },
   {
    "duration": 33,
    "start_time": "2022-08-18T18:05:01.467Z"
   },
   {
    "duration": 15,
    "start_time": "2022-08-18T18:05:09.378Z"
   },
   {
    "duration": 125,
    "start_time": "2022-08-18T18:05:38.846Z"
   },
   {
    "duration": 151,
    "start_time": "2022-08-18T18:05:52.482Z"
   },
   {
    "duration": 4,
    "start_time": "2022-08-18T18:05:53.342Z"
   },
   {
    "duration": 4,
    "start_time": "2022-08-18T18:06:01.839Z"
   },
   {
    "duration": 157,
    "start_time": "2022-08-18T18:06:02.847Z"
   },
   {
    "duration": 14,
    "start_time": "2022-08-18T18:06:15.239Z"
   },
   {
    "duration": 4,
    "start_time": "2022-08-18T18:06:34.788Z"
   },
   {
    "duration": 20,
    "start_time": "2022-08-18T18:06:35.543Z"
   },
   {
    "duration": 17,
    "start_time": "2022-08-18T18:06:40.270Z"
   },
   {
    "duration": 4,
    "start_time": "2022-08-18T18:07:31.987Z"
   },
   {
    "duration": 165,
    "start_time": "2022-08-18T18:07:33.338Z"
   },
   {
    "duration": 2320,
    "start_time": "2022-08-18T18:07:40.492Z"
   },
   {
    "duration": 1351,
    "start_time": "2022-08-18T18:07:47.995Z"
   },
   {
    "duration": 5,
    "start_time": "2022-08-18T18:08:48.699Z"
   },
   {
    "duration": 5,
    "start_time": "2022-08-18T18:09:14.700Z"
   },
   {
    "duration": 7,
    "start_time": "2022-08-18T18:10:31.996Z"
   },
   {
    "duration": 301,
    "start_time": "2022-08-18T18:10:36.486Z"
   },
   {
    "duration": 195,
    "start_time": "2022-08-18T18:10:49.476Z"
   },
   {
    "duration": 2160,
    "start_time": "2022-08-18T18:10:59.335Z"
   },
   {
    "duration": 4,
    "start_time": "2022-08-18T18:11:02.380Z"
   },
   {
    "duration": 342,
    "start_time": "2022-08-18T18:11:06.860Z"
   },
   {
    "duration": 7,
    "start_time": "2022-08-18T18:11:20.893Z"
   },
   {
    "duration": 8,
    "start_time": "2022-08-18T18:11:39.339Z"
   },
   {
    "duration": 28,
    "start_time": "2022-08-18T18:11:40.685Z"
   },
   {
    "duration": 155,
    "start_time": "2022-08-18T18:11:42.692Z"
   },
   {
    "duration": 157,
    "start_time": "2022-08-18T18:11:43.397Z"
   },
   {
    "duration": 138,
    "start_time": "2022-08-18T18:11:49.277Z"
   },
   {
    "duration": 4,
    "start_time": "2022-08-18T18:11:49.851Z"
   },
   {
    "duration": 16734,
    "start_time": "2022-08-18T18:11:52.293Z"
   },
   {
    "duration": 22,
    "start_time": "2022-08-18T18:12:12.849Z"
   },
   {
    "duration": 13,
    "start_time": "2022-08-18T18:12:13.050Z"
   },
   {
    "duration": 223,
    "start_time": "2022-08-18T18:12:36.405Z"
   },
   {
    "duration": 5,
    "start_time": "2022-08-18T18:12:37.443Z"
   },
   {
    "duration": 5,
    "start_time": "2022-08-18T18:12:38.339Z"
   },
   {
    "duration": 4,
    "start_time": "2022-08-18T18:12:56.847Z"
   },
   {
    "duration": 5,
    "start_time": "2022-08-18T18:12:57.397Z"
   },
   {
    "duration": 5,
    "start_time": "2022-08-18T18:12:58.101Z"
   },
   {
    "duration": 3,
    "start_time": "2022-08-18T18:13:19.093Z"
   },
   {
    "duration": 52,
    "start_time": "2022-08-18T18:13:37.838Z"
   },
   {
    "duration": 1514,
    "start_time": "2022-08-18T18:13:45.006Z"
   },
   {
    "duration": 5,
    "start_time": "2022-08-18T18:13:46.522Z"
   },
   {
    "duration": 1980,
    "start_time": "2022-08-18T18:13:46.989Z"
   },
   {
    "duration": 24,
    "start_time": "2022-08-18T18:13:48.971Z"
   },
   {
    "duration": 3,
    "start_time": "2022-08-18T18:13:48.997Z"
   },
   {
    "duration": 8,
    "start_time": "2022-08-18T18:13:49.003Z"
   },
   {
    "duration": 3856,
    "start_time": "2022-08-18T18:13:49.013Z"
   },
   {
    "duration": 5,
    "start_time": "2022-08-18T18:13:52.871Z"
   },
   {
    "duration": 401,
    "start_time": "2022-08-18T18:14:25.974Z"
   },
   {
    "duration": 186,
    "start_time": "2022-08-18T18:15:04.870Z"
   },
   {
    "duration": 1480,
    "start_time": "2022-08-18T18:15:13.054Z"
   },
   {
    "duration": 4,
    "start_time": "2022-08-18T18:15:16.574Z"
   },
   {
    "duration": 307,
    "start_time": "2022-08-18T18:15:17.757Z"
   },
   {
    "duration": 6,
    "start_time": "2022-08-18T18:15:30.183Z"
   },
   {
    "duration": 568,
    "start_time": "2022-08-18T18:15:39.734Z"
   },
   {
    "duration": 559,
    "start_time": "2022-08-18T18:15:45.662Z"
   },
   {
    "duration": 10,
    "start_time": "2022-08-18T18:16:14.238Z"
   },
   {
    "duration": 20,
    "start_time": "2022-08-18T18:16:24.434Z"
   },
   {
    "duration": 35,
    "start_time": "2022-08-18T18:18:32.303Z"
   },
   {
    "duration": 23,
    "start_time": "2022-08-18T18:18:36.462Z"
   },
   {
    "duration": 308,
    "start_time": "2022-08-18T18:23:11.034Z"
   },
   {
    "duration": 36,
    "start_time": "2022-08-18T18:23:54.734Z"
   },
   {
    "duration": 12,
    "start_time": "2022-08-18T18:24:09.829Z"
   },
   {
    "duration": 12,
    "start_time": "2022-08-18T18:24:28.545Z"
   },
   {
    "duration": 9,
    "start_time": "2022-08-18T18:25:24.394Z"
   },
   {
    "duration": 6,
    "start_time": "2022-08-18T18:25:32.125Z"
   },
   {
    "duration": 9,
    "start_time": "2022-08-18T18:25:40.637Z"
   },
   {
    "duration": 12,
    "start_time": "2022-08-18T18:25:45.982Z"
   },
   {
    "duration": 5,
    "start_time": "2022-08-18T18:25:54.097Z"
   },
   {
    "duration": 13,
    "start_time": "2022-08-18T18:26:02.941Z"
   },
   {
    "duration": 12,
    "start_time": "2022-08-18T18:26:06.629Z"
   },
   {
    "duration": 59,
    "start_time": "2022-08-18T18:27:09.066Z"
   },
   {
    "duration": 144,
    "start_time": "2022-08-18T18:28:07.555Z"
   },
   {
    "duration": 158,
    "start_time": "2022-08-18T18:29:17.658Z"
   },
   {
    "duration": 193,
    "start_time": "2022-08-18T18:29:21.954Z"
   },
   {
    "duration": 141,
    "start_time": "2022-08-18T18:29:41.075Z"
   },
   {
    "duration": 98,
    "start_time": "2022-08-18T18:29:50.283Z"
   },
   {
    "duration": 92,
    "start_time": "2022-08-18T18:30:02.499Z"
   },
   {
    "duration": 100,
    "start_time": "2022-08-18T18:30:09.637Z"
   },
   {
    "duration": 97,
    "start_time": "2022-08-18T18:30:22.336Z"
   },
   {
    "duration": 135,
    "start_time": "2022-08-18T18:30:29.333Z"
   },
   {
    "duration": 93,
    "start_time": "2022-08-18T18:30:49.739Z"
   },
   {
    "duration": 2116,
    "start_time": "2022-08-18T18:31:05.060Z"
   },
   {
    "duration": 3,
    "start_time": "2022-08-18T18:32:46.529Z"
   },
   {
    "duration": 9,
    "start_time": "2022-08-18T18:32:58.292Z"
   },
   {
    "duration": 1222,
    "start_time": "2022-08-18T18:33:06.444Z"
   },
   {
    "duration": 2379,
    "start_time": "2022-08-18T18:33:42.484Z"
   },
   {
    "duration": 20,
    "start_time": "2022-08-18T18:43:36.185Z"
   },
   {
    "duration": 24,
    "start_time": "2022-08-18T18:43:40.192Z"
   },
   {
    "duration": 91,
    "start_time": "2022-08-18T18:52:51.956Z"
   },
   {
    "duration": 88,
    "start_time": "2022-08-18T18:53:07.047Z"
   },
   {
    "duration": 79,
    "start_time": "2022-08-18T18:53:19.060Z"
   },
   {
    "duration": 7,
    "start_time": "2022-08-18T18:53:35.541Z"
   },
   {
    "duration": 7,
    "start_time": "2022-08-18T18:53:55.754Z"
   },
   {
    "duration": 1084,
    "start_time": "2022-08-18T18:53:58.984Z"
   },
   {
    "duration": 10,
    "start_time": "2022-08-18T18:54:35.021Z"
   },
   {
    "duration": 2749,
    "start_time": "2022-08-18T18:54:39.949Z"
   },
   {
    "duration": 8,
    "start_time": "2022-08-18T18:54:50.053Z"
   },
   {
    "duration": 2494,
    "start_time": "2022-08-18T18:54:52.941Z"
   },
   {
    "duration": 7,
    "start_time": "2022-08-18T18:55:23.694Z"
   },
   {
    "duration": 2729,
    "start_time": "2022-08-18T18:55:26.445Z"
   },
   {
    "duration": 7,
    "start_time": "2022-08-18T18:56:07.247Z"
   },
   {
    "duration": 22,
    "start_time": "2022-08-18T18:57:29.366Z"
   },
   {
    "duration": 10,
    "start_time": "2022-08-18T18:57:43.253Z"
   },
   {
    "duration": 5,
    "start_time": "2022-08-18T18:57:47.677Z"
   },
   {
    "duration": 11,
    "start_time": "2022-08-18T19:00:18.304Z"
   },
   {
    "duration": 298,
    "start_time": "2022-08-18T19:00:30.562Z"
   },
   {
    "duration": 249,
    "start_time": "2022-08-18T19:02:59.050Z"
   },
   {
    "duration": 5,
    "start_time": "2022-08-18T19:03:27.400Z"
   },
   {
    "duration": 249,
    "start_time": "2022-08-18T19:03:28.896Z"
   },
   {
    "duration": 7,
    "start_time": "2022-08-18T19:03:57.092Z"
   },
   {
    "duration": 3392,
    "start_time": "2022-08-18T19:05:16.786Z"
   },
   {
    "duration": 88,
    "start_time": "2022-08-18T19:06:33.345Z"
   },
   {
    "duration": 1358,
    "start_time": "2022-08-18T19:06:34.789Z"
   },
   {
    "duration": 5,
    "start_time": "2022-08-18T19:07:27.090Z"
   },
   {
    "duration": 11,
    "start_time": "2022-08-18T19:07:59.685Z"
   },
   {
    "duration": 9,
    "start_time": "2022-08-18T19:08:30.249Z"
   },
   {
    "duration": 8,
    "start_time": "2022-08-18T19:08:43.341Z"
   },
   {
    "duration": 87,
    "start_time": "2022-08-18T19:09:04.861Z"
   },
   {
    "duration": 1869,
    "start_time": "2022-08-18T19:09:13.874Z"
   },
   {
    "duration": 21,
    "start_time": "2022-08-18T19:21:49.007Z"
   },
   {
    "duration": 21,
    "start_time": "2022-08-18T19:22:45.759Z"
   },
   {
    "duration": 22,
    "start_time": "2022-08-18T19:23:11.661Z"
   },
   {
    "duration": 1454,
    "start_time": "2022-08-20T07:26:33.762Z"
   },
   {
    "duration": 4,
    "start_time": "2022-08-20T07:26:38.160Z"
   },
   {
    "duration": 4,
    "start_time": "2022-08-20T07:26:39.280Z"
   },
   {
    "duration": 7,
    "start_time": "2022-08-20T07:26:40.232Z"
   },
   {
    "duration": 1820,
    "start_time": "2022-08-20T07:26:43.247Z"
   },
   {
    "duration": 25,
    "start_time": "2022-08-20T07:26:45.069Z"
   },
   {
    "duration": 3,
    "start_time": "2022-08-20T07:26:45.105Z"
   },
   {
    "duration": 4,
    "start_time": "2022-08-20T07:27:07.224Z"
   },
   {
    "duration": 298,
    "start_time": "2022-08-20T07:27:10.649Z"
   },
   {
    "duration": 24,
    "start_time": "2022-08-20T07:27:13.704Z"
   },
   {
    "duration": 110,
    "start_time": "2022-08-20T07:27:49.625Z"
   },
   {
    "duration": 2,
    "start_time": "2022-08-20T07:28:46.296Z"
   },
   {
    "duration": 200,
    "start_time": "2022-08-20T07:29:00.770Z"
   },
   {
    "duration": 2609,
    "start_time": "2022-08-20T07:29:07.343Z"
   },
   {
    "duration": 98,
    "start_time": "2022-08-20T07:29:28.327Z"
   },
   {
    "duration": 5,
    "start_time": "2022-08-20T07:29:53.464Z"
   },
   {
    "duration": 13,
    "start_time": "2022-08-20T07:30:21.536Z"
   },
   {
    "duration": 9,
    "start_time": "2022-08-20T07:30:40.112Z"
   },
   {
    "duration": 27,
    "start_time": "2022-08-20T07:32:01.081Z"
   },
   {
    "duration": 73,
    "start_time": "2022-08-20T07:33:17.561Z"
   },
   {
    "duration": 1470,
    "start_time": "2022-08-20T07:33:36.001Z"
   },
   {
    "duration": 5,
    "start_time": "2022-08-20T07:33:44.073Z"
   },
   {
    "duration": 38,
    "start_time": "2022-08-20T07:33:47.745Z"
   },
   {
    "duration": 3,
    "start_time": "2022-08-20T07:33:51.927Z"
   },
   {
    "duration": 277,
    "start_time": "2022-08-20T07:33:55.026Z"
   },
   {
    "duration": 181,
    "start_time": "2022-08-20T07:34:00.466Z"
   },
   {
    "duration": 9,
    "start_time": "2022-08-20T07:34:14.473Z"
   },
   {
    "duration": 16,
    "start_time": "2022-08-20T07:34:15.873Z"
   },
   {
    "duration": 65,
    "start_time": "2022-08-20T07:34:21.296Z"
   },
   {
    "duration": 59,
    "start_time": "2022-08-20T07:34:41.561Z"
   },
   {
    "duration": 65,
    "start_time": "2022-08-20T07:35:00.945Z"
   },
   {
    "duration": 60,
    "start_time": "2022-08-20T07:35:03.240Z"
   },
   {
    "duration": 26,
    "start_time": "2022-08-20T07:37:22.834Z"
   },
   {
    "duration": 102,
    "start_time": "2022-08-20T07:38:03.731Z"
   },
   {
    "duration": 64,
    "start_time": "2022-08-20T07:38:14.658Z"
   },
   {
    "duration": 3,
    "start_time": "2022-08-20T07:38:35.609Z"
   },
   {
    "duration": 88,
    "start_time": "2022-08-20T07:38:56.026Z"
   },
   {
    "duration": 25,
    "start_time": "2022-08-20T07:38:57.257Z"
   },
   {
    "duration": 539,
    "start_time": "2022-08-20T07:39:07.945Z"
   },
   {
    "duration": 8,
    "start_time": "2022-08-20T07:39:34.738Z"
   },
   {
    "duration": 2380,
    "start_time": "2022-08-20T07:39:40.634Z"
   },
   {
    "duration": 98,
    "start_time": "2022-08-20T07:45:18.537Z"
   },
   {
    "duration": 75,
    "start_time": "2022-08-20T07:45:31.100Z"
   },
   {
    "duration": 9,
    "start_time": "2022-08-20T07:48:12.972Z"
   },
   {
    "duration": 20,
    "start_time": "2022-08-20T07:48:20.780Z"
   },
   {
    "duration": 33,
    "start_time": "2022-08-20T07:49:02.645Z"
   },
   {
    "duration": 16,
    "start_time": "2022-08-20T07:50:38.141Z"
   },
   {
    "duration": 5,
    "start_time": "2022-08-20T07:50:46.145Z"
   },
   {
    "duration": 9,
    "start_time": "2022-08-20T07:51:07.640Z"
   },
   {
    "duration": 4,
    "start_time": "2022-08-20T07:51:13.158Z"
   },
   {
    "duration": 15,
    "start_time": "2022-08-20T07:51:19.036Z"
   },
   {
    "duration": 17,
    "start_time": "2022-08-20T07:51:21.337Z"
   },
   {
    "duration": 4,
    "start_time": "2022-08-20T07:51:21.509Z"
   },
   {
    "duration": 4,
    "start_time": "2022-08-20T07:51:38.005Z"
   },
   {
    "duration": 2,
    "start_time": "2022-08-20T07:52:00.332Z"
   },
   {
    "duration": 3,
    "start_time": "2022-08-20T07:52:44.503Z"
   },
   {
    "duration": 3,
    "start_time": "2022-08-20T07:53:22.285Z"
   },
   {
    "duration": 102,
    "start_time": "2022-08-20T07:54:36.471Z"
   },
   {
    "duration": 19,
    "start_time": "2022-08-20T08:05:45.712Z"
   },
   {
    "duration": 1872,
    "start_time": "2022-08-20T08:26:10.309Z"
   },
   {
    "duration": 6,
    "start_time": "2022-08-20T08:26:19.188Z"
   },
   {
    "duration": 9,
    "start_time": "2022-08-20T08:30:38.542Z"
   },
   {
    "duration": 62,
    "start_time": "2022-08-20T08:30:45.031Z"
   },
   {
    "duration": 76,
    "start_time": "2022-08-20T08:31:47.895Z"
   },
   {
    "duration": 3,
    "start_time": "2022-08-20T08:32:01.342Z"
   },
   {
    "duration": 42,
    "start_time": "2022-08-20T08:32:05.942Z"
   },
   {
    "duration": 4,
    "start_time": "2022-08-20T08:32:06.621Z"
   },
   {
    "duration": 35,
    "start_time": "2022-08-20T08:32:27.254Z"
   },
   {
    "duration": 28,
    "start_time": "2022-08-20T08:32:46.163Z"
   },
   {
    "duration": 80,
    "start_time": "2022-08-20T08:42:52.970Z"
   },
   {
    "duration": 20,
    "start_time": "2022-08-20T08:43:23.817Z"
   },
   {
    "duration": 2916,
    "start_time": "2022-08-20T08:47:39.637Z"
   },
   {
    "duration": 1463,
    "start_time": "2022-08-20T08:49:00.995Z"
   },
   {
    "duration": 27,
    "start_time": "2022-08-20T08:49:02.460Z"
   },
   {
    "duration": 2989,
    "start_time": "2022-08-20T08:49:02.489Z"
   },
   {
    "duration": 12,
    "start_time": "2022-08-20T09:02:38.726Z"
   },
   {
    "duration": 1391,
    "start_time": "2022-08-20T09:02:55.816Z"
   },
   {
    "duration": 3,
    "start_time": "2022-08-20T09:03:00.527Z"
   },
   {
    "duration": 3,
    "start_time": "2022-08-20T09:03:00.735Z"
   },
   {
    "duration": 5,
    "start_time": "2022-08-20T09:03:01.439Z"
   },
   {
    "duration": 1866,
    "start_time": "2022-08-20T09:03:03.190Z"
   },
   {
    "duration": 25,
    "start_time": "2022-08-20T09:03:05.058Z"
   },
   {
    "duration": 3187,
    "start_time": "2022-08-20T09:03:11.616Z"
   },
   {
    "duration": 9,
    "start_time": "2022-08-20T09:03:18.702Z"
   },
   {
    "duration": 41,
    "start_time": "2022-08-20T09:03:20.431Z"
   },
   {
    "duration": 3,
    "start_time": "2022-08-20T09:03:21.502Z"
   },
   {
    "duration": 1985,
    "start_time": "2022-08-20T09:03:22.263Z"
   },
   {
    "duration": 236,
    "start_time": "2022-08-20T09:04:48.307Z"
   },
   {
    "duration": 79,
    "start_time": "2022-08-20T09:06:55.752Z"
   },
   {
    "duration": 4,
    "start_time": "2022-08-20T09:08:21.840Z"
   },
   {
    "duration": 99,
    "start_time": "2022-08-20T09:09:38.129Z"
   },
   {
    "duration": 47,
    "start_time": "2022-08-20T09:10:21.265Z"
   },
   {
    "duration": 1382,
    "start_time": "2022-08-20T09:11:39.026Z"
   },
   {
    "duration": 7,
    "start_time": "2022-08-20T09:11:43.905Z"
   },
   {
    "duration": 35,
    "start_time": "2022-08-20T09:11:45.632Z"
   },
   {
    "duration": 87,
    "start_time": "2022-08-20T09:11:54.969Z"
   },
   {
    "duration": 3,
    "start_time": "2022-08-20T09:12:08.634Z"
   },
   {
    "duration": 2491,
    "start_time": "2022-08-20T09:12:13.032Z"
   },
   {
    "duration": 207,
    "start_time": "2022-08-20T09:12:30.970Z"
   },
   {
    "duration": 31,
    "start_time": "2022-08-20T09:12:38.890Z"
   },
   {
    "duration": 1713,
    "start_time": "2022-08-20T09:12:57.545Z"
   },
   {
    "duration": 782,
    "start_time": "2022-08-20T09:14:51.699Z"
   },
   {
    "duration": 1024,
    "start_time": "2022-08-20T09:15:35.831Z"
   },
   {
    "duration": 1726,
    "start_time": "2022-08-20T09:16:25.866Z"
   },
   {
    "duration": 990,
    "start_time": "2022-08-20T09:16:30.050Z"
   },
   {
    "duration": 992,
    "start_time": "2022-08-20T09:16:55.365Z"
   },
   {
    "duration": 983,
    "start_time": "2022-08-20T09:17:08.066Z"
   },
   {
    "duration": 1154,
    "start_time": "2022-08-20T09:17:14.178Z"
   },
   {
    "duration": 1027,
    "start_time": "2022-08-20T09:18:29.335Z"
   },
   {
    "duration": 384,
    "start_time": "2022-08-20T09:26:44.213Z"
   },
   {
    "duration": 427,
    "start_time": "2022-08-20T09:27:47.812Z"
   },
   {
    "duration": 494,
    "start_time": "2022-08-20T09:27:58.269Z"
   },
   {
    "duration": 193,
    "start_time": "2022-08-20T09:28:27.878Z"
   },
   {
    "duration": 427,
    "start_time": "2022-08-20T09:30:18.821Z"
   },
   {
    "duration": 19,
    "start_time": "2022-08-20T10:00:57.792Z"
   },
   {
    "duration": 15,
    "start_time": "2022-08-20T10:01:24.369Z"
   },
   {
    "duration": 4,
    "start_time": "2022-08-20T10:02:14.146Z"
   },
   {
    "duration": 23,
    "start_time": "2022-08-20T10:02:29.753Z"
   },
   {
    "duration": 4,
    "start_time": "2022-08-20T10:02:42.529Z"
   },
   {
    "duration": 7,
    "start_time": "2022-08-20T10:02:42.535Z"
   },
   {
    "duration": 9,
    "start_time": "2022-08-20T10:02:42.543Z"
   },
   {
    "duration": 7,
    "start_time": "2022-08-20T10:02:42.554Z"
   },
   {
    "duration": 1557,
    "start_time": "2022-08-20T10:02:42.562Z"
   },
   {
    "duration": 22,
    "start_time": "2022-08-20T10:02:44.121Z"
   },
   {
    "duration": 3005,
    "start_time": "2022-08-20T10:02:44.144Z"
   },
   {
    "duration": 7,
    "start_time": "2022-08-20T10:02:47.150Z"
   },
   {
    "duration": 37,
    "start_time": "2022-08-20T10:02:47.158Z"
   },
   {
    "duration": 87,
    "start_time": "2022-08-20T10:02:47.205Z"
   },
   {
    "duration": 3,
    "start_time": "2022-08-20T10:02:47.293Z"
   },
   {
    "duration": 2019,
    "start_time": "2022-08-20T10:02:47.306Z"
   },
   {
    "duration": 214,
    "start_time": "2022-08-20T10:02:49.327Z"
   },
   {
    "duration": 35,
    "start_time": "2022-08-20T10:02:49.543Z"
   },
   {
    "duration": 1807,
    "start_time": "2022-08-20T10:02:49.579Z"
   },
   {
    "duration": 425,
    "start_time": "2022-08-20T10:02:51.387Z"
   },
   {
    "duration": 23,
    "start_time": "2022-08-20T10:02:55.257Z"
   },
   {
    "duration": 25,
    "start_time": "2022-08-20T10:03:30.369Z"
   },
   {
    "duration": 14,
    "start_time": "2022-08-20T10:03:53.354Z"
   },
   {
    "duration": 45,
    "start_time": "2022-08-20T10:06:49.899Z"
   },
   {
    "duration": 1684,
    "start_time": "2022-08-20T10:07:02.163Z"
   },
   {
    "duration": 1233,
    "start_time": "2022-08-22T20:16:06.364Z"
   },
   {
    "duration": 3,
    "start_time": "2022-08-22T20:16:07.598Z"
   },
   {
    "duration": 26,
    "start_time": "2022-08-22T20:16:07.602Z"
   },
   {
    "duration": 35,
    "start_time": "2022-08-22T20:16:07.629Z"
   },
   {
    "duration": 1771,
    "start_time": "2022-08-22T20:16:09.725Z"
   },
   {
    "duration": 28,
    "start_time": "2022-08-22T20:16:11.497Z"
   },
   {
    "duration": 3211,
    "start_time": "2022-08-22T20:16:21.481Z"
   },
   {
    "duration": 99,
    "start_time": "2022-08-22T20:16:28.702Z"
   },
   {
    "duration": 5,
    "start_time": "2022-08-22T20:16:57.422Z"
   },
   {
    "duration": 41,
    "start_time": "2022-08-22T20:17:07.126Z"
   },
   {
    "duration": 88,
    "start_time": "2022-08-22T20:17:08.637Z"
   },
   {
    "duration": 3,
    "start_time": "2022-08-22T20:17:10.722Z"
   },
   {
    "duration": 2168,
    "start_time": "2022-08-22T20:17:12.187Z"
   },
   {
    "duration": 221,
    "start_time": "2022-08-22T20:17:15.818Z"
   },
   {
    "duration": 31,
    "start_time": "2022-08-22T20:17:25.918Z"
   },
   {
    "duration": 1791,
    "start_time": "2022-08-22T20:17:27.350Z"
   },
   {
    "duration": 40,
    "start_time": "2022-08-22T20:17:43.321Z"
   },
   {
    "duration": 1570,
    "start_time": "2022-08-22T20:17:47.218Z"
   },
   {
    "duration": 5,
    "start_time": "2022-08-22T20:17:52.333Z"
   },
   {
    "duration": 12,
    "start_time": "2022-08-22T20:18:55.502Z"
   },
   {
    "duration": 11,
    "start_time": "2022-08-22T20:19:31.385Z"
   },
   {
    "duration": 12,
    "start_time": "2022-08-22T20:19:37.638Z"
   },
   {
    "duration": 23,
    "start_time": "2022-08-22T20:19:51.807Z"
   },
   {
    "duration": 69,
    "start_time": "2022-08-22T20:20:04.023Z"
   },
   {
    "duration": 80,
    "start_time": "2022-08-22T20:20:55.399Z"
   },
   {
    "duration": 30,
    "start_time": "2022-08-22T20:21:27.047Z"
   },
   {
    "duration": 298,
    "start_time": "2022-08-22T20:21:55.293Z"
   },
   {
    "duration": 20,
    "start_time": "2022-08-22T20:22:04.711Z"
   },
   {
    "duration": 31,
    "start_time": "2022-08-22T20:22:09.976Z"
   },
   {
    "duration": 22,
    "start_time": "2022-08-22T20:22:22.692Z"
   },
   {
    "duration": 16,
    "start_time": "2022-08-22T20:22:37.640Z"
   },
   {
    "duration": 3,
    "start_time": "2022-08-22T20:22:46.303Z"
   },
   {
    "duration": 16,
    "start_time": "2022-08-22T20:22:49.408Z"
   },
   {
    "duration": 14,
    "start_time": "2022-08-22T20:23:04.428Z"
   },
   {
    "duration": 14,
    "start_time": "2022-08-22T20:23:10.767Z"
   },
   {
    "duration": 10,
    "start_time": "2022-08-22T20:23:26.120Z"
   },
   {
    "duration": 5,
    "start_time": "2022-08-22T20:23:31.696Z"
   },
   {
    "duration": 8,
    "start_time": "2022-08-22T20:23:45.024Z"
   },
   {
    "duration": 6,
    "start_time": "2022-08-22T20:23:53.912Z"
   },
   {
    "duration": 14,
    "start_time": "2022-08-22T20:25:47.161Z"
   },
   {
    "duration": 21,
    "start_time": "2022-08-22T20:26:02.920Z"
   },
   {
    "duration": 5,
    "start_time": "2022-08-22T20:26:29.396Z"
   },
   {
    "duration": 13,
    "start_time": "2022-08-22T20:26:38.191Z"
   },
   {
    "duration": 13,
    "start_time": "2022-08-22T20:26:44.809Z"
   },
   {
    "duration": 15,
    "start_time": "2022-08-22T20:27:12.545Z"
   },
   {
    "duration": 12,
    "start_time": "2022-08-22T20:27:25.914Z"
   },
   {
    "duration": 15,
    "start_time": "2022-08-22T20:28:27.210Z"
   },
   {
    "duration": 9,
    "start_time": "2022-08-22T20:29:55.667Z"
   },
   {
    "duration": 75,
    "start_time": "2022-08-22T20:30:42.886Z"
   },
   {
    "duration": 8,
    "start_time": "2022-08-22T20:30:47.907Z"
   },
   {
    "duration": 14,
    "start_time": "2022-08-22T20:31:09.964Z"
   },
   {
    "duration": 18,
    "start_time": "2022-08-22T20:31:28.899Z"
   },
   {
    "duration": 13,
    "start_time": "2022-08-22T20:32:11.315Z"
   },
   {
    "duration": 13,
    "start_time": "2022-08-22T20:32:27.314Z"
   },
   {
    "duration": 7,
    "start_time": "2022-08-22T20:33:01.605Z"
   },
   {
    "duration": 3,
    "start_time": "2022-08-22T20:33:24.203Z"
   },
   {
    "duration": 8,
    "start_time": "2022-08-22T20:33:28.347Z"
   },
   {
    "duration": 7,
    "start_time": "2022-08-22T20:34:02.804Z"
   },
   {
    "duration": 2,
    "start_time": "2022-08-22T20:34:05.052Z"
   },
   {
    "duration": 7,
    "start_time": "2022-08-22T20:34:07.060Z"
   },
   {
    "duration": 8,
    "start_time": "2022-08-22T20:34:26.334Z"
   },
   {
    "duration": 70,
    "start_time": "2022-08-22T20:34:36.332Z"
   },
   {
    "duration": 6,
    "start_time": "2022-08-22T20:36:26.021Z"
   },
   {
    "duration": 7,
    "start_time": "2022-08-22T20:36:40.293Z"
   },
   {
    "duration": 8,
    "start_time": "2022-08-22T20:37:01.341Z"
   },
   {
    "duration": 3,
    "start_time": "2022-08-22T20:37:03.073Z"
   },
   {
    "duration": 6,
    "start_time": "2022-08-22T20:37:03.694Z"
   },
   {
    "duration": 7,
    "start_time": "2022-08-22T20:37:17.397Z"
   },
   {
    "duration": 5,
    "start_time": "2022-08-22T20:37:23.391Z"
   },
   {
    "duration": 7,
    "start_time": "2022-08-22T20:37:30.492Z"
   },
   {
    "duration": 6,
    "start_time": "2022-08-22T20:37:38.902Z"
   },
   {
    "duration": 8,
    "start_time": "2022-08-22T20:37:40.350Z"
   },
   {
    "duration": 4,
    "start_time": "2022-08-22T20:37:40.597Z"
   },
   {
    "duration": 7,
    "start_time": "2022-08-22T20:37:48.446Z"
   },
   {
    "duration": 4,
    "start_time": "2022-08-22T20:37:49.254Z"
   },
   {
    "duration": 7,
    "start_time": "2022-08-22T20:37:51.596Z"
   },
   {
    "duration": 485,
    "start_time": "2022-08-22T20:39:16.695Z"
   },
   {
    "duration": 352,
    "start_time": "2022-08-22T20:40:19.102Z"
   },
   {
    "duration": 287,
    "start_time": "2022-08-22T20:40:26.719Z"
   },
   {
    "duration": 8,
    "start_time": "2022-08-22T20:40:43.390Z"
   },
   {
    "duration": 8,
    "start_time": "2022-08-22T20:40:44.262Z"
   },
   {
    "duration": 4,
    "start_time": "2022-08-22T20:40:44.471Z"
   },
   {
    "duration": 377,
    "start_time": "2022-08-22T20:41:19.492Z"
   },
   {
    "duration": 4,
    "start_time": "2022-08-22T20:41:31.407Z"
   },
   {
    "duration": 300,
    "start_time": "2022-08-22T20:41:56.855Z"
   },
   {
    "duration": 405,
    "start_time": "2022-08-22T20:42:06.224Z"
   },
   {
    "duration": 345,
    "start_time": "2022-08-22T20:42:32.847Z"
   },
   {
    "duration": 362,
    "start_time": "2022-08-22T20:42:40.166Z"
   },
   {
    "duration": 388,
    "start_time": "2022-08-22T20:42:45.943Z"
   },
   {
    "duration": 318,
    "start_time": "2022-08-22T20:42:50.127Z"
   },
   {
    "duration": 316,
    "start_time": "2022-08-22T20:42:58.807Z"
   },
   {
    "duration": 74,
    "start_time": "2022-08-22T21:02:57.665Z"
   },
   {
    "duration": 117,
    "start_time": "2022-08-22T21:03:11.221Z"
   },
   {
    "duration": 4,
    "start_time": "2022-08-22T21:03:54.599Z"
   },
   {
    "duration": 3,
    "start_time": "2022-08-22T21:05:41.890Z"
   },
   {
    "duration": 9,
    "start_time": "2022-08-22T21:10:54.524Z"
   },
   {
    "duration": 26,
    "start_time": "2022-08-22T21:15:35.201Z"
   },
   {
    "duration": 3,
    "start_time": "2022-08-22T21:18:35.029Z"
   },
   {
    "duration": 10,
    "start_time": "2022-08-22T21:19:06.492Z"
   },
   {
    "duration": 3,
    "start_time": "2022-08-22T21:19:13.586Z"
   },
   {
    "duration": 94,
    "start_time": "2022-08-22T21:23:21.590Z"
   },
   {
    "duration": 9,
    "start_time": "2022-08-22T21:23:32.623Z"
   },
   {
    "duration": 52,
    "start_time": "2022-08-22T21:23:37.047Z"
   },
   {
    "duration": 51,
    "start_time": "2022-08-22T21:23:37.239Z"
   },
   {
    "duration": 3,
    "start_time": "2022-08-22T21:23:39.535Z"
   },
   {
    "duration": 112,
    "start_time": "2022-08-22T21:23:41.559Z"
   },
   {
    "duration": 3,
    "start_time": "2022-08-22T21:24:09.719Z"
   },
   {
    "duration": 237982,
    "start_time": "2022-08-22T21:24:11.224Z"
   },
   {
    "duration": 11,
    "start_time": "2022-08-22T21:28:09.208Z"
   },
   {
    "duration": 0,
    "start_time": "2022-08-22T21:28:09.220Z"
   },
   {
    "duration": 2,
    "start_time": "2022-08-22T21:31:09.658Z"
   },
   {
    "duration": 5,
    "start_time": "2022-08-22T21:31:33.485Z"
   },
   {
    "duration": 3,
    "start_time": "2022-08-22T21:31:55.257Z"
   },
   {
    "duration": 92,
    "start_time": "2022-08-22T21:38:03.204Z"
   },
   {
    "duration": 2,
    "start_time": "2022-08-22T21:38:10.052Z"
   },
   {
    "duration": 4732,
    "start_time": "2022-08-22T21:38:11.592Z"
   },
   {
    "duration": 107,
    "start_time": "2022-08-22T21:38:32.540Z"
   },
   {
    "duration": 5,
    "start_time": "2022-08-22T21:38:34.276Z"
   },
   {
    "duration": 88,
    "start_time": "2022-08-22T21:39:52.800Z"
   },
   {
    "duration": 1503,
    "start_time": "2022-08-25T19:14:56.829Z"
   },
   {
    "duration": 115,
    "start_time": "2022-08-25T19:16:03.298Z"
   },
   {
    "duration": 6690,
    "start_time": "2022-08-25T19:16:15.940Z"
   },
   {
    "duration": 6216,
    "start_time": "2022-08-25T19:21:01.635Z"
   },
   {
    "duration": 3,
    "start_time": "2022-08-25T19:21:16.178Z"
   },
   {
    "duration": 3,
    "start_time": "2022-08-25T19:21:16.363Z"
   },
   {
    "duration": 7,
    "start_time": "2022-08-25T19:21:16.553Z"
   },
   {
    "duration": 2362,
    "start_time": "2022-08-25T19:21:20.515Z"
   },
   {
    "duration": 26,
    "start_time": "2022-08-25T19:21:22.878Z"
   },
   {
    "duration": 2858,
    "start_time": "2022-08-25T19:21:22.906Z"
   },
   {
    "duration": 7,
    "start_time": "2022-08-25T19:21:25.766Z"
   },
   {
    "duration": 51,
    "start_time": "2022-08-25T19:21:25.775Z"
   },
   {
    "duration": 131,
    "start_time": "2022-08-25T19:22:34.422Z"
   },
   {
    "duration": 4,
    "start_time": "2022-08-25T19:22:40.316Z"
   },
   {
    "duration": 2067,
    "start_time": "2022-08-25T19:22:41.621Z"
   },
   {
    "duration": 250,
    "start_time": "2022-08-25T19:22:59.171Z"
   },
   {
    "duration": 59,
    "start_time": "2022-08-25T19:23:04.364Z"
   },
   {
    "duration": 1834,
    "start_time": "2022-08-25T19:23:09.621Z"
   },
   {
    "duration": 495,
    "start_time": "2022-08-25T19:23:13.147Z"
   },
   {
    "duration": 48,
    "start_time": "2022-08-25T19:23:19.212Z"
   },
   {
    "duration": 1823,
    "start_time": "2022-08-25T19:23:19.419Z"
   },
   {
    "duration": 1290,
    "start_time": "2022-08-25T19:25:56.644Z"
   },
   {
    "duration": 7,
    "start_time": "2022-08-25T19:26:05.919Z"
   },
   {
    "duration": 36,
    "start_time": "2022-08-25T19:26:07.717Z"
   },
   {
    "duration": 71,
    "start_time": "2022-08-25T19:26:09.700Z"
   },
   {
    "duration": 3,
    "start_time": "2022-08-25T19:26:14.333Z"
   },
   {
    "duration": 2044,
    "start_time": "2022-08-25T19:26:14.574Z"
   },
   {
    "duration": 49,
    "start_time": "2022-08-25T19:26:25.218Z"
   },
   {
    "duration": 42,
    "start_time": "2022-08-25T19:26:29.021Z"
   },
   {
    "duration": 298,
    "start_time": "2022-08-25T19:26:48.032Z"
   },
   {
    "duration": 1709,
    "start_time": "2022-08-25T19:26:51.749Z"
   },
   {
    "duration": 420,
    "start_time": "2022-08-25T19:27:01.557Z"
   },
   {
    "duration": 48,
    "start_time": "2022-08-25T19:27:13.517Z"
   },
   {
    "duration": 366,
    "start_time": "2022-08-25T19:27:48.349Z"
   },
   {
    "duration": 67,
    "start_time": "2022-08-25T19:29:35.838Z"
   },
   {
    "duration": 116,
    "start_time": "2022-08-25T19:30:43.223Z"
   },
   {
    "duration": 1491,
    "start_time": "2022-08-25T19:30:55.227Z"
   },
   {
    "duration": 5975,
    "start_time": "2022-08-25T19:31:24.848Z"
   },
   {
    "duration": 4,
    "start_time": "2022-08-25T19:31:30.826Z"
   },
   {
    "duration": 19,
    "start_time": "2022-08-25T19:31:30.831Z"
   },
   {
    "duration": 26,
    "start_time": "2022-08-25T19:31:30.852Z"
   },
   {
    "duration": 1807,
    "start_time": "2022-08-25T19:31:30.879Z"
   },
   {
    "duration": 21,
    "start_time": "2022-08-25T19:31:32.688Z"
   },
   {
    "duration": 2730,
    "start_time": "2022-08-25T19:31:32.710Z"
   },
   {
    "duration": 5,
    "start_time": "2022-08-25T19:31:35.441Z"
   },
   {
    "duration": 43,
    "start_time": "2022-08-25T19:31:35.448Z"
   },
   {
    "duration": 72,
    "start_time": "2022-08-25T19:31:35.492Z"
   },
   {
    "duration": 2,
    "start_time": "2022-08-25T19:31:35.566Z"
   },
   {
    "duration": 2144,
    "start_time": "2022-08-25T19:31:35.570Z"
   },
   {
    "duration": 44,
    "start_time": "2022-08-25T19:31:37.715Z"
   },
   {
    "duration": 210,
    "start_time": "2022-08-25T19:31:40.168Z"
   },
   {
    "duration": 1567,
    "start_time": "2022-08-25T19:31:41.881Z"
   },
   {
    "duration": 529,
    "start_time": "2022-08-25T19:32:29.834Z"
   },
   {
    "duration": 44,
    "start_time": "2022-08-25T19:32:32.394Z"
   },
   {
    "duration": 385,
    "start_time": "2022-08-25T19:32:34.818Z"
   },
   {
    "duration": 24,
    "start_time": "2022-08-25T19:32:38.968Z"
   },
   {
    "duration": 132,
    "start_time": "2022-08-25T19:32:42.586Z"
   },
   {
    "duration": 1532,
    "start_time": "2022-08-25T19:32:45.737Z"
   },
   {
    "duration": 109,
    "start_time": "2022-08-25T19:33:08.321Z"
   },
   {
    "duration": 8,
    "start_time": "2022-08-25T19:33:26.562Z"
   },
   {
    "duration": 26,
    "start_time": "2022-08-25T19:33:26.771Z"
   },
   {
    "duration": 40,
    "start_time": "2022-08-25T19:33:38.178Z"
   },
   {
    "duration": 3,
    "start_time": "2022-08-25T19:33:47.121Z"
   },
   {
    "duration": 4,
    "start_time": "2022-08-25T19:43:01.534Z"
   },
   {
    "duration": 13,
    "start_time": "2022-08-25T19:44:01.631Z"
   },
   {
    "duration": 117,
    "start_time": "2022-08-25T19:44:19.038Z"
   },
   {
    "duration": 9,
    "start_time": "2022-08-25T19:44:38.286Z"
   },
   {
    "duration": 3,
    "start_time": "2022-08-25T19:44:51.016Z"
   },
   {
    "duration": 5,
    "start_time": "2022-08-25T19:44:52.630Z"
   },
   {
    "duration": 5,
    "start_time": "2022-08-25T19:47:17.032Z"
   },
   {
    "duration": 10881,
    "start_time": "2022-08-25T19:47:17.275Z"
   },
   {
    "duration": 16,
    "start_time": "2022-08-25T19:50:10.778Z"
   },
   {
    "duration": 2,
    "start_time": "2022-08-25T19:50:38.522Z"
   },
   {
    "duration": 7,
    "start_time": "2022-08-25T19:53:34.386Z"
   },
   {
    "duration": 12,
    "start_time": "2022-08-25T19:53:41.099Z"
   },
   {
    "duration": 3,
    "start_time": "2022-08-25T19:53:45.899Z"
   },
   {
    "duration": 397,
    "start_time": "2022-08-25T19:54:53.227Z"
   },
   {
    "duration": 9,
    "start_time": "2022-08-25T19:55:08.013Z"
   },
   {
    "duration": 4,
    "start_time": "2022-08-25T19:55:18.844Z"
   },
   {
    "duration": 3,
    "start_time": "2022-08-25T19:55:27.347Z"
   },
   {
    "duration": 3,
    "start_time": "2022-08-25T19:56:47.054Z"
   },
   {
    "duration": 9,
    "start_time": "2022-08-25T19:57:02.621Z"
   },
   {
    "duration": 24,
    "start_time": "2022-08-25T19:57:19.949Z"
   },
   {
    "duration": 4,
    "start_time": "2022-08-25T19:59:26.709Z"
   },
   {
    "duration": 9,
    "start_time": "2022-08-25T20:00:30.478Z"
   },
   {
    "duration": 2,
    "start_time": "2022-08-25T20:00:52.438Z"
   },
   {
    "duration": 10,
    "start_time": "2022-08-25T20:00:52.600Z"
   },
   {
    "duration": 9,
    "start_time": "2022-08-25T20:01:26.999Z"
   },
   {
    "duration": 329,
    "start_time": "2022-08-25T20:01:49.320Z"
   },
   {
    "duration": 49,
    "start_time": "2022-08-25T20:05:17.680Z"
   },
   {
    "duration": 324,
    "start_time": "2022-08-25T20:05:43.912Z"
   },
   {
    "duration": 17,
    "start_time": "2022-08-25T20:05:45.184Z"
   },
   {
    "duration": 90,
    "start_time": "2022-08-25T20:07:03.161Z"
   },
   {
    "duration": 12,
    "start_time": "2022-08-25T20:08:37.865Z"
   },
   {
    "duration": 12,
    "start_time": "2022-08-25T20:10:44.355Z"
   },
   {
    "duration": 68,
    "start_time": "2022-08-25T20:10:57.571Z"
   },
   {
    "duration": 29,
    "start_time": "2022-08-25T20:11:08.467Z"
   },
   {
    "duration": 73,
    "start_time": "2022-08-25T20:11:27.403Z"
   },
   {
    "duration": 30,
    "start_time": "2022-08-25T20:11:28.563Z"
   },
   {
    "duration": 7759,
    "start_time": "2022-08-26T04:10:42.765Z"
   },
   {
    "duration": 3,
    "start_time": "2022-08-26T04:10:50.526Z"
   },
   {
    "duration": 15,
    "start_time": "2022-08-26T04:10:50.530Z"
   },
   {
    "duration": 21,
    "start_time": "2022-08-26T04:10:50.546Z"
   },
   {
    "duration": 1732,
    "start_time": "2022-08-26T04:10:50.568Z"
   },
   {
    "duration": 7,
    "start_time": "2022-08-26T04:10:52.576Z"
   },
   {
    "duration": 46,
    "start_time": "2022-08-26T04:10:54.048Z"
   },
   {
    "duration": 70,
    "start_time": "2022-08-26T04:10:55.520Z"
   },
   {
    "duration": 3,
    "start_time": "2022-08-26T04:10:56.336Z"
   },
   {
    "duration": 60,
    "start_time": "2022-08-26T04:11:06.754Z"
   },
   {
    "duration": 206,
    "start_time": "2022-08-26T04:11:10.264Z"
   },
   {
    "duration": 48,
    "start_time": "2022-08-26T04:11:21.689Z"
   },
   {
    "duration": 23,
    "start_time": "2022-08-26T04:11:26.649Z"
   },
   {
    "duration": 112,
    "start_time": "2022-08-26T04:11:39.297Z"
   },
   {
    "duration": 3,
    "start_time": "2022-08-26T04:13:04.330Z"
   },
   {
    "duration": 3,
    "start_time": "2022-08-26T04:13:04.537Z"
   },
   {
    "duration": 181,
    "start_time": "2022-08-26T04:13:08.080Z"
   },
   {
    "duration": 8,
    "start_time": "2022-08-26T04:13:15.681Z"
   },
   {
    "duration": 25,
    "start_time": "2022-08-26T04:13:15.921Z"
   },
   {
    "duration": 48,
    "start_time": "2022-08-26T04:13:16.098Z"
   },
   {
    "duration": 4966,
    "start_time": "2022-08-26T04:13:19.194Z"
   },
   {
    "duration": 99,
    "start_time": "2022-08-26T04:13:24.162Z"
   },
   {
    "duration": 11741,
    "start_time": "2022-08-30T04:04:23.874Z"
   },
   {
    "duration": 4,
    "start_time": "2022-08-30T04:04:35.617Z"
   },
   {
    "duration": 6,
    "start_time": "2022-08-30T04:04:35.623Z"
   },
   {
    "duration": 7,
    "start_time": "2022-08-30T04:04:35.631Z"
   },
   {
    "duration": 1976,
    "start_time": "2022-08-30T04:04:35.639Z"
   },
   {
    "duration": 25,
    "start_time": "2022-08-30T04:04:37.617Z"
   },
   {
    "duration": 3274,
    "start_time": "2022-08-30T04:04:37.644Z"
   },
   {
    "duration": 6,
    "start_time": "2022-08-30T04:04:40.919Z"
   },
   {
    "duration": 56,
    "start_time": "2022-08-30T04:04:40.927Z"
   },
   {
    "duration": 91,
    "start_time": "2022-08-30T04:04:40.985Z"
   },
   {
    "duration": 3,
    "start_time": "2022-08-30T04:04:41.078Z"
   },
   {
    "duration": 2311,
    "start_time": "2022-08-30T04:04:41.082Z"
   },
   {
    "duration": 54,
    "start_time": "2022-08-30T04:04:43.394Z"
   },
   {
    "duration": 220,
    "start_time": "2022-08-30T04:04:43.449Z"
   },
   {
    "duration": 1946,
    "start_time": "2022-08-30T04:04:43.670Z"
   },
   {
    "duration": 504,
    "start_time": "2022-08-30T04:04:45.619Z"
   },
   {
    "duration": 45,
    "start_time": "2022-08-30T04:04:46.126Z"
   },
   {
    "duration": 426,
    "start_time": "2022-08-30T04:04:46.173Z"
   },
   {
    "duration": 28,
    "start_time": "2022-08-30T04:04:46.601Z"
   },
   {
    "duration": 146,
    "start_time": "2022-08-30T04:04:46.631Z"
   },
   {
    "duration": 1833,
    "start_time": "2022-08-30T04:04:46.778Z"
   },
   {
    "duration": 133,
    "start_time": "2022-08-30T04:04:48.613Z"
   },
   {
    "duration": 9,
    "start_time": "2022-08-30T04:04:50.641Z"
   },
   {
    "duration": 27,
    "start_time": "2022-08-30T04:04:52.360Z"
   },
   {
    "duration": 55,
    "start_time": "2022-08-30T04:04:56.433Z"
   },
   {
    "duration": 3,
    "start_time": "2022-08-30T04:05:08.946Z"
   },
   {
    "duration": 126,
    "start_time": "2022-08-30T04:05:27.914Z"
   },
   {
    "duration": 3,
    "start_time": "2022-08-30T04:05:41.913Z"
   },
   {
    "duration": 359,
    "start_time": "2022-08-30T04:05:50.009Z"
   },
   {
    "duration": 90,
    "start_time": "2022-08-30T04:06:12.410Z"
   },
   {
    "duration": 37,
    "start_time": "2022-08-30T04:06:20.900Z"
   },
   {
    "duration": 3,
    "start_time": "2022-08-30T04:07:53.019Z"
   },
   {
    "duration": 12767,
    "start_time": "2022-08-30T04:08:00.324Z"
   },
   {
    "duration": 4,
    "start_time": "2022-08-30T04:10:04.131Z"
   },
   {
    "duration": 24,
    "start_time": "2022-08-30T04:10:09.596Z"
   },
   {
    "duration": 11,
    "start_time": "2022-08-30T04:11:20.564Z"
   },
   {
    "duration": 429,
    "start_time": "2022-08-30T04:11:25.843Z"
   },
   {
    "duration": 3,
    "start_time": "2022-08-30T04:11:42.876Z"
   },
   {
    "duration": 618094,
    "start_time": "2022-08-30T04:11:45.579Z"
   },
   {
    "duration": 6299,
    "start_time": "2022-08-31T03:55:14.382Z"
   },
   {
    "duration": 3,
    "start_time": "2022-08-31T03:55:20.684Z"
   },
   {
    "duration": 30,
    "start_time": "2022-08-31T03:55:20.689Z"
   },
   {
    "duration": 13,
    "start_time": "2022-08-31T03:55:20.721Z"
   },
   {
    "duration": 1824,
    "start_time": "2022-08-31T03:55:20.735Z"
   },
   {
    "duration": 22,
    "start_time": "2022-08-31T03:55:22.560Z"
   },
   {
    "duration": 3029,
    "start_time": "2022-08-31T03:55:22.584Z"
   },
   {
    "duration": 6,
    "start_time": "2022-08-31T03:55:25.614Z"
   },
   {
    "duration": 43,
    "start_time": "2022-08-31T03:55:25.621Z"
   },
   {
    "duration": 95,
    "start_time": "2022-08-31T03:55:25.666Z"
   },
   {
    "duration": 3,
    "start_time": "2022-08-31T03:55:25.762Z"
   },
   {
    "duration": 2307,
    "start_time": "2022-08-31T03:55:25.767Z"
   },
   {
    "duration": 57,
    "start_time": "2022-08-31T03:55:28.076Z"
   },
   {
    "duration": 198,
    "start_time": "2022-08-31T03:55:28.135Z"
   },
   {
    "duration": 1938,
    "start_time": "2022-08-31T03:55:28.335Z"
   },
   {
    "duration": 431,
    "start_time": "2022-08-31T03:55:30.274Z"
   },
   {
    "duration": 46,
    "start_time": "2022-08-31T03:55:30.709Z"
   },
   {
    "duration": 409,
    "start_time": "2022-08-31T03:55:30.757Z"
   },
   {
    "duration": 29,
    "start_time": "2022-08-31T03:55:31.167Z"
   },
   {
    "duration": 144,
    "start_time": "2022-08-31T03:55:31.198Z"
   },
   {
    "duration": 1605,
    "start_time": "2022-08-31T03:55:31.344Z"
   },
   {
    "duration": 135,
    "start_time": "2022-08-31T03:55:32.951Z"
   },
   {
    "duration": 8,
    "start_time": "2022-08-31T03:55:33.088Z"
   },
   {
    "duration": 38,
    "start_time": "2022-08-31T03:55:33.098Z"
   },
   {
    "duration": 71,
    "start_time": "2022-08-31T03:55:33.138Z"
   },
   {
    "duration": 2,
    "start_time": "2022-08-31T03:55:33.211Z"
   },
   {
    "duration": 12,
    "start_time": "2022-08-31T03:55:58.967Z"
   },
   {
    "duration": 13,
    "start_time": "2022-08-31T04:00:02.584Z"
   },
   {
    "duration": 999,
    "start_time": "2022-08-31T04:00:13.561Z"
   },
   {
    "duration": 778,
    "start_time": "2022-08-31T04:00:19.785Z"
   },
   {
    "duration": 15,
    "start_time": "2022-08-31T04:00:41.377Z"
   },
   {
    "duration": 6446,
    "start_time": "2022-08-31T04:01:14.982Z"
   },
   {
    "duration": 3,
    "start_time": "2022-08-31T04:01:21.431Z"
   },
   {
    "duration": 19,
    "start_time": "2022-08-31T04:01:21.435Z"
   },
   {
    "duration": 22,
    "start_time": "2022-08-31T04:01:21.456Z"
   },
   {
    "duration": 1706,
    "start_time": "2022-08-31T04:01:21.480Z"
   },
   {
    "duration": 25,
    "start_time": "2022-08-31T04:01:23.187Z"
   },
   {
    "duration": 3136,
    "start_time": "2022-08-31T04:01:23.214Z"
   },
   {
    "duration": 6,
    "start_time": "2022-08-31T04:01:26.351Z"
   },
   {
    "duration": 53,
    "start_time": "2022-08-31T04:01:26.359Z"
   },
   {
    "duration": 80,
    "start_time": "2022-08-31T04:01:26.414Z"
   },
   {
    "duration": 14,
    "start_time": "2022-08-31T04:01:26.495Z"
   },
   {
    "duration": 2405,
    "start_time": "2022-08-31T04:01:26.510Z"
   },
   {
    "duration": 54,
    "start_time": "2022-08-31T04:01:28.917Z"
   },
   {
    "duration": 211,
    "start_time": "2022-08-31T04:01:28.973Z"
   },
   {
    "duration": 1728,
    "start_time": "2022-08-31T04:01:29.185Z"
   },
   {
    "duration": 424,
    "start_time": "2022-08-31T04:01:30.914Z"
   },
   {
    "duration": 45,
    "start_time": "2022-08-31T04:01:31.340Z"
   },
   {
    "duration": 405,
    "start_time": "2022-08-31T04:01:31.386Z"
   },
   {
    "duration": 33,
    "start_time": "2022-08-31T04:01:31.792Z"
   },
   {
    "duration": 132,
    "start_time": "2022-08-31T04:01:31.827Z"
   },
   {
    "duration": 1863,
    "start_time": "2022-08-31T04:01:31.961Z"
   },
   {
    "duration": 135,
    "start_time": "2022-08-31T04:01:33.826Z"
   },
   {
    "duration": 11,
    "start_time": "2022-08-31T04:01:33.962Z"
   },
   {
    "duration": 42,
    "start_time": "2022-08-31T04:01:33.975Z"
   },
   {
    "duration": 58,
    "start_time": "2022-08-31T04:01:34.019Z"
   },
   {
    "duration": 2,
    "start_time": "2022-08-31T04:01:34.079Z"
   },
   {
    "duration": 11,
    "start_time": "2022-08-31T04:01:48.401Z"
   },
   {
    "duration": 11,
    "start_time": "2022-08-31T04:01:51.025Z"
   },
   {
    "duration": 25,
    "start_time": "2022-08-31T04:02:29.729Z"
   },
   {
    "duration": 112,
    "start_time": "2022-08-31T04:03:18.675Z"
   },
   {
    "duration": 117,
    "start_time": "2022-08-31T04:03:21.770Z"
   },
   {
    "duration": 13,
    "start_time": "2022-08-31T04:03:41.562Z"
   },
   {
    "duration": 1027,
    "start_time": "2022-08-31T04:03:59.714Z"
   },
   {
    "duration": 4,
    "start_time": "2022-08-31T04:04:32.674Z"
   },
   {
    "duration": 49693,
    "start_time": "2022-08-31T04:04:36.386Z"
   },
   {
    "duration": 103694,
    "start_time": "2022-08-31T04:05:32.780Z"
   },
   {
    "duration": 4,
    "start_time": "2022-08-31T04:09:21.516Z"
   },
   {
    "duration": 4,
    "start_time": "2022-08-31T04:10:07.484Z"
   },
   {
    "duration": 3,
    "start_time": "2022-08-31T04:10:16.357Z"
   },
   {
    "duration": 4,
    "start_time": "2022-08-31T04:10:30.109Z"
   },
   {
    "duration": 24011,
    "start_time": "2022-09-06T18:15:33.754Z"
   },
   {
    "duration": 4,
    "start_time": "2022-09-06T18:15:57.767Z"
   },
   {
    "duration": 19,
    "start_time": "2022-09-06T18:15:57.773Z"
   },
   {
    "duration": 16,
    "start_time": "2022-09-06T18:15:57.795Z"
   },
   {
    "duration": 1879,
    "start_time": "2022-09-06T18:15:57.817Z"
   },
   {
    "duration": 23,
    "start_time": "2022-09-06T18:15:59.698Z"
   },
   {
    "duration": 42,
    "start_time": "2022-09-06T18:15:59.723Z"
   },
   {
    "duration": 113,
    "start_time": "2022-09-06T18:15:59.768Z"
   },
   {
    "duration": 3,
    "start_time": "2022-09-06T18:15:59.883Z"
   },
   {
    "duration": 74,
    "start_time": "2022-09-06T18:16:03.102Z"
   },
   {
    "duration": 223,
    "start_time": "2022-09-06T18:16:09.251Z"
   },
   {
    "duration": 549,
    "start_time": "2022-09-06T18:16:16.822Z"
   },
   {
    "duration": 49,
    "start_time": "2022-09-06T18:16:22.958Z"
   },
   {
    "duration": 481,
    "start_time": "2022-09-06T18:16:23.788Z"
   },
   {
    "duration": 26,
    "start_time": "2022-09-06T18:16:27.430Z"
   },
   {
    "duration": 296,
    "start_time": "2022-09-06T18:16:28.187Z"
   },
   {
    "duration": 155,
    "start_time": "2022-09-06T18:16:49.325Z"
   },
   {
    "duration": 25,
    "start_time": "2022-09-06T18:17:24.134Z"
   },
   {
    "duration": 37,
    "start_time": "2022-09-06T18:17:25.182Z"
   },
   {
    "duration": 142,
    "start_time": "2022-09-06T18:17:25.638Z"
   },
   {
    "duration": 128,
    "start_time": "2022-09-06T18:17:35.312Z"
   },
   {
    "duration": 3,
    "start_time": "2022-09-06T18:19:19.477Z"
   },
   {
    "duration": 3,
    "start_time": "2022-09-06T18:19:21.797Z"
   },
   {
    "duration": 303,
    "start_time": "2022-09-06T18:19:23.222Z"
   },
   {
    "duration": 10,
    "start_time": "2022-09-06T18:19:30.646Z"
   },
   {
    "duration": 13,
    "start_time": "2022-09-06T18:19:33.230Z"
   },
   {
    "duration": 58,
    "start_time": "2022-09-06T18:19:33.471Z"
   },
   {
    "duration": 151,
    "start_time": "2022-09-06T18:19:34.095Z"
   },
   {
    "duration": 3,
    "start_time": "2022-09-06T18:19:36.294Z"
   },
   {
    "duration": 3,
    "start_time": "2022-09-06T18:19:37.071Z"
   },
   {
    "duration": 5538,
    "start_time": "2022-09-06T18:19:38.247Z"
   },
   {
    "duration": 120,
    "start_time": "2022-09-06T18:19:43.787Z"
   },
   {
    "duration": 6,
    "start_time": "2022-09-06T18:19:43.909Z"
   },
   {
    "duration": 3,
    "start_time": "2022-09-06T18:20:12.078Z"
   },
   {
    "duration": 3,
    "start_time": "2022-09-06T18:20:19.246Z"
   },
   {
    "duration": 6002,
    "start_time": "2022-09-06T18:23:44.143Z"
   },
   {
    "duration": 5984,
    "start_time": "2022-09-06T18:23:59.598Z"
   },
   {
    "duration": 111,
    "start_time": "2022-09-06T18:24:13.518Z"
   },
   {
    "duration": 6,
    "start_time": "2022-09-06T18:24:20.727Z"
   },
   {
    "duration": 3,
    "start_time": "2022-09-06T18:25:30.143Z"
   },
   {
    "duration": 5,
    "start_time": "2022-09-06T18:25:32.791Z"
   },
   {
    "duration": 59,
    "start_time": "2022-09-06T18:25:33.856Z"
   },
   {
    "duration": 6,
    "start_time": "2022-09-06T18:30:19.412Z"
   },
   {
    "duration": 31,
    "start_time": "2022-09-06T18:30:26.530Z"
   },
   {
    "duration": 5,
    "start_time": "2022-09-06T18:30:35.178Z"
   },
   {
    "duration": 48,
    "start_time": "2022-09-06T18:30:39.175Z"
   },
   {
    "duration": 5,
    "start_time": "2022-09-06T18:32:34.271Z"
   },
   {
    "duration": 7105,
    "start_time": "2022-09-06T18:32:35.378Z"
   },
   {
    "duration": 120734,
    "start_time": "2022-09-06T18:33:19.819Z"
   },
   {
    "duration": 3,
    "start_time": "2022-09-06T18:35:20.554Z"
   },
   {
    "duration": 1040,
    "start_time": "2022-09-06T18:35:20.558Z"
   },
   {
    "duration": 9,
    "start_time": "2022-09-06T18:35:21.603Z"
   },
   {
    "duration": 23,
    "start_time": "2022-09-06T18:36:34.954Z"
   },
   {
    "duration": 6,
    "start_time": "2022-09-06T18:38:47.122Z"
   },
   {
    "duration": 11,
    "start_time": "2022-09-06T18:39:05.590Z"
   },
   {
    "duration": 13,
    "start_time": "2022-09-06T18:39:20.618Z"
   },
   {
    "duration": 3,
    "start_time": "2022-09-06T18:39:34.063Z"
   },
   {
    "duration": 5,
    "start_time": "2022-09-06T18:39:40.625Z"
   },
   {
    "duration": 13,
    "start_time": "2022-09-06T18:40:00.451Z"
   },
   {
    "duration": 5,
    "start_time": "2022-09-06T18:40:14.569Z"
   },
   {
    "duration": 3,
    "start_time": "2022-09-06T18:45:26.261Z"
   },
   {
    "duration": 40,
    "start_time": "2022-09-06T18:46:34.596Z"
   },
   {
    "duration": 170,
    "start_time": "2022-09-06T18:47:31.367Z"
   },
   {
    "duration": 86,
    "start_time": "2022-09-06T18:48:18.973Z"
   },
   {
    "duration": 30,
    "start_time": "2022-09-06T18:49:10.258Z"
   },
   {
    "duration": 3,
    "start_time": "2022-09-06T18:51:56.398Z"
   },
   {
    "duration": 25,
    "start_time": "2022-09-06T18:52:29.434Z"
   },
   {
    "duration": 5,
    "start_time": "2022-09-06T18:56:11.534Z"
   },
   {
    "duration": 155,
    "start_time": "2022-09-06T18:56:43.681Z"
   },
   {
    "duration": 42,
    "start_time": "2022-09-06T18:56:45.488Z"
   },
   {
    "duration": 406375,
    "start_time": "2022-09-06T18:56:52.334Z"
   },
   {
    "duration": 40,
    "start_time": "2022-09-06T19:03:38.713Z"
   },
   {
    "duration": 7318,
    "start_time": "2022-09-07T09:19:41.576Z"
   },
   {
    "duration": 5,
    "start_time": "2022-09-07T09:19:48.896Z"
   },
   {
    "duration": 42,
    "start_time": "2022-09-07T09:19:48.903Z"
   },
   {
    "duration": 11,
    "start_time": "2022-09-07T09:19:48.949Z"
   },
   {
    "duration": 1767,
    "start_time": "2022-09-07T09:19:48.962Z"
   },
   {
    "duration": 25,
    "start_time": "2022-09-07T09:19:50.731Z"
   },
   {
    "duration": 3487,
    "start_time": "2022-09-07T09:19:50.758Z"
   },
   {
    "duration": 7266,
    "start_time": "2022-09-07T09:25:03.963Z"
   },
   {
    "duration": 4,
    "start_time": "2022-09-07T09:25:11.232Z"
   },
   {
    "duration": 28,
    "start_time": "2022-09-07T09:25:11.238Z"
   },
   {
    "duration": 16,
    "start_time": "2022-09-07T09:25:11.269Z"
   },
   {
    "duration": 1675,
    "start_time": "2022-09-07T09:25:11.287Z"
   },
   {
    "duration": 25,
    "start_time": "2022-09-07T09:25:12.964Z"
   },
   {
    "duration": 3403,
    "start_time": "2022-09-07T09:25:12.991Z"
   },
   {
    "duration": 7,
    "start_time": "2022-09-07T09:25:16.403Z"
   },
   {
    "duration": 49,
    "start_time": "2022-09-07T09:25:16.412Z"
   },
   {
    "duration": 114,
    "start_time": "2022-09-07T09:25:16.463Z"
   },
   {
    "duration": 4,
    "start_time": "2022-09-07T09:25:16.578Z"
   },
   {
    "duration": 3050,
    "start_time": "2022-09-07T09:25:16.583Z"
   },
   {
    "duration": 74,
    "start_time": "2022-09-07T09:25:19.634Z"
   },
   {
    "duration": 295,
    "start_time": "2022-09-07T09:25:19.710Z"
   },
   {
    "duration": 2027,
    "start_time": "2022-09-07T09:25:20.007Z"
   },
   {
    "duration": 549,
    "start_time": "2022-09-07T09:25:22.036Z"
   },
   {
    "duration": 61,
    "start_time": "2022-09-07T09:25:22.587Z"
   },
   {
    "duration": 496,
    "start_time": "2022-09-07T09:25:22.650Z"
   },
   {
    "duration": 27,
    "start_time": "2022-09-07T09:25:23.148Z"
   },
   {
    "duration": 187,
    "start_time": "2022-09-07T09:25:23.178Z"
   },
   {
    "duration": 1979,
    "start_time": "2022-09-07T09:25:23.368Z"
   },
   {
    "duration": 193,
    "start_time": "2022-09-07T09:25:25.349Z"
   },
   {
    "duration": 17,
    "start_time": "2022-09-07T09:25:25.545Z"
   },
   {
    "duration": 14,
    "start_time": "2022-09-07T09:27:41.898Z"
   },
   {
    "duration": 628,
    "start_time": "2022-09-07T09:28:05.761Z"
   },
   {
    "duration": 97,
    "start_time": "2022-09-07T09:28:17.881Z"
   },
   {
    "duration": 125,
    "start_time": "2022-09-07T09:29:45.360Z"
   },
   {
    "duration": 329,
    "start_time": "2022-09-07T09:33:24.527Z"
   },
   {
    "duration": 4,
    "start_time": "2022-09-07T09:33:38.876Z"
   },
   {
    "duration": 167,
    "start_time": "2022-09-07T09:34:42.893Z"
   },
   {
    "duration": 8,
    "start_time": "2022-09-07T09:34:46.756Z"
   },
   {
    "duration": 10658,
    "start_time": "2022-09-07T09:35:13.650Z"
   },
   {
    "duration": 5,
    "start_time": "2022-09-07T09:35:24.310Z"
   },
   {
    "duration": 41,
    "start_time": "2022-09-07T09:35:24.317Z"
   },
   {
    "duration": 25,
    "start_time": "2022-09-07T09:35:24.361Z"
   },
   {
    "duration": 2543,
    "start_time": "2022-09-07T09:35:24.388Z"
   },
   {
    "duration": 44,
    "start_time": "2022-09-07T09:35:26.933Z"
   },
   {
    "duration": 3529,
    "start_time": "2022-09-07T09:35:26.978Z"
   },
   {
    "duration": 8,
    "start_time": "2022-09-07T09:35:30.509Z"
   },
   {
    "duration": 72,
    "start_time": "2022-09-07T09:35:30.519Z"
   },
   {
    "duration": 106,
    "start_time": "2022-09-07T09:35:30.602Z"
   },
   {
    "duration": 3,
    "start_time": "2022-09-07T09:35:30.710Z"
   },
   {
    "duration": 2696,
    "start_time": "2022-09-07T09:35:30.716Z"
   },
   {
    "duration": 63,
    "start_time": "2022-09-07T09:35:33.415Z"
   },
   {
    "duration": 252,
    "start_time": "2022-09-07T09:35:33.481Z"
   },
   {
    "duration": 2157,
    "start_time": "2022-09-07T09:35:33.735Z"
   },
   {
    "duration": 514,
    "start_time": "2022-09-07T09:35:35.895Z"
   },
   {
    "duration": 56,
    "start_time": "2022-09-07T09:35:36.411Z"
   },
   {
    "duration": 539,
    "start_time": "2022-09-07T09:35:36.470Z"
   },
   {
    "duration": 27,
    "start_time": "2022-09-07T09:35:37.011Z"
   },
   {
    "duration": 204,
    "start_time": "2022-09-07T09:35:37.040Z"
   },
   {
    "duration": 2118,
    "start_time": "2022-09-07T09:35:37.248Z"
   },
   {
    "duration": 136,
    "start_time": "2022-09-07T09:35:39.367Z"
   },
   {
    "duration": 197,
    "start_time": "2022-09-07T09:35:39.506Z"
   },
   {
    "duration": 8,
    "start_time": "2022-09-07T09:35:39.705Z"
   },
   {
    "duration": 11165,
    "start_time": "2022-09-07T09:36:22.432Z"
   },
   {
    "duration": 3,
    "start_time": "2022-09-07T09:36:33.600Z"
   },
   {
    "duration": 12,
    "start_time": "2022-09-07T09:36:33.605Z"
   },
   {
    "duration": 19,
    "start_time": "2022-09-07T09:36:33.619Z"
   },
   {
    "duration": 1533,
    "start_time": "2022-09-07T09:36:33.641Z"
   },
   {
    "duration": 40,
    "start_time": "2022-09-07T09:36:35.175Z"
   },
   {
    "duration": 3622,
    "start_time": "2022-09-07T09:36:35.217Z"
   },
   {
    "duration": 9,
    "start_time": "2022-09-07T09:36:38.840Z"
   },
   {
    "duration": 103,
    "start_time": "2022-09-07T09:36:38.852Z"
   },
   {
    "duration": 132,
    "start_time": "2022-09-07T09:36:38.958Z"
   },
   {
    "duration": 4,
    "start_time": "2022-09-07T09:36:39.092Z"
   },
   {
    "duration": 2732,
    "start_time": "2022-09-07T09:36:39.098Z"
   },
   {
    "duration": 72,
    "start_time": "2022-09-07T09:36:41.832Z"
   },
   {
    "duration": 274,
    "start_time": "2022-09-07T09:36:41.907Z"
   },
   {
    "duration": 2136,
    "start_time": "2022-09-07T09:36:42.183Z"
   },
   {
    "duration": 563,
    "start_time": "2022-09-07T09:36:44.321Z"
   },
   {
    "duration": 59,
    "start_time": "2022-09-07T09:36:44.886Z"
   },
   {
    "duration": 500,
    "start_time": "2022-09-07T09:36:44.947Z"
   },
   {
    "duration": 33,
    "start_time": "2022-09-07T09:36:45.450Z"
   },
   {
    "duration": 169,
    "start_time": "2022-09-07T09:36:45.485Z"
   },
   {
    "duration": 2123,
    "start_time": "2022-09-07T09:36:45.657Z"
   },
   {
    "duration": 147,
    "start_time": "2022-09-07T09:36:47.782Z"
   },
   {
    "duration": 220,
    "start_time": "2022-09-07T09:40:58.874Z"
   },
   {
    "duration": 9,
    "start_time": "2022-09-07T09:40:59.167Z"
   },
   {
    "duration": 500,
    "start_time": "2022-09-07T09:41:32.266Z"
   },
   {
    "duration": 175,
    "start_time": "2022-09-07T09:41:39.292Z"
   },
   {
    "duration": 301,
    "start_time": "2022-09-07T09:41:41.800Z"
   },
   {
    "duration": 3,
    "start_time": "2022-09-07T09:41:46.612Z"
   },
   {
    "duration": 5831,
    "start_time": "2022-09-07T09:42:32.543Z"
   },
   {
    "duration": 6642,
    "start_time": "2022-09-07T09:42:55.908Z"
   },
   {
    "duration": 56,
    "start_time": "2022-09-07T09:43:19.477Z"
   },
   {
    "duration": 6,
    "start_time": "2022-09-07T09:43:22.741Z"
   },
   {
    "duration": 6545,
    "start_time": "2022-09-08T04:02:20.637Z"
   },
   {
    "duration": 4,
    "start_time": "2022-09-08T04:02:27.184Z"
   },
   {
    "duration": 8,
    "start_time": "2022-09-08T04:02:27.191Z"
   },
   {
    "duration": 9,
    "start_time": "2022-09-08T04:02:27.201Z"
   },
   {
    "duration": 1783,
    "start_time": "2022-09-08T04:02:27.212Z"
   },
   {
    "duration": 11,
    "start_time": "2022-09-08T04:02:28.998Z"
   },
   {
    "duration": 55,
    "start_time": "2022-09-08T04:02:29.011Z"
   },
   {
    "duration": 99,
    "start_time": "2022-09-08T04:02:29.938Z"
   },
   {
    "duration": 3,
    "start_time": "2022-09-08T04:02:33.170Z"
   },
   {
    "duration": 2538,
    "start_time": "2022-09-08T04:02:37.978Z"
   },
   {
    "duration": 51,
    "start_time": "2022-09-08T04:02:44.242Z"
   },
   {
    "duration": 209,
    "start_time": "2022-09-08T04:02:45.137Z"
   },
   {
    "duration": 510,
    "start_time": "2022-09-08T04:02:52.346Z"
   },
   {
    "duration": 46,
    "start_time": "2022-09-08T04:02:56.690Z"
   },
   {
    "duration": 607,
    "start_time": "2022-09-08T04:02:56.914Z"
   },
   {
    "duration": 26,
    "start_time": "2022-09-08T04:03:02.683Z"
   },
   {
    "duration": 148,
    "start_time": "2022-09-08T04:03:03.734Z"
   },
   {
    "duration": 132,
    "start_time": "2022-09-08T04:03:12.409Z"
   },
   {
    "duration": 152,
    "start_time": "2022-09-08T04:03:15.146Z"
   },
   {
    "duration": 10,
    "start_time": "2022-09-08T04:03:17.834Z"
   },
   {
    "duration": 454,
    "start_time": "2022-09-08T04:03:55.242Z"
   },
   {
    "duration": 173,
    "start_time": "2022-09-08T04:04:03.970Z"
   },
   {
    "duration": 296,
    "start_time": "2022-09-08T04:04:12.729Z"
   },
   {
    "duration": 3,
    "start_time": "2022-09-08T04:06:50.522Z"
   },
   {
    "duration": 4300,
    "start_time": "2022-09-08T04:08:32.404Z"
   },
   {
    "duration": 117,
    "start_time": "2022-09-08T04:09:12.187Z"
   },
   {
    "duration": 6,
    "start_time": "2022-09-08T04:09:47.155Z"
   },
   {
    "duration": 2,
    "start_time": "2022-09-08T04:10:41.796Z"
   },
   {
    "duration": 3235,
    "start_time": "2022-09-08T04:11:34.891Z"
   },
   {
    "duration": 95,
    "start_time": "2022-09-08T04:12:00.508Z"
   },
   {
    "duration": 6,
    "start_time": "2022-09-08T04:12:07.179Z"
   },
   {
    "duration": 3,
    "start_time": "2022-09-08T04:12:54.868Z"
   },
   {
    "duration": 1997,
    "start_time": "2022-09-08T04:13:08.109Z"
   },
   {
    "duration": 67,
    "start_time": "2022-09-08T04:13:17.843Z"
   },
   {
    "duration": 107,
    "start_time": "2022-09-08T04:13:18.103Z"
   },
   {
    "duration": 7,
    "start_time": "2022-09-08T04:13:19.732Z"
   },
   {
    "duration": 4,
    "start_time": "2022-09-08T04:13:55.565Z"
   },
   {
    "duration": 10962,
    "start_time": "2022-09-08T04:13:56.013Z"
   },
   {
    "duration": 58,
    "start_time": "2022-09-08T04:14:06.977Z"
   },
   {
    "duration": 6,
    "start_time": "2022-09-08T04:14:07.037Z"
   },
   {
    "duration": 4,
    "start_time": "2022-09-08T04:15:07.132Z"
   },
   {
    "duration": 436886,
    "start_time": "2022-09-08T04:15:32.900Z"
   },
   {
    "duration": 24,
    "start_time": "2022-09-09T17:47:43.814Z"
   },
   {
    "duration": 939,
    "start_time": "2022-09-09T17:48:33.516Z"
   },
   {
    "duration": 829,
    "start_time": "2022-09-09T17:48:40.310Z"
   },
   {
    "duration": 380,
    "start_time": "2022-09-09T17:48:45.950Z"
   },
   {
    "duration": 19,
    "start_time": "2022-09-09T17:48:52.110Z"
   },
   {
    "duration": 11,
    "start_time": "2022-09-09T17:49:01.806Z"
   },
   {
    "duration": 10,
    "start_time": "2022-09-09T17:51:18.567Z"
   },
   {
    "duration": 3,
    "start_time": "2022-09-09T17:51:24.072Z"
   },
   {
    "duration": 2449,
    "start_time": "2022-09-09T17:51:24.280Z"
   },
   {
    "duration": 100,
    "start_time": "2022-09-09T17:51:26.822Z"
   },
   {
    "duration": 0,
    "start_time": "2022-09-09T17:51:26.924Z"
   },
   {
    "duration": 0,
    "start_time": "2022-09-09T17:51:26.926Z"
   },
   {
    "duration": 411,
    "start_time": "2022-09-09T17:51:37.415Z"
   },
   {
    "duration": 18,
    "start_time": "2022-09-09T17:51:37.828Z"
   },
   {
    "duration": 326,
    "start_time": "2022-09-09T17:52:14.080Z"
   },
   {
    "duration": 288,
    "start_time": "2022-09-09T17:52:14.511Z"
   },
   {
    "duration": 320,
    "start_time": "2022-09-09T17:52:15.456Z"
   },
   {
    "duration": 16,
    "start_time": "2022-09-09T17:52:15.780Z"
   },
   {
    "duration": 237,
    "start_time": "2022-09-09T17:52:50.688Z"
   },
   {
    "duration": 3,
    "start_time": "2022-09-09T17:52:55.407Z"
   },
   {
    "duration": 2213,
    "start_time": "2022-09-09T17:52:55.616Z"
   },
   {
    "duration": 200,
    "start_time": "2022-09-09T17:52:57.921Z"
   },
   {
    "duration": 97,
    "start_time": "2022-09-09T17:52:58.126Z"
   },
   {
    "duration": 17,
    "start_time": "2022-09-09T17:52:58.225Z"
   },
   {
    "duration": 8,
    "start_time": "2022-09-09T17:53:20.889Z"
   },
   {
    "duration": 14,
    "start_time": "2022-09-09T17:53:32.008Z"
   },
   {
    "duration": 3,
    "start_time": "2022-09-09T17:53:46.896Z"
   },
   {
    "duration": 10,
    "start_time": "2022-09-09T17:53:57.959Z"
   },
   {
    "duration": 17,
    "start_time": "2022-09-09T17:54:27.384Z"
   },
   {
    "duration": 13,
    "start_time": "2022-09-09T17:56:02.400Z"
   },
   {
    "duration": 11,
    "start_time": "2022-09-09T17:56:17.945Z"
   },
   {
    "duration": 12,
    "start_time": "2022-09-09T17:56:56.761Z"
   },
   {
    "duration": 3,
    "start_time": "2022-09-09T17:57:02.152Z"
   },
   {
    "duration": 16,
    "start_time": "2022-09-09T17:57:03.784Z"
   },
   {
    "duration": 3,
    "start_time": "2022-09-09T17:57:10.985Z"
   },
   {
    "duration": 11,
    "start_time": "2022-09-09T17:57:12.152Z"
   },
   {
    "duration": 11,
    "start_time": "2022-09-09T17:57:20.712Z"
   },
   {
    "duration": 2,
    "start_time": "2022-09-09T17:58:33.010Z"
   },
   {
    "duration": 1861,
    "start_time": "2022-09-09T17:58:33.267Z"
   },
   {
    "duration": 224,
    "start_time": "2022-09-09T17:58:35.130Z"
   },
   {
    "duration": 69,
    "start_time": "2022-09-09T17:58:35.356Z"
   },
   {
    "duration": 115,
    "start_time": "2022-09-09T17:58:35.427Z"
   },
   {
    "duration": 9,
    "start_time": "2022-09-09T17:58:45.386Z"
   },
   {
    "duration": 11,
    "start_time": "2022-09-09T17:58:59.658Z"
   },
   {
    "duration": 14,
    "start_time": "2022-09-09T17:59:10.178Z"
   },
   {
    "duration": 6,
    "start_time": "2022-09-09T17:59:21.690Z"
   },
   {
    "duration": 3,
    "start_time": "2022-09-09T17:59:45.410Z"
   },
   {
    "duration": 1971,
    "start_time": "2022-09-09T17:59:45.650Z"
   },
   {
    "duration": 205,
    "start_time": "2022-09-09T17:59:47.623Z"
   },
   {
    "duration": 94,
    "start_time": "2022-09-09T17:59:47.831Z"
   },
   {
    "duration": 9,
    "start_time": "2022-09-09T17:59:47.928Z"
   },
   {
    "duration": 3,
    "start_time": "2022-09-09T17:59:48.170Z"
   },
   {
    "duration": 1947,
    "start_time": "2022-09-09T17:59:48.379Z"
   },
   {
    "duration": 232,
    "start_time": "2022-09-09T17:59:50.328Z"
   },
   {
    "duration": 60,
    "start_time": "2022-09-09T17:59:50.562Z"
   },
   {
    "duration": 100,
    "start_time": "2022-09-09T17:59:50.625Z"
   },
   {
    "duration": 22,
    "start_time": "2022-09-09T17:59:50.727Z"
   },
   {
    "duration": 3,
    "start_time": "2022-09-09T18:00:00.852Z"
   },
   {
    "duration": 6,
    "start_time": "2022-09-09T18:00:02.930Z"
   },
   {
    "duration": 10,
    "start_time": "2022-09-09T18:00:03.809Z"
   },
   {
    "duration": 4,
    "start_time": "2022-09-09T18:11:07.600Z"
   },
   {
    "duration": 366630,
    "start_time": "2022-09-09T18:11:07.799Z"
   },
   {
    "duration": 4,
    "start_time": "2022-09-09T18:35:01.446Z"
   },
   {
    "duration": 4,
    "start_time": "2022-09-09T18:39:50.248Z"
   },
   {
    "duration": 4,
    "start_time": "2022-09-09T18:39:52.830Z"
   },
   {
    "duration": 5,
    "start_time": "2022-09-09T18:41:00.151Z"
   },
   {
    "duration": 4,
    "start_time": "2022-09-09T18:41:11.271Z"
   },
   {
    "duration": 3,
    "start_time": "2022-09-09T18:41:24.480Z"
   },
   {
    "duration": 19,
    "start_time": "2022-09-09T18:42:13.632Z"
   },
   {
    "duration": 4,
    "start_time": "2022-09-09T18:58:04.325Z"
   },
   {
    "duration": 4,
    "start_time": "2022-09-09T18:58:09.587Z"
   },
   {
    "duration": 3,
    "start_time": "2022-09-09T19:02:59.216Z"
   },
   {
    "duration": 4,
    "start_time": "2022-09-09T19:02:59.423Z"
   },
   {
    "duration": 8782,
    "start_time": "2022-09-09T19:03:48.071Z"
   },
   {
    "duration": 4,
    "start_time": "2022-09-09T19:03:56.856Z"
   },
   {
    "duration": 8,
    "start_time": "2022-09-09T19:03:56.864Z"
   },
   {
    "duration": 6,
    "start_time": "2022-09-09T19:03:56.874Z"
   },
   {
    "duration": 1505,
    "start_time": "2022-09-09T19:03:56.883Z"
   },
   {
    "duration": 33,
    "start_time": "2022-09-09T19:03:58.389Z"
   },
   {
    "duration": 3341,
    "start_time": "2022-09-09T19:03:58.424Z"
   },
   {
    "duration": 5,
    "start_time": "2022-09-09T19:04:01.767Z"
   },
   {
    "duration": 71,
    "start_time": "2022-09-09T19:04:01.775Z"
   },
   {
    "duration": 115,
    "start_time": "2022-09-09T19:04:01.849Z"
   },
   {
    "duration": 3,
    "start_time": "2022-09-09T19:04:01.966Z"
   },
   {
    "duration": 2582,
    "start_time": "2022-09-09T19:04:01.970Z"
   },
   {
    "duration": 55,
    "start_time": "2022-09-09T19:04:04.554Z"
   },
   {
    "duration": 224,
    "start_time": "2022-09-09T19:04:04.621Z"
   },
   {
    "duration": 2017,
    "start_time": "2022-09-09T19:04:04.847Z"
   },
   {
    "duration": 502,
    "start_time": "2022-09-09T19:04:06.866Z"
   },
   {
    "duration": 52,
    "start_time": "2022-09-09T19:04:07.370Z"
   },
   {
    "duration": 479,
    "start_time": "2022-09-09T19:04:07.424Z"
   },
   {
    "duration": 32,
    "start_time": "2022-09-09T19:04:07.904Z"
   },
   {
    "duration": 154,
    "start_time": "2022-09-09T19:04:07.938Z"
   },
   {
    "duration": 1993,
    "start_time": "2022-09-09T19:04:08.094Z"
   },
   {
    "duration": 132,
    "start_time": "2022-09-09T19:04:10.089Z"
   },
   {
    "duration": 189,
    "start_time": "2022-09-09T19:04:10.223Z"
   },
   {
    "duration": 10,
    "start_time": "2022-09-09T19:04:10.414Z"
   },
   {
    "duration": 474,
    "start_time": "2022-09-09T19:04:10.426Z"
   },
   {
    "duration": 179,
    "start_time": "2022-09-09T19:04:10.902Z"
   },
   {
    "duration": 301,
    "start_time": "2022-09-09T19:04:11.085Z"
   },
   {
    "duration": 240,
    "start_time": "2022-09-09T19:04:11.388Z"
   },
   {
    "duration": 4,
    "start_time": "2022-09-09T19:04:11.630Z"
   },
   {
    "duration": 7,
    "start_time": "2022-09-09T19:04:11.635Z"
   },
   {
    "duration": 7,
    "start_time": "2022-09-09T19:04:11.644Z"
   },
   {
    "duration": 50,
    "start_time": "2022-09-09T19:04:11.653Z"
   },
   {
    "duration": 8,
    "start_time": "2022-09-09T19:04:11.705Z"
   },
   {
    "duration": 2506,
    "start_time": "2022-09-09T19:04:11.715Z"
   },
   {
    "duration": 143,
    "start_time": "2022-09-09T19:04:14.223Z"
   },
   {
    "duration": 98,
    "start_time": "2022-09-09T19:04:14.423Z"
   },
   {
    "duration": 134,
    "start_time": "2022-09-09T19:04:14.523Z"
   },
   {
    "duration": 0,
    "start_time": "2022-09-09T19:04:14.659Z"
   },
   {
    "duration": 0,
    "start_time": "2022-09-09T19:04:14.660Z"
   },
   {
    "duration": 0,
    "start_time": "2022-09-09T19:04:14.661Z"
   },
   {
    "duration": 0,
    "start_time": "2022-09-09T19:04:14.662Z"
   },
   {
    "duration": 0,
    "start_time": "2022-09-09T19:04:14.664Z"
   },
   {
    "duration": 0,
    "start_time": "2022-09-09T19:04:14.665Z"
   },
   {
    "duration": 0,
    "start_time": "2022-09-09T19:04:14.666Z"
   },
   {
    "duration": 0,
    "start_time": "2022-09-09T19:04:14.667Z"
   },
   {
    "duration": 0,
    "start_time": "2022-09-09T19:04:14.668Z"
   },
   {
    "duration": 0,
    "start_time": "2022-09-09T19:04:14.669Z"
   },
   {
    "duration": 0,
    "start_time": "2022-09-09T19:04:14.671Z"
   },
   {
    "duration": 0,
    "start_time": "2022-09-09T19:04:14.672Z"
   },
   {
    "duration": 0,
    "start_time": "2022-09-09T19:04:14.673Z"
   },
   {
    "duration": 0,
    "start_time": "2022-09-09T19:04:14.674Z"
   },
   {
    "duration": 0,
    "start_time": "2022-09-09T19:04:14.675Z"
   },
   {
    "duration": 0,
    "start_time": "2022-09-09T19:04:14.676Z"
   },
   {
    "duration": 0,
    "start_time": "2022-09-09T19:04:14.678Z"
   },
   {
    "duration": 0,
    "start_time": "2022-09-09T19:04:14.679Z"
   },
   {
    "duration": 0,
    "start_time": "2022-09-09T19:04:14.680Z"
   },
   {
    "duration": 0,
    "start_time": "2022-09-09T19:04:14.681Z"
   },
   {
    "duration": 0,
    "start_time": "2022-09-09T19:04:14.682Z"
   },
   {
    "duration": 0,
    "start_time": "2022-09-09T19:04:14.721Z"
   },
   {
    "duration": 0,
    "start_time": "2022-09-09T19:04:14.722Z"
   },
   {
    "duration": 0,
    "start_time": "2022-09-09T19:04:14.723Z"
   },
   {
    "duration": 0,
    "start_time": "2022-09-09T19:04:14.724Z"
   },
   {
    "duration": 0,
    "start_time": "2022-09-09T19:04:14.726Z"
   },
   {
    "duration": 0,
    "start_time": "2022-09-09T19:04:14.727Z"
   },
   {
    "duration": 0,
    "start_time": "2022-09-09T19:04:14.728Z"
   },
   {
    "duration": 0,
    "start_time": "2022-09-09T19:04:14.729Z"
   },
   {
    "duration": 0,
    "start_time": "2022-09-09T19:04:14.730Z"
   },
   {
    "duration": 0,
    "start_time": "2022-09-09T19:04:14.731Z"
   },
   {
    "duration": 0,
    "start_time": "2022-09-09T19:04:14.732Z"
   },
   {
    "duration": 0,
    "start_time": "2022-09-09T19:04:14.734Z"
   },
   {
    "duration": 0,
    "start_time": "2022-09-09T19:04:14.736Z"
   },
   {
    "duration": 0,
    "start_time": "2022-09-09T19:04:14.737Z"
   },
   {
    "duration": 8602,
    "start_time": "2022-09-09T19:07:00.073Z"
   },
   {
    "duration": 3,
    "start_time": "2022-09-09T19:07:08.677Z"
   },
   {
    "duration": 8,
    "start_time": "2022-09-09T19:07:08.682Z"
   },
   {
    "duration": 9,
    "start_time": "2022-09-09T19:07:08.692Z"
   },
   {
    "duration": 1503,
    "start_time": "2022-09-09T19:07:08.702Z"
   },
   {
    "duration": 32,
    "start_time": "2022-09-09T19:07:10.207Z"
   },
   {
    "duration": 3537,
    "start_time": "2022-09-09T19:07:10.241Z"
   },
   {
    "duration": 7,
    "start_time": "2022-09-09T19:07:13.780Z"
   },
   {
    "duration": 73,
    "start_time": "2022-09-09T19:07:13.789Z"
   },
   {
    "duration": 100,
    "start_time": "2022-09-09T19:07:13.865Z"
   },
   {
    "duration": 3,
    "start_time": "2022-09-09T19:07:13.967Z"
   },
   {
    "duration": 2659,
    "start_time": "2022-09-09T19:07:13.971Z"
   },
   {
    "duration": 59,
    "start_time": "2022-09-09T19:07:16.632Z"
   },
   {
    "duration": 271,
    "start_time": "2022-09-09T19:07:16.694Z"
   },
   {
    "duration": 2127,
    "start_time": "2022-09-09T19:07:16.966Z"
   },
   {
    "duration": 515,
    "start_time": "2022-09-09T19:07:19.096Z"
   },
   {
    "duration": 49,
    "start_time": "2022-09-09T19:07:19.612Z"
   },
   {
    "duration": 486,
    "start_time": "2022-09-09T19:07:19.662Z"
   },
   {
    "duration": 26,
    "start_time": "2022-09-09T19:07:20.150Z"
   },
   {
    "duration": 160,
    "start_time": "2022-09-09T19:07:20.177Z"
   },
   {
    "duration": 1987,
    "start_time": "2022-09-09T19:07:20.339Z"
   },
   {
    "duration": 143,
    "start_time": "2022-09-09T19:07:22.328Z"
   },
   {
    "duration": 198,
    "start_time": "2022-09-09T19:07:22.473Z"
   },
   {
    "duration": 8,
    "start_time": "2022-09-09T19:07:22.673Z"
   },
   {
    "duration": 496,
    "start_time": "2022-09-09T19:07:22.683Z"
   },
   {
    "duration": 186,
    "start_time": "2022-09-09T19:07:23.181Z"
   },
   {
    "duration": 300,
    "start_time": "2022-09-09T19:07:23.369Z"
   },
   {
    "duration": 254,
    "start_time": "2022-09-09T19:07:23.674Z"
   },
   {
    "duration": 4,
    "start_time": "2022-09-09T19:07:23.929Z"
   },
   {
    "duration": 10,
    "start_time": "2022-09-09T19:07:23.935Z"
   },
   {
    "duration": 9,
    "start_time": "2022-09-09T19:07:23.946Z"
   },
   {
    "duration": 13,
    "start_time": "2022-09-09T19:07:23.956Z"
   },
   {
    "duration": 18,
    "start_time": "2022-09-09T19:07:23.971Z"
   },
   {
    "duration": 2539,
    "start_time": "2022-09-09T19:07:23.991Z"
   },
   {
    "duration": 201,
    "start_time": "2022-09-09T19:07:26.622Z"
   },
   {
    "duration": 7,
    "start_time": "2022-09-09T19:07:26.825Z"
   },
   {
    "duration": 9,
    "start_time": "2022-09-09T19:07:26.922Z"
   },
   {
    "duration": 14,
    "start_time": "2022-09-09T19:07:26.933Z"
   },
   {
    "duration": 1989,
    "start_time": "2022-09-09T19:07:26.949Z"
   },
   {
    "duration": 201,
    "start_time": "2022-09-09T19:07:29.021Z"
   },
   {
    "duration": 97,
    "start_time": "2022-09-09T19:07:29.225Z"
   },
   {
    "duration": 8,
    "start_time": "2022-09-09T19:07:29.324Z"
   },
   {
    "duration": 12,
    "start_time": "2022-09-09T19:07:29.333Z"
   },
   {
    "duration": 1277,
    "start_time": "2022-09-09T19:07:29.347Z"
   },
   {
    "duration": 228,
    "start_time": "2022-09-09T19:07:30.626Z"
   },
   {
    "duration": 6,
    "start_time": "2022-09-09T19:07:30.923Z"
   },
   {
    "duration": 8,
    "start_time": "2022-09-09T19:07:31.021Z"
   },
   {
    "duration": 13,
    "start_time": "2022-09-09T19:07:31.031Z"
   },
   {
    "duration": 4703,
    "start_time": "2022-09-09T19:07:31.046Z"
   },
   {
    "duration": 45,
    "start_time": "2022-09-09T19:07:35.751Z"
   },
   {
    "duration": 6,
    "start_time": "2022-09-09T19:07:35.797Z"
   },
   {
    "duration": 9,
    "start_time": "2022-09-09T19:07:35.805Z"
   },
   {
    "duration": 11,
    "start_time": "2022-09-09T19:07:35.816Z"
   },
   {
    "duration": 829379,
    "start_time": "2022-09-09T19:07:35.829Z"
   },
   {
    "duration": 864,
    "start_time": "2022-09-09T19:21:25.210Z"
   },
   {
    "duration": 0,
    "start_time": "2022-09-09T19:21:26.075Z"
   },
   {
    "duration": 0,
    "start_time": "2022-09-09T19:21:26.077Z"
   },
   {
    "duration": 0,
    "start_time": "2022-09-09T19:21:26.078Z"
   },
   {
    "duration": 0,
    "start_time": "2022-09-09T19:21:26.080Z"
   },
   {
    "duration": 0,
    "start_time": "2022-09-09T19:21:26.081Z"
   },
   {
    "duration": 0,
    "start_time": "2022-09-09T19:21:26.082Z"
   },
   {
    "duration": 0,
    "start_time": "2022-09-09T19:21:26.083Z"
   },
   {
    "duration": 0,
    "start_time": "2022-09-09T19:21:26.085Z"
   },
   {
    "duration": 0,
    "start_time": "2022-09-09T19:21:26.086Z"
   },
   {
    "duration": 0,
    "start_time": "2022-09-09T19:21:26.087Z"
   },
   {
    "duration": 0,
    "start_time": "2022-09-09T19:21:26.088Z"
   },
   {
    "duration": 0,
    "start_time": "2022-09-09T19:21:26.089Z"
   },
   {
    "duration": 0,
    "start_time": "2022-09-09T19:21:26.090Z"
   },
   {
    "duration": 0,
    "start_time": "2022-09-09T19:21:26.093Z"
   },
   {
    "duration": 0,
    "start_time": "2022-09-09T19:21:26.094Z"
   },
   {
    "duration": 0,
    "start_time": "2022-09-09T19:21:26.095Z"
   },
   {
    "duration": 0,
    "start_time": "2022-09-09T19:21:26.096Z"
   },
   {
    "duration": 4,
    "start_time": "2022-09-09T19:26:35.780Z"
   },
   {
    "duration": 13,
    "start_time": "2022-09-09T19:26:36.022Z"
   },
   {
    "duration": 12429,
    "start_time": "2022-09-09T19:26:46.254Z"
   },
   {
    "duration": 10,
    "start_time": "2022-09-09T19:27:03.666Z"
   },
   {
    "duration": 12187,
    "start_time": "2022-09-09T19:27:10.782Z"
   },
   {
    "duration": 57,
    "start_time": "2022-09-09T19:27:22.972Z"
   },
   {
    "duration": 5,
    "start_time": "2022-09-09T19:27:23.030Z"
   },
   {
    "duration": 12,
    "start_time": "2022-09-09T19:27:23.037Z"
   },
   {
    "duration": 3,
    "start_time": "2022-09-09T19:27:32.733Z"
   },
   {
    "duration": 30390,
    "start_time": "2022-09-09T19:27:32.943Z"
   },
   {
    "duration": 609,
    "start_time": "2022-09-09T19:28:03.335Z"
   },
   {
    "duration": 6,
    "start_time": "2022-09-09T19:28:04.021Z"
   },
   {
    "duration": 30,
    "start_time": "2022-09-09T19:28:04.029Z"
   },
   {
    "duration": 31,
    "start_time": "2022-09-09T19:28:04.061Z"
   },
   {
    "duration": 1358745,
    "start_time": "2022-09-09T19:28:04.094Z"
   },
   {
    "duration": 5890,
    "start_time": "2022-09-09T19:50:42.841Z"
   },
   {
    "duration": 3,
    "start_time": "2022-09-09T19:50:48.733Z"
   },
   {
    "duration": 284,
    "start_time": "2022-09-09T19:50:48.737Z"
   },
   {
    "duration": 5,
    "start_time": "2022-09-09T19:50:49.024Z"
   },
   {
    "duration": 23,
    "start_time": "2022-09-09T19:50:49.031Z"
   },
   {
    "duration": 11,
    "start_time": "2022-09-09T19:50:49.057Z"
   },
   {
    "duration": 9,
    "start_time": "2022-09-09T19:51:20.478Z"
   },
   {
    "duration": 4,
    "start_time": "2022-09-09T19:51:27.885Z"
   },
   {
    "duration": 4,
    "start_time": "2022-09-09T19:51:37.030Z"
   },
   {
    "duration": 13,
    "start_time": "2022-09-09T19:52:45.030Z"
   },
   {
    "duration": 4,
    "start_time": "2022-09-09T21:42:54.365Z"
   },
   {
    "duration": 878,
    "start_time": "2022-09-09T21:45:28.398Z"
   },
   {
    "duration": 5464,
    "start_time": "2022-09-09T21:45:44.550Z"
   },
   {
    "duration": 14665,
    "start_time": "2022-09-09T21:46:02.287Z"
   },
   {
    "duration": 8168,
    "start_time": "2022-09-09T21:55:34.174Z"
   },
   {
    "duration": 3,
    "start_time": "2022-09-09T21:55:42.344Z"
   },
   {
    "duration": 9,
    "start_time": "2022-09-09T21:55:42.348Z"
   },
   {
    "duration": 10,
    "start_time": "2022-09-09T21:55:42.359Z"
   },
   {
    "duration": 1654,
    "start_time": "2022-09-09T21:55:42.371Z"
   },
   {
    "duration": 26,
    "start_time": "2022-09-09T21:55:44.027Z"
   },
   {
    "duration": 3376,
    "start_time": "2022-09-09T21:55:44.055Z"
   },
   {
    "duration": 6,
    "start_time": "2022-09-09T21:55:47.432Z"
   },
   {
    "duration": 56,
    "start_time": "2022-09-09T21:55:47.439Z"
   },
   {
    "duration": 105,
    "start_time": "2022-09-09T21:55:47.498Z"
   },
   {
    "duration": 3,
    "start_time": "2022-09-09T21:55:47.605Z"
   },
   {
    "duration": 2576,
    "start_time": "2022-09-09T21:55:47.610Z"
   },
   {
    "duration": 68,
    "start_time": "2022-09-09T21:55:50.188Z"
   },
   {
    "duration": 256,
    "start_time": "2022-09-09T21:55:50.258Z"
   },
   {
    "duration": 1958,
    "start_time": "2022-09-09T21:55:50.516Z"
   },
   {
    "duration": 503,
    "start_time": "2022-09-09T21:55:52.476Z"
   },
   {
    "duration": 55,
    "start_time": "2022-09-09T21:55:52.981Z"
   },
   {
    "duration": 458,
    "start_time": "2022-09-09T21:55:53.038Z"
   },
   {
    "duration": 32,
    "start_time": "2022-09-09T21:55:53.499Z"
   },
   {
    "duration": 155,
    "start_time": "2022-09-09T21:55:53.533Z"
   },
   {
    "duration": 1902,
    "start_time": "2022-09-09T21:55:53.690Z"
   },
   {
    "duration": 123,
    "start_time": "2022-09-09T21:55:55.594Z"
   },
   {
    "duration": 164,
    "start_time": "2022-09-09T21:55:55.720Z"
   },
   {
    "duration": 8,
    "start_time": "2022-09-09T21:55:55.886Z"
   },
   {
    "duration": 459,
    "start_time": "2022-09-09T21:55:55.896Z"
   },
   {
    "duration": 182,
    "start_time": "2022-09-09T21:55:56.357Z"
   },
   {
    "duration": 293,
    "start_time": "2022-09-09T21:55:56.540Z"
   },
   {
    "duration": 292,
    "start_time": "2022-09-09T21:55:56.839Z"
   },
   {
    "duration": 5,
    "start_time": "2022-09-09T21:55:57.133Z"
   },
   {
    "duration": 21,
    "start_time": "2022-09-09T21:55:57.140Z"
   },
   {
    "duration": 8,
    "start_time": "2022-09-09T21:55:57.163Z"
   },
   {
    "duration": 11,
    "start_time": "2022-09-09T21:55:57.173Z"
   },
   {
    "duration": 7,
    "start_time": "2022-09-09T21:55:57.186Z"
   },
   {
    "duration": 1928,
    "start_time": "2022-09-09T21:55:57.195Z"
   },
   {
    "duration": 227,
    "start_time": "2022-09-09T21:55:59.125Z"
   },
   {
    "duration": 69,
    "start_time": "2022-09-09T21:55:59.354Z"
   },
   {
    "duration": 106,
    "start_time": "2022-09-09T21:55:59.424Z"
   },
   {
    "duration": 7,
    "start_time": "2022-09-09T21:55:59.532Z"
   },
   {
    "duration": 1983,
    "start_time": "2022-09-09T21:55:59.540Z"
   },
   {
    "duration": 194,
    "start_time": "2022-09-09T21:56:01.529Z"
   },
   {
    "duration": 96,
    "start_time": "2022-09-09T21:56:01.725Z"
   },
   {
    "duration": 8,
    "start_time": "2022-09-09T21:56:01.823Z"
   },
   {
    "duration": 63,
    "start_time": "2022-09-09T21:56:01.833Z"
   },
   {
    "duration": 1228,
    "start_time": "2022-09-09T21:56:01.897Z"
   },
   {
    "duration": 239,
    "start_time": "2022-09-09T21:56:03.127Z"
   },
   {
    "duration": 5,
    "start_time": "2022-09-09T21:56:03.423Z"
   },
   {
    "duration": 36,
    "start_time": "2022-09-09T21:56:03.520Z"
   },
   {
    "duration": 15,
    "start_time": "2022-09-09T21:56:03.558Z"
   },
   {
    "duration": 4461,
    "start_time": "2022-09-09T21:56:03.575Z"
   },
   {
    "duration": 42,
    "start_time": "2022-09-09T21:56:08.039Z"
   },
   {
    "duration": 5,
    "start_time": "2022-09-09T21:56:08.083Z"
   },
   {
    "duration": 12,
    "start_time": "2022-09-09T21:56:08.090Z"
   },
   {
    "duration": 7,
    "start_time": "2022-09-09T21:56:08.104Z"
   },
   {
    "duration": 1739791,
    "start_time": "2022-09-09T21:56:08.112Z"
   },
   {
    "duration": 127355,
    "start_time": "2022-09-09T22:25:07.905Z"
   },
   {
    "duration": 4,
    "start_time": "2022-09-09T22:27:15.261Z"
   },
   {
    "duration": 144,
    "start_time": "2022-09-09T22:27:15.266Z"
   },
   {
    "duration": 11,
    "start_time": "2022-09-09T22:27:15.411Z"
   },
   {
    "duration": 10,
    "start_time": "2022-09-09T22:27:15.423Z"
   },
   {
    "duration": 6,
    "start_time": "2022-09-09T22:27:15.434Z"
   },
   {
    "duration": 15393,
    "start_time": "2022-09-09T22:27:15.442Z"
   },
   {
    "duration": 690,
    "start_time": "2022-09-09T22:27:30.836Z"
   },
   {
    "duration": 6,
    "start_time": "2022-09-09T22:27:31.528Z"
   },
   {
    "duration": 28,
    "start_time": "2022-09-09T22:27:31.536Z"
   },
   {
    "duration": 30,
    "start_time": "2022-09-09T22:27:31.565Z"
   },
   {
    "duration": 2159,
    "start_time": "2022-09-09T22:27:31.597Z"
   },
   {
    "duration": 0,
    "start_time": "2022-09-09T22:27:33.758Z"
   },
   {
    "duration": 0,
    "start_time": "2022-09-09T22:27:33.759Z"
   },
   {
    "duration": 0,
    "start_time": "2022-09-09T22:27:33.760Z"
   },
   {
    "duration": 0,
    "start_time": "2022-09-09T22:27:33.761Z"
   },
   {
    "duration": 0,
    "start_time": "2022-09-09T22:27:33.762Z"
   },
   {
    "duration": 0,
    "start_time": "2022-09-09T22:27:33.764Z"
   },
   {
    "duration": 1,
    "start_time": "2022-09-09T22:27:33.764Z"
   },
   {
    "duration": 0,
    "start_time": "2022-09-09T22:27:33.765Z"
   },
   {
    "duration": 0,
    "start_time": "2022-09-09T22:27:33.766Z"
   },
   {
    "duration": 6,
    "start_time": "2022-09-09T22:29:57.325Z"
   },
   {
    "duration": 37114,
    "start_time": "2022-09-09T22:29:57.634Z"
   },
   {
    "duration": 4,
    "start_time": "2022-09-09T22:31:05.052Z"
   },
   {
    "duration": 55750,
    "start_time": "2022-09-09T22:31:05.275Z"
   },
   {
    "duration": 38549,
    "start_time": "2022-09-09T22:32:06.172Z"
   },
   {
    "duration": 16342,
    "start_time": "2022-09-09T22:35:03.691Z"
   },
   {
    "duration": 3,
    "start_time": "2022-09-09T22:35:20.035Z"
   },
   {
    "duration": 686,
    "start_time": "2022-09-09T22:35:20.039Z"
   },
   {
    "duration": 4,
    "start_time": "2022-09-09T22:35:20.727Z"
   },
   {
    "duration": 11,
    "start_time": "2022-09-09T22:35:20.733Z"
   },
   {
    "duration": 2,
    "start_time": "2022-09-09T22:35:26.613Z"
   },
   {
    "duration": 13,
    "start_time": "2022-09-09T22:35:27.028Z"
   },
   {
    "duration": 4,
    "start_time": "2022-09-09T22:35:28.636Z"
   },
   {
    "duration": 8082,
    "start_time": "2022-09-09T22:36:13.835Z"
   },
   {
    "duration": 3,
    "start_time": "2022-09-09T22:36:21.919Z"
   },
   {
    "duration": 10,
    "start_time": "2022-09-09T22:36:21.924Z"
   },
   {
    "duration": 6,
    "start_time": "2022-09-09T22:36:21.936Z"
   },
   {
    "duration": 1551,
    "start_time": "2022-09-09T22:36:21.944Z"
   },
   {
    "duration": 35,
    "start_time": "2022-09-09T22:36:23.497Z"
   },
   {
    "duration": 3307,
    "start_time": "2022-09-09T22:36:23.534Z"
   },
   {
    "duration": 7,
    "start_time": "2022-09-09T22:36:26.843Z"
   },
   {
    "duration": 55,
    "start_time": "2022-09-09T22:36:26.852Z"
   },
   {
    "duration": 103,
    "start_time": "2022-09-09T22:36:26.920Z"
   },
   {
    "duration": 3,
    "start_time": "2022-09-09T22:36:27.025Z"
   },
   {
    "duration": 2530,
    "start_time": "2022-09-09T22:36:27.029Z"
   },
   {
    "duration": 62,
    "start_time": "2022-09-09T22:36:29.561Z"
   },
   {
    "duration": 257,
    "start_time": "2022-09-09T22:36:29.625Z"
   },
   {
    "duration": 2007,
    "start_time": "2022-09-09T22:36:29.883Z"
   },
   {
    "duration": 490,
    "start_time": "2022-09-09T22:36:31.892Z"
   },
   {
    "duration": 53,
    "start_time": "2022-09-09T22:36:32.383Z"
   },
   {
    "duration": 457,
    "start_time": "2022-09-09T22:36:32.438Z"
   },
   {
    "duration": 31,
    "start_time": "2022-09-09T22:36:32.897Z"
   },
   {
    "duration": 145,
    "start_time": "2022-09-09T22:36:32.930Z"
   },
   {
    "duration": 1820,
    "start_time": "2022-09-09T22:36:33.077Z"
   },
   {
    "duration": 124,
    "start_time": "2022-09-09T22:36:34.900Z"
   },
   {
    "duration": 159,
    "start_time": "2022-09-09T22:36:35.026Z"
   },
   {
    "duration": 7,
    "start_time": "2022-09-09T22:36:35.187Z"
   },
   {
    "duration": 462,
    "start_time": "2022-09-09T22:36:35.196Z"
   },
   {
    "duration": 184,
    "start_time": "2022-09-09T22:36:35.660Z"
   },
   {
    "duration": 292,
    "start_time": "2022-09-09T22:36:35.846Z"
   },
   {
    "duration": 236,
    "start_time": "2022-09-09T22:36:36.143Z"
   },
   {
    "duration": 4,
    "start_time": "2022-09-09T22:36:36.381Z"
   },
   {
    "duration": 22,
    "start_time": "2022-09-09T22:36:36.387Z"
   },
   {
    "duration": 18,
    "start_time": "2022-09-09T22:36:36.410Z"
   },
   {
    "duration": 35,
    "start_time": "2022-09-09T22:36:36.430Z"
   },
   {
    "duration": 30,
    "start_time": "2022-09-09T22:36:36.467Z"
   },
   {
    "duration": 1830,
    "start_time": "2022-09-09T22:36:36.498Z"
   },
   {
    "duration": 230,
    "start_time": "2022-09-09T22:36:38.330Z"
   },
   {
    "duration": 61,
    "start_time": "2022-09-09T22:36:38.561Z"
   },
   {
    "duration": 98,
    "start_time": "2022-09-09T22:36:38.627Z"
   },
   {
    "duration": 6,
    "start_time": "2022-09-09T22:36:38.727Z"
   },
   {
    "duration": 1691,
    "start_time": "2022-09-09T22:36:38.735Z"
   },
   {
    "duration": 232,
    "start_time": "2022-09-09T22:36:40.429Z"
   },
   {
    "duration": 63,
    "start_time": "2022-09-09T22:36:40.663Z"
   },
   {
    "duration": 102,
    "start_time": "2022-09-09T22:36:40.728Z"
   },
   {
    "duration": 6,
    "start_time": "2022-09-09T22:36:40.832Z"
   },
   {
    "duration": 1282,
    "start_time": "2022-09-09T22:36:40.839Z"
   },
   {
    "duration": 199,
    "start_time": "2022-09-09T22:36:42.123Z"
   },
   {
    "duration": 6,
    "start_time": "2022-09-09T22:36:42.324Z"
   },
   {
    "duration": 10,
    "start_time": "2022-09-09T22:36:42.421Z"
   },
   {
    "duration": 10,
    "start_time": "2022-09-09T22:36:42.433Z"
   },
   {
    "duration": 4487,
    "start_time": "2022-09-09T22:36:42.445Z"
   },
   {
    "duration": 45,
    "start_time": "2022-09-09T22:36:46.933Z"
   },
   {
    "duration": 5,
    "start_time": "2022-09-09T22:36:46.980Z"
   },
   {
    "duration": 14,
    "start_time": "2022-09-09T22:36:46.987Z"
   },
   {
    "duration": 9,
    "start_time": "2022-09-09T22:36:47.003Z"
   },
   {
    "duration": 380639,
    "start_time": "2022-09-09T22:36:47.013Z"
   },
   {
    "duration": 48411,
    "start_time": "2022-09-09T22:43:07.654Z"
   },
   {
    "duration": 3,
    "start_time": "2022-09-09T22:43:56.067Z"
   },
   {
    "duration": 112,
    "start_time": "2022-09-09T22:43:56.072Z"
   },
   {
    "duration": 4,
    "start_time": "2022-09-09T22:43:56.186Z"
   },
   {
    "duration": 10,
    "start_time": "2022-09-09T22:43:56.192Z"
   },
   {
    "duration": 17,
    "start_time": "2022-09-09T22:43:56.204Z"
   },
   {
    "duration": 16014,
    "start_time": "2022-09-09T22:43:56.222Z"
   },
   {
    "duration": 696,
    "start_time": "2022-09-09T22:44:12.238Z"
   },
   {
    "duration": 5,
    "start_time": "2022-09-09T22:44:12.936Z"
   },
   {
    "duration": 10,
    "start_time": "2022-09-09T22:44:12.942Z"
   },
   {
    "duration": 6,
    "start_time": "2022-09-09T22:44:12.954Z"
   },
   {
    "duration": 595868,
    "start_time": "2022-09-09T22:44:12.961Z"
   },
   {
    "duration": 24595,
    "start_time": "2022-09-09T22:54:08.831Z"
   },
   {
    "duration": 4,
    "start_time": "2022-09-09T22:54:33.427Z"
   },
   {
    "duration": 1112,
    "start_time": "2022-09-09T22:54:33.433Z"
   },
   {
    "duration": 4,
    "start_time": "2022-09-09T22:54:34.620Z"
   },
   {
    "duration": 8,
    "start_time": "2022-09-09T22:54:34.626Z"
   },
   {
    "duration": 7,
    "start_time": "2022-09-09T22:54:34.636Z"
   },
   {
    "duration": 18,
    "start_time": "2022-09-09T22:54:34.644Z"
   },
   {
    "duration": 11,
    "start_time": "2022-09-09T22:54:34.664Z"
   },
   {
    "duration": 55247,
    "start_time": "2022-09-09T22:54:34.676Z"
   }
  ],
  "kernelspec": {
   "display_name": "Python 3 (ipykernel)",
   "language": "python",
   "name": "python3"
  },
  "language_info": {
   "codemirror_mode": {
    "name": "ipython",
    "version": 3
   },
   "file_extension": ".py",
   "mimetype": "text/x-python",
   "name": "python",
   "nbconvert_exporter": "python",
   "pygments_lexer": "ipython3",
   "version": "3.9.13"
  },
  "toc": {
   "base_numbering": 1,
   "nav_menu": {},
   "number_sections": true,
   "sideBar": true,
   "skip_h1_title": true,
   "title_cell": "Contents",
   "title_sidebar": "Contents",
   "toc_cell": true,
   "toc_position": {
    "height": "calc(100% - 180px)",
    "left": "10px",
    "top": "150px",
    "width": "289.438px"
   },
   "toc_section_display": true,
   "toc_window_display": true
  }
 },
 "nbformat": 4,
 "nbformat_minor": 2
}
