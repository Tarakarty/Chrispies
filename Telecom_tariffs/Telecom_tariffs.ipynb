{
 "cells": [
  {
   "cell_type": "markdown",
   "metadata": {},
   "source": [
    "# Определение перспективного тарифа для телеком-компании\n",
    "\n",
    "\n",
    "«Мегалайн» — федеральный оператор сотовой связи. Клиентам предлагают два тарифных плана: «Смарт» и «Ультра». Чтобы скорректировать рекламный бюджет, коммерческий департамент хочет понять, какой тариф приносит больше денег.\n",
    "Нам предстоит сделать предварительный анализ тарифов на небольшой выборке клиентов. \n",
    "\n",
    "В нашем распоряжении данные 500 пользователей «Мегалайна»: кто они, откуда, каким тарифом пользуются, сколько звонков и сообщений каждый отправил за 2018 год. \n",
    "\n",
    "Нужно проанализировать поведение клиентов и сделать вывод — какой тариф лучше."
   ]
  },
  {
   "cell_type": "markdown",
   "metadata": {},
   "source": [
    "Описание тарифов\n",
    "\n",
    "**Тариф «Смарт»**\n",
    " - Ежемесячная плата: 550 рублей\n",
    " - Включено:\n",
    "  - 500 минут разговора\n",
    "  - 50 сообщений \n",
    "  - 15 Гб интернет-трафика\n",
    "Стоимость услуг сверх тарифного пакета:\n",
    " - минута разговора: 3 рубля\n",
    " - сообщение: 3 рубля\n",
    " - 1 Гб интернет-трафика: 200 рублей\n",
    " \n",
    "**Тариф «Ультра»**\n",
    " - Ежемесячная плата: 1950 рублей\n",
    " - Включено:\n",
    "  - 3000 минут разговора\n",
    "  - 1000 сообщений \n",
    "  - 30 Гб интернет-трафика\n",
    "Стоимость услуг сверх тарифного пакета:\n",
    " - минута разговора: 1 рубль\n",
    " - сообщение: 1 рубль\n",
    " - 1 Гб интернет-трафика: 150 рублей"
   ]
  },
  {
   "cell_type": "markdown",
   "metadata": {},
   "source": [
    "## Обзор данных"
   ]
  },
  {
   "cell_type": "markdown",
   "metadata": {},
   "source": [
    "Импорт библиотек и выгрузка данных"
   ]
  },
  {
   "cell_type": "code",
   "execution_count": 1,
   "metadata": {},
   "outputs": [],
   "source": [
    "import pandas as pd\n",
    "import numpy as np\n",
    "import matplotlib.pyplot as plt\n",
    "import seaborn as sns\n",
    "from scipy import stats as st\n",
    "\n",
    "\n",
    "pd.set_option('display.max_columns', None)\n",
    "np.set_printoptions(linewidth=110)\n",
    "sns.set(rc={'figure.figsize':(19,10)})"
   ]
  },
  {
   "cell_type": "markdown",
   "metadata": {},
   "source": [
    "### Таблицы. Головы и инфо"
   ]
  },
  {
   "cell_type": "code",
   "execution_count": 3,
   "metadata": {
    "scrolled": false
   },
   "outputs": [
    {
     "name": "stdout",
     "output_type": "stream",
     "text": [
      "<class 'pandas.core.frame.DataFrame'>\n",
      "RangeIndex: 202607 entries, 0 to 202606\n",
      "Data columns (total 4 columns):\n",
      " #   Column     Non-Null Count   Dtype  \n",
      "---  ------     --------------   -----  \n",
      " 0   id         202607 non-null  object \n",
      " 1   call_date  202607 non-null  object \n",
      " 2   duration   202607 non-null  float64\n",
      " 3   user_id    202607 non-null  int64  \n",
      "dtypes: float64(1), int64(1), object(2)\n",
      "memory usage: 6.2+ MB\n"
     ]
    },
    {
     "data": {
      "text/html": [
       "<div>\n",
       "<style scoped>\n",
       "    .dataframe tbody tr th:only-of-type {\n",
       "        vertical-align: middle;\n",
       "    }\n",
       "\n",
       "    .dataframe tbody tr th {\n",
       "        vertical-align: top;\n",
       "    }\n",
       "\n",
       "    .dataframe thead th {\n",
       "        text-align: right;\n",
       "    }\n",
       "</style>\n",
       "<table border=\"1\" class=\"dataframe\">\n",
       "  <thead>\n",
       "    <tr style=\"text-align: right;\">\n",
       "      <th></th>\n",
       "      <th>id</th>\n",
       "      <th>call_date</th>\n",
       "      <th>duration</th>\n",
       "      <th>user_id</th>\n",
       "    </tr>\n",
       "  </thead>\n",
       "  <tbody>\n",
       "    <tr>\n",
       "      <th>0</th>\n",
       "      <td>1000_0</td>\n",
       "      <td>2018-07-25</td>\n",
       "      <td>0.00</td>\n",
       "      <td>1000</td>\n",
       "    </tr>\n",
       "    <tr>\n",
       "      <th>1</th>\n",
       "      <td>1000_1</td>\n",
       "      <td>2018-08-17</td>\n",
       "      <td>0.00</td>\n",
       "      <td>1000</td>\n",
       "    </tr>\n",
       "    <tr>\n",
       "      <th>2</th>\n",
       "      <td>1000_2</td>\n",
       "      <td>2018-06-11</td>\n",
       "      <td>2.85</td>\n",
       "      <td>1000</td>\n",
       "    </tr>\n",
       "    <tr>\n",
       "      <th>3</th>\n",
       "      <td>1000_3</td>\n",
       "      <td>2018-09-21</td>\n",
       "      <td>13.80</td>\n",
       "      <td>1000</td>\n",
       "    </tr>\n",
       "    <tr>\n",
       "      <th>4</th>\n",
       "      <td>1000_4</td>\n",
       "      <td>2018-12-15</td>\n",
       "      <td>5.18</td>\n",
       "      <td>1000</td>\n",
       "    </tr>\n",
       "  </tbody>\n",
       "</table>\n",
       "</div>"
      ],
      "text/plain": [
       "       id   call_date  duration  user_id\n",
       "0  1000_0  2018-07-25      0.00     1000\n",
       "1  1000_1  2018-08-17      0.00     1000\n",
       "2  1000_2  2018-06-11      2.85     1000\n",
       "3  1000_3  2018-09-21     13.80     1000\n",
       "4  1000_4  2018-12-15      5.18     1000"
      ]
     },
     "execution_count": 3,
     "metadata": {},
     "output_type": "execute_result"
    }
   ],
   "source": [
    "calls.info()\n",
    "calls.head()"
   ]
  },
  {
   "cell_type": "markdown",
   "metadata": {},
   "source": [
    "Таблица *calls* (информация о звонках):\n",
    "- `id` — уникальный номер звонка\n",
    "- `call_date` — дата звонка\n",
    "- `duration` — длительность звонка в минутах\n",
    "- `user_id` — идентификатор пользователя, сделавшего звонок\n",
    "\n",
    "**Проблемы**\n",
    "\n",
    "- Столбец `call_date` требует изменения формата в `DateTime`"
   ]
  },
  {
   "cell_type": "code",
   "execution_count": 4,
   "metadata": {},
   "outputs": [
    {
     "name": "stdout",
     "output_type": "stream",
     "text": [
      "<class 'pandas.core.frame.DataFrame'>\n",
      "RangeIndex: 149396 entries, 0 to 149395\n",
      "Data columns (total 5 columns):\n",
      " #   Column        Non-Null Count   Dtype  \n",
      "---  ------        --------------   -----  \n",
      " 0   Unnamed: 0    149396 non-null  int64  \n",
      " 1   id            149396 non-null  object \n",
      " 2   mb_used       149396 non-null  float64\n",
      " 3   session_date  149396 non-null  object \n",
      " 4   user_id       149396 non-null  int64  \n",
      "dtypes: float64(1), int64(2), object(2)\n",
      "memory usage: 5.7+ MB\n"
     ]
    },
    {
     "data": {
      "text/html": [
       "<div>\n",
       "<style scoped>\n",
       "    .dataframe tbody tr th:only-of-type {\n",
       "        vertical-align: middle;\n",
       "    }\n",
       "\n",
       "    .dataframe tbody tr th {\n",
       "        vertical-align: top;\n",
       "    }\n",
       "\n",
       "    .dataframe thead th {\n",
       "        text-align: right;\n",
       "    }\n",
       "</style>\n",
       "<table border=\"1\" class=\"dataframe\">\n",
       "  <thead>\n",
       "    <tr style=\"text-align: right;\">\n",
       "      <th></th>\n",
       "      <th>Unnamed: 0</th>\n",
       "      <th>id</th>\n",
       "      <th>mb_used</th>\n",
       "      <th>session_date</th>\n",
       "      <th>user_id</th>\n",
       "    </tr>\n",
       "  </thead>\n",
       "  <tbody>\n",
       "    <tr>\n",
       "      <th>0</th>\n",
       "      <td>0</td>\n",
       "      <td>1000_0</td>\n",
       "      <td>112.95</td>\n",
       "      <td>2018-11-25</td>\n",
       "      <td>1000</td>\n",
       "    </tr>\n",
       "    <tr>\n",
       "      <th>1</th>\n",
       "      <td>1</td>\n",
       "      <td>1000_1</td>\n",
       "      <td>1052.81</td>\n",
       "      <td>2018-09-07</td>\n",
       "      <td>1000</td>\n",
       "    </tr>\n",
       "    <tr>\n",
       "      <th>2</th>\n",
       "      <td>2</td>\n",
       "      <td>1000_2</td>\n",
       "      <td>1197.26</td>\n",
       "      <td>2018-06-25</td>\n",
       "      <td>1000</td>\n",
       "    </tr>\n",
       "    <tr>\n",
       "      <th>3</th>\n",
       "      <td>3</td>\n",
       "      <td>1000_3</td>\n",
       "      <td>550.27</td>\n",
       "      <td>2018-08-22</td>\n",
       "      <td>1000</td>\n",
       "    </tr>\n",
       "    <tr>\n",
       "      <th>4</th>\n",
       "      <td>4</td>\n",
       "      <td>1000_4</td>\n",
       "      <td>302.56</td>\n",
       "      <td>2018-09-24</td>\n",
       "      <td>1000</td>\n",
       "    </tr>\n",
       "  </tbody>\n",
       "</table>\n",
       "</div>"
      ],
      "text/plain": [
       "   Unnamed: 0      id  mb_used session_date  user_id\n",
       "0           0  1000_0   112.95   2018-11-25     1000\n",
       "1           1  1000_1  1052.81   2018-09-07     1000\n",
       "2           2  1000_2  1197.26   2018-06-25     1000\n",
       "3           3  1000_3   550.27   2018-08-22     1000\n",
       "4           4  1000_4   302.56   2018-09-24     1000"
      ]
     },
     "execution_count": 4,
     "metadata": {},
     "output_type": "execute_result"
    }
   ],
   "source": [
    "internet.info()\n",
    "internet.head()"
   ]
  },
  {
   "cell_type": "markdown",
   "metadata": {},
   "source": [
    "Таблица *internet* (информация об интернет-сессиях):\n",
    "- `id` — уникальный номер сессии\n",
    "- `mb_used` — объём потраченного за сессию интернет-трафика (в мегабайтах)\n",
    "- `session_date` — дата интернет-сессии\n",
    "- `user_id` — идентификатор пользователя\n",
    "\n",
    "**Проблемы**\n",
    "\n",
    "- Столбец `session_date` требует изменения формата в `DateTime`\n",
    "- Присутствует столбец `Unnamed: 0`, он дублирует индексы, видимо артефакт выгрузки, нужно удалить"
   ]
  },
  {
   "cell_type": "code",
   "execution_count": 5,
   "metadata": {},
   "outputs": [
    {
     "name": "stdout",
     "output_type": "stream",
     "text": [
      "<class 'pandas.core.frame.DataFrame'>\n",
      "RangeIndex: 123036 entries, 0 to 123035\n",
      "Data columns (total 3 columns):\n",
      " #   Column        Non-Null Count   Dtype \n",
      "---  ------        --------------   ----- \n",
      " 0   id            123036 non-null  object\n",
      " 1   message_date  123036 non-null  object\n",
      " 2   user_id       123036 non-null  int64 \n",
      "dtypes: int64(1), object(2)\n",
      "memory usage: 2.8+ MB\n"
     ]
    },
    {
     "data": {
      "text/html": [
       "<div>\n",
       "<style scoped>\n",
       "    .dataframe tbody tr th:only-of-type {\n",
       "        vertical-align: middle;\n",
       "    }\n",
       "\n",
       "    .dataframe tbody tr th {\n",
       "        vertical-align: top;\n",
       "    }\n",
       "\n",
       "    .dataframe thead th {\n",
       "        text-align: right;\n",
       "    }\n",
       "</style>\n",
       "<table border=\"1\" class=\"dataframe\">\n",
       "  <thead>\n",
       "    <tr style=\"text-align: right;\">\n",
       "      <th></th>\n",
       "      <th>id</th>\n",
       "      <th>message_date</th>\n",
       "      <th>user_id</th>\n",
       "    </tr>\n",
       "  </thead>\n",
       "  <tbody>\n",
       "    <tr>\n",
       "      <th>0</th>\n",
       "      <td>1000_0</td>\n",
       "      <td>2018-06-27</td>\n",
       "      <td>1000</td>\n",
       "    </tr>\n",
       "    <tr>\n",
       "      <th>1</th>\n",
       "      <td>1000_1</td>\n",
       "      <td>2018-10-08</td>\n",
       "      <td>1000</td>\n",
       "    </tr>\n",
       "    <tr>\n",
       "      <th>2</th>\n",
       "      <td>1000_2</td>\n",
       "      <td>2018-08-04</td>\n",
       "      <td>1000</td>\n",
       "    </tr>\n",
       "    <tr>\n",
       "      <th>3</th>\n",
       "      <td>1000_3</td>\n",
       "      <td>2018-06-16</td>\n",
       "      <td>1000</td>\n",
       "    </tr>\n",
       "    <tr>\n",
       "      <th>4</th>\n",
       "      <td>1000_4</td>\n",
       "      <td>2018-12-05</td>\n",
       "      <td>1000</td>\n",
       "    </tr>\n",
       "  </tbody>\n",
       "</table>\n",
       "</div>"
      ],
      "text/plain": [
       "       id message_date  user_id\n",
       "0  1000_0   2018-06-27     1000\n",
       "1  1000_1   2018-10-08     1000\n",
       "2  1000_2   2018-08-04     1000\n",
       "3  1000_3   2018-06-16     1000\n",
       "4  1000_4   2018-12-05     1000"
      ]
     },
     "execution_count": 5,
     "metadata": {},
     "output_type": "execute_result"
    }
   ],
   "source": [
    "messages.info()\n",
    "messages.head()"
   ]
  },
  {
   "cell_type": "markdown",
   "metadata": {},
   "source": [
    "Таблица *messages* (информация о сообщениях):\n",
    "- `id` — уникальный номер сообщения\n",
    "- `message_date` — дата сообщения\n",
    "- `user_id` — идентификатор пользователя, отправившего сообщение\n",
    "\n",
    "**Проблемы**\n",
    "\n",
    "- Столбец `message_date` требует изменения формата в `DateTime`"
   ]
  },
  {
   "cell_type": "code",
   "execution_count": 6,
   "metadata": {},
   "outputs": [
    {
     "name": "stdout",
     "output_type": "stream",
     "text": [
      "<class 'pandas.core.frame.DataFrame'>\n",
      "RangeIndex: 2 entries, 0 to 1\n",
      "Data columns (total 8 columns):\n",
      " #   Column                 Non-Null Count  Dtype \n",
      "---  ------                 --------------  ----- \n",
      " 0   messages_included      2 non-null      int64 \n",
      " 1   mb_per_month_included  2 non-null      int64 \n",
      " 2   minutes_included       2 non-null      int64 \n",
      " 3   rub_monthly_fee        2 non-null      int64 \n",
      " 4   rub_per_gb             2 non-null      int64 \n",
      " 5   rub_per_message        2 non-null      int64 \n",
      " 6   rub_per_minute         2 non-null      int64 \n",
      " 7   tariff_name            2 non-null      object\n",
      "dtypes: int64(7), object(1)\n",
      "memory usage: 256.0+ bytes\n"
     ]
    },
    {
     "data": {
      "text/html": [
       "<div>\n",
       "<style scoped>\n",
       "    .dataframe tbody tr th:only-of-type {\n",
       "        vertical-align: middle;\n",
       "    }\n",
       "\n",
       "    .dataframe tbody tr th {\n",
       "        vertical-align: top;\n",
       "    }\n",
       "\n",
       "    .dataframe thead th {\n",
       "        text-align: right;\n",
       "    }\n",
       "</style>\n",
       "<table border=\"1\" class=\"dataframe\">\n",
       "  <thead>\n",
       "    <tr style=\"text-align: right;\">\n",
       "      <th></th>\n",
       "      <th>messages_included</th>\n",
       "      <th>mb_per_month_included</th>\n",
       "      <th>minutes_included</th>\n",
       "      <th>rub_monthly_fee</th>\n",
       "      <th>rub_per_gb</th>\n",
       "      <th>rub_per_message</th>\n",
       "      <th>rub_per_minute</th>\n",
       "      <th>tariff_name</th>\n",
       "    </tr>\n",
       "  </thead>\n",
       "  <tbody>\n",
       "    <tr>\n",
       "      <th>0</th>\n",
       "      <td>50</td>\n",
       "      <td>15360</td>\n",
       "      <td>500</td>\n",
       "      <td>550</td>\n",
       "      <td>200</td>\n",
       "      <td>3</td>\n",
       "      <td>3</td>\n",
       "      <td>smart</td>\n",
       "    </tr>\n",
       "    <tr>\n",
       "      <th>1</th>\n",
       "      <td>1000</td>\n",
       "      <td>30720</td>\n",
       "      <td>3000</td>\n",
       "      <td>1950</td>\n",
       "      <td>150</td>\n",
       "      <td>1</td>\n",
       "      <td>1</td>\n",
       "      <td>ultra</td>\n",
       "    </tr>\n",
       "  </tbody>\n",
       "</table>\n",
       "</div>"
      ],
      "text/plain": [
       "   messages_included  mb_per_month_included  minutes_included  \\\n",
       "0                 50                  15360               500   \n",
       "1               1000                  30720              3000   \n",
       "\n",
       "   rub_monthly_fee  rub_per_gb  rub_per_message  rub_per_minute tariff_name  \n",
       "0              550         200                3               3       smart  \n",
       "1             1950         150                1               1       ultra  "
      ]
     },
     "execution_count": 6,
     "metadata": {},
     "output_type": "execute_result"
    }
   ],
   "source": [
    "tariffs.info()\n",
    "tariffs"
   ]
  },
  {
   "cell_type": "markdown",
   "metadata": {},
   "source": [
    "Таблица *tariffs* (информация о тарифах):\n",
    "- `tariff_name` — название тарифа\n",
    "- `rub_monthly_fee` — ежемесячная абонентская плата в рублях\n",
    "- `minutes_included` — количество минут разговора в месяц, включённых в абонентскую плату\n",
    "- `messages_included` — количество сообщений в месяц, включённых в абонентскую плату\n",
    "- `mb_per_month_included` — объём интернет-трафика, включённого в абонентскую плату (в мегабайтах)\n",
    "- `rub_per_minute` — стоимость минуты разговора сверх тарифного пакета (например, если в тарифе 100 минут разговора в месяц, то со 101 минуты будет взиматься плата)\n",
    "- `rub_per_message` — стоимость отправки сообщения сверх тарифного пакета\n",
    "- `rub_per_gb` — стоимость дополнительного гигабайта интернет-трафика сверх тарифного пакета (1 гигабайт = 1024 мегабайта)"
   ]
  },
  {
   "cell_type": "code",
   "execution_count": 7,
   "metadata": {},
   "outputs": [
    {
     "name": "stdout",
     "output_type": "stream",
     "text": [
      "<class 'pandas.core.frame.DataFrame'>\n",
      "RangeIndex: 500 entries, 0 to 499\n",
      "Data columns (total 8 columns):\n",
      " #   Column      Non-Null Count  Dtype \n",
      "---  ------      --------------  ----- \n",
      " 0   user_id     500 non-null    int64 \n",
      " 1   age         500 non-null    int64 \n",
      " 2   churn_date  38 non-null     object\n",
      " 3   city        500 non-null    object\n",
      " 4   first_name  500 non-null    object\n",
      " 5   last_name   500 non-null    object\n",
      " 6   reg_date    500 non-null    object\n",
      " 7   tariff      500 non-null    object\n",
      "dtypes: int64(2), object(6)\n",
      "memory usage: 31.4+ KB\n"
     ]
    },
    {
     "data": {
      "text/html": [
       "<div>\n",
       "<style scoped>\n",
       "    .dataframe tbody tr th:only-of-type {\n",
       "        vertical-align: middle;\n",
       "    }\n",
       "\n",
       "    .dataframe tbody tr th {\n",
       "        vertical-align: top;\n",
       "    }\n",
       "\n",
       "    .dataframe thead th {\n",
       "        text-align: right;\n",
       "    }\n",
       "</style>\n",
       "<table border=\"1\" class=\"dataframe\">\n",
       "  <thead>\n",
       "    <tr style=\"text-align: right;\">\n",
       "      <th></th>\n",
       "      <th>user_id</th>\n",
       "      <th>age</th>\n",
       "      <th>churn_date</th>\n",
       "      <th>city</th>\n",
       "      <th>first_name</th>\n",
       "      <th>last_name</th>\n",
       "      <th>reg_date</th>\n",
       "      <th>tariff</th>\n",
       "    </tr>\n",
       "  </thead>\n",
       "  <tbody>\n",
       "    <tr>\n",
       "      <th>0</th>\n",
       "      <td>1000</td>\n",
       "      <td>52</td>\n",
       "      <td>NaN</td>\n",
       "      <td>Краснодар</td>\n",
       "      <td>Рафаил</td>\n",
       "      <td>Верещагин</td>\n",
       "      <td>2018-05-25</td>\n",
       "      <td>ultra</td>\n",
       "    </tr>\n",
       "    <tr>\n",
       "      <th>1</th>\n",
       "      <td>1001</td>\n",
       "      <td>41</td>\n",
       "      <td>NaN</td>\n",
       "      <td>Москва</td>\n",
       "      <td>Иван</td>\n",
       "      <td>Ежов</td>\n",
       "      <td>2018-11-01</td>\n",
       "      <td>smart</td>\n",
       "    </tr>\n",
       "    <tr>\n",
       "      <th>2</th>\n",
       "      <td>1002</td>\n",
       "      <td>59</td>\n",
       "      <td>NaN</td>\n",
       "      <td>Стерлитамак</td>\n",
       "      <td>Евгений</td>\n",
       "      <td>Абрамович</td>\n",
       "      <td>2018-06-17</td>\n",
       "      <td>smart</td>\n",
       "    </tr>\n",
       "    <tr>\n",
       "      <th>3</th>\n",
       "      <td>1003</td>\n",
       "      <td>23</td>\n",
       "      <td>NaN</td>\n",
       "      <td>Москва</td>\n",
       "      <td>Белла</td>\n",
       "      <td>Белякова</td>\n",
       "      <td>2018-08-17</td>\n",
       "      <td>ultra</td>\n",
       "    </tr>\n",
       "    <tr>\n",
       "      <th>4</th>\n",
       "      <td>1004</td>\n",
       "      <td>68</td>\n",
       "      <td>NaN</td>\n",
       "      <td>Новокузнецк</td>\n",
       "      <td>Татьяна</td>\n",
       "      <td>Авдеенко</td>\n",
       "      <td>2018-05-14</td>\n",
       "      <td>ultra</td>\n",
       "    </tr>\n",
       "  </tbody>\n",
       "</table>\n",
       "</div>"
      ],
      "text/plain": [
       "   user_id  age churn_date         city first_name  last_name    reg_date  \\\n",
       "0     1000   52        NaN    Краснодар     Рафаил  Верещагин  2018-05-25   \n",
       "1     1001   41        NaN       Москва       Иван       Ежов  2018-11-01   \n",
       "2     1002   59        NaN  Стерлитамак    Евгений  Абрамович  2018-06-17   \n",
       "3     1003   23        NaN       Москва      Белла   Белякова  2018-08-17   \n",
       "4     1004   68        NaN  Новокузнецк    Татьяна   Авдеенко  2018-05-14   \n",
       "\n",
       "  tariff  \n",
       "0  ultra  \n",
       "1  smart  \n",
       "2  smart  \n",
       "3  ultra  \n",
       "4  ultra  "
      ]
     },
     "execution_count": 7,
     "metadata": {},
     "output_type": "execute_result"
    }
   ],
   "source": [
    "users.info()\n",
    "users.head()"
   ]
  },
  {
   "cell_type": "markdown",
   "metadata": {},
   "source": [
    "Таблица *users* (информация о пользователях):\n",
    "user_id — уникальный идентификатор пользователя\n",
    "- `first_name` — имя пользователя\n",
    "- `last_name` — фамилия пользователя\n",
    "- `age` — возраст пользователя (годы)\n",
    "- `reg_date` — дата подключения тарифа (день, месяц, год)\n",
    "- `churn_date` — дата прекращения пользования тарифом (если значение пропущено, то тариф ещё действовал на момент выгрузки данных)\n",
    "- `city` — город проживания пользователя\n",
    "- `tariff` — название тарифного плана\n",
    "\n",
    "**Проблемы**\n",
    "\n",
    "- Столбцы `churn_date` и `reg_date` требует изменения формата в `DateTime`. Учитывая NaN'ы просто изменение формата возможно не пройдет с `churn_date`"
   ]
  },
  {
   "cell_type": "markdown",
   "metadata": {},
   "source": [
    "### Вывод\n",
    "\n",
    "- Пропусков в данных практически нет. Только даты прекращения пользования тарифом, но это связано с тем, что он действовал на момент выгрузки данных.\n",
    "- В одной из таблиц сохранился дублирующий индекс столбец, который требуется удалить"
   ]
  },
  {
   "cell_type": "markdown",
   "metadata": {},
   "source": [
    "## Предобработка данных"
   ]
  },
  {
   "cell_type": "markdown",
   "metadata": {},
   "source": [
    "Для начала уберем дублирующий индекс столбец в `internet`"
   ]
  },
  {
   "cell_type": "code",
   "execution_count": 8,
   "metadata": {},
   "outputs": [
    {
     "data": {
      "text/html": [
       "<div>\n",
       "<style scoped>\n",
       "    .dataframe tbody tr th:only-of-type {\n",
       "        vertical-align: middle;\n",
       "    }\n",
       "\n",
       "    .dataframe tbody tr th {\n",
       "        vertical-align: top;\n",
       "    }\n",
       "\n",
       "    .dataframe thead th {\n",
       "        text-align: right;\n",
       "    }\n",
       "</style>\n",
       "<table border=\"1\" class=\"dataframe\">\n",
       "  <thead>\n",
       "    <tr style=\"text-align: right;\">\n",
       "      <th></th>\n",
       "      <th>id</th>\n",
       "      <th>mb_used</th>\n",
       "      <th>session_date</th>\n",
       "      <th>user_id</th>\n",
       "    </tr>\n",
       "  </thead>\n",
       "  <tbody>\n",
       "    <tr>\n",
       "      <th>0</th>\n",
       "      <td>1000_0</td>\n",
       "      <td>112.95</td>\n",
       "      <td>2018-11-25</td>\n",
       "      <td>1000</td>\n",
       "    </tr>\n",
       "    <tr>\n",
       "      <th>1</th>\n",
       "      <td>1000_1</td>\n",
       "      <td>1052.81</td>\n",
       "      <td>2018-09-07</td>\n",
       "      <td>1000</td>\n",
       "    </tr>\n",
       "    <tr>\n",
       "      <th>2</th>\n",
       "      <td>1000_2</td>\n",
       "      <td>1197.26</td>\n",
       "      <td>2018-06-25</td>\n",
       "      <td>1000</td>\n",
       "    </tr>\n",
       "    <tr>\n",
       "      <th>3</th>\n",
       "      <td>1000_3</td>\n",
       "      <td>550.27</td>\n",
       "      <td>2018-08-22</td>\n",
       "      <td>1000</td>\n",
       "    </tr>\n",
       "    <tr>\n",
       "      <th>4</th>\n",
       "      <td>1000_4</td>\n",
       "      <td>302.56</td>\n",
       "      <td>2018-09-24</td>\n",
       "      <td>1000</td>\n",
       "    </tr>\n",
       "  </tbody>\n",
       "</table>\n",
       "</div>"
      ],
      "text/plain": [
       "       id  mb_used session_date  user_id\n",
       "0  1000_0   112.95   2018-11-25     1000\n",
       "1  1000_1  1052.81   2018-09-07     1000\n",
       "2  1000_2  1197.26   2018-06-25     1000\n",
       "3  1000_3   550.27   2018-08-22     1000\n",
       "4  1000_4   302.56   2018-09-24     1000"
      ]
     },
     "execution_count": 8,
     "metadata": {},
     "output_type": "execute_result"
    }
   ],
   "source": [
    "internet.drop('Unnamed: 0', inplace=True, axis=1)\n",
    "internet.head()"
   ]
  },
  {
   "cell_type": "markdown",
   "metadata": {},
   "source": [
    "Далее приведем даты к соответствующему формату"
   ]
  },
  {
   "cell_type": "code",
   "execution_count": 9,
   "metadata": {},
   "outputs": [
    {
     "name": "stdout",
     "output_type": "stream",
     "text": [
      "<class 'pandas.core.frame.DataFrame'>\n",
      "RangeIndex: 202607 entries, 0 to 202606\n",
      "Data columns (total 4 columns):\n",
      " #   Column     Non-Null Count   Dtype         \n",
      "---  ------     --------------   -----         \n",
      " 0   id         202607 non-null  object        \n",
      " 1   call_date  202607 non-null  datetime64[ns]\n",
      " 2   duration   202607 non-null  float64       \n",
      " 3   user_id    202607 non-null  int64         \n",
      "dtypes: datetime64[ns](1), float64(1), int64(1), object(1)\n",
      "memory usage: 6.2+ MB\n"
     ]
    },
    {
     "data": {
      "text/html": [
       "<div>\n",
       "<style scoped>\n",
       "    .dataframe tbody tr th:only-of-type {\n",
       "        vertical-align: middle;\n",
       "    }\n",
       "\n",
       "    .dataframe tbody tr th {\n",
       "        vertical-align: top;\n",
       "    }\n",
       "\n",
       "    .dataframe thead th {\n",
       "        text-align: right;\n",
       "    }\n",
       "</style>\n",
       "<table border=\"1\" class=\"dataframe\">\n",
       "  <thead>\n",
       "    <tr style=\"text-align: right;\">\n",
       "      <th></th>\n",
       "      <th>id</th>\n",
       "      <th>call_date</th>\n",
       "      <th>duration</th>\n",
       "      <th>user_id</th>\n",
       "    </tr>\n",
       "  </thead>\n",
       "  <tbody>\n",
       "    <tr>\n",
       "      <th>0</th>\n",
       "      <td>1000_0</td>\n",
       "      <td>2018-07-25</td>\n",
       "      <td>0.00</td>\n",
       "      <td>1000</td>\n",
       "    </tr>\n",
       "    <tr>\n",
       "      <th>1</th>\n",
       "      <td>1000_1</td>\n",
       "      <td>2018-08-17</td>\n",
       "      <td>0.00</td>\n",
       "      <td>1000</td>\n",
       "    </tr>\n",
       "    <tr>\n",
       "      <th>2</th>\n",
       "      <td>1000_2</td>\n",
       "      <td>2018-06-11</td>\n",
       "      <td>2.85</td>\n",
       "      <td>1000</td>\n",
       "    </tr>\n",
       "    <tr>\n",
       "      <th>3</th>\n",
       "      <td>1000_3</td>\n",
       "      <td>2018-09-21</td>\n",
       "      <td>13.80</td>\n",
       "      <td>1000</td>\n",
       "    </tr>\n",
       "    <tr>\n",
       "      <th>4</th>\n",
       "      <td>1000_4</td>\n",
       "      <td>2018-12-15</td>\n",
       "      <td>5.18</td>\n",
       "      <td>1000</td>\n",
       "    </tr>\n",
       "  </tbody>\n",
       "</table>\n",
       "</div>"
      ],
      "text/plain": [
       "       id  call_date  duration  user_id\n",
       "0  1000_0 2018-07-25      0.00     1000\n",
       "1  1000_1 2018-08-17      0.00     1000\n",
       "2  1000_2 2018-06-11      2.85     1000\n",
       "3  1000_3 2018-09-21     13.80     1000\n",
       "4  1000_4 2018-12-15      5.18     1000"
      ]
     },
     "execution_count": 9,
     "metadata": {},
     "output_type": "execute_result"
    }
   ],
   "source": [
    "calls['call_date'] = pd.to_datetime(calls['call_date'], format='%Y-%m-%d')\n",
    "calls.info()\n",
    "calls.head()"
   ]
  },
  {
   "cell_type": "code",
   "execution_count": 10,
   "metadata": {},
   "outputs": [
    {
     "name": "stdout",
     "output_type": "stream",
     "text": [
      "<class 'pandas.core.frame.DataFrame'>\n",
      "RangeIndex: 149396 entries, 0 to 149395\n",
      "Data columns (total 4 columns):\n",
      " #   Column        Non-Null Count   Dtype         \n",
      "---  ------        --------------   -----         \n",
      " 0   id            149396 non-null  object        \n",
      " 1   mb_used       149396 non-null  float64       \n",
      " 2   session_date  149396 non-null  datetime64[ns]\n",
      " 3   user_id       149396 non-null  int64         \n",
      "dtypes: datetime64[ns](1), float64(1), int64(1), object(1)\n",
      "memory usage: 4.6+ MB\n"
     ]
    },
    {
     "data": {
      "text/html": [
       "<div>\n",
       "<style scoped>\n",
       "    .dataframe tbody tr th:only-of-type {\n",
       "        vertical-align: middle;\n",
       "    }\n",
       "\n",
       "    .dataframe tbody tr th {\n",
       "        vertical-align: top;\n",
       "    }\n",
       "\n",
       "    .dataframe thead th {\n",
       "        text-align: right;\n",
       "    }\n",
       "</style>\n",
       "<table border=\"1\" class=\"dataframe\">\n",
       "  <thead>\n",
       "    <tr style=\"text-align: right;\">\n",
       "      <th></th>\n",
       "      <th>id</th>\n",
       "      <th>mb_used</th>\n",
       "      <th>session_date</th>\n",
       "      <th>user_id</th>\n",
       "    </tr>\n",
       "  </thead>\n",
       "  <tbody>\n",
       "    <tr>\n",
       "      <th>0</th>\n",
       "      <td>1000_0</td>\n",
       "      <td>112.95</td>\n",
       "      <td>2018-11-25</td>\n",
       "      <td>1000</td>\n",
       "    </tr>\n",
       "    <tr>\n",
       "      <th>1</th>\n",
       "      <td>1000_1</td>\n",
       "      <td>1052.81</td>\n",
       "      <td>2018-09-07</td>\n",
       "      <td>1000</td>\n",
       "    </tr>\n",
       "    <tr>\n",
       "      <th>2</th>\n",
       "      <td>1000_2</td>\n",
       "      <td>1197.26</td>\n",
       "      <td>2018-06-25</td>\n",
       "      <td>1000</td>\n",
       "    </tr>\n",
       "    <tr>\n",
       "      <th>3</th>\n",
       "      <td>1000_3</td>\n",
       "      <td>550.27</td>\n",
       "      <td>2018-08-22</td>\n",
       "      <td>1000</td>\n",
       "    </tr>\n",
       "    <tr>\n",
       "      <th>4</th>\n",
       "      <td>1000_4</td>\n",
       "      <td>302.56</td>\n",
       "      <td>2018-09-24</td>\n",
       "      <td>1000</td>\n",
       "    </tr>\n",
       "  </tbody>\n",
       "</table>\n",
       "</div>"
      ],
      "text/plain": [
       "       id  mb_used session_date  user_id\n",
       "0  1000_0   112.95   2018-11-25     1000\n",
       "1  1000_1  1052.81   2018-09-07     1000\n",
       "2  1000_2  1197.26   2018-06-25     1000\n",
       "3  1000_3   550.27   2018-08-22     1000\n",
       "4  1000_4   302.56   2018-09-24     1000"
      ]
     },
     "execution_count": 10,
     "metadata": {},
     "output_type": "execute_result"
    }
   ],
   "source": [
    "internet['session_date'] = pd.to_datetime(internet['session_date'], format='%Y-%m-%d')\n",
    "internet.info()\n",
    "internet.head()"
   ]
  },
  {
   "cell_type": "code",
   "execution_count": 11,
   "metadata": {},
   "outputs": [
    {
     "name": "stdout",
     "output_type": "stream",
     "text": [
      "<class 'pandas.core.frame.DataFrame'>\n",
      "RangeIndex: 123036 entries, 0 to 123035\n",
      "Data columns (total 3 columns):\n",
      " #   Column        Non-Null Count   Dtype         \n",
      "---  ------        --------------   -----         \n",
      " 0   id            123036 non-null  object        \n",
      " 1   message_date  123036 non-null  datetime64[ns]\n",
      " 2   user_id       123036 non-null  int64         \n",
      "dtypes: datetime64[ns](1), int64(1), object(1)\n",
      "memory usage: 2.8+ MB\n"
     ]
    },
    {
     "data": {
      "text/html": [
       "<div>\n",
       "<style scoped>\n",
       "    .dataframe tbody tr th:only-of-type {\n",
       "        vertical-align: middle;\n",
       "    }\n",
       "\n",
       "    .dataframe tbody tr th {\n",
       "        vertical-align: top;\n",
       "    }\n",
       "\n",
       "    .dataframe thead th {\n",
       "        text-align: right;\n",
       "    }\n",
       "</style>\n",
       "<table border=\"1\" class=\"dataframe\">\n",
       "  <thead>\n",
       "    <tr style=\"text-align: right;\">\n",
       "      <th></th>\n",
       "      <th>id</th>\n",
       "      <th>message_date</th>\n",
       "      <th>user_id</th>\n",
       "    </tr>\n",
       "  </thead>\n",
       "  <tbody>\n",
       "    <tr>\n",
       "      <th>0</th>\n",
       "      <td>1000_0</td>\n",
       "      <td>2018-06-27</td>\n",
       "      <td>1000</td>\n",
       "    </tr>\n",
       "    <tr>\n",
       "      <th>1</th>\n",
       "      <td>1000_1</td>\n",
       "      <td>2018-10-08</td>\n",
       "      <td>1000</td>\n",
       "    </tr>\n",
       "    <tr>\n",
       "      <th>2</th>\n",
       "      <td>1000_2</td>\n",
       "      <td>2018-08-04</td>\n",
       "      <td>1000</td>\n",
       "    </tr>\n",
       "    <tr>\n",
       "      <th>3</th>\n",
       "      <td>1000_3</td>\n",
       "      <td>2018-06-16</td>\n",
       "      <td>1000</td>\n",
       "    </tr>\n",
       "    <tr>\n",
       "      <th>4</th>\n",
       "      <td>1000_4</td>\n",
       "      <td>2018-12-05</td>\n",
       "      <td>1000</td>\n",
       "    </tr>\n",
       "  </tbody>\n",
       "</table>\n",
       "</div>"
      ],
      "text/plain": [
       "       id message_date  user_id\n",
       "0  1000_0   2018-06-27     1000\n",
       "1  1000_1   2018-10-08     1000\n",
       "2  1000_2   2018-08-04     1000\n",
       "3  1000_3   2018-06-16     1000\n",
       "4  1000_4   2018-12-05     1000"
      ]
     },
     "execution_count": 11,
     "metadata": {},
     "output_type": "execute_result"
    }
   ],
   "source": [
    "messages['message_date'] = pd.to_datetime(messages['message_date'], format='%Y-%m-%d')\n",
    "messages.info()\n",
    "messages.head()"
   ]
  },
  {
   "cell_type": "code",
   "execution_count": 12,
   "metadata": {
    "scrolled": false
   },
   "outputs": [
    {
     "name": "stdout",
     "output_type": "stream",
     "text": [
      "<class 'pandas.core.frame.DataFrame'>\n",
      "RangeIndex: 500 entries, 0 to 499\n",
      "Data columns (total 8 columns):\n",
      " #   Column      Non-Null Count  Dtype \n",
      "---  ------      --------------  ----- \n",
      " 0   user_id     500 non-null    int64 \n",
      " 1   age         500 non-null    int64 \n",
      " 2   churn_date  38 non-null     object\n",
      " 3   city        500 non-null    object\n",
      " 4   first_name  500 non-null    object\n",
      " 5   last_name   500 non-null    object\n",
      " 6   reg_date    500 non-null    object\n",
      " 7   tariff      500 non-null    object\n",
      "dtypes: int64(2), object(6)\n",
      "memory usage: 31.4+ KB\n"
     ]
    },
    {
     "data": {
      "text/html": [
       "<div>\n",
       "<style scoped>\n",
       "    .dataframe tbody tr th:only-of-type {\n",
       "        vertical-align: middle;\n",
       "    }\n",
       "\n",
       "    .dataframe tbody tr th {\n",
       "        vertical-align: top;\n",
       "    }\n",
       "\n",
       "    .dataframe thead th {\n",
       "        text-align: right;\n",
       "    }\n",
       "</style>\n",
       "<table border=\"1\" class=\"dataframe\">\n",
       "  <thead>\n",
       "    <tr style=\"text-align: right;\">\n",
       "      <th></th>\n",
       "      <th>user_id</th>\n",
       "      <th>age</th>\n",
       "      <th>churn_date</th>\n",
       "      <th>city</th>\n",
       "      <th>first_name</th>\n",
       "      <th>last_name</th>\n",
       "      <th>reg_date</th>\n",
       "      <th>tariff</th>\n",
       "    </tr>\n",
       "  </thead>\n",
       "  <tbody>\n",
       "    <tr>\n",
       "      <th>0</th>\n",
       "      <td>1000</td>\n",
       "      <td>52</td>\n",
       "      <td>NaN</td>\n",
       "      <td>Краснодар</td>\n",
       "      <td>Рафаил</td>\n",
       "      <td>Верещагин</td>\n",
       "      <td>2018-05-25</td>\n",
       "      <td>ultra</td>\n",
       "    </tr>\n",
       "    <tr>\n",
       "      <th>1</th>\n",
       "      <td>1001</td>\n",
       "      <td>41</td>\n",
       "      <td>NaN</td>\n",
       "      <td>Москва</td>\n",
       "      <td>Иван</td>\n",
       "      <td>Ежов</td>\n",
       "      <td>2018-11-01</td>\n",
       "      <td>smart</td>\n",
       "    </tr>\n",
       "    <tr>\n",
       "      <th>2</th>\n",
       "      <td>1002</td>\n",
       "      <td>59</td>\n",
       "      <td>NaN</td>\n",
       "      <td>Стерлитамак</td>\n",
       "      <td>Евгений</td>\n",
       "      <td>Абрамович</td>\n",
       "      <td>2018-06-17</td>\n",
       "      <td>smart</td>\n",
       "    </tr>\n",
       "    <tr>\n",
       "      <th>3</th>\n",
       "      <td>1003</td>\n",
       "      <td>23</td>\n",
       "      <td>NaN</td>\n",
       "      <td>Москва</td>\n",
       "      <td>Белла</td>\n",
       "      <td>Белякова</td>\n",
       "      <td>2018-08-17</td>\n",
       "      <td>ultra</td>\n",
       "    </tr>\n",
       "    <tr>\n",
       "      <th>4</th>\n",
       "      <td>1004</td>\n",
       "      <td>68</td>\n",
       "      <td>NaN</td>\n",
       "      <td>Новокузнецк</td>\n",
       "      <td>Татьяна</td>\n",
       "      <td>Авдеенко</td>\n",
       "      <td>2018-05-14</td>\n",
       "      <td>ultra</td>\n",
       "    </tr>\n",
       "  </tbody>\n",
       "</table>\n",
       "</div>"
      ],
      "text/plain": [
       "   user_id  age churn_date         city first_name  last_name    reg_date  \\\n",
       "0     1000   52        NaN    Краснодар     Рафаил  Верещагин  2018-05-25   \n",
       "1     1001   41        NaN       Москва       Иван       Ежов  2018-11-01   \n",
       "2     1002   59        NaN  Стерлитамак    Евгений  Абрамович  2018-06-17   \n",
       "3     1003   23        NaN       Москва      Белла   Белякова  2018-08-17   \n",
       "4     1004   68        NaN  Новокузнецк    Татьяна   Авдеенко  2018-05-14   \n",
       "\n",
       "  tariff  \n",
       "0  ultra  \n",
       "1  smart  \n",
       "2  smart  \n",
       "3  ultra  \n",
       "4  ultra  "
      ]
     },
     "execution_count": 12,
     "metadata": {},
     "output_type": "execute_result"
    }
   ],
   "source": [
    "users.info()\n",
    "users.head()"
   ]
  },
  {
   "cell_type": "code",
   "execution_count": 13,
   "metadata": {
    "scrolled": false
   },
   "outputs": [
    {
     "name": "stdout",
     "output_type": "stream",
     "text": [
      "<class 'pandas.core.frame.DataFrame'>\n",
      "RangeIndex: 500 entries, 0 to 499\n",
      "Data columns (total 8 columns):\n",
      " #   Column      Non-Null Count  Dtype         \n",
      "---  ------      --------------  -----         \n",
      " 0   user_id     500 non-null    int64         \n",
      " 1   age         500 non-null    int64         \n",
      " 2   churn_date  38 non-null     datetime64[ns]\n",
      " 3   city        500 non-null    object        \n",
      " 4   first_name  500 non-null    object        \n",
      " 5   last_name   500 non-null    object        \n",
      " 6   reg_date    500 non-null    datetime64[ns]\n",
      " 7   tariff      500 non-null    object        \n",
      "dtypes: datetime64[ns](2), int64(2), object(4)\n",
      "memory usage: 31.4+ KB\n"
     ]
    },
    {
     "data": {
      "text/html": [
       "<div>\n",
       "<style scoped>\n",
       "    .dataframe tbody tr th:only-of-type {\n",
       "        vertical-align: middle;\n",
       "    }\n",
       "\n",
       "    .dataframe tbody tr th {\n",
       "        vertical-align: top;\n",
       "    }\n",
       "\n",
       "    .dataframe thead th {\n",
       "        text-align: right;\n",
       "    }\n",
       "</style>\n",
       "<table border=\"1\" class=\"dataframe\">\n",
       "  <thead>\n",
       "    <tr style=\"text-align: right;\">\n",
       "      <th></th>\n",
       "      <th>user_id</th>\n",
       "      <th>age</th>\n",
       "      <th>churn_date</th>\n",
       "      <th>city</th>\n",
       "      <th>first_name</th>\n",
       "      <th>last_name</th>\n",
       "      <th>reg_date</th>\n",
       "      <th>tariff</th>\n",
       "    </tr>\n",
       "  </thead>\n",
       "  <tbody>\n",
       "    <tr>\n",
       "      <th>0</th>\n",
       "      <td>1000</td>\n",
       "      <td>52</td>\n",
       "      <td>NaT</td>\n",
       "      <td>Краснодар</td>\n",
       "      <td>Рафаил</td>\n",
       "      <td>Верещагин</td>\n",
       "      <td>2018-05-25</td>\n",
       "      <td>ultra</td>\n",
       "    </tr>\n",
       "    <tr>\n",
       "      <th>1</th>\n",
       "      <td>1001</td>\n",
       "      <td>41</td>\n",
       "      <td>NaT</td>\n",
       "      <td>Москва</td>\n",
       "      <td>Иван</td>\n",
       "      <td>Ежов</td>\n",
       "      <td>2018-11-01</td>\n",
       "      <td>smart</td>\n",
       "    </tr>\n",
       "    <tr>\n",
       "      <th>2</th>\n",
       "      <td>1002</td>\n",
       "      <td>59</td>\n",
       "      <td>NaT</td>\n",
       "      <td>Стерлитамак</td>\n",
       "      <td>Евгений</td>\n",
       "      <td>Абрамович</td>\n",
       "      <td>2018-06-17</td>\n",
       "      <td>smart</td>\n",
       "    </tr>\n",
       "    <tr>\n",
       "      <th>3</th>\n",
       "      <td>1003</td>\n",
       "      <td>23</td>\n",
       "      <td>NaT</td>\n",
       "      <td>Москва</td>\n",
       "      <td>Белла</td>\n",
       "      <td>Белякова</td>\n",
       "      <td>2018-08-17</td>\n",
       "      <td>ultra</td>\n",
       "    </tr>\n",
       "    <tr>\n",
       "      <th>4</th>\n",
       "      <td>1004</td>\n",
       "      <td>68</td>\n",
       "      <td>NaT</td>\n",
       "      <td>Новокузнецк</td>\n",
       "      <td>Татьяна</td>\n",
       "      <td>Авдеенко</td>\n",
       "      <td>2018-05-14</td>\n",
       "      <td>ultra</td>\n",
       "    </tr>\n",
       "  </tbody>\n",
       "</table>\n",
       "</div>"
      ],
      "text/plain": [
       "   user_id  age churn_date         city first_name  last_name   reg_date  \\\n",
       "0     1000   52        NaT    Краснодар     Рафаил  Верещагин 2018-05-25   \n",
       "1     1001   41        NaT       Москва       Иван       Ежов 2018-11-01   \n",
       "2     1002   59        NaT  Стерлитамак    Евгений  Абрамович 2018-06-17   \n",
       "3     1003   23        NaT       Москва      Белла   Белякова 2018-08-17   \n",
       "4     1004   68        NaT  Новокузнецк    Татьяна   Авдеенко 2018-05-14   \n",
       "\n",
       "  tariff  \n",
       "0  ultra  \n",
       "1  smart  \n",
       "2  smart  \n",
       "3  ultra  \n",
       "4  ultra  "
      ]
     },
     "execution_count": 13,
     "metadata": {},
     "output_type": "execute_result"
    }
   ],
   "source": [
    "users['reg_date'] = pd.to_datetime(users['reg_date'], format='%Y-%m-%d')\n",
    "users['churn_date'] = pd.to_datetime(users['churn_date'], format='%Y-%m-%d')\n",
    "users.info()\n",
    "users.head()"
   ]
  },
  {
   "cell_type": "markdown",
   "metadata": {},
   "source": [
    "Также переименуем столбец с названиями тарифов в `tariffs` для удобства последующего объединения"
   ]
  },
  {
   "cell_type": "code",
   "execution_count": 14,
   "metadata": {},
   "outputs": [
    {
     "data": {
      "text/plain": [
       "Index(['messages_included', 'mb_per_month_included', 'minutes_included',\n",
       "       'rub_monthly_fee', 'rub_per_gb', 'rub_per_message', 'rub_per_minute',\n",
       "       'tariff'],\n",
       "      dtype='object')"
      ]
     },
     "execution_count": 14,
     "metadata": {},
     "output_type": "execute_result"
    }
   ],
   "source": [
    "tariffs.rename({'tariff_name':'tariff'}, axis='columns', inplace=True)\n",
    "tariffs.columns"
   ]
  },
  {
   "cell_type": "markdown",
   "metadata": {},
   "source": [
    "### Подробный обзор данных\n",
    "#### Calls"
   ]
  },
  {
   "cell_type": "code",
   "execution_count": 15,
   "metadata": {
    "scrolled": false
   },
   "outputs": [
    {
     "name": "stdout",
     "output_type": "stream",
     "text": [
      "<class 'pandas.core.frame.DataFrame'>\n",
      "RangeIndex: 202607 entries, 0 to 202606\n",
      "Data columns (total 4 columns):\n",
      " #   Column     Non-Null Count   Dtype         \n",
      "---  ------     --------------   -----         \n",
      " 0   id         202607 non-null  object        \n",
      " 1   call_date  202607 non-null  datetime64[ns]\n",
      " 2   duration   202607 non-null  float64       \n",
      " 3   user_id    202607 non-null  int64         \n",
      "dtypes: datetime64[ns](1), float64(1), int64(1), object(1)\n",
      "memory usage: 6.2+ MB\n"
     ]
    },
    {
     "data": {
      "text/html": [
       "<div>\n",
       "<style scoped>\n",
       "    .dataframe tbody tr th:only-of-type {\n",
       "        vertical-align: middle;\n",
       "    }\n",
       "\n",
       "    .dataframe tbody tr th {\n",
       "        vertical-align: top;\n",
       "    }\n",
       "\n",
       "    .dataframe thead th {\n",
       "        text-align: right;\n",
       "    }\n",
       "</style>\n",
       "<table border=\"1\" class=\"dataframe\">\n",
       "  <thead>\n",
       "    <tr style=\"text-align: right;\">\n",
       "      <th></th>\n",
       "      <th>id</th>\n",
       "      <th>call_date</th>\n",
       "      <th>duration</th>\n",
       "      <th>user_id</th>\n",
       "    </tr>\n",
       "  </thead>\n",
       "  <tbody>\n",
       "    <tr>\n",
       "      <th>0</th>\n",
       "      <td>1000_0</td>\n",
       "      <td>2018-07-25</td>\n",
       "      <td>0.00</td>\n",
       "      <td>1000</td>\n",
       "    </tr>\n",
       "    <tr>\n",
       "      <th>1</th>\n",
       "      <td>1000_1</td>\n",
       "      <td>2018-08-17</td>\n",
       "      <td>0.00</td>\n",
       "      <td>1000</td>\n",
       "    </tr>\n",
       "    <tr>\n",
       "      <th>2</th>\n",
       "      <td>1000_2</td>\n",
       "      <td>2018-06-11</td>\n",
       "      <td>2.85</td>\n",
       "      <td>1000</td>\n",
       "    </tr>\n",
       "    <tr>\n",
       "      <th>3</th>\n",
       "      <td>1000_3</td>\n",
       "      <td>2018-09-21</td>\n",
       "      <td>13.80</td>\n",
       "      <td>1000</td>\n",
       "    </tr>\n",
       "    <tr>\n",
       "      <th>4</th>\n",
       "      <td>1000_4</td>\n",
       "      <td>2018-12-15</td>\n",
       "      <td>5.18</td>\n",
       "      <td>1000</td>\n",
       "    </tr>\n",
       "  </tbody>\n",
       "</table>\n",
       "</div>"
      ],
      "text/plain": [
       "       id  call_date  duration  user_id\n",
       "0  1000_0 2018-07-25      0.00     1000\n",
       "1  1000_1 2018-08-17      0.00     1000\n",
       "2  1000_2 2018-06-11      2.85     1000\n",
       "3  1000_3 2018-09-21     13.80     1000\n",
       "4  1000_4 2018-12-15      5.18     1000"
      ]
     },
     "execution_count": 15,
     "metadata": {},
     "output_type": "execute_result"
    }
   ],
   "source": [
    "calls.info()\n",
    "calls.head()"
   ]
  },
  {
   "cell_type": "code",
   "execution_count": 16,
   "metadata": {},
   "outputs": [
    {
     "data": {
      "text/plain": [
       "array([1], dtype=int64)"
      ]
     },
     "execution_count": 16,
     "metadata": {},
     "output_type": "execute_result"
    }
   ],
   "source": [
    "calls['id'].value_counts().unique()"
   ]
  },
  {
   "cell_type": "code",
   "execution_count": 17,
   "metadata": {},
   "outputs": [
    {
     "data": {
      "text/plain": [
       "<AxesSubplot:>"
      ]
     },
     "execution_count": 17,
     "metadata": {},
     "output_type": "execute_result"
    },
    {
     "data": {
      "image/png": "[encoded data removed]",
      "text/plain": [
       "<Figure size 1900x1000 with 1 Axes>"
      ]
     },
     "metadata": {},
     "output_type": "display_data"
    }
   ],
   "source": [
    "calls['duration'].hist(bins=50)"
   ]
  },
  {
   "cell_type": "markdown",
   "metadata": {},
   "source": [
    "Как мы помним, в выгрузке присутствуют звонки с продолжительностью 0с. Для гистограммы возьмем срез `>0`"
   ]
  },
  {
   "cell_type": "code",
   "execution_count": 18,
   "metadata": {},
   "outputs": [
    {
     "data": {
      "text/plain": [
       "<AxesSubplot:>"
      ]
     },
     "execution_count": 18,
     "metadata": {},
     "output_type": "execute_result"
    },
    {
     "data": {
      "image/png": "[encoded data removed]",
      "text/plain": [
       "<Figure size 1900x1000 with 1 Axes>"
      ]
     },
     "metadata": {},
     "output_type": "display_data"
    }
   ],
   "source": [
    "calls[calls['duration']>0]['duration'].hist(bins=50)"
   ]
  },
  {
   "cell_type": "code",
   "execution_count": 19,
   "metadata": {
    "scrolled": false
   },
   "outputs": [
    {
     "data": {
      "text/plain": [
       "<AxesSubplot:>"
      ]
     },
     "execution_count": 19,
     "metadata": {},
     "output_type": "execute_result"
    },
    {
     "data": {
      "image/png": "[encoded data removed]",
      "text/plain": [
       "<Figure size 1900x1000 with 1 Axes>"
      ]
     },
     "metadata": {},
     "output_type": "display_data"
    }
   ],
   "source": [
    "calls['call_date'].hist(bins=50)"
   ]
  },
  {
   "cell_type": "markdown",
   "metadata": {},
   "source": [
    "#### Internet"
   ]
  },
  {
   "cell_type": "code",
   "execution_count": 20,
   "metadata": {},
   "outputs": [
    {
     "name": "stdout",
     "output_type": "stream",
     "text": [
      "<class 'pandas.core.frame.DataFrame'>\n",
      "RangeIndex: 149396 entries, 0 to 149395\n",
      "Data columns (total 4 columns):\n",
      " #   Column        Non-Null Count   Dtype         \n",
      "---  ------        --------------   -----         \n",
      " 0   id            149396 non-null  object        \n",
      " 1   mb_used       149396 non-null  float64       \n",
      " 2   session_date  149396 non-null  datetime64[ns]\n",
      " 3   user_id       149396 non-null  int64         \n",
      "dtypes: datetime64[ns](1), float64(1), int64(1), object(1)\n",
      "memory usage: 4.6+ MB\n"
     ]
    },
    {
     "data": {
      "text/html": [
       "<div>\n",
       "<style scoped>\n",
       "    .dataframe tbody tr th:only-of-type {\n",
       "        vertical-align: middle;\n",
       "    }\n",
       "\n",
       "    .dataframe tbody tr th {\n",
       "        vertical-align: top;\n",
       "    }\n",
       "\n",
       "    .dataframe thead th {\n",
       "        text-align: right;\n",
       "    }\n",
       "</style>\n",
       "<table border=\"1\" class=\"dataframe\">\n",
       "  <thead>\n",
       "    <tr style=\"text-align: right;\">\n",
       "      <th></th>\n",
       "      <th>id</th>\n",
       "      <th>mb_used</th>\n",
       "      <th>session_date</th>\n",
       "      <th>user_id</th>\n",
       "    </tr>\n",
       "  </thead>\n",
       "  <tbody>\n",
       "    <tr>\n",
       "      <th>0</th>\n",
       "      <td>1000_0</td>\n",
       "      <td>112.95</td>\n",
       "      <td>2018-11-25</td>\n",
       "      <td>1000</td>\n",
       "    </tr>\n",
       "    <tr>\n",
       "      <th>1</th>\n",
       "      <td>1000_1</td>\n",
       "      <td>1052.81</td>\n",
       "      <td>2018-09-07</td>\n",
       "      <td>1000</td>\n",
       "    </tr>\n",
       "    <tr>\n",
       "      <th>2</th>\n",
       "      <td>1000_2</td>\n",
       "      <td>1197.26</td>\n",
       "      <td>2018-06-25</td>\n",
       "      <td>1000</td>\n",
       "    </tr>\n",
       "    <tr>\n",
       "      <th>3</th>\n",
       "      <td>1000_3</td>\n",
       "      <td>550.27</td>\n",
       "      <td>2018-08-22</td>\n",
       "      <td>1000</td>\n",
       "    </tr>\n",
       "    <tr>\n",
       "      <th>4</th>\n",
       "      <td>1000_4</td>\n",
       "      <td>302.56</td>\n",
       "      <td>2018-09-24</td>\n",
       "      <td>1000</td>\n",
       "    </tr>\n",
       "  </tbody>\n",
       "</table>\n",
       "</div>"
      ],
      "text/plain": [
       "       id  mb_used session_date  user_id\n",
       "0  1000_0   112.95   2018-11-25     1000\n",
       "1  1000_1  1052.81   2018-09-07     1000\n",
       "2  1000_2  1197.26   2018-06-25     1000\n",
       "3  1000_3   550.27   2018-08-22     1000\n",
       "4  1000_4   302.56   2018-09-24     1000"
      ]
     },
     "execution_count": 20,
     "metadata": {},
     "output_type": "execute_result"
    }
   ],
   "source": [
    "internet.info()\n",
    "internet.head()"
   ]
  },
  {
   "cell_type": "code",
   "execution_count": 21,
   "metadata": {},
   "outputs": [
    {
     "data": {
      "text/plain": [
       "<AxesSubplot:>"
      ]
     },
     "execution_count": 21,
     "metadata": {},
     "output_type": "execute_result"
    },
    {
     "data": {
      "image/png": "[encoded data removed]",
      "text/plain": [
       "<Figure size 1900x1000 with 1 Axes>"
      ]
     },
     "metadata": {},
     "output_type": "display_data"
    }
   ],
   "source": [
    "internet['mb_used'].hist(bins=50)"
   ]
  },
  {
   "cell_type": "markdown",
   "metadata": {},
   "source": [
    "По аналогии берем условие `>0` не забывая, что есть люди, которые интернетом не пользовались"
   ]
  },
  {
   "cell_type": "code",
   "execution_count": 22,
   "metadata": {},
   "outputs": [
    {
     "data": {
      "text/plain": [
       "<AxesSubplot:>"
      ]
     },
     "execution_count": 22,
     "metadata": {},
     "output_type": "execute_result"
    },
    {
     "data": {
      "image/png": "[encoded data removed]",
      "text/plain": [
       "<Figure size 1900x1000 with 1 Axes>"
      ]
     },
     "metadata": {},
     "output_type": "display_data"
    }
   ],
   "source": [
    "internet[internet['mb_used']>0]['mb_used'].hist(bins=50)"
   ]
  },
  {
   "cell_type": "code",
   "execution_count": 23,
   "metadata": {},
   "outputs": [
    {
     "data": {
      "text/plain": [
       "<AxesSubplot:>"
      ]
     },
     "execution_count": 23,
     "metadata": {},
     "output_type": "execute_result"
    },
    {
     "data": {
      "image/png": "[encoded data removed]",
      "text/plain": [
       "<Figure size 1900x1000 with 1 Axes>"
      ]
     },
     "metadata": {},
     "output_type": "display_data"
    }
   ],
   "source": [
    "internet['session_date'].hist(bins=50)"
   ]
  },
  {
   "cell_type": "markdown",
   "metadata": {},
   "source": [
    "#### Messages"
   ]
  },
  {
   "cell_type": "code",
   "execution_count": 24,
   "metadata": {},
   "outputs": [
    {
     "name": "stdout",
     "output_type": "stream",
     "text": [
      "<class 'pandas.core.frame.DataFrame'>\n",
      "RangeIndex: 123036 entries, 0 to 123035\n",
      "Data columns (total 3 columns):\n",
      " #   Column        Non-Null Count   Dtype         \n",
      "---  ------        --------------   -----         \n",
      " 0   id            123036 non-null  object        \n",
      " 1   message_date  123036 non-null  datetime64[ns]\n",
      " 2   user_id       123036 non-null  int64         \n",
      "dtypes: datetime64[ns](1), int64(1), object(1)\n",
      "memory usage: 2.8+ MB\n"
     ]
    },
    {
     "data": {
      "text/html": [
       "<div>\n",
       "<style scoped>\n",
       "    .dataframe tbody tr th:only-of-type {\n",
       "        vertical-align: middle;\n",
       "    }\n",
       "\n",
       "    .dataframe tbody tr th {\n",
       "        vertical-align: top;\n",
       "    }\n",
       "\n",
       "    .dataframe thead th {\n",
       "        text-align: right;\n",
       "    }\n",
       "</style>\n",
       "<table border=\"1\" class=\"dataframe\">\n",
       "  <thead>\n",
       "    <tr style=\"text-align: right;\">\n",
       "      <th></th>\n",
       "      <th>id</th>\n",
       "      <th>message_date</th>\n",
       "      <th>user_id</th>\n",
       "    </tr>\n",
       "  </thead>\n",
       "  <tbody>\n",
       "    <tr>\n",
       "      <th>0</th>\n",
       "      <td>1000_0</td>\n",
       "      <td>2018-06-27</td>\n",
       "      <td>1000</td>\n",
       "    </tr>\n",
       "    <tr>\n",
       "      <th>1</th>\n",
       "      <td>1000_1</td>\n",
       "      <td>2018-10-08</td>\n",
       "      <td>1000</td>\n",
       "    </tr>\n",
       "    <tr>\n",
       "      <th>2</th>\n",
       "      <td>1000_2</td>\n",
       "      <td>2018-08-04</td>\n",
       "      <td>1000</td>\n",
       "    </tr>\n",
       "    <tr>\n",
       "      <th>3</th>\n",
       "      <td>1000_3</td>\n",
       "      <td>2018-06-16</td>\n",
       "      <td>1000</td>\n",
       "    </tr>\n",
       "    <tr>\n",
       "      <th>4</th>\n",
       "      <td>1000_4</td>\n",
       "      <td>2018-12-05</td>\n",
       "      <td>1000</td>\n",
       "    </tr>\n",
       "  </tbody>\n",
       "</table>\n",
       "</div>"
      ],
      "text/plain": [
       "       id message_date  user_id\n",
       "0  1000_0   2018-06-27     1000\n",
       "1  1000_1   2018-10-08     1000\n",
       "2  1000_2   2018-08-04     1000\n",
       "3  1000_3   2018-06-16     1000\n",
       "4  1000_4   2018-12-05     1000"
      ]
     },
     "execution_count": 24,
     "metadata": {},
     "output_type": "execute_result"
    }
   ],
   "source": [
    "messages.info()\n",
    "messages.head()"
   ]
  },
  {
   "cell_type": "code",
   "execution_count": 25,
   "metadata": {},
   "outputs": [
    {
     "data": {
      "text/plain": [
       "<AxesSubplot:>"
      ]
     },
     "execution_count": 25,
     "metadata": {},
     "output_type": "execute_result"
    },
    {
     "data": {
      "image/png": "[encoded data removed]",
      "text/plain": [
       "<Figure size 1900x1000 with 1 Axes>"
      ]
     },
     "metadata": {},
     "output_type": "display_data"
    }
   ],
   "source": [
    "messages['message_date'].hist(bins=50)"
   ]
  },
  {
   "cell_type": "markdown",
   "metadata": {},
   "source": [
    "#### Users"
   ]
  },
  {
   "cell_type": "code",
   "execution_count": 26,
   "metadata": {},
   "outputs": [
    {
     "name": "stdout",
     "output_type": "stream",
     "text": [
      "<class 'pandas.core.frame.DataFrame'>\n",
      "RangeIndex: 500 entries, 0 to 499\n",
      "Data columns (total 8 columns):\n",
      " #   Column      Non-Null Count  Dtype         \n",
      "---  ------      --------------  -----         \n",
      " 0   user_id     500 non-null    int64         \n",
      " 1   age         500 non-null    int64         \n",
      " 2   churn_date  38 non-null     datetime64[ns]\n",
      " 3   city        500 non-null    object        \n",
      " 4   first_name  500 non-null    object        \n",
      " 5   last_name   500 non-null    object        \n",
      " 6   reg_date    500 non-null    datetime64[ns]\n",
      " 7   tariff      500 non-null    object        \n",
      "dtypes: datetime64[ns](2), int64(2), object(4)\n",
      "memory usage: 31.4+ KB\n"
     ]
    },
    {
     "data": {
      "text/html": [
       "<div>\n",
       "<style scoped>\n",
       "    .dataframe tbody tr th:only-of-type {\n",
       "        vertical-align: middle;\n",
       "    }\n",
       "\n",
       "    .dataframe tbody tr th {\n",
       "        vertical-align: top;\n",
       "    }\n",
       "\n",
       "    .dataframe thead th {\n",
       "        text-align: right;\n",
       "    }\n",
       "</style>\n",
       "<table border=\"1\" class=\"dataframe\">\n",
       "  <thead>\n",
       "    <tr style=\"text-align: right;\">\n",
       "      <th></th>\n",
       "      <th>user_id</th>\n",
       "      <th>age</th>\n",
       "      <th>churn_date</th>\n",
       "      <th>city</th>\n",
       "      <th>first_name</th>\n",
       "      <th>last_name</th>\n",
       "      <th>reg_date</th>\n",
       "      <th>tariff</th>\n",
       "    </tr>\n",
       "  </thead>\n",
       "  <tbody>\n",
       "    <tr>\n",
       "      <th>0</th>\n",
       "      <td>1000</td>\n",
       "      <td>52</td>\n",
       "      <td>NaT</td>\n",
       "      <td>Краснодар</td>\n",
       "      <td>Рафаил</td>\n",
       "      <td>Верещагин</td>\n",
       "      <td>2018-05-25</td>\n",
       "      <td>ultra</td>\n",
       "    </tr>\n",
       "    <tr>\n",
       "      <th>1</th>\n",
       "      <td>1001</td>\n",
       "      <td>41</td>\n",
       "      <td>NaT</td>\n",
       "      <td>Москва</td>\n",
       "      <td>Иван</td>\n",
       "      <td>Ежов</td>\n",
       "      <td>2018-11-01</td>\n",
       "      <td>smart</td>\n",
       "    </tr>\n",
       "    <tr>\n",
       "      <th>2</th>\n",
       "      <td>1002</td>\n",
       "      <td>59</td>\n",
       "      <td>NaT</td>\n",
       "      <td>Стерлитамак</td>\n",
       "      <td>Евгений</td>\n",
       "      <td>Абрамович</td>\n",
       "      <td>2018-06-17</td>\n",
       "      <td>smart</td>\n",
       "    </tr>\n",
       "    <tr>\n",
       "      <th>3</th>\n",
       "      <td>1003</td>\n",
       "      <td>23</td>\n",
       "      <td>NaT</td>\n",
       "      <td>Москва</td>\n",
       "      <td>Белла</td>\n",
       "      <td>Белякова</td>\n",
       "      <td>2018-08-17</td>\n",
       "      <td>ultra</td>\n",
       "    </tr>\n",
       "    <tr>\n",
       "      <th>4</th>\n",
       "      <td>1004</td>\n",
       "      <td>68</td>\n",
       "      <td>NaT</td>\n",
       "      <td>Новокузнецк</td>\n",
       "      <td>Татьяна</td>\n",
       "      <td>Авдеенко</td>\n",
       "      <td>2018-05-14</td>\n",
       "      <td>ultra</td>\n",
       "    </tr>\n",
       "  </tbody>\n",
       "</table>\n",
       "</div>"
      ],
      "text/plain": [
       "   user_id  age churn_date         city first_name  last_name   reg_date  \\\n",
       "0     1000   52        NaT    Краснодар     Рафаил  Верещагин 2018-05-25   \n",
       "1     1001   41        NaT       Москва       Иван       Ежов 2018-11-01   \n",
       "2     1002   59        NaT  Стерлитамак    Евгений  Абрамович 2018-06-17   \n",
       "3     1003   23        NaT       Москва      Белла   Белякова 2018-08-17   \n",
       "4     1004   68        NaT  Новокузнецк    Татьяна   Авдеенко 2018-05-14   \n",
       "\n",
       "  tariff  \n",
       "0  ultra  \n",
       "1  smart  \n",
       "2  smart  \n",
       "3  ultra  \n",
       "4  ultra  "
      ]
     },
     "execution_count": 26,
     "metadata": {},
     "output_type": "execute_result"
    }
   ],
   "source": [
    "users.info()\n",
    "users.head()"
   ]
  },
  {
   "cell_type": "code",
   "execution_count": 27,
   "metadata": {},
   "outputs": [
    {
     "data": {
      "text/plain": [
       "array([18, 19, 20, 21, 22, 23, 24, 25, 26, 27, 28, 29, 30, 31, 32, 33, 34, 35, 36, 37, 38, 39, 40, 41, 42,\n",
       "       43, 44, 45, 46, 47, 48, 49, 50, 51, 52, 53, 54, 55, 56, 57, 58, 59, 60, 61, 62, 63, 64, 65, 66, 67,\n",
       "       68, 69, 70, 71, 72, 73, 74, 75], dtype=int64)"
      ]
     },
     "execution_count": 27,
     "metadata": {},
     "output_type": "execute_result"
    }
   ],
   "source": [
    "users['age'].sort_values().unique()"
   ]
  },
  {
   "cell_type": "code",
   "execution_count": 28,
   "metadata": {},
   "outputs": [
    {
     "data": {
      "text/plain": [
       "Москва             99\n",
       "Санкт-Петербург    39\n",
       "Новосибирск        16\n",
       "Омск               14\n",
       "Казань             14\n",
       "                   ..\n",
       "Иваново             1\n",
       "Нижневартовск       1\n",
       "Подольск            1\n",
       "Архангельск         1\n",
       "Химки               1\n",
       "Name: city, Length: 76, dtype: int64"
      ]
     },
     "execution_count": 28,
     "metadata": {},
     "output_type": "execute_result"
    }
   ],
   "source": [
    "users['city'].value_counts()"
   ]
  },
  {
   "cell_type": "code",
   "execution_count": 29,
   "metadata": {},
   "outputs": [
    {
     "data": {
      "text/plain": [
       "<AxesSubplot:>"
      ]
     },
     "execution_count": 29,
     "metadata": {},
     "output_type": "execute_result"
    },
    {
     "data": {
      "image/png": "[encoded data removed]",
      "text/plain": [
       "<Figure size 1900x1000 with 1 Axes>"
      ]
     },
     "metadata": {},
     "output_type": "display_data"
    }
   ],
   "source": [
    "users['reg_date'].hist(bins=50)"
   ]
  },
  {
   "cell_type": "code",
   "execution_count": 30,
   "metadata": {
    "scrolled": false
   },
   "outputs": [
    {
     "data": {
      "text/plain": [
       "smart    351\n",
       "ultra    149\n",
       "Name: tariff, dtype: int64"
      ]
     },
     "execution_count": 30,
     "metadata": {},
     "output_type": "execute_result"
    }
   ],
   "source": [
    "users['tariff'].value_counts()"
   ]
  },
  {
   "cell_type": "markdown",
   "metadata": {},
   "source": [
    "#### Вывод\n",
    "\n",
    "- Разбиение по тарифам ultra/smart 149/351\n",
    "- Распределение по использованию тарифов пользователями напоминают нормальные без учета выбросов вызванных большим количеством людей, которые не пользовались какой-либо услугой либо пользовались очень мало."
   ]
  },
  {
   "cell_type": "markdown",
   "metadata": {},
   "source": [
    "## Подготовка данных"
   ]
  },
  {
   "cell_type": "markdown",
   "metadata": {},
   "source": [
    "Создадим сводные таблицы по использованию траффика, звонков и смс пользователями по месяцам. \n",
    "\n",
    "Для этого выделим столбец не с полной датой, а с конкретным месяцем. Чтобы сохранить при этом формат заменим даты на первое число месяца, когда совершалось действие (совершен звонок, отправлено сообщение или интернет-сессия)"
   ]
  },
  {
   "cell_type": "code",
   "execution_count": 31,
   "metadata": {
    "scrolled": true
   },
   "outputs": [
    {
     "data": {
      "text/html": [
       "<div>\n",
       "<style scoped>\n",
       "    .dataframe tbody tr th:only-of-type {\n",
       "        vertical-align: middle;\n",
       "    }\n",
       "\n",
       "    .dataframe tbody tr th {\n",
       "        vertical-align: top;\n",
       "    }\n",
       "\n",
       "    .dataframe thead th {\n",
       "        text-align: right;\n",
       "    }\n",
       "</style>\n",
       "<table border=\"1\" class=\"dataframe\">\n",
       "  <thead>\n",
       "    <tr style=\"text-align: right;\">\n",
       "      <th></th>\n",
       "      <th>id</th>\n",
       "      <th>call_date</th>\n",
       "      <th>duration</th>\n",
       "      <th>user_id</th>\n",
       "      <th>month</th>\n",
       "    </tr>\n",
       "  </thead>\n",
       "  <tbody>\n",
       "    <tr>\n",
       "      <th>0</th>\n",
       "      <td>1000_0</td>\n",
       "      <td>2018-07-25</td>\n",
       "      <td>0.00</td>\n",
       "      <td>1000</td>\n",
       "      <td>2018-07-01</td>\n",
       "    </tr>\n",
       "    <tr>\n",
       "      <th>1</th>\n",
       "      <td>1000_1</td>\n",
       "      <td>2018-08-17</td>\n",
       "      <td>0.00</td>\n",
       "      <td>1000</td>\n",
       "      <td>2018-08-01</td>\n",
       "    </tr>\n",
       "    <tr>\n",
       "      <th>2</th>\n",
       "      <td>1000_2</td>\n",
       "      <td>2018-06-11</td>\n",
       "      <td>2.85</td>\n",
       "      <td>1000</td>\n",
       "      <td>2018-06-01</td>\n",
       "    </tr>\n",
       "    <tr>\n",
       "      <th>3</th>\n",
       "      <td>1000_3</td>\n",
       "      <td>2018-09-21</td>\n",
       "      <td>13.80</td>\n",
       "      <td>1000</td>\n",
       "      <td>2018-09-01</td>\n",
       "    </tr>\n",
       "    <tr>\n",
       "      <th>4</th>\n",
       "      <td>1000_4</td>\n",
       "      <td>2018-12-15</td>\n",
       "      <td>5.18</td>\n",
       "      <td>1000</td>\n",
       "      <td>2018-12-01</td>\n",
       "    </tr>\n",
       "  </tbody>\n",
       "</table>\n",
       "</div>"
      ],
      "text/plain": [
       "       id  call_date  duration  user_id      month\n",
       "0  1000_0 2018-07-25      0.00     1000 2018-07-01\n",
       "1  1000_1 2018-08-17      0.00     1000 2018-08-01\n",
       "2  1000_2 2018-06-11      2.85     1000 2018-06-01\n",
       "3  1000_3 2018-09-21     13.80     1000 2018-09-01\n",
       "4  1000_4 2018-12-15      5.18     1000 2018-12-01"
      ]
     },
     "execution_count": 31,
     "metadata": {},
     "output_type": "execute_result"
    }
   ],
   "source": [
    "calls['month'] = calls['call_date'].to_numpy().astype('datetime64[M]')\n",
    "calls.head()"
   ]
  },
  {
   "cell_type": "code",
   "execution_count": 32,
   "metadata": {},
   "outputs": [
    {
     "data": {
      "text/html": [
       "<div>\n",
       "<style scoped>\n",
       "    .dataframe tbody tr th:only-of-type {\n",
       "        vertical-align: middle;\n",
       "    }\n",
       "\n",
       "    .dataframe tbody tr th {\n",
       "        vertical-align: top;\n",
       "    }\n",
       "\n",
       "    .dataframe thead th {\n",
       "        text-align: right;\n",
       "    }\n",
       "</style>\n",
       "<table border=\"1\" class=\"dataframe\">\n",
       "  <thead>\n",
       "    <tr style=\"text-align: right;\">\n",
       "      <th></th>\n",
       "      <th>id</th>\n",
       "      <th>mb_used</th>\n",
       "      <th>session_date</th>\n",
       "      <th>user_id</th>\n",
       "      <th>month</th>\n",
       "    </tr>\n",
       "  </thead>\n",
       "  <tbody>\n",
       "    <tr>\n",
       "      <th>0</th>\n",
       "      <td>1000_0</td>\n",
       "      <td>112.95</td>\n",
       "      <td>2018-11-25</td>\n",
       "      <td>1000</td>\n",
       "      <td>2018-11-01</td>\n",
       "    </tr>\n",
       "    <tr>\n",
       "      <th>1</th>\n",
       "      <td>1000_1</td>\n",
       "      <td>1052.81</td>\n",
       "      <td>2018-09-07</td>\n",
       "      <td>1000</td>\n",
       "      <td>2018-09-01</td>\n",
       "    </tr>\n",
       "    <tr>\n",
       "      <th>2</th>\n",
       "      <td>1000_2</td>\n",
       "      <td>1197.26</td>\n",
       "      <td>2018-06-25</td>\n",
       "      <td>1000</td>\n",
       "      <td>2018-06-01</td>\n",
       "    </tr>\n",
       "    <tr>\n",
       "      <th>3</th>\n",
       "      <td>1000_3</td>\n",
       "      <td>550.27</td>\n",
       "      <td>2018-08-22</td>\n",
       "      <td>1000</td>\n",
       "      <td>2018-08-01</td>\n",
       "    </tr>\n",
       "    <tr>\n",
       "      <th>4</th>\n",
       "      <td>1000_4</td>\n",
       "      <td>302.56</td>\n",
       "      <td>2018-09-24</td>\n",
       "      <td>1000</td>\n",
       "      <td>2018-09-01</td>\n",
       "    </tr>\n",
       "  </tbody>\n",
       "</table>\n",
       "</div>"
      ],
      "text/plain": [
       "       id  mb_used session_date  user_id      month\n",
       "0  1000_0   112.95   2018-11-25     1000 2018-11-01\n",
       "1  1000_1  1052.81   2018-09-07     1000 2018-09-01\n",
       "2  1000_2  1197.26   2018-06-25     1000 2018-06-01\n",
       "3  1000_3   550.27   2018-08-22     1000 2018-08-01\n",
       "4  1000_4   302.56   2018-09-24     1000 2018-09-01"
      ]
     },
     "execution_count": 32,
     "metadata": {},
     "output_type": "execute_result"
    }
   ],
   "source": [
    "internet['month'] = internet['session_date'].to_numpy().astype('datetime64[M]')\n",
    "internet.head()"
   ]
  },
  {
   "cell_type": "code",
   "execution_count": 33,
   "metadata": {
    "scrolled": false
   },
   "outputs": [
    {
     "data": {
      "text/html": [
       "<div>\n",
       "<style scoped>\n",
       "    .dataframe tbody tr th:only-of-type {\n",
       "        vertical-align: middle;\n",
       "    }\n",
       "\n",
       "    .dataframe tbody tr th {\n",
       "        vertical-align: top;\n",
       "    }\n",
       "\n",
       "    .dataframe thead th {\n",
       "        text-align: right;\n",
       "    }\n",
       "</style>\n",
       "<table border=\"1\" class=\"dataframe\">\n",
       "  <thead>\n",
       "    <tr style=\"text-align: right;\">\n",
       "      <th></th>\n",
       "      <th>id</th>\n",
       "      <th>message_date</th>\n",
       "      <th>user_id</th>\n",
       "      <th>month</th>\n",
       "    </tr>\n",
       "  </thead>\n",
       "  <tbody>\n",
       "    <tr>\n",
       "      <th>0</th>\n",
       "      <td>1000_0</td>\n",
       "      <td>2018-06-27</td>\n",
       "      <td>1000</td>\n",
       "      <td>2018-06-01</td>\n",
       "    </tr>\n",
       "    <tr>\n",
       "      <th>1</th>\n",
       "      <td>1000_1</td>\n",
       "      <td>2018-10-08</td>\n",
       "      <td>1000</td>\n",
       "      <td>2018-10-01</td>\n",
       "    </tr>\n",
       "    <tr>\n",
       "      <th>2</th>\n",
       "      <td>1000_2</td>\n",
       "      <td>2018-08-04</td>\n",
       "      <td>1000</td>\n",
       "      <td>2018-08-01</td>\n",
       "    </tr>\n",
       "    <tr>\n",
       "      <th>3</th>\n",
       "      <td>1000_3</td>\n",
       "      <td>2018-06-16</td>\n",
       "      <td>1000</td>\n",
       "      <td>2018-06-01</td>\n",
       "    </tr>\n",
       "    <tr>\n",
       "      <th>4</th>\n",
       "      <td>1000_4</td>\n",
       "      <td>2018-12-05</td>\n",
       "      <td>1000</td>\n",
       "      <td>2018-12-01</td>\n",
       "    </tr>\n",
       "  </tbody>\n",
       "</table>\n",
       "</div>"
      ],
      "text/plain": [
       "       id message_date  user_id      month\n",
       "0  1000_0   2018-06-27     1000 2018-06-01\n",
       "1  1000_1   2018-10-08     1000 2018-10-01\n",
       "2  1000_2   2018-08-04     1000 2018-08-01\n",
       "3  1000_3   2018-06-16     1000 2018-06-01\n",
       "4  1000_4   2018-12-05     1000 2018-12-01"
      ]
     },
     "execution_count": 33,
     "metadata": {},
     "output_type": "execute_result"
    }
   ],
   "source": [
    "messages['month'] = messages['message_date'].to_numpy().astype('datetime64[M]')\n",
    "messages.head()"
   ]
  },
  {
   "cell_type": "markdown",
   "metadata": {},
   "source": [
    "Далее сводим промежуточные таблицы и добавляем столбцы с целыми гигабайтами и минутами для дальнейших расчетов"
   ]
  },
  {
   "cell_type": "markdown",
   "metadata": {},
   "source": [
    "Перед подсчетом длительности звонков округлим длительности отдельных звонков до минут в соответствии с правилами тарифа."
   ]
  },
  {
   "cell_type": "code",
   "execution_count": 34,
   "metadata": {
    "scrolled": true
   },
   "outputs": [
    {
     "data": {
      "text/html": [
       "<div>\n",
       "<style scoped>\n",
       "    .dataframe tbody tr th:only-of-type {\n",
       "        vertical-align: middle;\n",
       "    }\n",
       "\n",
       "    .dataframe tbody tr th {\n",
       "        vertical-align: top;\n",
       "    }\n",
       "\n",
       "    .dataframe thead th {\n",
       "        text-align: right;\n",
       "    }\n",
       "</style>\n",
       "<table border=\"1\" class=\"dataframe\">\n",
       "  <thead>\n",
       "    <tr style=\"text-align: right;\">\n",
       "      <th></th>\n",
       "      <th></th>\n",
       "      <th>count</th>\n",
       "      <th>sum</th>\n",
       "    </tr>\n",
       "    <tr>\n",
       "      <th>user_id</th>\n",
       "      <th>month</th>\n",
       "      <th></th>\n",
       "      <th></th>\n",
       "    </tr>\n",
       "  </thead>\n",
       "  <tbody>\n",
       "    <tr>\n",
       "      <th rowspan=\"5\" valign=\"top\">1000</th>\n",
       "      <th>2018-05-01</th>\n",
       "      <td>22</td>\n",
       "      <td>159.0</td>\n",
       "    </tr>\n",
       "    <tr>\n",
       "      <th>2018-06-01</th>\n",
       "      <td>43</td>\n",
       "      <td>172.0</td>\n",
       "    </tr>\n",
       "    <tr>\n",
       "      <th>2018-07-01</th>\n",
       "      <td>47</td>\n",
       "      <td>340.0</td>\n",
       "    </tr>\n",
       "    <tr>\n",
       "      <th>2018-08-01</th>\n",
       "      <td>52</td>\n",
       "      <td>408.0</td>\n",
       "    </tr>\n",
       "    <tr>\n",
       "      <th>2018-09-01</th>\n",
       "      <td>58</td>\n",
       "      <td>466.0</td>\n",
       "    </tr>\n",
       "  </tbody>\n",
       "</table>\n",
       "</div>"
      ],
      "text/plain": [
       "                    count    sum\n",
       "user_id month                   \n",
       "1000    2018-05-01     22  159.0\n",
       "        2018-06-01     43  172.0\n",
       "        2018-07-01     47  340.0\n",
       "        2018-08-01     52  408.0\n",
       "        2018-09-01     58  466.0"
      ]
     },
     "execution_count": 34,
     "metadata": {},
     "output_type": "execute_result"
    }
   ],
   "source": [
    "calls['duration'] = calls['duration'].apply((np.ceil))\n",
    "calls_agg = calls.groupby(['user_id','month'])['duration'].agg(['count','sum'])\n",
    "calls_agg.head()"
   ]
  },
  {
   "cell_type": "code",
   "execution_count": 35,
   "metadata": {},
   "outputs": [
    {
     "data": {
      "text/html": [
       "<div>\n",
       "<style scoped>\n",
       "    .dataframe tbody tr th:only-of-type {\n",
       "        vertical-align: middle;\n",
       "    }\n",
       "\n",
       "    .dataframe tbody tr th {\n",
       "        vertical-align: top;\n",
       "    }\n",
       "\n",
       "    .dataframe thead th {\n",
       "        text-align: right;\n",
       "    }\n",
       "</style>\n",
       "<table border=\"1\" class=\"dataframe\">\n",
       "  <thead>\n",
       "    <tr style=\"text-align: right;\">\n",
       "      <th></th>\n",
       "      <th></th>\n",
       "      <th>calls_count</th>\n",
       "      <th>calls_sum</th>\n",
       "    </tr>\n",
       "    <tr>\n",
       "      <th>user_id</th>\n",
       "      <th>month</th>\n",
       "      <th></th>\n",
       "      <th></th>\n",
       "    </tr>\n",
       "  </thead>\n",
       "  <tbody>\n",
       "    <tr>\n",
       "      <th rowspan=\"5\" valign=\"top\">1000</th>\n",
       "      <th>2018-05-01</th>\n",
       "      <td>22</td>\n",
       "      <td>159</td>\n",
       "    </tr>\n",
       "    <tr>\n",
       "      <th>2018-06-01</th>\n",
       "      <td>43</td>\n",
       "      <td>172</td>\n",
       "    </tr>\n",
       "    <tr>\n",
       "      <th>2018-07-01</th>\n",
       "      <td>47</td>\n",
       "      <td>340</td>\n",
       "    </tr>\n",
       "    <tr>\n",
       "      <th>2018-08-01</th>\n",
       "      <td>52</td>\n",
       "      <td>408</td>\n",
       "    </tr>\n",
       "    <tr>\n",
       "      <th>2018-09-01</th>\n",
       "      <td>58</td>\n",
       "      <td>466</td>\n",
       "    </tr>\n",
       "  </tbody>\n",
       "</table>\n",
       "</div>"
      ],
      "text/plain": [
       "                    calls_count  calls_sum\n",
       "user_id month                             \n",
       "1000    2018-05-01           22        159\n",
       "        2018-06-01           43        172\n",
       "        2018-07-01           47        340\n",
       "        2018-08-01           52        408\n",
       "        2018-09-01           58        466"
      ]
     },
     "execution_count": 35,
     "metadata": {},
     "output_type": "execute_result"
    }
   ],
   "source": [
    "calls_agg.rename({'count':'calls_count',\n",
    "                  'sum':'calls_sum'},\n",
    "                 axis=1,\n",
    "                 inplace=True)\n",
    "calls_agg['calls_sum'] = np.ceil(calls_agg['calls_sum']).astype('int32')\n",
    "calls_agg.head()"
   ]
  },
  {
   "cell_type": "code",
   "execution_count": 36,
   "metadata": {
    "scrolled": true
   },
   "outputs": [
    {
     "data": {
      "text/html": [
       "<div>\n",
       "<style scoped>\n",
       "    .dataframe tbody tr th:only-of-type {\n",
       "        vertical-align: middle;\n",
       "    }\n",
       "\n",
       "    .dataframe tbody tr th {\n",
       "        vertical-align: top;\n",
       "    }\n",
       "\n",
       "    .dataframe thead th {\n",
       "        text-align: right;\n",
       "    }\n",
       "</style>\n",
       "<table border=\"1\" class=\"dataframe\">\n",
       "  <thead>\n",
       "    <tr style=\"text-align: right;\">\n",
       "      <th></th>\n",
       "      <th></th>\n",
       "      <th>count</th>\n",
       "      <th>sum</th>\n",
       "    </tr>\n",
       "    <tr>\n",
       "      <th>user_id</th>\n",
       "      <th>month</th>\n",
       "      <th></th>\n",
       "      <th></th>\n",
       "    </tr>\n",
       "  </thead>\n",
       "  <tbody>\n",
       "    <tr>\n",
       "      <th rowspan=\"5\" valign=\"top\">1000</th>\n",
       "      <th>2018-05-01</th>\n",
       "      <td>5</td>\n",
       "      <td>2253.49</td>\n",
       "    </tr>\n",
       "    <tr>\n",
       "      <th>2018-06-01</th>\n",
       "      <td>49</td>\n",
       "      <td>23233.77</td>\n",
       "    </tr>\n",
       "    <tr>\n",
       "      <th>2018-07-01</th>\n",
       "      <td>29</td>\n",
       "      <td>14003.64</td>\n",
       "    </tr>\n",
       "    <tr>\n",
       "      <th>2018-08-01</th>\n",
       "      <td>29</td>\n",
       "      <td>14055.93</td>\n",
       "    </tr>\n",
       "    <tr>\n",
       "      <th>2018-09-01</th>\n",
       "      <td>27</td>\n",
       "      <td>14568.91</td>\n",
       "    </tr>\n",
       "  </tbody>\n",
       "</table>\n",
       "</div>"
      ],
      "text/plain": [
       "                    count       sum\n",
       "user_id month                      \n",
       "1000    2018-05-01      5   2253.49\n",
       "        2018-06-01     49  23233.77\n",
       "        2018-07-01     29  14003.64\n",
       "        2018-08-01     29  14055.93\n",
       "        2018-09-01     27  14568.91"
      ]
     },
     "execution_count": 36,
     "metadata": {},
     "output_type": "execute_result"
    }
   ],
   "source": [
    "internet_agg = internet.groupby(['user_id','month'])['mb_used'].agg(['count','sum'])\n",
    "internet_agg.head()"
   ]
  },
  {
   "cell_type": "code",
   "execution_count": 37,
   "metadata": {
    "scrolled": true
   },
   "outputs": [
    {
     "data": {
      "text/html": [
       "<div>\n",
       "<style scoped>\n",
       "    .dataframe tbody tr th:only-of-type {\n",
       "        vertical-align: middle;\n",
       "    }\n",
       "\n",
       "    .dataframe tbody tr th {\n",
       "        vertical-align: top;\n",
       "    }\n",
       "\n",
       "    .dataframe thead th {\n",
       "        text-align: right;\n",
       "    }\n",
       "</style>\n",
       "<table border=\"1\" class=\"dataframe\">\n",
       "  <thead>\n",
       "    <tr style=\"text-align: right;\">\n",
       "      <th></th>\n",
       "      <th></th>\n",
       "      <th>internet_count</th>\n",
       "      <th>internet_sum</th>\n",
       "    </tr>\n",
       "    <tr>\n",
       "      <th>user_id</th>\n",
       "      <th>month</th>\n",
       "      <th></th>\n",
       "      <th></th>\n",
       "    </tr>\n",
       "  </thead>\n",
       "  <tbody>\n",
       "    <tr>\n",
       "      <th rowspan=\"5\" valign=\"top\">1000</th>\n",
       "      <th>2018-05-01</th>\n",
       "      <td>5</td>\n",
       "      <td>3</td>\n",
       "    </tr>\n",
       "    <tr>\n",
       "      <th>2018-06-01</th>\n",
       "      <td>49</td>\n",
       "      <td>23</td>\n",
       "    </tr>\n",
       "    <tr>\n",
       "      <th>2018-07-01</th>\n",
       "      <td>29</td>\n",
       "      <td>14</td>\n",
       "    </tr>\n",
       "    <tr>\n",
       "      <th>2018-08-01</th>\n",
       "      <td>29</td>\n",
       "      <td>14</td>\n",
       "    </tr>\n",
       "    <tr>\n",
       "      <th>2018-09-01</th>\n",
       "      <td>27</td>\n",
       "      <td>15</td>\n",
       "    </tr>\n",
       "  </tbody>\n",
       "</table>\n",
       "</div>"
      ],
      "text/plain": [
       "                    internet_count  internet_sum\n",
       "user_id month                                   \n",
       "1000    2018-05-01               5             3\n",
       "        2018-06-01              49            23\n",
       "        2018-07-01              29            14\n",
       "        2018-08-01              29            14\n",
       "        2018-09-01              27            15"
      ]
     },
     "execution_count": 37,
     "metadata": {},
     "output_type": "execute_result"
    }
   ],
   "source": [
    "internet_agg.rename({'count':'internet_count',\n",
    "                  'sum':'internet_sum'},\n",
    "                 axis=1,\n",
    "                 inplace=True)\n",
    "internet_agg['internet_sum'] = np.ceil(internet_agg['internet_sum']/1024).astype('int32')\n",
    "internet_agg.head()"
   ]
  },
  {
   "cell_type": "code",
   "execution_count": 38,
   "metadata": {
    "scrolled": false
   },
   "outputs": [
    {
     "data": {
      "text/html": [
       "<div>\n",
       "<style scoped>\n",
       "    .dataframe tbody tr th:only-of-type {\n",
       "        vertical-align: middle;\n",
       "    }\n",
       "\n",
       "    .dataframe tbody tr th {\n",
       "        vertical-align: top;\n",
       "    }\n",
       "\n",
       "    .dataframe thead th {\n",
       "        text-align: right;\n",
       "    }\n",
       "</style>\n",
       "<table border=\"1\" class=\"dataframe\">\n",
       "  <thead>\n",
       "    <tr style=\"text-align: right;\">\n",
       "      <th></th>\n",
       "      <th></th>\n",
       "      <th>id</th>\n",
       "      <th>message_date</th>\n",
       "    </tr>\n",
       "    <tr>\n",
       "      <th>user_id</th>\n",
       "      <th>month</th>\n",
       "      <th></th>\n",
       "      <th></th>\n",
       "    </tr>\n",
       "  </thead>\n",
       "  <tbody>\n",
       "    <tr>\n",
       "      <th rowspan=\"5\" valign=\"top\">1000</th>\n",
       "      <th>2018-05-01</th>\n",
       "      <td>22</td>\n",
       "      <td>22</td>\n",
       "    </tr>\n",
       "    <tr>\n",
       "      <th>2018-06-01</th>\n",
       "      <td>60</td>\n",
       "      <td>60</td>\n",
       "    </tr>\n",
       "    <tr>\n",
       "      <th>2018-07-01</th>\n",
       "      <td>75</td>\n",
       "      <td>75</td>\n",
       "    </tr>\n",
       "    <tr>\n",
       "      <th>2018-08-01</th>\n",
       "      <td>81</td>\n",
       "      <td>81</td>\n",
       "    </tr>\n",
       "    <tr>\n",
       "      <th>2018-09-01</th>\n",
       "      <td>57</td>\n",
       "      <td>57</td>\n",
       "    </tr>\n",
       "  </tbody>\n",
       "</table>\n",
       "</div>"
      ],
      "text/plain": [
       "                    id  message_date\n",
       "user_id month                       \n",
       "1000    2018-05-01  22            22\n",
       "        2018-06-01  60            60\n",
       "        2018-07-01  75            75\n",
       "        2018-08-01  81            81\n",
       "        2018-09-01  57            57"
      ]
     },
     "execution_count": 38,
     "metadata": {},
     "output_type": "execute_result"
    }
   ],
   "source": [
    "messages_agg = (messages.\n",
    "                groupby(['user_id','month']).\n",
    "                agg('count')\n",
    "               )\n",
    "messages_agg.head()"
   ]
  },
  {
   "cell_type": "code",
   "execution_count": 39,
   "metadata": {
    "scrolled": true
   },
   "outputs": [
    {
     "data": {
      "text/html": [
       "<div>\n",
       "<style scoped>\n",
       "    .dataframe tbody tr th:only-of-type {\n",
       "        vertical-align: middle;\n",
       "    }\n",
       "\n",
       "    .dataframe tbody tr th {\n",
       "        vertical-align: top;\n",
       "    }\n",
       "\n",
       "    .dataframe thead th {\n",
       "        text-align: right;\n",
       "    }\n",
       "</style>\n",
       "<table border=\"1\" class=\"dataframe\">\n",
       "  <thead>\n",
       "    <tr style=\"text-align: right;\">\n",
       "      <th></th>\n",
       "      <th></th>\n",
       "      <th>message_count</th>\n",
       "    </tr>\n",
       "    <tr>\n",
       "      <th>user_id</th>\n",
       "      <th>month</th>\n",
       "      <th></th>\n",
       "    </tr>\n",
       "  </thead>\n",
       "  <tbody>\n",
       "    <tr>\n",
       "      <th rowspan=\"5\" valign=\"top\">1000</th>\n",
       "      <th>2018-05-01</th>\n",
       "      <td>22</td>\n",
       "    </tr>\n",
       "    <tr>\n",
       "      <th>2018-06-01</th>\n",
       "      <td>60</td>\n",
       "    </tr>\n",
       "    <tr>\n",
       "      <th>2018-07-01</th>\n",
       "      <td>75</td>\n",
       "    </tr>\n",
       "    <tr>\n",
       "      <th>2018-08-01</th>\n",
       "      <td>81</td>\n",
       "    </tr>\n",
       "    <tr>\n",
       "      <th>2018-09-01</th>\n",
       "      <td>57</td>\n",
       "    </tr>\n",
       "  </tbody>\n",
       "</table>\n",
       "</div>"
      ],
      "text/plain": [
       "                    message_count\n",
       "user_id month                    \n",
       "1000    2018-05-01             22\n",
       "        2018-06-01             60\n",
       "        2018-07-01             75\n",
       "        2018-08-01             81\n",
       "        2018-09-01             57"
      ]
     },
     "execution_count": 39,
     "metadata": {},
     "output_type": "execute_result"
    }
   ],
   "source": [
    "messages_agg.rename({'message_date':'message_count'}, axis=1, inplace=True)\n",
    "messages_agg.drop('id', axis=1, inplace=True)\n",
    "messages_agg.head()"
   ]
  },
  {
   "cell_type": "markdown",
   "metadata": {},
   "source": [
    "Выделим в `tariffs` столбец с целым количеством гигабайтов"
   ]
  },
  {
   "cell_type": "code",
   "execution_count": 40,
   "metadata": {},
   "outputs": [
    {
     "data": {
      "text/html": [
       "<div>\n",
       "<style scoped>\n",
       "    .dataframe tbody tr th:only-of-type {\n",
       "        vertical-align: middle;\n",
       "    }\n",
       "\n",
       "    .dataframe tbody tr th {\n",
       "        vertical-align: top;\n",
       "    }\n",
       "\n",
       "    .dataframe thead th {\n",
       "        text-align: right;\n",
       "    }\n",
       "</style>\n",
       "<table border=\"1\" class=\"dataframe\">\n",
       "  <thead>\n",
       "    <tr style=\"text-align: right;\">\n",
       "      <th></th>\n",
       "      <th>messages_included</th>\n",
       "      <th>mb_per_month_included</th>\n",
       "      <th>minutes_included</th>\n",
       "      <th>rub_monthly_fee</th>\n",
       "      <th>rub_per_gb</th>\n",
       "      <th>rub_per_message</th>\n",
       "      <th>rub_per_minute</th>\n",
       "      <th>tariff</th>\n",
       "      <th>gb_per_month_included</th>\n",
       "    </tr>\n",
       "  </thead>\n",
       "  <tbody>\n",
       "    <tr>\n",
       "      <th>0</th>\n",
       "      <td>50</td>\n",
       "      <td>15360</td>\n",
       "      <td>500</td>\n",
       "      <td>550</td>\n",
       "      <td>200</td>\n",
       "      <td>3</td>\n",
       "      <td>3</td>\n",
       "      <td>smart</td>\n",
       "      <td>15</td>\n",
       "    </tr>\n",
       "    <tr>\n",
       "      <th>1</th>\n",
       "      <td>1000</td>\n",
       "      <td>30720</td>\n",
       "      <td>3000</td>\n",
       "      <td>1950</td>\n",
       "      <td>150</td>\n",
       "      <td>1</td>\n",
       "      <td>1</td>\n",
       "      <td>ultra</td>\n",
       "      <td>30</td>\n",
       "    </tr>\n",
       "  </tbody>\n",
       "</table>\n",
       "</div>"
      ],
      "text/plain": [
       "   messages_included  mb_per_month_included  minutes_included  \\\n",
       "0                 50                  15360               500   \n",
       "1               1000                  30720              3000   \n",
       "\n",
       "   rub_monthly_fee  rub_per_gb  rub_per_message  rub_per_minute tariff  \\\n",
       "0              550         200                3               3  smart   \n",
       "1             1950         150                1               1  ultra   \n",
       "\n",
       "   gb_per_month_included  \n",
       "0                     15  \n",
       "1                     30  "
      ]
     },
     "execution_count": 40,
     "metadata": {},
     "output_type": "execute_result"
    }
   ],
   "source": [
    "tariffs['gb_per_month_included'] = (tariffs['mb_per_month_included'] / 1024).astype('int32')\n",
    "tariffs"
   ]
  },
  {
   "cell_type": "markdown",
   "metadata": {},
   "source": [
    "Объединяем таблицы по индексам"
   ]
  },
  {
   "cell_type": "code",
   "execution_count": 41,
   "metadata": {},
   "outputs": [
    {
     "data": {
      "text/html": [
       "<div>\n",
       "<style scoped>\n",
       "    .dataframe tbody tr th:only-of-type {\n",
       "        vertical-align: middle;\n",
       "    }\n",
       "\n",
       "    .dataframe tbody tr th {\n",
       "        vertical-align: top;\n",
       "    }\n",
       "\n",
       "    .dataframe thead th {\n",
       "        text-align: right;\n",
       "    }\n",
       "</style>\n",
       "<table border=\"1\" class=\"dataframe\">\n",
       "  <thead>\n",
       "    <tr style=\"text-align: right;\">\n",
       "      <th></th>\n",
       "      <th>user_id</th>\n",
       "      <th>month</th>\n",
       "      <th>calls_count</th>\n",
       "      <th>calls_sum</th>\n",
       "      <th>internet_count</th>\n",
       "      <th>internet_sum</th>\n",
       "      <th>message_count</th>\n",
       "    </tr>\n",
       "  </thead>\n",
       "  <tbody>\n",
       "    <tr>\n",
       "      <th>1977</th>\n",
       "      <td>1311</td>\n",
       "      <td>2018-12-01</td>\n",
       "      <td>42.0</td>\n",
       "      <td>300.0</td>\n",
       "      <td>50.0</td>\n",
       "      <td>16.0</td>\n",
       "      <td>76.0</td>\n",
       "    </tr>\n",
       "    <tr>\n",
       "      <th>1722</th>\n",
       "      <td>1273</td>\n",
       "      <td>2018-05-01</td>\n",
       "      <td>24.0</td>\n",
       "      <td>220.0</td>\n",
       "      <td>NaN</td>\n",
       "      <td>NaN</td>\n",
       "      <td>21.0</td>\n",
       "    </tr>\n",
       "    <tr>\n",
       "      <th>478</th>\n",
       "      <td>1076</td>\n",
       "      <td>2018-07-01</td>\n",
       "      <td>77.0</td>\n",
       "      <td>529.0</td>\n",
       "      <td>66.0</td>\n",
       "      <td>27.0</td>\n",
       "      <td>108.0</td>\n",
       "    </tr>\n",
       "    <tr>\n",
       "      <th>2423</th>\n",
       "      <td>1381</td>\n",
       "      <td>2018-01-01</td>\n",
       "      <td>59.0</td>\n",
       "      <td>382.0</td>\n",
       "      <td>33.0</td>\n",
       "      <td>15.0</td>\n",
       "      <td>32.0</td>\n",
       "    </tr>\n",
       "    <tr>\n",
       "      <th>2767</th>\n",
       "      <td>1430</td>\n",
       "      <td>2018-04-01</td>\n",
       "      <td>11.0</td>\n",
       "      <td>91.0</td>\n",
       "      <td>16.0</td>\n",
       "      <td>11.0</td>\n",
       "      <td>7.0</td>\n",
       "    </tr>\n",
       "    <tr>\n",
       "      <th>2703</th>\n",
       "      <td>1421</td>\n",
       "      <td>2018-12-01</td>\n",
       "      <td>40.0</td>\n",
       "      <td>335.0</td>\n",
       "      <td>55.0</td>\n",
       "      <td>15.0</td>\n",
       "      <td>36.0</td>\n",
       "    </tr>\n",
       "    <tr>\n",
       "      <th>2182</th>\n",
       "      <td>1344</td>\n",
       "      <td>2018-06-01</td>\n",
       "      <td>110.0</td>\n",
       "      <td>825.0</td>\n",
       "      <td>41.0</td>\n",
       "      <td>22.0</td>\n",
       "      <td>119.0</td>\n",
       "    </tr>\n",
       "    <tr>\n",
       "      <th>3036</th>\n",
       "      <td>1472</td>\n",
       "      <td>2018-04-01</td>\n",
       "      <td>87.0</td>\n",
       "      <td>590.0</td>\n",
       "      <td>59.0</td>\n",
       "      <td>18.0</td>\n",
       "      <td>60.0</td>\n",
       "    </tr>\n",
       "    <tr>\n",
       "      <th>1491</th>\n",
       "      <td>1233</td>\n",
       "      <td>2018-12-01</td>\n",
       "      <td>89.0</td>\n",
       "      <td>671.0</td>\n",
       "      <td>66.0</td>\n",
       "      <td>20.0</td>\n",
       "      <td>27.0</td>\n",
       "    </tr>\n",
       "    <tr>\n",
       "      <th>314</th>\n",
       "      <td>1050</td>\n",
       "      <td>2018-10-01</td>\n",
       "      <td>3.0</td>\n",
       "      <td>50.0</td>\n",
       "      <td>2.0</td>\n",
       "      <td>1.0</td>\n",
       "      <td>2.0</td>\n",
       "    </tr>\n",
       "  </tbody>\n",
       "</table>\n",
       "</div>"
      ],
      "text/plain": [
       "      user_id      month  calls_count  calls_sum  internet_count  \\\n",
       "1977     1311 2018-12-01         42.0      300.0            50.0   \n",
       "1722     1273 2018-05-01         24.0      220.0             NaN   \n",
       "478      1076 2018-07-01         77.0      529.0            66.0   \n",
       "2423     1381 2018-01-01         59.0      382.0            33.0   \n",
       "2767     1430 2018-04-01         11.0       91.0            16.0   \n",
       "2703     1421 2018-12-01         40.0      335.0            55.0   \n",
       "2182     1344 2018-06-01        110.0      825.0            41.0   \n",
       "3036     1472 2018-04-01         87.0      590.0            59.0   \n",
       "1491     1233 2018-12-01         89.0      671.0            66.0   \n",
       "314      1050 2018-10-01          3.0       50.0             2.0   \n",
       "\n",
       "      internet_sum  message_count  \n",
       "1977          16.0           76.0  \n",
       "1722           NaN           21.0  \n",
       "478           27.0          108.0  \n",
       "2423          15.0           32.0  \n",
       "2767          11.0            7.0  \n",
       "2703          15.0           36.0  \n",
       "2182          22.0          119.0  \n",
       "3036          18.0           60.0  \n",
       "1491          20.0           27.0  \n",
       "314            1.0            2.0  "
      ]
     },
     "execution_count": 41,
     "metadata": {},
     "output_type": "execute_result"
    }
   ],
   "source": [
    "df = calls_agg.join([internet_agg, messages_agg], how='outer')\n",
    "df = df.reset_index()\n",
    "df.sample(10, random_state=2007)"
   ]
  },
  {
   "cell_type": "markdown",
   "metadata": {},
   "source": [
    "Добавляем информацию по пользователям и расшифровку тарифа для дальнейшего использования"
   ]
  },
  {
   "cell_type": "code",
   "execution_count": 42,
   "metadata": {},
   "outputs": [
    {
     "data": {
      "text/html": [
       "<div>\n",
       "<style scoped>\n",
       "    .dataframe tbody tr th:only-of-type {\n",
       "        vertical-align: middle;\n",
       "    }\n",
       "\n",
       "    .dataframe tbody tr th {\n",
       "        vertical-align: top;\n",
       "    }\n",
       "\n",
       "    .dataframe thead th {\n",
       "        text-align: right;\n",
       "    }\n",
       "</style>\n",
       "<table border=\"1\" class=\"dataframe\">\n",
       "  <thead>\n",
       "    <tr style=\"text-align: right;\">\n",
       "      <th></th>\n",
       "      <th>user_id</th>\n",
       "      <th>month</th>\n",
       "      <th>calls_count</th>\n",
       "      <th>calls_sum</th>\n",
       "      <th>internet_count</th>\n",
       "      <th>internet_sum</th>\n",
       "      <th>message_count</th>\n",
       "      <th>age</th>\n",
       "      <th>churn_date</th>\n",
       "      <th>city</th>\n",
       "      <th>first_name</th>\n",
       "      <th>last_name</th>\n",
       "      <th>reg_date</th>\n",
       "      <th>tariff</th>\n",
       "      <th>messages_included</th>\n",
       "      <th>mb_per_month_included</th>\n",
       "      <th>minutes_included</th>\n",
       "      <th>rub_monthly_fee</th>\n",
       "      <th>rub_per_gb</th>\n",
       "      <th>rub_per_message</th>\n",
       "      <th>rub_per_minute</th>\n",
       "      <th>gb_per_month_included</th>\n",
       "    </tr>\n",
       "  </thead>\n",
       "  <tbody>\n",
       "    <tr>\n",
       "      <th>0</th>\n",
       "      <td>1000</td>\n",
       "      <td>2018-05-01</td>\n",
       "      <td>22.0</td>\n",
       "      <td>159.0</td>\n",
       "      <td>5.0</td>\n",
       "      <td>3.0</td>\n",
       "      <td>22.0</td>\n",
       "      <td>52</td>\n",
       "      <td>NaT</td>\n",
       "      <td>Краснодар</td>\n",
       "      <td>Рафаил</td>\n",
       "      <td>Верещагин</td>\n",
       "      <td>2018-05-25</td>\n",
       "      <td>ultra</td>\n",
       "      <td>1000</td>\n",
       "      <td>30720</td>\n",
       "      <td>3000</td>\n",
       "      <td>1950</td>\n",
       "      <td>150</td>\n",
       "      <td>1</td>\n",
       "      <td>1</td>\n",
       "      <td>30</td>\n",
       "    </tr>\n",
       "    <tr>\n",
       "      <th>1</th>\n",
       "      <td>1000</td>\n",
       "      <td>2018-06-01</td>\n",
       "      <td>43.0</td>\n",
       "      <td>172.0</td>\n",
       "      <td>49.0</td>\n",
       "      <td>23.0</td>\n",
       "      <td>60.0</td>\n",
       "      <td>52</td>\n",
       "      <td>NaT</td>\n",
       "      <td>Краснодар</td>\n",
       "      <td>Рафаил</td>\n",
       "      <td>Верещагин</td>\n",
       "      <td>2018-05-25</td>\n",
       "      <td>ultra</td>\n",
       "      <td>1000</td>\n",
       "      <td>30720</td>\n",
       "      <td>3000</td>\n",
       "      <td>1950</td>\n",
       "      <td>150</td>\n",
       "      <td>1</td>\n",
       "      <td>1</td>\n",
       "      <td>30</td>\n",
       "    </tr>\n",
       "    <tr>\n",
       "      <th>2</th>\n",
       "      <td>1000</td>\n",
       "      <td>2018-07-01</td>\n",
       "      <td>47.0</td>\n",
       "      <td>340.0</td>\n",
       "      <td>29.0</td>\n",
       "      <td>14.0</td>\n",
       "      <td>75.0</td>\n",
       "      <td>52</td>\n",
       "      <td>NaT</td>\n",
       "      <td>Краснодар</td>\n",
       "      <td>Рафаил</td>\n",
       "      <td>Верещагин</td>\n",
       "      <td>2018-05-25</td>\n",
       "      <td>ultra</td>\n",
       "      <td>1000</td>\n",
       "      <td>30720</td>\n",
       "      <td>3000</td>\n",
       "      <td>1950</td>\n",
       "      <td>150</td>\n",
       "      <td>1</td>\n",
       "      <td>1</td>\n",
       "      <td>30</td>\n",
       "    </tr>\n",
       "    <tr>\n",
       "      <th>3</th>\n",
       "      <td>1000</td>\n",
       "      <td>2018-08-01</td>\n",
       "      <td>52.0</td>\n",
       "      <td>408.0</td>\n",
       "      <td>29.0</td>\n",
       "      <td>14.0</td>\n",
       "      <td>81.0</td>\n",
       "      <td>52</td>\n",
       "      <td>NaT</td>\n",
       "      <td>Краснодар</td>\n",
       "      <td>Рафаил</td>\n",
       "      <td>Верещагин</td>\n",
       "      <td>2018-05-25</td>\n",
       "      <td>ultra</td>\n",
       "      <td>1000</td>\n",
       "      <td>30720</td>\n",
       "      <td>3000</td>\n",
       "      <td>1950</td>\n",
       "      <td>150</td>\n",
       "      <td>1</td>\n",
       "      <td>1</td>\n",
       "      <td>30</td>\n",
       "    </tr>\n",
       "    <tr>\n",
       "      <th>4</th>\n",
       "      <td>1000</td>\n",
       "      <td>2018-09-01</td>\n",
       "      <td>58.0</td>\n",
       "      <td>466.0</td>\n",
       "      <td>27.0</td>\n",
       "      <td>15.0</td>\n",
       "      <td>57.0</td>\n",
       "      <td>52</td>\n",
       "      <td>NaT</td>\n",
       "      <td>Краснодар</td>\n",
       "      <td>Рафаил</td>\n",
       "      <td>Верещагин</td>\n",
       "      <td>2018-05-25</td>\n",
       "      <td>ultra</td>\n",
       "      <td>1000</td>\n",
       "      <td>30720</td>\n",
       "      <td>3000</td>\n",
       "      <td>1950</td>\n",
       "      <td>150</td>\n",
       "      <td>1</td>\n",
       "      <td>1</td>\n",
       "      <td>30</td>\n",
       "    </tr>\n",
       "    <tr>\n",
       "      <th>...</th>\n",
       "      <td>...</td>\n",
       "      <td>...</td>\n",
       "      <td>...</td>\n",
       "      <td>...</td>\n",
       "      <td>...</td>\n",
       "      <td>...</td>\n",
       "      <td>...</td>\n",
       "      <td>...</td>\n",
       "      <td>...</td>\n",
       "      <td>...</td>\n",
       "      <td>...</td>\n",
       "      <td>...</td>\n",
       "      <td>...</td>\n",
       "      <td>...</td>\n",
       "      <td>...</td>\n",
       "      <td>...</td>\n",
       "      <td>...</td>\n",
       "      <td>...</td>\n",
       "      <td>...</td>\n",
       "      <td>...</td>\n",
       "      <td>...</td>\n",
       "      <td>...</td>\n",
       "    </tr>\n",
       "    <tr>\n",
       "      <th>3209</th>\n",
       "      <td>1498</td>\n",
       "      <td>2018-10-01</td>\n",
       "      <td>41.0</td>\n",
       "      <td>247.0</td>\n",
       "      <td>59.0</td>\n",
       "      <td>21.0</td>\n",
       "      <td>42.0</td>\n",
       "      <td>68</td>\n",
       "      <td>2018-10-25</td>\n",
       "      <td>Владикавказ</td>\n",
       "      <td>Всеволод</td>\n",
       "      <td>Акимчин</td>\n",
       "      <td>2018-07-19</td>\n",
       "      <td>smart</td>\n",
       "      <td>50</td>\n",
       "      <td>15360</td>\n",
       "      <td>500</td>\n",
       "      <td>550</td>\n",
       "      <td>200</td>\n",
       "      <td>3</td>\n",
       "      <td>3</td>\n",
       "      <td>15</td>\n",
       "    </tr>\n",
       "    <tr>\n",
       "      <th>3210</th>\n",
       "      <td>1499</td>\n",
       "      <td>2018-09-01</td>\n",
       "      <td>9.0</td>\n",
       "      <td>70.0</td>\n",
       "      <td>5.0</td>\n",
       "      <td>2.0</td>\n",
       "      <td>11.0</td>\n",
       "      <td>35</td>\n",
       "      <td>NaT</td>\n",
       "      <td>Пермь</td>\n",
       "      <td>Гектор</td>\n",
       "      <td>Корнилов</td>\n",
       "      <td>2018-09-27</td>\n",
       "      <td>smart</td>\n",
       "      <td>50</td>\n",
       "      <td>15360</td>\n",
       "      <td>500</td>\n",
       "      <td>550</td>\n",
       "      <td>200</td>\n",
       "      <td>3</td>\n",
       "      <td>3</td>\n",
       "      <td>15</td>\n",
       "    </tr>\n",
       "    <tr>\n",
       "      <th>3211</th>\n",
       "      <td>1499</td>\n",
       "      <td>2018-10-01</td>\n",
       "      <td>68.0</td>\n",
       "      <td>449.0</td>\n",
       "      <td>58.0</td>\n",
       "      <td>18.0</td>\n",
       "      <td>48.0</td>\n",
       "      <td>35</td>\n",
       "      <td>NaT</td>\n",
       "      <td>Пермь</td>\n",
       "      <td>Гектор</td>\n",
       "      <td>Корнилов</td>\n",
       "      <td>2018-09-27</td>\n",
       "      <td>smart</td>\n",
       "      <td>50</td>\n",
       "      <td>15360</td>\n",
       "      <td>500</td>\n",
       "      <td>550</td>\n",
       "      <td>200</td>\n",
       "      <td>3</td>\n",
       "      <td>3</td>\n",
       "      <td>15</td>\n",
       "    </tr>\n",
       "    <tr>\n",
       "      <th>3212</th>\n",
       "      <td>1499</td>\n",
       "      <td>2018-11-01</td>\n",
       "      <td>74.0</td>\n",
       "      <td>612.0</td>\n",
       "      <td>49.0</td>\n",
       "      <td>18.0</td>\n",
       "      <td>59.0</td>\n",
       "      <td>35</td>\n",
       "      <td>NaT</td>\n",
       "      <td>Пермь</td>\n",
       "      <td>Гектор</td>\n",
       "      <td>Корнилов</td>\n",
       "      <td>2018-09-27</td>\n",
       "      <td>smart</td>\n",
       "      <td>50</td>\n",
       "      <td>15360</td>\n",
       "      <td>500</td>\n",
       "      <td>550</td>\n",
       "      <td>200</td>\n",
       "      <td>3</td>\n",
       "      <td>3</td>\n",
       "      <td>15</td>\n",
       "    </tr>\n",
       "    <tr>\n",
       "      <th>3213</th>\n",
       "      <td>1499</td>\n",
       "      <td>2018-12-01</td>\n",
       "      <td>69.0</td>\n",
       "      <td>492.0</td>\n",
       "      <td>45.0</td>\n",
       "      <td>13.0</td>\n",
       "      <td>66.0</td>\n",
       "      <td>35</td>\n",
       "      <td>NaT</td>\n",
       "      <td>Пермь</td>\n",
       "      <td>Гектор</td>\n",
       "      <td>Корнилов</td>\n",
       "      <td>2018-09-27</td>\n",
       "      <td>smart</td>\n",
       "      <td>50</td>\n",
       "      <td>15360</td>\n",
       "      <td>500</td>\n",
       "      <td>550</td>\n",
       "      <td>200</td>\n",
       "      <td>3</td>\n",
       "      <td>3</td>\n",
       "      <td>15</td>\n",
       "    </tr>\n",
       "  </tbody>\n",
       "</table>\n",
       "<p>3214 rows × 22 columns</p>\n",
       "</div>"
      ],
      "text/plain": [
       "      user_id      month  calls_count  calls_sum  internet_count  \\\n",
       "0        1000 2018-05-01         22.0      159.0             5.0   \n",
       "1        1000 2018-06-01         43.0      172.0            49.0   \n",
       "2        1000 2018-07-01         47.0      340.0            29.0   \n",
       "3        1000 2018-08-01         52.0      408.0            29.0   \n",
       "4        1000 2018-09-01         58.0      466.0            27.0   \n",
       "...       ...        ...          ...        ...             ...   \n",
       "3209     1498 2018-10-01         41.0      247.0            59.0   \n",
       "3210     1499 2018-09-01          9.0       70.0             5.0   \n",
       "3211     1499 2018-10-01         68.0      449.0            58.0   \n",
       "3212     1499 2018-11-01         74.0      612.0            49.0   \n",
       "3213     1499 2018-12-01         69.0      492.0            45.0   \n",
       "\n",
       "      internet_sum  message_count  age churn_date         city first_name  \\\n",
       "0              3.0           22.0   52        NaT    Краснодар     Рафаил   \n",
       "1             23.0           60.0   52        NaT    Краснодар     Рафаил   \n",
       "2             14.0           75.0   52        NaT    Краснодар     Рафаил   \n",
       "3             14.0           81.0   52        NaT    Краснодар     Рафаил   \n",
       "4             15.0           57.0   52        NaT    Краснодар     Рафаил   \n",
       "...            ...            ...  ...        ...          ...        ...   \n",
       "3209          21.0           42.0   68 2018-10-25  Владикавказ   Всеволод   \n",
       "3210           2.0           11.0   35        NaT        Пермь     Гектор   \n",
       "3211          18.0           48.0   35        NaT        Пермь     Гектор   \n",
       "3212          18.0           59.0   35        NaT        Пермь     Гектор   \n",
       "3213          13.0           66.0   35        NaT        Пермь     Гектор   \n",
       "\n",
       "      last_name   reg_date tariff  messages_included  mb_per_month_included  \\\n",
       "0     Верещагин 2018-05-25  ultra               1000                  30720   \n",
       "1     Верещагин 2018-05-25  ultra               1000                  30720   \n",
       "2     Верещагин 2018-05-25  ultra               1000                  30720   \n",
       "3     Верещагин 2018-05-25  ultra               1000                  30720   \n",
       "4     Верещагин 2018-05-25  ultra               1000                  30720   \n",
       "...         ...        ...    ...                ...                    ...   \n",
       "3209    Акимчин 2018-07-19  smart                 50                  15360   \n",
       "3210   Корнилов 2018-09-27  smart                 50                  15360   \n",
       "3211   Корнилов 2018-09-27  smart                 50                  15360   \n",
       "3212   Корнилов 2018-09-27  smart                 50                  15360   \n",
       "3213   Корнилов 2018-09-27  smart                 50                  15360   \n",
       "\n",
       "      minutes_included  rub_monthly_fee  rub_per_gb  rub_per_message  \\\n",
       "0                 3000             1950         150                1   \n",
       "1                 3000             1950         150                1   \n",
       "2                 3000             1950         150                1   \n",
       "3                 3000             1950         150                1   \n",
       "4                 3000             1950         150                1   \n",
       "...                ...              ...         ...              ...   \n",
       "3209               500              550         200                3   \n",
       "3210               500              550         200                3   \n",
       "3211               500              550         200                3   \n",
       "3212               500              550         200                3   \n",
       "3213               500              550         200                3   \n",
       "\n",
       "      rub_per_minute  gb_per_month_included  \n",
       "0                  1                     30  \n",
       "1                  1                     30  \n",
       "2                  1                     30  \n",
       "3                  1                     30  \n",
       "4                  1                     30  \n",
       "...              ...                    ...  \n",
       "3209               3                     15  \n",
       "3210               3                     15  \n",
       "3211               3                     15  \n",
       "3212               3                     15  \n",
       "3213               3                     15  \n",
       "\n",
       "[3214 rows x 22 columns]"
      ]
     },
     "execution_count": 42,
     "metadata": {},
     "output_type": "execute_result"
    }
   ],
   "source": [
    "df = df.merge(users, on='user_id', how='left')\n",
    "df = df.merge(tariffs, on='tariff', how='left')\n",
    "df"
   ]
  },
  {
   "cell_type": "markdown",
   "metadata": {},
   "source": [
    "Добавим столбец с выручкой с каждого пользователя"
   ]
  },
  {
   "cell_type": "code",
   "execution_count": 43,
   "metadata": {},
   "outputs": [],
   "source": [
    "def income_func (row):\n",
    "    gbs = (row['internet_sum']- row['gb_per_month_included']) * row['rub_per_gb']    #  Стоимость интернета сверх тарифа\n",
    "    mins = (row['calls_sum']- row['minutes_included']) * row['rub_per_minute']       #  Стоимость звонков сверх тарифа\n",
    "    sms = (row['message_count']- row['messages_included']) * row['rub_per_message']  #  Стоимость SMS сверх тарифа\n",
    "    income = row['rub_monthly_fee'] + max(0, gbs) + max(0, mins) + max(0, sms)       #  Общая выручка с учетом того, что превышения по тарифу может и не быть\n",
    "    return income"
   ]
  },
  {
   "cell_type": "markdown",
   "metadata": {},
   "source": [
    "Построчно применяем функцию к датасету"
   ]
  },
  {
   "cell_type": "code",
   "execution_count": 44,
   "metadata": {
    "scrolled": false
   },
   "outputs": [
    {
     "data": {
      "text/html": [
       "<div>\n",
       "<style scoped>\n",
       "    .dataframe tbody tr th:only-of-type {\n",
       "        vertical-align: middle;\n",
       "    }\n",
       "\n",
       "    .dataframe tbody tr th {\n",
       "        vertical-align: top;\n",
       "    }\n",
       "\n",
       "    .dataframe thead th {\n",
       "        text-align: right;\n",
       "    }\n",
       "</style>\n",
       "<table border=\"1\" class=\"dataframe\">\n",
       "  <thead>\n",
       "    <tr style=\"text-align: right;\">\n",
       "      <th></th>\n",
       "      <th>user_id</th>\n",
       "      <th>month</th>\n",
       "      <th>calls_count</th>\n",
       "      <th>calls_sum</th>\n",
       "      <th>internet_count</th>\n",
       "      <th>internet_sum</th>\n",
       "      <th>message_count</th>\n",
       "      <th>age</th>\n",
       "      <th>churn_date</th>\n",
       "      <th>city</th>\n",
       "      <th>first_name</th>\n",
       "      <th>last_name</th>\n",
       "      <th>reg_date</th>\n",
       "      <th>tariff</th>\n",
       "      <th>messages_included</th>\n",
       "      <th>mb_per_month_included</th>\n",
       "      <th>minutes_included</th>\n",
       "      <th>rub_monthly_fee</th>\n",
       "      <th>rub_per_gb</th>\n",
       "      <th>rub_per_message</th>\n",
       "      <th>rub_per_minute</th>\n",
       "      <th>gb_per_month_included</th>\n",
       "      <th>income</th>\n",
       "    </tr>\n",
       "  </thead>\n",
       "  <tbody>\n",
       "    <tr>\n",
       "      <th>0</th>\n",
       "      <td>1000</td>\n",
       "      <td>2018-05-01</td>\n",
       "      <td>22.0</td>\n",
       "      <td>159.0</td>\n",
       "      <td>5.0</td>\n",
       "      <td>3.0</td>\n",
       "      <td>22.0</td>\n",
       "      <td>52</td>\n",
       "      <td>NaT</td>\n",
       "      <td>Краснодар</td>\n",
       "      <td>Рафаил</td>\n",
       "      <td>Верещагин</td>\n",
       "      <td>2018-05-25</td>\n",
       "      <td>ultra</td>\n",
       "      <td>1000</td>\n",
       "      <td>30720</td>\n",
       "      <td>3000</td>\n",
       "      <td>1950</td>\n",
       "      <td>150</td>\n",
       "      <td>1</td>\n",
       "      <td>1</td>\n",
       "      <td>30</td>\n",
       "      <td>1950.0</td>\n",
       "    </tr>\n",
       "    <tr>\n",
       "      <th>1</th>\n",
       "      <td>1000</td>\n",
       "      <td>2018-06-01</td>\n",
       "      <td>43.0</td>\n",
       "      <td>172.0</td>\n",
       "      <td>49.0</td>\n",
       "      <td>23.0</td>\n",
       "      <td>60.0</td>\n",
       "      <td>52</td>\n",
       "      <td>NaT</td>\n",
       "      <td>Краснодар</td>\n",
       "      <td>Рафаил</td>\n",
       "      <td>Верещагин</td>\n",
       "      <td>2018-05-25</td>\n",
       "      <td>ultra</td>\n",
       "      <td>1000</td>\n",
       "      <td>30720</td>\n",
       "      <td>3000</td>\n",
       "      <td>1950</td>\n",
       "      <td>150</td>\n",
       "      <td>1</td>\n",
       "      <td>1</td>\n",
       "      <td>30</td>\n",
       "      <td>1950.0</td>\n",
       "    </tr>\n",
       "    <tr>\n",
       "      <th>2</th>\n",
       "      <td>1000</td>\n",
       "      <td>2018-07-01</td>\n",
       "      <td>47.0</td>\n",
       "      <td>340.0</td>\n",
       "      <td>29.0</td>\n",
       "      <td>14.0</td>\n",
       "      <td>75.0</td>\n",
       "      <td>52</td>\n",
       "      <td>NaT</td>\n",
       "      <td>Краснодар</td>\n",
       "      <td>Рафаил</td>\n",
       "      <td>Верещагин</td>\n",
       "      <td>2018-05-25</td>\n",
       "      <td>ultra</td>\n",
       "      <td>1000</td>\n",
       "      <td>30720</td>\n",
       "      <td>3000</td>\n",
       "      <td>1950</td>\n",
       "      <td>150</td>\n",
       "      <td>1</td>\n",
       "      <td>1</td>\n",
       "      <td>30</td>\n",
       "      <td>1950.0</td>\n",
       "    </tr>\n",
       "    <tr>\n",
       "      <th>3</th>\n",
       "      <td>1000</td>\n",
       "      <td>2018-08-01</td>\n",
       "      <td>52.0</td>\n",
       "      <td>408.0</td>\n",
       "      <td>29.0</td>\n",
       "      <td>14.0</td>\n",
       "      <td>81.0</td>\n",
       "      <td>52</td>\n",
       "      <td>NaT</td>\n",
       "      <td>Краснодар</td>\n",
       "      <td>Рафаил</td>\n",
       "      <td>Верещагин</td>\n",
       "      <td>2018-05-25</td>\n",
       "      <td>ultra</td>\n",
       "      <td>1000</td>\n",
       "      <td>30720</td>\n",
       "      <td>3000</td>\n",
       "      <td>1950</td>\n",
       "      <td>150</td>\n",
       "      <td>1</td>\n",
       "      <td>1</td>\n",
       "      <td>30</td>\n",
       "      <td>1950.0</td>\n",
       "    </tr>\n",
       "    <tr>\n",
       "      <th>4</th>\n",
       "      <td>1000</td>\n",
       "      <td>2018-09-01</td>\n",
       "      <td>58.0</td>\n",
       "      <td>466.0</td>\n",
       "      <td>27.0</td>\n",
       "      <td>15.0</td>\n",
       "      <td>57.0</td>\n",
       "      <td>52</td>\n",
       "      <td>NaT</td>\n",
       "      <td>Краснодар</td>\n",
       "      <td>Рафаил</td>\n",
       "      <td>Верещагин</td>\n",
       "      <td>2018-05-25</td>\n",
       "      <td>ultra</td>\n",
       "      <td>1000</td>\n",
       "      <td>30720</td>\n",
       "      <td>3000</td>\n",
       "      <td>1950</td>\n",
       "      <td>150</td>\n",
       "      <td>1</td>\n",
       "      <td>1</td>\n",
       "      <td>30</td>\n",
       "      <td>1950.0</td>\n",
       "    </tr>\n",
       "  </tbody>\n",
       "</table>\n",
       "</div>"
      ],
      "text/plain": [
       "   user_id      month  calls_count  calls_sum  internet_count  internet_sum  \\\n",
       "0     1000 2018-05-01         22.0      159.0             5.0           3.0   \n",
       "1     1000 2018-06-01         43.0      172.0            49.0          23.0   \n",
       "2     1000 2018-07-01         47.0      340.0            29.0          14.0   \n",
       "3     1000 2018-08-01         52.0      408.0            29.0          14.0   \n",
       "4     1000 2018-09-01         58.0      466.0            27.0          15.0   \n",
       "\n",
       "   message_count  age churn_date       city first_name  last_name   reg_date  \\\n",
       "0           22.0   52        NaT  Краснодар     Рафаил  Верещагин 2018-05-25   \n",
       "1           60.0   52        NaT  Краснодар     Рафаил  Верещагин 2018-05-25   \n",
       "2           75.0   52        NaT  Краснодар     Рафаил  Верещагин 2018-05-25   \n",
       "3           81.0   52        NaT  Краснодар     Рафаил  Верещагин 2018-05-25   \n",
       "4           57.0   52        NaT  Краснодар     Рафаил  Верещагин 2018-05-25   \n",
       "\n",
       "  tariff  messages_included  mb_per_month_included  minutes_included  \\\n",
       "0  ultra               1000                  30720              3000   \n",
       "1  ultra               1000                  30720              3000   \n",
       "2  ultra               1000                  30720              3000   \n",
       "3  ultra               1000                  30720              3000   \n",
       "4  ultra               1000                  30720              3000   \n",
       "\n",
       "   rub_monthly_fee  rub_per_gb  rub_per_message  rub_per_minute  \\\n",
       "0             1950         150                1               1   \n",
       "1             1950         150                1               1   \n",
       "2             1950         150                1               1   \n",
       "3             1950         150                1               1   \n",
       "4             1950         150                1               1   \n",
       "\n",
       "   gb_per_month_included  income  \n",
       "0                     30  1950.0  \n",
       "1                     30  1950.0  \n",
       "2                     30  1950.0  \n",
       "3                     30  1950.0  \n",
       "4                     30  1950.0  "
      ]
     },
     "execution_count": 44,
     "metadata": {},
     "output_type": "execute_result"
    }
   ],
   "source": [
    "df['income'] = df.apply(income_func, axis=1)\n",
    "df.head()"
   ]
  },
  {
   "cell_type": "markdown",
   "metadata": {},
   "source": [
    "И, напоследок, избавимся от лишних столбцов, которые были нужны для подготовки данных и переименуем столбцы с потребленным объемом услуг"
   ]
  },
  {
   "cell_type": "code",
   "execution_count": 45,
   "metadata": {},
   "outputs": [],
   "source": [
    "df.drop(['calls_count', 'internet_count', 'messages_included', 'mb_per_month_included', 'minutes_included', 'rub_monthly_fee', 'rub_per_gb', 'rub_per_message', 'rub_per_minute', 'gb_per_month_included'], axis=1, inplace=True)"
   ]
  },
  {
   "cell_type": "code",
   "execution_count": 46,
   "metadata": {},
   "outputs": [],
   "source": [
    "df.rename({'calls_sum':'calls',\n",
    "          'internet_sum':'internet',\n",
    "          'message_count':'message'},\n",
    "          axis='columns', inplace=True)"
   ]
  },
  {
   "cell_type": "code",
   "execution_count": 47,
   "metadata": {},
   "outputs": [
    {
     "data": {
      "text/html": [
       "<div>\n",
       "<style scoped>\n",
       "    .dataframe tbody tr th:only-of-type {\n",
       "        vertical-align: middle;\n",
       "    }\n",
       "\n",
       "    .dataframe tbody tr th {\n",
       "        vertical-align: top;\n",
       "    }\n",
       "\n",
       "    .dataframe thead th {\n",
       "        text-align: right;\n",
       "    }\n",
       "</style>\n",
       "<table border=\"1\" class=\"dataframe\">\n",
       "  <thead>\n",
       "    <tr style=\"text-align: right;\">\n",
       "      <th></th>\n",
       "      <th>user_id</th>\n",
       "      <th>month</th>\n",
       "      <th>calls</th>\n",
       "      <th>internet</th>\n",
       "      <th>message</th>\n",
       "      <th>age</th>\n",
       "      <th>churn_date</th>\n",
       "      <th>city</th>\n",
       "      <th>first_name</th>\n",
       "      <th>last_name</th>\n",
       "      <th>reg_date</th>\n",
       "      <th>tariff</th>\n",
       "      <th>income</th>\n",
       "    </tr>\n",
       "  </thead>\n",
       "  <tbody>\n",
       "    <tr>\n",
       "      <th>3128</th>\n",
       "      <td>1483</td>\n",
       "      <td>2018-08-01</td>\n",
       "      <td>784.0</td>\n",
       "      <td>19.0</td>\n",
       "      <td>57.0</td>\n",
       "      <td>28</td>\n",
       "      <td>NaT</td>\n",
       "      <td>Ульяновск</td>\n",
       "      <td>Серафима</td>\n",
       "      <td>Борисова</td>\n",
       "      <td>2018-04-11</td>\n",
       "      <td>smart</td>\n",
       "      <td>2223.0</td>\n",
       "    </tr>\n",
       "    <tr>\n",
       "      <th>1304</th>\n",
       "      <td>1203</td>\n",
       "      <td>2018-12-01</td>\n",
       "      <td>706.0</td>\n",
       "      <td>12.0</td>\n",
       "      <td>39.0</td>\n",
       "      <td>39</td>\n",
       "      <td>NaT</td>\n",
       "      <td>Москва</td>\n",
       "      <td>Владимир</td>\n",
       "      <td>Григорьев</td>\n",
       "      <td>2018-03-13</td>\n",
       "      <td>ultra</td>\n",
       "      <td>1950.0</td>\n",
       "    </tr>\n",
       "    <tr>\n",
       "      <th>558</th>\n",
       "      <td>1089</td>\n",
       "      <td>2018-04-01</td>\n",
       "      <td>387.0</td>\n",
       "      <td>17.0</td>\n",
       "      <td>130.0</td>\n",
       "      <td>19</td>\n",
       "      <td>NaT</td>\n",
       "      <td>Иркутск</td>\n",
       "      <td>Ксения</td>\n",
       "      <td>Нечаева</td>\n",
       "      <td>2018-02-24</td>\n",
       "      <td>ultra</td>\n",
       "      <td>1950.0</td>\n",
       "    </tr>\n",
       "    <tr>\n",
       "      <th>1203</th>\n",
       "      <td>1187</td>\n",
       "      <td>2018-09-01</td>\n",
       "      <td>332.0</td>\n",
       "      <td>22.0</td>\n",
       "      <td>69.0</td>\n",
       "      <td>60</td>\n",
       "      <td>NaT</td>\n",
       "      <td>Рязань</td>\n",
       "      <td>Виталий</td>\n",
       "      <td>Овчинников</td>\n",
       "      <td>2018-08-22</td>\n",
       "      <td>smart</td>\n",
       "      <td>2007.0</td>\n",
       "    </tr>\n",
       "    <tr>\n",
       "      <th>1024</th>\n",
       "      <td>1161</td>\n",
       "      <td>2018-07-01</td>\n",
       "      <td>296.0</td>\n",
       "      <td>20.0</td>\n",
       "      <td>44.0</td>\n",
       "      <td>65</td>\n",
       "      <td>2018-11-07</td>\n",
       "      <td>Набережные Челны</td>\n",
       "      <td>Татьяна</td>\n",
       "      <td>Голованова</td>\n",
       "      <td>2018-07-03</td>\n",
       "      <td>smart</td>\n",
       "      <td>1550.0</td>\n",
       "    </tr>\n",
       "    <tr>\n",
       "      <th>2885</th>\n",
       "      <td>1452</td>\n",
       "      <td>2018-06-01</td>\n",
       "      <td>60.0</td>\n",
       "      <td>11.0</td>\n",
       "      <td>18.0</td>\n",
       "      <td>74</td>\n",
       "      <td>NaT</td>\n",
       "      <td>Москва</td>\n",
       "      <td>Эмилия</td>\n",
       "      <td>Абалдуева</td>\n",
       "      <td>2018-06-19</td>\n",
       "      <td>ultra</td>\n",
       "      <td>1950.0</td>\n",
       "    </tr>\n",
       "    <tr>\n",
       "      <th>1091</th>\n",
       "      <td>1172</td>\n",
       "      <td>2018-11-01</td>\n",
       "      <td>537.0</td>\n",
       "      <td>23.0</td>\n",
       "      <td>7.0</td>\n",
       "      <td>40</td>\n",
       "      <td>NaT</td>\n",
       "      <td>Санкт-Петербург</td>\n",
       "      <td>Алан</td>\n",
       "      <td>Карасев</td>\n",
       "      <td>2018-05-05</td>\n",
       "      <td>smart</td>\n",
       "      <td>2261.0</td>\n",
       "    </tr>\n",
       "    <tr>\n",
       "      <th>2020</th>\n",
       "      <td>1318</td>\n",
       "      <td>2018-12-01</td>\n",
       "      <td>786.0</td>\n",
       "      <td>15.0</td>\n",
       "      <td>49.0</td>\n",
       "      <td>53</td>\n",
       "      <td>NaT</td>\n",
       "      <td>Курган</td>\n",
       "      <td>Марьяна</td>\n",
       "      <td>Анищенко</td>\n",
       "      <td>2018-03-22</td>\n",
       "      <td>ultra</td>\n",
       "      <td>1950.0</td>\n",
       "    </tr>\n",
       "    <tr>\n",
       "      <th>1159</th>\n",
       "      <td>1180</td>\n",
       "      <td>2018-05-01</td>\n",
       "      <td>86.0</td>\n",
       "      <td>36.0</td>\n",
       "      <td>22.0</td>\n",
       "      <td>27</td>\n",
       "      <td>NaT</td>\n",
       "      <td>Москва</td>\n",
       "      <td>Лев</td>\n",
       "      <td>Мишин</td>\n",
       "      <td>2018-02-02</td>\n",
       "      <td>ultra</td>\n",
       "      <td>2850.0</td>\n",
       "    </tr>\n",
       "    <tr>\n",
       "      <th>616</th>\n",
       "      <td>1097</td>\n",
       "      <td>2018-12-01</td>\n",
       "      <td>498.0</td>\n",
       "      <td>10.0</td>\n",
       "      <td>33.0</td>\n",
       "      <td>29</td>\n",
       "      <td>NaT</td>\n",
       "      <td>Краснодар</td>\n",
       "      <td>Алла</td>\n",
       "      <td>Кулешова</td>\n",
       "      <td>2018-06-25</td>\n",
       "      <td>ultra</td>\n",
       "      <td>1950.0</td>\n",
       "    </tr>\n",
       "  </tbody>\n",
       "</table>\n",
       "</div>"
      ],
      "text/plain": [
       "      user_id      month  calls  internet  message  age churn_date  \\\n",
       "3128     1483 2018-08-01  784.0      19.0     57.0   28        NaT   \n",
       "1304     1203 2018-12-01  706.0      12.0     39.0   39        NaT   \n",
       "558      1089 2018-04-01  387.0      17.0    130.0   19        NaT   \n",
       "1203     1187 2018-09-01  332.0      22.0     69.0   60        NaT   \n",
       "1024     1161 2018-07-01  296.0      20.0     44.0   65 2018-11-07   \n",
       "2885     1452 2018-06-01   60.0      11.0     18.0   74        NaT   \n",
       "1091     1172 2018-11-01  537.0      23.0      7.0   40        NaT   \n",
       "2020     1318 2018-12-01  786.0      15.0     49.0   53        NaT   \n",
       "1159     1180 2018-05-01   86.0      36.0     22.0   27        NaT   \n",
       "616      1097 2018-12-01  498.0      10.0     33.0   29        NaT   \n",
       "\n",
       "                  city first_name   last_name   reg_date tariff  income  \n",
       "3128         Ульяновск   Серафима    Борисова 2018-04-11  smart  2223.0  \n",
       "1304            Москва   Владимир   Григорьев 2018-03-13  ultra  1950.0  \n",
       "558            Иркутск     Ксения     Нечаева 2018-02-24  ultra  1950.0  \n",
       "1203            Рязань    Виталий  Овчинников 2018-08-22  smart  2007.0  \n",
       "1024  Набережные Челны    Татьяна  Голованова 2018-07-03  smart  1550.0  \n",
       "2885            Москва     Эмилия   Абалдуева 2018-06-19  ultra  1950.0  \n",
       "1091   Санкт-Петербург       Алан     Карасев 2018-05-05  smart  2261.0  \n",
       "2020            Курган    Марьяна    Анищенко 2018-03-22  ultra  1950.0  \n",
       "1159            Москва        Лев       Мишин 2018-02-02  ultra  2850.0  \n",
       "616          Краснодар       Алла    Кулешова 2018-06-25  ultra  1950.0  "
      ]
     },
     "execution_count": 47,
     "metadata": {},
     "output_type": "execute_result"
    }
   ],
   "source": [
    "df.sample(10)"
   ]
  },
  {
   "cell_type": "markdown",
   "metadata": {},
   "source": [
    "И не забудем, конечно, заполнить пропуски в `calls, internet, message` на 0. Т.к. это просто указывает, что соответствующей услугой не пользовались."
   ]
  },
  {
   "cell_type": "code",
   "execution_count": 48,
   "metadata": {},
   "outputs": [
    {
     "data": {
      "text/plain": [
       "user_id          0\n",
       "month            0\n",
       "calls            0\n",
       "internet         0\n",
       "message          0\n",
       "age              0\n",
       "churn_date    3027\n",
       "city             0\n",
       "first_name       0\n",
       "last_name        0\n",
       "reg_date         0\n",
       "tariff           0\n",
       "income           0\n",
       "dtype: int64"
      ]
     },
     "execution_count": 48,
     "metadata": {},
     "output_type": "execute_result"
    }
   ],
   "source": [
    "df['calls'].fillna(0, inplace=True)\n",
    "df['internet'].fillna(0, inplace=True)\n",
    "df['message'].fillna(0, inplace=True)\n",
    "df.isna().sum()"
   ]
  },
  {
   "cell_type": "markdown",
   "metadata": {},
   "source": [
    "## Анализ"
   ]
  },
  {
   "cell_type": "markdown",
   "metadata": {},
   "source": [
    "Для начала разделим датафрейм на 2 поменьше, отдельные для пользователей каждого тарифа"
   ]
  },
  {
   "cell_type": "code",
   "execution_count": 49,
   "metadata": {},
   "outputs": [
    {
     "name": "stdout",
     "output_type": "stream",
     "text": [
      "<class 'pandas.core.frame.DataFrame'>\n",
      "RangeIndex: 2229 entries, 0 to 2228\n",
      "Data columns (total 13 columns):\n",
      " #   Column      Non-Null Count  Dtype         \n",
      "---  ------      --------------  -----         \n",
      " 0   user_id     2229 non-null   int64         \n",
      " 1   month       2229 non-null   datetime64[ns]\n",
      " 2   calls       2229 non-null   float64       \n",
      " 3   internet    2229 non-null   float64       \n",
      " 4   message     2229 non-null   float64       \n",
      " 5   age         2229 non-null   int64         \n",
      " 6   churn_date  111 non-null    datetime64[ns]\n",
      " 7   city        2229 non-null   object        \n",
      " 8   first_name  2229 non-null   object        \n",
      " 9   last_name   2229 non-null   object        \n",
      " 10  reg_date    2229 non-null   datetime64[ns]\n",
      " 11  tariff      2229 non-null   object        \n",
      " 12  income      2229 non-null   float64       \n",
      "dtypes: datetime64[ns](3), float64(4), int64(2), object(4)\n",
      "memory usage: 226.5+ KB\n"
     ]
    }
   ],
   "source": [
    "df_smart = df[df['tariff'] == 'smart'].copy()\n",
    "df_smart.reset_index(drop=True, inplace=True)\n",
    "df_smart.info()"
   ]
  },
  {
   "cell_type": "code",
   "execution_count": 50,
   "metadata": {},
   "outputs": [
    {
     "name": "stdout",
     "output_type": "stream",
     "text": [
      "<class 'pandas.core.frame.DataFrame'>\n",
      "RangeIndex: 985 entries, 0 to 984\n",
      "Data columns (total 13 columns):\n",
      " #   Column      Non-Null Count  Dtype         \n",
      "---  ------      --------------  -----         \n",
      " 0   user_id     985 non-null    int64         \n",
      " 1   month       985 non-null    datetime64[ns]\n",
      " 2   calls       985 non-null    float64       \n",
      " 3   internet    985 non-null    float64       \n",
      " 4   message     985 non-null    float64       \n",
      " 5   age         985 non-null    int64         \n",
      " 6   churn_date  76 non-null     datetime64[ns]\n",
      " 7   city        985 non-null    object        \n",
      " 8   first_name  985 non-null    object        \n",
      " 9   last_name   985 non-null    object        \n",
      " 10  reg_date    985 non-null    datetime64[ns]\n",
      " 11  tariff      985 non-null    object        \n",
      " 12  income      985 non-null    float64       \n",
      "dtypes: datetime64[ns](3), float64(4), int64(2), object(4)\n",
      "memory usage: 100.2+ KB\n"
     ]
    }
   ],
   "source": [
    "df_ultra = df[df['tariff'] == 'ultra'].copy()\n",
    "df_ultra.reset_index(drop=True, inplace=True)\n",
    "df_ultra.info()"
   ]
  },
  {
   "cell_type": "code",
   "execution_count": 51,
   "metadata": {
    "scrolled": false
   },
   "outputs": [
    {
     "data": {
      "image/png": "[encoded data removed]",
      "text/plain": [
       "<Figure size 1900x1000 with 4 Axes>"
      ]
     },
     "metadata": {},
     "output_type": "display_data"
    }
   ],
   "source": [
    "df.hist(['calls','internet', 'message','income'], bins=40);"
   ]
  },
  {
   "cell_type": "code",
   "execution_count": 52,
   "metadata": {
    "scrolled": false
   },
   "outputs": [
    {
     "data": {
      "image/png": "[encoded data removed]",
      "text/plain": [
       "<Figure size 1900x1000 with 4 Axes>"
      ]
     },
     "metadata": {},
     "output_type": "display_data"
    }
   ],
   "source": [
    "df_smart.hist(['calls','internet', 'message','income'], bins=40);"
   ]
  },
  {
   "cell_type": "code",
   "execution_count": 53,
   "metadata": {
    "scrolled": false
   },
   "outputs": [
    {
     "data": {
      "image/png": "[encoded data removed]",
      "text/plain": [
       "<Figure size 1900x1000 with 4 Axes>"
      ]
     },
     "metadata": {},
     "output_type": "display_data"
    }
   ],
   "source": [
    "df_ultra.hist(['calls','internet', 'message','income'], bins=50);"
   ]
  },
  {
   "cell_type": "markdown",
   "metadata": {},
   "source": [
    "Посчитаем средние, дисперсию и стандартное отклонение"
   ]
  },
  {
   "cell_type": "code",
   "execution_count": 54,
   "metadata": {},
   "outputs": [
    {
     "name": "stderr",
     "output_type": "stream",
     "text": [
      "C:\\Users\\tarak\\AppData\\Local\\Temp\\ipykernel_6624\\19930750.py:1: FutureWarning: Indexing with multiple keys (implicitly converted to a tuple of keys) will be deprecated, use a list instead.\n",
      "  pivot = df.groupby('tariff')['calls','internet', 'message','income'].agg('mean')\n"
     ]
    },
    {
     "data": {
      "text/html": [
       "<div>\n",
       "<style scoped>\n",
       "    .dataframe tbody tr th:only-of-type {\n",
       "        vertical-align: middle;\n",
       "    }\n",
       "\n",
       "    .dataframe tbody tr th {\n",
       "        vertical-align: top;\n",
       "    }\n",
       "\n",
       "    .dataframe thead th {\n",
       "        text-align: right;\n",
       "    }\n",
       "</style>\n",
       "<table border=\"1\" class=\"dataframe\">\n",
       "  <thead>\n",
       "    <tr style=\"text-align: right;\">\n",
       "      <th></th>\n",
       "      <th>calls</th>\n",
       "      <th>internet</th>\n",
       "      <th>message</th>\n",
       "      <th>income</th>\n",
       "    </tr>\n",
       "    <tr>\n",
       "      <th>tariff</th>\n",
       "      <th></th>\n",
       "      <th></th>\n",
       "      <th></th>\n",
       "      <th></th>\n",
       "    </tr>\n",
       "  </thead>\n",
       "  <tbody>\n",
       "    <tr>\n",
       "      <th>smart</th>\n",
       "      <td>417.934948</td>\n",
       "      <td>16.328847</td>\n",
       "      <td>33.384029</td>\n",
       "      <td>1289.973531</td>\n",
       "    </tr>\n",
       "    <tr>\n",
       "      <th>ultra</th>\n",
       "      <td>526.623350</td>\n",
       "      <td>19.494416</td>\n",
       "      <td>49.363452</td>\n",
       "      <td>2070.152284</td>\n",
       "    </tr>\n",
       "  </tbody>\n",
       "</table>\n",
       "</div>"
      ],
      "text/plain": [
       "             calls   internet    message       income\n",
       "tariff                                               \n",
       "smart   417.934948  16.328847  33.384029  1289.973531\n",
       "ultra   526.623350  19.494416  49.363452  2070.152284"
      ]
     },
     "execution_count": 54,
     "metadata": {},
     "output_type": "execute_result"
    }
   ],
   "source": [
    "pivot = df.groupby('tariff')['calls','internet', 'message','income'].agg('mean')\n",
    "pivot"
   ]
  },
  {
   "cell_type": "code",
   "execution_count": 55,
   "metadata": {},
   "outputs": [
    {
     "name": "stderr",
     "output_type": "stream",
     "text": [
      "C:\\Users\\tarak\\AppData\\Local\\Temp\\ipykernel_6624\\196698494.py:1: FutureWarning: Indexing with multiple keys (implicitly converted to a tuple of keys) will be deprecated, use a list instead.\n",
      "  pivot = df.groupby('tariff')['calls','internet', 'message','income'].agg('std')\n"
     ]
    },
    {
     "data": {
      "text/html": [
       "<div>\n",
       "<style scoped>\n",
       "    .dataframe tbody tr th:only-of-type {\n",
       "        vertical-align: middle;\n",
       "    }\n",
       "\n",
       "    .dataframe tbody tr th {\n",
       "        vertical-align: top;\n",
       "    }\n",
       "\n",
       "    .dataframe thead th {\n",
       "        text-align: right;\n",
       "    }\n",
       "</style>\n",
       "<table border=\"1\" class=\"dataframe\">\n",
       "  <thead>\n",
       "    <tr style=\"text-align: right;\">\n",
       "      <th></th>\n",
       "      <th>calls</th>\n",
       "      <th>internet</th>\n",
       "      <th>message</th>\n",
       "      <th>income</th>\n",
       "    </tr>\n",
       "    <tr>\n",
       "      <th>tariff</th>\n",
       "      <th></th>\n",
       "      <th></th>\n",
       "      <th></th>\n",
       "      <th></th>\n",
       "    </tr>\n",
       "  </thead>\n",
       "  <tbody>\n",
       "    <tr>\n",
       "      <th>smart</th>\n",
       "      <td>190.313730</td>\n",
       "      <td>5.747061</td>\n",
       "      <td>28.227876</td>\n",
       "      <td>818.404367</td>\n",
       "    </tr>\n",
       "    <tr>\n",
       "      <th>ultra</th>\n",
       "      <td>317.606098</td>\n",
       "      <td>9.853511</td>\n",
       "      <td>47.804457</td>\n",
       "      <td>376.187114</td>\n",
       "    </tr>\n",
       "  </tbody>\n",
       "</table>\n",
       "</div>"
      ],
      "text/plain": [
       "             calls  internet    message      income\n",
       "tariff                                             \n",
       "smart   190.313730  5.747061  28.227876  818.404367\n",
       "ultra   317.606098  9.853511  47.804457  376.187114"
      ]
     },
     "execution_count": 55,
     "metadata": {},
     "output_type": "execute_result"
    }
   ],
   "source": [
    "pivot = df.groupby('tariff')['calls','internet', 'message','income'].agg('std')\n",
    "pivot"
   ]
  },
  {
   "cell_type": "code",
   "execution_count": 56,
   "metadata": {},
   "outputs": [
    {
     "name": "stderr",
     "output_type": "stream",
     "text": [
      "C:\\Users\\tarak\\AppData\\Local\\Temp\\ipykernel_6624\\2097932920.py:1: FutureWarning: Indexing with multiple keys (implicitly converted to a tuple of keys) will be deprecated, use a list instead.\n",
      "  pivot = df.groupby('tariff')['calls','internet', 'message','income'].agg('var')\n"
     ]
    },
    {
     "data": {
      "text/html": [
       "<div>\n",
       "<style scoped>\n",
       "    .dataframe tbody tr th:only-of-type {\n",
       "        vertical-align: middle;\n",
       "    }\n",
       "\n",
       "    .dataframe tbody tr th {\n",
       "        vertical-align: top;\n",
       "    }\n",
       "\n",
       "    .dataframe thead th {\n",
       "        text-align: right;\n",
       "    }\n",
       "</style>\n",
       "<table border=\"1\" class=\"dataframe\">\n",
       "  <thead>\n",
       "    <tr style=\"text-align: right;\">\n",
       "      <th></th>\n",
       "      <th>calls</th>\n",
       "      <th>internet</th>\n",
       "      <th>message</th>\n",
       "      <th>income</th>\n",
       "    </tr>\n",
       "    <tr>\n",
       "      <th>tariff</th>\n",
       "      <th></th>\n",
       "      <th></th>\n",
       "      <th></th>\n",
       "      <th></th>\n",
       "    </tr>\n",
       "  </thead>\n",
       "  <tbody>\n",
       "    <tr>\n",
       "      <th>smart</th>\n",
       "      <td>36219.315784</td>\n",
       "      <td>33.028705</td>\n",
       "      <td>796.812958</td>\n",
       "      <td>669785.708006</td>\n",
       "    </tr>\n",
       "    <tr>\n",
       "      <th>ultra</th>\n",
       "      <td>100873.633397</td>\n",
       "      <td>97.091686</td>\n",
       "      <td>2285.266143</td>\n",
       "      <td>141516.745079</td>\n",
       "    </tr>\n",
       "  </tbody>\n",
       "</table>\n",
       "</div>"
      ],
      "text/plain": [
       "                calls   internet      message         income\n",
       "tariff                                                      \n",
       "smart    36219.315784  33.028705   796.812958  669785.708006\n",
       "ultra   100873.633397  97.091686  2285.266143  141516.745079"
      ]
     },
     "execution_count": 56,
     "metadata": {},
     "output_type": "execute_result"
    }
   ],
   "source": [
    "pivot = df.groupby('tariff')['calls','internet', 'message','income'].agg('var')\n",
    "pivot"
   ]
  },
  {
   "cell_type": "markdown",
   "metadata": {},
   "source": [
    "- Распределения похожи на нормальные\n",
    "- Звонки и сообщения смещены влево\n",
    "- Стандартное отклонение `smart` велико (если сравнивать со стоимостью самого тарифа). Это связано с нередкими превышениями использования услуг сверх стандартных пакетов.\n",
    "- В среднем выручка с пользователя `smart`'а значительно (более чем в 2 раза) больше стоимости самого тарифа"
   ]
  },
  {
   "cell_type": "code",
   "execution_count": 57,
   "metadata": {},
   "outputs": [
    {
     "data": {
      "text/plain": [
       "<AxesSubplot:xlabel='month'>"
      ]
     },
     "execution_count": 57,
     "metadata": {},
     "output_type": "execute_result"
    },
    {
     "data": {
      "image/png": "[encoded data removed]",
      "text/plain": [
       "<Figure size 1900x1000 with 1 Axes>"
      ]
     },
     "metadata": {},
     "output_type": "display_data"
    }
   ],
   "source": [
    "pivot = df.pivot_table(index='month', columns='tariff', values='income', aggfunc='sum')\n",
    "\n",
    "pivot.plot(kind='bar',rot=30)"
   ]
  },
  {
   "cell_type": "markdown",
   "metadata": {},
   "source": [
    "- Выручка стабильно растет. Это не может не радовать!\n",
    "- Выручка по `ultra` растет значительно быстрее"
   ]
  },
  {
   "cell_type": "markdown",
   "metadata": {},
   "source": [
    "## Проверка гипотез\n",
    "### Гипотеза №1"
   ]
  },
  {
   "cell_type": "markdown",
   "metadata": {},
   "source": [
    "**Гипотеза**\n",
    "\n",
    "Средняя выручка пользователей тарифов «Ультра» и «Смарт» различаются"
   ]
  },
  {
   "cell_type": "markdown",
   "metadata": {},
   "source": [
    "**Вводные**\n",
    "- Т.к. в обеих выборках по тарифам количество значений нельзя назвать недостаточным t-test проводить можно\n",
    "- По той же причине можно не приводить выборки одного размера\n",
    "- Пороговым значением возьмем 0,01. Размеры выборок позволяют задать такую точность\n",
    "\n",
    "**Гипотезы для теста**\n",
    "\n",
    "- *нулевая* - средние выручки равны\n",
    "- *альтернативная* - не равны\n"
   ]
  },
  {
   "cell_type": "code",
   "execution_count": 58,
   "metadata": {},
   "outputs": [
    {
     "name": "stdout",
     "output_type": "stream",
     "text": [
      "p-значение: 1.4229814360764067e-160\n",
      "Отвергаем нулевую гипотезу\n"
     ]
    }
   ],
   "source": [
    "smart = df_smart['income']\n",
    "ultra = df_ultra['income']\n",
    "\n",
    "alpha = .01\n",
    "\n",
    "results = st.ttest_ind(\n",
    "    smart, \n",
    "    ultra)\n",
    "\n",
    "print('p-значение:', results.pvalue)\n",
    "\n",
    "if results.pvalue < alpha:\n",
    "    print(\"Отвергаем нулевую гипотезу\")\n",
    "else:\n",
    "    print(\"Не получилось отвергнуть нулевую гипотезу\") "
   ]
  },
  {
   "cell_type": "markdown",
   "metadata": {},
   "source": [
    "#### Вывод"
   ]
  },
  {
   "cell_type": "markdown",
   "metadata": {},
   "source": [
    "Результат проведенного теста позволяет гипотезу отвергнуть."
   ]
  },
  {
   "cell_type": "markdown",
   "metadata": {},
   "source": [
    "### Гипотеза №2"
   ]
  },
  {
   "cell_type": "markdown",
   "metadata": {},
   "source": [
    "**Гипотеза**\n",
    "Средняя выручка пользователей из Москвы отличается от выручки пользователей из других регионов."
   ]
  },
  {
   "cell_type": "markdown",
   "metadata": {},
   "source": [
    "**Гипотезы для теста**\n",
    "\n",
    "- *нулевая* - средние выручки равны\n",
    "- *альтернативная* - не равны\n"
   ]
  },
  {
   "cell_type": "code",
   "execution_count": 59,
   "metadata": {},
   "outputs": [
    {
     "name": "stdout",
     "output_type": "stream",
     "text": [
      "<class 'pandas.core.frame.DataFrame'>\n",
      "Int64Index: 611 entries, 8 to 3162\n",
      "Data columns (total 13 columns):\n",
      " #   Column      Non-Null Count  Dtype         \n",
      "---  ------      --------------  -----         \n",
      " 0   user_id     611 non-null    int64         \n",
      " 1   month       611 non-null    datetime64[ns]\n",
      " 2   calls       611 non-null    float64       \n",
      " 3   internet    611 non-null    float64       \n",
      " 4   message     611 non-null    float64       \n",
      " 5   age         611 non-null    int64         \n",
      " 6   churn_date  41 non-null     datetime64[ns]\n",
      " 7   city        611 non-null    object        \n",
      " 8   first_name  611 non-null    object        \n",
      " 9   last_name   611 non-null    object        \n",
      " 10  reg_date    611 non-null    datetime64[ns]\n",
      " 11  tariff      611 non-null    object        \n",
      " 12  income      611 non-null    float64       \n",
      "dtypes: datetime64[ns](3), float64(4), int64(2), object(4)\n",
      "memory usage: 66.8+ KB\n",
      "<class 'pandas.core.frame.DataFrame'>\n",
      "Int64Index: 2603 entries, 0 to 3213\n",
      "Data columns (total 13 columns):\n",
      " #   Column      Non-Null Count  Dtype         \n",
      "---  ------      --------------  -----         \n",
      " 0   user_id     2603 non-null   int64         \n",
      " 1   month       2603 non-null   datetime64[ns]\n",
      " 2   calls       2603 non-null   float64       \n",
      " 3   internet    2603 non-null   float64       \n",
      " 4   message     2603 non-null   float64       \n",
      " 5   age         2603 non-null   int64         \n",
      " 6   churn_date  146 non-null    datetime64[ns]\n",
      " 7   city        2603 non-null   object        \n",
      " 8   first_name  2603 non-null   object        \n",
      " 9   last_name   2603 non-null   object        \n",
      " 10  reg_date    2603 non-null   datetime64[ns]\n",
      " 11  tariff      2603 non-null   object        \n",
      " 12  income      2603 non-null   float64       \n",
      "dtypes: datetime64[ns](3), float64(4), int64(2), object(4)\n",
      "memory usage: 284.7+ KB\n"
     ]
    }
   ],
   "source": [
    "msk = df[df['city'] == 'Москва']\n",
    "other = df[df['city'] != 'Москва']\n",
    "\n",
    "msk.info()\n",
    "other.info()"
   ]
  },
  {
   "cell_type": "markdown",
   "metadata": {},
   "source": [
    "Размеры выборок позволяют провести тест"
   ]
  },
  {
   "cell_type": "code",
   "execution_count": 60,
   "metadata": {},
   "outputs": [
    {
     "name": "stdout",
     "output_type": "stream",
     "text": [
      "p-значение: 0.5440152911670223\n",
      "Не получилось отвергнуть нулевую гипотезу\n"
     ]
    }
   ],
   "source": [
    "alpha = .01\n",
    "\n",
    "results = st.ttest_ind(msk['income'],\n",
    "                       other['income'])\n",
    "\n",
    "print('p-значение:', results.pvalue)\n",
    "\n",
    "if results.pvalue < alpha:\n",
    "    print(\"Отвергаем нулевую гипотезу\")\n",
    "else:\n",
    "    print(\"Не получилось отвергнуть нулевую гипотезу\") "
   ]
  },
  {
   "cell_type": "markdown",
   "metadata": {},
   "source": [
    "Проведенный тест не позволяет утверждать, что средняя выручка с пользователя из Москвы и регионов отличается. \n",
    "\n",
    "Значит и структура разделения пользователей по тарифам если и отличается, то не фатально."
   ]
  },
  {
   "cell_type": "markdown",
   "metadata": {},
   "source": [
    "#### Вывод\n",
    "\n",
    "Средняя выручка пользователей из Москвы и из регионов значительно не отличаются"
   ]
  },
  {
   "cell_type": "markdown",
   "metadata": {},
   "source": [
    "## Вывод\n",
    "\n",
    "- **Выручка стабильно растет**\n",
    "- **Выручка по `ultra` растет значительно быстрее**\n",
    "\n",
    "\n",
    "- Распределение по использованию тарифов пользователями напоминают нормальные без учета выбросов вызванных большим количеством людей, которые не пользовались какой-либо услугой либо пользовались очень мало.\n",
    "\n",
    "- Ни на одном из тарифов в среднем польностью не используются пакеты минут и SMS\n",
    "- Пользователи `smart` в среднем не укладываются в предоставленный пакет интернет трафика.\n",
    "\n",
    "***После анализа данных и проверки статистических гипотез можно сказать что для бизнеса тариф `ultra` интереснее т.к. приносит больше выручки несмотря на то, что пользователи `smart` часто не укладываются в заложенные в тариф пакеты и оплачивают дополнительные. Поэтому больший упор в рекламных компаниях имеет смысл сделать на `ultra`, `smart` же должен привлекать новых клиентов и давать возможность \"распробовать\" оператора и, возможно, дополнительные фичи, которые он предоставляет чтобы в дальнейшем использование более дорого тарифа ощущалось оправданным и понятным***"
   ]
  }
 ],
 "metadata": {
  "ExecuteTimeLog": [
   {
    "duration": 1504,
    "start_time": "2022-05-23T16:48:29.399Z"
   },
   {
    "duration": 160,
    "start_time": "2022-05-23T16:55:24.170Z"
   },
   {
    "duration": 1907,
    "start_time": "2022-05-23T16:55:55.651Z"
   },
   {
    "duration": 12,
    "start_time": "2022-05-23T16:56:12.263Z"
   },
   {
    "duration": 11,
    "start_time": "2022-05-23T16:58:09.669Z"
   },
   {
    "duration": 14,
    "start_time": "2022-05-23T16:59:08.081Z"
   },
   {
    "duration": 10,
    "start_time": "2022-05-23T17:00:07.106Z"
   },
   {
    "duration": 20,
    "start_time": "2022-05-23T17:00:15.751Z"
   },
   {
    "duration": 15,
    "start_time": "2022-05-23T17:01:23.194Z"
   },
   {
    "duration": 27,
    "start_time": "2022-05-23T17:03:44.023Z"
   },
   {
    "duration": 31,
    "start_time": "2022-05-23T17:03:51.350Z"
   },
   {
    "duration": 29,
    "start_time": "2022-05-23T17:04:00.620Z"
   },
   {
    "duration": 25,
    "start_time": "2022-05-23T17:04:45.229Z"
   },
   {
    "duration": 28,
    "start_time": "2022-05-23T17:05:01.884Z"
   },
   {
    "duration": 21,
    "start_time": "2022-05-23T17:10:05.775Z"
   },
   {
    "duration": 36,
    "start_time": "2022-05-23T17:26:54.993Z"
   },
   {
    "duration": 6,
    "start_time": "2022-05-23T17:27:28.518Z"
   },
   {
    "duration": 43,
    "start_time": "2022-05-23T17:28:20.814Z"
   },
   {
    "duration": 18,
    "start_time": "2022-05-23T17:28:34.519Z"
   },
   {
    "duration": 54,
    "start_time": "2022-05-23T17:32:45.763Z"
   },
   {
    "duration": 10,
    "start_time": "2022-05-23T17:33:21.352Z"
   },
   {
    "duration": 56,
    "start_time": "2022-05-23T17:33:39.921Z"
   },
   {
    "duration": 44,
    "start_time": "2022-05-23T17:34:15.303Z"
   },
   {
    "duration": 54,
    "start_time": "2022-05-23T17:35:13.654Z"
   },
   {
    "duration": 36,
    "start_time": "2022-05-23T17:35:44.506Z"
   },
   {
    "duration": 49,
    "start_time": "2022-05-23T17:36:24.131Z"
   },
   {
    "duration": 19,
    "start_time": "2022-05-23T17:36:42.741Z"
   },
   {
    "duration": 15,
    "start_time": "2022-05-23T17:36:56.407Z"
   },
   {
    "duration": 20,
    "start_time": "2022-05-23T17:37:04.142Z"
   },
   {
    "duration": 31,
    "start_time": "2022-05-23T17:37:50.274Z"
   },
   {
    "duration": 6,
    "start_time": "2022-05-23T17:38:05.647Z"
   },
   {
    "duration": 21,
    "start_time": "2022-05-23T17:38:15.123Z"
   },
   {
    "duration": 23,
    "start_time": "2022-05-23T17:38:27.423Z"
   },
   {
    "duration": 35,
    "start_time": "2022-05-23T17:42:07.974Z"
   },
   {
    "duration": 82,
    "start_time": "2022-05-23T17:43:04.774Z"
   },
   {
    "duration": 3,
    "start_time": "2022-05-23T17:43:32.613Z"
   },
   {
    "duration": 71,
    "start_time": "2022-05-23T17:43:41.494Z"
   },
   {
    "duration": 73,
    "start_time": "2022-05-23T17:44:20.054Z"
   },
   {
    "duration": 4,
    "start_time": "2022-05-23T17:44:32.400Z"
   },
   {
    "duration": 447,
    "start_time": "2022-05-23T17:44:32.406Z"
   },
   {
    "duration": 32,
    "start_time": "2022-05-23T17:44:32.854Z"
   },
   {
    "duration": 33,
    "start_time": "2022-05-23T17:44:32.888Z"
   },
   {
    "duration": 22,
    "start_time": "2022-05-23T17:44:32.922Z"
   },
   {
    "duration": 14,
    "start_time": "2022-05-23T17:44:32.946Z"
   },
   {
    "duration": 32,
    "start_time": "2022-05-23T17:44:32.987Z"
   },
   {
    "duration": 13,
    "start_time": "2022-05-23T17:44:33.021Z"
   },
   {
    "duration": 78,
    "start_time": "2022-05-23T17:44:33.036Z"
   },
   {
    "duration": 41,
    "start_time": "2022-05-23T17:44:33.117Z"
   },
   {
    "duration": 51,
    "start_time": "2022-05-23T17:44:33.159Z"
   },
   {
    "duration": 16,
    "start_time": "2022-05-23T17:44:33.211Z"
   },
   {
    "duration": 29,
    "start_time": "2022-05-23T17:44:33.229Z"
   },
   {
    "duration": 55,
    "start_time": "2022-05-23T17:44:33.259Z"
   },
   {
    "duration": 72,
    "start_time": "2022-05-23T17:44:34.997Z"
   },
   {
    "duration": 3,
    "start_time": "2022-05-23T17:44:51.710Z"
   },
   {
    "duration": 77,
    "start_time": "2022-05-23T17:44:56.949Z"
   },
   {
    "duration": 221,
    "start_time": "2022-05-23T17:45:48.975Z"
   },
   {
    "duration": 219,
    "start_time": "2022-05-23T17:46:48.393Z"
   },
   {
    "duration": 12,
    "start_time": "2022-05-23T17:47:13.112Z"
   },
   {
    "duration": 307,
    "start_time": "2022-05-23T17:47:58.374Z"
   },
   {
    "duration": 241,
    "start_time": "2022-05-23T17:49:51.169Z"
   },
   {
    "duration": 350,
    "start_time": "2022-05-23T17:51:00.183Z"
   },
   {
    "duration": 700,
    "start_time": "2022-05-23T17:51:18.847Z"
   },
   {
    "duration": 204,
    "start_time": "2022-05-23T17:51:32.951Z"
   },
   {
    "duration": 5,
    "start_time": "2022-05-23T17:52:04.715Z"
   },
   {
    "duration": 327,
    "start_time": "2022-05-23T17:52:09.679Z"
   },
   {
    "duration": 782,
    "start_time": "2022-05-23T17:53:07.547Z"
   },
   {
    "duration": 195,
    "start_time": "2022-05-23T17:54:50.429Z"
   },
   {
    "duration": 355,
    "start_time": "2022-05-23T17:55:22.093Z"
   },
   {
    "duration": 408,
    "start_time": "2022-05-23T17:55:35.522Z"
   },
   {
    "duration": 338,
    "start_time": "2022-05-23T17:55:46.897Z"
   },
   {
    "duration": 12,
    "start_time": "2022-05-23T17:56:36.721Z"
   },
   {
    "duration": 11,
    "start_time": "2022-05-23T17:56:56.321Z"
   },
   {
    "duration": 22,
    "start_time": "2022-05-23T17:57:07.682Z"
   },
   {
    "duration": 8,
    "start_time": "2022-05-23T17:57:15.299Z"
   },
   {
    "duration": 15,
    "start_time": "2022-05-23T17:57:36.498Z"
   },
   {
    "duration": 12,
    "start_time": "2022-05-23T17:59:46.020Z"
   },
   {
    "duration": 10,
    "start_time": "2022-05-23T18:00:23.142Z"
   },
   {
    "duration": 8,
    "start_time": "2022-05-23T18:01:23.405Z"
   },
   {
    "duration": 9,
    "start_time": "2022-05-23T18:01:53.013Z"
   },
   {
    "duration": 10,
    "start_time": "2022-05-23T18:02:07.628Z"
   },
   {
    "duration": 6,
    "start_time": "2022-05-23T18:02:12.146Z"
   },
   {
    "duration": 22,
    "start_time": "2022-05-23T18:03:19.229Z"
   },
   {
    "duration": 799,
    "start_time": "2022-05-23T18:03:53.074Z"
   },
   {
    "duration": 342,
    "start_time": "2022-05-23T18:04:50.886Z"
   },
   {
    "duration": 11,
    "start_time": "2022-05-23T18:06:51.921Z"
   },
   {
    "duration": 291,
    "start_time": "2022-05-23T18:06:58.511Z"
   },
   {
    "duration": 640,
    "start_time": "2022-05-23T18:13:01.906Z"
   },
   {
    "duration": 315,
    "start_time": "2022-05-23T18:13:21.253Z"
   },
   {
    "duration": 316,
    "start_time": "2022-05-23T18:13:39.770Z"
   },
   {
    "duration": 318,
    "start_time": "2022-05-23T18:13:55.954Z"
   },
   {
    "duration": 394,
    "start_time": "2022-05-23T18:15:14.579Z"
   },
   {
    "duration": 30,
    "start_time": "2022-05-23T18:15:59.531Z"
   },
   {
    "duration": 386,
    "start_time": "2022-05-23T18:21:53.548Z"
   },
   {
    "duration": 22,
    "start_time": "2022-05-23T18:22:19.293Z"
   },
   {
    "duration": 30,
    "start_time": "2022-05-23T18:23:08.162Z"
   },
   {
    "duration": 6,
    "start_time": "2022-05-23T18:23:55.213Z"
   },
   {
    "duration": 4,
    "start_time": "2022-05-23T18:24:09.102Z"
   },
   {
    "duration": 5,
    "start_time": "2022-05-23T18:24:12.654Z"
   },
   {
    "duration": 10,
    "start_time": "2022-05-23T18:24:16.385Z"
   },
   {
    "duration": 427,
    "start_time": "2022-05-23T18:24:16.397Z"
   },
   {
    "duration": 30,
    "start_time": "2022-05-23T18:24:16.825Z"
   },
   {
    "duration": 24,
    "start_time": "2022-05-23T18:24:16.857Z"
   },
   {
    "duration": 29,
    "start_time": "2022-05-23T18:24:16.882Z"
   },
   {
    "duration": 16,
    "start_time": "2022-05-23T18:24:16.913Z"
   },
   {
    "duration": 17,
    "start_time": "2022-05-23T18:24:16.931Z"
   },
   {
    "duration": 49,
    "start_time": "2022-05-23T18:24:16.950Z"
   },
   {
    "duration": 51,
    "start_time": "2022-05-23T18:24:17.001Z"
   },
   {
    "duration": 61,
    "start_time": "2022-05-23T18:24:17.055Z"
   },
   {
    "duration": 31,
    "start_time": "2022-05-23T18:24:17.118Z"
   },
   {
    "duration": 16,
    "start_time": "2022-05-23T18:24:17.151Z"
   },
   {
    "duration": 43,
    "start_time": "2022-05-23T18:24:17.169Z"
   },
   {
    "duration": 24,
    "start_time": "2022-05-23T18:24:17.213Z"
   },
   {
    "duration": 211,
    "start_time": "2022-05-23T18:24:17.239Z"
   },
   {
    "duration": 267,
    "start_time": "2022-05-23T18:24:17.452Z"
   },
   {
    "duration": 307,
    "start_time": "2022-05-23T18:24:17.721Z"
   },
   {
    "duration": 374,
    "start_time": "2022-05-23T18:24:18.031Z"
   },
   {
    "duration": 21,
    "start_time": "2022-05-23T18:24:18.406Z"
   },
   {
    "duration": 283,
    "start_time": "2022-05-23T18:24:18.428Z"
   },
   {
    "duration": 284,
    "start_time": "2022-05-23T18:24:18.713Z"
   },
   {
    "duration": 339,
    "start_time": "2022-05-23T18:24:18.999Z"
   },
   {
    "duration": 21,
    "start_time": "2022-05-23T18:24:19.340Z"
   },
   {
    "duration": 366,
    "start_time": "2022-05-23T18:24:19.363Z"
   },
   {
    "duration": 21,
    "start_time": "2022-05-23T18:24:19.731Z"
   },
   {
    "duration": 6,
    "start_time": "2022-05-23T18:25:30.326Z"
   },
   {
    "duration": 426,
    "start_time": "2022-05-23T18:26:26.624Z"
   },
   {
    "duration": 782,
    "start_time": "2022-05-23T18:26:46.974Z"
   },
   {
    "duration": 169,
    "start_time": "2022-05-23T18:27:11.894Z"
   },
   {
    "duration": 25,
    "start_time": "2022-05-23T18:28:57.481Z"
   },
   {
    "duration": 23,
    "start_time": "2022-05-23T18:30:20.081Z"
   },
   {
    "duration": 209,
    "start_time": "2022-05-23T18:30:42.185Z"
   },
   {
    "duration": 84,
    "start_time": "2022-05-23T18:31:02.588Z"
   },
   {
    "duration": 190,
    "start_time": "2022-05-23T18:31:05.010Z"
   },
   {
    "duration": 1140,
    "start_time": "2022-05-23T18:31:53.705Z"
   },
   {
    "duration": 879,
    "start_time": "2022-05-23T18:32:23.369Z"
   },
   {
    "duration": 376,
    "start_time": "2022-05-23T18:32:49.515Z"
   },
   {
    "duration": 358,
    "start_time": "2022-05-23T18:33:07.155Z"
   },
   {
    "duration": 251,
    "start_time": "2022-05-23T18:33:22.705Z"
   },
   {
    "duration": 1316,
    "start_time": "2022-05-25T06:44:32.144Z"
   },
   {
    "duration": 963,
    "start_time": "2022-05-25T06:44:33.462Z"
   },
   {
    "duration": 33,
    "start_time": "2022-05-25T06:44:34.426Z"
   },
   {
    "duration": 23,
    "start_time": "2022-05-25T06:44:34.461Z"
   },
   {
    "duration": 38,
    "start_time": "2022-05-25T06:44:34.486Z"
   },
   {
    "duration": 14,
    "start_time": "2022-05-25T06:44:34.525Z"
   },
   {
    "duration": 18,
    "start_time": "2022-05-25T06:44:34.541Z"
   },
   {
    "duration": 12,
    "start_time": "2022-05-25T06:44:34.561Z"
   },
   {
    "duration": 77,
    "start_time": "2022-05-25T06:44:34.574Z"
   },
   {
    "duration": 40,
    "start_time": "2022-05-25T06:44:34.652Z"
   },
   {
    "duration": 51,
    "start_time": "2022-05-25T06:44:34.693Z"
   },
   {
    "duration": 16,
    "start_time": "2022-05-25T06:44:34.745Z"
   },
   {
    "duration": 22,
    "start_time": "2022-05-25T06:44:34.762Z"
   },
   {
    "duration": 50,
    "start_time": "2022-05-25T06:44:34.786Z"
   },
   {
    "duration": 185,
    "start_time": "2022-05-25T06:44:34.838Z"
   },
   {
    "duration": 325,
    "start_time": "2022-05-25T06:44:35.025Z"
   },
   {
    "duration": 249,
    "start_time": "2022-05-25T06:44:35.351Z"
   },
   {
    "duration": 415,
    "start_time": "2022-05-25T06:44:35.601Z"
   },
   {
    "duration": 22,
    "start_time": "2022-05-25T06:44:36.017Z"
   },
   {
    "duration": 242,
    "start_time": "2022-05-25T06:44:36.040Z"
   },
   {
    "duration": 259,
    "start_time": "2022-05-25T06:44:36.283Z"
   },
   {
    "duration": 319,
    "start_time": "2022-05-25T06:44:36.544Z"
   },
   {
    "duration": 19,
    "start_time": "2022-05-25T06:44:36.865Z"
   },
   {
    "duration": 329,
    "start_time": "2022-05-25T06:44:36.886Z"
   },
   {
    "duration": 19,
    "start_time": "2022-05-25T06:44:37.217Z"
   },
   {
    "duration": 5,
    "start_time": "2022-05-25T06:44:37.238Z"
   },
   {
    "duration": 7,
    "start_time": "2022-05-25T06:44:37.245Z"
   },
   {
    "duration": 334,
    "start_time": "2022-05-25T06:44:37.254Z"
   },
   {
    "duration": 172,
    "start_time": "2022-05-25T06:44:37.590Z"
   },
   {
    "duration": 4,
    "start_time": "2022-05-25T06:48:45.117Z"
   },
   {
    "duration": 4,
    "start_time": "2022-05-25T06:49:08.782Z"
   },
   {
    "duration": 5,
    "start_time": "2022-05-25T06:49:17.374Z"
   },
   {
    "duration": 6,
    "start_time": "2022-05-25T06:49:49.965Z"
   },
   {
    "duration": 5,
    "start_time": "2022-05-25T06:51:30.069Z"
   },
   {
    "duration": 5,
    "start_time": "2022-05-25T06:51:49.202Z"
   },
   {
    "duration": 181,
    "start_time": "2022-05-25T06:53:40.786Z"
   },
   {
    "duration": 6,
    "start_time": "2022-05-25T06:53:46.342Z"
   },
   {
    "duration": 8,
    "start_time": "2022-05-25T06:57:53.139Z"
   },
   {
    "duration": 721,
    "start_time": "2022-05-25T07:00:42.670Z"
   },
   {
    "duration": 11,
    "start_time": "2022-05-25T07:04:43.715Z"
   },
   {
    "duration": 835,
    "start_time": "2022-05-25T07:04:51.917Z"
   },
   {
    "duration": 18,
    "start_time": "2022-05-25T07:05:19.798Z"
   },
   {
    "duration": 38,
    "start_time": "2022-05-25T07:05:36.012Z"
   },
   {
    "duration": 23,
    "start_time": "2022-05-25T07:06:30.053Z"
   },
   {
    "duration": 29,
    "start_time": "2022-05-25T07:06:47.544Z"
   },
   {
    "duration": 21,
    "start_time": "2022-05-25T07:07:09.090Z"
   },
   {
    "duration": 828,
    "start_time": "2022-05-25T07:07:28.839Z"
   },
   {
    "duration": 31,
    "start_time": "2022-05-25T07:07:47.106Z"
   },
   {
    "duration": 21,
    "start_time": "2022-05-25T07:09:18.247Z"
   },
   {
    "duration": 462,
    "start_time": "2022-05-25T07:10:11.208Z"
   },
   {
    "duration": 425,
    "start_time": "2022-05-25T07:10:22.661Z"
   },
   {
    "duration": 19,
    "start_time": "2022-05-25T07:11:03.695Z"
   },
   {
    "duration": 16,
    "start_time": "2022-05-25T07:11:59.583Z"
   },
   {
    "duration": 22,
    "start_time": "2022-05-25T07:12:25.415Z"
   },
   {
    "duration": 17,
    "start_time": "2022-05-25T07:13:22.746Z"
   },
   {
    "duration": 17,
    "start_time": "2022-05-25T07:13:46.462Z"
   },
   {
    "duration": 4,
    "start_time": "2022-05-25T07:15:08.175Z"
   },
   {
    "duration": 6,
    "start_time": "2022-05-25T07:15:16.737Z"
   },
   {
    "duration": 12,
    "start_time": "2022-05-25T07:16:58.496Z"
   },
   {
    "duration": 21,
    "start_time": "2022-05-25T07:17:14.560Z"
   },
   {
    "duration": 6,
    "start_time": "2022-05-25T07:17:17.183Z"
   },
   {
    "duration": 16,
    "start_time": "2022-05-25T07:17:40.526Z"
   },
   {
    "duration": 22,
    "start_time": "2022-05-25T07:17:48.892Z"
   },
   {
    "duration": 9,
    "start_time": "2022-05-25T07:17:50.119Z"
   },
   {
    "duration": 5,
    "start_time": "2022-05-25T07:18:25.245Z"
   },
   {
    "duration": 22,
    "start_time": "2022-05-25T07:19:08.495Z"
   },
   {
    "duration": 22,
    "start_time": "2022-05-25T07:19:17.791Z"
   },
   {
    "duration": 34,
    "start_time": "2022-05-25T07:20:07.216Z"
   },
   {
    "duration": 288,
    "start_time": "2022-05-25T07:20:37.950Z"
   },
   {
    "duration": 19,
    "start_time": "2022-05-25T07:20:42.463Z"
   },
   {
    "duration": 25,
    "start_time": "2022-05-25T07:21:03.762Z"
   },
   {
    "duration": 23,
    "start_time": "2022-05-25T07:21:11.259Z"
   },
   {
    "duration": 8,
    "start_time": "2022-05-25T07:21:12.877Z"
   },
   {
    "duration": 28,
    "start_time": "2022-05-25T07:21:16.273Z"
   },
   {
    "duration": 5,
    "start_time": "2022-05-25T07:21:21.783Z"
   },
   {
    "duration": 13,
    "start_time": "2022-05-25T07:24:35.551Z"
   },
   {
    "duration": 19,
    "start_time": "2022-05-25T07:24:53.439Z"
   },
   {
    "duration": 11,
    "start_time": "2022-05-25T07:24:54.374Z"
   },
   {
    "duration": 17,
    "start_time": "2022-05-25T07:25:11.511Z"
   },
   {
    "duration": 24,
    "start_time": "2022-05-25T07:25:17.206Z"
   },
   {
    "duration": 8,
    "start_time": "2022-05-25T07:25:18.140Z"
   },
   {
    "duration": 14,
    "start_time": "2022-05-25T07:26:34.837Z"
   },
   {
    "duration": 11,
    "start_time": "2022-05-25T07:28:13.544Z"
   },
   {
    "duration": 10,
    "start_time": "2022-05-25T07:28:39.449Z"
   },
   {
    "duration": 11,
    "start_time": "2022-05-25T07:28:47.078Z"
   },
   {
    "duration": 24,
    "start_time": "2022-05-25T07:29:01.766Z"
   },
   {
    "duration": 12,
    "start_time": "2022-05-25T07:29:04.840Z"
   },
   {
    "duration": 16,
    "start_time": "2022-05-25T07:29:19.834Z"
   },
   {
    "duration": 24,
    "start_time": "2022-05-25T07:30:46.542Z"
   },
   {
    "duration": 15,
    "start_time": "2022-05-25T07:30:47.470Z"
   },
   {
    "duration": 29,
    "start_time": "2022-05-25T07:31:12.643Z"
   },
   {
    "duration": 19,
    "start_time": "2022-05-25T07:31:13.339Z"
   },
   {
    "duration": 8,
    "start_time": "2022-05-25T07:31:27.470Z"
   },
   {
    "duration": 40,
    "start_time": "2022-05-25T07:31:35.718Z"
   },
   {
    "duration": 12,
    "start_time": "2022-05-25T07:31:36.353Z"
   },
   {
    "duration": 8,
    "start_time": "2022-05-25T07:32:01.308Z"
   },
   {
    "duration": 36,
    "start_time": "2022-05-25T07:32:06.223Z"
   },
   {
    "duration": 9,
    "start_time": "2022-05-25T07:32:06.902Z"
   },
   {
    "duration": 10,
    "start_time": "2022-05-25T07:32:19.870Z"
   },
   {
    "duration": 4,
    "start_time": "2022-05-25T07:32:38.399Z"
   },
   {
    "duration": 10,
    "start_time": "2022-05-25T07:32:48.049Z"
   },
   {
    "duration": 8,
    "start_time": "2022-05-25T07:32:48.337Z"
   },
   {
    "duration": 5,
    "start_time": "2022-05-25T07:33:02.850Z"
   },
   {
    "duration": 29,
    "start_time": "2022-05-25T07:33:18.205Z"
   },
   {
    "duration": 9,
    "start_time": "2022-05-25T07:33:29.592Z"
   },
   {
    "duration": 41,
    "start_time": "2022-05-25T07:33:38.923Z"
   },
   {
    "duration": 9,
    "start_time": "2022-05-25T07:33:39.647Z"
   },
   {
    "duration": 21,
    "start_time": "2022-05-25T07:34:34.958Z"
   },
   {
    "duration": 13,
    "start_time": "2022-05-25T07:34:35.718Z"
   },
   {
    "duration": 26,
    "start_time": "2022-05-25T07:35:27.711Z"
   },
   {
    "duration": 58,
    "start_time": "2022-05-25T07:35:28.869Z"
   },
   {
    "duration": 27,
    "start_time": "2022-05-25T07:35:35.549Z"
   },
   {
    "duration": 28,
    "start_time": "2022-05-25T07:36:40.621Z"
   },
   {
    "duration": 11,
    "start_time": "2022-05-25T07:36:41.342Z"
   },
   {
    "duration": 15,
    "start_time": "2022-05-25T07:37:01.887Z"
   },
   {
    "duration": 11,
    "start_time": "2022-05-25T07:37:59.551Z"
   },
   {
    "duration": 27,
    "start_time": "2022-05-25T07:38:34.520Z"
   },
   {
    "duration": 11,
    "start_time": "2022-05-25T07:38:35.238Z"
   },
   {
    "duration": 26,
    "start_time": "2022-05-25T07:38:56.757Z"
   },
   {
    "duration": 20,
    "start_time": "2022-05-25T07:38:57.870Z"
   },
   {
    "duration": 6,
    "start_time": "2022-05-25T07:39:15.598Z"
   },
   {
    "duration": 7,
    "start_time": "2022-05-25T07:39:26.837Z"
   },
   {
    "duration": 20,
    "start_time": "2022-05-25T07:39:39.053Z"
   },
   {
    "duration": 8,
    "start_time": "2022-05-25T07:39:39.989Z"
   },
   {
    "duration": 6,
    "start_time": "2022-05-25T07:39:40.750Z"
   },
   {
    "duration": 21,
    "start_time": "2022-05-25T07:39:54.336Z"
   },
   {
    "duration": 15,
    "start_time": "2022-05-25T07:39:54.719Z"
   },
   {
    "duration": 10,
    "start_time": "2022-05-25T07:43:41.211Z"
   },
   {
    "duration": 9,
    "start_time": "2022-05-25T07:44:30.188Z"
   },
   {
    "duration": 12,
    "start_time": "2022-05-25T07:44:37.786Z"
   },
   {
    "duration": 4,
    "start_time": "2022-05-25T07:44:45.354Z"
   },
   {
    "duration": 392,
    "start_time": "2022-05-25T07:44:45.359Z"
   },
   {
    "duration": 28,
    "start_time": "2022-05-25T07:44:45.753Z"
   },
   {
    "duration": 25,
    "start_time": "2022-05-25T07:44:45.782Z"
   },
   {
    "duration": 23,
    "start_time": "2022-05-25T07:44:45.810Z"
   },
   {
    "duration": 14,
    "start_time": "2022-05-25T07:44:45.835Z"
   },
   {
    "duration": 16,
    "start_time": "2022-05-25T07:44:45.851Z"
   },
   {
    "duration": 12,
    "start_time": "2022-05-25T07:44:45.869Z"
   },
   {
    "duration": 83,
    "start_time": "2022-05-25T07:44:45.883Z"
   },
   {
    "duration": 58,
    "start_time": "2022-05-25T07:44:45.967Z"
   },
   {
    "duration": 32,
    "start_time": "2022-05-25T07:44:46.028Z"
   },
   {
    "duration": 16,
    "start_time": "2022-05-25T07:44:46.062Z"
   },
   {
    "duration": 47,
    "start_time": "2022-05-25T07:44:46.079Z"
   },
   {
    "duration": 9,
    "start_time": "2022-05-25T07:44:46.128Z"
   },
   {
    "duration": 24,
    "start_time": "2022-05-25T07:44:46.139Z"
   },
   {
    "duration": 204,
    "start_time": "2022-05-25T07:44:46.165Z"
   },
   {
    "duration": 268,
    "start_time": "2022-05-25T07:44:46.370Z"
   },
   {
    "duration": 275,
    "start_time": "2022-05-25T07:44:46.640Z"
   },
   {
    "duration": 340,
    "start_time": "2022-05-25T07:44:46.916Z"
   },
   {
    "duration": 22,
    "start_time": "2022-05-25T07:44:47.258Z"
   },
   {
    "duration": 276,
    "start_time": "2022-05-25T07:44:47.282Z"
   },
   {
    "duration": 273,
    "start_time": "2022-05-25T07:44:47.560Z"
   },
   {
    "duration": 355,
    "start_time": "2022-05-25T07:44:47.835Z"
   },
   {
    "duration": 19,
    "start_time": "2022-05-25T07:44:48.191Z"
   },
   {
    "duration": 326,
    "start_time": "2022-05-25T07:44:48.224Z"
   },
   {
    "duration": 17,
    "start_time": "2022-05-25T07:44:48.552Z"
   },
   {
    "duration": 8,
    "start_time": "2022-05-25T07:44:48.571Z"
   },
   {
    "duration": 9,
    "start_time": "2022-05-25T07:44:48.580Z"
   },
   {
    "duration": 340,
    "start_time": "2022-05-25T07:44:48.592Z"
   },
   {
    "duration": 6,
    "start_time": "2022-05-25T07:44:48.933Z"
   },
   {
    "duration": 30,
    "start_time": "2022-05-25T07:44:48.940Z"
   },
   {
    "duration": 21,
    "start_time": "2022-05-25T07:44:48.971Z"
   },
   {
    "duration": 45,
    "start_time": "2022-05-25T07:44:48.994Z"
   },
   {
    "duration": 25,
    "start_time": "2022-05-25T07:44:49.040Z"
   },
   {
    "duration": 9,
    "start_time": "2022-05-25T07:44:49.067Z"
   },
   {
    "duration": 22,
    "start_time": "2022-05-25T07:44:52.412Z"
   },
   {
    "duration": 9,
    "start_time": "2022-05-25T07:44:54.302Z"
   },
   {
    "duration": 32,
    "start_time": "2022-05-25T08:25:23.603Z"
   },
   {
    "duration": 11,
    "start_time": "2022-05-25T08:25:32.343Z"
   },
   {
    "duration": 1325,
    "start_time": "2022-05-25T10:42:15.556Z"
   },
   {
    "duration": 1084,
    "start_time": "2022-05-25T10:42:16.883Z"
   },
   {
    "duration": 37,
    "start_time": "2022-05-25T10:42:17.969Z"
   },
   {
    "duration": 33,
    "start_time": "2022-05-25T10:42:18.008Z"
   },
   {
    "duration": 24,
    "start_time": "2022-05-25T10:42:18.043Z"
   },
   {
    "duration": 15,
    "start_time": "2022-05-25T10:42:18.068Z"
   },
   {
    "duration": 50,
    "start_time": "2022-05-25T10:42:18.085Z"
   },
   {
    "duration": 15,
    "start_time": "2022-05-25T10:42:18.137Z"
   },
   {
    "duration": 79,
    "start_time": "2022-05-25T10:42:18.153Z"
   },
   {
    "duration": 43,
    "start_time": "2022-05-25T10:42:18.236Z"
   },
   {
    "duration": 53,
    "start_time": "2022-05-25T10:42:18.280Z"
   },
   {
    "duration": 17,
    "start_time": "2022-05-25T10:42:18.336Z"
   },
   {
    "duration": 22,
    "start_time": "2022-05-25T10:42:18.355Z"
   },
   {
    "duration": 11,
    "start_time": "2022-05-25T10:42:18.379Z"
   },
   {
    "duration": 66,
    "start_time": "2022-05-25T10:42:18.392Z"
   },
   {
    "duration": 183,
    "start_time": "2022-05-25T10:42:18.459Z"
   },
   {
    "duration": 276,
    "start_time": "2022-05-25T10:42:18.644Z"
   },
   {
    "duration": 370,
    "start_time": "2022-05-25T10:42:18.922Z"
   },
   {
    "duration": 476,
    "start_time": "2022-05-25T10:42:19.294Z"
   },
   {
    "duration": 22,
    "start_time": "2022-05-25T10:42:19.772Z"
   },
   {
    "duration": 296,
    "start_time": "2022-05-25T10:42:19.795Z"
   },
   {
    "duration": 291,
    "start_time": "2022-05-25T10:42:20.092Z"
   },
   {
    "duration": 368,
    "start_time": "2022-05-25T10:42:20.385Z"
   },
   {
    "duration": 19,
    "start_time": "2022-05-25T10:42:20.754Z"
   },
   {
    "duration": 346,
    "start_time": "2022-05-25T10:42:20.774Z"
   },
   {
    "duration": 24,
    "start_time": "2022-05-25T10:42:21.122Z"
   },
   {
    "duration": 4,
    "start_time": "2022-05-25T10:42:21.148Z"
   },
   {
    "duration": 5,
    "start_time": "2022-05-25T10:42:21.156Z"
   },
   {
    "duration": 368,
    "start_time": "2022-05-25T10:42:21.163Z"
   },
   {
    "duration": 10,
    "start_time": "2022-05-25T10:42:21.533Z"
   },
   {
    "duration": 29,
    "start_time": "2022-05-25T10:42:21.545Z"
   },
   {
    "duration": 21,
    "start_time": "2022-05-25T10:42:21.575Z"
   },
   {
    "duration": 40,
    "start_time": "2022-05-25T10:42:21.598Z"
   },
   {
    "duration": 25,
    "start_time": "2022-05-25T10:42:21.640Z"
   },
   {
    "duration": 9,
    "start_time": "2022-05-25T10:42:21.666Z"
   },
   {
    "duration": 47,
    "start_time": "2022-05-25T10:42:21.677Z"
   },
   {
    "duration": 14,
    "start_time": "2022-05-25T10:42:21.726Z"
   },
   {
    "duration": 29,
    "start_time": "2022-05-25T10:42:21.742Z"
   },
   {
    "duration": 9,
    "start_time": "2022-05-25T10:42:21.772Z"
   },
   {
    "duration": 110,
    "start_time": "2022-05-25T10:47:54.050Z"
   },
   {
    "duration": 4,
    "start_time": "2022-05-25T10:49:05.207Z"
   },
   {
    "duration": 477,
    "start_time": "2022-05-25T10:49:05.213Z"
   },
   {
    "duration": 33,
    "start_time": "2022-05-25T10:49:05.691Z"
   },
   {
    "duration": 46,
    "start_time": "2022-05-25T10:49:05.726Z"
   },
   {
    "duration": 27,
    "start_time": "2022-05-25T10:49:05.774Z"
   },
   {
    "duration": 15,
    "start_time": "2022-05-25T10:49:05.802Z"
   },
   {
    "duration": 27,
    "start_time": "2022-05-25T10:49:05.818Z"
   },
   {
    "duration": 31,
    "start_time": "2022-05-25T10:49:05.847Z"
   },
   {
    "duration": 60,
    "start_time": "2022-05-25T10:49:05.880Z"
   },
   {
    "duration": 58,
    "start_time": "2022-05-25T10:49:05.942Z"
   },
   {
    "duration": 38,
    "start_time": "2022-05-25T10:49:06.001Z"
   },
   {
    "duration": 18,
    "start_time": "2022-05-25T10:49:06.041Z"
   },
   {
    "duration": 51,
    "start_time": "2022-05-25T10:49:06.061Z"
   },
   {
    "duration": 29,
    "start_time": "2022-05-25T10:49:06.113Z"
   },
   {
    "duration": 39,
    "start_time": "2022-05-25T10:49:06.144Z"
   },
   {
    "duration": 204,
    "start_time": "2022-05-25T10:49:06.185Z"
   },
   {
    "duration": 278,
    "start_time": "2022-05-25T10:49:06.391Z"
   },
   {
    "duration": 301,
    "start_time": "2022-05-25T10:49:06.671Z"
   },
   {
    "duration": 469,
    "start_time": "2022-05-25T10:49:06.974Z"
   },
   {
    "duration": 22,
    "start_time": "2022-05-25T10:49:07.444Z"
   },
   {
    "duration": 270,
    "start_time": "2022-05-25T10:49:07.468Z"
   },
   {
    "duration": 301,
    "start_time": "2022-05-25T10:49:07.740Z"
   },
   {
    "duration": 350,
    "start_time": "2022-05-25T10:49:08.043Z"
   },
   {
    "duration": 29,
    "start_time": "2022-05-25T10:49:08.395Z"
   },
   {
    "duration": 352,
    "start_time": "2022-05-25T10:49:08.426Z"
   },
   {
    "duration": 19,
    "start_time": "2022-05-25T10:49:08.779Z"
   },
   {
    "duration": 17,
    "start_time": "2022-05-25T10:49:08.799Z"
   },
   {
    "duration": 21,
    "start_time": "2022-05-25T10:49:08.817Z"
   },
   {
    "duration": 371,
    "start_time": "2022-05-25T10:49:08.840Z"
   },
   {
    "duration": 5,
    "start_time": "2022-05-25T10:49:09.213Z"
   },
   {
    "duration": 52,
    "start_time": "2022-05-25T10:49:09.223Z"
   },
   {
    "duration": 24,
    "start_time": "2022-05-25T10:49:09.277Z"
   },
   {
    "duration": 28,
    "start_time": "2022-05-25T10:49:09.302Z"
   },
   {
    "duration": 30,
    "start_time": "2022-05-25T10:49:09.332Z"
   },
   {
    "duration": 8,
    "start_time": "2022-05-25T10:49:09.364Z"
   },
   {
    "duration": 28,
    "start_time": "2022-05-25T10:49:09.373Z"
   },
   {
    "duration": 19,
    "start_time": "2022-05-25T10:49:09.404Z"
   },
   {
    "duration": 48,
    "start_time": "2022-05-25T10:49:09.425Z"
   },
   {
    "duration": 8,
    "start_time": "2022-05-25T10:49:09.474Z"
   },
   {
    "duration": 11,
    "start_time": "2022-05-25T10:49:10.840Z"
   },
   {
    "duration": 20,
    "start_time": "2022-05-25T10:49:15.638Z"
   },
   {
    "duration": 32,
    "start_time": "2022-05-25T10:49:20.986Z"
   },
   {
    "duration": 21,
    "start_time": "2022-05-25T10:50:20.695Z"
   },
   {
    "duration": 40,
    "start_time": "2022-05-25T10:50:32.002Z"
   },
   {
    "duration": 146,
    "start_time": "2022-05-25T10:51:11.635Z"
   },
   {
    "duration": 19,
    "start_time": "2022-05-25T10:51:26.387Z"
   },
   {
    "duration": 3,
    "start_time": "2022-05-25T10:51:34.058Z"
   },
   {
    "duration": 5,
    "start_time": "2022-05-25T10:51:49.272Z"
   },
   {
    "duration": 25,
    "start_time": "2022-05-25T10:51:59.936Z"
   },
   {
    "duration": 21,
    "start_time": "2022-05-25T10:52:03.292Z"
   },
   {
    "duration": 42,
    "start_time": "2022-05-25T10:52:06.220Z"
   },
   {
    "duration": 42,
    "start_time": "2022-05-25T10:53:05.911Z"
   },
   {
    "duration": 28,
    "start_time": "2022-05-25T10:53:18.221Z"
   },
   {
    "duration": 35,
    "start_time": "2022-05-25T10:53:24.226Z"
   },
   {
    "duration": 25,
    "start_time": "2022-05-25T10:53:29.705Z"
   },
   {
    "duration": 48,
    "start_time": "2022-05-25T10:53:32.618Z"
   },
   {
    "duration": 44,
    "start_time": "2022-05-25T10:54:18.106Z"
   },
   {
    "duration": 15,
    "start_time": "2022-05-25T10:55:08.259Z"
   },
   {
    "duration": 25,
    "start_time": "2022-05-25T10:56:04.545Z"
   },
   {
    "duration": 34,
    "start_time": "2022-05-25T10:56:55.235Z"
   },
   {
    "duration": 53,
    "start_time": "2022-05-25T10:58:46.580Z"
   },
   {
    "duration": 35,
    "start_time": "2022-05-25T10:59:25.596Z"
   },
   {
    "duration": 4,
    "start_time": "2022-05-25T10:59:48.911Z"
   },
   {
    "duration": 759,
    "start_time": "2022-05-25T10:59:48.917Z"
   },
   {
    "duration": 29,
    "start_time": "2022-05-25T10:59:49.678Z"
   },
   {
    "duration": 31,
    "start_time": "2022-05-25T10:59:49.709Z"
   },
   {
    "duration": 24,
    "start_time": "2022-05-25T10:59:49.742Z"
   },
   {
    "duration": 15,
    "start_time": "2022-05-25T10:59:49.767Z"
   },
   {
    "duration": 18,
    "start_time": "2022-05-25T10:59:49.784Z"
   },
   {
    "duration": 36,
    "start_time": "2022-05-25T10:59:49.804Z"
   },
   {
    "duration": 49,
    "start_time": "2022-05-25T10:59:49.842Z"
   },
   {
    "duration": 65,
    "start_time": "2022-05-25T10:59:49.893Z"
   },
   {
    "duration": 32,
    "start_time": "2022-05-25T10:59:49.960Z"
   },
   {
    "duration": 32,
    "start_time": "2022-05-25T10:59:49.994Z"
   },
   {
    "duration": 35,
    "start_time": "2022-05-25T10:59:50.029Z"
   },
   {
    "duration": 5,
    "start_time": "2022-05-25T10:59:50.067Z"
   },
   {
    "duration": 27,
    "start_time": "2022-05-25T10:59:50.074Z"
   },
   {
    "duration": 223,
    "start_time": "2022-05-25T10:59:50.103Z"
   },
   {
    "duration": 271,
    "start_time": "2022-05-25T10:59:50.328Z"
   },
   {
    "duration": 277,
    "start_time": "2022-05-25T10:59:50.600Z"
   },
   {
    "duration": 341,
    "start_time": "2022-05-25T10:59:50.879Z"
   },
   {
    "duration": 28,
    "start_time": "2022-05-25T10:59:51.224Z"
   },
   {
    "duration": 285,
    "start_time": "2022-05-25T10:59:51.253Z"
   },
   {
    "duration": 300,
    "start_time": "2022-05-25T10:59:51.540Z"
   },
   {
    "duration": 512,
    "start_time": "2022-05-25T10:59:51.842Z"
   },
   {
    "duration": 21,
    "start_time": "2022-05-25T10:59:52.355Z"
   },
   {
    "duration": 419,
    "start_time": "2022-05-25T10:59:52.378Z"
   },
   {
    "duration": 36,
    "start_time": "2022-05-25T10:59:52.800Z"
   },
   {
    "duration": 26,
    "start_time": "2022-05-25T10:59:52.838Z"
   },
   {
    "duration": 19,
    "start_time": "2022-05-25T10:59:52.866Z"
   },
   {
    "duration": 380,
    "start_time": "2022-05-25T10:59:52.887Z"
   },
   {
    "duration": 6,
    "start_time": "2022-05-25T10:59:53.270Z"
   },
   {
    "duration": 47,
    "start_time": "2022-05-25T10:59:53.278Z"
   },
   {
    "duration": 28,
    "start_time": "2022-05-25T10:59:53.327Z"
   },
   {
    "duration": 20,
    "start_time": "2022-05-25T10:59:53.356Z"
   },
   {
    "duration": 55,
    "start_time": "2022-05-25T10:59:53.378Z"
   },
   {
    "duration": 9,
    "start_time": "2022-05-25T10:59:53.437Z"
   },
   {
    "duration": 33,
    "start_time": "2022-05-25T10:59:53.448Z"
   },
   {
    "duration": 9,
    "start_time": "2022-05-25T10:59:53.483Z"
   },
   {
    "duration": 56,
    "start_time": "2022-05-25T10:59:53.493Z"
   },
   {
    "duration": 10,
    "start_time": "2022-05-25T10:59:53.551Z"
   },
   {
    "duration": 46,
    "start_time": "2022-05-25T10:59:53.562Z"
   },
   {
    "duration": 18,
    "start_time": "2022-05-25T11:00:03.074Z"
   },
   {
    "duration": 30,
    "start_time": "2022-05-25T11:00:14.958Z"
   },
   {
    "duration": 29,
    "start_time": "2022-05-25T11:00:18.250Z"
   },
   {
    "duration": 21,
    "start_time": "2022-05-25T11:01:22.336Z"
   },
   {
    "duration": 1368,
    "start_time": "2022-05-26T16:54:33.408Z"
   },
   {
    "duration": 946,
    "start_time": "2022-05-26T16:54:34.778Z"
   },
   {
    "duration": 33,
    "start_time": "2022-05-26T16:54:35.726Z"
   },
   {
    "duration": 25,
    "start_time": "2022-05-26T16:54:35.761Z"
   },
   {
    "duration": 38,
    "start_time": "2022-05-26T16:54:35.788Z"
   },
   {
    "duration": 14,
    "start_time": "2022-05-26T16:54:35.829Z"
   },
   {
    "duration": 25,
    "start_time": "2022-05-26T16:54:35.845Z"
   },
   {
    "duration": 13,
    "start_time": "2022-05-26T16:54:35.872Z"
   },
   {
    "duration": 91,
    "start_time": "2022-05-26T16:54:35.887Z"
   },
   {
    "duration": 61,
    "start_time": "2022-05-26T16:54:35.980Z"
   },
   {
    "duration": 49,
    "start_time": "2022-05-26T16:54:36.043Z"
   },
   {
    "duration": 33,
    "start_time": "2022-05-26T16:54:36.094Z"
   },
   {
    "duration": 30,
    "start_time": "2022-05-26T16:54:36.129Z"
   },
   {
    "duration": 5,
    "start_time": "2022-05-26T16:54:36.163Z"
   },
   {
    "duration": 25,
    "start_time": "2022-05-26T16:54:36.170Z"
   },
   {
    "duration": 234,
    "start_time": "2022-05-26T16:54:36.224Z"
   },
   {
    "duration": 711,
    "start_time": "2022-05-26T16:54:36.459Z"
   },
   {
    "duration": 614,
    "start_time": "2022-05-26T16:54:37.224Z"
   },
   {
    "duration": 597,
    "start_time": "2022-05-26T16:54:37.839Z"
   },
   {
    "duration": 21,
    "start_time": "2022-05-26T16:54:38.438Z"
   },
   {
    "duration": 271,
    "start_time": "2022-05-26T16:54:38.460Z"
   },
   {
    "duration": 298,
    "start_time": "2022-05-26T16:54:38.732Z"
   },
   {
    "duration": 370,
    "start_time": "2022-05-26T16:54:39.032Z"
   },
   {
    "duration": 26,
    "start_time": "2022-05-26T16:54:39.403Z"
   },
   {
    "duration": 359,
    "start_time": "2022-05-26T16:54:39.431Z"
   },
   {
    "duration": 18,
    "start_time": "2022-05-26T16:54:39.792Z"
   },
   {
    "duration": 12,
    "start_time": "2022-05-26T16:54:39.812Z"
   },
   {
    "duration": 9,
    "start_time": "2022-05-26T16:54:39.826Z"
   },
   {
    "duration": 360,
    "start_time": "2022-05-26T16:54:39.836Z"
   },
   {
    "duration": 7,
    "start_time": "2022-05-26T16:54:40.197Z"
   },
   {
    "duration": 39,
    "start_time": "2022-05-26T16:54:40.206Z"
   },
   {
    "duration": 23,
    "start_time": "2022-05-26T16:54:40.247Z"
   },
   {
    "duration": 19,
    "start_time": "2022-05-26T16:54:40.272Z"
   },
   {
    "duration": 47,
    "start_time": "2022-05-26T16:54:40.293Z"
   },
   {
    "duration": 9,
    "start_time": "2022-05-26T16:54:40.342Z"
   },
   {
    "duration": 31,
    "start_time": "2022-05-26T16:54:40.352Z"
   },
   {
    "duration": 9,
    "start_time": "2022-05-26T16:54:40.384Z"
   },
   {
    "duration": 61,
    "start_time": "2022-05-26T16:54:40.395Z"
   },
   {
    "duration": 10,
    "start_time": "2022-05-26T16:54:40.458Z"
   },
   {
    "duration": 165,
    "start_time": "2022-05-26T16:54:40.471Z"
   },
   {
    "duration": 27,
    "start_time": "2022-05-26T16:54:40.640Z"
   },
   {
    "duration": 21,
    "start_time": "2022-05-26T16:54:40.668Z"
   },
   {
    "duration": 5,
    "start_time": "2022-05-26T17:00:47.584Z"
   },
   {
    "duration": 11,
    "start_time": "2022-05-26T17:01:04.995Z"
   },
   {
    "duration": 5,
    "start_time": "2022-05-26T17:02:17.595Z"
   },
   {
    "duration": 9,
    "start_time": "2022-05-26T17:02:20.707Z"
   },
   {
    "duration": 101,
    "start_time": "2022-05-26T17:06:38.562Z"
   },
   {
    "duration": 8,
    "start_time": "2022-05-26T17:06:58.863Z"
   },
   {
    "duration": 28,
    "start_time": "2022-05-26T17:07:13.068Z"
   },
   {
    "duration": 511,
    "start_time": "2022-05-26T17:08:59.229Z"
   },
   {
    "duration": 22,
    "start_time": "2022-05-26T17:09:07.820Z"
   },
   {
    "duration": 915,
    "start_time": "2022-05-26T17:09:22.316Z"
   },
   {
    "duration": 23,
    "start_time": "2022-05-26T17:09:26.212Z"
   },
   {
    "duration": 14,
    "start_time": "2022-05-26T17:09:35.828Z"
   },
   {
    "duration": 9,
    "start_time": "2022-05-26T17:09:48.269Z"
   },
   {
    "duration": 662,
    "start_time": "2022-05-26T17:09:58.316Z"
   },
   {
    "duration": 688,
    "start_time": "2022-05-26T17:10:20.982Z"
   },
   {
    "duration": 10,
    "start_time": "2022-05-26T17:10:28.573Z"
   },
   {
    "duration": 10,
    "start_time": "2022-05-26T17:10:38.916Z"
   },
   {
    "duration": 10,
    "start_time": "2022-05-26T17:11:16.781Z"
   },
   {
    "duration": 3,
    "start_time": "2022-05-26T17:11:29.588Z"
   },
   {
    "duration": 411,
    "start_time": "2022-05-26T17:11:29.593Z"
   },
   {
    "duration": 30,
    "start_time": "2022-05-26T17:11:30.006Z"
   },
   {
    "duration": 30,
    "start_time": "2022-05-26T17:11:30.038Z"
   },
   {
    "duration": 23,
    "start_time": "2022-05-26T17:11:30.070Z"
   },
   {
    "duration": 16,
    "start_time": "2022-05-26T17:11:30.122Z"
   },
   {
    "duration": 25,
    "start_time": "2022-05-26T17:11:30.140Z"
   },
   {
    "duration": 19,
    "start_time": "2022-05-26T17:11:30.166Z"
   },
   {
    "duration": 52,
    "start_time": "2022-05-26T17:11:30.187Z"
   },
   {
    "duration": 39,
    "start_time": "2022-05-26T17:11:30.241Z"
   },
   {
    "duration": 50,
    "start_time": "2022-05-26T17:11:30.281Z"
   },
   {
    "duration": 16,
    "start_time": "2022-05-26T17:11:30.332Z"
   },
   {
    "duration": 33,
    "start_time": "2022-05-26T17:11:30.349Z"
   },
   {
    "duration": 15,
    "start_time": "2022-05-26T17:11:30.383Z"
   },
   {
    "duration": 34,
    "start_time": "2022-05-26T17:11:30.400Z"
   },
   {
    "duration": 200,
    "start_time": "2022-05-26T17:11:30.435Z"
   },
   {
    "duration": 271,
    "start_time": "2022-05-26T17:11:30.636Z"
   },
   {
    "duration": 274,
    "start_time": "2022-05-26T17:11:30.909Z"
   },
   {
    "duration": 334,
    "start_time": "2022-05-26T17:11:31.184Z"
   },
   {
    "duration": 23,
    "start_time": "2022-05-26T17:11:31.522Z"
   },
   {
    "duration": 266,
    "start_time": "2022-05-26T17:11:31.547Z"
   },
   {
    "duration": 301,
    "start_time": "2022-05-26T17:11:31.815Z"
   },
   {
    "duration": 345,
    "start_time": "2022-05-26T17:11:32.118Z"
   },
   {
    "duration": 19,
    "start_time": "2022-05-26T17:11:32.467Z"
   },
   {
    "duration": 399,
    "start_time": "2022-05-26T17:11:32.488Z"
   },
   {
    "duration": 17,
    "start_time": "2022-05-26T17:11:32.889Z"
   },
   {
    "duration": 16,
    "start_time": "2022-05-26T17:11:32.908Z"
   },
   {
    "duration": 8,
    "start_time": "2022-05-26T17:11:32.925Z"
   },
   {
    "duration": 329,
    "start_time": "2022-05-26T17:11:32.934Z"
   },
   {
    "duration": 5,
    "start_time": "2022-05-26T17:11:33.265Z"
   },
   {
    "duration": 30,
    "start_time": "2022-05-26T17:11:33.272Z"
   },
   {
    "duration": 39,
    "start_time": "2022-05-26T17:11:33.303Z"
   },
   {
    "duration": 17,
    "start_time": "2022-05-26T17:11:33.344Z"
   },
   {
    "duration": 25,
    "start_time": "2022-05-26T17:11:33.362Z"
   },
   {
    "duration": 9,
    "start_time": "2022-05-26T17:11:33.388Z"
   },
   {
    "duration": 46,
    "start_time": "2022-05-26T17:11:33.398Z"
   },
   {
    "duration": 8,
    "start_time": "2022-05-26T17:11:33.445Z"
   },
   {
    "duration": 28,
    "start_time": "2022-05-26T17:11:33.455Z"
   },
   {
    "duration": 8,
    "start_time": "2022-05-26T17:11:33.485Z"
   },
   {
    "duration": 159,
    "start_time": "2022-05-26T17:11:33.494Z"
   },
   {
    "duration": 25,
    "start_time": "2022-05-26T17:11:33.656Z"
   },
   {
    "duration": 19,
    "start_time": "2022-05-26T17:11:33.682Z"
   },
   {
    "duration": 9,
    "start_time": "2022-05-26T17:16:52.468Z"
   },
   {
    "duration": 8,
    "start_time": "2022-05-26T17:17:11.502Z"
   },
   {
    "duration": 15,
    "start_time": "2022-05-26T17:20:12.102Z"
   },
   {
    "duration": 4,
    "start_time": "2022-05-26T17:20:21.865Z"
   },
   {
    "duration": 474,
    "start_time": "2022-05-26T17:20:21.871Z"
   },
   {
    "duration": 30,
    "start_time": "2022-05-26T17:20:22.346Z"
   },
   {
    "duration": 25,
    "start_time": "2022-05-26T17:20:22.379Z"
   },
   {
    "duration": 34,
    "start_time": "2022-05-26T17:20:22.406Z"
   },
   {
    "duration": 18,
    "start_time": "2022-05-26T17:20:22.441Z"
   },
   {
    "duration": 33,
    "start_time": "2022-05-26T17:20:22.460Z"
   },
   {
    "duration": 19,
    "start_time": "2022-05-26T17:20:22.494Z"
   },
   {
    "duration": 92,
    "start_time": "2022-05-26T17:20:22.516Z"
   },
   {
    "duration": 56,
    "start_time": "2022-05-26T17:20:22.610Z"
   },
   {
    "duration": 40,
    "start_time": "2022-05-26T17:20:22.669Z"
   },
   {
    "duration": 30,
    "start_time": "2022-05-26T17:20:22.711Z"
   },
   {
    "duration": 45,
    "start_time": "2022-05-26T17:20:22.743Z"
   },
   {
    "duration": 10,
    "start_time": "2022-05-26T17:20:22.790Z"
   },
   {
    "duration": 41,
    "start_time": "2022-05-26T17:20:22.801Z"
   },
   {
    "duration": 202,
    "start_time": "2022-05-26T17:20:22.843Z"
   },
   {
    "duration": 278,
    "start_time": "2022-05-26T17:20:23.048Z"
   },
   {
    "duration": 277,
    "start_time": "2022-05-26T17:20:23.328Z"
   },
   {
    "duration": 356,
    "start_time": "2022-05-26T17:20:23.607Z"
   },
   {
    "duration": 23,
    "start_time": "2022-05-26T17:20:23.965Z"
   },
   {
    "duration": 294,
    "start_time": "2022-05-26T17:20:23.990Z"
   },
   {
    "duration": 298,
    "start_time": "2022-05-26T17:20:24.287Z"
   },
   {
    "duration": 364,
    "start_time": "2022-05-26T17:20:24.587Z"
   },
   {
    "duration": 20,
    "start_time": "2022-05-26T17:20:24.954Z"
   },
   {
    "duration": 354,
    "start_time": "2022-05-26T17:20:24.975Z"
   },
   {
    "duration": 21,
    "start_time": "2022-05-26T17:20:25.331Z"
   },
   {
    "duration": 4,
    "start_time": "2022-05-26T17:20:25.354Z"
   },
   {
    "duration": 8,
    "start_time": "2022-05-26T17:20:25.360Z"
   },
   {
    "duration": 355,
    "start_time": "2022-05-26T17:20:25.369Z"
   },
   {
    "duration": 8,
    "start_time": "2022-05-26T17:20:25.726Z"
   },
   {
    "duration": 35,
    "start_time": "2022-05-26T17:20:25.736Z"
   },
   {
    "duration": 22,
    "start_time": "2022-05-26T17:20:25.772Z"
   },
   {
    "duration": 43,
    "start_time": "2022-05-26T17:20:25.796Z"
   },
   {
    "duration": 26,
    "start_time": "2022-05-26T17:20:25.840Z"
   },
   {
    "duration": 9,
    "start_time": "2022-05-26T17:20:25.868Z"
   },
   {
    "duration": 24,
    "start_time": "2022-05-26T17:20:25.878Z"
   },
   {
    "duration": 37,
    "start_time": "2022-05-26T17:20:25.903Z"
   },
   {
    "duration": 40,
    "start_time": "2022-05-26T17:20:25.942Z"
   },
   {
    "duration": 11,
    "start_time": "2022-05-26T17:20:25.984Z"
   },
   {
    "duration": 196,
    "start_time": "2022-05-26T17:20:25.997Z"
   },
   {
    "duration": 34,
    "start_time": "2022-05-26T17:20:26.195Z"
   },
   {
    "duration": 18,
    "start_time": "2022-05-26T17:20:26.231Z"
   },
   {
    "duration": 20,
    "start_time": "2022-05-26T17:23:21.446Z"
   },
   {
    "duration": 45,
    "start_time": "2022-05-26T17:23:50.744Z"
   },
   {
    "duration": 5,
    "start_time": "2022-05-26T17:24:12.312Z"
   },
   {
    "duration": 448,
    "start_time": "2022-05-26T17:24:12.319Z"
   },
   {
    "duration": 34,
    "start_time": "2022-05-26T17:24:12.769Z"
   },
   {
    "duration": 24,
    "start_time": "2022-05-26T17:24:12.805Z"
   },
   {
    "duration": 20,
    "start_time": "2022-05-26T17:24:12.831Z"
   },
   {
    "duration": 29,
    "start_time": "2022-05-26T17:24:12.852Z"
   },
   {
    "duration": 26,
    "start_time": "2022-05-26T17:24:12.883Z"
   },
   {
    "duration": 19,
    "start_time": "2022-05-26T17:24:12.910Z"
   },
   {
    "duration": 47,
    "start_time": "2022-05-26T17:24:12.930Z"
   },
   {
    "duration": 50,
    "start_time": "2022-05-26T17:24:12.979Z"
   },
   {
    "duration": 32,
    "start_time": "2022-05-26T17:24:13.030Z"
   },
   {
    "duration": 14,
    "start_time": "2022-05-26T17:24:13.064Z"
   },
   {
    "duration": 44,
    "start_time": "2022-05-26T17:24:13.080Z"
   },
   {
    "duration": 8,
    "start_time": "2022-05-26T17:24:13.125Z"
   },
   {
    "duration": 38,
    "start_time": "2022-05-26T17:24:13.135Z"
   },
   {
    "duration": 186,
    "start_time": "2022-05-26T17:24:13.175Z"
   },
   {
    "duration": 241,
    "start_time": "2022-05-26T17:24:13.363Z"
   },
   {
    "duration": 258,
    "start_time": "2022-05-26T17:24:13.605Z"
   },
   {
    "duration": 317,
    "start_time": "2022-05-26T17:24:13.864Z"
   },
   {
    "duration": 20,
    "start_time": "2022-05-26T17:24:14.183Z"
   },
   {
    "duration": 256,
    "start_time": "2022-05-26T17:24:14.205Z"
   },
   {
    "duration": 264,
    "start_time": "2022-05-26T17:24:14.462Z"
   },
   {
    "duration": 346,
    "start_time": "2022-05-26T17:24:14.727Z"
   },
   {
    "duration": 19,
    "start_time": "2022-05-26T17:24:15.075Z"
   },
   {
    "duration": 341,
    "start_time": "2022-05-26T17:24:15.096Z"
   },
   {
    "duration": 18,
    "start_time": "2022-05-26T17:24:15.439Z"
   },
   {
    "duration": 7,
    "start_time": "2022-05-26T17:24:15.458Z"
   },
   {
    "duration": 6,
    "start_time": "2022-05-26T17:24:15.467Z"
   },
   {
    "duration": 327,
    "start_time": "2022-05-26T17:24:15.474Z"
   },
   {
    "duration": 6,
    "start_time": "2022-05-26T17:24:15.802Z"
   },
   {
    "duration": 39,
    "start_time": "2022-05-26T17:24:15.810Z"
   },
   {
    "duration": 22,
    "start_time": "2022-05-26T17:24:15.851Z"
   },
   {
    "duration": 19,
    "start_time": "2022-05-26T17:24:15.875Z"
   },
   {
    "duration": 49,
    "start_time": "2022-05-26T17:24:15.896Z"
   },
   {
    "duration": 9,
    "start_time": "2022-05-26T17:24:15.948Z"
   },
   {
    "duration": 26,
    "start_time": "2022-05-26T17:24:15.959Z"
   },
   {
    "duration": 9,
    "start_time": "2022-05-26T17:24:15.987Z"
   },
   {
    "duration": 62,
    "start_time": "2022-05-26T17:24:15.997Z"
   },
   {
    "duration": 8,
    "start_time": "2022-05-26T17:24:16.060Z"
   },
   {
    "duration": 35,
    "start_time": "2022-05-26T17:24:16.070Z"
   },
   {
    "duration": 10,
    "start_time": "2022-05-26T17:36:56.243Z"
   },
   {
    "duration": 48,
    "start_time": "2022-05-26T17:37:15.079Z"
   },
   {
    "duration": 54,
    "start_time": "2022-05-26T17:37:17.008Z"
   },
   {
    "duration": 17,
    "start_time": "2022-05-26T17:37:24.615Z"
   },
   {
    "duration": 13,
    "start_time": "2022-05-26T17:37:45.414Z"
   },
   {
    "duration": 10,
    "start_time": "2022-05-26T17:38:24.948Z"
   },
   {
    "duration": 4,
    "start_time": "2022-05-26T17:38:36.272Z"
   },
   {
    "duration": 406,
    "start_time": "2022-05-26T17:38:36.278Z"
   },
   {
    "duration": 29,
    "start_time": "2022-05-26T17:38:36.685Z"
   },
   {
    "duration": 25,
    "start_time": "2022-05-26T17:38:36.716Z"
   },
   {
    "duration": 21,
    "start_time": "2022-05-26T17:38:36.742Z"
   },
   {
    "duration": 13,
    "start_time": "2022-05-26T17:38:36.765Z"
   },
   {
    "duration": 17,
    "start_time": "2022-05-26T17:38:36.780Z"
   },
   {
    "duration": 13,
    "start_time": "2022-05-26T17:38:36.823Z"
   },
   {
    "duration": 50,
    "start_time": "2022-05-26T17:38:36.839Z"
   },
   {
    "duration": 63,
    "start_time": "2022-05-26T17:38:36.891Z"
   },
   {
    "duration": 34,
    "start_time": "2022-05-26T17:38:36.955Z"
   },
   {
    "duration": 38,
    "start_time": "2022-05-26T17:38:36.991Z"
   },
   {
    "duration": 20,
    "start_time": "2022-05-26T17:38:37.031Z"
   },
   {
    "duration": 9,
    "start_time": "2022-05-26T17:38:37.052Z"
   },
   {
    "duration": 25,
    "start_time": "2022-05-26T17:38:37.062Z"
   },
   {
    "duration": 209,
    "start_time": "2022-05-26T17:38:37.088Z"
   },
   {
    "duration": 268,
    "start_time": "2022-05-26T17:38:37.299Z"
   },
   {
    "duration": 246,
    "start_time": "2022-05-26T17:38:37.569Z"
   },
   {
    "duration": 497,
    "start_time": "2022-05-26T17:38:37.817Z"
   },
   {
    "duration": 26,
    "start_time": "2022-05-26T17:38:38.316Z"
   },
   {
    "duration": 273,
    "start_time": "2022-05-26T17:38:38.344Z"
   },
   {
    "duration": 268,
    "start_time": "2022-05-26T17:38:38.623Z"
   },
   {
    "duration": 354,
    "start_time": "2022-05-26T17:38:38.892Z"
   },
   {
    "duration": 20,
    "start_time": "2022-05-26T17:38:39.250Z"
   },
   {
    "duration": 372,
    "start_time": "2022-05-26T17:38:39.272Z"
   },
   {
    "duration": 19,
    "start_time": "2022-05-26T17:38:39.646Z"
   },
   {
    "duration": 7,
    "start_time": "2022-05-26T17:38:39.666Z"
   },
   {
    "duration": 7,
    "start_time": "2022-05-26T17:38:39.675Z"
   },
   {
    "duration": 355,
    "start_time": "2022-05-26T17:38:39.684Z"
   },
   {
    "duration": 6,
    "start_time": "2022-05-26T17:38:40.040Z"
   },
   {
    "duration": 33,
    "start_time": "2022-05-26T17:38:40.048Z"
   },
   {
    "duration": 40,
    "start_time": "2022-05-26T17:38:40.083Z"
   },
   {
    "duration": 19,
    "start_time": "2022-05-26T17:38:40.125Z"
   },
   {
    "duration": 26,
    "start_time": "2022-05-26T17:38:40.146Z"
   },
   {
    "duration": 8,
    "start_time": "2022-05-26T17:38:40.174Z"
   },
   {
    "duration": 48,
    "start_time": "2022-05-26T17:38:40.184Z"
   },
   {
    "duration": 9,
    "start_time": "2022-05-26T17:38:40.234Z"
   },
   {
    "duration": 32,
    "start_time": "2022-05-26T17:38:40.244Z"
   },
   {
    "duration": 9,
    "start_time": "2022-05-26T17:38:40.277Z"
   },
   {
    "duration": 10,
    "start_time": "2022-05-26T17:38:40.287Z"
   },
   {
    "duration": 33,
    "start_time": "2022-05-26T17:38:40.323Z"
   },
   {
    "duration": 49,
    "start_time": "2022-05-26T17:38:40.358Z"
   },
   {
    "duration": 19,
    "start_time": "2022-05-26T17:38:40.423Z"
   },
   {
    "duration": 4,
    "start_time": "2022-05-26T17:41:21.102Z"
   },
   {
    "duration": 438,
    "start_time": "2022-05-26T17:41:21.108Z"
   },
   {
    "duration": 32,
    "start_time": "2022-05-26T17:41:21.547Z"
   },
   {
    "duration": 38,
    "start_time": "2022-05-26T17:41:21.581Z"
   },
   {
    "duration": 23,
    "start_time": "2022-05-26T17:41:21.621Z"
   },
   {
    "duration": 21,
    "start_time": "2022-05-26T17:41:21.646Z"
   },
   {
    "duration": 30,
    "start_time": "2022-05-26T17:41:21.669Z"
   },
   {
    "duration": 35,
    "start_time": "2022-05-26T17:41:21.701Z"
   },
   {
    "duration": 65,
    "start_time": "2022-05-26T17:41:21.739Z"
   },
   {
    "duration": 61,
    "start_time": "2022-05-26T17:41:21.806Z"
   },
   {
    "duration": 55,
    "start_time": "2022-05-26T17:41:21.869Z"
   },
   {
    "duration": 26,
    "start_time": "2022-05-26T17:41:21.926Z"
   },
   {
    "duration": 24,
    "start_time": "2022-05-26T17:41:21.954Z"
   },
   {
    "duration": 6,
    "start_time": "2022-05-26T17:41:21.980Z"
   },
   {
    "duration": 53,
    "start_time": "2022-05-26T17:41:21.987Z"
   },
   {
    "duration": 232,
    "start_time": "2022-05-26T17:41:22.042Z"
   },
   {
    "duration": 293,
    "start_time": "2022-05-26T17:41:22.276Z"
   },
   {
    "duration": 317,
    "start_time": "2022-05-26T17:41:22.571Z"
   },
   {
    "duration": 328,
    "start_time": "2022-05-26T17:41:22.890Z"
   },
   {
    "duration": 22,
    "start_time": "2022-05-26T17:41:23.222Z"
   },
   {
    "duration": 278,
    "start_time": "2022-05-26T17:41:23.245Z"
   },
   {
    "duration": 284,
    "start_time": "2022-05-26T17:41:23.525Z"
   },
   {
    "duration": 358,
    "start_time": "2022-05-26T17:41:23.811Z"
   },
   {
    "duration": 20,
    "start_time": "2022-05-26T17:41:24.172Z"
   },
   {
    "duration": 380,
    "start_time": "2022-05-26T17:41:24.194Z"
   },
   {
    "duration": 22,
    "start_time": "2022-05-26T17:41:24.575Z"
   },
   {
    "duration": 20,
    "start_time": "2022-05-26T17:41:24.598Z"
   },
   {
    "duration": 42,
    "start_time": "2022-05-26T17:41:24.623Z"
   },
   {
    "duration": 538,
    "start_time": "2022-05-26T17:41:24.667Z"
   },
   {
    "duration": 5,
    "start_time": "2022-05-26T17:41:25.207Z"
   },
   {
    "duration": 34,
    "start_time": "2022-05-26T17:41:25.213Z"
   },
   {
    "duration": 22,
    "start_time": "2022-05-26T17:41:25.249Z"
   },
   {
    "duration": 31,
    "start_time": "2022-05-26T17:41:25.272Z"
   },
   {
    "duration": 39,
    "start_time": "2022-05-26T17:41:25.304Z"
   },
   {
    "duration": 9,
    "start_time": "2022-05-26T17:41:25.345Z"
   },
   {
    "duration": 29,
    "start_time": "2022-05-26T17:41:25.356Z"
   },
   {
    "duration": 318,
    "start_time": "2022-05-26T17:41:25.387Z"
   },
   {
    "duration": 0,
    "start_time": "2022-05-26T17:41:25.707Z"
   },
   {
    "duration": 0,
    "start_time": "2022-05-26T17:41:25.709Z"
   },
   {
    "duration": 0,
    "start_time": "2022-05-26T17:41:25.710Z"
   },
   {
    "duration": 0,
    "start_time": "2022-05-26T17:41:25.711Z"
   },
   {
    "duration": 0,
    "start_time": "2022-05-26T17:41:25.712Z"
   },
   {
    "duration": 0,
    "start_time": "2022-05-26T17:41:25.713Z"
   },
   {
    "duration": 0,
    "start_time": "2022-05-26T17:41:25.714Z"
   },
   {
    "duration": 4,
    "start_time": "2022-05-26T17:42:11.420Z"
   },
   {
    "duration": 474,
    "start_time": "2022-05-26T17:42:11.427Z"
   },
   {
    "duration": 33,
    "start_time": "2022-05-26T17:42:11.903Z"
   },
   {
    "duration": 38,
    "start_time": "2022-05-26T17:42:11.938Z"
   },
   {
    "duration": 45,
    "start_time": "2022-05-26T17:42:11.978Z"
   },
   {
    "duration": 21,
    "start_time": "2022-05-26T17:42:12.025Z"
   },
   {
    "duration": 35,
    "start_time": "2022-05-26T17:42:12.048Z"
   },
   {
    "duration": 38,
    "start_time": "2022-05-26T17:42:12.085Z"
   },
   {
    "duration": 52,
    "start_time": "2022-05-26T17:42:12.125Z"
   },
   {
    "duration": 55,
    "start_time": "2022-05-26T17:42:12.180Z"
   },
   {
    "duration": 36,
    "start_time": "2022-05-26T17:42:12.237Z"
   },
   {
    "duration": 18,
    "start_time": "2022-05-26T17:42:12.275Z"
   },
   {
    "duration": 26,
    "start_time": "2022-05-26T17:42:12.324Z"
   },
   {
    "duration": 11,
    "start_time": "2022-05-26T17:42:12.352Z"
   },
   {
    "duration": 31,
    "start_time": "2022-05-26T17:42:12.365Z"
   },
   {
    "duration": 279,
    "start_time": "2022-05-26T17:42:12.397Z"
   },
   {
    "duration": 350,
    "start_time": "2022-05-26T17:42:12.678Z"
   },
   {
    "duration": 281,
    "start_time": "2022-05-26T17:42:13.030Z"
   },
   {
    "duration": 367,
    "start_time": "2022-05-26T17:42:13.313Z"
   },
   {
    "duration": 24,
    "start_time": "2022-05-26T17:42:13.682Z"
   },
   {
    "duration": 278,
    "start_time": "2022-05-26T17:42:13.724Z"
   },
   {
    "duration": 323,
    "start_time": "2022-05-26T17:42:14.004Z"
   },
   {
    "duration": 345,
    "start_time": "2022-05-26T17:42:14.328Z"
   },
   {
    "duration": 20,
    "start_time": "2022-05-26T17:42:14.675Z"
   },
   {
    "duration": 339,
    "start_time": "2022-05-26T17:42:14.697Z"
   },
   {
    "duration": 18,
    "start_time": "2022-05-26T17:42:15.038Z"
   },
   {
    "duration": 8,
    "start_time": "2022-05-26T17:42:15.057Z"
   },
   {
    "duration": 5,
    "start_time": "2022-05-26T17:42:15.068Z"
   },
   {
    "duration": 338,
    "start_time": "2022-05-26T17:42:15.075Z"
   },
   {
    "duration": 11,
    "start_time": "2022-05-26T17:42:15.415Z"
   },
   {
    "duration": 34,
    "start_time": "2022-05-26T17:42:15.428Z"
   },
   {
    "duration": 21,
    "start_time": "2022-05-26T17:42:15.464Z"
   },
   {
    "duration": 17,
    "start_time": "2022-05-26T17:42:15.487Z"
   },
   {
    "duration": 24,
    "start_time": "2022-05-26T17:42:15.523Z"
   },
   {
    "duration": 9,
    "start_time": "2022-05-26T17:42:15.548Z"
   },
   {
    "duration": 18,
    "start_time": "2022-05-26T17:42:15.559Z"
   },
   {
    "duration": 404,
    "start_time": "2022-05-26T17:42:15.579Z"
   },
   {
    "duration": 0,
    "start_time": "2022-05-26T17:42:15.985Z"
   },
   {
    "duration": 0,
    "start_time": "2022-05-26T17:42:15.986Z"
   },
   {
    "duration": 0,
    "start_time": "2022-05-26T17:42:15.987Z"
   },
   {
    "duration": 0,
    "start_time": "2022-05-26T17:42:15.988Z"
   },
   {
    "duration": 0,
    "start_time": "2022-05-26T17:42:15.989Z"
   },
   {
    "duration": 0,
    "start_time": "2022-05-26T17:42:15.990Z"
   },
   {
    "duration": 0,
    "start_time": "2022-05-26T17:42:15.991Z"
   },
   {
    "duration": 12,
    "start_time": "2022-05-26T17:42:57.848Z"
   },
   {
    "duration": 11,
    "start_time": "2022-05-26T17:43:21.959Z"
   },
   {
    "duration": 18,
    "start_time": "2022-05-26T17:43:53.064Z"
   },
   {
    "duration": 10,
    "start_time": "2022-05-26T17:44:08.241Z"
   },
   {
    "duration": 11,
    "start_time": "2022-05-26T17:44:18.794Z"
   },
   {
    "duration": 22,
    "start_time": "2022-05-26T17:44:18.806Z"
   },
   {
    "duration": 8,
    "start_time": "2022-05-26T17:44:18.830Z"
   },
   {
    "duration": 11,
    "start_time": "2022-05-26T17:44:18.840Z"
   },
   {
    "duration": 28,
    "start_time": "2022-05-26T17:44:18.852Z"
   },
   {
    "duration": 0,
    "start_time": "2022-05-26T17:44:18.882Z"
   },
   {
    "duration": 0,
    "start_time": "2022-05-26T17:44:18.883Z"
   },
   {
    "duration": 0,
    "start_time": "2022-05-26T17:44:18.884Z"
   },
   {
    "duration": 3,
    "start_time": "2022-05-26T17:45:08.249Z"
   },
   {
    "duration": 24,
    "start_time": "2022-05-26T17:45:15.024Z"
   },
   {
    "duration": 25,
    "start_time": "2022-05-26T17:45:41.842Z"
   },
   {
    "duration": 23,
    "start_time": "2022-05-26T17:45:48.177Z"
   },
   {
    "duration": 18,
    "start_time": "2022-05-26T17:46:36.361Z"
   },
   {
    "duration": 24,
    "start_time": "2022-05-26T17:47:29.010Z"
   },
   {
    "duration": 9,
    "start_time": "2022-05-26T17:47:32.960Z"
   },
   {
    "duration": 10,
    "start_time": "2022-05-26T17:47:35.436Z"
   },
   {
    "duration": 42,
    "start_time": "2022-05-26T17:48:09.018Z"
   },
   {
    "duration": 44,
    "start_time": "2022-05-26T17:48:16.034Z"
   },
   {
    "duration": 8,
    "start_time": "2022-05-26T17:48:35.105Z"
   },
   {
    "duration": 10,
    "start_time": "2022-05-26T17:50:13.875Z"
   },
   {
    "duration": 10,
    "start_time": "2022-05-26T17:50:20.754Z"
   },
   {
    "duration": 10,
    "start_time": "2022-05-26T17:50:34.034Z"
   },
   {
    "duration": 8,
    "start_time": "2022-05-26T17:51:06.267Z"
   },
   {
    "duration": 18,
    "start_time": "2022-05-26T17:51:13.802Z"
   },
   {
    "duration": 8,
    "start_time": "2022-05-26T17:51:14.641Z"
   },
   {
    "duration": 9,
    "start_time": "2022-05-26T17:51:19.947Z"
   },
   {
    "duration": 10,
    "start_time": "2022-05-26T17:51:24.994Z"
   },
   {
    "duration": 10,
    "start_time": "2022-05-26T17:51:53.132Z"
   },
   {
    "duration": 29,
    "start_time": "2022-05-26T17:51:57.019Z"
   },
   {
    "duration": 11,
    "start_time": "2022-05-26T17:51:59.039Z"
   },
   {
    "duration": 31,
    "start_time": "2022-05-26T17:52:03.859Z"
   },
   {
    "duration": 33,
    "start_time": "2022-05-26T17:52:08.291Z"
   },
   {
    "duration": 4,
    "start_time": "2022-05-26T18:06:58.799Z"
   },
   {
    "duration": 139,
    "start_time": "2022-05-26T18:14:11.242Z"
   },
   {
    "duration": 141,
    "start_time": "2022-05-26T18:14:19.600Z"
   },
   {
    "duration": 116,
    "start_time": "2022-05-26T18:15:03.361Z"
   },
   {
    "duration": 13,
    "start_time": "2022-05-26T18:22:53.992Z"
   },
   {
    "duration": 118,
    "start_time": "2022-05-26T18:23:18.162Z"
   },
   {
    "duration": 39453,
    "start_time": "2022-05-26T18:32:30.242Z"
   },
   {
    "duration": 18,
    "start_time": "2022-05-26T18:33:47.223Z"
   },
   {
    "duration": 9,
    "start_time": "2022-05-26T18:34:00.346Z"
   },
   {
    "duration": 13,
    "start_time": "2022-05-26T18:34:13.092Z"
   },
   {
    "duration": 16,
    "start_time": "2022-05-26T18:35:11.867Z"
   },
   {
    "duration": 323,
    "start_time": "2022-05-26T18:42:12.421Z"
   },
   {
    "duration": 353,
    "start_time": "2022-05-26T18:42:22.605Z"
   },
   {
    "duration": 13,
    "start_time": "2022-05-26T18:42:50.440Z"
   },
   {
    "duration": 22,
    "start_time": "2022-05-26T18:42:51.972Z"
   },
   {
    "duration": 339,
    "start_time": "2022-05-26T18:42:58.820Z"
   },
   {
    "duration": 261,
    "start_time": "2022-05-26T18:43:16.110Z"
   },
   {
    "duration": 256,
    "start_time": "2022-05-26T18:43:27.469Z"
   },
   {
    "duration": 24,
    "start_time": "2022-05-26T18:46:33.055Z"
   },
   {
    "duration": 22,
    "start_time": "2022-05-26T18:46:49.859Z"
   },
   {
    "duration": 14,
    "start_time": "2022-05-26T18:47:50.398Z"
   },
   {
    "duration": 19,
    "start_time": "2022-05-26T18:48:22.551Z"
   },
   {
    "duration": 17,
    "start_time": "2022-05-26T18:49:34.720Z"
   },
   {
    "duration": 14,
    "start_time": "2022-05-26T18:49:48.495Z"
   },
   {
    "duration": 13,
    "start_time": "2022-05-26T19:00:47.252Z"
   },
   {
    "duration": 743,
    "start_time": "2022-05-26T19:06:49.274Z"
   },
   {
    "duration": 23,
    "start_time": "2022-05-26T19:19:27.507Z"
   },
   {
    "duration": 27,
    "start_time": "2022-05-26T19:19:46.536Z"
   },
   {
    "duration": 30,
    "start_time": "2022-05-26T19:20:19.009Z"
   },
   {
    "duration": 14,
    "start_time": "2022-05-26T19:21:54.555Z"
   },
   {
    "duration": 19,
    "start_time": "2022-05-26T19:36:31.441Z"
   },
   {
    "duration": 18,
    "start_time": "2022-05-26T19:36:46.103Z"
   },
   {
    "duration": 34,
    "start_time": "2022-05-26T19:37:04.032Z"
   },
   {
    "duration": 19,
    "start_time": "2022-05-26T19:37:07.289Z"
   },
   {
    "duration": 15,
    "start_time": "2022-05-26T19:37:14.328Z"
   },
   {
    "duration": 4,
    "start_time": "2022-05-26T19:39:01.216Z"
   },
   {
    "duration": 19,
    "start_time": "2022-05-26T19:42:56.403Z"
   },
   {
    "duration": 12,
    "start_time": "2022-05-26T19:43:23.634Z"
   },
   {
    "duration": 23,
    "start_time": "2022-05-26T19:51:23.125Z"
   },
   {
    "duration": 5,
    "start_time": "2022-05-26T19:51:44.717Z"
   },
   {
    "duration": 21,
    "start_time": "2022-05-26T19:51:54.643Z"
   },
   {
    "duration": 5,
    "start_time": "2022-05-26T19:52:06.148Z"
   },
   {
    "duration": 448,
    "start_time": "2022-05-26T19:52:06.156Z"
   },
   {
    "duration": 48,
    "start_time": "2022-05-26T19:52:06.607Z"
   },
   {
    "duration": 39,
    "start_time": "2022-05-26T19:52:06.657Z"
   },
   {
    "duration": 54,
    "start_time": "2022-05-26T19:52:06.698Z"
   },
   {
    "duration": 17,
    "start_time": "2022-05-26T19:52:06.754Z"
   },
   {
    "duration": 23,
    "start_time": "2022-05-26T19:52:06.772Z"
   },
   {
    "duration": 32,
    "start_time": "2022-05-26T19:52:06.797Z"
   },
   {
    "duration": 52,
    "start_time": "2022-05-26T19:52:06.832Z"
   },
   {
    "duration": 63,
    "start_time": "2022-05-26T19:52:06.885Z"
   },
   {
    "duration": 39,
    "start_time": "2022-05-26T19:52:06.950Z"
   },
   {
    "duration": 35,
    "start_time": "2022-05-26T19:52:06.991Z"
   },
   {
    "duration": 21,
    "start_time": "2022-05-26T19:52:07.028Z"
   },
   {
    "duration": 10,
    "start_time": "2022-05-26T19:52:07.050Z"
   },
   {
    "duration": 62,
    "start_time": "2022-05-26T19:52:07.062Z"
   },
   {
    "duration": 192,
    "start_time": "2022-05-26T19:52:07.125Z"
   },
   {
    "duration": 296,
    "start_time": "2022-05-26T19:52:07.323Z"
   },
   {
    "duration": 310,
    "start_time": "2022-05-26T19:52:07.620Z"
   },
   {
    "duration": 365,
    "start_time": "2022-05-26T19:52:07.932Z"
   },
   {
    "duration": 43,
    "start_time": "2022-05-26T19:52:08.299Z"
   },
   {
    "duration": 271,
    "start_time": "2022-05-26T19:52:08.343Z"
   },
   {
    "duration": 295,
    "start_time": "2022-05-26T19:52:08.616Z"
   },
   {
    "duration": 474,
    "start_time": "2022-05-26T19:52:08.913Z"
   },
   {
    "duration": 34,
    "start_time": "2022-05-26T19:52:09.392Z"
   },
   {
    "duration": 386,
    "start_time": "2022-05-26T19:52:09.428Z"
   },
   {
    "duration": 31,
    "start_time": "2022-05-26T19:52:09.817Z"
   },
   {
    "duration": 13,
    "start_time": "2022-05-26T19:52:09.850Z"
   },
   {
    "duration": 9,
    "start_time": "2022-05-26T19:52:09.865Z"
   },
   {
    "duration": 415,
    "start_time": "2022-05-26T19:52:09.876Z"
   },
   {
    "duration": 8,
    "start_time": "2022-05-26T19:52:10.294Z"
   },
   {
    "duration": 47,
    "start_time": "2022-05-26T19:52:10.303Z"
   },
   {
    "duration": 24,
    "start_time": "2022-05-26T19:52:10.352Z"
   },
   {
    "duration": 21,
    "start_time": "2022-05-26T19:52:10.378Z"
   },
   {
    "duration": 36,
    "start_time": "2022-05-26T19:52:10.425Z"
   },
   {
    "duration": 11,
    "start_time": "2022-05-26T19:52:10.462Z"
   },
   {
    "duration": 54,
    "start_time": "2022-05-26T19:52:10.475Z"
   },
   {
    "duration": 20,
    "start_time": "2022-05-26T19:52:10.531Z"
   },
   {
    "duration": 26,
    "start_time": "2022-05-26T19:52:10.553Z"
   },
   {
    "duration": 11,
    "start_time": "2022-05-26T19:52:10.582Z"
   },
   {
    "duration": 42,
    "start_time": "2022-05-26T19:52:10.594Z"
   },
   {
    "duration": 416,
    "start_time": "2022-05-26T19:52:10.638Z"
   },
   {
    "duration": 39,
    "start_time": "2022-05-26T19:52:11.056Z"
   },
   {
    "duration": 5,
    "start_time": "2022-05-26T19:52:11.098Z"
   },
   {
    "duration": 170,
    "start_time": "2022-05-26T19:52:11.124Z"
   },
   {
    "duration": 6,
    "start_time": "2022-05-26T19:52:19.773Z"
   },
   {
    "duration": 22,
    "start_time": "2022-05-26T19:52:22.932Z"
   },
   {
    "duration": 34,
    "start_time": "2022-05-26T19:53:29.238Z"
   },
   {
    "duration": 9,
    "start_time": "2022-05-26T19:53:58.623Z"
   },
   {
    "duration": 25,
    "start_time": "2022-05-26T19:54:01.599Z"
   },
   {
    "duration": 5,
    "start_time": "2022-05-26T19:54:17.270Z"
   },
   {
    "duration": 17,
    "start_time": "2022-05-26T19:54:19.439Z"
   },
   {
    "duration": 5,
    "start_time": "2022-05-26T19:55:03.773Z"
   },
   {
    "duration": 16,
    "start_time": "2022-05-26T19:55:05.446Z"
   },
   {
    "duration": 18,
    "start_time": "2022-05-26T19:55:17.646Z"
   },
   {
    "duration": 1268,
    "start_time": "2022-05-26T19:56:42.595Z"
   },
   {
    "duration": 469,
    "start_time": "2022-05-26T19:56:43.865Z"
   },
   {
    "duration": 39,
    "start_time": "2022-05-26T19:56:44.336Z"
   },
   {
    "duration": 47,
    "start_time": "2022-05-26T19:56:44.380Z"
   },
   {
    "duration": 25,
    "start_time": "2022-05-26T19:56:44.429Z"
   },
   {
    "duration": 19,
    "start_time": "2022-05-26T19:56:44.456Z"
   },
   {
    "duration": 49,
    "start_time": "2022-05-26T19:56:44.477Z"
   },
   {
    "duration": 15,
    "start_time": "2022-05-26T19:56:44.528Z"
   },
   {
    "duration": 54,
    "start_time": "2022-05-26T19:56:44.545Z"
   },
   {
    "duration": 56,
    "start_time": "2022-05-26T19:56:44.630Z"
   },
   {
    "duration": 52,
    "start_time": "2022-05-26T19:56:44.687Z"
   },
   {
    "duration": 17,
    "start_time": "2022-05-26T19:56:44.741Z"
   },
   {
    "duration": 23,
    "start_time": "2022-05-26T19:56:44.759Z"
   },
   {
    "duration": 6,
    "start_time": "2022-05-26T19:56:44.784Z"
   },
   {
    "duration": 27,
    "start_time": "2022-05-26T19:56:44.824Z"
   },
   {
    "duration": 216,
    "start_time": "2022-05-26T19:56:44.852Z"
   },
   {
    "duration": 307,
    "start_time": "2022-05-26T19:56:45.070Z"
   },
   {
    "duration": 363,
    "start_time": "2022-05-26T19:56:45.378Z"
   },
   {
    "duration": 461,
    "start_time": "2022-05-26T19:56:45.742Z"
   },
   {
    "duration": 30,
    "start_time": "2022-05-26T19:56:46.205Z"
   },
   {
    "duration": 254,
    "start_time": "2022-05-26T19:56:46.236Z"
   },
   {
    "duration": 291,
    "start_time": "2022-05-26T19:56:46.492Z"
   },
   {
    "duration": 364,
    "start_time": "2022-05-26T19:56:46.785Z"
   },
   {
    "duration": 28,
    "start_time": "2022-05-26T19:56:47.151Z"
   },
   {
    "duration": 369,
    "start_time": "2022-05-26T19:56:47.181Z"
   },
   {
    "duration": 19,
    "start_time": "2022-05-26T19:56:47.551Z"
   },
   {
    "duration": 5,
    "start_time": "2022-05-26T19:56:47.571Z"
   },
   {
    "duration": 7,
    "start_time": "2022-05-26T19:56:47.580Z"
   },
   {
    "duration": 376,
    "start_time": "2022-05-26T19:56:47.589Z"
   },
   {
    "duration": 7,
    "start_time": "2022-05-26T19:56:47.967Z"
   },
   {
    "duration": 31,
    "start_time": "2022-05-26T19:56:47.975Z"
   },
   {
    "duration": 24,
    "start_time": "2022-05-26T19:56:48.023Z"
   },
   {
    "duration": 20,
    "start_time": "2022-05-26T19:56:48.049Z"
   },
   {
    "duration": 27,
    "start_time": "2022-05-26T19:56:48.071Z"
   },
   {
    "duration": 10,
    "start_time": "2022-05-26T19:56:48.124Z"
   },
   {
    "duration": 40,
    "start_time": "2022-05-26T19:56:48.136Z"
   },
   {
    "duration": 10,
    "start_time": "2022-05-26T19:56:48.178Z"
   },
   {
    "duration": 58,
    "start_time": "2022-05-26T19:56:48.190Z"
   },
   {
    "duration": 9,
    "start_time": "2022-05-26T19:56:48.250Z"
   },
   {
    "duration": 16,
    "start_time": "2022-05-26T19:56:48.261Z"
   },
   {
    "duration": 194,
    "start_time": "2022-05-26T19:56:48.279Z"
   },
   {
    "duration": 37,
    "start_time": "2022-05-26T19:56:48.475Z"
   },
   {
    "duration": 3,
    "start_time": "2022-05-26T19:56:48.524Z"
   },
   {
    "duration": 137,
    "start_time": "2022-05-26T19:56:48.529Z"
   },
   {
    "duration": 5,
    "start_time": "2022-05-26T19:56:48.668Z"
   },
   {
    "duration": 6,
    "start_time": "2022-05-26T19:56:48.675Z"
   },
   {
    "duration": 47,
    "start_time": "2022-05-26T19:56:48.683Z"
   },
   {
    "duration": 22,
    "start_time": "2022-05-26T19:56:48.732Z"
   },
   {
    "duration": 12,
    "start_time": "2022-05-26T19:56:48.756Z"
   },
   {
    "duration": 24,
    "start_time": "2022-05-26T19:56:48.770Z"
   },
   {
    "duration": 734,
    "start_time": "2022-05-26T19:56:48.796Z"
   },
   {
    "duration": 12,
    "start_time": "2022-05-26T19:56:49.533Z"
   },
   {
    "duration": 18,
    "start_time": "2022-05-26T19:56:49.547Z"
   },
   {
    "duration": 16,
    "start_time": "2022-05-26T19:56:49.567Z"
   },
   {
    "duration": 711,
    "start_time": "2022-05-26T19:57:58.966Z"
   },
   {
    "duration": 55,
    "start_time": "2022-05-26T20:11:04.016Z"
   },
   {
    "duration": 903,
    "start_time": "2022-05-26T20:11:13.668Z"
   },
   {
    "duration": 620,
    "start_time": "2022-05-26T20:11:19.282Z"
   },
   {
    "duration": 578,
    "start_time": "2022-05-26T20:11:26.337Z"
   },
   {
    "duration": 596,
    "start_time": "2022-05-26T20:11:31.362Z"
   },
   {
    "duration": 839,
    "start_time": "2022-05-26T20:11:37.254Z"
   },
   {
    "duration": 637,
    "start_time": "2022-05-26T20:11:43.523Z"
   },
   {
    "duration": 583,
    "start_time": "2022-05-26T20:14:33.364Z"
   },
   {
    "duration": 563,
    "start_time": "2022-05-26T20:25:35.296Z"
   },
   {
    "duration": 14,
    "start_time": "2022-05-26T20:25:46.244Z"
   },
   {
    "duration": 12,
    "start_time": "2022-05-26T20:27:06.584Z"
   },
   {
    "duration": 6,
    "start_time": "2022-05-26T20:44:48.048Z"
   },
   {
    "duration": 3,
    "start_time": "2022-05-26T20:45:04.271Z"
   },
   {
    "duration": 4,
    "start_time": "2022-05-26T20:45:17.695Z"
   },
   {
    "duration": 5,
    "start_time": "2022-05-26T20:45:21.237Z"
   },
   {
    "duration": 16,
    "start_time": "2022-05-26T20:45:21.244Z"
   },
   {
    "duration": 11,
    "start_time": "2022-05-26T20:45:21.261Z"
   },
   {
    "duration": 769,
    "start_time": "2022-05-26T20:45:21.273Z"
   },
   {
    "duration": 699,
    "start_time": "2022-05-26T20:45:22.044Z"
   },
   {
    "duration": 645,
    "start_time": "2022-05-26T20:45:22.747Z"
   },
   {
    "duration": 11,
    "start_time": "2022-05-26T20:45:23.394Z"
   },
   {
    "duration": 33,
    "start_time": "2022-05-26T20:45:23.406Z"
   },
   {
    "duration": 11,
    "start_time": "2022-05-26T20:45:23.441Z"
   },
   {
    "duration": 8,
    "start_time": "2022-05-26T20:45:23.454Z"
   },
   {
    "duration": 904,
    "start_time": "2022-05-26T21:01:11.898Z"
   },
   {
    "duration": 921,
    "start_time": "2022-05-26T21:01:18.747Z"
   },
   {
    "duration": 1021,
    "start_time": "2022-05-26T21:01:34.250Z"
   },
   {
    "duration": 15,
    "start_time": "2022-05-26T21:01:42.794Z"
   },
   {
    "duration": 14,
    "start_time": "2022-05-26T21:01:47.377Z"
   },
   {
    "duration": 16,
    "start_time": "2022-05-26T21:01:50.631Z"
   },
   {
    "duration": 107,
    "start_time": "2022-05-26T21:02:16.562Z"
   },
   {
    "duration": 4,
    "start_time": "2022-05-26T21:02:41.962Z"
   },
   {
    "duration": 6,
    "start_time": "2022-05-26T21:02:46.002Z"
   },
   {
    "duration": 22,
    "start_time": "2022-05-26T21:11:05.504Z"
   },
   {
    "duration": 79,
    "start_time": "2022-05-26T21:12:37.152Z"
   },
   {
    "duration": 21,
    "start_time": "2022-05-26T21:13:19.482Z"
   },
   {
    "duration": 78,
    "start_time": "2022-05-26T21:13:29.168Z"
   },
   {
    "duration": 6,
    "start_time": "2022-05-26T21:14:19.923Z"
   },
   {
    "duration": 15,
    "start_time": "2022-05-26T21:28:22.872Z"
   },
   {
    "duration": 19,
    "start_time": "2022-05-26T21:28:49.936Z"
   },
   {
    "duration": 341,
    "start_time": "2022-05-26T21:29:24.978Z"
   },
   {
    "duration": 22,
    "start_time": "2022-05-26T21:30:31.636Z"
   },
   {
    "duration": 213,
    "start_time": "2022-05-26T21:30:44.081Z"
   },
   {
    "duration": 374,
    "start_time": "2022-05-26T21:30:52.567Z"
   },
   {
    "duration": 647,
    "start_time": "2022-05-26T21:31:35.670Z"
   },
   {
    "duration": 354,
    "start_time": "2022-05-26T21:33:00.843Z"
   },
   {
    "duration": 376,
    "start_time": "2022-05-26T21:33:19.812Z"
   },
   {
    "duration": 387,
    "start_time": "2022-05-26T21:34:15.972Z"
   },
   {
    "duration": 298,
    "start_time": "2022-05-26T21:34:31.198Z"
   },
   {
    "duration": 371,
    "start_time": "2022-05-26T21:35:00.621Z"
   },
   {
    "duration": 362,
    "start_time": "2022-05-26T21:35:10.019Z"
   },
   {
    "duration": 563,
    "start_time": "2022-05-26T21:35:39.675Z"
   },
   {
    "duration": 333,
    "start_time": "2022-05-26T21:37:47.472Z"
   },
   {
    "duration": 293,
    "start_time": "2022-05-26T21:43:51.711Z"
   },
   {
    "duration": 22,
    "start_time": "2022-05-26T21:44:33.727Z"
   },
   {
    "duration": 25,
    "start_time": "2022-05-26T21:44:57.967Z"
   },
   {
    "duration": 186,
    "start_time": "2022-05-26T21:46:20.592Z"
   },
   {
    "duration": 266,
    "start_time": "2022-05-26T21:46:31.391Z"
   },
   {
    "duration": 504,
    "start_time": "2022-05-26T21:47:04.479Z"
   },
   {
    "duration": 226,
    "start_time": "2022-05-26T21:47:09.366Z"
   },
   {
    "duration": 224,
    "start_time": "2022-05-26T21:47:13.679Z"
   },
   {
    "duration": 292,
    "start_time": "2022-05-26T21:47:22.327Z"
   },
   {
    "duration": 258,
    "start_time": "2022-05-26T21:47:27.815Z"
   },
   {
    "duration": 542,
    "start_time": "2022-05-26T21:48:46.248Z"
   },
   {
    "duration": 331,
    "start_time": "2022-05-26T21:51:32.488Z"
   },
   {
    "duration": 1412,
    "start_time": "2022-05-27T05:33:33.689Z"
   },
   {
    "duration": 0,
    "start_time": "2022-05-27T05:33:35.103Z"
   },
   {
    "duration": 0,
    "start_time": "2022-05-27T05:33:35.105Z"
   },
   {
    "duration": 0,
    "start_time": "2022-05-27T05:33:35.106Z"
   },
   {
    "duration": 0,
    "start_time": "2022-05-27T05:33:35.107Z"
   },
   {
    "duration": 0,
    "start_time": "2022-05-27T05:33:35.108Z"
   },
   {
    "duration": 0,
    "start_time": "2022-05-27T05:33:35.109Z"
   },
   {
    "duration": 0,
    "start_time": "2022-05-27T05:33:35.110Z"
   },
   {
    "duration": 0,
    "start_time": "2022-05-27T05:33:35.112Z"
   },
   {
    "duration": 0,
    "start_time": "2022-05-27T05:33:35.113Z"
   },
   {
    "duration": 0,
    "start_time": "2022-05-27T05:33:35.113Z"
   },
   {
    "duration": 0,
    "start_time": "2022-05-27T05:33:35.114Z"
   },
   {
    "duration": 0,
    "start_time": "2022-05-27T05:33:35.114Z"
   },
   {
    "duration": 0,
    "start_time": "2022-05-27T05:33:35.115Z"
   },
   {
    "duration": 0,
    "start_time": "2022-05-27T05:33:35.115Z"
   },
   {
    "duration": 0,
    "start_time": "2022-05-27T05:33:35.126Z"
   },
   {
    "duration": 0,
    "start_time": "2022-05-27T05:33:35.127Z"
   },
   {
    "duration": 0,
    "start_time": "2022-05-27T05:33:35.128Z"
   },
   {
    "duration": 0,
    "start_time": "2022-05-27T05:33:35.129Z"
   },
   {
    "duration": 0,
    "start_time": "2022-05-27T05:33:35.130Z"
   },
   {
    "duration": 0,
    "start_time": "2022-05-27T05:33:35.131Z"
   },
   {
    "duration": 0,
    "start_time": "2022-05-27T05:33:35.132Z"
   },
   {
    "duration": 0,
    "start_time": "2022-05-27T05:33:35.133Z"
   },
   {
    "duration": 0,
    "start_time": "2022-05-27T05:33:35.134Z"
   },
   {
    "duration": 0,
    "start_time": "2022-05-27T05:33:35.135Z"
   },
   {
    "duration": 0,
    "start_time": "2022-05-27T05:33:35.136Z"
   },
   {
    "duration": 0,
    "start_time": "2022-05-27T05:33:35.137Z"
   },
   {
    "duration": 0,
    "start_time": "2022-05-27T05:33:35.138Z"
   },
   {
    "duration": 0,
    "start_time": "2022-05-27T05:33:35.139Z"
   },
   {
    "duration": 0,
    "start_time": "2022-05-27T05:33:35.140Z"
   },
   {
    "duration": 0,
    "start_time": "2022-05-27T05:33:35.141Z"
   },
   {
    "duration": 0,
    "start_time": "2022-05-27T05:33:35.142Z"
   },
   {
    "duration": 0,
    "start_time": "2022-05-27T05:33:35.143Z"
   },
   {
    "duration": 0,
    "start_time": "2022-05-27T05:33:35.144Z"
   },
   {
    "duration": 0,
    "start_time": "2022-05-27T05:33:35.145Z"
   },
   {
    "duration": 0,
    "start_time": "2022-05-27T05:33:35.146Z"
   },
   {
    "duration": 0,
    "start_time": "2022-05-27T05:33:35.147Z"
   },
   {
    "duration": 0,
    "start_time": "2022-05-27T05:33:35.148Z"
   },
   {
    "duration": 0,
    "start_time": "2022-05-27T05:33:35.149Z"
   },
   {
    "duration": 0,
    "start_time": "2022-05-27T05:33:35.150Z"
   },
   {
    "duration": 10,
    "start_time": "2022-05-27T05:33:52.937Z"
   },
   {
    "duration": 0,
    "start_time": "2022-05-27T05:33:52.949Z"
   },
   {
    "duration": 0,
    "start_time": "2022-05-27T05:33:52.950Z"
   },
   {
    "duration": 10,
    "start_time": "2022-05-27T05:33:52.952Z"
   },
   {
    "duration": 0,
    "start_time": "2022-05-27T05:33:52.964Z"
   },
   {
    "duration": 0,
    "start_time": "2022-05-27T05:33:52.966Z"
   },
   {
    "duration": 0,
    "start_time": "2022-05-27T05:33:52.967Z"
   },
   {
    "duration": 7,
    "start_time": "2022-05-27T05:33:52.972Z"
   },
   {
    "duration": 0,
    "start_time": "2022-05-27T05:33:52.981Z"
   },
   {
    "duration": 0,
    "start_time": "2022-05-27T05:33:52.982Z"
   },
   {
    "duration": 47,
    "start_time": "2022-05-27T05:33:52.985Z"
   },
   {
    "duration": 0,
    "start_time": "2022-05-27T05:33:53.035Z"
   },
   {
    "duration": 0,
    "start_time": "2022-05-27T05:33:53.036Z"
   },
   {
    "duration": 0,
    "start_time": "2022-05-27T05:33:53.037Z"
   },
   {
    "duration": 1,
    "start_time": "2022-05-27T05:33:53.038Z"
   },
   {
    "duration": 0,
    "start_time": "2022-05-27T05:33:53.040Z"
   },
   {
    "duration": 0,
    "start_time": "2022-05-27T05:33:53.041Z"
   },
   {
    "duration": 0,
    "start_time": "2022-05-27T05:33:53.042Z"
   },
   {
    "duration": 0,
    "start_time": "2022-05-27T05:33:53.043Z"
   },
   {
    "duration": 0,
    "start_time": "2022-05-27T05:33:53.045Z"
   },
   {
    "duration": 0,
    "start_time": "2022-05-27T05:33:53.046Z"
   },
   {
    "duration": 0,
    "start_time": "2022-05-27T05:33:53.046Z"
   },
   {
    "duration": 0,
    "start_time": "2022-05-27T05:33:53.047Z"
   },
   {
    "duration": 0,
    "start_time": "2022-05-27T05:33:53.048Z"
   },
   {
    "duration": 0,
    "start_time": "2022-05-27T05:33:53.050Z"
   },
   {
    "duration": 0,
    "start_time": "2022-05-27T05:33:53.051Z"
   },
   {
    "duration": 0,
    "start_time": "2022-05-27T05:33:53.052Z"
   },
   {
    "duration": 0,
    "start_time": "2022-05-27T05:33:53.053Z"
   },
   {
    "duration": 8,
    "start_time": "2022-05-27T05:33:53.057Z"
   },
   {
    "duration": 0,
    "start_time": "2022-05-27T05:33:53.066Z"
   },
   {
    "duration": 0,
    "start_time": "2022-05-27T05:33:53.067Z"
   },
   {
    "duration": 0,
    "start_time": "2022-05-27T05:33:53.068Z"
   },
   {
    "duration": 0,
    "start_time": "2022-05-27T05:33:53.127Z"
   },
   {
    "duration": 0,
    "start_time": "2022-05-27T05:33:53.128Z"
   },
   {
    "duration": 0,
    "start_time": "2022-05-27T05:33:53.129Z"
   },
   {
    "duration": 0,
    "start_time": "2022-05-27T05:33:53.130Z"
   },
   {
    "duration": 0,
    "start_time": "2022-05-27T05:33:53.131Z"
   },
   {
    "duration": 0,
    "start_time": "2022-05-27T05:33:53.131Z"
   },
   {
    "duration": 0,
    "start_time": "2022-05-27T05:33:53.132Z"
   },
   {
    "duration": 0,
    "start_time": "2022-05-27T05:33:53.133Z"
   },
   {
    "duration": 54,
    "start_time": "2022-05-27T05:34:23.249Z"
   },
   {
    "duration": 908,
    "start_time": "2022-05-27T05:34:23.305Z"
   },
   {
    "duration": 33,
    "start_time": "2022-05-27T05:34:24.215Z"
   },
   {
    "duration": 25,
    "start_time": "2022-05-27T05:34:24.250Z"
   },
   {
    "duration": 21,
    "start_time": "2022-05-27T05:34:24.276Z"
   },
   {
    "duration": 39,
    "start_time": "2022-05-27T05:34:24.298Z"
   },
   {
    "duration": 16,
    "start_time": "2022-05-27T05:34:24.339Z"
   },
   {
    "duration": 12,
    "start_time": "2022-05-27T05:34:24.356Z"
   },
   {
    "duration": 76,
    "start_time": "2022-05-27T05:34:24.369Z"
   },
   {
    "duration": 39,
    "start_time": "2022-05-27T05:34:24.448Z"
   },
   {
    "duration": 48,
    "start_time": "2022-05-27T05:34:24.488Z"
   },
   {
    "duration": 15,
    "start_time": "2022-05-27T05:34:24.538Z"
   },
   {
    "duration": 19,
    "start_time": "2022-05-27T05:34:24.554Z"
   },
   {
    "duration": 4,
    "start_time": "2022-05-27T05:34:24.575Z"
   },
   {
    "duration": 55,
    "start_time": "2022-05-27T05:34:24.580Z"
   },
   {
    "duration": 160,
    "start_time": "2022-05-27T05:34:24.636Z"
   },
   {
    "duration": 315,
    "start_time": "2022-05-27T05:34:24.797Z"
   },
   {
    "duration": 257,
    "start_time": "2022-05-27T05:34:25.113Z"
   },
   {
    "duration": 458,
    "start_time": "2022-05-27T05:34:25.372Z"
   },
   {
    "duration": 22,
    "start_time": "2022-05-27T05:34:25.831Z"
   },
   {
    "duration": 250,
    "start_time": "2022-05-27T05:34:25.855Z"
   },
   {
    "duration": 269,
    "start_time": "2022-05-27T05:34:26.106Z"
   },
   {
    "duration": 346,
    "start_time": "2022-05-27T05:34:26.377Z"
   },
   {
    "duration": 19,
    "start_time": "2022-05-27T05:34:26.726Z"
   },
   {
    "duration": 323,
    "start_time": "2022-05-27T05:34:26.746Z"
   },
   {
    "duration": 17,
    "start_time": "2022-05-27T05:34:27.070Z"
   },
   {
    "duration": 6,
    "start_time": "2022-05-27T05:34:27.088Z"
   },
   {
    "duration": 7,
    "start_time": "2022-05-27T05:34:27.097Z"
   },
   {
    "duration": 326,
    "start_time": "2022-05-27T05:34:27.105Z"
   },
   {
    "duration": 5,
    "start_time": "2022-05-27T05:34:27.432Z"
   },
   {
    "duration": 29,
    "start_time": "2022-05-27T05:34:27.438Z"
   },
   {
    "duration": 20,
    "start_time": "2022-05-27T05:34:27.468Z"
   },
   {
    "duration": 37,
    "start_time": "2022-05-27T05:34:27.489Z"
   },
   {
    "duration": 23,
    "start_time": "2022-05-27T05:34:27.528Z"
   },
   {
    "duration": 9,
    "start_time": "2022-05-27T05:34:27.552Z"
   },
   {
    "duration": 23,
    "start_time": "2022-05-27T05:34:27.562Z"
   },
   {
    "duration": 8,
    "start_time": "2022-05-27T05:34:27.586Z"
   },
   {
    "duration": 51,
    "start_time": "2022-05-27T05:34:27.596Z"
   },
   {
    "duration": 8,
    "start_time": "2022-05-27T05:34:27.648Z"
   },
   {
    "duration": 13,
    "start_time": "2022-05-27T05:34:27.658Z"
   },
   {
    "duration": 165,
    "start_time": "2022-05-27T05:34:33.753Z"
   },
   {
    "duration": 4,
    "start_time": "2022-05-27T05:39:51.075Z"
   },
   {
    "duration": 421,
    "start_time": "2022-05-27T05:39:51.081Z"
   },
   {
    "duration": 38,
    "start_time": "2022-05-27T05:39:51.504Z"
   },
   {
    "duration": 31,
    "start_time": "2022-05-27T05:39:51.544Z"
   },
   {
    "duration": 21,
    "start_time": "2022-05-27T05:39:51.577Z"
   },
   {
    "duration": 37,
    "start_time": "2022-05-27T05:39:51.599Z"
   },
   {
    "duration": 20,
    "start_time": "2022-05-27T05:39:51.638Z"
   },
   {
    "duration": 11,
    "start_time": "2022-05-27T05:39:51.659Z"
   },
   {
    "duration": 75,
    "start_time": "2022-05-27T05:39:51.672Z"
   },
   {
    "duration": 40,
    "start_time": "2022-05-27T05:39:51.748Z"
   },
   {
    "duration": 47,
    "start_time": "2022-05-27T05:39:51.790Z"
   },
   {
    "duration": 15,
    "start_time": "2022-05-27T05:39:51.838Z"
   },
   {
    "duration": 23,
    "start_time": "2022-05-27T05:39:51.855Z"
   },
   {
    "duration": 4,
    "start_time": "2022-05-27T05:39:51.880Z"
   },
   {
    "duration": 46,
    "start_time": "2022-05-27T05:39:51.886Z"
   },
   {
    "duration": 158,
    "start_time": "2022-05-27T05:39:51.933Z"
   },
   {
    "duration": 262,
    "start_time": "2022-05-27T05:39:52.092Z"
   },
   {
    "duration": 251,
    "start_time": "2022-05-27T05:39:52.355Z"
   },
   {
    "duration": 328,
    "start_time": "2022-05-27T05:39:52.608Z"
   },
   {
    "duration": 20,
    "start_time": "2022-05-27T05:39:52.937Z"
   },
   {
    "duration": 253,
    "start_time": "2022-05-27T05:39:52.959Z"
   },
   {
    "duration": 273,
    "start_time": "2022-05-27T05:39:53.213Z"
   },
   {
    "duration": 343,
    "start_time": "2022-05-27T05:39:53.488Z"
   },
   {
    "duration": 17,
    "start_time": "2022-05-27T05:39:53.832Z"
   },
   {
    "duration": 311,
    "start_time": "2022-05-27T05:39:53.851Z"
   },
   {
    "duration": 17,
    "start_time": "2022-05-27T05:39:54.163Z"
   },
   {
    "duration": 9,
    "start_time": "2022-05-27T05:39:54.181Z"
   },
   {
    "duration": 8,
    "start_time": "2022-05-27T05:39:54.192Z"
   },
   {
    "duration": 423,
    "start_time": "2022-05-27T05:39:54.203Z"
   },
   {
    "duration": 5,
    "start_time": "2022-05-27T05:39:54.628Z"
   },
   {
    "duration": 30,
    "start_time": "2022-05-27T05:39:54.634Z"
   },
   {
    "duration": 22,
    "start_time": "2022-05-27T05:39:54.665Z"
   },
   {
    "duration": 42,
    "start_time": "2022-05-27T05:39:54.689Z"
   },
   {
    "duration": 29,
    "start_time": "2022-05-27T05:39:54.733Z"
   },
   {
    "duration": 8,
    "start_time": "2022-05-27T05:39:54.764Z"
   },
   {
    "duration": 24,
    "start_time": "2022-05-27T05:39:54.774Z"
   },
   {
    "duration": 33,
    "start_time": "2022-05-27T05:39:54.799Z"
   },
   {
    "duration": 26,
    "start_time": "2022-05-27T05:39:54.834Z"
   },
   {
    "duration": 9,
    "start_time": "2022-05-27T05:39:54.862Z"
   },
   {
    "duration": 11,
    "start_time": "2022-05-27T05:39:54.872Z"
   },
   {
    "duration": 104,
    "start_time": "2022-05-27T05:39:54.885Z"
   },
   {
    "duration": 44,
    "start_time": "2022-05-27T05:39:54.991Z"
   },
   {
    "duration": 4,
    "start_time": "2022-05-27T05:39:55.037Z"
   },
   {
    "duration": 141,
    "start_time": "2022-05-27T05:39:55.043Z"
   },
   {
    "duration": 4,
    "start_time": "2022-05-27T05:39:55.185Z"
   },
   {
    "duration": 7,
    "start_time": "2022-05-27T05:39:55.191Z"
   },
   {
    "duration": 27,
    "start_time": "2022-05-27T05:39:55.200Z"
   },
   {
    "duration": 8,
    "start_time": "2022-05-27T05:39:55.229Z"
   },
   {
    "duration": 11,
    "start_time": "2022-05-27T05:39:55.238Z"
   },
   {
    "duration": 11,
    "start_time": "2022-05-27T05:39:55.250Z"
   },
   {
    "duration": 727,
    "start_time": "2022-05-27T05:40:07.567Z"
   },
   {
    "duration": 869,
    "start_time": "2022-05-27T05:40:15.224Z"
   },
   {
    "duration": 788,
    "start_time": "2022-05-27T05:40:19.456Z"
   },
   {
    "duration": 13,
    "start_time": "2022-05-27T05:40:34.617Z"
   },
   {
    "duration": 11,
    "start_time": "2022-05-27T05:40:36.751Z"
   },
   {
    "duration": 12,
    "start_time": "2022-05-27T05:40:38.148Z"
   },
   {
    "duration": 10,
    "start_time": "2022-05-27T05:40:40.712Z"
   },
   {
    "duration": 298,
    "start_time": "2022-05-27T05:40:43.391Z"
   },
   {
    "duration": 5,
    "start_time": "2022-05-27T05:40:47.334Z"
   },
   {
    "duration": 1412,
    "start_time": "2022-05-27T17:07:49.957Z"
   },
   {
    "duration": 987,
    "start_time": "2022-05-27T17:07:51.371Z"
   },
   {
    "duration": 34,
    "start_time": "2022-05-27T17:07:52.360Z"
   },
   {
    "duration": 25,
    "start_time": "2022-05-27T17:07:52.396Z"
   },
   {
    "duration": 21,
    "start_time": "2022-05-27T17:07:52.423Z"
   },
   {
    "duration": 14,
    "start_time": "2022-05-27T17:07:52.445Z"
   },
   {
    "duration": 19,
    "start_time": "2022-05-27T17:07:52.460Z"
   },
   {
    "duration": 15,
    "start_time": "2022-05-27T17:07:52.481Z"
   },
   {
    "duration": 93,
    "start_time": "2022-05-27T17:07:52.498Z"
   },
   {
    "duration": 62,
    "start_time": "2022-05-27T17:07:52.593Z"
   },
   {
    "duration": 41,
    "start_time": "2022-05-27T17:07:52.657Z"
   },
   {
    "duration": 35,
    "start_time": "2022-05-27T17:07:52.700Z"
   },
   {
    "duration": 27,
    "start_time": "2022-05-27T17:07:52.737Z"
   },
   {
    "duration": 7,
    "start_time": "2022-05-27T17:07:52.767Z"
   },
   {
    "duration": 31,
    "start_time": "2022-05-27T17:07:52.775Z"
   },
   {
    "duration": 186,
    "start_time": "2022-05-27T17:07:52.823Z"
   },
   {
    "duration": 261,
    "start_time": "2022-05-27T17:07:53.024Z"
   },
   {
    "duration": 316,
    "start_time": "2022-05-27T17:07:53.286Z"
   },
   {
    "duration": 430,
    "start_time": "2022-05-27T17:07:53.604Z"
   },
   {
    "duration": 21,
    "start_time": "2022-05-27T17:07:54.036Z"
   },
   {
    "duration": 268,
    "start_time": "2022-05-27T17:07:54.058Z"
   },
   {
    "duration": 269,
    "start_time": "2022-05-27T17:07:54.327Z"
   },
   {
    "duration": 326,
    "start_time": "2022-05-27T17:07:54.597Z"
   },
   {
    "duration": 20,
    "start_time": "2022-05-27T17:07:54.924Z"
   },
   {
    "duration": 341,
    "start_time": "2022-05-27T17:07:54.945Z"
   },
   {
    "duration": 18,
    "start_time": "2022-05-27T17:07:55.288Z"
   },
   {
    "duration": 5,
    "start_time": "2022-05-27T17:07:55.324Z"
   },
   {
    "duration": 11,
    "start_time": "2022-05-27T17:07:55.330Z"
   },
   {
    "duration": 338,
    "start_time": "2022-05-27T17:07:55.342Z"
   },
   {
    "duration": 6,
    "start_time": "2022-05-27T17:07:55.682Z"
   },
   {
    "duration": 41,
    "start_time": "2022-05-27T17:07:55.690Z"
   },
   {
    "duration": 28,
    "start_time": "2022-05-27T17:07:55.733Z"
   },
   {
    "duration": 19,
    "start_time": "2022-05-27T17:07:55.763Z"
   },
   {
    "duration": 26,
    "start_time": "2022-05-27T17:08:41.619Z"
   },
   {
    "duration": 13,
    "start_time": "2022-05-27T17:08:54.001Z"
   },
   {
    "duration": 25,
    "start_time": "2022-05-27T17:09:52.423Z"
   },
   {
    "duration": 14,
    "start_time": "2022-05-27T17:09:57.113Z"
   },
   {
    "duration": 26,
    "start_time": "2022-05-27T17:10:06.497Z"
   },
   {
    "duration": 10,
    "start_time": "2022-05-27T17:10:08.953Z"
   },
   {
    "duration": 9,
    "start_time": "2022-05-27T17:10:11.322Z"
   },
   {
    "duration": 11,
    "start_time": "2022-05-27T17:10:12.865Z"
   },
   {
    "duration": 181,
    "start_time": "2022-05-27T17:10:14.290Z"
   },
   {
    "duration": 44,
    "start_time": "2022-05-27T17:10:19.253Z"
   },
   {
    "duration": 4,
    "start_time": "2022-05-27T17:10:23.072Z"
   },
   {
    "duration": 134,
    "start_time": "2022-05-27T17:10:24.267Z"
   },
   {
    "duration": 7,
    "start_time": "2022-05-27T17:10:34.019Z"
   },
   {
    "duration": 4,
    "start_time": "2022-05-27T17:10:35.772Z"
   },
   {
    "duration": 17,
    "start_time": "2022-05-27T17:10:36.569Z"
   },
   {
    "duration": 8,
    "start_time": "2022-05-27T17:10:47.666Z"
   },
   {
    "duration": 12,
    "start_time": "2022-05-27T17:12:11.067Z"
   },
   {
    "duration": 12,
    "start_time": "2022-05-27T17:12:12.324Z"
   },
   {
    "duration": 730,
    "start_time": "2022-05-27T17:12:16.085Z"
   },
   {
    "duration": 722,
    "start_time": "2022-05-27T17:12:20.381Z"
   },
   {
    "duration": 810,
    "start_time": "2022-05-27T17:12:23.342Z"
   },
   {
    "duration": 12,
    "start_time": "2022-05-27T17:12:30.249Z"
   },
   {
    "duration": 13,
    "start_time": "2022-05-27T17:12:44.789Z"
   },
   {
    "duration": 11,
    "start_time": "2022-05-27T17:12:48.561Z"
   },
   {
    "duration": 286,
    "start_time": "2022-05-27T17:12:56.466Z"
   },
   {
    "duration": 106,
    "start_time": "2022-05-27T17:13:06.914Z"
   },
   {
    "duration": 12,
    "start_time": "2022-05-27T17:13:53.532Z"
   },
   {
    "duration": 1176,
    "start_time": "2022-05-27T17:18:59.281Z"
   },
   {
    "duration": 411,
    "start_time": "2022-05-27T17:19:00.458Z"
   },
   {
    "duration": 49,
    "start_time": "2022-05-27T17:19:00.871Z"
   },
   {
    "duration": 26,
    "start_time": "2022-05-27T17:19:00.922Z"
   },
   {
    "duration": 23,
    "start_time": "2022-05-27T17:19:00.950Z"
   },
   {
    "duration": 17,
    "start_time": "2022-05-27T17:19:00.975Z"
   },
   {
    "duration": 43,
    "start_time": "2022-05-27T17:19:00.994Z"
   },
   {
    "duration": 14,
    "start_time": "2022-05-27T17:19:01.039Z"
   },
   {
    "duration": 71,
    "start_time": "2022-05-27T17:19:01.054Z"
   },
   {
    "duration": 42,
    "start_time": "2022-05-27T17:19:01.127Z"
   },
   {
    "duration": 56,
    "start_time": "2022-05-27T17:19:01.171Z"
   },
   {
    "duration": 16,
    "start_time": "2022-05-27T17:19:01.229Z"
   },
   {
    "duration": 45,
    "start_time": "2022-05-27T17:19:01.246Z"
   },
   {
    "duration": 44,
    "start_time": "2022-05-27T17:19:01.292Z"
   },
   {
    "duration": 37,
    "start_time": "2022-05-27T17:19:01.338Z"
   },
   {
    "duration": 210,
    "start_time": "2022-05-27T17:19:01.376Z"
   },
   {
    "duration": 285,
    "start_time": "2022-05-27T17:19:01.587Z"
   },
   {
    "duration": 335,
    "start_time": "2022-05-27T17:19:01.874Z"
   },
   {
    "duration": 445,
    "start_time": "2022-05-27T17:19:02.211Z"
   },
   {
    "duration": 32,
    "start_time": "2022-05-27T17:19:02.658Z"
   },
   {
    "duration": 286,
    "start_time": "2022-05-27T17:19:02.691Z"
   },
   {
    "duration": 260,
    "start_time": "2022-05-27T17:19:02.978Z"
   },
   {
    "duration": 334,
    "start_time": "2022-05-27T17:19:03.239Z"
   },
   {
    "duration": 19,
    "start_time": "2022-05-27T17:19:03.575Z"
   },
   {
    "duration": 332,
    "start_time": "2022-05-27T17:19:03.596Z"
   },
   {
    "duration": 24,
    "start_time": "2022-05-27T17:19:03.929Z"
   },
   {
    "duration": 5,
    "start_time": "2022-05-27T17:19:03.955Z"
   },
   {
    "duration": 8,
    "start_time": "2022-05-27T17:19:03.964Z"
   },
   {
    "duration": 338,
    "start_time": "2022-05-27T17:19:03.974Z"
   },
   {
    "duration": 10,
    "start_time": "2022-05-27T17:19:04.314Z"
   },
   {
    "duration": 41,
    "start_time": "2022-05-27T17:19:04.325Z"
   },
   {
    "duration": 20,
    "start_time": "2022-05-27T17:19:04.368Z"
   },
   {
    "duration": 17,
    "start_time": "2022-05-27T17:19:04.390Z"
   },
   {
    "duration": 35,
    "start_time": "2022-05-27T17:19:04.408Z"
   },
   {
    "duration": 9,
    "start_time": "2022-05-27T17:19:04.444Z"
   },
   {
    "duration": 24,
    "start_time": "2022-05-27T17:19:04.454Z"
   },
   {
    "duration": 10,
    "start_time": "2022-05-27T17:19:04.479Z"
   },
   {
    "duration": 50,
    "start_time": "2022-05-27T17:19:04.490Z"
   },
   {
    "duration": 9,
    "start_time": "2022-05-27T17:19:04.541Z"
   },
   {
    "duration": 10,
    "start_time": "2022-05-27T17:19:04.552Z"
   },
   {
    "duration": 191,
    "start_time": "2022-05-27T17:19:04.563Z"
   },
   {
    "duration": 34,
    "start_time": "2022-05-27T17:19:04.755Z"
   },
   {
    "duration": 4,
    "start_time": "2022-05-27T17:19:04.790Z"
   },
   {
    "duration": 152,
    "start_time": "2022-05-27T17:19:04.796Z"
   },
   {
    "duration": 6,
    "start_time": "2022-05-27T17:19:04.950Z"
   },
   {
    "duration": 13,
    "start_time": "2022-05-27T17:19:04.957Z"
   },
   {
    "duration": 23,
    "start_time": "2022-05-27T17:19:04.971Z"
   },
   {
    "duration": 26,
    "start_time": "2022-05-27T17:19:04.995Z"
   },
   {
    "duration": 20,
    "start_time": "2022-05-27T17:19:05.022Z"
   },
   {
    "duration": 15,
    "start_time": "2022-05-27T17:19:05.044Z"
   },
   {
    "duration": 724,
    "start_time": "2022-05-27T17:19:05.060Z"
   },
   {
    "duration": 778,
    "start_time": "2022-05-27T17:19:05.786Z"
   },
   {
    "duration": 859,
    "start_time": "2022-05-27T17:19:06.566Z"
   },
   {
    "duration": 11,
    "start_time": "2022-05-27T17:19:07.427Z"
   },
   {
    "duration": 14,
    "start_time": "2022-05-27T17:19:07.439Z"
   },
   {
    "duration": 10,
    "start_time": "2022-05-27T17:19:07.454Z"
   },
   {
    "duration": 316,
    "start_time": "2022-05-27T17:19:07.465Z"
   },
   {
    "duration": 131,
    "start_time": "2022-05-27T17:19:07.782Z"
   },
   {
    "duration": 0,
    "start_time": "2022-05-27T17:19:07.915Z"
   },
   {
    "duration": 0,
    "start_time": "2022-05-27T17:19:07.916Z"
   },
   {
    "duration": 0,
    "start_time": "2022-05-27T17:19:07.917Z"
   },
   {
    "duration": 29,
    "start_time": "2022-05-27T17:47:21.899Z"
   },
   {
    "duration": 1194,
    "start_time": "2022-05-27T18:07:04.984Z"
   },
   {
    "duration": 5,
    "start_time": "2022-05-27T18:07:06.180Z"
   },
   {
    "duration": 0,
    "start_time": "2022-05-27T18:07:06.190Z"
   },
   {
    "duration": 0,
    "start_time": "2022-05-27T18:07:06.192Z"
   },
   {
    "duration": 0,
    "start_time": "2022-05-27T18:07:06.194Z"
   },
   {
    "duration": 0,
    "start_time": "2022-05-27T18:07:06.195Z"
   },
   {
    "duration": 0,
    "start_time": "2022-05-27T18:07:06.198Z"
   },
   {
    "duration": 0,
    "start_time": "2022-05-27T18:07:06.199Z"
   },
   {
    "duration": 0,
    "start_time": "2022-05-27T18:07:06.201Z"
   },
   {
    "duration": 0,
    "start_time": "2022-05-27T18:07:06.223Z"
   },
   {
    "duration": 0,
    "start_time": "2022-05-27T18:07:06.225Z"
   },
   {
    "duration": 0,
    "start_time": "2022-05-27T18:07:06.226Z"
   },
   {
    "duration": 0,
    "start_time": "2022-05-27T18:07:06.228Z"
   },
   {
    "duration": 0,
    "start_time": "2022-05-27T18:07:06.229Z"
   },
   {
    "duration": 0,
    "start_time": "2022-05-27T18:07:06.230Z"
   },
   {
    "duration": 0,
    "start_time": "2022-05-27T18:07:06.232Z"
   },
   {
    "duration": 0,
    "start_time": "2022-05-27T18:07:06.233Z"
   },
   {
    "duration": 0,
    "start_time": "2022-05-27T18:07:06.234Z"
   },
   {
    "duration": 0,
    "start_time": "2022-05-27T18:07:06.247Z"
   },
   {
    "duration": 0,
    "start_time": "2022-05-27T18:07:06.249Z"
   },
   {
    "duration": 0,
    "start_time": "2022-05-27T18:07:06.251Z"
   },
   {
    "duration": 0,
    "start_time": "2022-05-27T18:07:06.252Z"
   },
   {
    "duration": 0,
    "start_time": "2022-05-27T18:07:06.254Z"
   },
   {
    "duration": 0,
    "start_time": "2022-05-27T18:07:06.255Z"
   },
   {
    "duration": 0,
    "start_time": "2022-05-27T18:07:06.256Z"
   },
   {
    "duration": 0,
    "start_time": "2022-05-27T18:07:06.258Z"
   },
   {
    "duration": 0,
    "start_time": "2022-05-27T18:07:06.259Z"
   },
   {
    "duration": 0,
    "start_time": "2022-05-27T18:07:06.261Z"
   },
   {
    "duration": 0,
    "start_time": "2022-05-27T18:07:06.264Z"
   },
   {
    "duration": 0,
    "start_time": "2022-05-27T18:07:06.266Z"
   },
   {
    "duration": 0,
    "start_time": "2022-05-27T18:07:06.267Z"
   },
   {
    "duration": 0,
    "start_time": "2022-05-27T18:07:06.268Z"
   },
   {
    "duration": 0,
    "start_time": "2022-05-27T18:07:06.325Z"
   },
   {
    "duration": 0,
    "start_time": "2022-05-27T18:07:06.326Z"
   },
   {
    "duration": 0,
    "start_time": "2022-05-27T18:07:06.328Z"
   },
   {
    "duration": 0,
    "start_time": "2022-05-27T18:07:06.329Z"
   },
   {
    "duration": 0,
    "start_time": "2022-05-27T18:07:06.331Z"
   },
   {
    "duration": 0,
    "start_time": "2022-05-27T18:07:06.333Z"
   },
   {
    "duration": 0,
    "start_time": "2022-05-27T18:07:06.334Z"
   },
   {
    "duration": 0,
    "start_time": "2022-05-27T18:07:06.335Z"
   },
   {
    "duration": 0,
    "start_time": "2022-05-27T18:07:06.337Z"
   },
   {
    "duration": 0,
    "start_time": "2022-05-27T18:07:06.338Z"
   },
   {
    "duration": 0,
    "start_time": "2022-05-27T18:07:06.339Z"
   },
   {
    "duration": 0,
    "start_time": "2022-05-27T18:07:06.341Z"
   },
   {
    "duration": 0,
    "start_time": "2022-05-27T18:07:06.342Z"
   },
   {
    "duration": 0,
    "start_time": "2022-05-27T18:07:06.343Z"
   },
   {
    "duration": 0,
    "start_time": "2022-05-27T18:07:06.345Z"
   },
   {
    "duration": 0,
    "start_time": "2022-05-27T18:07:06.347Z"
   },
   {
    "duration": 0,
    "start_time": "2022-05-27T18:07:06.348Z"
   },
   {
    "duration": 0,
    "start_time": "2022-05-27T18:07:06.349Z"
   },
   {
    "duration": 0,
    "start_time": "2022-05-27T18:07:06.351Z"
   },
   {
    "duration": 0,
    "start_time": "2022-05-27T18:07:06.352Z"
   },
   {
    "duration": 0,
    "start_time": "2022-05-27T18:07:06.353Z"
   },
   {
    "duration": 0,
    "start_time": "2022-05-27T18:07:06.354Z"
   },
   {
    "duration": 0,
    "start_time": "2022-05-27T18:07:06.356Z"
   },
   {
    "duration": 0,
    "start_time": "2022-05-27T18:07:06.357Z"
   },
   {
    "duration": 0,
    "start_time": "2022-05-27T18:07:06.358Z"
   },
   {
    "duration": 0,
    "start_time": "2022-05-27T18:07:06.359Z"
   },
   {
    "duration": 0,
    "start_time": "2022-05-27T18:07:06.360Z"
   },
   {
    "duration": 0,
    "start_time": "2022-05-27T18:07:06.361Z"
   },
   {
    "duration": 0,
    "start_time": "2022-05-27T18:07:06.362Z"
   },
   {
    "duration": 1329,
    "start_time": "2022-05-28T08:35:40.973Z"
   },
   {
    "duration": 4,
    "start_time": "2022-05-28T08:35:42.304Z"
   },
   {
    "duration": 0,
    "start_time": "2022-05-28T08:35:42.311Z"
   },
   {
    "duration": 0,
    "start_time": "2022-05-28T08:35:42.313Z"
   },
   {
    "duration": 0,
    "start_time": "2022-05-28T08:35:42.314Z"
   },
   {
    "duration": 0,
    "start_time": "2022-05-28T08:35:42.315Z"
   },
   {
    "duration": 0,
    "start_time": "2022-05-28T08:35:42.316Z"
   },
   {
    "duration": 0,
    "start_time": "2022-05-28T08:35:42.317Z"
   },
   {
    "duration": 0,
    "start_time": "2022-05-28T08:35:42.318Z"
   },
   {
    "duration": 0,
    "start_time": "2022-05-28T08:35:42.319Z"
   },
   {
    "duration": 0,
    "start_time": "2022-05-28T08:35:42.320Z"
   },
   {
    "duration": 0,
    "start_time": "2022-05-28T08:35:42.321Z"
   },
   {
    "duration": 0,
    "start_time": "2022-05-28T08:35:42.322Z"
   },
   {
    "duration": 0,
    "start_time": "2022-05-28T08:35:42.323Z"
   },
   {
    "duration": 0,
    "start_time": "2022-05-28T08:35:42.324Z"
   },
   {
    "duration": 0,
    "start_time": "2022-05-28T08:35:42.325Z"
   },
   {
    "duration": 0,
    "start_time": "2022-05-28T08:35:42.326Z"
   },
   {
    "duration": 0,
    "start_time": "2022-05-28T08:35:42.327Z"
   },
   {
    "duration": 0,
    "start_time": "2022-05-28T08:35:42.359Z"
   },
   {
    "duration": 0,
    "start_time": "2022-05-28T08:35:42.360Z"
   },
   {
    "duration": 0,
    "start_time": "2022-05-28T08:35:42.361Z"
   },
   {
    "duration": 0,
    "start_time": "2022-05-28T08:35:42.363Z"
   },
   {
    "duration": 0,
    "start_time": "2022-05-28T08:35:42.363Z"
   },
   {
    "duration": 0,
    "start_time": "2022-05-28T08:35:42.364Z"
   },
   {
    "duration": 0,
    "start_time": "2022-05-28T08:35:42.365Z"
   },
   {
    "duration": 0,
    "start_time": "2022-05-28T08:35:42.367Z"
   },
   {
    "duration": 0,
    "start_time": "2022-05-28T08:35:42.368Z"
   },
   {
    "duration": 0,
    "start_time": "2022-05-28T08:35:42.369Z"
   },
   {
    "duration": 0,
    "start_time": "2022-05-28T08:35:42.370Z"
   },
   {
    "duration": 0,
    "start_time": "2022-05-28T08:35:42.371Z"
   },
   {
    "duration": 0,
    "start_time": "2022-05-28T08:35:42.372Z"
   },
   {
    "duration": 0,
    "start_time": "2022-05-28T08:35:42.373Z"
   },
   {
    "duration": 0,
    "start_time": "2022-05-28T08:35:42.374Z"
   },
   {
    "duration": 0,
    "start_time": "2022-05-28T08:35:42.375Z"
   },
   {
    "duration": 0,
    "start_time": "2022-05-28T08:35:42.377Z"
   },
   {
    "duration": 0,
    "start_time": "2022-05-28T08:35:42.378Z"
   },
   {
    "duration": 0,
    "start_time": "2022-05-28T08:35:42.379Z"
   },
   {
    "duration": 0,
    "start_time": "2022-05-28T08:35:42.380Z"
   },
   {
    "duration": 0,
    "start_time": "2022-05-28T08:35:42.381Z"
   },
   {
    "duration": 0,
    "start_time": "2022-05-28T08:35:42.382Z"
   },
   {
    "duration": 0,
    "start_time": "2022-05-28T08:35:42.383Z"
   },
   {
    "duration": 0,
    "start_time": "2022-05-28T08:35:42.384Z"
   },
   {
    "duration": 0,
    "start_time": "2022-05-28T08:35:42.385Z"
   },
   {
    "duration": 0,
    "start_time": "2022-05-28T08:35:42.386Z"
   },
   {
    "duration": 0,
    "start_time": "2022-05-28T08:35:42.387Z"
   },
   {
    "duration": 0,
    "start_time": "2022-05-28T08:35:42.388Z"
   },
   {
    "duration": 0,
    "start_time": "2022-05-28T08:35:42.389Z"
   },
   {
    "duration": 0,
    "start_time": "2022-05-28T08:35:42.390Z"
   },
   {
    "duration": 0,
    "start_time": "2022-05-28T08:35:42.391Z"
   },
   {
    "duration": 0,
    "start_time": "2022-05-28T08:35:42.392Z"
   },
   {
    "duration": 0,
    "start_time": "2022-05-28T08:35:42.393Z"
   },
   {
    "duration": 0,
    "start_time": "2022-05-28T08:35:42.394Z"
   },
   {
    "duration": 0,
    "start_time": "2022-05-28T08:35:42.395Z"
   },
   {
    "duration": 0,
    "start_time": "2022-05-28T08:35:42.458Z"
   },
   {
    "duration": 0,
    "start_time": "2022-05-28T08:35:42.460Z"
   },
   {
    "duration": 0,
    "start_time": "2022-05-28T08:35:42.461Z"
   },
   {
    "duration": 0,
    "start_time": "2022-05-28T08:35:42.462Z"
   },
   {
    "duration": 0,
    "start_time": "2022-05-28T08:35:42.464Z"
   },
   {
    "duration": 0,
    "start_time": "2022-05-28T08:35:42.465Z"
   },
   {
    "duration": 0,
    "start_time": "2022-05-28T08:35:42.466Z"
   },
   {
    "duration": 0,
    "start_time": "2022-05-28T08:35:42.467Z"
   },
   {
    "duration": 955,
    "start_time": "2022-05-28T08:37:28.704Z"
   },
   {
    "duration": 1078,
    "start_time": "2022-05-28T08:37:37.910Z"
   },
   {
    "duration": 394,
    "start_time": "2022-05-28T08:37:38.989Z"
   },
   {
    "duration": 32,
    "start_time": "2022-05-28T08:37:39.384Z"
   },
   {
    "duration": 24,
    "start_time": "2022-05-28T08:37:39.418Z"
   },
   {
    "duration": 21,
    "start_time": "2022-05-28T08:37:39.443Z"
   },
   {
    "duration": 13,
    "start_time": "2022-05-28T08:37:39.465Z"
   },
   {
    "duration": 25,
    "start_time": "2022-05-28T08:37:39.479Z"
   },
   {
    "duration": 14,
    "start_time": "2022-05-28T08:37:39.505Z"
   },
   {
    "duration": 65,
    "start_time": "2022-05-28T08:37:39.520Z"
   },
   {
    "duration": 40,
    "start_time": "2022-05-28T08:37:39.588Z"
   },
   {
    "duration": 49,
    "start_time": "2022-05-28T08:37:39.630Z"
   },
   {
    "duration": 16,
    "start_time": "2022-05-28T08:37:39.681Z"
   },
   {
    "duration": 19,
    "start_time": "2022-05-28T08:37:39.698Z"
   },
   {
    "duration": 4,
    "start_time": "2022-05-28T08:37:39.719Z"
   },
   {
    "duration": 54,
    "start_time": "2022-05-28T08:37:39.724Z"
   },
   {
    "duration": 194,
    "start_time": "2022-05-28T08:37:39.780Z"
   },
   {
    "duration": 273,
    "start_time": "2022-05-28T08:37:39.975Z"
   },
   {
    "duration": 318,
    "start_time": "2022-05-28T08:37:40.249Z"
   },
   {
    "duration": 434,
    "start_time": "2022-05-28T08:37:40.568Z"
   },
   {
    "duration": 20,
    "start_time": "2022-05-28T08:37:41.004Z"
   },
   {
    "duration": 260,
    "start_time": "2022-05-28T08:37:41.026Z"
   },
   {
    "duration": 285,
    "start_time": "2022-05-28T08:37:41.288Z"
   },
   {
    "duration": 341,
    "start_time": "2022-05-28T08:37:41.575Z"
   },
   {
    "duration": 21,
    "start_time": "2022-05-28T08:37:41.918Z"
   },
   {
    "duration": 341,
    "start_time": "2022-05-28T08:37:41.941Z"
   },
   {
    "duration": 18,
    "start_time": "2022-05-28T08:37:42.283Z"
   },
   {
    "duration": 7,
    "start_time": "2022-05-28T08:37:42.302Z"
   },
   {
    "duration": 6,
    "start_time": "2022-05-28T08:37:42.312Z"
   },
   {
    "duration": 347,
    "start_time": "2022-05-28T08:37:42.319Z"
   },
   {
    "duration": 5,
    "start_time": "2022-05-28T08:37:42.668Z"
   },
   {
    "duration": 28,
    "start_time": "2022-05-28T08:37:42.675Z"
   },
   {
    "duration": 21,
    "start_time": "2022-05-28T08:37:42.705Z"
   },
   {
    "duration": 40,
    "start_time": "2022-05-28T08:37:42.728Z"
   },
   {
    "duration": 28,
    "start_time": "2022-05-28T08:37:42.770Z"
   },
   {
    "duration": 9,
    "start_time": "2022-05-28T08:37:42.800Z"
   },
   {
    "duration": 50,
    "start_time": "2022-05-28T08:37:42.810Z"
   },
   {
    "duration": 9,
    "start_time": "2022-05-28T08:37:42.861Z"
   },
   {
    "duration": 31,
    "start_time": "2022-05-28T08:37:42.872Z"
   },
   {
    "duration": 9,
    "start_time": "2022-05-28T08:37:42.904Z"
   },
   {
    "duration": 19,
    "start_time": "2022-05-28T08:37:42.915Z"
   },
   {
    "duration": 205,
    "start_time": "2022-05-28T08:37:42.936Z"
   },
   {
    "duration": 40,
    "start_time": "2022-05-28T08:37:43.142Z"
   },
   {
    "duration": 4,
    "start_time": "2022-05-28T08:37:43.183Z"
   },
   {
    "duration": 137,
    "start_time": "2022-05-28T08:37:43.188Z"
   },
   {
    "duration": 5,
    "start_time": "2022-05-28T08:37:43.326Z"
   },
   {
    "duration": 7,
    "start_time": "2022-05-28T08:37:43.332Z"
   },
   {
    "duration": 27,
    "start_time": "2022-05-28T08:37:43.340Z"
   },
   {
    "duration": 9,
    "start_time": "2022-05-28T08:37:43.368Z"
   },
   {
    "duration": 12,
    "start_time": "2022-05-28T08:37:43.379Z"
   },
   {
    "duration": 12,
    "start_time": "2022-05-28T08:37:43.393Z"
   },
   {
    "duration": 711,
    "start_time": "2022-05-28T08:37:43.406Z"
   },
   {
    "duration": 762,
    "start_time": "2022-05-28T08:37:44.119Z"
   },
   {
    "duration": 845,
    "start_time": "2022-05-28T08:37:44.883Z"
   },
   {
    "duration": 11,
    "start_time": "2022-05-28T08:37:45.730Z"
   },
   {
    "duration": 12,
    "start_time": "2022-05-28T08:37:45.758Z"
   },
   {
    "duration": 10,
    "start_time": "2022-05-28T08:37:45.771Z"
   },
   {
    "duration": 325,
    "start_time": "2022-05-28T08:37:45.783Z"
   },
   {
    "duration": 117,
    "start_time": "2022-05-28T08:37:46.110Z"
   },
   {
    "duration": 0,
    "start_time": "2022-05-28T08:37:46.228Z"
   },
   {
    "duration": 0,
    "start_time": "2022-05-28T08:37:46.229Z"
   },
   {
    "duration": 0,
    "start_time": "2022-05-28T08:37:46.231Z"
   },
   {
    "duration": 368,
    "start_time": "2022-05-28T08:43:03.121Z"
   }
  ],
  "kernelspec": {
   "display_name": "Python 3 (ipykernel)",
   "language": "python",
   "name": "python3"
  },
  "language_info": {
   "codemirror_mode": {
    "name": "ipython",
    "version": 3
   },
   "file_extension": ".py",
   "mimetype": "text/x-python",
   "name": "python",
   "nbconvert_exporter": "python",
   "pygments_lexer": "ipython3",
   "version": "3.9.13"
  },
  "toc": {
   "base_numbering": 1,
   "nav_menu": {},
   "number_sections": true,
   "sideBar": true,
   "skip_h1_title": true,
   "title_cell": "Table of Contents",
   "title_sidebar": "Contents",
   "toc_cell": true,
   "toc_position": {
    "height": "calc(100% - 180px)",
    "left": "10px",
    "top": "150px",
    "width": "289.6px"
   },
   "toc_section_display": true,
   "toc_window_display": false
  }
 },
 "nbformat": 4,
 "nbformat_minor": 2
}
