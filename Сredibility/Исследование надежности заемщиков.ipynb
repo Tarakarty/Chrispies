{
 "cells": [
  {
   "cell_type": "markdown",
   "id": "077a3eae",
   "metadata": {
    "toc": true
   },
   "source": [
    "<h1>Содержание<span class=\"tocSkip\"></span></h1>\n",
    "<div class=\"toc\"><ul class=\"toc-item\"><li><span><a href=\"#Обзор-данных\" data-toc-modified-id=\"Обзор-данных-1\"><span class=\"toc-item-num\">1&nbsp;&nbsp;</span>Обзор данных</a></span></li><li><span><a href=\"#Предобработка-данных\" data-toc-modified-id=\"Предобработка-данных-2\"><span class=\"toc-item-num\">2&nbsp;&nbsp;</span>Предобработка данных</a></span><ul class=\"toc-item\"><li><span><a href=\"#Проверка-данных-на-аномалии-и-исправления.\" data-toc-modified-id=\"Проверка-данных-на-аномалии-и-исправления.-2.1\"><span class=\"toc-item-num\">2.1&nbsp;&nbsp;</span>Проверка данных на аномалии и исправления.</a></span><ul class=\"toc-item\"><li><span><a href=\"#Аномалии-в-стаже\" data-toc-modified-id=\"Аномалии-в-стаже-2.1.1\"><span class=\"toc-item-num\">2.1.1&nbsp;&nbsp;</span>Аномалии в стаже</a></span></li><li><span><a href=\"#Аномалии-в-гендере\" data-toc-modified-id=\"Аномалии-в-гендере-2.1.2\"><span class=\"toc-item-num\">2.1.2&nbsp;&nbsp;</span>Аномалии в гендере</a></span></li><li><span><a href=\"#Аномалии-в-количестве-детей\" data-toc-modified-id=\"Аномалии-в-количестве-детей-2.1.3\"><span class=\"toc-item-num\">2.1.3&nbsp;&nbsp;</span>Аномалии в количестве детей</a></span></li></ul></li><li><span><a href=\"#Заполнение-пропусков\" data-toc-modified-id=\"Заполнение-пропусков-2.2\"><span class=\"toc-item-num\">2.2&nbsp;&nbsp;</span>Заполнение пропусков</a></span><ul class=\"toc-item\"><li><span><a href=\"#Исследование\" data-toc-modified-id=\"Исследование-2.2.1\"><span class=\"toc-item-num\">2.2.1&nbsp;&nbsp;</span>Исследование</a></span></li><li><span><a href=\"#Заполнение\" data-toc-modified-id=\"Заполнение-2.2.2\"><span class=\"toc-item-num\">2.2.2&nbsp;&nbsp;</span>Заполнение</a></span></li></ul></li><li><span><a href=\"#Изменение-типов-данных.\" data-toc-modified-id=\"Изменение-типов-данных.-2.3\"><span class=\"toc-item-num\">2.3&nbsp;&nbsp;</span>Изменение типов данных.</a></span></li><li><span><a href=\"#Удаление-дубликатов.\" data-toc-modified-id=\"Удаление-дубликатов.-2.4\"><span class=\"toc-item-num\">2.4&nbsp;&nbsp;</span>Удаление дубликатов.</a></span></li><li><span><a href=\"#Формирование-дополнительных-датафреймов-словарей,-декомпозиция-исходного-датафрейма.\" data-toc-modified-id=\"Формирование-дополнительных-датафреймов-словарей,-декомпозиция-исходного-датафрейма.-2.5\"><span class=\"toc-item-num\">2.5&nbsp;&nbsp;</span>Формирование дополнительных датафреймов словарей, декомпозиция исходного датафрейма.</a></span></li></ul></li><li><span><a href=\"#Исследование\" data-toc-modified-id=\"Исследование-3\"><span class=\"toc-item-num\">3&nbsp;&nbsp;</span>Исследование</a></span><ul class=\"toc-item\"><li><span><a href=\"#Категоризация-дохода.\" data-toc-modified-id=\"Категоризация-дохода.-3.1\"><span class=\"toc-item-num\">3.1&nbsp;&nbsp;</span>Категоризация дохода.</a></span></li><li><span><a href=\"#Категоризация-целей-кредита.\" data-toc-modified-id=\"Категоризация-целей-кредита.-3.2\"><span class=\"toc-item-num\">3.2&nbsp;&nbsp;</span>Категоризация целей кредита.</a></span></li></ul></li><li><span><a href=\"#Ответы-на-вопросы.\" data-toc-modified-id=\"Ответы-на-вопросы.-4\"><span class=\"toc-item-num\">4&nbsp;&nbsp;</span>Ответы на вопросы.</a></span><ul class=\"toc-item\"><li><span><a href=\"#Вопрос-1:-Есть-ли-зависимость-между-количеством-детей-и-возвратом-кредита-в-срок?\" data-toc-modified-id=\"Вопрос-1:-Есть-ли-зависимость-между-количеством-детей-и-возвратом-кредита-в-срок?-4.1\"><span class=\"toc-item-num\">4.1&nbsp;&nbsp;</span>Вопрос 1: Есть ли зависимость между количеством детей и возвратом кредита в срок?</a></span></li><li><span><a href=\"#Вопрос-2:-Есть-ли-зависимость-между-семейным-положением-и-возвратом-кредита-в-срок?\" data-toc-modified-id=\"Вопрос-2:-Есть-ли-зависимость-между-семейным-положением-и-возвратом-кредита-в-срок?-4.2\"><span class=\"toc-item-num\">4.2&nbsp;&nbsp;</span>Вопрос 2: Есть ли зависимость между семейным положением и возвратом кредита в срок?</a></span></li><li><span><a href=\"#Вопрос-3:-Есть-ли-зависимость-между-уровнем-дохода-и-возвратом-кредита-в-срок?\" data-toc-modified-id=\"Вопрос-3:-Есть-ли-зависимость-между-уровнем-дохода-и-возвратом-кредита-в-срок?-4.3\"><span class=\"toc-item-num\">4.3&nbsp;&nbsp;</span>Вопрос 3: Есть ли зависимость между уровнем дохода и возвратом кредита в срок?</a></span></li><li><span><a href=\"#Вопрос-4:-Как-разные-цели-кредита-влияют-на-его-возврат-в-срок?\" data-toc-modified-id=\"Вопрос-4:-Как-разные-цели-кредита-влияют-на-его-возврат-в-срок?-4.4\"><span class=\"toc-item-num\">4.4&nbsp;&nbsp;</span>Вопрос 4: Как разные цели кредита влияют на его возврат в срок?</a></span></li><li><span><a href=\"#Вывод\" data-toc-modified-id=\"Вывод-4.5\"><span class=\"toc-item-num\">4.5&nbsp;&nbsp;</span>Вывод</a></span></li></ul></li><li><span><a href=\"#Общий-вывод\" data-toc-modified-id=\"Общий-вывод-5\"><span class=\"toc-item-num\">5&nbsp;&nbsp;</span>Общий вывод</a></span></li></ul></div>"
   ]
  },
  {
   "cell_type": "markdown",
   "id": "c5b90e89",
   "metadata": {},
   "source": [
    " # Исследование надежности заемщиков.\n",
    " \n",
    " Заказчик — кредитный отдел банка. Нужно разобраться, влияет ли семейное положение и количество детей клиента на факт погашения кредита в срок. Входные данные от банка — статистика о платёжеспособности клиентов.\n",
    "Результаты исследования будут учтены при построении модели кредитного скоринга — специальной системы, которая оценивает способность потенциального заёмщика вернуть кредит банку."
   ]
  },
  {
   "cell_type": "markdown",
   "id": "8dfd26e6",
   "metadata": {},
   "source": [
    "## Обзор данных\n",
    "\n",
    "Импортируем библиотеки и сохраняем датасет в `df`"
   ]
  },
  {
   "cell_type": "code",
   "execution_count": 1,
   "id": "74148232",
   "metadata": {},
   "outputs": [],
   "source": [
    "import pandas as pd\n",
    "import matplotlib.pyplot as plt\n",
    "import seaborn as sns\n",
    "import numpy as np\n",
    "\n",
    "np.set_printoptions(linewidth=110)"
   ]
  },
  {
   "cell_type": "code",
   "execution_count": 2,
   "id": "66be2880",
   "metadata": {},
   "outputs": [],
   "source": [
    "df = pd.read_csv('https://code.s3.yandex.net/datasets/data.csv')"
   ]
  },
  {
   "cell_type": "markdown",
   "id": "c9f8075f",
   "metadata": {},
   "source": [
    "Для начала смотрим информацию о таблице, пропусках в ней и первые строки для понимания структуры данных"
   ]
  },
  {
   "cell_type": "code",
   "execution_count": 3,
   "id": "378c0010",
   "metadata": {
    "scrolled": true
   },
   "outputs": [
    {
     "name": "stdout",
     "output_type": "stream",
     "text": [
      "<class 'pandas.core.frame.DataFrame'>\n",
      "RangeIndex: 21525 entries, 0 to 21524\n",
      "Data columns (total 12 columns):\n",
      " #   Column            Non-Null Count  Dtype  \n",
      "---  ------            --------------  -----  \n",
      " 0   children          21525 non-null  int64  \n",
      " 1   days_employed     19351 non-null  float64\n",
      " 2   dob_years         21525 non-null  int64  \n",
      " 3   education         21525 non-null  object \n",
      " 4   education_id      21525 non-null  int64  \n",
      " 5   family_status     21525 non-null  object \n",
      " 6   family_status_id  21525 non-null  int64  \n",
      " 7   gender            21525 non-null  object \n",
      " 8   income_type       21525 non-null  object \n",
      " 9   debt              21525 non-null  int64  \n",
      " 10  total_income      19351 non-null  float64\n",
      " 11  purpose           21525 non-null  object \n",
      "dtypes: float64(2), int64(5), object(5)\n",
      "memory usage: 2.0+ MB\n"
     ]
    }
   ],
   "source": [
    "df.info()"
   ]
  },
  {
   "cell_type": "code",
   "execution_count": 4,
   "id": "c0936ff2",
   "metadata": {},
   "outputs": [
    {
     "data": {
      "text/html": [
       "<div>\n",
       "<style scoped>\n",
       "    .dataframe tbody tr th:only-of-type {\n",
       "        vertical-align: middle;\n",
       "    }\n",
       "\n",
       "    .dataframe tbody tr th {\n",
       "        vertical-align: top;\n",
       "    }\n",
       "\n",
       "    .dataframe thead th {\n",
       "        text-align: right;\n",
       "    }\n",
       "</style>\n",
       "<table border=\"1\" class=\"dataframe\">\n",
       "  <thead>\n",
       "    <tr style=\"text-align: right;\">\n",
       "      <th></th>\n",
       "      <th>children</th>\n",
       "      <th>days_employed</th>\n",
       "      <th>dob_years</th>\n",
       "      <th>education</th>\n",
       "      <th>education_id</th>\n",
       "      <th>family_status</th>\n",
       "      <th>family_status_id</th>\n",
       "      <th>gender</th>\n",
       "      <th>income_type</th>\n",
       "      <th>debt</th>\n",
       "      <th>total_income</th>\n",
       "      <th>purpose</th>\n",
       "    </tr>\n",
       "  </thead>\n",
       "  <tbody>\n",
       "    <tr>\n",
       "      <th>0</th>\n",
       "      <td>1</td>\n",
       "      <td>-8437.673028</td>\n",
       "      <td>42</td>\n",
       "      <td>высшее</td>\n",
       "      <td>0</td>\n",
       "      <td>женат / замужем</td>\n",
       "      <td>0</td>\n",
       "      <td>F</td>\n",
       "      <td>сотрудник</td>\n",
       "      <td>0</td>\n",
       "      <td>253875.639453</td>\n",
       "      <td>покупка жилья</td>\n",
       "    </tr>\n",
       "    <tr>\n",
       "      <th>1</th>\n",
       "      <td>1</td>\n",
       "      <td>-4024.803754</td>\n",
       "      <td>36</td>\n",
       "      <td>среднее</td>\n",
       "      <td>1</td>\n",
       "      <td>женат / замужем</td>\n",
       "      <td>0</td>\n",
       "      <td>F</td>\n",
       "      <td>сотрудник</td>\n",
       "      <td>0</td>\n",
       "      <td>112080.014102</td>\n",
       "      <td>приобретение автомобиля</td>\n",
       "    </tr>\n",
       "    <tr>\n",
       "      <th>2</th>\n",
       "      <td>0</td>\n",
       "      <td>-5623.422610</td>\n",
       "      <td>33</td>\n",
       "      <td>Среднее</td>\n",
       "      <td>1</td>\n",
       "      <td>женат / замужем</td>\n",
       "      <td>0</td>\n",
       "      <td>M</td>\n",
       "      <td>сотрудник</td>\n",
       "      <td>0</td>\n",
       "      <td>145885.952297</td>\n",
       "      <td>покупка жилья</td>\n",
       "    </tr>\n",
       "    <tr>\n",
       "      <th>3</th>\n",
       "      <td>3</td>\n",
       "      <td>-4124.747207</td>\n",
       "      <td>32</td>\n",
       "      <td>среднее</td>\n",
       "      <td>1</td>\n",
       "      <td>женат / замужем</td>\n",
       "      <td>0</td>\n",
       "      <td>M</td>\n",
       "      <td>сотрудник</td>\n",
       "      <td>0</td>\n",
       "      <td>267628.550329</td>\n",
       "      <td>дополнительное образование</td>\n",
       "    </tr>\n",
       "    <tr>\n",
       "      <th>4</th>\n",
       "      <td>0</td>\n",
       "      <td>340266.072047</td>\n",
       "      <td>53</td>\n",
       "      <td>среднее</td>\n",
       "      <td>1</td>\n",
       "      <td>гражданский брак</td>\n",
       "      <td>1</td>\n",
       "      <td>F</td>\n",
       "      <td>пенсионер</td>\n",
       "      <td>0</td>\n",
       "      <td>158616.077870</td>\n",
       "      <td>сыграть свадьбу</td>\n",
       "    </tr>\n",
       "    <tr>\n",
       "      <th>5</th>\n",
       "      <td>0</td>\n",
       "      <td>-926.185831</td>\n",
       "      <td>27</td>\n",
       "      <td>высшее</td>\n",
       "      <td>0</td>\n",
       "      <td>гражданский брак</td>\n",
       "      <td>1</td>\n",
       "      <td>M</td>\n",
       "      <td>компаньон</td>\n",
       "      <td>0</td>\n",
       "      <td>255763.565419</td>\n",
       "      <td>покупка жилья</td>\n",
       "    </tr>\n",
       "    <tr>\n",
       "      <th>6</th>\n",
       "      <td>0</td>\n",
       "      <td>-2879.202052</td>\n",
       "      <td>43</td>\n",
       "      <td>высшее</td>\n",
       "      <td>0</td>\n",
       "      <td>женат / замужем</td>\n",
       "      <td>0</td>\n",
       "      <td>F</td>\n",
       "      <td>компаньон</td>\n",
       "      <td>0</td>\n",
       "      <td>240525.971920</td>\n",
       "      <td>операции с жильем</td>\n",
       "    </tr>\n",
       "    <tr>\n",
       "      <th>7</th>\n",
       "      <td>0</td>\n",
       "      <td>-152.779569</td>\n",
       "      <td>50</td>\n",
       "      <td>СРЕДНЕЕ</td>\n",
       "      <td>1</td>\n",
       "      <td>женат / замужем</td>\n",
       "      <td>0</td>\n",
       "      <td>M</td>\n",
       "      <td>сотрудник</td>\n",
       "      <td>0</td>\n",
       "      <td>135823.934197</td>\n",
       "      <td>образование</td>\n",
       "    </tr>\n",
       "    <tr>\n",
       "      <th>8</th>\n",
       "      <td>2</td>\n",
       "      <td>-6929.865299</td>\n",
       "      <td>35</td>\n",
       "      <td>ВЫСШЕЕ</td>\n",
       "      <td>0</td>\n",
       "      <td>гражданский брак</td>\n",
       "      <td>1</td>\n",
       "      <td>F</td>\n",
       "      <td>сотрудник</td>\n",
       "      <td>0</td>\n",
       "      <td>95856.832424</td>\n",
       "      <td>на проведение свадьбы</td>\n",
       "    </tr>\n",
       "    <tr>\n",
       "      <th>9</th>\n",
       "      <td>0</td>\n",
       "      <td>-2188.756445</td>\n",
       "      <td>41</td>\n",
       "      <td>среднее</td>\n",
       "      <td>1</td>\n",
       "      <td>женат / замужем</td>\n",
       "      <td>0</td>\n",
       "      <td>M</td>\n",
       "      <td>сотрудник</td>\n",
       "      <td>0</td>\n",
       "      <td>144425.938277</td>\n",
       "      <td>покупка жилья для семьи</td>\n",
       "    </tr>\n",
       "  </tbody>\n",
       "</table>\n",
       "</div>"
      ],
      "text/plain": [
       "   children  days_employed  dob_years education  education_id  \\\n",
       "0         1   -8437.673028         42    высшее             0   \n",
       "1         1   -4024.803754         36   среднее             1   \n",
       "2         0   -5623.422610         33   Среднее             1   \n",
       "3         3   -4124.747207         32   среднее             1   \n",
       "4         0  340266.072047         53   среднее             1   \n",
       "5         0    -926.185831         27    высшее             0   \n",
       "6         0   -2879.202052         43    высшее             0   \n",
       "7         0    -152.779569         50   СРЕДНЕЕ             1   \n",
       "8         2   -6929.865299         35    ВЫСШЕЕ             0   \n",
       "9         0   -2188.756445         41   среднее             1   \n",
       "\n",
       "      family_status  family_status_id gender income_type  debt   total_income  \\\n",
       "0   женат / замужем                 0      F   сотрудник     0  253875.639453   \n",
       "1   женат / замужем                 0      F   сотрудник     0  112080.014102   \n",
       "2   женат / замужем                 0      M   сотрудник     0  145885.952297   \n",
       "3   женат / замужем                 0      M   сотрудник     0  267628.550329   \n",
       "4  гражданский брак                 1      F   пенсионер     0  158616.077870   \n",
       "5  гражданский брак                 1      M   компаньон     0  255763.565419   \n",
       "6   женат / замужем                 0      F   компаньон     0  240525.971920   \n",
       "7   женат / замужем                 0      M   сотрудник     0  135823.934197   \n",
       "8  гражданский брак                 1      F   сотрудник     0   95856.832424   \n",
       "9   женат / замужем                 0      M   сотрудник     0  144425.938277   \n",
       "\n",
       "                      purpose  \n",
       "0               покупка жилья  \n",
       "1     приобретение автомобиля  \n",
       "2               покупка жилья  \n",
       "3  дополнительное образование  \n",
       "4             сыграть свадьбу  \n",
       "5               покупка жилья  \n",
       "6           операции с жильем  \n",
       "7                 образование  \n",
       "8       на проведение свадьбы  \n",
       "9     покупка жилья для семьи  "
      ]
     },
     "execution_count": 4,
     "metadata": {},
     "output_type": "execute_result"
    }
   ],
   "source": [
    "df.head(10)"
   ]
  },
  {
   "cell_type": "markdown",
   "id": "94a41aa4",
   "metadata": {},
   "source": [
    "Описание данных\n",
    "- `children` — количество детей в семье\n",
    "- `days_employed` — общий трудовой стаж в днях\n",
    "- `dob_years` — возраст клиента в годах\n",
    "- `education` — уровень образования клиента\n",
    "- `education_id` — идентификатор уровня образования\n",
    "- `family_status` — семейное положение\n",
    "- `family_status_id` — идентификатор семейного положения\n",
    "- `gender` — пол клиента\n",
    "- `income_type` — тип занятости\n",
    "- `debt` — имел ли задолженность по возврату кредитов\n",
    "- `total_income` — ежемесячный доход\n",
    "- `purpose` — цель получения кредита"
   ]
  },
  {
   "cell_type": "code",
   "execution_count": 5,
   "id": "ba7eca35",
   "metadata": {},
   "outputs": [
    {
     "data": {
      "text/plain": [
       "children               0\n",
       "days_employed       2174\n",
       "dob_years              0\n",
       "education              0\n",
       "education_id           0\n",
       "family_status          0\n",
       "family_status_id       0\n",
       "gender                 0\n",
       "income_type            0\n",
       "debt                   0\n",
       "total_income        2174\n",
       "purpose                0\n",
       "dtype: int64"
      ]
     },
     "execution_count": 5,
     "metadata": {},
     "output_type": "execute_result"
    }
   ],
   "source": [
    "df.isna().sum()"
   ]
  },
  {
   "cell_type": "markdown",
   "id": "cf96a4ca",
   "metadata": {},
   "source": [
    "Посмотрим на характер значений столбцам"
   ]
  },
  {
   "cell_type": "code",
   "execution_count": 6,
   "id": "3e1b44f8",
   "metadata": {},
   "outputs": [
    {
     "data": {
      "text/plain": [
       "[-1, 0, 1, 2, 3, 4, 5, 20]"
      ]
     },
     "execution_count": 6,
     "metadata": {},
     "output_type": "execute_result"
    }
   ],
   "source": [
    "sorted(df['children'].unique())"
   ]
  },
  {
   "cell_type": "code",
   "execution_count": 7,
   "id": "097f6d50",
   "metadata": {},
   "outputs": [
    {
     "data": {
      "image/png": "[encoded data removed]",
      "text/plain": [
       "<Figure size 640x480 with 1 Axes>"
      ]
     },
     "metadata": {},
     "output_type": "display_data"
    }
   ],
   "source": [
    "sns.scatterplot(x=df.index, y=df['days_employed'])\n",
    "plt.title('days_employed')\n",
    "plt.ylabel('days');"
   ]
  },
  {
   "cell_type": "code",
   "execution_count": 8,
   "id": "52649654",
   "metadata": {},
   "outputs": [
    {
     "data": {
      "text/plain": [
       "array([ 0, 19, 20, 21, 22, 23, 24, 25, 26, 27, 28, 29, 30, 31, 32, 33, 34, 35, 36, 37, 38, 39, 40, 41, 42,\n",
       "       43, 44, 45, 46, 47, 48, 49, 50, 51, 52, 53, 54, 55, 56, 57, 58, 59, 60, 61, 62, 63, 64, 65, 66, 67,\n",
       "       68, 69, 70, 71, 72, 73, 74, 75], dtype=int64)"
      ]
     },
     "execution_count": 8,
     "metadata": {},
     "output_type": "execute_result"
    }
   ],
   "source": [
    "np.asarray(sorted(df['dob_years'].unique()))"
   ]
  },
  {
   "cell_type": "code",
   "execution_count": 9,
   "id": "03e41fb7",
   "metadata": {},
   "outputs": [
    {
     "data": {
      "text/plain": [
       "['ВЫСШЕЕ',\n",
       " 'Высшее',\n",
       " 'НАЧАЛЬНОЕ',\n",
       " 'НЕОКОНЧЕННОЕ ВЫСШЕЕ',\n",
       " 'Начальное',\n",
       " 'Неоконченное высшее',\n",
       " 'СРЕДНЕЕ',\n",
       " 'Среднее',\n",
       " 'УЧЕНАЯ СТЕПЕНЬ',\n",
       " 'Ученая степень',\n",
       " 'высшее',\n",
       " 'начальное',\n",
       " 'неоконченное высшее',\n",
       " 'среднее',\n",
       " 'ученая степень']"
      ]
     },
     "execution_count": 9,
     "metadata": {},
     "output_type": "execute_result"
    }
   ],
   "source": [
    "sorted(df['education'].unique())"
   ]
  },
  {
   "cell_type": "code",
   "execution_count": 10,
   "id": "3989881e",
   "metadata": {},
   "outputs": [
    {
     "data": {
      "text/plain": [
       "[0, 1, 2, 3, 4]"
      ]
     },
     "execution_count": 10,
     "metadata": {},
     "output_type": "execute_result"
    }
   ],
   "source": [
    "sorted(df['education_id'].unique())"
   ]
  },
  {
   "cell_type": "code",
   "execution_count": 11,
   "id": "f96f6dc6",
   "metadata": {},
   "outputs": [
    {
     "data": {
      "text/plain": [
       "['Не женат / не замужем',\n",
       " 'в разводе',\n",
       " 'вдовец / вдова',\n",
       " 'гражданский брак',\n",
       " 'женат / замужем']"
      ]
     },
     "execution_count": 11,
     "metadata": {},
     "output_type": "execute_result"
    }
   ],
   "source": [
    "sorted(df['family_status'].unique())"
   ]
  },
  {
   "cell_type": "code",
   "execution_count": 12,
   "id": "1d9ad5ad",
   "metadata": {},
   "outputs": [
    {
     "data": {
      "text/plain": [
       "[0, 1, 2, 3, 4]"
      ]
     },
     "execution_count": 12,
     "metadata": {},
     "output_type": "execute_result"
    }
   ],
   "source": [
    "sorted(df['family_status_id'].unique())"
   ]
  },
  {
   "cell_type": "code",
   "execution_count": 13,
   "id": "c8e65798",
   "metadata": {},
   "outputs": [
    {
     "data": {
      "text/plain": [
       "['F', 'M', 'XNA']"
      ]
     },
     "execution_count": 13,
     "metadata": {},
     "output_type": "execute_result"
    }
   ],
   "source": [
    "sorted(df['gender'].unique())"
   ]
  },
  {
   "cell_type": "code",
   "execution_count": 14,
   "id": "25717fbf",
   "metadata": {},
   "outputs": [
    {
     "data": {
      "text/plain": [
       "['безработный',\n",
       " 'в декрете',\n",
       " 'госслужащий',\n",
       " 'компаньон',\n",
       " 'пенсионер',\n",
       " 'предприниматель',\n",
       " 'сотрудник',\n",
       " 'студент']"
      ]
     },
     "execution_count": 14,
     "metadata": {},
     "output_type": "execute_result"
    }
   ],
   "source": [
    "sorted(df['income_type'].unique())"
   ]
  },
  {
   "cell_type": "code",
   "execution_count": 15,
   "id": "f7457489",
   "metadata": {},
   "outputs": [
    {
     "data": {
      "text/plain": [
       "[0, 1]"
      ]
     },
     "execution_count": 15,
     "metadata": {},
     "output_type": "execute_result"
    }
   ],
   "source": [
    "sorted(df['debt'].unique())"
   ]
  },
  {
   "cell_type": "code",
   "execution_count": 16,
   "id": "a44ec171",
   "metadata": {
    "scrolled": false
   },
   "outputs": [
    {
     "data": {
      "image/png": "[encoded data removed]",
      "text/plain": [
       "<Figure size 640x480 with 1 Axes>"
      ]
     },
     "metadata": {},
     "output_type": "display_data"
    }
   ],
   "source": [
    "sns.scatterplot(x=df.index, y=df['total_income'])\n",
    "plt.title('total_income')\n",
    "plt.ylabel('income');"
   ]
  },
  {
   "cell_type": "code",
   "execution_count": 17,
   "id": "5a8f749a",
   "metadata": {},
   "outputs": [
    {
     "data": {
      "text/plain": [
       "array(['автомобили', 'автомобиль', 'высшее образование', 'дополнительное образование', 'жилье',\n",
       "       'заняться высшим образованием', 'заняться образованием', 'на покупку автомобиля',\n",
       "       'на покупку подержанного автомобиля', 'на покупку своего автомобиля', 'на проведение свадьбы',\n",
       "       'недвижимость', 'образование', 'операции с жильем', 'операции с коммерческой недвижимостью',\n",
       "       'операции с недвижимостью', 'операции со своей недвижимостью', 'покупка жилой недвижимости',\n",
       "       'покупка жилья', 'покупка жилья для сдачи', 'покупка жилья для семьи',\n",
       "       'покупка коммерческой недвижимости', 'покупка недвижимости', 'покупка своего жилья',\n",
       "       'получение высшего образования', 'получение дополнительного образования', 'получение образования',\n",
       "       'приобретение автомобиля', 'профильное образование', 'ремонт жилью', 'свадьба', 'свой автомобиль',\n",
       "       'сделка с автомобилем', 'сделка с подержанным автомобилем', 'строительство жилой недвижимости',\n",
       "       'строительство недвижимости', 'строительство собственной недвижимости', 'сыграть свадьбу'],\n",
       "      dtype='<U38')"
      ]
     },
     "execution_count": 17,
     "metadata": {},
     "output_type": "execute_result"
    }
   ],
   "source": [
    "np.asarray(sorted(df['purpose'].unique()))"
   ]
  },
  {
   "cell_type": "code",
   "execution_count": 18,
   "id": "4416bde0",
   "metadata": {},
   "outputs": [
    {
     "data": {
      "text/plain": [
       "54"
      ]
     },
     "execution_count": 18,
     "metadata": {},
     "output_type": "execute_result"
    }
   ],
   "source": [
    "df.duplicated().sum()"
   ]
  },
  {
   "cell_type": "markdown",
   "id": "783ae57b",
   "metadata": {},
   "source": [
    "По структуре видно следующее:\n",
    "- столбцы `days_employed` и `total_income` содержат пропуски\n",
    "- `days_employed` содержит артефакты в виде отрицательных или слишком больших значений\n",
    "- `education` содержит неявные дубликаты из-за использования в написании заглавных букв\n",
    "- Цели получения кредита описаны в свободной форме с потенциалом для их категоризации\n",
    "- В списке гендеров есть аномальное значение 'XNA'\n",
    "- Аномалии в количестве детей.(значения -1 и 20)\n",
    "- 54 явных дубликата"
   ]
  },
  {
   "cell_type": "markdown",
   "id": "a195e2a2",
   "metadata": {},
   "source": [
    "## Предобработка данных\n",
    "### Проверка данных на аномалии и исправления.\n",
    "#### Аномалии в стаже\n",
    "\n",
    "В обзоре найдены аномалии в стаже: отрицательные и слишком большие значения учитывая \"легенду\" к данным\n",
    "\n",
    "Избавимся от отрицательных значений"
   ]
  },
  {
   "cell_type": "code",
   "execution_count": 19,
   "id": "2afb05af",
   "metadata": {},
   "outputs": [],
   "source": [
    "df['days_employed'] = df['days_employed'].abs()"
   ]
  },
  {
   "cell_type": "code",
   "execution_count": 20,
   "id": "89122a81",
   "metadata": {},
   "outputs": [
    {
     "data": {
      "image/png": "[encoded data removed]",
      "text/plain": [
       "<Figure size 640x480 with 1 Axes>"
      ]
     },
     "metadata": {},
     "output_type": "display_data"
    }
   ],
   "source": [
    "sns.scatterplot(x=df.index, y=df['days_employed'])\n",
    "plt.title('days_employed')\n",
    "plt.ylabel('days');"
   ]
  },
  {
   "cell_type": "markdown",
   "id": "b43392b6",
   "metadata": {},
   "source": [
    "После избавления от отрицательных значений остаются выбросы причины которых выяснить в рамках текущего проекта возможности нет, поэтому каким-либо образом обрабатывать их и использовать данные о стаже в дальнейшем исследовании было бы неправильно."
   ]
  },
  {
   "cell_type": "markdown",
   "id": "1cc509bb",
   "metadata": {},
   "source": [
    "#### Аномалии в гендере"
   ]
  },
  {
   "cell_type": "markdown",
   "id": "97c011f2",
   "metadata": {},
   "source": [
    "Проверим строки содержащие XNA"
   ]
  },
  {
   "cell_type": "code",
   "execution_count": 21,
   "id": "c7fff29f",
   "metadata": {},
   "outputs": [
    {
     "data": {
      "text/html": [
       "<div>\n",
       "<style scoped>\n",
       "    .dataframe tbody tr th:only-of-type {\n",
       "        vertical-align: middle;\n",
       "    }\n",
       "\n",
       "    .dataframe tbody tr th {\n",
       "        vertical-align: top;\n",
       "    }\n",
       "\n",
       "    .dataframe thead th {\n",
       "        text-align: right;\n",
       "    }\n",
       "</style>\n",
       "<table border=\"1\" class=\"dataframe\">\n",
       "  <thead>\n",
       "    <tr style=\"text-align: right;\">\n",
       "      <th></th>\n",
       "      <th>children</th>\n",
       "      <th>days_employed</th>\n",
       "      <th>dob_years</th>\n",
       "      <th>education</th>\n",
       "      <th>education_id</th>\n",
       "      <th>family_status</th>\n",
       "      <th>family_status_id</th>\n",
       "      <th>gender</th>\n",
       "      <th>income_type</th>\n",
       "      <th>debt</th>\n",
       "      <th>total_income</th>\n",
       "      <th>purpose</th>\n",
       "    </tr>\n",
       "  </thead>\n",
       "  <tbody>\n",
       "    <tr>\n",
       "      <th>10701</th>\n",
       "      <td>0</td>\n",
       "      <td>2358.600502</td>\n",
       "      <td>24</td>\n",
       "      <td>неоконченное высшее</td>\n",
       "      <td>2</td>\n",
       "      <td>гражданский брак</td>\n",
       "      <td>1</td>\n",
       "      <td>XNA</td>\n",
       "      <td>компаньон</td>\n",
       "      <td>0</td>\n",
       "      <td>203905.157261</td>\n",
       "      <td>покупка недвижимости</td>\n",
       "    </tr>\n",
       "  </tbody>\n",
       "</table>\n",
       "</div>"
      ],
      "text/plain": [
       "       children  days_employed  dob_years            education  education_id  \\\n",
       "10701         0    2358.600502         24  неоконченное высшее             2   \n",
       "\n",
       "          family_status  family_status_id gender income_type  debt  \\\n",
       "10701  гражданский брак                 1    XNA   компаньон     0   \n",
       "\n",
       "        total_income               purpose  \n",
       "10701  203905.157261  покупка недвижимости  "
      ]
     },
     "execution_count": 21,
     "metadata": {},
     "output_type": "execute_result"
    }
   ],
   "source": [
    "df[df['gender'] == 'XNA']"
   ]
  },
  {
   "cell_type": "markdown",
   "id": "47d21d59",
   "metadata": {},
   "source": [
    "Учитывая, что строка всего одна и заполнить данные на основании других столбцов невозможно удалим его из датасета"
   ]
  },
  {
   "cell_type": "code",
   "execution_count": 22,
   "id": "8d5817e7",
   "metadata": {},
   "outputs": [
    {
     "data": {
      "text/plain": [
       "0"
      ]
     },
     "execution_count": 22,
     "metadata": {},
     "output_type": "execute_result"
    }
   ],
   "source": [
    "df = df[df['gender'] != 'XNA'].reset_index(drop=True)\n",
    "(df['gender'] == 'XNA').sum()"
   ]
  },
  {
   "cell_type": "markdown",
   "id": "96f00d9a",
   "metadata": {},
   "source": [
    "#### Аномалии в количестве детей"
   ]
  },
  {
   "cell_type": "markdown",
   "id": "8aead4b8",
   "metadata": {},
   "source": [
    "Причиной аномалий в количестве детей, вероятно, является ошибка при заполнении анкеты.\n",
    "\n",
    "Заменим -1 на 1, а 20 на 2"
   ]
  },
  {
   "cell_type": "code",
   "execution_count": 23,
   "id": "ca66daca",
   "metadata": {},
   "outputs": [
    {
     "data": {
      "text/plain": [
       "[0, 1, 2, 3, 4, 5]"
      ]
     },
     "execution_count": 23,
     "metadata": {},
     "output_type": "execute_result"
    }
   ],
   "source": [
    "df.loc[df['children'] == -1, 'children'] = 1\n",
    "df.loc[df['children'] == 20, 'children'] = 2\n",
    "sorted(df['children'].unique())"
   ]
  },
  {
   "cell_type": "markdown",
   "id": "c60c4240",
   "metadata": {},
   "source": [
    "### Заполнение пропусков\n",
    "#### Исследование\n",
    "\n",
    "Пропуски содержат столбцы `days_employed` и `total_income` и общее количество пропусков одинаковое. Можно предположить, что это не случайно.\n",
    "\n",
    "Для начала проверим возможную связь. Для этого выделим строки без данных о трудовом стаже и сравним с количествм пропусков в `total_income`"
   ]
  },
  {
   "cell_type": "code",
   "execution_count": 24,
   "id": "9c50d6ff",
   "metadata": {},
   "outputs": [
    {
     "data": {
      "text/plain": [
       "children               0\n",
       "days_employed       2174\n",
       "dob_years              0\n",
       "education              0\n",
       "education_id           0\n",
       "family_status          0\n",
       "family_status_id       0\n",
       "gender                 0\n",
       "income_type            0\n",
       "debt                   0\n",
       "total_income        2174\n",
       "purpose                0\n",
       "dtype: int64"
      ]
     },
     "execution_count": 24,
     "metadata": {},
     "output_type": "execute_result"
    }
   ],
   "source": [
    "df[df['days_employed'].isna()].isna().sum()"
   ]
  },
  {
   "cell_type": "markdown",
   "id": "b94807d1",
   "metadata": {},
   "source": [
    "Пропуски содержат столбцы `days_employed` и `total_income` и общее количество пропусков одинаковое. Можно предположить, что это не случайно.\n",
    "\n",
    "Для начала проверим возможную связь. Для этого выделим строки без данных о трудовом стаже и сравним с количествм пропусков в `total_income`"
   ]
  },
  {
   "cell_type": "code",
   "execution_count": 25,
   "id": "251e8fda",
   "metadata": {},
   "outputs": [
    {
     "name": "stdout",
     "output_type": "stream",
     "text": [
      "В данных 10.10% пропусков\n"
     ]
    }
   ],
   "source": [
    "data_loses = df['days_employed'].isna().mean()\n",
    "print(f'В данных {data_loses:.2%} пропусков')"
   ]
  },
  {
   "cell_type": "markdown",
   "id": "6586f778",
   "metadata": {},
   "source": [
    "Проверим процент должников по всему датасету и таблице с пропусками"
   ]
  },
  {
   "cell_type": "code",
   "execution_count": 26,
   "id": "cab24b08",
   "metadata": {},
   "outputs": [
    {
     "data": {
      "text/plain": [
       "'Процент должников по всему объему данных 8.09%'"
      ]
     },
     "metadata": {},
     "output_type": "display_data"
    },
    {
     "data": {
      "text/plain": [
       "'Процент должников по выборке с пропусками 7.82%'"
      ]
     },
     "metadata": {},
     "output_type": "display_data"
    }
   ],
   "source": [
    "df_debt = df['debt'].mean()\n",
    "df_none_debt = df[df['days_employed'].isna()]['debt'].mean()\n",
    "display(f'Процент должников по всему объему данных {df_debt:.2%}')\n",
    "display(f'Процент должников по выборке с пропусками {df_none_debt:.2%}')"
   ]
  },
  {
   "cell_type": "markdown",
   "id": "138310f2",
   "metadata": {},
   "source": [
    "Показатель даже немного ниже, чем по всему датасету! \n",
    "\n",
    "Вероятно просто произошла техническая ошибка при заполнении анкеты (например из-за проведения A-B тестирования)."
   ]
  },
  {
   "cell_type": "markdown",
   "id": "85e24931",
   "metadata": {},
   "source": [
    "#### Заполнение"
   ]
  },
  {
   "cell_type": "markdown",
   "id": "c09d8f3e",
   "metadata": {},
   "source": [
    "Учитывая, что данные о доходах содержат выбросы пустые значения заполним медианными исходя из типа занятости."
   ]
  },
  {
   "cell_type": "markdown",
   "id": "5f340fa9",
   "metadata": {},
   "source": [
    "Для этого зададим и применим функцию `fillna_by_median`"
   ]
  },
  {
   "cell_type": "code",
   "execution_count": 27,
   "id": "7713b3f9",
   "metadata": {},
   "outputs": [],
   "source": [
    "def fillna_by_median (df, column_to_fillna, base_column):\n",
    "    values = df[base_column].unique()\n",
    "    for value in values:\n",
    "        df.loc[(df[base_column] == value) & (df[column_to_fillna].isna()), column_to_fillna] = df.loc[df[base_column] == value, column_to_fillna].median()"
   ]
  },
  {
   "cell_type": "code",
   "execution_count": 28,
   "id": "db887096",
   "metadata": {},
   "outputs": [
    {
     "data": {
      "text/plain": [
       "0"
      ]
     },
     "execution_count": 28,
     "metadata": {},
     "output_type": "execute_result"
    }
   ],
   "source": [
    "fillna_by_median (df, 'total_income', 'income_type')\n",
    "df['total_income'].isna().sum()"
   ]
  },
  {
   "cell_type": "markdown",
   "id": "7b079fe5",
   "metadata": {},
   "source": [
    "### Изменение типов данных.\n",
    "\n",
    "Изменим тип данных в `total_income` на целочисленный"
   ]
  },
  {
   "cell_type": "code",
   "execution_count": 29,
   "id": "da386167",
   "metadata": {},
   "outputs": [
    {
     "data": {
      "text/plain": [
       "0        253875\n",
       "1        112080\n",
       "2        145885\n",
       "3        267628\n",
       "4        158616\n",
       "          ...  \n",
       "21519    224791\n",
       "21520    155999\n",
       "21521     89672\n",
       "21522    244093\n",
       "21523     82047\n",
       "Name: total_income, Length: 21524, dtype: int32"
      ]
     },
     "execution_count": 29,
     "metadata": {},
     "output_type": "execute_result"
    }
   ],
   "source": [
    "df['total_income'].astype('int32')"
   ]
  },
  {
   "cell_type": "markdown",
   "id": "ecedcb38",
   "metadata": {},
   "source": [
    "### Удаление дубликатов.\n",
    "\n",
    "Избавимся от явных дубликатов"
   ]
  },
  {
   "cell_type": "code",
   "execution_count": 30,
   "id": "a1581aeb",
   "metadata": {},
   "outputs": [
    {
     "data": {
      "text/plain": [
       "0"
      ]
     },
     "execution_count": 30,
     "metadata": {},
     "output_type": "execute_result"
    }
   ],
   "source": [
    "df = df.drop_duplicates().reset_index(drop=True)\n",
    "df.duplicated().sum()"
   ]
  },
  {
   "cell_type": "markdown",
   "id": "e7d89ac8",
   "metadata": {},
   "source": [
    "Далее избавимся от неявных дубликатов в `education`"
   ]
  },
  {
   "cell_type": "markdown",
   "id": "6232cace",
   "metadata": {},
   "source": [
    "Избавимся от явных дубликатов"
   ]
  },
  {
   "cell_type": "code",
   "execution_count": 31,
   "id": "c16a1fbb",
   "metadata": {},
   "outputs": [
    {
     "data": {
      "text/plain": [
       "['высшее', 'начальное', 'неоконченное высшее', 'среднее', 'ученая степень']"
      ]
     },
     "execution_count": 31,
     "metadata": {},
     "output_type": "execute_result"
    }
   ],
   "source": [
    "df['education'] = df['education'].str.lower()\n",
    "sorted(df['education'].unique())"
   ]
  },
  {
   "cell_type": "markdown",
   "id": "f1ff6af7",
   "metadata": {},
   "source": [
    "### Формирование дополнительных датафреймов словарей, декомпозиция исходного датафрейма.\n",
    "\n",
    "Создадим новые датафреймы-словари для `education_id` и `family_status_id`"
   ]
  },
  {
   "cell_type": "code",
   "execution_count": 32,
   "id": "e1da6d3a",
   "metadata": {},
   "outputs": [
    {
     "data": {
      "text/html": [
       "<div>\n",
       "<style scoped>\n",
       "    .dataframe tbody tr th:only-of-type {\n",
       "        vertical-align: middle;\n",
       "    }\n",
       "\n",
       "    .dataframe tbody tr th {\n",
       "        vertical-align: top;\n",
       "    }\n",
       "\n",
       "    .dataframe thead th {\n",
       "        text-align: right;\n",
       "    }\n",
       "</style>\n",
       "<table border=\"1\" class=\"dataframe\">\n",
       "  <thead>\n",
       "    <tr style=\"text-align: right;\">\n",
       "      <th></th>\n",
       "      <th>education</th>\n",
       "      <th>education_id</th>\n",
       "    </tr>\n",
       "  </thead>\n",
       "  <tbody>\n",
       "    <tr>\n",
       "      <th>0</th>\n",
       "      <td>высшее</td>\n",
       "      <td>0</td>\n",
       "    </tr>\n",
       "    <tr>\n",
       "      <th>1</th>\n",
       "      <td>среднее</td>\n",
       "      <td>1</td>\n",
       "    </tr>\n",
       "    <tr>\n",
       "      <th>2</th>\n",
       "      <td>неоконченное высшее</td>\n",
       "      <td>2</td>\n",
       "    </tr>\n",
       "    <tr>\n",
       "      <th>3</th>\n",
       "      <td>начальное</td>\n",
       "      <td>3</td>\n",
       "    </tr>\n",
       "    <tr>\n",
       "      <th>4</th>\n",
       "      <td>ученая степень</td>\n",
       "      <td>4</td>\n",
       "    </tr>\n",
       "  </tbody>\n",
       "</table>\n",
       "</div>"
      ],
      "text/plain": [
       "             education  education_id\n",
       "0               высшее             0\n",
       "1              среднее             1\n",
       "2  неоконченное высшее             2\n",
       "3            начальное             3\n",
       "4       ученая степень             4"
      ]
     },
     "execution_count": 32,
     "metadata": {},
     "output_type": "execute_result"
    }
   ],
   "source": [
    "education_id_dict = df.loc[:,['education','education_id']].copy().drop_duplicates().reset_index(drop=True)\n",
    "education_id_dict"
   ]
  },
  {
   "cell_type": "code",
   "execution_count": 33,
   "id": "8a8797bf",
   "metadata": {},
   "outputs": [
    {
     "data": {
      "text/html": [
       "<div>\n",
       "<style scoped>\n",
       "    .dataframe tbody tr th:only-of-type {\n",
       "        vertical-align: middle;\n",
       "    }\n",
       "\n",
       "    .dataframe tbody tr th {\n",
       "        vertical-align: top;\n",
       "    }\n",
       "\n",
       "    .dataframe thead th {\n",
       "        text-align: right;\n",
       "    }\n",
       "</style>\n",
       "<table border=\"1\" class=\"dataframe\">\n",
       "  <thead>\n",
       "    <tr style=\"text-align: right;\">\n",
       "      <th></th>\n",
       "      <th>family_status</th>\n",
       "      <th>family_status_id</th>\n",
       "    </tr>\n",
       "  </thead>\n",
       "  <tbody>\n",
       "    <tr>\n",
       "      <th>0</th>\n",
       "      <td>женат / замужем</td>\n",
       "      <td>0</td>\n",
       "    </tr>\n",
       "    <tr>\n",
       "      <th>1</th>\n",
       "      <td>гражданский брак</td>\n",
       "      <td>1</td>\n",
       "    </tr>\n",
       "    <tr>\n",
       "      <th>2</th>\n",
       "      <td>вдовец / вдова</td>\n",
       "      <td>2</td>\n",
       "    </tr>\n",
       "    <tr>\n",
       "      <th>3</th>\n",
       "      <td>в разводе</td>\n",
       "      <td>3</td>\n",
       "    </tr>\n",
       "    <tr>\n",
       "      <th>4</th>\n",
       "      <td>Не женат / не замужем</td>\n",
       "      <td>4</td>\n",
       "    </tr>\n",
       "  </tbody>\n",
       "</table>\n",
       "</div>"
      ],
      "text/plain": [
       "           family_status  family_status_id\n",
       "0        женат / замужем                 0\n",
       "1       гражданский брак                 1\n",
       "2         вдовец / вдова                 2\n",
       "3              в разводе                 3\n",
       "4  Не женат / не замужем                 4"
      ]
     },
     "execution_count": 33,
     "metadata": {},
     "output_type": "execute_result"
    }
   ],
   "source": [
    "family_status_id_dict = df.loc[:,['family_status','family_status_id']].copy().drop_duplicates().reset_index(drop=True)\n",
    "family_status_id_dict"
   ]
  },
  {
   "cell_type": "markdown",
   "id": "16d4bfed",
   "metadata": {},
   "source": [
    "Создадим новые датафреймы-словари для `education_id` и `family_status_id`"
   ]
  },
  {
   "cell_type": "markdown",
   "id": "4225b71d",
   "metadata": {},
   "source": [
    "И оставим в исходном только столбцы `?id`"
   ]
  },
  {
   "cell_type": "code",
   "execution_count": 34,
   "id": "cd0c79f1",
   "metadata": {},
   "outputs": [
    {
     "data": {
      "text/html": [
       "<div>\n",
       "<style scoped>\n",
       "    .dataframe tbody tr th:only-of-type {\n",
       "        vertical-align: middle;\n",
       "    }\n",
       "\n",
       "    .dataframe tbody tr th {\n",
       "        vertical-align: top;\n",
       "    }\n",
       "\n",
       "    .dataframe thead th {\n",
       "        text-align: right;\n",
       "    }\n",
       "</style>\n",
       "<table border=\"1\" class=\"dataframe\">\n",
       "  <thead>\n",
       "    <tr style=\"text-align: right;\">\n",
       "      <th></th>\n",
       "      <th>children</th>\n",
       "      <th>days_employed</th>\n",
       "      <th>dob_years</th>\n",
       "      <th>education_id</th>\n",
       "      <th>family_status_id</th>\n",
       "      <th>gender</th>\n",
       "      <th>income_type</th>\n",
       "      <th>debt</th>\n",
       "      <th>total_income</th>\n",
       "      <th>purpose</th>\n",
       "    </tr>\n",
       "  </thead>\n",
       "  <tbody>\n",
       "    <tr>\n",
       "      <th>0</th>\n",
       "      <td>1</td>\n",
       "      <td>8437.673028</td>\n",
       "      <td>42</td>\n",
       "      <td>0</td>\n",
       "      <td>0</td>\n",
       "      <td>F</td>\n",
       "      <td>сотрудник</td>\n",
       "      <td>0</td>\n",
       "      <td>253875.639453</td>\n",
       "      <td>покупка жилья</td>\n",
       "    </tr>\n",
       "    <tr>\n",
       "      <th>1</th>\n",
       "      <td>1</td>\n",
       "      <td>4024.803754</td>\n",
       "      <td>36</td>\n",
       "      <td>1</td>\n",
       "      <td>0</td>\n",
       "      <td>F</td>\n",
       "      <td>сотрудник</td>\n",
       "      <td>0</td>\n",
       "      <td>112080.014102</td>\n",
       "      <td>приобретение автомобиля</td>\n",
       "    </tr>\n",
       "    <tr>\n",
       "      <th>2</th>\n",
       "      <td>0</td>\n",
       "      <td>5623.422610</td>\n",
       "      <td>33</td>\n",
       "      <td>1</td>\n",
       "      <td>0</td>\n",
       "      <td>M</td>\n",
       "      <td>сотрудник</td>\n",
       "      <td>0</td>\n",
       "      <td>145885.952297</td>\n",
       "      <td>покупка жилья</td>\n",
       "    </tr>\n",
       "    <tr>\n",
       "      <th>3</th>\n",
       "      <td>3</td>\n",
       "      <td>4124.747207</td>\n",
       "      <td>32</td>\n",
       "      <td>1</td>\n",
       "      <td>0</td>\n",
       "      <td>M</td>\n",
       "      <td>сотрудник</td>\n",
       "      <td>0</td>\n",
       "      <td>267628.550329</td>\n",
       "      <td>дополнительное образование</td>\n",
       "    </tr>\n",
       "    <tr>\n",
       "      <th>4</th>\n",
       "      <td>0</td>\n",
       "      <td>340266.072047</td>\n",
       "      <td>53</td>\n",
       "      <td>1</td>\n",
       "      <td>1</td>\n",
       "      <td>F</td>\n",
       "      <td>пенсионер</td>\n",
       "      <td>0</td>\n",
       "      <td>158616.077870</td>\n",
       "      <td>сыграть свадьбу</td>\n",
       "    </tr>\n",
       "  </tbody>\n",
       "</table>\n",
       "</div>"
      ],
      "text/plain": [
       "   children  days_employed  dob_years  education_id  family_status_id gender  \\\n",
       "0         1    8437.673028         42             0                 0      F   \n",
       "1         1    4024.803754         36             1                 0      F   \n",
       "2         0    5623.422610         33             1                 0      M   \n",
       "3         3    4124.747207         32             1                 0      M   \n",
       "4         0  340266.072047         53             1                 1      F   \n",
       "\n",
       "  income_type  debt   total_income                     purpose  \n",
       "0   сотрудник     0  253875.639453               покупка жилья  \n",
       "1   сотрудник     0  112080.014102     приобретение автомобиля  \n",
       "2   сотрудник     0  145885.952297               покупка жилья  \n",
       "3   сотрудник     0  267628.550329  дополнительное образование  \n",
       "4   пенсионер     0  158616.077870             сыграть свадьбу  "
      ]
     },
     "execution_count": 34,
     "metadata": {},
     "output_type": "execute_result"
    }
   ],
   "source": [
    "df.drop(['family_status', 'education'], axis=1, inplace=True)\n",
    "df.head()"
   ]
  },
  {
   "cell_type": "markdown",
   "id": "19521776",
   "metadata": {},
   "source": [
    "## Исследование"
   ]
  },
  {
   "cell_type": "markdown",
   "id": "b7742de8",
   "metadata": {},
   "source": [
    "### Категоризация дохода.\n",
    "\n",
    "Cоздадим столбец total_income_category с категориями доходов на основании диапазонов, указанных ниже:\n",
    "- 0–30000 — 'E';\n",
    "- 30001–50000 — 'D';\n",
    "- 50001–200000 — 'C';\n",
    "- 200001–1000000 — 'B';\n",
    "- 1000001 и выше — 'A'\n",
    "\n",
    "Для этого создадим функцию `income_category` и применим его к `total_income`"
   ]
  },
  {
   "cell_type": "code",
   "execution_count": 35,
   "id": "f54200e9",
   "metadata": {},
   "outputs": [],
   "source": [
    "def income_category (income):\n",
    "    if income <= 30000:\n",
    "        return 'E'\n",
    "    elif income <= 50000:\n",
    "        return 'D'\n",
    "    elif income <= 200000:\n",
    "        return 'C'\n",
    "    elif income <= 1000000:\n",
    "        return 'B'\n",
    "    else:\n",
    "        return 'A'"
   ]
  },
  {
   "cell_type": "code",
   "execution_count": 36,
   "id": "d103d7c1",
   "metadata": {},
   "outputs": [
    {
     "data": {
      "text/html": [
       "<div>\n",
       "<style scoped>\n",
       "    .dataframe tbody tr th:only-of-type {\n",
       "        vertical-align: middle;\n",
       "    }\n",
       "\n",
       "    .dataframe tbody tr th {\n",
       "        vertical-align: top;\n",
       "    }\n",
       "\n",
       "    .dataframe thead th {\n",
       "        text-align: right;\n",
       "    }\n",
       "</style>\n",
       "<table border=\"1\" class=\"dataframe\">\n",
       "  <thead>\n",
       "    <tr style=\"text-align: right;\">\n",
       "      <th></th>\n",
       "      <th>children</th>\n",
       "      <th>days_employed</th>\n",
       "      <th>dob_years</th>\n",
       "      <th>education_id</th>\n",
       "      <th>family_status_id</th>\n",
       "      <th>gender</th>\n",
       "      <th>income_type</th>\n",
       "      <th>debt</th>\n",
       "      <th>total_income</th>\n",
       "      <th>purpose</th>\n",
       "      <th>total_income_category</th>\n",
       "    </tr>\n",
       "  </thead>\n",
       "  <tbody>\n",
       "    <tr>\n",
       "      <th>0</th>\n",
       "      <td>1</td>\n",
       "      <td>8437.673028</td>\n",
       "      <td>42</td>\n",
       "      <td>0</td>\n",
       "      <td>0</td>\n",
       "      <td>F</td>\n",
       "      <td>сотрудник</td>\n",
       "      <td>0</td>\n",
       "      <td>253875.639453</td>\n",
       "      <td>покупка жилья</td>\n",
       "      <td>B</td>\n",
       "    </tr>\n",
       "    <tr>\n",
       "      <th>1</th>\n",
       "      <td>1</td>\n",
       "      <td>4024.803754</td>\n",
       "      <td>36</td>\n",
       "      <td>1</td>\n",
       "      <td>0</td>\n",
       "      <td>F</td>\n",
       "      <td>сотрудник</td>\n",
       "      <td>0</td>\n",
       "      <td>112080.014102</td>\n",
       "      <td>приобретение автомобиля</td>\n",
       "      <td>C</td>\n",
       "    </tr>\n",
       "    <tr>\n",
       "      <th>2</th>\n",
       "      <td>0</td>\n",
       "      <td>5623.422610</td>\n",
       "      <td>33</td>\n",
       "      <td>1</td>\n",
       "      <td>0</td>\n",
       "      <td>M</td>\n",
       "      <td>сотрудник</td>\n",
       "      <td>0</td>\n",
       "      <td>145885.952297</td>\n",
       "      <td>покупка жилья</td>\n",
       "      <td>C</td>\n",
       "    </tr>\n",
       "    <tr>\n",
       "      <th>3</th>\n",
       "      <td>3</td>\n",
       "      <td>4124.747207</td>\n",
       "      <td>32</td>\n",
       "      <td>1</td>\n",
       "      <td>0</td>\n",
       "      <td>M</td>\n",
       "      <td>сотрудник</td>\n",
       "      <td>0</td>\n",
       "      <td>267628.550329</td>\n",
       "      <td>дополнительное образование</td>\n",
       "      <td>B</td>\n",
       "    </tr>\n",
       "    <tr>\n",
       "      <th>4</th>\n",
       "      <td>0</td>\n",
       "      <td>340266.072047</td>\n",
       "      <td>53</td>\n",
       "      <td>1</td>\n",
       "      <td>1</td>\n",
       "      <td>F</td>\n",
       "      <td>пенсионер</td>\n",
       "      <td>0</td>\n",
       "      <td>158616.077870</td>\n",
       "      <td>сыграть свадьбу</td>\n",
       "      <td>C</td>\n",
       "    </tr>\n",
       "  </tbody>\n",
       "</table>\n",
       "</div>"
      ],
      "text/plain": [
       "   children  days_employed  dob_years  education_id  family_status_id gender  \\\n",
       "0         1    8437.673028         42             0                 0      F   \n",
       "1         1    4024.803754         36             1                 0      F   \n",
       "2         0    5623.422610         33             1                 0      M   \n",
       "3         3    4124.747207         32             1                 0      M   \n",
       "4         0  340266.072047         53             1                 1      F   \n",
       "\n",
       "  income_type  debt   total_income                     purpose  \\\n",
       "0   сотрудник     0  253875.639453               покупка жилья   \n",
       "1   сотрудник     0  112080.014102     приобретение автомобиля   \n",
       "2   сотрудник     0  145885.952297               покупка жилья   \n",
       "3   сотрудник     0  267628.550329  дополнительное образование   \n",
       "4   пенсионер     0  158616.077870             сыграть свадьбу   \n",
       "\n",
       "  total_income_category  \n",
       "0                     B  \n",
       "1                     C  \n",
       "2                     C  \n",
       "3                     B  \n",
       "4                     C  "
      ]
     },
     "execution_count": 36,
     "metadata": {},
     "output_type": "execute_result"
    }
   ],
   "source": [
    "df['total_income_category'] = df['total_income'].apply(income_category)\n",
    "df.head()"
   ]
  },
  {
   "cell_type": "markdown",
   "id": "563072f0",
   "metadata": {},
   "source": [
    "### Категоризация целей кредита.\n",
    "\n",
    "Создадим функцию, которая на основании данных из столбца `purpose` сформирует новый столбец `purpose_category`"
   ]
  },
  {
   "cell_type": "code",
   "execution_count": 37,
   "id": "4dd2b0e1",
   "metadata": {},
   "outputs": [
    {
     "data": {
      "text/plain": [
       "array(['покупка жилья', 'приобретение автомобиля', 'дополнительное образование', 'сыграть свадьбу',\n",
       "       'операции с жильем', 'образование', 'на проведение свадьбы', 'покупка жилья для семьи',\n",
       "       'покупка недвижимости', 'покупка коммерческой недвижимости', 'покупка жилой недвижимости',\n",
       "       'строительство собственной недвижимости', 'недвижимость', 'строительство недвижимости',\n",
       "       'на покупку подержанного автомобиля', 'на покупку своего автомобиля',\n",
       "       'операции с коммерческой недвижимостью', 'строительство жилой недвижимости', 'жилье',\n",
       "       'операции со своей недвижимостью', 'автомобили', 'заняться образованием',\n",
       "       'сделка с подержанным автомобилем', 'получение образования', 'автомобиль', 'свадьба',\n",
       "       'получение дополнительного образования', 'покупка своего жилья', 'операции с недвижимостью',\n",
       "       'получение высшего образования', 'свой автомобиль', 'сделка с автомобилем', 'профильное образование',\n",
       "       'высшее образование', 'покупка жилья для сдачи', 'на покупку автомобиля', 'ремонт жилью',\n",
       "       'заняться высшим образованием'], dtype=object)"
      ]
     },
     "execution_count": 37,
     "metadata": {},
     "output_type": "execute_result"
    }
   ],
   "source": [
    "df['purpose'].str.lower().unique()"
   ]
  },
  {
   "cell_type": "code",
   "execution_count": 38,
   "id": "6d260098",
   "metadata": {},
   "outputs": [],
   "source": [
    "def purpose_category_func (purpose):\n",
    "    if 'авто' in purpose:\n",
    "        return 'операции с автомобилем'\n",
    "    elif 'жил' in purpose or 'недвиж' in purpose:\n",
    "        return 'операции с недвижимостью'\n",
    "    elif 'свад' in purpose:\n",
    "        return 'проведение свадьбы'\n",
    "    elif 'образ' in purpose:\n",
    "        return 'получение образования'\n",
    "    else:\n",
    "        return 'нет категории'"
   ]
  },
  {
   "cell_type": "markdown",
   "id": "f104ce7e",
   "metadata": {},
   "source": [
    "Применим функцию и удалим столбец `purpuse` "
   ]
  },
  {
   "cell_type": "code",
   "execution_count": 39,
   "id": "10537a48",
   "metadata": {},
   "outputs": [
    {
     "data": {
      "text/html": [
       "<div>\n",
       "<style scoped>\n",
       "    .dataframe tbody tr th:only-of-type {\n",
       "        vertical-align: middle;\n",
       "    }\n",
       "\n",
       "    .dataframe tbody tr th {\n",
       "        vertical-align: top;\n",
       "    }\n",
       "\n",
       "    .dataframe thead th {\n",
       "        text-align: right;\n",
       "    }\n",
       "</style>\n",
       "<table border=\"1\" class=\"dataframe\">\n",
       "  <thead>\n",
       "    <tr style=\"text-align: right;\">\n",
       "      <th></th>\n",
       "      <th>children</th>\n",
       "      <th>days_employed</th>\n",
       "      <th>dob_years</th>\n",
       "      <th>education_id</th>\n",
       "      <th>family_status_id</th>\n",
       "      <th>gender</th>\n",
       "      <th>income_type</th>\n",
       "      <th>debt</th>\n",
       "      <th>total_income</th>\n",
       "      <th>total_income_category</th>\n",
       "      <th>purpose_category</th>\n",
       "    </tr>\n",
       "  </thead>\n",
       "  <tbody>\n",
       "    <tr>\n",
       "      <th>0</th>\n",
       "      <td>1</td>\n",
       "      <td>8437.673028</td>\n",
       "      <td>42</td>\n",
       "      <td>0</td>\n",
       "      <td>0</td>\n",
       "      <td>F</td>\n",
       "      <td>сотрудник</td>\n",
       "      <td>0</td>\n",
       "      <td>253875.639453</td>\n",
       "      <td>B</td>\n",
       "      <td>операции с недвижимостью</td>\n",
       "    </tr>\n",
       "    <tr>\n",
       "      <th>1</th>\n",
       "      <td>1</td>\n",
       "      <td>4024.803754</td>\n",
       "      <td>36</td>\n",
       "      <td>1</td>\n",
       "      <td>0</td>\n",
       "      <td>F</td>\n",
       "      <td>сотрудник</td>\n",
       "      <td>0</td>\n",
       "      <td>112080.014102</td>\n",
       "      <td>C</td>\n",
       "      <td>операции с автомобилем</td>\n",
       "    </tr>\n",
       "    <tr>\n",
       "      <th>2</th>\n",
       "      <td>0</td>\n",
       "      <td>5623.422610</td>\n",
       "      <td>33</td>\n",
       "      <td>1</td>\n",
       "      <td>0</td>\n",
       "      <td>M</td>\n",
       "      <td>сотрудник</td>\n",
       "      <td>0</td>\n",
       "      <td>145885.952297</td>\n",
       "      <td>C</td>\n",
       "      <td>операции с недвижимостью</td>\n",
       "    </tr>\n",
       "    <tr>\n",
       "      <th>3</th>\n",
       "      <td>3</td>\n",
       "      <td>4124.747207</td>\n",
       "      <td>32</td>\n",
       "      <td>1</td>\n",
       "      <td>0</td>\n",
       "      <td>M</td>\n",
       "      <td>сотрудник</td>\n",
       "      <td>0</td>\n",
       "      <td>267628.550329</td>\n",
       "      <td>B</td>\n",
       "      <td>получение образования</td>\n",
       "    </tr>\n",
       "    <tr>\n",
       "      <th>4</th>\n",
       "      <td>0</td>\n",
       "      <td>340266.072047</td>\n",
       "      <td>53</td>\n",
       "      <td>1</td>\n",
       "      <td>1</td>\n",
       "      <td>F</td>\n",
       "      <td>пенсионер</td>\n",
       "      <td>0</td>\n",
       "      <td>158616.077870</td>\n",
       "      <td>C</td>\n",
       "      <td>проведение свадьбы</td>\n",
       "    </tr>\n",
       "  </tbody>\n",
       "</table>\n",
       "</div>"
      ],
      "text/plain": [
       "   children  days_employed  dob_years  education_id  family_status_id gender  \\\n",
       "0         1    8437.673028         42             0                 0      F   \n",
       "1         1    4024.803754         36             1                 0      F   \n",
       "2         0    5623.422610         33             1                 0      M   \n",
       "3         3    4124.747207         32             1                 0      M   \n",
       "4         0  340266.072047         53             1                 1      F   \n",
       "\n",
       "  income_type  debt   total_income total_income_category  \\\n",
       "0   сотрудник     0  253875.639453                     B   \n",
       "1   сотрудник     0  112080.014102                     C   \n",
       "2   сотрудник     0  145885.952297                     C   \n",
       "3   сотрудник     0  267628.550329                     B   \n",
       "4   пенсионер     0  158616.077870                     C   \n",
       "\n",
       "           purpose_category  \n",
       "0  операции с недвижимостью  \n",
       "1    операции с автомобилем  \n",
       "2  операции с недвижимостью  \n",
       "3     получение образования  \n",
       "4        проведение свадьбы  "
      ]
     },
     "execution_count": 39,
     "metadata": {},
     "output_type": "execute_result"
    }
   ],
   "source": [
    "df['purpose_category'] = df['purpose'].apply(purpose_category_func)\n",
    "df.drop('purpose', axis=1, inplace=True)\n",
    "df.head()"
   ]
  },
  {
   "cell_type": "markdown",
   "id": "f48b5f04",
   "metadata": {},
   "source": [
    "## Ответы на вопросы."
   ]
  },
  {
   "cell_type": "markdown",
   "id": "f0791737",
   "metadata": {},
   "source": [
    "### Вопрос 1: Есть ли зависимость между количеством детей и возвратом кредита в срок?"
   ]
  },
  {
   "cell_type": "code",
   "execution_count": 40,
   "id": "e1cfa356",
   "metadata": {},
   "outputs": [
    {
     "data": {
      "text/html": [
       "<div>\n",
       "<style scoped>\n",
       "    .dataframe tbody tr th:only-of-type {\n",
       "        vertical-align: middle;\n",
       "    }\n",
       "\n",
       "    .dataframe tbody tr th {\n",
       "        vertical-align: top;\n",
       "    }\n",
       "\n",
       "    .dataframe thead th {\n",
       "        text-align: right;\n",
       "    }\n",
       "</style>\n",
       "<table border=\"1\" class=\"dataframe\">\n",
       "  <thead>\n",
       "    <tr style=\"text-align: right;\">\n",
       "      <th>gender</th>\n",
       "      <th>F</th>\n",
       "      <th>M</th>\n",
       "      <th>debt_%</th>\n",
       "    </tr>\n",
       "    <tr>\n",
       "      <th>children</th>\n",
       "      <th></th>\n",
       "      <th></th>\n",
       "      <th></th>\n",
       "    </tr>\n",
       "  </thead>\n",
       "  <tbody>\n",
       "    <tr>\n",
       "      <th>0</th>\n",
       "      <td>9534</td>\n",
       "      <td>4572</td>\n",
       "      <td>7.535800</td>\n",
       "    </tr>\n",
       "    <tr>\n",
       "      <th>1</th>\n",
       "      <td>3121</td>\n",
       "      <td>1735</td>\n",
       "      <td>9.163921</td>\n",
       "    </tr>\n",
       "    <tr>\n",
       "      <th>2</th>\n",
       "      <td>1303</td>\n",
       "      <td>825</td>\n",
       "      <td>9.492481</td>\n",
       "    </tr>\n",
       "    <tr>\n",
       "      <th>3</th>\n",
       "      <td>196</td>\n",
       "      <td>134</td>\n",
       "      <td>8.181818</td>\n",
       "    </tr>\n",
       "    <tr>\n",
       "      <th>4</th>\n",
       "      <td>28</td>\n",
       "      <td>13</td>\n",
       "      <td>9.756098</td>\n",
       "    </tr>\n",
       "    <tr>\n",
       "      <th>5</th>\n",
       "      <td>7</td>\n",
       "      <td>2</td>\n",
       "      <td>0.000000</td>\n",
       "    </tr>\n",
       "  </tbody>\n",
       "</table>\n",
       "</div>"
      ],
      "text/plain": [
       "gender       F     M    debt_%\n",
       "children                      \n",
       "0         9534  4572  7.535800\n",
       "1         3121  1735  9.163921\n",
       "2         1303   825  9.492481\n",
       "3          196   134  8.181818\n",
       "4           28    13  9.756098\n",
       "5            7     2  0.000000"
      ]
     },
     "execution_count": 40,
     "metadata": {},
     "output_type": "execute_result"
    },
    {
     "data": {
      "image/png": "[encoded data removed]",
      "text/plain": [
       "<Figure size 640x480 with 2 Axes>"
      ]
     },
     "metadata": {},
     "output_type": "display_data"
    }
   ],
   "source": [
    "sns.heatmap(df.pivot_table(index = 'children', columns = 'gender', values = 'debt', aggfunc ='mean'), annot=True, fmt='.2%')\n",
    "pivot = df.pivot_table(index = 'children', columns = 'gender', values = 'debt', aggfunc ='count')\n",
    "pivot['debt_%'] = df.groupby('children')['debt'].mean() * 100\n",
    "pivot"
   ]
  },
  {
   "cell_type": "markdown",
   "id": "cdbea7ed",
   "metadata": {},
   "source": [
    "- Самыми ответственными заемщиками оказались женщины с 4 детьми и заемщики с 5 детьми вне зависимости от возраста, но по этим группам очень мало анкет, так что опираться на них сложно\n",
    "\n",
    "- В группах, где анкет хотя бы больше 100 меньше всего должников среди мужчин с 2-3 детьми и женщины с не более чем 1 ребенком\n",
    "\n",
    "- Больше всего задержек по выплатам допускали мужчины с не более чем 1 ребенком и женщины с 2 детьми"
   ]
  },
  {
   "cell_type": "markdown",
   "id": "f72cb2a2",
   "metadata": {},
   "source": [
    "### Вопрос 2: Есть ли зависимость между семейным положением и возвратом кредита в срок?"
   ]
  },
  {
   "cell_type": "code",
   "execution_count": 41,
   "id": "4dfa85b7",
   "metadata": {},
   "outputs": [
    {
     "data": {
      "text/html": [
       "<div>\n",
       "<style scoped>\n",
       "    .dataframe tbody tr th:only-of-type {\n",
       "        vertical-align: middle;\n",
       "    }\n",
       "\n",
       "    .dataframe tbody tr th {\n",
       "        vertical-align: top;\n",
       "    }\n",
       "\n",
       "    .dataframe thead th {\n",
       "        text-align: right;\n",
       "    }\n",
       "</style>\n",
       "<table border=\"1\" class=\"dataframe\">\n",
       "  <thead>\n",
       "    <tr style=\"text-align: right;\">\n",
       "      <th></th>\n",
       "      <th>family_status</th>\n",
       "      <th>family_status_id</th>\n",
       "    </tr>\n",
       "  </thead>\n",
       "  <tbody>\n",
       "    <tr>\n",
       "      <th>0</th>\n",
       "      <td>женат / замужем</td>\n",
       "      <td>0</td>\n",
       "    </tr>\n",
       "    <tr>\n",
       "      <th>1</th>\n",
       "      <td>гражданский брак</td>\n",
       "      <td>1</td>\n",
       "    </tr>\n",
       "    <tr>\n",
       "      <th>2</th>\n",
       "      <td>вдовец / вдова</td>\n",
       "      <td>2</td>\n",
       "    </tr>\n",
       "    <tr>\n",
       "      <th>3</th>\n",
       "      <td>в разводе</td>\n",
       "      <td>3</td>\n",
       "    </tr>\n",
       "    <tr>\n",
       "      <th>4</th>\n",
       "      <td>Не женат / не замужем</td>\n",
       "      <td>4</td>\n",
       "    </tr>\n",
       "  </tbody>\n",
       "</table>\n",
       "</div>"
      ],
      "text/plain": [
       "           family_status  family_status_id\n",
       "0        женат / замужем                 0\n",
       "1       гражданский брак                 1\n",
       "2         вдовец / вдова                 2\n",
       "3              в разводе                 3\n",
       "4  Не женат / не замужем                 4"
      ]
     },
     "execution_count": 41,
     "metadata": {},
     "output_type": "execute_result"
    }
   ],
   "source": [
    "family_status_id_dict"
   ]
  },
  {
   "cell_type": "code",
   "execution_count": 42,
   "id": "20437c40",
   "metadata": {
    "scrolled": false
   },
   "outputs": [
    {
     "data": {
      "text/html": [
       "<div>\n",
       "<style scoped>\n",
       "    .dataframe tbody tr th:only-of-type {\n",
       "        vertical-align: middle;\n",
       "    }\n",
       "\n",
       "    .dataframe tbody tr th {\n",
       "        vertical-align: top;\n",
       "    }\n",
       "\n",
       "    .dataframe thead th {\n",
       "        text-align: right;\n",
       "    }\n",
       "</style>\n",
       "<table border=\"1\" class=\"dataframe\">\n",
       "  <thead>\n",
       "    <tr style=\"text-align: right;\">\n",
       "      <th>gender</th>\n",
       "      <th>F</th>\n",
       "      <th>M</th>\n",
       "      <th>debt_%</th>\n",
       "    </tr>\n",
       "    <tr>\n",
       "      <th>family_status_id</th>\n",
       "      <th></th>\n",
       "      <th></th>\n",
       "      <th></th>\n",
       "    </tr>\n",
       "  </thead>\n",
       "  <tbody>\n",
       "    <tr>\n",
       "      <th>0</th>\n",
       "      <td>7764</td>\n",
       "      <td>4580</td>\n",
       "      <td>7.542126</td>\n",
       "    </tr>\n",
       "    <tr>\n",
       "      <th>1</th>\n",
       "      <td>2856</td>\n",
       "      <td>1306</td>\n",
       "      <td>9.322441</td>\n",
       "    </tr>\n",
       "    <tr>\n",
       "      <th>2</th>\n",
       "      <td>904</td>\n",
       "      <td>55</td>\n",
       "      <td>6.569343</td>\n",
       "    </tr>\n",
       "    <tr>\n",
       "      <th>3</th>\n",
       "      <td>936</td>\n",
       "      <td>259</td>\n",
       "      <td>7.112971</td>\n",
       "    </tr>\n",
       "    <tr>\n",
       "      <th>4</th>\n",
       "      <td>1729</td>\n",
       "      <td>1081</td>\n",
       "      <td>9.750890</td>\n",
       "    </tr>\n",
       "  </tbody>\n",
       "</table>\n",
       "</div>"
      ],
      "text/plain": [
       "gender               F     M    debt_%\n",
       "family_status_id                      \n",
       "0                 7764  4580  7.542126\n",
       "1                 2856  1306  9.322441\n",
       "2                  904    55  6.569343\n",
       "3                  936   259  7.112971\n",
       "4                 1729  1081  9.750890"
      ]
     },
     "execution_count": 42,
     "metadata": {},
     "output_type": "execute_result"
    },
    {
     "data": {
      "image/png": "[encoded data removed]",
      "text/plain": [
       "<Figure size 640x480 with 2 Axes>"
      ]
     },
     "metadata": {},
     "output_type": "display_data"
    }
   ],
   "source": [
    "sns.heatmap(df.pivot_table(index = 'family_status_id', columns = 'gender', values = 'debt', aggfunc ='mean'), annot=True, fmt='.2%')\n",
    "pivot = df.pivot_table(index = 'family_status_id', columns = 'gender', values = 'debt', aggfunc ='count')\n",
    "pivot['debt_%'] = df.groupby('family_status_id')['debt'].mean() * 100\n",
    "pivot"
   ]
  },
  {
   "cell_type": "markdown",
   "id": "f7406f59",
   "metadata": {},
   "source": [
    "- Женщины более ответственно чем мужчины подходят к выплатам.\n",
    "- Больше всего просрочек допускают вдовцы, не женатые и находящиеся в гражданском браке мужчины"
   ]
  },
  {
   "cell_type": "markdown",
   "id": "e3001bad",
   "metadata": {},
   "source": [
    "### Вопрос 3: Есть ли зависимость между уровнем дохода и возвратом кредита в срок?"
   ]
  },
  {
   "cell_type": "code",
   "execution_count": 43,
   "id": "3540acf6",
   "metadata": {},
   "outputs": [
    {
     "data": {
      "text/html": [
       "<div>\n",
       "<style scoped>\n",
       "    .dataframe tbody tr th:only-of-type {\n",
       "        vertical-align: middle;\n",
       "    }\n",
       "\n",
       "    .dataframe tbody tr th {\n",
       "        vertical-align: top;\n",
       "    }\n",
       "\n",
       "    .dataframe thead th {\n",
       "        text-align: right;\n",
       "    }\n",
       "</style>\n",
       "<table border=\"1\" class=\"dataframe\">\n",
       "  <thead>\n",
       "    <tr style=\"text-align: right;\">\n",
       "      <th>gender</th>\n",
       "      <th>F</th>\n",
       "      <th>M</th>\n",
       "      <th>debt_%</th>\n",
       "    </tr>\n",
       "    <tr>\n",
       "      <th>total_income_category</th>\n",
       "      <th></th>\n",
       "      <th></th>\n",
       "      <th></th>\n",
       "    </tr>\n",
       "  </thead>\n",
       "  <tbody>\n",
       "    <tr>\n",
       "      <th>A</th>\n",
       "      <td>10</td>\n",
       "      <td>15</td>\n",
       "      <td>8.000000</td>\n",
       "    </tr>\n",
       "    <tr>\n",
       "      <th>B</th>\n",
       "      <td>2711</td>\n",
       "      <td>2330</td>\n",
       "      <td>7.062091</td>\n",
       "    </tr>\n",
       "    <tr>\n",
       "      <th>C</th>\n",
       "      <td>11143</td>\n",
       "      <td>4889</td>\n",
       "      <td>8.483034</td>\n",
       "    </tr>\n",
       "    <tr>\n",
       "      <th>D</th>\n",
       "      <td>309</td>\n",
       "      <td>41</td>\n",
       "      <td>6.000000</td>\n",
       "    </tr>\n",
       "    <tr>\n",
       "      <th>E</th>\n",
       "      <td>16</td>\n",
       "      <td>6</td>\n",
       "      <td>9.090909</td>\n",
       "    </tr>\n",
       "  </tbody>\n",
       "</table>\n",
       "</div>"
      ],
      "text/plain": [
       "gender                     F     M    debt_%\n",
       "total_income_category                       \n",
       "A                         10    15  8.000000\n",
       "B                       2711  2330  7.062091\n",
       "C                      11143  4889  8.483034\n",
       "D                        309    41  6.000000\n",
       "E                         16     6  9.090909"
      ]
     },
     "execution_count": 43,
     "metadata": {},
     "output_type": "execute_result"
    },
    {
     "data": {
      "image/png": "[encoded data removed]",
      "text/plain": [
       "<Figure size 640x480 with 2 Axes>"
      ]
     },
     "metadata": {},
     "output_type": "display_data"
    }
   ],
   "source": [
    "sns.heatmap(df.pivot_table(index = 'total_income_category', columns = 'gender', values = 'debt', aggfunc ='mean'), annot=True, fmt='.2%')\n",
    "pivot = df.pivot_table(index = 'total_income_category', columns = 'gender', values = 'debt', aggfunc ='count')\n",
    "pivot['debt_%'] = df.groupby('total_income_category')['debt'].mean() * 100\n",
    "pivot"
   ]
  },
  {
   "cell_type": "markdown",
   "id": "e0b73c06",
   "metadata": {},
   "source": [
    "- Меньше всего долгов у женщин с доходами от 30 000 до 1 000 000\n",
    "- Самые ответственные мужчины -- с доходом от 30 000 до 50 000\n",
    "- Меньше всего данных по категориям A и E (до 30 000 и более 1 000 000). Тем не менее женщины с самым низким и мужчины с самым высоким доходами входят в топ 3 категории должников."
   ]
  },
  {
   "cell_type": "markdown",
   "id": "7c3f006a",
   "metadata": {},
   "source": [
    "### Вопрос 4: Как разные цели кредита влияют на его возврат в срок?"
   ]
  },
  {
   "cell_type": "code",
   "execution_count": 44,
   "id": "8d849c7e",
   "metadata": {},
   "outputs": [
    {
     "data": {
      "text/html": [
       "<div>\n",
       "<style scoped>\n",
       "    .dataframe tbody tr th:only-of-type {\n",
       "        vertical-align: middle;\n",
       "    }\n",
       "\n",
       "    .dataframe tbody tr th {\n",
       "        vertical-align: top;\n",
       "    }\n",
       "\n",
       "    .dataframe thead tr th {\n",
       "        text-align: left;\n",
       "    }\n",
       "\n",
       "    .dataframe thead tr:last-of-type th {\n",
       "        text-align: right;\n",
       "    }\n",
       "</style>\n",
       "<table border=\"1\" class=\"dataframe\">\n",
       "  <thead>\n",
       "    <tr>\n",
       "      <th></th>\n",
       "      <th colspan=\"2\" halign=\"left\">count</th>\n",
       "      <th>debt_%</th>\n",
       "    </tr>\n",
       "    <tr>\n",
       "      <th>gender</th>\n",
       "      <th>F</th>\n",
       "      <th>M</th>\n",
       "      <th></th>\n",
       "    </tr>\n",
       "    <tr>\n",
       "      <th>purpose_category</th>\n",
       "      <th></th>\n",
       "      <th></th>\n",
       "      <th></th>\n",
       "    </tr>\n",
       "  </thead>\n",
       "  <tbody>\n",
       "    <tr>\n",
       "      <th>операции с автомобилем</th>\n",
       "      <td>2862</td>\n",
       "      <td>1446</td>\n",
       "      <td>9.354689</td>\n",
       "    </tr>\n",
       "    <tr>\n",
       "      <th>операции с недвижимостью</th>\n",
       "      <td>7087</td>\n",
       "      <td>3726</td>\n",
       "      <td>7.232036</td>\n",
       "    </tr>\n",
       "    <tr>\n",
       "      <th>получение образования</th>\n",
       "      <td>2668</td>\n",
       "      <td>1346</td>\n",
       "      <td>9.217738</td>\n",
       "    </tr>\n",
       "    <tr>\n",
       "      <th>проведение свадьбы</th>\n",
       "      <td>1572</td>\n",
       "      <td>763</td>\n",
       "      <td>7.965739</td>\n",
       "    </tr>\n",
       "  </tbody>\n",
       "</table>\n",
       "</div>"
      ],
      "text/plain": [
       "                         count          debt_%\n",
       "gender                       F     M          \n",
       "purpose_category                              \n",
       "операции с автомобилем    2862  1446  9.354689\n",
       "операции с недвижимостью  7087  3726  7.232036\n",
       "получение образования     2668  1346  9.217738\n",
       "проведение свадьбы        1572   763  7.965739"
      ]
     },
     "execution_count": 44,
     "metadata": {},
     "output_type": "execute_result"
    },
    {
     "data": {
      "image/png": "[encoded data removed]",
      "text/plain": [
       "<Figure size 640x480 with 2 Axes>"
      ]
     },
     "metadata": {},
     "output_type": "display_data"
    }
   ],
   "source": [
    "sns.heatmap(df.pivot_table(index = 'purpose_category', columns = 'gender', values = 'debt', aggfunc ='mean'), annot=True, fmt='.2%')\n",
    "pivot = df.pivot_table(index = 'purpose_category', columns = 'gender', values = 'debt', aggfunc =['count'])\n",
    "pivot['debt_%'] = df.groupby('purpose_category')['debt'].mean() * 100\n",
    "pivot"
   ]
  },
  {
   "cell_type": "markdown",
   "id": "75320aae",
   "metadata": {},
   "source": [
    "- Недвижимость -- самая безопасная категория займов для банка\n",
    "- Наибольшее число задержек в категориях, связанных с получением образования и \"операции с автомобилем\""
   ]
  },
  {
   "cell_type": "markdown",
   "id": "74370f99",
   "metadata": {},
   "source": [
    "### Вывод"
   ]
  },
  {
   "cell_type": "markdown",
   "id": "8a102fe7",
   "metadata": {},
   "source": [
    "Наиболее надежными заемщиками (% должников меньше среднего по датасету) являются:\n",
    "1. Женщины\n",
    "2. Без детей или с 1 ребенком\n",
    "3. Не состоящие в гражданском браке\n",
    "4. С доходом более 30 000\n",
    "5. Целью займа которых является что-то не связанное с автомобилем\n",
    "\n",
    "Наименее надежными (превышение среднего более чем на 10%):\n",
    "1. Мужчины\n",
    "2. У которых менее 2 детей\n",
    "3. Не женатые и не в разводе\n",
    "4. С доходами менее 30 000 и от 50 000 до 200 000\n",
    "5. Целью кредита для которых является получение образования\n",
    "\n"
   ]
  },
  {
   "cell_type": "markdown",
   "id": "b6afb2e5",
   "metadata": {},
   "source": [
    "## Общий вывод"
   ]
  },
  {
   "cell_type": "markdown",
   "id": "879c87df",
   "metadata": {},
   "source": [
    "Какой-либо прямой связи между количеством детей и возвратом кредита в срок нет, процент должников отличается \"вниз\" не более чем на 10% от среднего.\n",
    "\n",
    "Разведенные и вдовы/вдовцы допускают меньше всего просрочек по кредитам. Разница \"вниз\" 11-12% от среднего. Также % ниже среднего у холостых заемщиков/заемщиц.\n",
    "\n",
    "Также можно отметить, что около 25% это заемщики с доходом 30 000-50 000 и должников среди них сильно (более 10%) ниже среднего."
   ]
  }
 ],
 "metadata": {
  "ExecuteTimeLog": [
   {
    "duration": 601,
    "start_time": "2022-04-12T15:41:36.676Z"
   },
   {
    "duration": 114,
    "start_time": "2022-04-12T15:41:58.829Z"
   },
   {
    "duration": 210,
    "start_time": "2022-04-12T15:45:24.328Z"
   },
   {
    "duration": 81,
    "start_time": "2022-04-12T15:45:30.063Z"
   },
   {
    "duration": 23,
    "start_time": "2022-04-12T15:49:04.312Z"
   },
   {
    "duration": 18,
    "start_time": "2022-04-12T15:49:15.584Z"
   },
   {
    "duration": 4,
    "start_time": "2022-04-12T16:21:28.451Z"
   },
   {
    "duration": 30,
    "start_time": "2022-04-12T16:29:05.496Z"
   },
   {
    "duration": 19,
    "start_time": "2022-04-12T16:36:03.656Z"
   },
   {
    "duration": 44,
    "start_time": "2022-04-12T16:40:44.416Z"
   },
   {
    "duration": 14,
    "start_time": "2022-04-12T16:46:47.801Z"
   },
   {
    "duration": 106,
    "start_time": "2022-04-12T16:53:18.598Z"
   },
   {
    "duration": 1323,
    "start_time": "2022-04-12T16:53:49.878Z"
   },
   {
    "duration": 9,
    "start_time": "2022-04-12T16:53:59.597Z"
   },
   {
    "duration": 8,
    "start_time": "2022-04-12T16:55:17.293Z"
   },
   {
    "duration": 16,
    "start_time": "2022-04-12T16:58:08.254Z"
   },
   {
    "duration": 10,
    "start_time": "2022-04-12T16:58:23.646Z"
   },
   {
    "duration": 8,
    "start_time": "2022-04-12T16:59:57.399Z"
   },
   {
    "duration": 8,
    "start_time": "2022-04-12T17:00:36.191Z"
   },
   {
    "duration": 7,
    "start_time": "2022-04-12T17:08:33.970Z"
   },
   {
    "duration": 12,
    "start_time": "2022-04-12T17:08:53.882Z"
   },
   {
    "duration": 9,
    "start_time": "2022-04-12T17:09:07.299Z"
   },
   {
    "duration": 8,
    "start_time": "2022-04-12T17:09:15.538Z"
   },
   {
    "duration": 9,
    "start_time": "2022-04-12T17:19:12.053Z"
   },
   {
    "duration": 15,
    "start_time": "2022-04-12T17:19:33.277Z"
   },
   {
    "duration": 10,
    "start_time": "2022-04-12T17:19:40.189Z"
   },
   {
    "duration": 209,
    "start_time": "2022-04-12T17:21:12.359Z"
   },
   {
    "duration": 183,
    "start_time": "2022-04-12T17:21:32.446Z"
   },
   {
    "duration": 11,
    "start_time": "2022-04-12T17:21:41.342Z"
   },
   {
    "duration": 13,
    "start_time": "2022-04-12T17:30:26.818Z"
   },
   {
    "duration": 425,
    "start_time": "2022-04-15T18:41:46.473Z"
   },
   {
    "duration": 15,
    "start_time": "2022-04-15T18:41:46.900Z"
   },
   {
    "duration": 13,
    "start_time": "2022-04-15T18:41:46.916Z"
   },
   {
    "duration": 26,
    "start_time": "2022-04-15T18:41:46.930Z"
   },
   {
    "duration": 7,
    "start_time": "2022-04-15T18:41:46.958Z"
   },
   {
    "duration": 5,
    "start_time": "2022-04-15T18:41:46.966Z"
   },
   {
    "duration": 5,
    "start_time": "2022-04-15T18:41:46.972Z"
   },
   {
    "duration": 8,
    "start_time": "2022-04-15T18:42:05.652Z"
   },
   {
    "duration": 82,
    "start_time": "2022-04-15T18:42:18.671Z"
   },
   {
    "duration": 7,
    "start_time": "2022-04-15T18:42:27.005Z"
   },
   {
    "duration": 7,
    "start_time": "2022-04-15T18:42:36.861Z"
   },
   {
    "duration": 7,
    "start_time": "2022-04-15T18:42:46.901Z"
   },
   {
    "duration": 7,
    "start_time": "2022-04-15T18:42:56.037Z"
   },
   {
    "duration": 76,
    "start_time": "2022-04-15T18:43:44.758Z"
   },
   {
    "duration": 7,
    "start_time": "2022-04-15T18:44:49.654Z"
   },
   {
    "duration": 7,
    "start_time": "2022-04-15T18:45:15.894Z"
   },
   {
    "duration": 106,
    "start_time": "2022-04-15T18:51:52.488Z"
   },
   {
    "duration": 7,
    "start_time": "2022-04-15T18:51:59.505Z"
   },
   {
    "duration": 77,
    "start_time": "2022-04-15T18:52:07.376Z"
   },
   {
    "duration": 4,
    "start_time": "2022-04-15T18:52:31.808Z"
   },
   {
    "duration": 76,
    "start_time": "2022-04-15T18:52:48.168Z"
   },
   {
    "duration": 4,
    "start_time": "2022-04-15T18:53:10.096Z"
   },
   {
    "duration": 4,
    "start_time": "2022-04-15T18:54:18.033Z"
   },
   {
    "duration": 4,
    "start_time": "2022-04-15T18:54:37.001Z"
   },
   {
    "duration": 4,
    "start_time": "2022-04-15T18:55:01.889Z"
   },
   {
    "duration": 4,
    "start_time": "2022-04-15T18:55:13.257Z"
   },
   {
    "duration": 4,
    "start_time": "2022-04-15T18:55:37.330Z"
   },
   {
    "duration": 4,
    "start_time": "2022-04-15T18:56:18.449Z"
   },
   {
    "duration": 4,
    "start_time": "2022-04-15T18:57:37.579Z"
   },
   {
    "duration": 4,
    "start_time": "2022-04-15T18:57:50.570Z"
   },
   {
    "duration": 1280,
    "start_time": "2022-04-15T19:19:26.969Z"
   },
   {
    "duration": 137,
    "start_time": "2022-04-15T19:19:59.242Z"
   },
   {
    "duration": 8,
    "start_time": "2022-04-15T19:20:12.179Z"
   },
   {
    "duration": 8,
    "start_time": "2022-04-15T19:38:13.981Z"
   },
   {
    "duration": 427,
    "start_time": "2022-04-15T19:39:59.066Z"
   },
   {
    "duration": 76,
    "start_time": "2022-04-15T19:40:08.838Z"
   },
   {
    "duration": 23,
    "start_time": "2022-04-15T19:40:08.916Z"
   },
   {
    "duration": 14,
    "start_time": "2022-04-15T19:40:08.947Z"
   },
   {
    "duration": 19,
    "start_time": "2022-04-15T19:40:08.963Z"
   },
   {
    "duration": 7,
    "start_time": "2022-04-15T19:40:08.984Z"
   },
   {
    "duration": 7,
    "start_time": "2022-04-15T19:40:08.993Z"
   },
   {
    "duration": 5,
    "start_time": "2022-04-15T19:40:09.002Z"
   },
   {
    "duration": 39,
    "start_time": "2022-04-15T19:40:09.009Z"
   },
   {
    "duration": 7,
    "start_time": "2022-04-15T19:40:09.050Z"
   },
   {
    "duration": 181,
    "start_time": "2022-04-15T19:40:16.019Z"
   },
   {
    "duration": 126,
    "start_time": "2022-04-15T19:40:48.195Z"
   },
   {
    "duration": 98,
    "start_time": "2022-04-15T19:41:26.467Z"
   },
   {
    "duration": 101,
    "start_time": "2022-04-15T19:41:34.012Z"
   },
   {
    "duration": 146,
    "start_time": "2022-04-15T19:41:57.650Z"
   },
   {
    "duration": 108,
    "start_time": "2022-04-15T19:42:32.972Z"
   },
   {
    "duration": 106,
    "start_time": "2022-04-15T19:43:05.301Z"
   },
   {
    "duration": 134,
    "start_time": "2022-04-15T19:43:25.772Z"
   },
   {
    "duration": 176,
    "start_time": "2022-04-15T19:43:38.252Z"
   },
   {
    "duration": 105,
    "start_time": "2022-04-15T19:43:42.420Z"
   },
   {
    "duration": 73,
    "start_time": "2022-04-15T20:07:31.020Z"
   },
   {
    "duration": 5,
    "start_time": "2022-04-15T20:07:36.245Z"
   },
   {
    "duration": 85,
    "start_time": "2022-04-15T20:11:19.190Z"
   },
   {
    "duration": 83,
    "start_time": "2022-04-15T20:11:24.847Z"
   },
   {
    "duration": 77,
    "start_time": "2022-04-15T20:11:31.239Z"
   },
   {
    "duration": 78,
    "start_time": "2022-04-15T20:13:05.047Z"
   },
   {
    "duration": 3,
    "start_time": "2022-04-15T20:13:20.431Z"
   },
   {
    "duration": 3,
    "start_time": "2022-04-15T20:13:39.479Z"
   },
   {
    "duration": 2,
    "start_time": "2022-04-15T20:13:42.599Z"
   },
   {
    "duration": 11,
    "start_time": "2022-04-15T20:13:56.580Z"
   },
   {
    "duration": 3,
    "start_time": "2022-04-15T20:15:43.335Z"
   },
   {
    "duration": 10,
    "start_time": "2022-04-15T20:15:45.360Z"
   },
   {
    "duration": 3,
    "start_time": "2022-04-15T20:15:59.336Z"
   },
   {
    "duration": 10,
    "start_time": "2022-04-15T20:16:01.528Z"
   },
   {
    "duration": 6,
    "start_time": "2022-04-15T20:17:26.176Z"
   },
   {
    "duration": 4,
    "start_time": "2022-04-15T20:17:38.408Z"
   },
   {
    "duration": 83,
    "start_time": "2022-04-15T20:17:40.312Z"
   },
   {
    "duration": 3,
    "start_time": "2022-04-15T20:17:52.200Z"
   },
   {
    "duration": 3,
    "start_time": "2022-04-15T20:18:09.449Z"
   },
   {
    "duration": 4,
    "start_time": "2022-04-15T20:18:16.137Z"
   },
   {
    "duration": 4,
    "start_time": "2022-04-15T20:18:29.880Z"
   },
   {
    "duration": 3,
    "start_time": "2022-04-15T20:19:19.625Z"
   },
   {
    "duration": 9,
    "start_time": "2022-04-15T20:19:21.657Z"
   },
   {
    "duration": 3,
    "start_time": "2022-04-15T20:20:03.697Z"
   },
   {
    "duration": 10,
    "start_time": "2022-04-15T20:20:04.921Z"
   },
   {
    "duration": 4,
    "start_time": "2022-04-15T20:20:19.729Z"
   },
   {
    "duration": 10,
    "start_time": "2022-04-15T20:20:21.497Z"
   },
   {
    "duration": 3,
    "start_time": "2022-04-15T20:20:42.171Z"
   },
   {
    "duration": 12,
    "start_time": "2022-04-15T20:20:42.882Z"
   },
   {
    "duration": 2,
    "start_time": "2022-04-15T20:21:03.491Z"
   },
   {
    "duration": 3,
    "start_time": "2022-04-15T20:21:04.202Z"
   },
   {
    "duration": 3,
    "start_time": "2022-04-15T20:21:28.355Z"
   },
   {
    "duration": 14,
    "start_time": "2022-04-15T20:21:29.194Z"
   },
   {
    "duration": 3,
    "start_time": "2022-04-15T20:22:13.690Z"
   },
   {
    "duration": 4,
    "start_time": "2022-04-15T20:22:18.074Z"
   },
   {
    "duration": 88,
    "start_time": "2022-04-15T20:23:11.067Z"
   },
   {
    "duration": 3,
    "start_time": "2022-04-15T20:23:16.507Z"
   },
   {
    "duration": 4,
    "start_time": "2022-04-15T20:23:31.003Z"
   },
   {
    "duration": 3,
    "start_time": "2022-04-15T20:23:52.651Z"
   },
   {
    "duration": 27,
    "start_time": "2022-04-15T20:23:53.547Z"
   },
   {
    "duration": 28,
    "start_time": "2022-04-15T20:23:55.306Z"
   },
   {
    "duration": 28,
    "start_time": "2022-04-15T20:23:56.523Z"
   },
   {
    "duration": 29,
    "start_time": "2022-04-15T20:24:05.058Z"
   },
   {
    "duration": 3,
    "start_time": "2022-04-15T20:24:33.355Z"
   },
   {
    "duration": 4,
    "start_time": "2022-04-15T20:24:34.427Z"
   },
   {
    "duration": 3,
    "start_time": "2022-04-15T20:25:11.315Z"
   },
   {
    "duration": 5,
    "start_time": "2022-04-15T20:25:12.035Z"
   },
   {
    "duration": 4,
    "start_time": "2022-04-15T20:27:25.484Z"
   },
   {
    "duration": 4,
    "start_time": "2022-04-15T20:27:44.724Z"
   },
   {
    "duration": 5,
    "start_time": "2022-04-15T20:29:44.653Z"
   },
   {
    "duration": 5,
    "start_time": "2022-04-15T20:29:45.510Z"
   },
   {
    "duration": 5,
    "start_time": "2022-04-15T20:29:46.885Z"
   },
   {
    "duration": 5,
    "start_time": "2022-04-15T20:29:47.868Z"
   },
   {
    "duration": 5,
    "start_time": "2022-04-15T20:29:48.796Z"
   },
   {
    "duration": 5,
    "start_time": "2022-04-15T20:29:49.756Z"
   },
   {
    "duration": 5,
    "start_time": "2022-04-15T20:29:50.876Z"
   },
   {
    "duration": 5,
    "start_time": "2022-04-15T20:29:56.583Z"
   },
   {
    "duration": 4,
    "start_time": "2022-04-15T20:29:58.756Z"
   },
   {
    "duration": 6,
    "start_time": "2022-04-15T20:30:00.140Z"
   },
   {
    "duration": 44,
    "start_time": "2022-04-19T15:28:24.467Z"
   },
   {
    "duration": 1315,
    "start_time": "2022-04-19T15:28:29.660Z"
   },
   {
    "duration": 14,
    "start_time": "2022-04-19T15:28:30.977Z"
   },
   {
    "duration": 25,
    "start_time": "2022-04-19T15:28:30.993Z"
   },
   {
    "duration": 32,
    "start_time": "2022-04-19T15:28:31.020Z"
   },
   {
    "duration": 17,
    "start_time": "2022-04-19T15:28:31.055Z"
   },
   {
    "duration": 11,
    "start_time": "2022-04-19T15:28:31.073Z"
   },
   {
    "duration": 17,
    "start_time": "2022-04-19T15:28:31.086Z"
   },
   {
    "duration": 10,
    "start_time": "2022-04-19T15:28:31.105Z"
   },
   {
    "duration": 15,
    "start_time": "2022-04-19T15:28:31.117Z"
   },
   {
    "duration": 23,
    "start_time": "2022-04-19T15:28:31.133Z"
   },
   {
    "duration": 16,
    "start_time": "2022-04-19T15:28:31.158Z"
   },
   {
    "duration": 12,
    "start_time": "2022-04-19T15:28:31.176Z"
   },
   {
    "duration": 22,
    "start_time": "2022-04-19T15:28:31.189Z"
   },
   {
    "duration": 9,
    "start_time": "2022-04-19T15:28:31.213Z"
   },
   {
    "duration": 24,
    "start_time": "2022-04-19T15:28:31.223Z"
   },
   {
    "duration": 22,
    "start_time": "2022-04-19T15:28:31.248Z"
   },
   {
    "duration": 23,
    "start_time": "2022-04-19T15:28:31.272Z"
   },
   {
    "duration": 114,
    "start_time": "2022-04-19T15:28:33.688Z"
   },
   {
    "duration": 54,
    "start_time": "2022-04-19T15:30:12.721Z"
   },
   {
    "duration": 8,
    "start_time": "2022-04-19T15:30:19.632Z"
   },
   {
    "duration": 138,
    "start_time": "2022-04-19T15:30:50.969Z"
   },
   {
    "duration": 240,
    "start_time": "2022-04-19T15:31:27.098Z"
   },
   {
    "duration": 122,
    "start_time": "2022-04-19T15:38:54.507Z"
   },
   {
    "duration": 117,
    "start_time": "2022-04-19T15:42:16.989Z"
   },
   {
    "duration": 6,
    "start_time": "2022-04-19T15:43:14.550Z"
   },
   {
    "duration": 12,
    "start_time": "2022-04-19T15:43:31.149Z"
   },
   {
    "duration": 6,
    "start_time": "2022-04-19T15:43:39.277Z"
   },
   {
    "duration": 4,
    "start_time": "2022-04-19T15:43:58.341Z"
   },
   {
    "duration": 190,
    "start_time": "2022-04-19T15:44:10.350Z"
   },
   {
    "duration": 106,
    "start_time": "2022-04-19T15:46:29.719Z"
   },
   {
    "duration": 20,
    "start_time": "2022-04-19T15:49:54.025Z"
   },
   {
    "duration": 104,
    "start_time": "2022-04-19T15:51:31.057Z"
   },
   {
    "duration": 12,
    "start_time": "2022-04-19T15:56:26.971Z"
   },
   {
    "duration": 9,
    "start_time": "2022-04-19T15:56:36.090Z"
   },
   {
    "duration": 15,
    "start_time": "2022-04-19T15:56:55.130Z"
   },
   {
    "duration": 10,
    "start_time": "2022-04-19T15:58:16.283Z"
   },
   {
    "duration": 9,
    "start_time": "2022-04-19T15:58:31.611Z"
   },
   {
    "duration": 8,
    "start_time": "2022-04-19T16:03:09.172Z"
   },
   {
    "duration": 12,
    "start_time": "2022-04-19T16:03:31.188Z"
   },
   {
    "duration": 21,
    "start_time": "2022-04-19T16:04:05.239Z"
   },
   {
    "duration": 21,
    "start_time": "2022-04-19T16:04:26.725Z"
   },
   {
    "duration": 16,
    "start_time": "2022-04-19T16:04:41.221Z"
   },
   {
    "duration": 4,
    "start_time": "2022-04-19T16:28:32.700Z"
   },
   {
    "duration": 93,
    "start_time": "2022-04-19T16:32:53.406Z"
   },
   {
    "duration": 4,
    "start_time": "2022-04-19T16:35:25.294Z"
   },
   {
    "duration": 3,
    "start_time": "2022-04-19T16:35:31.799Z"
   },
   {
    "duration": 29,
    "start_time": "2022-04-19T16:35:32.831Z"
   },
   {
    "duration": 3,
    "start_time": "2022-04-19T16:36:16.016Z"
   },
   {
    "duration": 22,
    "start_time": "2022-04-19T16:36:17.198Z"
   },
   {
    "duration": 3,
    "start_time": "2022-04-19T16:42:21.785Z"
   },
   {
    "duration": 4,
    "start_time": "2022-04-19T16:43:34.548Z"
   },
   {
    "duration": 21,
    "start_time": "2022-04-19T16:43:37.177Z"
   },
   {
    "duration": 8,
    "start_time": "2022-04-19T16:43:45.521Z"
   },
   {
    "duration": 3,
    "start_time": "2022-04-19T16:43:47.030Z"
   },
   {
    "duration": 44,
    "start_time": "2022-04-19T16:45:04.153Z"
   },
   {
    "duration": 4,
    "start_time": "2022-04-19T16:45:23.618Z"
   },
   {
    "duration": 46,
    "start_time": "2022-04-19T16:46:10.649Z"
   },
   {
    "duration": 14,
    "start_time": "2022-04-19T16:46:10.697Z"
   },
   {
    "duration": 15,
    "start_time": "2022-04-19T16:46:10.713Z"
   },
   {
    "duration": 34,
    "start_time": "2022-04-19T16:46:10.730Z"
   },
   {
    "duration": 5,
    "start_time": "2022-04-19T16:46:10.766Z"
   },
   {
    "duration": 6,
    "start_time": "2022-04-19T16:46:10.772Z"
   },
   {
    "duration": 5,
    "start_time": "2022-04-19T16:46:10.780Z"
   },
   {
    "duration": 6,
    "start_time": "2022-04-19T16:46:10.786Z"
   },
   {
    "duration": 8,
    "start_time": "2022-04-19T16:46:10.793Z"
   },
   {
    "duration": 5,
    "start_time": "2022-04-19T16:46:10.803Z"
   },
   {
    "duration": 5,
    "start_time": "2022-04-19T16:46:10.809Z"
   },
   {
    "duration": 28,
    "start_time": "2022-04-19T16:46:10.822Z"
   },
   {
    "duration": 4,
    "start_time": "2022-04-19T16:46:10.852Z"
   },
   {
    "duration": 7,
    "start_time": "2022-04-19T16:46:10.858Z"
   },
   {
    "duration": 141,
    "start_time": "2022-04-19T16:46:10.866Z"
   },
   {
    "duration": 3,
    "start_time": "2022-04-19T16:46:11.009Z"
   },
   {
    "duration": 182,
    "start_time": "2022-04-19T16:46:11.013Z"
   },
   {
    "duration": 11,
    "start_time": "2022-04-19T16:46:11.197Z"
   },
   {
    "duration": 15,
    "start_time": "2022-04-19T16:46:13.963Z"
   },
   {
    "duration": 6,
    "start_time": "2022-04-19T16:46:56.987Z"
   },
   {
    "duration": 4,
    "start_time": "2022-04-19T16:47:08.680Z"
   },
   {
    "duration": 7,
    "start_time": "2022-04-19T16:47:08.686Z"
   },
   {
    "duration": 45,
    "start_time": "2022-04-19T16:47:08.694Z"
   },
   {
    "duration": 0,
    "start_time": "2022-04-19T16:47:08.741Z"
   },
   {
    "duration": 0,
    "start_time": "2022-04-19T16:47:08.742Z"
   },
   {
    "duration": 0,
    "start_time": "2022-04-19T16:47:08.743Z"
   },
   {
    "duration": 60,
    "start_time": "2022-04-19T16:47:15.216Z"
   },
   {
    "duration": 12,
    "start_time": "2022-04-19T16:47:15.278Z"
   },
   {
    "duration": 12,
    "start_time": "2022-04-19T16:47:15.292Z"
   },
   {
    "duration": 32,
    "start_time": "2022-04-19T16:47:15.306Z"
   },
   {
    "duration": 13,
    "start_time": "2022-04-19T16:47:15.345Z"
   },
   {
    "duration": 7,
    "start_time": "2022-04-19T16:47:15.359Z"
   },
   {
    "duration": 6,
    "start_time": "2022-04-19T16:47:15.368Z"
   },
   {
    "duration": 6,
    "start_time": "2022-04-19T16:47:15.376Z"
   },
   {
    "duration": 7,
    "start_time": "2022-04-19T16:47:15.384Z"
   },
   {
    "duration": 4,
    "start_time": "2022-04-19T16:47:15.395Z"
   },
   {
    "duration": 24,
    "start_time": "2022-04-19T16:47:15.401Z"
   },
   {
    "duration": 14,
    "start_time": "2022-04-19T16:47:15.432Z"
   },
   {
    "duration": 23,
    "start_time": "2022-04-19T16:47:15.448Z"
   },
   {
    "duration": 12,
    "start_time": "2022-04-19T16:47:15.472Z"
   },
   {
    "duration": 209,
    "start_time": "2022-04-19T16:47:15.486Z"
   },
   {
    "duration": 4,
    "start_time": "2022-04-19T16:47:15.697Z"
   },
   {
    "duration": 252,
    "start_time": "2022-04-19T16:47:15.703Z"
   },
   {
    "duration": 15,
    "start_time": "2022-04-19T16:47:15.957Z"
   },
   {
    "duration": 11,
    "start_time": "2022-04-19T16:47:15.973Z"
   },
   {
    "duration": 7,
    "start_time": "2022-04-19T16:47:15.985Z"
   },
   {
    "duration": 4,
    "start_time": "2022-04-19T16:47:15.993Z"
   },
   {
    "duration": 37,
    "start_time": "2022-04-19T16:47:15.999Z"
   },
   {
    "duration": 14,
    "start_time": "2022-04-19T16:47:16.040Z"
   },
   {
    "duration": 218,
    "start_time": "2022-04-19T16:47:16.056Z"
   },
   {
    "duration": 4,
    "start_time": "2022-04-19T16:47:16.276Z"
   },
   {
    "duration": 51,
    "start_time": "2022-04-19T16:47:32.844Z"
   },
   {
    "duration": 13,
    "start_time": "2022-04-19T16:47:43.122Z"
   },
   {
    "duration": 5,
    "start_time": "2022-04-19T16:48:53.908Z"
   },
   {
    "duration": 51,
    "start_time": "2022-04-19T16:49:04.220Z"
   },
   {
    "duration": 4,
    "start_time": "2022-04-19T16:51:13.848Z"
   },
   {
    "duration": 1209,
    "start_time": "2022-04-19T16:51:14.788Z"
   },
   {
    "duration": 3,
    "start_time": "2022-04-19T16:53:19.049Z"
   },
   {
    "duration": 1055,
    "start_time": "2022-04-19T16:53:19.957Z"
   },
   {
    "duration": 3,
    "start_time": "2022-04-19T16:54:01.677Z"
   },
   {
    "duration": 28,
    "start_time": "2022-04-19T16:54:02.373Z"
   },
   {
    "duration": 8,
    "start_time": "2022-04-19T16:54:47.069Z"
   },
   {
    "duration": 178,
    "start_time": "2022-04-19T16:54:54.111Z"
   },
   {
    "duration": 5,
    "start_time": "2022-04-19T16:54:57.109Z"
   },
   {
    "duration": 9,
    "start_time": "2022-04-19T16:55:12.285Z"
   },
   {
    "duration": 8,
    "start_time": "2022-04-19T16:56:57.182Z"
   },
   {
    "duration": 9,
    "start_time": "2022-04-19T16:57:13.071Z"
   },
   {
    "duration": 5,
    "start_time": "2022-04-19T16:58:21.662Z"
   },
   {
    "duration": 9,
    "start_time": "2022-04-19T17:00:14.784Z"
   },
   {
    "duration": 59,
    "start_time": "2022-04-19T17:00:48.316Z"
   },
   {
    "duration": 17,
    "start_time": "2022-04-19T17:00:48.377Z"
   },
   {
    "duration": 35,
    "start_time": "2022-04-19T17:00:48.395Z"
   },
   {
    "duration": 13,
    "start_time": "2022-04-19T17:00:48.433Z"
   },
   {
    "duration": 6,
    "start_time": "2022-04-19T17:00:48.447Z"
   },
   {
    "duration": 7,
    "start_time": "2022-04-19T17:00:48.455Z"
   },
   {
    "duration": 9,
    "start_time": "2022-04-19T17:00:48.464Z"
   },
   {
    "duration": 5,
    "start_time": "2022-04-19T17:00:48.475Z"
   },
   {
    "duration": 6,
    "start_time": "2022-04-19T17:00:48.482Z"
   },
   {
    "duration": 5,
    "start_time": "2022-04-19T17:00:48.526Z"
   },
   {
    "duration": 13,
    "start_time": "2022-04-19T17:00:48.533Z"
   },
   {
    "duration": 6,
    "start_time": "2022-04-19T17:00:48.548Z"
   },
   {
    "duration": 5,
    "start_time": "2022-04-19T17:00:48.556Z"
   },
   {
    "duration": 8,
    "start_time": "2022-04-19T17:00:48.562Z"
   },
   {
    "duration": 177,
    "start_time": "2022-04-19T17:00:48.572Z"
   },
   {
    "duration": 4,
    "start_time": "2022-04-19T17:00:48.750Z"
   },
   {
    "duration": 167,
    "start_time": "2022-04-19T17:00:48.756Z"
   },
   {
    "duration": 13,
    "start_time": "2022-04-19T17:00:48.925Z"
   },
   {
    "duration": 13,
    "start_time": "2022-04-19T17:00:48.940Z"
   },
   {
    "duration": 7,
    "start_time": "2022-04-19T17:00:48.955Z"
   },
   {
    "duration": 8,
    "start_time": "2022-04-19T17:00:48.964Z"
   },
   {
    "duration": 4,
    "start_time": "2022-04-19T17:00:48.973Z"
   },
   {
    "duration": 6,
    "start_time": "2022-04-19T17:00:48.978Z"
   },
   {
    "duration": 40,
    "start_time": "2022-04-19T17:00:48.986Z"
   },
   {
    "duration": 161,
    "start_time": "2022-04-19T17:00:49.028Z"
   },
   {
    "duration": 3,
    "start_time": "2022-04-19T17:00:49.191Z"
   },
   {
    "duration": 9,
    "start_time": "2022-04-19T17:01:49.196Z"
   },
   {
    "duration": 28,
    "start_time": "2022-04-19T17:01:54.392Z"
   },
   {
    "duration": 28,
    "start_time": "2022-04-19T17:01:59.448Z"
   },
   {
    "duration": 10,
    "start_time": "2022-04-19T17:02:01.479Z"
   },
   {
    "duration": 5,
    "start_time": "2022-04-19T17:03:11.856Z"
   },
   {
    "duration": 5,
    "start_time": "2022-04-19T17:06:01.769Z"
   },
   {
    "duration": 67,
    "start_time": "2022-04-19T17:12:02.041Z"
   },
   {
    "duration": 20,
    "start_time": "2022-04-19T17:12:02.110Z"
   },
   {
    "duration": 18,
    "start_time": "2022-04-19T17:12:02.132Z"
   },
   {
    "duration": 12,
    "start_time": "2022-04-19T17:12:02.152Z"
   },
   {
    "duration": 5,
    "start_time": "2022-04-19T17:12:02.165Z"
   },
   {
    "duration": 174,
    "start_time": "2022-04-19T17:12:02.171Z"
   },
   {
    "duration": 4,
    "start_time": "2022-04-19T17:12:02.347Z"
   },
   {
    "duration": 58,
    "start_time": "2022-04-19T17:12:02.353Z"
   },
   {
    "duration": 4,
    "start_time": "2022-04-19T17:12:02.412Z"
   },
   {
    "duration": 6,
    "start_time": "2022-04-19T17:12:02.419Z"
   },
   {
    "duration": 4,
    "start_time": "2022-04-19T17:12:02.427Z"
   },
   {
    "duration": 8,
    "start_time": "2022-04-19T17:12:02.432Z"
   },
   {
    "duration": 7,
    "start_time": "2022-04-19T17:12:02.441Z"
   },
   {
    "duration": 10,
    "start_time": "2022-04-19T17:12:02.450Z"
   },
   {
    "duration": 161,
    "start_time": "2022-04-19T17:12:02.462Z"
   },
   {
    "duration": 7,
    "start_time": "2022-04-19T17:12:02.625Z"
   },
   {
    "duration": 4,
    "start_time": "2022-04-19T17:12:02.634Z"
   },
   {
    "duration": 188,
    "start_time": "2022-04-19T17:12:02.639Z"
   },
   {
    "duration": 14,
    "start_time": "2022-04-19T17:12:02.828Z"
   },
   {
    "duration": 13,
    "start_time": "2022-04-19T17:12:02.844Z"
   },
   {
    "duration": 9,
    "start_time": "2022-04-19T17:12:02.859Z"
   },
   {
    "duration": 8,
    "start_time": "2022-04-19T17:12:02.869Z"
   },
   {
    "duration": 4,
    "start_time": "2022-04-19T17:12:02.879Z"
   },
   {
    "duration": 41,
    "start_time": "2022-04-19T17:12:02.886Z"
   },
   {
    "duration": 9,
    "start_time": "2022-04-19T17:12:02.929Z"
   },
   {
    "duration": 102,
    "start_time": "2022-04-19T17:12:08.658Z"
   },
   {
    "duration": 94,
    "start_time": "2022-04-19T17:12:15.971Z"
   },
   {
    "duration": 3,
    "start_time": "2022-04-19T17:12:23.492Z"
   },
   {
    "duration": 27,
    "start_time": "2022-04-19T17:12:25.026Z"
   },
   {
    "duration": 5,
    "start_time": "2022-04-19T17:12:26.235Z"
   },
   {
    "duration": 6,
    "start_time": "2022-04-19T17:12:28.218Z"
   },
   {
    "duration": 12,
    "start_time": "2022-04-19T17:14:17.357Z"
   },
   {
    "duration": 8,
    "start_time": "2022-04-19T17:14:33.453Z"
   },
   {
    "duration": 9,
    "start_time": "2022-04-19T17:14:44.756Z"
   },
   {
    "duration": 8,
    "start_time": "2022-04-19T17:15:31.213Z"
   },
   {
    "duration": 17,
    "start_time": "2022-04-19T17:15:36.020Z"
   },
   {
    "duration": 19,
    "start_time": "2022-04-19T17:19:46.390Z"
   },
   {
    "duration": 48,
    "start_time": "2022-04-19T17:19:58.046Z"
   },
   {
    "duration": 10,
    "start_time": "2022-04-19T17:23:11.839Z"
   },
   {
    "duration": 14,
    "start_time": "2022-04-19T17:23:25.159Z"
   },
   {
    "duration": 9,
    "start_time": "2022-04-19T17:24:30.121Z"
   },
   {
    "duration": 12,
    "start_time": "2022-04-19T17:25:20.376Z"
   },
   {
    "duration": 11,
    "start_time": "2022-04-19T17:25:34.112Z"
   },
   {
    "duration": 12,
    "start_time": "2022-04-19T17:27:21.537Z"
   },
   {
    "duration": 9,
    "start_time": "2022-04-19T17:27:41.625Z"
   },
   {
    "duration": 14,
    "start_time": "2022-04-19T17:28:19.393Z"
   },
   {
    "duration": 3,
    "start_time": "2022-04-19T18:09:37.370Z"
   },
   {
    "duration": 1728,
    "start_time": "2022-04-19T18:13:10.385Z"
   },
   {
    "duration": 1808,
    "start_time": "2022-04-19T18:13:56.769Z"
   },
   {
    "duration": 11,
    "start_time": "2022-04-19T18:14:24.313Z"
   },
   {
    "duration": 6,
    "start_time": "2022-04-19T18:15:17.809Z"
   },
   {
    "duration": 9,
    "start_time": "2022-04-19T18:16:56.058Z"
   },
   {
    "duration": 13,
    "start_time": "2022-04-19T18:17:07.706Z"
   },
   {
    "duration": 20,
    "start_time": "2022-04-19T18:18:15.931Z"
   },
   {
    "duration": 12,
    "start_time": "2022-04-19T18:25:47.972Z"
   },
   {
    "duration": 11,
    "start_time": "2022-04-19T18:26:26.981Z"
   },
   {
    "duration": 12,
    "start_time": "2022-04-19T18:26:37.101Z"
   },
   {
    "duration": 12,
    "start_time": "2022-04-19T18:27:02.743Z"
   },
   {
    "duration": 12,
    "start_time": "2022-04-19T18:27:22.941Z"
   },
   {
    "duration": 12,
    "start_time": "2022-04-19T18:28:51.039Z"
   },
   {
    "duration": 82,
    "start_time": "2022-04-19T18:28:56.739Z"
   },
   {
    "duration": 21,
    "start_time": "2022-04-19T18:28:56.823Z"
   },
   {
    "duration": 18,
    "start_time": "2022-04-19T18:28:56.847Z"
   },
   {
    "duration": 8,
    "start_time": "2022-04-19T18:28:56.867Z"
   },
   {
    "duration": 4,
    "start_time": "2022-04-19T18:28:56.877Z"
   },
   {
    "duration": 178,
    "start_time": "2022-04-19T18:28:56.882Z"
   },
   {
    "duration": 4,
    "start_time": "2022-04-19T18:28:57.061Z"
   },
   {
    "duration": 7,
    "start_time": "2022-04-19T18:28:57.067Z"
   },
   {
    "duration": 4,
    "start_time": "2022-04-19T18:28:57.076Z"
   },
   {
    "duration": 5,
    "start_time": "2022-04-19T18:28:57.082Z"
   },
   {
    "duration": 4,
    "start_time": "2022-04-19T18:28:57.088Z"
   },
   {
    "duration": 36,
    "start_time": "2022-04-19T18:28:57.093Z"
   },
   {
    "duration": 16,
    "start_time": "2022-04-19T18:28:57.131Z"
   },
   {
    "duration": 6,
    "start_time": "2022-04-19T18:28:57.149Z"
   },
   {
    "duration": 149,
    "start_time": "2022-04-19T18:28:57.157Z"
   },
   {
    "duration": 19,
    "start_time": "2022-04-19T18:28:57.308Z"
   },
   {
    "duration": 34,
    "start_time": "2022-04-19T18:28:57.328Z"
   },
   {
    "duration": 3,
    "start_time": "2022-04-19T18:28:57.365Z"
   },
   {
    "duration": 172,
    "start_time": "2022-04-19T18:28:57.370Z"
   },
   {
    "duration": 14,
    "start_time": "2022-04-19T18:28:57.545Z"
   },
   {
    "duration": 12,
    "start_time": "2022-04-19T18:28:57.561Z"
   },
   {
    "duration": 7,
    "start_time": "2022-04-19T18:28:57.575Z"
   },
   {
    "duration": 40,
    "start_time": "2022-04-19T18:28:57.584Z"
   },
   {
    "duration": 8,
    "start_time": "2022-04-19T18:28:57.625Z"
   },
   {
    "duration": 11,
    "start_time": "2022-04-19T18:28:57.635Z"
   },
   {
    "duration": 8,
    "start_time": "2022-04-19T18:28:57.647Z"
   },
   {
    "duration": 4,
    "start_time": "2022-04-19T18:28:57.658Z"
   },
   {
    "duration": 72,
    "start_time": "2022-04-19T18:28:57.667Z"
   },
   {
    "duration": 5,
    "start_time": "2022-04-19T18:28:57.743Z"
   },
   {
    "duration": 12,
    "start_time": "2022-04-19T18:28:57.749Z"
   },
   {
    "duration": 62,
    "start_time": "2022-04-19T18:28:57.763Z"
   },
   {
    "duration": 20,
    "start_time": "2022-04-19T18:28:57.827Z"
   },
   {
    "duration": 19,
    "start_time": "2022-04-19T18:28:57.851Z"
   },
   {
    "duration": 11,
    "start_time": "2022-04-19T18:28:57.872Z"
   },
   {
    "duration": 42,
    "start_time": "2022-04-19T18:29:03.285Z"
   },
   {
    "duration": 50,
    "start_time": "2022-04-19T18:29:21.947Z"
   },
   {
    "duration": 13,
    "start_time": "2022-04-19T18:29:21.999Z"
   },
   {
    "duration": 17,
    "start_time": "2022-04-19T18:29:22.023Z"
   },
   {
    "duration": 15,
    "start_time": "2022-04-19T18:29:22.042Z"
   },
   {
    "duration": 8,
    "start_time": "2022-04-19T18:29:22.058Z"
   },
   {
    "duration": 240,
    "start_time": "2022-04-19T18:29:22.067Z"
   },
   {
    "duration": 6,
    "start_time": "2022-04-19T18:29:22.308Z"
   },
   {
    "duration": 14,
    "start_time": "2022-04-19T18:29:22.315Z"
   },
   {
    "duration": 18,
    "start_time": "2022-04-19T18:29:22.331Z"
   },
   {
    "duration": 5,
    "start_time": "2022-04-19T18:29:22.352Z"
   },
   {
    "duration": 4,
    "start_time": "2022-04-19T18:29:22.359Z"
   },
   {
    "duration": 6,
    "start_time": "2022-04-19T18:29:22.365Z"
   },
   {
    "duration": 8,
    "start_time": "2022-04-19T18:29:22.373Z"
   },
   {
    "duration": 7,
    "start_time": "2022-04-19T18:29:22.383Z"
   },
   {
    "duration": 245,
    "start_time": "2022-04-19T18:29:22.392Z"
   },
   {
    "duration": 8,
    "start_time": "2022-04-19T18:29:22.640Z"
   },
   {
    "duration": 23,
    "start_time": "2022-04-19T18:29:22.650Z"
   },
   {
    "duration": 4,
    "start_time": "2022-04-19T18:29:22.675Z"
   },
   {
    "duration": 269,
    "start_time": "2022-04-19T18:29:22.681Z"
   },
   {
    "duration": 12,
    "start_time": "2022-04-19T18:29:22.952Z"
   },
   {
    "duration": 11,
    "start_time": "2022-04-19T18:29:22.966Z"
   },
   {
    "duration": 9,
    "start_time": "2022-04-19T18:29:22.979Z"
   },
   {
    "duration": 40,
    "start_time": "2022-04-19T18:29:22.990Z"
   },
   {
    "duration": 15,
    "start_time": "2022-04-19T18:29:23.031Z"
   },
   {
    "duration": 8,
    "start_time": "2022-04-19T18:29:23.048Z"
   },
   {
    "duration": 10,
    "start_time": "2022-04-19T18:29:23.057Z"
   },
   {
    "duration": 4,
    "start_time": "2022-04-19T18:29:23.069Z"
   },
   {
    "duration": 30,
    "start_time": "2022-04-19T18:29:23.076Z"
   },
   {
    "duration": 24,
    "start_time": "2022-04-19T18:29:23.108Z"
   },
   {
    "duration": 12,
    "start_time": "2022-04-19T18:29:23.134Z"
   },
   {
    "duration": 32,
    "start_time": "2022-04-19T18:29:23.149Z"
   },
   {
    "duration": 15,
    "start_time": "2022-04-19T18:29:23.183Z"
   },
   {
    "duration": 41,
    "start_time": "2022-04-19T18:29:23.200Z"
   },
   {
    "duration": 15,
    "start_time": "2022-04-19T18:29:23.244Z"
   },
   {
    "duration": 127,
    "start_time": "2022-04-19T18:29:29.479Z"
   },
   {
    "duration": 4,
    "start_time": "2022-04-19T18:29:34.606Z"
   },
   {
    "duration": 4,
    "start_time": "2022-04-19T18:30:04.902Z"
   },
   {
    "duration": 11,
    "start_time": "2022-04-19T18:30:14.270Z"
   },
   {
    "duration": 108,
    "start_time": "2022-04-19T18:37:45.137Z"
   },
   {
    "duration": 4,
    "start_time": "2022-04-19T18:38:04.921Z"
   },
   {
    "duration": 3,
    "start_time": "2022-04-19T18:40:05.837Z"
   },
   {
    "duration": 3,
    "start_time": "2022-04-19T18:40:22.994Z"
   },
   {
    "duration": 4,
    "start_time": "2022-04-19T18:40:29.817Z"
   },
   {
    "duration": 3,
    "start_time": "2022-04-19T18:40:35.969Z"
   },
   {
    "duration": 24,
    "start_time": "2022-04-19T18:42:01.923Z"
   },
   {
    "duration": 19,
    "start_time": "2022-04-19T18:45:41.292Z"
   },
   {
    "duration": 3,
    "start_time": "2022-04-19T18:58:31.360Z"
   },
   {
    "duration": 5,
    "start_time": "2022-04-19T18:58:53.161Z"
   },
   {
    "duration": 3,
    "start_time": "2022-04-19T18:59:00.385Z"
   },
   {
    "duration": 4,
    "start_time": "2022-04-19T18:59:07.000Z"
   },
   {
    "duration": 9,
    "start_time": "2022-04-19T19:00:41.537Z"
   },
   {
    "duration": 5,
    "start_time": "2022-04-19T19:00:45.017Z"
   },
   {
    "duration": 3,
    "start_time": "2022-04-19T19:01:02.609Z"
   },
   {
    "duration": 11,
    "start_time": "2022-04-19T19:02:34.732Z"
   },
   {
    "duration": 4,
    "start_time": "2022-04-19T19:02:44.434Z"
   },
   {
    "duration": 9,
    "start_time": "2022-04-19T19:02:45.706Z"
   },
   {
    "duration": 15,
    "start_time": "2022-04-19T19:03:00.419Z"
   },
   {
    "duration": 20,
    "start_time": "2022-04-19T19:03:06.755Z"
   },
   {
    "duration": 6,
    "start_time": "2022-04-19T19:05:27.092Z"
   },
   {
    "duration": 10,
    "start_time": "2022-04-19T19:08:46.772Z"
   },
   {
    "duration": 14,
    "start_time": "2022-04-19T19:19:31.113Z"
   },
   {
    "duration": 19,
    "start_time": "2022-04-19T19:20:21.850Z"
   },
   {
    "duration": 15,
    "start_time": "2022-04-19T19:20:25.930Z"
   },
   {
    "duration": 160,
    "start_time": "2022-04-19T19:21:47.906Z"
   },
   {
    "duration": 7,
    "start_time": "2022-04-19T19:22:36.930Z"
   },
   {
    "duration": 14,
    "start_time": "2022-04-19T19:23:08.722Z"
   },
   {
    "duration": 193,
    "start_time": "2022-04-19T19:23:28.379Z"
   },
   {
    "duration": 11,
    "start_time": "2022-04-19T19:24:01.818Z"
   },
   {
    "duration": 6,
    "start_time": "2022-04-19T19:24:09.778Z"
   },
   {
    "duration": 11,
    "start_time": "2022-04-19T19:32:53.950Z"
   },
   {
    "duration": 13,
    "start_time": "2022-04-19T19:33:09.015Z"
   },
   {
    "duration": 13,
    "start_time": "2022-04-19T19:35:03.079Z"
   },
   {
    "duration": 11,
    "start_time": "2022-04-19T19:36:02.786Z"
   },
   {
    "duration": 13,
    "start_time": "2022-04-19T19:36:30.226Z"
   },
   {
    "duration": 12,
    "start_time": "2022-04-19T19:37:01.625Z"
   },
   {
    "duration": 12,
    "start_time": "2022-04-19T19:37:36.473Z"
   },
   {
    "duration": 12,
    "start_time": "2022-04-19T19:37:50.793Z"
   },
   {
    "duration": 12,
    "start_time": "2022-04-19T19:37:51.760Z"
   },
   {
    "duration": 11,
    "start_time": "2022-04-19T19:37:52.922Z"
   },
   {
    "duration": 11,
    "start_time": "2022-04-19T19:37:55.522Z"
   },
   {
    "duration": 12,
    "start_time": "2022-04-19T19:39:06.570Z"
   },
   {
    "duration": 85,
    "start_time": "2022-04-19T19:50:26.738Z"
   },
   {
    "duration": 16,
    "start_time": "2022-04-19T19:50:26.826Z"
   },
   {
    "duration": 15,
    "start_time": "2022-04-19T19:50:26.844Z"
   },
   {
    "duration": 11,
    "start_time": "2022-04-19T19:50:26.860Z"
   },
   {
    "duration": 4,
    "start_time": "2022-04-19T19:50:26.873Z"
   },
   {
    "duration": 214,
    "start_time": "2022-04-19T19:50:26.879Z"
   },
   {
    "duration": 5,
    "start_time": "2022-04-19T19:50:27.096Z"
   },
   {
    "duration": 22,
    "start_time": "2022-04-19T19:50:27.102Z"
   },
   {
    "duration": 4,
    "start_time": "2022-04-19T19:50:27.126Z"
   },
   {
    "duration": 12,
    "start_time": "2022-04-19T19:50:27.132Z"
   },
   {
    "duration": 5,
    "start_time": "2022-04-19T19:50:27.146Z"
   },
   {
    "duration": 10,
    "start_time": "2022-04-19T19:50:27.153Z"
   },
   {
    "duration": 16,
    "start_time": "2022-04-19T19:50:27.164Z"
   },
   {
    "duration": 4,
    "start_time": "2022-04-19T19:50:27.184Z"
   },
   {
    "duration": 192,
    "start_time": "2022-04-19T19:50:27.189Z"
   },
   {
    "duration": 5,
    "start_time": "2022-04-19T19:50:27.383Z"
   },
   {
    "duration": 34,
    "start_time": "2022-04-19T19:50:27.390Z"
   },
   {
    "duration": 3,
    "start_time": "2022-04-19T19:50:27.426Z"
   },
   {
    "duration": 192,
    "start_time": "2022-04-19T19:50:27.431Z"
   },
   {
    "duration": 14,
    "start_time": "2022-04-19T19:50:27.625Z"
   },
   {
    "duration": 16,
    "start_time": "2022-04-19T19:50:27.641Z"
   },
   {
    "duration": 7,
    "start_time": "2022-04-19T19:50:27.659Z"
   },
   {
    "duration": 7,
    "start_time": "2022-04-19T19:50:27.667Z"
   },
   {
    "duration": 4,
    "start_time": "2022-04-19T19:50:27.676Z"
   },
   {
    "duration": 7,
    "start_time": "2022-04-19T19:50:27.723Z"
   },
   {
    "duration": 7,
    "start_time": "2022-04-19T19:50:27.731Z"
   },
   {
    "duration": 3,
    "start_time": "2022-04-19T19:50:27.740Z"
   },
   {
    "duration": 39,
    "start_time": "2022-04-19T19:50:27.745Z"
   },
   {
    "duration": 40,
    "start_time": "2022-04-19T19:50:27.786Z"
   },
   {
    "duration": 10,
    "start_time": "2022-04-19T19:50:27.828Z"
   },
   {
    "duration": 34,
    "start_time": "2022-04-19T19:50:27.840Z"
   },
   {
    "duration": 49,
    "start_time": "2022-04-19T19:50:27.876Z"
   },
   {
    "duration": 13,
    "start_time": "2022-04-19T19:50:27.927Z"
   },
   {
    "duration": 15,
    "start_time": "2022-04-19T19:50:27.942Z"
   },
   {
    "duration": 4,
    "start_time": "2022-04-19T19:50:27.959Z"
   },
   {
    "duration": 14,
    "start_time": "2022-04-19T19:50:27.965Z"
   },
   {
    "duration": 44,
    "start_time": "2022-04-19T19:50:27.981Z"
   },
   {
    "duration": 4,
    "start_time": "2022-04-19T19:50:28.027Z"
   },
   {
    "duration": 19,
    "start_time": "2022-04-19T19:50:28.033Z"
   },
   {
    "duration": 18,
    "start_time": "2022-04-19T19:50:28.054Z"
   },
   {
    "duration": 3,
    "start_time": "2022-04-19T19:50:28.077Z"
   },
   {
    "duration": 58,
    "start_time": "2022-04-19T19:50:28.082Z"
   },
   {
    "duration": 9,
    "start_time": "2022-04-19T19:50:28.142Z"
   },
   {
    "duration": 130,
    "start_time": "2022-04-19T19:50:28.153Z"
   },
   {
    "duration": 4,
    "start_time": "2022-04-19T19:50:28.285Z"
   },
   {
    "duration": 16,
    "start_time": "2022-04-19T19:50:28.291Z"
   },
   {
    "duration": 19,
    "start_time": "2022-04-19T19:50:28.308Z"
   },
   {
    "duration": 17,
    "start_time": "2022-04-19T19:52:21.564Z"
   },
   {
    "duration": 112,
    "start_time": "2022-04-19T19:54:32.253Z"
   },
   {
    "duration": 181,
    "start_time": "2022-04-19T19:54:54.293Z"
   },
   {
    "duration": 13,
    "start_time": "2022-04-19T19:55:10.100Z"
   },
   {
    "duration": 7,
    "start_time": "2022-04-19T19:55:11.510Z"
   },
   {
    "duration": 123,
    "start_time": "2022-04-19T19:55:15.788Z"
   },
   {
    "duration": 115,
    "start_time": "2022-04-19T19:55:23.029Z"
   },
   {
    "duration": 163,
    "start_time": "2022-04-19T19:56:23.270Z"
   },
   {
    "duration": 174,
    "start_time": "2022-04-19T19:56:30.302Z"
   },
   {
    "duration": 126,
    "start_time": "2022-04-19T20:08:01.507Z"
   },
   {
    "duration": 17,
    "start_time": "2022-04-19T20:12:28.435Z"
   },
   {
    "duration": 367,
    "start_time": "2022-04-19T20:13:44.020Z"
   },
   {
    "duration": 273,
    "start_time": "2022-04-19T20:14:52.462Z"
   },
   {
    "duration": 279,
    "start_time": "2022-04-19T20:15:24.813Z"
   },
   {
    "duration": 260,
    "start_time": "2022-04-19T20:16:36.741Z"
   },
   {
    "duration": 396,
    "start_time": "2022-04-19T20:20:26.118Z"
   },
   {
    "duration": 326,
    "start_time": "2022-04-19T20:20:44.950Z"
   },
   {
    "duration": 6,
    "start_time": "2022-04-19T20:22:42.543Z"
   },
   {
    "duration": 334,
    "start_time": "2022-04-19T20:24:19.408Z"
   },
   {
    "duration": 344,
    "start_time": "2022-04-19T20:24:30.367Z"
   },
   {
    "duration": 277,
    "start_time": "2022-04-19T20:35:31.116Z"
   },
   {
    "duration": 267,
    "start_time": "2022-04-19T20:35:44.219Z"
   },
   {
    "duration": 264,
    "start_time": "2022-04-19T20:36:50.260Z"
   },
   {
    "duration": 293,
    "start_time": "2022-04-19T20:37:03.205Z"
   },
   {
    "duration": 309,
    "start_time": "2022-04-19T20:37:49.685Z"
   },
   {
    "duration": 108,
    "start_time": "2022-04-19T20:38:14.125Z"
   },
   {
    "duration": 557,
    "start_time": "2022-04-19T20:38:19.852Z"
   },
   {
    "duration": 551,
    "start_time": "2022-04-19T20:45:09.696Z"
   },
   {
    "duration": 27,
    "start_time": "2022-04-19T20:45:41.983Z"
   },
   {
    "duration": 29,
    "start_time": "2022-04-19T20:46:13.912Z"
   },
   {
    "duration": 260,
    "start_time": "2022-04-19T20:46:58.039Z"
   },
   {
    "duration": 242,
    "start_time": "2022-04-19T20:49:54.257Z"
   },
   {
    "duration": 279,
    "start_time": "2022-04-19T20:51:51.922Z"
   },
   {
    "duration": 272,
    "start_time": "2022-04-19T20:52:00.465Z"
   },
   {
    "duration": 313,
    "start_time": "2022-04-19T20:52:48.498Z"
   },
   {
    "duration": 309,
    "start_time": "2022-04-19T20:53:04.682Z"
   },
   {
    "duration": 7,
    "start_time": "2022-04-19T20:53:29.081Z"
   },
   {
    "duration": 259,
    "start_time": "2022-04-19T21:02:11.348Z"
   },
   {
    "duration": 272,
    "start_time": "2022-04-19T21:10:56.159Z"
   },
   {
    "duration": 307,
    "start_time": "2022-04-19T21:28:55.429Z"
   },
   {
    "duration": 357,
    "start_time": "2022-04-19T21:29:25.406Z"
   },
   {
    "duration": 337,
    "start_time": "2022-04-19T21:30:00.278Z"
   },
   {
    "duration": 325,
    "start_time": "2022-04-19T21:32:01.783Z"
   },
   {
    "duration": 307,
    "start_time": "2022-04-19T21:32:10.127Z"
   },
   {
    "duration": 314,
    "start_time": "2022-04-19T21:32:27.359Z"
   },
   {
    "duration": 403,
    "start_time": "2022-04-19T21:32:36.327Z"
   },
   {
    "duration": 432,
    "start_time": "2022-04-19T21:32:51.584Z"
   },
   {
    "duration": 302,
    "start_time": "2022-04-19T21:34:24.072Z"
   },
   {
    "duration": 275,
    "start_time": "2022-04-19T21:35:12.633Z"
   },
   {
    "duration": 284,
    "start_time": "2022-04-19T21:35:51.729Z"
   },
   {
    "duration": 271,
    "start_time": "2022-04-19T21:36:21.641Z"
   },
   {
    "duration": 269,
    "start_time": "2022-04-19T21:36:30.840Z"
   },
   {
    "duration": 275,
    "start_time": "2022-04-19T21:36:52.048Z"
   },
   {
    "duration": 317,
    "start_time": "2022-04-19T21:37:23.482Z"
   },
   {
    "duration": 314,
    "start_time": "2022-04-19T21:38:42.625Z"
   },
   {
    "duration": 277,
    "start_time": "2022-04-19T21:39:39.330Z"
   },
   {
    "duration": 665,
    "start_time": "2022-04-19T21:39:41.537Z"
   },
   {
    "duration": 330,
    "start_time": "2022-04-19T21:39:44.202Z"
   },
   {
    "duration": 295,
    "start_time": "2022-04-19T21:39:45.736Z"
   },
   {
    "duration": 325,
    "start_time": "2022-04-19T21:40:10.482Z"
   },
   {
    "duration": 291,
    "start_time": "2022-04-19T21:40:14.401Z"
   },
   {
    "duration": 270,
    "start_time": "2022-04-19T21:40:16.545Z"
   },
   {
    "duration": 382,
    "start_time": "2022-04-19T21:40:18.314Z"
   },
   {
    "duration": 37,
    "start_time": "2022-04-19T21:56:52.215Z"
   },
   {
    "duration": 12,
    "start_time": "2022-04-19T21:58:11.455Z"
   },
   {
    "duration": 249,
    "start_time": "2022-04-19T21:59:56.545Z"
   },
   {
    "duration": 306,
    "start_time": "2022-04-19T22:00:08.697Z"
   },
   {
    "duration": 271,
    "start_time": "2022-04-19T22:00:14.136Z"
   },
   {
    "duration": 305,
    "start_time": "2022-04-19T22:00:22.305Z"
   },
   {
    "duration": 8,
    "start_time": "2022-04-19T22:02:45.897Z"
   },
   {
    "duration": 1682,
    "start_time": "2022-04-19T22:03:01.497Z"
   },
   {
    "duration": 57,
    "start_time": "2022-04-19T22:03:12.256Z"
   },
   {
    "duration": 14,
    "start_time": "2022-04-19T22:03:12.314Z"
   },
   {
    "duration": 11,
    "start_time": "2022-04-19T22:03:12.330Z"
   },
   {
    "duration": 10,
    "start_time": "2022-04-19T22:03:12.343Z"
   },
   {
    "duration": 4,
    "start_time": "2022-04-19T22:03:12.355Z"
   },
   {
    "duration": 163,
    "start_time": "2022-04-19T22:03:12.360Z"
   },
   {
    "duration": 4,
    "start_time": "2022-04-19T22:03:12.525Z"
   },
   {
    "duration": 7,
    "start_time": "2022-04-19T22:03:12.531Z"
   },
   {
    "duration": 4,
    "start_time": "2022-04-19T22:03:12.539Z"
   },
   {
    "duration": 6,
    "start_time": "2022-04-19T22:03:12.545Z"
   },
   {
    "duration": 4,
    "start_time": "2022-04-19T22:03:12.552Z"
   },
   {
    "duration": 6,
    "start_time": "2022-04-19T22:03:12.557Z"
   },
   {
    "duration": 6,
    "start_time": "2022-04-19T22:03:12.565Z"
   },
   {
    "duration": 9,
    "start_time": "2022-04-19T22:03:12.572Z"
   },
   {
    "duration": 176,
    "start_time": "2022-04-19T22:03:12.582Z"
   },
   {
    "duration": 6,
    "start_time": "2022-04-19T22:03:12.759Z"
   },
   {
    "duration": 16,
    "start_time": "2022-04-19T22:03:12.766Z"
   },
   {
    "duration": 3,
    "start_time": "2022-04-19T22:03:12.783Z"
   },
   {
    "duration": 176,
    "start_time": "2022-04-19T22:03:12.787Z"
   },
   {
    "duration": 12,
    "start_time": "2022-04-19T22:03:12.965Z"
   },
   {
    "duration": 10,
    "start_time": "2022-04-19T22:03:12.979Z"
   },
   {
    "duration": 7,
    "start_time": "2022-04-19T22:03:12.990Z"
   },
   {
    "duration": 31,
    "start_time": "2022-04-19T22:03:12.998Z"
   },
   {
    "duration": 4,
    "start_time": "2022-04-19T22:03:13.030Z"
   },
   {
    "duration": 9,
    "start_time": "2022-04-19T22:03:13.035Z"
   },
   {
    "duration": 3,
    "start_time": "2022-04-19T22:03:13.046Z"
   },
   {
    "duration": 31,
    "start_time": "2022-04-19T22:03:13.050Z"
   },
   {
    "duration": 4,
    "start_time": "2022-04-19T22:03:13.084Z"
   },
   {
    "duration": 56,
    "start_time": "2022-04-19T22:03:13.089Z"
   },
   {
    "duration": 12,
    "start_time": "2022-04-19T22:03:13.147Z"
   },
   {
    "duration": 11,
    "start_time": "2022-04-19T22:03:13.161Z"
   },
   {
    "duration": 10,
    "start_time": "2022-04-19T22:03:13.174Z"
   },
   {
    "duration": 11,
    "start_time": "2022-04-19T22:03:13.186Z"
   },
   {
    "duration": 28,
    "start_time": "2022-04-19T22:03:13.198Z"
   },
   {
    "duration": 30,
    "start_time": "2022-04-19T22:03:13.228Z"
   },
   {
    "duration": 18,
    "start_time": "2022-04-19T22:03:13.260Z"
   },
   {
    "duration": 4,
    "start_time": "2022-04-19T22:03:13.280Z"
   },
   {
    "duration": 24,
    "start_time": "2022-04-19T22:03:13.285Z"
   },
   {
    "duration": 294,
    "start_time": "2022-04-19T22:03:13.311Z"
   },
   {
    "duration": 6,
    "start_time": "2022-04-19T22:03:13.607Z"
   },
   {
    "duration": 302,
    "start_time": "2022-04-19T22:03:13.615Z"
   },
   {
    "duration": 289,
    "start_time": "2022-04-19T22:03:13.924Z"
   },
   {
    "duration": 308,
    "start_time": "2022-04-19T22:03:14.215Z"
   },
   {
    "duration": 66,
    "start_time": "2022-04-19T22:08:41.912Z"
   },
   {
    "duration": 13,
    "start_time": "2022-04-19T22:08:41.980Z"
   },
   {
    "duration": 13,
    "start_time": "2022-04-19T22:08:42.023Z"
   },
   {
    "duration": 16,
    "start_time": "2022-04-19T22:08:42.038Z"
   },
   {
    "duration": 8,
    "start_time": "2022-04-19T22:08:42.056Z"
   },
   {
    "duration": 160,
    "start_time": "2022-04-19T22:08:42.066Z"
   },
   {
    "duration": 6,
    "start_time": "2022-04-19T22:08:42.228Z"
   },
   {
    "duration": 10,
    "start_time": "2022-04-19T22:08:42.236Z"
   },
   {
    "duration": 6,
    "start_time": "2022-04-19T22:08:42.248Z"
   },
   {
    "duration": 5,
    "start_time": "2022-04-19T22:08:42.258Z"
   },
   {
    "duration": 5,
    "start_time": "2022-04-19T22:08:42.264Z"
   },
   {
    "duration": 6,
    "start_time": "2022-04-19T22:08:42.271Z"
   },
   {
    "duration": 48,
    "start_time": "2022-04-19T22:08:42.278Z"
   },
   {
    "duration": 4,
    "start_time": "2022-04-19T22:08:42.328Z"
   },
   {
    "duration": 155,
    "start_time": "2022-04-19T22:08:42.334Z"
   },
   {
    "duration": 6,
    "start_time": "2022-04-19T22:08:42.490Z"
   },
   {
    "duration": 31,
    "start_time": "2022-04-19T22:08:42.497Z"
   },
   {
    "duration": 4,
    "start_time": "2022-04-19T22:08:42.530Z"
   },
   {
    "duration": 167,
    "start_time": "2022-04-19T22:08:42.536Z"
   },
   {
    "duration": 20,
    "start_time": "2022-04-19T22:08:42.705Z"
   },
   {
    "duration": 14,
    "start_time": "2022-04-19T22:08:42.727Z"
   },
   {
    "duration": 9,
    "start_time": "2022-04-19T22:08:42.743Z"
   },
   {
    "duration": 12,
    "start_time": "2022-04-19T22:08:42.754Z"
   },
   {
    "duration": 9,
    "start_time": "2022-04-19T22:08:42.768Z"
   },
   {
    "duration": 10,
    "start_time": "2022-04-19T22:08:42.779Z"
   },
   {
    "duration": 5,
    "start_time": "2022-04-19T22:08:42.791Z"
   },
   {
    "duration": 70,
    "start_time": "2022-04-19T22:08:42.797Z"
   },
   {
    "duration": 6,
    "start_time": "2022-04-19T22:08:42.871Z"
   },
   {
    "duration": 60,
    "start_time": "2022-04-19T22:08:42.878Z"
   },
   {
    "duration": 14,
    "start_time": "2022-04-19T22:08:42.940Z"
   },
   {
    "duration": 15,
    "start_time": "2022-04-19T22:08:42.955Z"
   },
   {
    "duration": 10,
    "start_time": "2022-04-19T22:08:42.971Z"
   },
   {
    "duration": 10,
    "start_time": "2022-04-19T22:08:42.982Z"
   },
   {
    "duration": 3,
    "start_time": "2022-04-19T22:08:42.994Z"
   },
   {
    "duration": 17,
    "start_time": "2022-04-19T22:08:43.024Z"
   },
   {
    "duration": 6,
    "start_time": "2022-04-19T22:08:43.043Z"
   },
   {
    "duration": 17,
    "start_time": "2022-04-19T22:08:43.051Z"
   },
   {
    "duration": 4,
    "start_time": "2022-04-19T22:08:43.070Z"
   },
   {
    "duration": 18,
    "start_time": "2022-04-19T22:08:43.075Z"
   },
   {
    "duration": 312,
    "start_time": "2022-04-19T22:08:43.095Z"
   },
   {
    "duration": 15,
    "start_time": "2022-04-19T22:08:43.409Z"
   },
   {
    "duration": 298,
    "start_time": "2022-04-19T22:08:43.426Z"
   },
   {
    "duration": 301,
    "start_time": "2022-04-19T22:08:43.725Z"
   },
   {
    "duration": 309,
    "start_time": "2022-04-19T22:08:44.028Z"
   },
   {
    "duration": 1071,
    "start_time": "2022-04-19T22:10:08.471Z"
   },
   {
    "duration": 14,
    "start_time": "2022-04-19T22:10:09.545Z"
   },
   {
    "duration": 15,
    "start_time": "2022-04-19T22:10:09.561Z"
   },
   {
    "duration": 9,
    "start_time": "2022-04-19T22:10:09.577Z"
   },
   {
    "duration": 5,
    "start_time": "2022-04-19T22:10:09.587Z"
   },
   {
    "duration": 162,
    "start_time": "2022-04-19T22:10:09.593Z"
   },
   {
    "duration": 4,
    "start_time": "2022-04-19T22:10:09.756Z"
   },
   {
    "duration": 8,
    "start_time": "2022-04-19T22:10:09.762Z"
   },
   {
    "duration": 7,
    "start_time": "2022-04-19T22:10:09.772Z"
   },
   {
    "duration": 6,
    "start_time": "2022-04-19T22:10:09.782Z"
   },
   {
    "duration": 5,
    "start_time": "2022-04-19T22:10:09.790Z"
   },
   {
    "duration": 28,
    "start_time": "2022-04-19T22:10:09.796Z"
   },
   {
    "duration": 6,
    "start_time": "2022-04-19T22:10:09.826Z"
   },
   {
    "duration": 9,
    "start_time": "2022-04-19T22:10:09.833Z"
   },
   {
    "duration": 157,
    "start_time": "2022-04-19T22:10:09.844Z"
   },
   {
    "duration": 6,
    "start_time": "2022-04-19T22:10:10.003Z"
   },
   {
    "duration": 26,
    "start_time": "2022-04-19T22:10:10.011Z"
   },
   {
    "duration": 7,
    "start_time": "2022-04-19T22:10:10.039Z"
   },
   {
    "duration": 173,
    "start_time": "2022-04-19T22:10:10.047Z"
   },
   {
    "duration": 13,
    "start_time": "2022-04-19T22:10:10.222Z"
   },
   {
    "duration": 16,
    "start_time": "2022-04-19T22:10:10.237Z"
   },
   {
    "duration": 7,
    "start_time": "2022-04-19T22:10:10.255Z"
   },
   {
    "duration": 12,
    "start_time": "2022-04-19T22:10:10.264Z"
   },
   {
    "duration": 4,
    "start_time": "2022-04-19T22:10:10.278Z"
   },
   {
    "duration": 10,
    "start_time": "2022-04-19T22:10:10.283Z"
   },
   {
    "duration": 6,
    "start_time": "2022-04-19T22:10:10.294Z"
   },
   {
    "duration": 51,
    "start_time": "2022-04-19T22:10:10.301Z"
   },
   {
    "duration": 5,
    "start_time": "2022-04-19T22:10:10.355Z"
   },
   {
    "duration": 35,
    "start_time": "2022-04-19T22:10:10.361Z"
   },
   {
    "duration": 26,
    "start_time": "2022-04-19T22:10:10.398Z"
   },
   {
    "duration": 11,
    "start_time": "2022-04-19T22:10:10.426Z"
   },
   {
    "duration": 11,
    "start_time": "2022-04-19T22:10:10.438Z"
   },
   {
    "duration": 11,
    "start_time": "2022-04-19T22:10:10.450Z"
   },
   {
    "duration": 8,
    "start_time": "2022-04-19T22:10:10.462Z"
   },
   {
    "duration": 21,
    "start_time": "2022-04-19T22:10:10.472Z"
   },
   {
    "duration": 31,
    "start_time": "2022-04-19T22:10:10.494Z"
   },
   {
    "duration": 19,
    "start_time": "2022-04-19T22:10:10.527Z"
   },
   {
    "duration": 3,
    "start_time": "2022-04-19T22:10:10.547Z"
   },
   {
    "duration": 22,
    "start_time": "2022-04-19T22:10:10.552Z"
   },
   {
    "duration": 333,
    "start_time": "2022-04-19T22:10:10.575Z"
   },
   {
    "duration": 15,
    "start_time": "2022-04-19T22:10:10.909Z"
   },
   {
    "duration": 306,
    "start_time": "2022-04-19T22:10:10.926Z"
   },
   {
    "duration": 296,
    "start_time": "2022-04-19T22:10:11.233Z"
   },
   {
    "duration": 310,
    "start_time": "2022-04-19T22:10:11.531Z"
   }
  ],
  "kernelspec": {
   "display_name": "Python 3 (ipykernel)",
   "language": "python",
   "name": "python3"
  },
  "language_info": {
   "codemirror_mode": {
    "name": "ipython",
    "version": 3
   },
   "file_extension": ".py",
   "mimetype": "text/x-python",
   "name": "python",
   "nbconvert_exporter": "python",
   "pygments_lexer": "ipython3",
   "version": "3.9.13"
  },
  "toc": {
   "base_numbering": 1,
   "nav_menu": {},
   "number_sections": true,
   "sideBar": true,
   "skip_h1_title": true,
   "title_cell": "Содержание",
   "title_sidebar": "Содержание",
   "toc_cell": true,
   "toc_position": {
    "height": "calc(100% - 180px)",
    "left": "10px",
    "top": "150px",
    "width": "289.6px"
   },
   "toc_section_display": true,
   "toc_window_display": true
  }
 },
 "nbformat": 4,
 "nbformat_minor": 5
}
